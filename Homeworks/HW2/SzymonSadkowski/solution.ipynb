{
 "cells": [
  {
   "attachments": {},
   "cell_type": "markdown",
   "metadata": {},
   "source": [
    "# Szymon Sadkowski HW 2"
   ]
  },
  {
   "attachments": {},
   "cell_type": "markdown",
   "metadata": {},
   "source": [
    "---\n",
    "\n",
    "# Task 1\n",
    "\n",
    "Data of model performance\n",
    "\n",
    "| Blue                     \t| Will use XAI \t| Will not use XAI \t| Total \t|\n",
    "|--------------------------\t|--------------\t|------------------\t|-------\t|\n",
    "| Enrolled in training     \t| 60           \t| 5               \t| 65    \t|\n",
    "| not enrolled in training \t| 20            \t| 15               \t| 35    \t|\n",
    "| Total                    \t| 80           \t| 20               \t| 100   \t|"
   ]
  },
  {
   "attachments": {},
   "cell_type": "markdown",
   "metadata": {},
   "source": [
    "### 1. Demographic parity\n",
    "\n",
    "$P( \\text{Enrolled} | color = blue) = \\frac{65}{100} = 0.65$  \n",
    "$P( \\text{Enrolled} | color = red) = \\frac{50\\%}{100\\%} = 0.5$  \n",
    "$coeff = \\frac{P( \\text{Enrolled} | color = blue)}{P( \\text{Enrolled} | color = red)} = \\dfrac{0.65}{0.5} = 1.3$\n",
    "\n",
    "In this case blue are more privilaged, as $coeff = 1.3 > 1.25$\n",
    "\n",
    "### 2. Equal Opportunity\n",
    "\n",
    "$P( \\text{Enrolled} | \\text{Will use XAI}, color = blue) = \\frac{60}{80} = 0.75$  \n",
    "$P( \\text{Enrolled} | \\text{Will use XAI}, color = red) = \\frac{25\\%}{50\\%} = 0.5$  \n",
    "$coeff = \\frac{P( \\text{Enrolled} | \\text{Will use XAI}, color = blue)}{P( \\text{Enrolled} | \\text{Will use XAI}, color = red)} = \\dfrac{0.75}{0.5} = 1.5$\n",
    "Blue have higher opportunity of getting enrolled in XAI training\n",
    "\n",
    "### 3. Predictive Rate Parity\n",
    "$P( \\text{Will need XAI} | \\text{Enrolled}, color = blue) = \\frac{60}{65} \\approx 0.92$  \n",
    "$P( \\text{Will need XAI} | \\text{Enrolled}, color = red) = \\frac{25\\%}{50\\%} = 0.5$  \n",
    "$coeff = \\frac{P( \\text{Will need XAI} | \\text{Enrolled}, color = blue)}{P( \\text{Will need XAI} | \\text{Enrolled}, color = red)} \\approx \\frac{0.92}{0.5} = 1.84$  \n",
    "Blue is priviliged in that aspect"
   ]
  },
  {
   "attachments": {},
   "cell_type": "markdown",
   "metadata": {},
   "source": [
    "---\n",
    "# Task 2"
   ]
  },
  {
   "attachments": {},
   "cell_type": "markdown",
   "metadata": {},
   "source": [
    "I Promise I'll update PR tommorow ASAP 🥺🥺🥺"
   ]
  }
 ],
 "metadata": {
  "language_info": {
   "name": "python"
  },
  "orig_nbformat": 4
 },
 "nbformat": 4,
 "nbformat_minor": 2
}
