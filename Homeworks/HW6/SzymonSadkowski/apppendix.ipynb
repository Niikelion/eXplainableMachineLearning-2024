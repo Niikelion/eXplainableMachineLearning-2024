{
  "cells": [
    {
      "cell_type": "markdown",
      "metadata": {
        "collapsed": false,
        "id": "t0uKACGTLkzb"
      },
      "source": [
        "# Appendix - HW 4 Szymon Sadkowski"
      ]
    },
    {
      "cell_type": "markdown",
      "metadata": {
        "id": "f63r8RJz9Yv5"
      },
      "source": [
        "### 0. For the selected data set, train at least one tree-based ensemble model, e.g. random forest, gbdt, xgboost."
      ]
    },
    {
      "cell_type": "code",
      "execution_count": 54,
      "metadata": {
        "id": "9kPa6fREPTA2"
      },
      "outputs": [],
      "source": [
        "SEED = 42\n",
        "TEST_SIZE = 0.2"
      ]
    },
    {
      "cell_type": "code",
      "execution_count": 55,
      "metadata": {
        "ExecuteTime": {
          "end_time": "2023-10-10T19:36:54.294987145Z",
          "start_time": "2023-10-10T19:36:54.245825654Z"
        },
        "colab": {
          "base_uri": "https://localhost:8080/"
        },
        "id": "DgC0rKWxLkzf",
        "outputId": "4b118c2c-84b5-4cb9-b9fb-54896faa0fc8"
      },
      "outputs": [
        {
          "name": "stderr",
          "output_type": "stream",
          "text": [
            "/home/szysad/.virtualenvs/XAI-py3.9/lib64/python3.9/site-packages/sklearn/datasets/_openml.py:1022: FutureWarning:\n",
            "\n",
            "The default value of `parser` will change from `'liac-arff'` to `'auto'` in 1.4. You can set `parser='auto'` to silence this warning. Therefore, an `ImportError` will be raised from 1.4 if the dataset is dense and pandas is not installed. Note that the pandas parser may return different data types. See the Notes Section in fetch_openml's API doc for details.\n",
            "\n"
          ]
        }
      ],
      "source": [
        "from sklearn.datasets import fetch_openml\n",
        "\n",
        "X, Y = fetch_openml('kc1', return_X_y=True)"
      ]
    },
    {
      "cell_type": "markdown",
      "metadata": {
        "collapsed": false,
        "id": "9rqUc2-PLkzi"
      },
      "source": [
        "## Data split and testing models."
      ]
    },
    {
      "cell_type": "code",
      "execution_count": 56,
      "metadata": {
        "ExecuteTime": {
          "end_time": "2023-10-10T19:36:55.011126318Z",
          "start_time": "2023-10-10T19:36:54.632150405Z"
        },
        "id": "ogHLeIxSLkzi"
      },
      "outputs": [],
      "source": [
        "from sklearn.preprocessing import StandardScaler\n",
        "from sklearn.ensemble import RandomForestClassifier\n",
        "from sklearn.linear_model import LogisticRegression\n",
        "from xgboost import XGBClassifier\n",
        "from sklearn.preprocessing import LabelEncoder\n",
        "from sklearn.svm import SVC\n",
        "\n",
        "\n",
        "models_dict = {\n",
        "    'logistic_regression': LogisticRegression(random_state=SEED, max_iter=1000, n_jobs=-1),\n",
        "    'random_forest': RandomForestClassifier(random_state=SEED, n_jobs=-1),\n",
        "    'xgboost': XGBClassifier(random_state=SEED, n_jobs=-1),\n",
        "    'svm': SVC(random_state=SEED, probability=True)\n",
        "}\n",
        "\n",
        "scaler_dict = {\n",
        "    'logistic_regression': StandardScaler(),\n",
        "    'random_forest': StandardScaler(),\n",
        "    'xgboost': StandardScaler(),\n",
        "    'svm': StandardScaler()\n",
        "}\n"
      ]
    },
    {
      "cell_type": "code",
      "execution_count": 57,
      "metadata": {
        "id": "bPScgDkvPTA9"
      },
      "outputs": [],
      "source": [
        "from typing import Tuple\n",
        "import numpy as np\n",
        "\n",
        "\n",
        "def prep_data(model_name, x, y) -> Tuple[np.ndarray, np.ndarray]:\n",
        "    y_trans = LabelEncoder()\n",
        "    y = y_trans.fit_transform(y)\n",
        "\n",
        "    x_trans = scaler_dict[model_name]\n",
        "    x = x_trans.fit_transform(x)\n",
        "\n",
        "    return x, y"
      ]
    },
    {
      "cell_type": "code",
      "execution_count": 58,
      "metadata": {
        "id": "8rTpXSnZPTA9"
      },
      "outputs": [],
      "source": [
        "from sklearn.model_selection import RepeatedStratifiedKFold, GridSearchCV\n",
        "\n",
        "\n",
        "\n",
        "def train_model(model_name):\n",
        "    x, y = prep_data(model_name, X, Y)\n",
        "    cv = RepeatedStratifiedKFold(n_splits=5, n_repeats=3, random_state=SEED)\n",
        "    model = models_dict[model_name]\n",
        "    grid_search = GridSearchCV(model, {}, scoring='roc_auc', cv=cv, n_jobs=-1)\n",
        "    grid_search.fit(x, y)\n",
        "    model = grid_search.best_estimator_\n",
        "    print(f\"Model: {model_name}, performance: {grid_search.best_score_}\")\n",
        "    return model\n"
      ]
    },
    {
      "cell_type": "code",
      "execution_count": 59,
      "metadata": {
        "colab": {
          "base_uri": "https://localhost:8080/"
        },
        "id": "X2k7HxVlPTA-",
        "outputId": "40f6bfba-0dc6-49fe-a3af-fb1c08ae41e3"
      },
      "outputs": [
        {
          "name": "stdout",
          "output_type": "stream",
          "text": [
            "Model: svm, performance: 0.6908670671327644\n",
            "Model: xgboost, performance: 0.7886413672616581\n",
            "Model: random_forest, performance: 0.8260059891272715\n",
            "Model: logistic_regression, performance: 0.8023506731206665\n"
          ]
        }
      ],
      "source": [
        "models = dict()\n",
        "\n",
        "for model_name in reversed(models_dict.keys()):\n",
        "    models[model_name] = train_model(model_name)"
      ]
    },
    {
      "cell_type": "markdown",
      "metadata": {
        "id": "a0h3lAJG9YwD"
      },
      "source": [
        "### 1. Calculate Permutation-based Variable Importance for the selected model."
      ]
    },
    {
      "cell_type": "code",
      "execution_count": 60,
      "metadata": {},
      "outputs": [],
      "source": [
        "def model_predict(model, data):\n",
        "    return model.predict_proba(data.to_numpy())[:, 1]"
      ]
    },
    {
      "cell_type": "code",
      "execution_count": 108,
      "metadata": {},
      "outputs": [
        {
          "name": "stdout",
          "output_type": "stream",
          "text": [
            "Preparation of a new explainer is initiated\n",
            "\n",
            "  -> data              : 2109 rows 21 cols\n",
            "  -> target variable   : Parameter 'y' was a pandas.DataFrame. Converted to a numpy.ndarray.\n",
            "  -> target variable   : 2109 values\n",
            "  -> model_class       : xgboost.sklearn.XGBClassifier (default)\n",
            "  -> label             : Not specified, model's class short name will be used. (default)\n",
            "  -> predict function  : <function yhat_proba_default at 0x7feac1e0c820> will be used (default)\n",
            "  -> predict function  : Accepts pandas.DataFrame and numpy.ndarray.\n",
            "  -> predicted values  : min = 0.000667, mean = 0.155, max = 0.997\n",
            "  -> model type        : classification will be used (default)\n",
            "  -> residual function : difference between y and yhat (default)\n",
            "  -> residuals         : min = -0.584, mean = -4.81e-05, max = 0.981\n",
            "  -> model_info        : package xgboost\n",
            "\n",
            "A new explainer has been created!\n"
          ]
        }
      ],
      "source": [
        "import dalex as dx\n",
        "import pandas as pd\n",
        "\n",
        "\n",
        "trans_x, trans_y = prep_data(\"xgboost\", X, Y)\n",
        "trans_x = pd.DataFrame(trans_x, columns=X.columns)\n",
        "trans_y = pd.DataFrame(trans_y, columns=[\"prediction\"])\n",
        "\n",
        "\n",
        "explainer = dx.Explainer(models[\"xgboost\"], trans_x, trans_y, predict_function=model_predict, label=\"xgb\")"
      ]
    },
    {
      "cell_type": "code",
      "execution_count": 62,
      "metadata": {},
      "outputs": [],
      "source": [
        "pvi = explainer.model_parts(random_state=SEED)\n"
      ]
    },
    {
      "cell_type": "code",
      "execution_count": 63,
      "metadata": {},
      "outputs": [
        {
          "data": {
            "application/vnd.plotly.v1+json": {
              "config": {
                "displaylogo": false,
                "modeBarButtonsToRemove": [
                  "sendDataToCloud",
                  "lasso2d",
                  "autoScale2d",
                  "select2d",
                  "zoom2d",
                  "pan2d",
                  "zoomIn2d",
                  "zoomOut2d",
                  "resetScale2d",
                  "toggleSpikelines",
                  "hoverCompareCartesian",
                  "hoverClosestCartesian"
                ],
                "plotlyServerURL": "https://plot.ly",
                "staticPlot": false,
                "toImageButtonOptions": {
                  "height": null,
                  "width": null
                }
              },
              "data": [
                {
                  "base": 0.009089608851739017,
                  "hoverinfo": "text",
                  "hoverlabel": {
                    "bgcolor": "rgba(0,0,0,0.8)"
                  },
                  "hovertext": [
                    "Model: xgb loss after<br>variable: lOCode is permuted: 0.051<br>Drop-out loss change: +0.042",
                    "Model: xgb loss after<br>variable: loc is permuted: 0.046<br>Drop-out loss change: +0.037",
                    "Model: xgb loss after<br>variable: i is permuted: 0.027<br>Drop-out loss change: +0.018",
                    "Model: xgb loss after<br>variable: v(g) is permuted: 0.018<br>Drop-out loss change: +0.009",
                    "Model: xgb loss after<br>variable: uniq_Opnd is permuted: 0.016<br>Drop-out loss change: +0.007",
                    "Model: xgb loss after<br>variable: n is permuted: 0.016<br>Drop-out loss change: +0.007",
                    "Model: xgb loss after<br>variable: l is permuted: 0.015<br>Drop-out loss change: +0.006",
                    "Model: xgb loss after<br>variable: total_Opnd is permuted: 0.014<br>Drop-out loss change: +0.005",
                    "Model: xgb loss after<br>variable: v is permuted: 0.013<br>Drop-out loss change: +0.004",
                    "Model: xgb loss after<br>variable: lOBlank is permuted: 0.013<br>Drop-out loss change: +0.004"
                  ],
                  "marker": {
                    "color": "#46bac2"
                  },
                  "orientation": "h",
                  "showlegend": false,
                  "text": [
                    "+0.042",
                    "+0.037",
                    "+0.018",
                    "+0.009",
                    "+0.007",
                    "+0.007",
                    "+0.006",
                    "+0.005",
                    "+0.004",
                    "+0.004"
                  ],
                  "textposition": "outside",
                  "type": "bar",
                  "x": [
                    0.04226604766274772,
                    0.036618175853430655,
                    0.018023442544822632,
                    0.008790545238984692,
                    0.007049126828888587,
                    0.006721608014691351,
                    0.006020867675813569,
                    0.004675880331334771,
                    0.004294959643570618,
                    0.004144903236586084
                  ],
                  "xaxis": "x",
                  "y": [
                    "lOCode",
                    "loc",
                    "i",
                    "v(g)",
                    "uniq_Opnd",
                    "n",
                    "l",
                    "total_Opnd",
                    "v",
                    "lOBlank"
                  ],
                  "yaxis": "y"
                }
              ],
              "layout": {
                "annotations": [
                  {
                    "font": {
                      "size": 16
                    },
                    "showarrow": false,
                    "text": "xgb",
                    "x": 0.5,
                    "xanchor": "center",
                    "xref": "paper",
                    "y": 1,
                    "yanchor": "bottom",
                    "yref": "paper"
                  },
                  {
                    "font": {
                      "size": 16
                    },
                    "showarrow": false,
                    "text": "drop-out loss",
                    "x": 0.5,
                    "xanchor": "center",
                    "xref": "paper",
                    "y": 0,
                    "yanchor": "top",
                    "yref": "paper",
                    "yshift": -30
                  }
                ],
                "font": {
                  "color": "#371ea3"
                },
                "height": 383,
                "margin": {
                  "b": 71,
                  "r": 30,
                  "t": 78
                },
                "shapes": [
                  {
                    "line": {
                      "color": "#371ea3",
                      "dash": "dot",
                      "width": 1.5
                    },
                    "type": "line",
                    "x0": 0.009089608851739017,
                    "x1": 0.009089608851739017,
                    "xref": "x",
                    "y0": -1,
                    "y1": 10,
                    "yref": "y"
                  }
                ],
                "template": {
                  "data": {
                    "scatter": [
                      {
                        "type": "scatter"
                      }
                    ]
                  }
                },
                "title": {
                  "text": "Variable Importance",
                  "x": 0.15
                },
                "xaxis": {
                  "anchor": "y",
                  "automargin": true,
                  "domain": [
                    0,
                    1
                  ],
                  "fixedrange": true,
                  "gridwidth": 2,
                  "range": [
                    0.001102032884660262,
                    0.05791047698794236
                  ],
                  "tickcolor": "white",
                  "ticklen": 3,
                  "ticks": "outside",
                  "type": "linear",
                  "zeroline": false
                },
                "yaxis": {
                  "anchor": "x",
                  "automargin": true,
                  "autorange": "reversed",
                  "domain": [
                    0,
                    1
                  ],
                  "fixedrange": true,
                  "gridwidth": 2,
                  "tickcolor": "white",
                  "ticklen": 10,
                  "ticks": "outside",
                  "type": "category"
                }
              }
            }
          },
          "metadata": {},
          "output_type": "display_data"
        }
      ],
      "source": [
        "pvi.plot()\n"
      ]
    },
    {
      "cell_type": "markdown",
      "metadata": {},
      "source": [
        "### 2. Train three more candidate models (different variable transformations, different model architectures, hyperparameters) and compare their rankings of important features using PVI. What are the differences? Why?"
      ]
    },
    {
      "cell_type": "code",
      "execution_count": 103,
      "metadata": {},
      "outputs": [
        {
          "name": "stdout",
          "output_type": "stream",
          "text": [
            "Preparation of a new explainer is initiated\n",
            "\n",
            "  -> data              : 2109 rows 21 cols\n",
            "  -> target variable   : Parameter 'y' was a pandas.DataFrame. Converted to a numpy.ndarray.\n",
            "  -> target variable   : 2109 values\n",
            "  -> model_class       : sklearn.svm._classes.SVC (default)\n",
            "  -> label             : svm\n",
            "  -> predict function  : <function model_predict at 0x7feac2b861f0> will be used\n",
            "  -> predict function  : Accepts only pandas.DataFrame, numpy.ndarray causes problems.\n",
            "  -> predicted values  : min = 0.0259, mean = 0.155, max = 0.962\n",
            "  -> model type        : classification will be used (default)\n",
            "  -> residual function : difference between y and yhat (default)\n",
            "  -> residuals         : min = -0.877, mean = -0.000517, max = 0.943\n",
            "  -> model_info        : package sklearn\n",
            "\n",
            "A new explainer has been created!\n",
            "Preparation of a new explainer is initiated\n",
            "\n",
            "  -> data              : 2109 rows 21 cols\n",
            "  -> target variable   : Parameter 'y' was a pandas.DataFrame. Converted to a numpy.ndarray.\n",
            "  -> target variable   : 2109 values\n",
            "  -> model_class       : sklearn.ensemble._forest.RandomForestClassifier (default)\n",
            "  -> label             : random_forest\n",
            "  -> predict function  : <function model_predict at 0x7feac2b861f0> will be used\n",
            "  -> predict function  : Accepts only pandas.DataFrame, numpy.ndarray causes problems.\n",
            "  -> predicted values  : min = 0.0, mean = 0.152, max = 0.99\n",
            "  -> model type        : classification will be used (default)\n",
            "  -> residual function : difference between y and yhat (default)\n",
            "  -> residuals         : min = -0.658, mean = 0.00232, max = 0.971\n",
            "  -> model_info        : package sklearn\n",
            "\n",
            "A new explainer has been created!\n",
            "Preparation of a new explainer is initiated\n",
            "\n",
            "  -> data              : 2109 rows 21 cols\n",
            "  -> target variable   : Parameter 'y' was a pandas.DataFrame. Converted to a numpy.ndarray.\n",
            "  -> target variable   : 2109 values\n",
            "  -> model_class       : sklearn.linear_model._logistic.LogisticRegression (default)\n",
            "  -> label             : logistic_regression\n",
            "  -> predict function  : <function model_predict at 0x7feac2b861f0> will be used\n",
            "  -> predict function  : Accepts only pandas.DataFrame, numpy.ndarray causes problems.\n",
            "  -> predicted values  : min = 0.00345, mean = 0.155, max = 0.988\n",
            "  -> model type        : classification will be used (default)\n",
            "  -> residual function : difference between y and yhat (default)\n",
            "  -> residuals         : min = -0.828, mean = 1.73e-06, max = 0.979\n",
            "  -> model_info        : package sklearn\n",
            "\n",
            "A new explainer has been created!\n"
          ]
        }
      ],
      "source": [
        "explainers = dict()\n",
        "\n",
        "explainers[\"xgboost\"] = explainer\n",
        "\n",
        "for model_name, model in models.items():\n",
        "    if model_name == \"xgboost\":\n",
        "        continue\n",
        "    explainers[model_name] = dx.Explainer(model, trans_x, trans_y, predict_function=model_predict, label=model_name)"
      ]
    },
    {
      "cell_type": "code",
      "execution_count": 65,
      "metadata": {},
      "outputs": [
        {
          "data": {
            "application/vnd.plotly.v1+json": {
              "config": {
                "displaylogo": false,
                "modeBarButtonsToRemove": [
                  "sendDataToCloud",
                  "lasso2d",
                  "autoScale2d",
                  "select2d",
                  "zoom2d",
                  "pan2d",
                  "zoomIn2d",
                  "zoomOut2d",
                  "resetScale2d",
                  "toggleSpikelines",
                  "hoverCompareCartesian",
                  "hoverClosestCartesian"
                ],
                "plotlyServerURL": "https://plot.ly",
                "staticPlot": false,
                "toImageButtonOptions": {
                  "height": null,
                  "width": null
                }
              },
              "data": [
                {
                  "base": 0.2706171922510101,
                  "hoverinfo": "text",
                  "hoverlabel": {
                    "bgcolor": "rgba(0,0,0,0.8)"
                  },
                  "hovertext": [
                    "Model: svm loss after<br>variable: iv(g) is permuted: 0.309<br>Drop-out loss change: +0.039",
                    "Model: svm loss after<br>variable: b is permuted: 0.308<br>Drop-out loss change: +0.037",
                    "Model: svm loss after<br>variable: lOCode is permuted: 0.305<br>Drop-out loss change: +0.035",
                    "Model: svm loss after<br>variable: branchCount is permuted: 0.301<br>Drop-out loss change: +0.03",
                    "Model: svm loss after<br>variable: total_Opnd is permuted: 0.298<br>Drop-out loss change: +0.028",
                    "Model: svm loss after<br>variable: d is permuted: 0.294<br>Drop-out loss change: +0.023",
                    "Model: svm loss after<br>variable: lOBlank is permuted: 0.293<br>Drop-out loss change: +0.023",
                    "Model: svm loss after<br>variable: lOComment is permuted: 0.29<br>Drop-out loss change: +0.02",
                    "Model: svm loss after<br>variable: uniq_Opnd is permuted: 0.29<br>Drop-out loss change: +0.019",
                    "Model: svm loss after<br>variable: e is permuted: 0.285<br>Drop-out loss change: +0.015"
                  ],
                  "marker": {
                    "color": "#46bac2"
                  },
                  "orientation": "h",
                  "showlegend": false,
                  "text": [
                    "+0.039",
                    "+0.037",
                    "+0.035",
                    "+0.03",
                    "+0.028",
                    "+0.023",
                    "+0.023",
                    "+0.02",
                    "+0.019",
                    "+0.015"
                  ],
                  "textposition": "outside",
                  "type": "bar",
                  "x": [
                    0.038838497205696876,
                    0.03749422882697162,
                    0.034680501937401464,
                    0.030293084370245638,
                    0.027753190794228,
                    0.023059888858760647,
                    0.022790338720764247,
                    0.019538824020222,
                    0.019493778386031557,
                    0.014766690911190206
                  ],
                  "xaxis": "x",
                  "y": [
                    "iv(g)",
                    "b",
                    "lOCode",
                    "branchCount",
                    "total_Opnd",
                    "d",
                    "lOBlank",
                    "lOComment",
                    "uniq_Opnd",
                    "e"
                  ],
                  "yaxis": "y"
                }
              ],
              "layout": {
                "annotations": [
                  {
                    "font": {
                      "size": 16
                    },
                    "showarrow": false,
                    "text": "svm",
                    "x": 0.5,
                    "xanchor": "center",
                    "xref": "paper",
                    "y": 1,
                    "yanchor": "bottom",
                    "yref": "paper"
                  },
                  {
                    "font": {
                      "size": 16
                    },
                    "showarrow": false,
                    "text": "drop-out loss",
                    "x": 0.5,
                    "xanchor": "center",
                    "xref": "paper",
                    "y": 0,
                    "yanchor": "top",
                    "yref": "paper",
                    "yshift": -30
                  }
                ],
                "font": {
                  "color": "#371ea3"
                },
                "height": 383,
                "margin": {
                  "b": 71,
                  "r": 30,
                  "t": 78
                },
                "shapes": [
                  {
                    "line": {
                      "color": "#371ea3",
                      "dash": "dot",
                      "width": 1.5
                    },
                    "type": "line",
                    "x0": 0.2706171922510101,
                    "x1": 0.2706171922510101,
                    "xref": "x",
                    "y0": -1,
                    "y1": 10,
                    "yref": "y"
                  }
                ],
                "template": {
                  "data": {
                    "scatter": [
                      {
                        "type": "scatter"
                      }
                    ]
                  }
                },
                "title": {
                  "text": "Variable Importance",
                  "x": 0.15
                },
                "xaxis": {
                  "anchor": "y",
                  "automargin": true,
                  "domain": [
                    0,
                    1
                  ],
                  "fixedrange": true,
                  "gridwidth": 2,
                  "range": [
                    0.21043514200607275,
                    0.3223714130372245
                  ],
                  "tickcolor": "white",
                  "ticklen": 3,
                  "ticks": "outside",
                  "type": "linear",
                  "zeroline": false
                },
                "yaxis": {
                  "anchor": "x",
                  "automargin": true,
                  "autorange": "reversed",
                  "domain": [
                    0,
                    1
                  ],
                  "fixedrange": true,
                  "gridwidth": 2,
                  "tickcolor": "white",
                  "ticklen": 10,
                  "ticks": "outside",
                  "type": "category"
                }
              }
            }
          },
          "metadata": {},
          "output_type": "display_data"
        },
        {
          "data": {
            "application/vnd.plotly.v1+json": {
              "config": {
                "displaylogo": false,
                "modeBarButtonsToRemove": [
                  "sendDataToCloud",
                  "lasso2d",
                  "autoScale2d",
                  "select2d",
                  "zoom2d",
                  "pan2d",
                  "zoomIn2d",
                  "zoomOut2d",
                  "resetScale2d",
                  "toggleSpikelines",
                  "hoverCompareCartesian",
                  "hoverClosestCartesian"
                ],
                "plotlyServerURL": "https://plot.ly",
                "staticPlot": false,
                "toImageButtonOptions": {
                  "height": null,
                  "width": null
                }
              },
              "data": [
                {
                  "base": 0.010339719118992318,
                  "hoverinfo": "text",
                  "hoverlabel": {
                    "bgcolor": "rgba(0,0,0,0.8)"
                  },
                  "hovertext": [
                    "Model: random_forest loss after<br>variable: loc is permuted: 0.039<br>Drop-out loss change: +0.029",
                    "Model: random_forest loss after<br>variable: lOCode is permuted: 0.029<br>Drop-out loss change: +0.018",
                    "Model: random_forest loss after<br>variable: v is permuted: 0.023<br>Drop-out loss change: +0.013",
                    "Model: random_forest loss after<br>variable: i is permuted: 0.023<br>Drop-out loss change: +0.013",
                    "Model: random_forest loss after<br>variable: t is permuted: 0.022<br>Drop-out loss change: +0.012",
                    "Model: random_forest loss after<br>variable: uniq_Opnd is permuted: 0.022<br>Drop-out loss change: +0.011",
                    "Model: random_forest loss after<br>variable: total_Opnd is permuted: 0.021<br>Drop-out loss change: +0.011",
                    "Model: random_forest loss after<br>variable: n is permuted: 0.02<br>Drop-out loss change: +0.01",
                    "Model: random_forest loss after<br>variable: e is permuted: 0.02<br>Drop-out loss change: +0.01",
                    "Model: random_forest loss after<br>variable: l is permuted: 0.019<br>Drop-out loss change: +0.009"
                  ],
                  "marker": {
                    "color": "#46bac2"
                  },
                  "orientation": "h",
                  "showlegend": false,
                  "text": [
                    "+0.029",
                    "+0.018",
                    "+0.013",
                    "+0.013",
                    "+0.012",
                    "+0.011",
                    "+0.011",
                    "+0.01",
                    "+0.01",
                    "+0.009"
                  ],
                  "textposition": "outside",
                  "type": "bar",
                  "x": [
                    0.02886364312811799,
                    0.018360839811645248,
                    0.01299223196978093,
                    0.012603933650381106,
                    0.011881711546533868,
                    0.011291164516961162,
                    0.01115411262120579,
                    0.00969640381361041,
                    0.009679839423156233,
                    0.008986255999158631
                  ],
                  "xaxis": "x",
                  "y": [
                    "loc",
                    "lOCode",
                    "v",
                    "i",
                    "t",
                    "uniq_Opnd",
                    "total_Opnd",
                    "n",
                    "e",
                    "l"
                  ],
                  "yaxis": "y"
                }
              ],
              "layout": {
                "annotations": [
                  {
                    "font": {
                      "size": 16
                    },
                    "showarrow": false,
                    "text": "random_forest",
                    "x": 0.5,
                    "xanchor": "center",
                    "xref": "paper",
                    "y": 1,
                    "yanchor": "bottom",
                    "yref": "paper"
                  },
                  {
                    "font": {
                      "size": 16
                    },
                    "showarrow": false,
                    "text": "drop-out loss",
                    "x": 0.5,
                    "xanchor": "center",
                    "xref": "paper",
                    "y": 0,
                    "yanchor": "top",
                    "yref": "paper",
                    "yshift": -30
                  }
                ],
                "font": {
                  "color": "#371ea3"
                },
                "height": 383,
                "margin": {
                  "b": 71,
                  "r": 30,
                  "t": 78
                },
                "shapes": [
                  {
                    "line": {
                      "color": "#371ea3",
                      "dash": "dot",
                      "width": 1.5
                    },
                    "type": "line",
                    "x0": 0.010339719118992318,
                    "x1": 0.010339719118992318,
                    "xref": "x",
                    "y0": -1,
                    "y1": 10,
                    "yref": "y"
                  }
                ],
                "template": {
                  "data": {
                    "scatter": [
                      {
                        "type": "scatter"
                      }
                    ]
                  }
                },
                "title": {
                  "text": "Variable Importance",
                  "x": 0.15
                },
                "xaxis": {
                  "anchor": "y",
                  "automargin": true,
                  "domain": [
                    0,
                    1
                  ],
                  "fixedrange": true,
                  "gridwidth": 2,
                  "range": [
                    0.00601017264977462,
                    0.043532908716328006
                  ],
                  "tickcolor": "white",
                  "ticklen": 3,
                  "ticks": "outside",
                  "type": "linear",
                  "zeroline": false
                },
                "yaxis": {
                  "anchor": "x",
                  "automargin": true,
                  "autorange": "reversed",
                  "domain": [
                    0,
                    1
                  ],
                  "fixedrange": true,
                  "gridwidth": 2,
                  "tickcolor": "white",
                  "ticklen": 10,
                  "ticks": "outside",
                  "type": "category"
                }
              }
            }
          },
          "metadata": {},
          "output_type": "display_data"
        },
        {
          "data": {
            "application/vnd.plotly.v1+json": {
              "config": {
                "displaylogo": false,
                "modeBarButtonsToRemove": [
                  "sendDataToCloud",
                  "lasso2d",
                  "autoScale2d",
                  "select2d",
                  "zoom2d",
                  "pan2d",
                  "zoomIn2d",
                  "zoomOut2d",
                  "resetScale2d",
                  "toggleSpikelines",
                  "hoverCompareCartesian",
                  "hoverClosestCartesian"
                ],
                "plotlyServerURL": "https://plot.ly",
                "staticPlot": false,
                "toImageButtonOptions": {
                  "height": null,
                  "width": null
                }
              },
              "data": [
                {
                  "base": 0.18796826166955194,
                  "hoverinfo": "text",
                  "hoverlabel": {
                    "bgcolor": "rgba(0,0,0,0.8)"
                  },
                  "hovertext": [
                    "Model: logistic_regression loss after<br>variable: d is permuted: 0.37<br>Drop-out loss change: +0.182",
                    "Model: logistic_regression loss after<br>variable: iv(g) is permuted: 0.271<br>Drop-out loss change: +0.083",
                    "Model: logistic_regression loss after<br>variable: i is permuted: 0.264<br>Drop-out loss change: +0.076",
                    "Model: logistic_regression loss after<br>variable: total_Opnd is permuted: 0.25<br>Drop-out loss change: +0.062",
                    "Model: logistic_regression loss after<br>variable: loc is permuted: 0.25<br>Drop-out loss change: +0.062",
                    "Model: logistic_regression loss after<br>variable: b is permuted: 0.248<br>Drop-out loss change: +0.06",
                    "Model: logistic_regression loss after<br>variable: v(g) is permuted: 0.224<br>Drop-out loss change: +0.036",
                    "Model: logistic_regression loss after<br>variable: total_Op is permuted: 0.219<br>Drop-out loss change: +0.031",
                    "Model: logistic_regression loss after<br>variable: lOCode is permuted: 0.213<br>Drop-out loss change: +0.025",
                    "Model: logistic_regression loss after<br>variable: locCodeAndComment is permuted: 0.205<br>Drop-out loss change: +0.017"
                  ],
                  "marker": {
                    "color": "#46bac2"
                  },
                  "orientation": "h",
                  "showlegend": false,
                  "text": [
                    "+0.182",
                    "+0.083",
                    "+0.076",
                    "+0.062",
                    "+0.062",
                    "+0.06",
                    "+0.036",
                    "+0.031",
                    "+0.025",
                    "+0.017"
                  ],
                  "textposition": "outside",
                  "type": "bar",
                  "x": [
                    0.1822656802850342,
                    0.08334070390018272,
                    0.07567736680548143,
                    0.06225245457977263,
                    0.06160061140825998,
                    0.059993158414124614,
                    0.03560782270137475,
                    0.031396008185577834,
                    0.02547196757189782,
                    0.017345361872750154
                  ],
                  "xaxis": "x",
                  "y": [
                    "d",
                    "iv(g)",
                    "i",
                    "total_Opnd",
                    "loc",
                    "b",
                    "v(g)",
                    "total_Op",
                    "lOCode",
                    "locCodeAndComment"
                  ],
                  "yaxis": "y"
                }
              ],
              "layout": {
                "annotations": [
                  {
                    "font": {
                      "size": 16
                    },
                    "showarrow": false,
                    "text": "logistic_regression",
                    "x": 0.5,
                    "xanchor": "center",
                    "xref": "paper",
                    "y": 1,
                    "yanchor": "bottom",
                    "yref": "paper"
                  },
                  {
                    "font": {
                      "size": 16
                    },
                    "showarrow": false,
                    "text": "drop-out loss",
                    "x": 0.5,
                    "xanchor": "center",
                    "xref": "paper",
                    "y": 0,
                    "yanchor": "top",
                    "yref": "paper",
                    "yshift": -30
                  }
                ],
                "font": {
                  "color": "#371ea3"
                },
                "height": 383,
                "margin": {
                  "b": 71,
                  "r": 30,
                  "t": 78
                },
                "shapes": [
                  {
                    "line": {
                      "color": "#371ea3",
                      "dash": "dot",
                      "width": 1.5
                    },
                    "type": "line",
                    "x0": 0.18796826166955194,
                    "x1": 0.18796826166955194,
                    "xref": "x",
                    "y0": -1,
                    "y1": 10,
                    "yref": "y"
                  }
                ],
                "template": {
                  "data": {
                    "scatter": [
                      {
                        "type": "scatter"
                      }
                    ]
                  }
                },
                "title": {
                  "text": "Variable Importance",
                  "x": 0.15
                },
                "xaxis": {
                  "anchor": "y",
                  "automargin": true,
                  "domain": [
                    0,
                    1
                  ],
                  "fixedrange": true,
                  "gridwidth": 2,
                  "range": [
                    0.160551402057517,
                    0.3975838384628995
                  ],
                  "tickcolor": "white",
                  "ticklen": 3,
                  "ticks": "outside",
                  "type": "linear",
                  "zeroline": false
                },
                "yaxis": {
                  "anchor": "x",
                  "automargin": true,
                  "autorange": "reversed",
                  "domain": [
                    0,
                    1
                  ],
                  "fixedrange": true,
                  "gridwidth": 2,
                  "tickcolor": "white",
                  "ticklen": 10,
                  "ticks": "outside",
                  "type": "category"
                }
              }
            }
          },
          "metadata": {},
          "output_type": "display_data"
        }
      ],
      "source": [
        "for exp in explainers.values():\n",
        "    pvi = exp.model_parts(random_state=SEED)\n",
        "    pvi.plot()"
      ]
    },
    {
      "cell_type": "markdown",
      "metadata": {},
      "source": [
        "### 3. For the tree-based model from (1), compare PVI with: "
      ]
    },
    {
      "cell_type": "markdown",
      "metadata": {},
      "source": [
        "##### A) the traditional feature importance measures for trees: Gini impurity etc.; what is implemented in a given library: see e.g. the `feature_importances_` attribute in `xgboost` and `sklearn`."
      ]
    },
    {
      "cell_type": "code",
      "execution_count": 102,
      "metadata": {},
      "outputs": [
        {
          "data": {
            "image/png": "[encoded data removed]",
            "text/plain": [
              "<Figure size 1000x1000 with 1 Axes>"
            ]
          },
          "metadata": {},
          "output_type": "display_data"
        }
      ],
      "source": [
        "import matplotlib.pyplot as plt\n",
        "\n",
        "\n",
        "fig, ax = plt.subplots(figsize=(10,10))\n",
        "bars = ax.barh(X.columns, models[\"xgboost\"].feature_importances_)\n",
        "ax.bar_label(bars, fmt='{:,.3f}')\n",
        "plt.show()\n"
      ]
    },
    {
      "cell_type": "markdown",
      "metadata": {},
      "source": [
        "##### B) [in Python] SHAP variable importance based on the TreeSHAP algorithm available in the `shap` package. "
      ]
    },
    {
      "cell_type": "code",
      "execution_count": 114,
      "metadata": {},
      "outputs": [
        {
          "name": "stdout",
          "output_type": "stream",
          "text": [
            "Preparation of a new explainer is initiated\n",
            "\n",
            "  -> data              : 2109 rows 21 cols\n",
            "  -> target variable   : Parameter 'y' was a pandas.DataFrame. Converted to a numpy.ndarray.\n",
            "  -> target variable   : 2109 values\n",
            "  -> model_class       : xgboost.sklearn.XGBClassifier (default)\n",
            "  -> label             : xgb\n",
            "  -> predict function  : <function yhat_proba_default at 0x7feac1e0c820> will be used (default)\n",
            "  -> predict function  : Accepts pandas.DataFrame and numpy.ndarray.\n",
            "  -> predicted values  : min = 0.000667, mean = 0.155, max = 0.997\n",
            "  -> model type        : classification will be used (default)\n",
            "  -> residual function : difference between y and yhat (default)\n",
            "  -> residuals         : min = -0.584, mean = -4.81e-05, max = 0.981\n",
            "  -> model_info        : package xgboost\n",
            "\n",
            "A new explainer has been created!\n"
          ]
        },
        {
          "name": "stderr",
          "output_type": "stream",
          "text": [
            "[20:07:37] WARNING: /workspace/src/c_api/c_api.cc:1240: Saving into deprecated binary model format, please consider using `json` or `ubj`. Model format will default to JSON in XGBoost 2.2 if not specified.\n"
          ]
        }
      ],
      "source": [
        "xgb_explainer = dx.Explainer(models[\"xgboost\"], trans_x, trans_y, label=\"xgb\")  # recreate without predict function\n",
        "shap_vi = xgb_explainer.model_parts(type=\"shap_wrapper\", shap_explainer_type=\"TreeExplainer\")\n"
      ]
    },
    {
      "cell_type": "code",
      "execution_count": 115,
      "metadata": {},
      "outputs": [
        {
          "data": {
            "image/png": "[encoded data removed]",
            "text/plain": [
              "<Figure size 800x950 with 2 Axes>"
            ]
          },
          "metadata": {},
          "output_type": "display_data"
        }
      ],
      "source": [
        "shap_vi.plot()"
      ]
    }
  ],
  "metadata": {
    "colab": {
      "provenance": []
    },
    "kernelspec": {
      "display_name": "Python 3",
      "language": "python",
      "name": "python3"
    },
    "language_info": {
      "codemirror_mode": {
        "name": "ipython",
        "version": 3
      },
      "file_extension": ".py",
      "mimetype": "text/x-python",
      "name": "python",
      "nbconvert_exporter": "python",
      "pygments_lexer": "ipython3",
      "version": "3.9.16"
    }
  },
  "nbformat": 4,
  "nbformat_minor": 0
}
