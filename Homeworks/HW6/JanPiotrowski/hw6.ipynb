{
 "cells": [
  {
   "cell_type": "markdown",
   "metadata": {},
   "source": [
    "# Homework 6\n",
    "Jan Piotrowski"
   ]
  },
  {
   "cell_type": "markdown",
   "metadata": {},
   "source": [
    "## Dataset\n",
    "We will use SpeedDating imbalanced dataset with the following features:\n",
    "- **pref_o_attractive**: How important does the partner rate attractiveness\n",
    "- **pref_o_sincere**: How important does the partner rate sincerity\n",
    "- **pref_o_intelligence**: How important does the partner rate intelligence\n",
    "- **pref_o_funny**: How important does the partner rate being funny\n",
    "- **pref_o_ambitious**: How important does the partner rate ambition\n",
    "- **pref_o_shared_interests**: How important does the partner rate having shared interests\n",
    "- **attractive_o**: Rating by the partner (about me) at the night of the event on attractiveness\n",
    "- **intelligence_o**: Rating by the partner (about me) at the night of the event on intelligence\n",
    "- **funny_o**: Rating by the partner (about me) at the night of the event on being funny\n",
    "- **shared_interests_o**: Rating by the partner (about me) at the night of the event on shared interest\n",
    "- **attractive_important**: What do you look for in a partner - attractiveness\n",
    "- **sincere_important**: What do you look for in a partner - sincerity\n",
    "- **intellicence_important**: What do you look for in a partner - intelligence\n",
    "- **funny_important**: What do you look for in a partner - being funny\n",
    "- **ambtition_important**: What do you look for in a partner - ambition\n",
    "- **shared_interests_important**: What do you look for in a partner - shared interests\n",
    "- **interests_correlate**: Correlation between participant’s and partner’s ratings of interests.\n",
    "- **like**: Did you like your partner?\n",
    "- **TARGET**: Match or not."
   ]
  },
  {
   "cell_type": "markdown",
   "metadata": {},
   "source": [
    "## Task 1\n",
    "We selected `sklearn.ensemble.RandomForestClassifier` to analysis. The trained model on split training-test size 3:1 obtain following results on test set:\n",
    "| Model                   | Recall    | Precision | F1       | Accuracy | AUC      |\n",
    "|-------------------------|-----------|-----------|----------|----------|----------|\n",
    "| RandomForestClassifier  | 0.261538  | 0.586207  | 0.361702 | 0.82659  | 0.783438 |\n",
    "\n",
    "The results for permutation-based variable importance obtained with `dalex` package are following:\n",
    "\n",
    "![variable importance](vi.png)\n"
   ]
  },
  {
   "cell_type": "markdown",
   "metadata": {},
   "source": [
    "It is evident that the `like` feature holds significant importance, as indicated by a remarkable 50% increase in drop-out loss. Among the top five most crucial features, we find: `attractive_o`, `shared_interests_o`, `funny_o`, and `interests_correlate`. This leads us to the conclusion that individuals tend to evaluate their willingness to meet others again based on these specific features. However, adopting a Rashomon perspective, it becomes necessary to explore other models from this class with comparable performance on this dataset."
   ]
  },
  {
   "cell_type": "markdown",
   "metadata": {},
   "source": [
    "## Task 2\n",
    "In table below we can see similar models with different hyperparameters. The first model was trained with default parameters that are following: `n_estimators=100, max_depth=None`.\n",
    "| Model                  | Recall           | Precision        | F1               | Accuracy         | AUC              |\n",
    "|------------------------|------------------|------------------|------------------|------------------|------------------|\n",
    "| RF (Default)           | 0.261538         | 0.586207         | 0.361702         | 0.82659          | 0.783438         |\n",
    "| RF max_depth=3         | 0.076923         | 0.555556         | 0.135135         | 0.815029         | 0.757624         |\n",
    "| RF n_estimators=20     | 0.246154         | 0.551724         | 0.340426         | 0.820809         | 0.776184         |\n",
    "| RF n_estimators=200    | 0.2              | 0.541667         | 0.292135         | 0.817919         | 0.787873         |\n",
    "\n",
    "Below we can see theirs permutation-based variable importance:\n",
    "\n",
    "![variable importance2](vi_max_depth_3.png)\n",
    "![variable importance2](vi_n_20.png)\n",
    "![variable importance2](vi_n_200.png)\n"
   ]
  },
  {
   "cell_type": "markdown",
   "metadata": {},
   "source": [
    "The significance of both like and attractive_o remains consistent, showing no change. However, the positions and scores of other variables in the ranking vary across different plots. This discrepancy suggests that like and attractive_o are genuinely important, at least for the RandomForestClassifier class. The variability in the rankings of other features indicates a dependency on how the random forest constructs its model."
   ]
  },
  {
   "cell_type": "markdown",
   "metadata": {},
   "source": [
    "# Task 3\n",
    "\n",
    "Gini impurity feature importances can be seen on plot below.\n",
    "\n",
    "![mdi](mdi.png)\n",
    "\n",
    "The features `like` and `attractive_o` continue to hold the utmost importance. Notably, `shared_interest_o` now shares the same importance level as `attractive_o`, a departure from its consistently lower ranking in all permutation-based variable importance results. Could this discrepancy be attributed to a deficiency in gini impurity? A comparative analysis with SHAP results may provide valuable insights."
   ]
  },
  {
   "cell_type": "markdown",
   "metadata": {},
   "source": [
    "The results for SHAP variable importance can be seen on plot below.\n",
    "\n",
    "![shap](shap.png)"
   ]
  },
  {
   "cell_type": "markdown",
   "metadata": {},
   "source": [
    "While `like` maintains its lead, it's noteworthy that `shared_interests_o` exhibits a gini impurity as high as `attractive_o`. This creates a discrepancy with permutation-based variable importance methods. Which approach is correct? It's uncertain; perhaps they all offer valid insights. However, this divergence in perspectives is reminiscent of the Rashomon movie, where different viewpoints reveal distinct truths."
   ]
  },
  {
   "cell_type": "markdown",
   "metadata": {},
   "source": [
    "# Appendix"
   ]
  },
  {
   "cell_type": "code",
   "execution_count": 33,
   "metadata": {},
   "outputs": [],
   "source": [
    "import dalex as dx\n",
    "import shap\n",
    "\n",
    "import random\n",
    "import numpy as np\n",
    "import pandas as pd\n",
    "import seaborn as sns\n",
    "from matplotlib import pyplot as plt\n",
    "import requests\n",
    "\n",
    "from sklearn.ensemble import RandomForestClassifier\n",
    "from sklearn.metrics import accuracy_score, f1_score\n",
    "from sklearn.model_selection import train_test_split\n"
   ]
  },
  {
   "cell_type": "code",
   "execution_count": 5,
   "metadata": {},
   "outputs": [
    {
     "data": {
      "text/html": [
       "<div>\n",
       "<style scoped>\n",
       "    .dataframe tbody tr th:only-of-type {\n",
       "        vertical-align: middle;\n",
       "    }\n",
       "\n",
       "    .dataframe tbody tr th {\n",
       "        vertical-align: top;\n",
       "    }\n",
       "\n",
       "    .dataframe thead th {\n",
       "        text-align: right;\n",
       "    }\n",
       "</style>\n",
       "<table border=\"1\" class=\"dataframe\">\n",
       "  <thead>\n",
       "    <tr style=\"text-align: right;\">\n",
       "      <th></th>\n",
       "      <th>pref_o_attractive</th>\n",
       "      <th>pref_o_sincere</th>\n",
       "      <th>pref_o_intelligence</th>\n",
       "      <th>pref_o_funny</th>\n",
       "      <th>pref_o_ambitious</th>\n",
       "      <th>pref_o_shared_interests</th>\n",
       "      <th>attractive_o</th>\n",
       "      <th>intelligence_o</th>\n",
       "      <th>funny_o</th>\n",
       "      <th>shared_interests_o</th>\n",
       "      <th>attractive_important</th>\n",
       "      <th>sincere_important</th>\n",
       "      <th>intellicence_important</th>\n",
       "      <th>funny_important</th>\n",
       "      <th>ambtition_important</th>\n",
       "      <th>shared_interests_important</th>\n",
       "      <th>interests_correlate</th>\n",
       "      <th>like</th>\n",
       "      <th>TARGET</th>\n",
       "    </tr>\n",
       "  </thead>\n",
       "  <tbody>\n",
       "    <tr>\n",
       "      <th>0</th>\n",
       "      <td>35.0</td>\n",
       "      <td>20.0</td>\n",
       "      <td>20.0</td>\n",
       "      <td>20.0</td>\n",
       "      <td>0.0</td>\n",
       "      <td>5.0</td>\n",
       "      <td>6.0</td>\n",
       "      <td>8.0</td>\n",
       "      <td>8.0</td>\n",
       "      <td>6.0</td>\n",
       "      <td>15.0</td>\n",
       "      <td>20.0</td>\n",
       "      <td>20.0</td>\n",
       "      <td>15.0</td>\n",
       "      <td>15.0</td>\n",
       "      <td>15.0</td>\n",
       "      <td>0.14</td>\n",
       "      <td>7.0</td>\n",
       "      <td>0</td>\n",
       "    </tr>\n",
       "    <tr>\n",
       "      <th>1</th>\n",
       "      <td>60.0</td>\n",
       "      <td>0.0</td>\n",
       "      <td>0.0</td>\n",
       "      <td>40.0</td>\n",
       "      <td>0.0</td>\n",
       "      <td>0.0</td>\n",
       "      <td>7.0</td>\n",
       "      <td>10.0</td>\n",
       "      <td>7.0</td>\n",
       "      <td>5.0</td>\n",
       "      <td>15.0</td>\n",
       "      <td>20.0</td>\n",
       "      <td>20.0</td>\n",
       "      <td>15.0</td>\n",
       "      <td>15.0</td>\n",
       "      <td>15.0</td>\n",
       "      <td>0.54</td>\n",
       "      <td>7.0</td>\n",
       "      <td>0</td>\n",
       "    </tr>\n",
       "    <tr>\n",
       "      <th>3</th>\n",
       "      <td>30.0</td>\n",
       "      <td>5.0</td>\n",
       "      <td>15.0</td>\n",
       "      <td>40.0</td>\n",
       "      <td>5.0</td>\n",
       "      <td>5.0</td>\n",
       "      <td>7.0</td>\n",
       "      <td>9.0</td>\n",
       "      <td>8.0</td>\n",
       "      <td>8.0</td>\n",
       "      <td>15.0</td>\n",
       "      <td>20.0</td>\n",
       "      <td>20.0</td>\n",
       "      <td>15.0</td>\n",
       "      <td>15.0</td>\n",
       "      <td>15.0</td>\n",
       "      <td>0.61</td>\n",
       "      <td>7.0</td>\n",
       "      <td>1</td>\n",
       "    </tr>\n",
       "    <tr>\n",
       "      <th>4</th>\n",
       "      <td>30.0</td>\n",
       "      <td>10.0</td>\n",
       "      <td>20.0</td>\n",
       "      <td>10.0</td>\n",
       "      <td>10.0</td>\n",
       "      <td>20.0</td>\n",
       "      <td>8.0</td>\n",
       "      <td>9.0</td>\n",
       "      <td>6.0</td>\n",
       "      <td>7.0</td>\n",
       "      <td>15.0</td>\n",
       "      <td>20.0</td>\n",
       "      <td>20.0</td>\n",
       "      <td>15.0</td>\n",
       "      <td>15.0</td>\n",
       "      <td>15.0</td>\n",
       "      <td>0.21</td>\n",
       "      <td>6.0</td>\n",
       "      <td>1</td>\n",
       "    </tr>\n",
       "    <tr>\n",
       "      <th>5</th>\n",
       "      <td>50.0</td>\n",
       "      <td>0.0</td>\n",
       "      <td>30.0</td>\n",
       "      <td>10.0</td>\n",
       "      <td>0.0</td>\n",
       "      <td>10.0</td>\n",
       "      <td>7.0</td>\n",
       "      <td>8.0</td>\n",
       "      <td>8.0</td>\n",
       "      <td>7.0</td>\n",
       "      <td>15.0</td>\n",
       "      <td>20.0</td>\n",
       "      <td>20.0</td>\n",
       "      <td>15.0</td>\n",
       "      <td>15.0</td>\n",
       "      <td>15.0</td>\n",
       "      <td>0.25</td>\n",
       "      <td>6.0</td>\n",
       "      <td>0</td>\n",
       "    </tr>\n",
       "    <tr>\n",
       "      <th>...</th>\n",
       "      <td>...</td>\n",
       "      <td>...</td>\n",
       "      <td>...</td>\n",
       "      <td>...</td>\n",
       "      <td>...</td>\n",
       "      <td>...</td>\n",
       "      <td>...</td>\n",
       "      <td>...</td>\n",
       "      <td>...</td>\n",
       "      <td>...</td>\n",
       "      <td>...</td>\n",
       "      <td>...</td>\n",
       "      <td>...</td>\n",
       "      <td>...</td>\n",
       "      <td>...</td>\n",
       "      <td>...</td>\n",
       "      <td>...</td>\n",
       "      <td>...</td>\n",
       "      <td>...</td>\n",
       "    </tr>\n",
       "    <tr>\n",
       "      <th>1836</th>\n",
       "      <td>15.0</td>\n",
       "      <td>15.0</td>\n",
       "      <td>20.0</td>\n",
       "      <td>25.0</td>\n",
       "      <td>10.0</td>\n",
       "      <td>15.0</td>\n",
       "      <td>2.0</td>\n",
       "      <td>6.0</td>\n",
       "      <td>2.0</td>\n",
       "      <td>1.0</td>\n",
       "      <td>25.0</td>\n",
       "      <td>10.0</td>\n",
       "      <td>20.0</td>\n",
       "      <td>20.0</td>\n",
       "      <td>10.0</td>\n",
       "      <td>15.0</td>\n",
       "      <td>0.35</td>\n",
       "      <td>5.0</td>\n",
       "      <td>0</td>\n",
       "    </tr>\n",
       "    <tr>\n",
       "      <th>1837</th>\n",
       "      <td>15.0</td>\n",
       "      <td>15.0</td>\n",
       "      <td>25.0</td>\n",
       "      <td>25.0</td>\n",
       "      <td>15.0</td>\n",
       "      <td>5.0</td>\n",
       "      <td>4.0</td>\n",
       "      <td>8.0</td>\n",
       "      <td>3.0</td>\n",
       "      <td>2.0</td>\n",
       "      <td>25.0</td>\n",
       "      <td>10.0</td>\n",
       "      <td>20.0</td>\n",
       "      <td>20.0</td>\n",
       "      <td>10.0</td>\n",
       "      <td>15.0</td>\n",
       "      <td>0.45</td>\n",
       "      <td>5.0</td>\n",
       "      <td>0</td>\n",
       "    </tr>\n",
       "    <tr>\n",
       "      <th>1838</th>\n",
       "      <td>20.0</td>\n",
       "      <td>20.0</td>\n",
       "      <td>20.0</td>\n",
       "      <td>20.0</td>\n",
       "      <td>10.0</td>\n",
       "      <td>10.0</td>\n",
       "      <td>5.0</td>\n",
       "      <td>4.0</td>\n",
       "      <td>5.0</td>\n",
       "      <td>3.0</td>\n",
       "      <td>25.0</td>\n",
       "      <td>10.0</td>\n",
       "      <td>20.0</td>\n",
       "      <td>20.0</td>\n",
       "      <td>10.0</td>\n",
       "      <td>15.0</td>\n",
       "      <td>0.13</td>\n",
       "      <td>5.0</td>\n",
       "      <td>0</td>\n",
       "    </tr>\n",
       "    <tr>\n",
       "      <th>1840</th>\n",
       "      <td>15.0</td>\n",
       "      <td>15.0</td>\n",
       "      <td>25.0</td>\n",
       "      <td>25.0</td>\n",
       "      <td>20.0</td>\n",
       "      <td>0.0</td>\n",
       "      <td>4.0</td>\n",
       "      <td>7.0</td>\n",
       "      <td>3.0</td>\n",
       "      <td>0.0</td>\n",
       "      <td>25.0</td>\n",
       "      <td>10.0</td>\n",
       "      <td>20.0</td>\n",
       "      <td>20.0</td>\n",
       "      <td>10.0</td>\n",
       "      <td>15.0</td>\n",
       "      <td>0.54</td>\n",
       "      <td>5.0</td>\n",
       "      <td>0</td>\n",
       "    </tr>\n",
       "    <tr>\n",
       "      <th>1843</th>\n",
       "      <td>10.0</td>\n",
       "      <td>10.0</td>\n",
       "      <td>35.0</td>\n",
       "      <td>35.0</td>\n",
       "      <td>8.0</td>\n",
       "      <td>2.0</td>\n",
       "      <td>7.0</td>\n",
       "      <td>6.0</td>\n",
       "      <td>5.0</td>\n",
       "      <td>2.0</td>\n",
       "      <td>25.0</td>\n",
       "      <td>10.0</td>\n",
       "      <td>20.0</td>\n",
       "      <td>20.0</td>\n",
       "      <td>10.0</td>\n",
       "      <td>15.0</td>\n",
       "      <td>0.54</td>\n",
       "      <td>5.0</td>\n",
       "      <td>0</td>\n",
       "    </tr>\n",
       "  </tbody>\n",
       "</table>\n",
       "<p>1048 rows × 19 columns</p>\n",
       "</div>"
      ],
      "text/plain": [
       "      pref_o_attractive  pref_o_sincere  pref_o_intelligence  pref_o_funny  \\\n",
       "0                  35.0            20.0                 20.0          20.0   \n",
       "1                  60.0             0.0                  0.0          40.0   \n",
       "3                  30.0             5.0                 15.0          40.0   \n",
       "4                  30.0            10.0                 20.0          10.0   \n",
       "5                  50.0             0.0                 30.0          10.0   \n",
       "...                 ...             ...                  ...           ...   \n",
       "1836               15.0            15.0                 20.0          25.0   \n",
       "1837               15.0            15.0                 25.0          25.0   \n",
       "1838               20.0            20.0                 20.0          20.0   \n",
       "1840               15.0            15.0                 25.0          25.0   \n",
       "1843               10.0            10.0                 35.0          35.0   \n",
       "\n",
       "      pref_o_ambitious  pref_o_shared_interests  attractive_o  intelligence_o  \\\n",
       "0                  0.0                      5.0           6.0             8.0   \n",
       "1                  0.0                      0.0           7.0            10.0   \n",
       "3                  5.0                      5.0           7.0             9.0   \n",
       "4                 10.0                     20.0           8.0             9.0   \n",
       "5                  0.0                     10.0           7.0             8.0   \n",
       "...                ...                      ...           ...             ...   \n",
       "1836              10.0                     15.0           2.0             6.0   \n",
       "1837              15.0                      5.0           4.0             8.0   \n",
       "1838              10.0                     10.0           5.0             4.0   \n",
       "1840              20.0                      0.0           4.0             7.0   \n",
       "1843               8.0                      2.0           7.0             6.0   \n",
       "\n",
       "      funny_o  shared_interests_o  attractive_important  sincere_important  \\\n",
       "0         8.0                 6.0                  15.0               20.0   \n",
       "1         7.0                 5.0                  15.0               20.0   \n",
       "3         8.0                 8.0                  15.0               20.0   \n",
       "4         6.0                 7.0                  15.0               20.0   \n",
       "5         8.0                 7.0                  15.0               20.0   \n",
       "...       ...                 ...                   ...                ...   \n",
       "1836      2.0                 1.0                  25.0               10.0   \n",
       "1837      3.0                 2.0                  25.0               10.0   \n",
       "1838      5.0                 3.0                  25.0               10.0   \n",
       "1840      3.0                 0.0                  25.0               10.0   \n",
       "1843      5.0                 2.0                  25.0               10.0   \n",
       "\n",
       "      intellicence_important  funny_important  ambtition_important  \\\n",
       "0                       20.0             15.0                 15.0   \n",
       "1                       20.0             15.0                 15.0   \n",
       "3                       20.0             15.0                 15.0   \n",
       "4                       20.0             15.0                 15.0   \n",
       "5                       20.0             15.0                 15.0   \n",
       "...                      ...              ...                  ...   \n",
       "1836                    20.0             20.0                 10.0   \n",
       "1837                    20.0             20.0                 10.0   \n",
       "1838                    20.0             20.0                 10.0   \n",
       "1840                    20.0             20.0                 10.0   \n",
       "1843                    20.0             20.0                 10.0   \n",
       "\n",
       "      shared_interests_important  interests_correlate  like  TARGET  \n",
       "0                           15.0                 0.14   7.0       0  \n",
       "1                           15.0                 0.54   7.0       0  \n",
       "3                           15.0                 0.61   7.0       1  \n",
       "4                           15.0                 0.21   6.0       1  \n",
       "5                           15.0                 0.25   6.0       0  \n",
       "...                          ...                  ...   ...     ...  \n",
       "1836                        15.0                 0.35   5.0       0  \n",
       "1837                        15.0                 0.45   5.0       0  \n",
       "1838                        15.0                 0.13   5.0       0  \n",
       "1840                        15.0                 0.54   5.0       0  \n",
       "1843                        15.0                 0.54   5.0       0  \n",
       "\n",
       "[1048 rows x 19 columns]"
      ]
     },
     "execution_count": 5,
     "metadata": {},
     "output_type": "execute_result"
    }
   ],
   "source": [
    "url = 'https://raw.githubusercontent.com/adrianstando/imbalanced-benchmarking-set/main/datasets/SpeedDating.csv'\n",
    "response = requests.get(url)\n",
    "if response.status_code == 200:\n",
    "    with open('SpeedDating.csv', 'wb') as f:\n",
    "        f.write(response.content)\n",
    "else:\n",
    "    print(f\"Failed to download the file. Status code: {response.status_code}\")\n",
    "    \n",
    "path = \"SpeedDating.csv\"\n",
    "# first column is the index\n",
    "df = pd.read_csv(path, index_col=0)\n",
    "df"
   ]
  },
  {
   "cell_type": "code",
   "execution_count": 13,
   "metadata": {},
   "outputs": [
    {
     "data": {
      "text/html": [
       "<style>#sk-container-id-3 {color: black;}#sk-container-id-3 pre{padding: 0;}#sk-container-id-3 div.sk-toggleable {background-color: white;}#sk-container-id-3 label.sk-toggleable__label {cursor: pointer;display: block;width: 100%;margin-bottom: 0;padding: 0.3em;box-sizing: border-box;text-align: center;}#sk-container-id-3 label.sk-toggleable__label-arrow:before {content: \"▸\";float: left;margin-right: 0.25em;color: #696969;}#sk-container-id-3 label.sk-toggleable__label-arrow:hover:before {color: black;}#sk-container-id-3 div.sk-estimator:hover label.sk-toggleable__label-arrow:before {color: black;}#sk-container-id-3 div.sk-toggleable__content {max-height: 0;max-width: 0;overflow: hidden;text-align: left;background-color: #f0f8ff;}#sk-container-id-3 div.sk-toggleable__content pre {margin: 0.2em;color: black;border-radius: 0.25em;background-color: #f0f8ff;}#sk-container-id-3 input.sk-toggleable__control:checked~div.sk-toggleable__content {max-height: 200px;max-width: 100%;overflow: auto;}#sk-container-id-3 input.sk-toggleable__control:checked~label.sk-toggleable__label-arrow:before {content: \"▾\";}#sk-container-id-3 div.sk-estimator input.sk-toggleable__control:checked~label.sk-toggleable__label {background-color: #d4ebff;}#sk-container-id-3 div.sk-label input.sk-toggleable__control:checked~label.sk-toggleable__label {background-color: #d4ebff;}#sk-container-id-3 input.sk-hidden--visually {border: 0;clip: rect(1px 1px 1px 1px);clip: rect(1px, 1px, 1px, 1px);height: 1px;margin: -1px;overflow: hidden;padding: 0;position: absolute;width: 1px;}#sk-container-id-3 div.sk-estimator {font-family: monospace;background-color: #f0f8ff;border: 1px dotted black;border-radius: 0.25em;box-sizing: border-box;margin-bottom: 0.5em;}#sk-container-id-3 div.sk-estimator:hover {background-color: #d4ebff;}#sk-container-id-3 div.sk-parallel-item::after {content: \"\";width: 100%;border-bottom: 1px solid gray;flex-grow: 1;}#sk-container-id-3 div.sk-label:hover label.sk-toggleable__label {background-color: #d4ebff;}#sk-container-id-3 div.sk-serial::before {content: \"\";position: absolute;border-left: 1px solid gray;box-sizing: border-box;top: 0;bottom: 0;left: 50%;z-index: 0;}#sk-container-id-3 div.sk-serial {display: flex;flex-direction: column;align-items: center;background-color: white;padding-right: 0.2em;padding-left: 0.2em;position: relative;}#sk-container-id-3 div.sk-item {position: relative;z-index: 1;}#sk-container-id-3 div.sk-parallel {display: flex;align-items: stretch;justify-content: center;background-color: white;position: relative;}#sk-container-id-3 div.sk-item::before, #sk-container-id-3 div.sk-parallel-item::before {content: \"\";position: absolute;border-left: 1px solid gray;box-sizing: border-box;top: 0;bottom: 0;left: 50%;z-index: -1;}#sk-container-id-3 div.sk-parallel-item {display: flex;flex-direction: column;z-index: 1;position: relative;background-color: white;}#sk-container-id-3 div.sk-parallel-item:first-child::after {align-self: flex-end;width: 50%;}#sk-container-id-3 div.sk-parallel-item:last-child::after {align-self: flex-start;width: 50%;}#sk-container-id-3 div.sk-parallel-item:only-child::after {width: 0;}#sk-container-id-3 div.sk-dashed-wrapped {border: 1px dashed gray;margin: 0 0.4em 0.5em 0.4em;box-sizing: border-box;padding-bottom: 0.4em;background-color: white;}#sk-container-id-3 div.sk-label label {font-family: monospace;font-weight: bold;display: inline-block;line-height: 1.2em;}#sk-container-id-3 div.sk-label-container {text-align: center;}#sk-container-id-3 div.sk-container {/* jupyter's `normalize.less` sets `[hidden] { display: none; }` but bootstrap.min.css set `[hidden] { display: none !important; }` so we also need the `!important` here to be able to override the default hidden behavior on the sphinx rendered scikit-learn.org. See: https://github.com/scikit-learn/scikit-learn/issues/21755 */display: inline-block !important;position: relative;}#sk-container-id-3 div.sk-text-repr-fallback {display: none;}</style><div id=\"sk-container-id-3\" class=\"sk-top-container\"><div class=\"sk-text-repr-fallback\"><pre>RandomForestClassifier()</pre><b>In a Jupyter environment, please rerun this cell to show the HTML representation or trust the notebook. <br />On GitHub, the HTML representation is unable to render, please try loading this page with nbviewer.org.</b></div><div class=\"sk-container\" hidden><div class=\"sk-item\"><div class=\"sk-estimator sk-toggleable\"><input class=\"sk-toggleable__control sk-hidden--visually\" id=\"sk-estimator-id-3\" type=\"checkbox\" checked><label for=\"sk-estimator-id-3\" class=\"sk-toggleable__label sk-toggleable__label-arrow\">RandomForestClassifier</label><div class=\"sk-toggleable__content\"><pre>RandomForestClassifier()</pre></div></div></div></div></div>"
      ],
      "text/plain": [
       "RandomForestClassifier()"
      ]
     },
     "execution_count": 13,
     "metadata": {},
     "output_type": "execute_result"
    }
   ],
   "source": [
    "# Split the data into features and target variable\n",
    "X = df.drop('TARGET', axis=1)\n",
    "y = df['TARGET']\n",
    "X_train, X_test, y_train, y_test = train_test_split(X, y, test_size=0.33, random_state=42)\n",
    "\n",
    "# Create an instance of the RandomForestClassifier\n",
    "rf = RandomForestClassifier()\n",
    "\n",
    "# Fit the model to the training data\n",
    "rf.fit(X_train, y_train)"
   ]
  },
  {
   "cell_type": "code",
   "execution_count": 15,
   "metadata": {},
   "outputs": [
    {
     "name": "stdout",
     "output_type": "stream",
     "text": [
      "Preparation of a new explainer is initiated\n",
      "\n",
      "  -> data              : 346 rows 18 cols\n",
      "  -> target variable   : Parameter 'y' was a pandas.Series. Converted to a numpy.ndarray.\n",
      "  -> target variable   : 346 values\n",
      "  -> model_class       : sklearn.ensemble._forest.RandomForestClassifier (default)\n",
      "  -> label             : Not specified, model's class short name will be used. (default)\n",
      "  -> predict function  : <function yhat_proba_default at 0x7fe689960b80> will be used (default)\n",
      "  -> predict function  : Accepts pandas.DataFrame and numpy.ndarray.\n",
      "  -> predicted values  : min = 0.0, mean = 0.179, max = 0.94\n",
      "  -> model type        : classification will be used (default)\n",
      "  -> residual function : difference between y and yhat (default)\n",
      "  -> residuals         : min = -0.75, mean = 0.0087, max = 0.98\n",
      "  -> model_info        : package sklearn\n",
      "\n",
      "A new explainer has been created!\n"
     ]
    },
    {
     "name": "stderr",
     "output_type": "stream",
     "text": [
      "/home/janek/.local/lib/python3.10/site-packages/sklearn/base.py:465: UserWarning: X does not have valid feature names, but RandomForestClassifier was fitted with feature names\n",
      "  warnings.warn(\n"
     ]
    }
   ],
   "source": [
    "explainer = dx.Explainer(rf, X_test, y_test)"
   ]
  },
  {
   "cell_type": "code",
   "execution_count": 16,
   "metadata": {},
   "outputs": [
    {
     "data": {
      "text/html": [
       "<div>\n",
       "<style scoped>\n",
       "    .dataframe tbody tr th:only-of-type {\n",
       "        vertical-align: middle;\n",
       "    }\n",
       "\n",
       "    .dataframe tbody tr th {\n",
       "        vertical-align: top;\n",
       "    }\n",
       "\n",
       "    .dataframe thead th {\n",
       "        text-align: right;\n",
       "    }\n",
       "</style>\n",
       "<table border=\"1\" class=\"dataframe\">\n",
       "  <thead>\n",
       "    <tr style=\"text-align: right;\">\n",
       "      <th></th>\n",
       "      <th>recall</th>\n",
       "      <th>precision</th>\n",
       "      <th>f1</th>\n",
       "      <th>accuracy</th>\n",
       "      <th>auc</th>\n",
       "    </tr>\n",
       "  </thead>\n",
       "  <tbody>\n",
       "    <tr>\n",
       "      <th>RandomForestClassifier</th>\n",
       "      <td>0.261538</td>\n",
       "      <td>0.586207</td>\n",
       "      <td>0.361702</td>\n",
       "      <td>0.82659</td>\n",
       "      <td>0.783438</td>\n",
       "    </tr>\n",
       "  </tbody>\n",
       "</table>\n",
       "</div>"
      ],
      "text/plain": [
       "<dalex.model_explanations._model_performance.object.ModelPerformance at 0x7fe66de6ada0>"
      ]
     },
     "execution_count": 16,
     "metadata": {},
     "output_type": "execute_result"
    }
   ],
   "source": [
    "explainer.model_performance()"
   ]
  },
  {
   "cell_type": "code",
   "execution_count": 17,
   "metadata": {},
   "outputs": [
    {
     "data": {
      "text/html": [
       "<div>\n",
       "<style scoped>\n",
       "    .dataframe tbody tr th:only-of-type {\n",
       "        vertical-align: middle;\n",
       "    }\n",
       "\n",
       "    .dataframe tbody tr th {\n",
       "        vertical-align: top;\n",
       "    }\n",
       "\n",
       "    .dataframe thead th {\n",
       "        text-align: right;\n",
       "    }\n",
       "</style>\n",
       "<table border=\"1\" class=\"dataframe\">\n",
       "  <thead>\n",
       "    <tr style=\"text-align: right;\">\n",
       "      <th></th>\n",
       "      <th>variable</th>\n",
       "      <th>dropout_loss</th>\n",
       "      <th>label</th>\n",
       "    </tr>\n",
       "  </thead>\n",
       "  <tbody>\n",
       "    <tr>\n",
       "      <th>0</th>\n",
       "      <td>intellicence_important</td>\n",
       "      <td>0.210079</td>\n",
       "      <td>RandomForestClassifier</td>\n",
       "    </tr>\n",
       "    <tr>\n",
       "      <th>1</th>\n",
       "      <td>pref_o_sincere</td>\n",
       "      <td>0.210495</td>\n",
       "      <td>RandomForestClassifier</td>\n",
       "    </tr>\n",
       "    <tr>\n",
       "      <th>2</th>\n",
       "      <td>sincere_important</td>\n",
       "      <td>0.212505</td>\n",
       "      <td>RandomForestClassifier</td>\n",
       "    </tr>\n",
       "    <tr>\n",
       "      <th>3</th>\n",
       "      <td>pref_o_ambitious</td>\n",
       "      <td>0.212623</td>\n",
       "      <td>RandomForestClassifier</td>\n",
       "    </tr>\n",
       "    <tr>\n",
       "      <th>4</th>\n",
       "      <td>ambtition_important</td>\n",
       "      <td>0.215456</td>\n",
       "      <td>RandomForestClassifier</td>\n",
       "    </tr>\n",
       "    <tr>\n",
       "      <th>5</th>\n",
       "      <td>_full_model_</td>\n",
       "      <td>0.216562</td>\n",
       "      <td>RandomForestClassifier</td>\n",
       "    </tr>\n",
       "    <tr>\n",
       "      <th>6</th>\n",
       "      <td>funny_important</td>\n",
       "      <td>0.222179</td>\n",
       "      <td>RandomForestClassifier</td>\n",
       "    </tr>\n",
       "    <tr>\n",
       "      <th>7</th>\n",
       "      <td>pref_o_intelligence</td>\n",
       "      <td>0.223490</td>\n",
       "      <td>RandomForestClassifier</td>\n",
       "    </tr>\n",
       "    <tr>\n",
       "      <th>8</th>\n",
       "      <td>pref_o_attractive</td>\n",
       "      <td>0.223731</td>\n",
       "      <td>RandomForestClassifier</td>\n",
       "    </tr>\n",
       "    <tr>\n",
       "      <th>9</th>\n",
       "      <td>pref_o_funny</td>\n",
       "      <td>0.224265</td>\n",
       "      <td>RandomForestClassifier</td>\n",
       "    </tr>\n",
       "    <tr>\n",
       "      <th>10</th>\n",
       "      <td>shared_interests_important</td>\n",
       "      <td>0.224476</td>\n",
       "      <td>RandomForestClassifier</td>\n",
       "    </tr>\n",
       "    <tr>\n",
       "      <th>11</th>\n",
       "      <td>intelligence_o</td>\n",
       "      <td>0.224651</td>\n",
       "      <td>RandomForestClassifier</td>\n",
       "    </tr>\n",
       "    <tr>\n",
       "      <th>12</th>\n",
       "      <td>pref_o_shared_interests</td>\n",
       "      <td>0.225875</td>\n",
       "      <td>RandomForestClassifier</td>\n",
       "    </tr>\n",
       "    <tr>\n",
       "      <th>13</th>\n",
       "      <td>attractive_important</td>\n",
       "      <td>0.228004</td>\n",
       "      <td>RandomForestClassifier</td>\n",
       "    </tr>\n",
       "    <tr>\n",
       "      <th>14</th>\n",
       "      <td>interests_correlate</td>\n",
       "      <td>0.235981</td>\n",
       "      <td>RandomForestClassifier</td>\n",
       "    </tr>\n",
       "    <tr>\n",
       "      <th>15</th>\n",
       "      <td>funny_o</td>\n",
       "      <td>0.236288</td>\n",
       "      <td>RandomForestClassifier</td>\n",
       "    </tr>\n",
       "    <tr>\n",
       "      <th>16</th>\n",
       "      <td>shared_interests_o</td>\n",
       "      <td>0.236666</td>\n",
       "      <td>RandomForestClassifier</td>\n",
       "    </tr>\n",
       "    <tr>\n",
       "      <th>17</th>\n",
       "      <td>attractive_o</td>\n",
       "      <td>0.252965</td>\n",
       "      <td>RandomForestClassifier</td>\n",
       "    </tr>\n",
       "    <tr>\n",
       "      <th>18</th>\n",
       "      <td>like</td>\n",
       "      <td>0.311147</td>\n",
       "      <td>RandomForestClassifier</td>\n",
       "    </tr>\n",
       "    <tr>\n",
       "      <th>19</th>\n",
       "      <td>_baseline_</td>\n",
       "      <td>0.505250</td>\n",
       "      <td>RandomForestClassifier</td>\n",
       "    </tr>\n",
       "  </tbody>\n",
       "</table>\n",
       "</div>"
      ],
      "text/plain": [
       "                      variable  dropout_loss                   label\n",
       "0       intellicence_important      0.210079  RandomForestClassifier\n",
       "1               pref_o_sincere      0.210495  RandomForestClassifier\n",
       "2            sincere_important      0.212505  RandomForestClassifier\n",
       "3             pref_o_ambitious      0.212623  RandomForestClassifier\n",
       "4          ambtition_important      0.215456  RandomForestClassifier\n",
       "5                 _full_model_      0.216562  RandomForestClassifier\n",
       "6              funny_important      0.222179  RandomForestClassifier\n",
       "7          pref_o_intelligence      0.223490  RandomForestClassifier\n",
       "8            pref_o_attractive      0.223731  RandomForestClassifier\n",
       "9                 pref_o_funny      0.224265  RandomForestClassifier\n",
       "10  shared_interests_important      0.224476  RandomForestClassifier\n",
       "11              intelligence_o      0.224651  RandomForestClassifier\n",
       "12     pref_o_shared_interests      0.225875  RandomForestClassifier\n",
       "13        attractive_important      0.228004  RandomForestClassifier\n",
       "14         interests_correlate      0.235981  RandomForestClassifier\n",
       "15                     funny_o      0.236288  RandomForestClassifier\n",
       "16          shared_interests_o      0.236666  RandomForestClassifier\n",
       "17                attractive_o      0.252965  RandomForestClassifier\n",
       "18                        like      0.311147  RandomForestClassifier\n",
       "19                  _baseline_      0.505250  RandomForestClassifier"
      ]
     },
     "execution_count": 17,
     "metadata": {},
     "output_type": "execute_result"
    }
   ],
   "source": [
    "pvi = explainer.model_parts()\n",
    "pvi.result"
   ]
  },
  {
   "cell_type": "code",
   "execution_count": 18,
   "metadata": {},
   "outputs": [
    {
     "data": {
      "application/vnd.plotly.v1+json": {
       "config": {
        "plotlyServerURL": "https://plot.ly"
       },
       "data": [
        {
         "base": 0.21656173008486146,
         "hoverinfo": "text",
         "hoverlabel": {
          "bgcolor": "rgba(0,0,0,0.8)"
         },
         "hovertext": [
          "Model: RandomForestClassifier loss after<br>variable: like is permuted: 0.311<br>Drop-out loss change: +0.095",
          "Model: RandomForestClassifier loss after<br>variable: attractive_o is permuted: 0.253<br>Drop-out loss change: +0.036",
          "Model: RandomForestClassifier loss after<br>variable: shared_interests_o is permuted: 0.237<br>Drop-out loss change: +0.02",
          "Model: RandomForestClassifier loss after<br>variable: funny_o is permuted: 0.236<br>Drop-out loss change: +0.02",
          "Model: RandomForestClassifier loss after<br>variable: interests_correlate is permuted: 0.236<br>Drop-out loss change: +0.019",
          "Model: RandomForestClassifier loss after<br>variable: attractive_important is permuted: 0.228<br>Drop-out loss change: +0.011",
          "Model: RandomForestClassifier loss after<br>variable: pref_o_shared_interests is permuted: 0.226<br>Drop-out loss change: +0.009",
          "Model: RandomForestClassifier loss after<br>variable: intelligence_o is permuted: 0.225<br>Drop-out loss change: +0.008",
          "Model: RandomForestClassifier loss after<br>variable: shared_interests_important is permuted: 0.224<br>Drop-out loss change: +0.008",
          "Model: RandomForestClassifier loss after<br>variable: pref_o_funny is permuted: 0.224<br>Drop-out loss change: +0.008"
         ],
         "marker": {
          "color": "#46bac2"
         },
         "orientation": "h",
         "showlegend": false,
         "text": [
          "+0.095",
          "+0.036",
          "+0.02",
          "+0.02",
          "+0.019",
          "+0.011",
          "+0.009",
          "+0.008",
          "+0.008",
          "+0.008"
         ],
         "textposition": "outside",
         "type": "bar",
         "x": [
          0.09458527237886688,
          0.036402956474131165,
          0.02010402408978948,
          0.01972625239529177,
          0.01941965507801835,
          0.011442649876813815,
          0.009312893512182063,
          0.008089241719135248,
          0.007914043252121805,
          0.007703257596496316
         ],
         "xaxis": "x",
         "y": [
          "like",
          "attractive_o",
          "shared_interests_o",
          "funny_o",
          "interests_correlate",
          "attractive_important",
          "pref_o_shared_interests",
          "intelligence_o",
          "shared_interests_important",
          "pref_o_funny"
         ],
         "yaxis": "y"
        }
       ],
       "layout": {
        "annotations": [
         {
          "font": {
           "size": 16
          },
          "showarrow": false,
          "text": "RandomForestClassifier",
          "x": 0.5,
          "xanchor": "center",
          "xref": "paper",
          "y": 1,
          "yanchor": "bottom",
          "yref": "paper"
         },
         {
          "font": {
           "size": 16
          },
          "showarrow": false,
          "text": "drop-out loss",
          "x": 0.5,
          "xanchor": "center",
          "xref": "paper",
          "y": 0,
          "yanchor": "top",
          "yref": "paper",
          "yshift": -30
         }
        ],
        "autosize": false,
        "font": {
         "color": "#371ea3"
        },
        "height": 450,
        "margin": {
         "b": 71,
         "r": 30,
         "t": 78
        },
        "shapes": [
         {
          "line": {
           "color": "#371ea3",
           "dash": "dot",
           "width": 1.5
          },
          "type": "line",
          "x0": 0.21656173008486146,
          "x1": 0.21656173008486146,
          "xref": "x",
          "y0": -1,
          "y1": 10,
          "yref": "y"
         }
        ],
        "template": {
         "data": {
          "scatter": [
           {
            "type": "scatter"
           }
          ]
         }
        },
        "title": {
         "text": "Variable Importance",
         "x": 0.15
        },
        "width": 600,
        "xaxis": {
         "anchor": "y",
         "automargin": true,
         "domain": [
          0,
          1
         ],
         "fixedrange": true,
         "gridwidth": 2,
         "range": [
          0.19491924445661105,
          0.3263071448124828
         ],
         "tickcolor": "white",
         "ticklen": 3,
         "ticks": "outside",
         "type": "linear",
         "zeroline": false
        },
        "yaxis": {
         "anchor": "x",
         "automargin": true,
         "autorange": "reversed",
         "domain": [
          0,
          1
         ],
         "fixedrange": true,
         "gridwidth": 2,
         "tickcolor": "white",
         "ticklen": 10,
         "ticks": "outside",
         "type": "category"
        }
       }
      }
     },
     "metadata": {},
     "output_type": "display_data"
    }
   ],
   "source": [
    "pvi.plot(show=False).update_layout(autosize=False, width=600, height=450)"
   ]
  },
  {
   "cell_type": "code",
   "execution_count": 39,
   "metadata": {},
   "outputs": [
    {
     "data": {
      "text/plain": [
       "(RandomForestClassifier(max_depth=3, random_state=42),\n",
       " RandomForestClassifier(n_estimators=20, random_state=42),\n",
       " RandomForestClassifier(n_estimators=200, random_state=42))"
      ]
     },
     "execution_count": 39,
     "metadata": {},
     "output_type": "execute_result"
    }
   ],
   "source": [
    "rf1 = RandomForestClassifier(max_depth=3, random_state=42)\n",
    "rf2 = RandomForestClassifier(n_estimators=20, random_state=42)\n",
    "rf3 = RandomForestClassifier(n_estimators=200, random_state=42)\n",
    "\n",
    "rf1.fit(X_train, y_train), rf2.fit(X_train, y_train), rf3.fit(X_train, y_train)"
   ]
  },
  {
   "cell_type": "code",
   "execution_count": 40,
   "metadata": {},
   "outputs": [
    {
     "name": "stdout",
     "output_type": "stream",
     "text": [
      "Preparation of a new explainer is initiated\n",
      "\n",
      "  -> data              : 346 rows 18 cols\n",
      "  -> target variable   : Parameter 'y' was a pandas.Series. Converted to a numpy.ndarray.\n",
      "  -> target variable   : 346 values\n",
      "  -> model_class       : sklearn.ensemble._forest.RandomForestClassifier (default)\n",
      "  -> label             : Not specified, model's class short name will be used. (default)\n",
      "  -> predict function  : <function yhat_proba_default at 0x7fe689960b80> will be used (default)\n",
      "  -> predict function  : Accepts pandas.DataFrame and numpy.ndarray.\n",
      "  -> predicted values  : min = 0.0422, mean = 0.174, max = 0.664\n",
      "  -> model type        : classification will be used (default)\n",
      "  -> residual function : difference between y and yhat (default)\n",
      "  -> residuals         : min = -0.546, mean = 0.0134, max = 0.954\n",
      "  -> model_info        : package sklearn\n",
      "\n",
      "A new explainer has been created!\n",
      "Preparation of a new explainer is initiated\n",
      "\n",
      "  -> data              : 346 rows 18 cols\n",
      "  -> target variable   : Parameter 'y' was a pandas.Series. Converted to a numpy.ndarray.\n",
      "  -> target variable   : 346 values\n",
      "  -> model_class       : sklearn.ensemble._forest.RandomForestClassifier (default)\n",
      "  -> label             : Not specified, model's class short name will be used. (default)\n",
      "  -> predict function  : <function yhat_proba_default at 0x7fe689960b80> will be used (default)\n",
      "  -> predict function  : Accepts pandas.DataFrame and numpy.ndarray.\n",
      "  -> predicted values  : min = 0.0, mean = 0.172, max = 0.85\n",
      "  -> model type        : classification will be used (default)\n",
      "  -> residual function : difference between y and yhat (default)\n",
      "  -> residuals         : min = -0.8, mean = 0.0155, max = 1.0\n",
      "  -> model_info        : package sklearn\n",
      "\n",
      "A new explainer has been created!\n",
      "Preparation of a new explainer is initiated\n",
      "\n",
      "  -> data              : 346 rows 18 cols\n",
      "  -> target variable   : Parameter 'y' was a pandas.Series. Converted to a numpy.ndarray.\n",
      "  -> target variable   : 346 values\n",
      "  -> model_class       : sklearn.ensemble._forest.RandomForestClassifier (default)\n",
      "  -> label             : Not specified, model's class short name will be used. (default)\n",
      "  -> predict function  : <function yhat_proba_default at 0x7fe689960b80> will be used (default)\n",
      "  -> predict function  : Accepts pandas.DataFrame and numpy.ndarray.\n",
      "  -> predicted values  : min = 0.0, mean = 0.178, max = 0.885\n",
      "  -> model type        : classification will be used (default)\n",
      "  -> residual function : difference between y and yhat (default)\n",
      "  -> residuals         : min = -0.755, mean = 0.01, max = 0.99\n",
      "  -> model_info        : package sklearn\n",
      "\n",
      "A new explainer has been created!\n"
     ]
    },
    {
     "name": "stderr",
     "output_type": "stream",
     "text": [
      "X does not have valid feature names, but RandomForestClassifier was fitted with feature names\n",
      "X does not have valid feature names, but RandomForestClassifier was fitted with feature names\n",
      "X does not have valid feature names, but RandomForestClassifier was fitted with feature names\n"
     ]
    }
   ],
   "source": [
    "explainer1 = dx.Explainer(rf1, X_test, y_test)\n",
    "explainer2 = dx.Explainer(rf2, X_test, y_test)\n",
    "explainer3 = dx.Explainer(rf3, X_test, y_test)\n"
   ]
  },
  {
   "cell_type": "code",
   "execution_count": 54,
   "metadata": {},
   "outputs": [
    {
     "data": {
      "text/html": [
       "<div>\n",
       "<style scoped>\n",
       "    .dataframe tbody tr th:only-of-type {\n",
       "        vertical-align: middle;\n",
       "    }\n",
       "\n",
       "    .dataframe tbody tr th {\n",
       "        vertical-align: top;\n",
       "    }\n",
       "\n",
       "    .dataframe thead th {\n",
       "        text-align: right;\n",
       "    }\n",
       "</style>\n",
       "<table border=\"1\" class=\"dataframe\">\n",
       "  <thead>\n",
       "    <tr style=\"text-align: right;\">\n",
       "      <th></th>\n",
       "      <th>recall</th>\n",
       "      <th>precision</th>\n",
       "      <th>f1</th>\n",
       "      <th>accuracy</th>\n",
       "      <th>auc</th>\n",
       "    </tr>\n",
       "  </thead>\n",
       "  <tbody>\n",
       "    <tr>\n",
       "      <th>RandomForestClassifier</th>\n",
       "      <td>0.076923</td>\n",
       "      <td>0.555556</td>\n",
       "      <td>0.135135</td>\n",
       "      <td>0.815029</td>\n",
       "      <td>0.757624</td>\n",
       "    </tr>\n",
       "  </tbody>\n",
       "</table>\n",
       "</div>"
      ],
      "text/plain": [
       "<dalex.model_explanations._model_performance.object.ModelPerformance at 0x7fe6603f70a0>"
      ]
     },
     "execution_count": 54,
     "metadata": {},
     "output_type": "execute_result"
    }
   ],
   "source": [
    "explainer1.model_performance()"
   ]
  },
  {
   "cell_type": "code",
   "execution_count": 55,
   "metadata": {},
   "outputs": [
    {
     "data": {
      "text/html": [
       "<div>\n",
       "<style scoped>\n",
       "    .dataframe tbody tr th:only-of-type {\n",
       "        vertical-align: middle;\n",
       "    }\n",
       "\n",
       "    .dataframe tbody tr th {\n",
       "        vertical-align: top;\n",
       "    }\n",
       "\n",
       "    .dataframe thead th {\n",
       "        text-align: right;\n",
       "    }\n",
       "</style>\n",
       "<table border=\"1\" class=\"dataframe\">\n",
       "  <thead>\n",
       "    <tr style=\"text-align: right;\">\n",
       "      <th></th>\n",
       "      <th>recall</th>\n",
       "      <th>precision</th>\n",
       "      <th>f1</th>\n",
       "      <th>accuracy</th>\n",
       "      <th>auc</th>\n",
       "    </tr>\n",
       "  </thead>\n",
       "  <tbody>\n",
       "    <tr>\n",
       "      <th>RandomForestClassifier</th>\n",
       "      <td>0.246154</td>\n",
       "      <td>0.551724</td>\n",
       "      <td>0.340426</td>\n",
       "      <td>0.820809</td>\n",
       "      <td>0.776184</td>\n",
       "    </tr>\n",
       "  </tbody>\n",
       "</table>\n",
       "</div>"
      ],
      "text/plain": [
       "<dalex.model_explanations._model_performance.object.ModelPerformance at 0x7fe6603f6d70>"
      ]
     },
     "execution_count": 55,
     "metadata": {},
     "output_type": "execute_result"
    }
   ],
   "source": [
    "explainer2.model_performance()"
   ]
  },
  {
   "cell_type": "code",
   "execution_count": 56,
   "metadata": {},
   "outputs": [
    {
     "data": {
      "text/html": [
       "<div>\n",
       "<style scoped>\n",
       "    .dataframe tbody tr th:only-of-type {\n",
       "        vertical-align: middle;\n",
       "    }\n",
       "\n",
       "    .dataframe tbody tr th {\n",
       "        vertical-align: top;\n",
       "    }\n",
       "\n",
       "    .dataframe thead th {\n",
       "        text-align: right;\n",
       "    }\n",
       "</style>\n",
       "<table border=\"1\" class=\"dataframe\">\n",
       "  <thead>\n",
       "    <tr style=\"text-align: right;\">\n",
       "      <th></th>\n",
       "      <th>recall</th>\n",
       "      <th>precision</th>\n",
       "      <th>f1</th>\n",
       "      <th>accuracy</th>\n",
       "      <th>auc</th>\n",
       "    </tr>\n",
       "  </thead>\n",
       "  <tbody>\n",
       "    <tr>\n",
       "      <th>RandomForestClassifier</th>\n",
       "      <td>0.2</td>\n",
       "      <td>0.541667</td>\n",
       "      <td>0.292135</td>\n",
       "      <td>0.817919</td>\n",
       "      <td>0.787873</td>\n",
       "    </tr>\n",
       "  </tbody>\n",
       "</table>\n",
       "</div>"
      ],
      "text/plain": [
       "<dalex.model_explanations._model_performance.object.ModelPerformance at 0x7fe6603f7b50>"
      ]
     },
     "execution_count": 56,
     "metadata": {},
     "output_type": "execute_result"
    }
   ],
   "source": [
    "explainer3.model_performance()"
   ]
  },
  {
   "cell_type": "code",
   "execution_count": 42,
   "metadata": {},
   "outputs": [
    {
     "data": {
      "application/vnd.plotly.v1+json": {
       "config": {
        "plotlyServerURL": "https://plot.ly"
       },
       "data": [
        {
         "base": 0.24237612920886953,
         "hoverinfo": "text",
         "hoverlabel": {
          "bgcolor": "rgba(0,0,0,0.8)"
         },
         "hovertext": [
          "Model: RandomForestClassifier loss after<br>variable: like is permuted: 0.316<br>Drop-out loss change: +0.073",
          "Model: RandomForestClassifier loss after<br>variable: attractive_o is permuted: 0.274<br>Drop-out loss change: +0.032",
          "Model: RandomForestClassifier loss after<br>variable: funny_o is permuted: 0.257<br>Drop-out loss change: +0.015",
          "Model: RandomForestClassifier loss after<br>variable: shared_interests_o is permuted: 0.253<br>Drop-out loss change: +0.01",
          "Model: RandomForestClassifier loss after<br>variable: intelligence_o is permuted: 0.25<br>Drop-out loss change: +0.008",
          "Model: RandomForestClassifier loss after<br>variable: pref_o_funny is permuted: 0.246<br>Drop-out loss change: +0.003",
          "Model: RandomForestClassifier loss after<br>variable: attractive_important is permuted: 0.245<br>Drop-out loss change: +0.003",
          "Model: RandomForestClassifier loss after<br>variable: pref_o_shared_interests is permuted: 0.245<br>Drop-out loss change: +0.002",
          "Model: RandomForestClassifier loss after<br>variable: interests_correlate is permuted: 0.244<br>Drop-out loss change: +0.002",
          "Model: RandomForestClassifier loss after<br>variable: intellicence_important is permuted: 0.243<br>Drop-out loss change: +0.001"
         ],
         "marker": {
          "color": "#46bac2"
         },
         "orientation": "h",
         "showlegend": false,
         "text": [
          "+0.073",
          "+0.032",
          "+0.015",
          "+0.01",
          "+0.008",
          "+0.003",
          "+0.003",
          "+0.002",
          "+0.002",
          "+0.001"
         ],
         "textposition": "outside",
         "type": "bar",
         "x": [
          0.07335888310977268,
          0.0315138242540377,
          0.015023268546400126,
          0.010243635368190396,
          0.008004379961675245,
          0.0033506706816313903,
          0.002638926909389383,
          0.0024582534902818642,
          0.0015494114426497507,
          0.0010073911853270556
         ],
         "xaxis": "x",
         "y": [
          "like",
          "attractive_o",
          "funny_o",
          "shared_interests_o",
          "intelligence_o",
          "pref_o_funny",
          "attractive_important",
          "pref_o_shared_interests",
          "interests_correlate",
          "intellicence_important"
         ],
         "yaxis": "y"
        }
       ],
       "layout": {
        "annotations": [
         {
          "font": {
           "size": 16
          },
          "showarrow": false,
          "text": "RandomForestClassifier",
          "x": 0.5,
          "xanchor": "center",
          "xref": "paper",
          "y": 1,
          "yanchor": "bottom",
          "yref": "paper"
         },
         {
          "font": {
           "size": 16
          },
          "showarrow": false,
          "text": "drop-out loss",
          "x": 0.5,
          "xanchor": "center",
          "xref": "paper",
          "y": 0,
          "yanchor": "top",
          "yref": "paper",
          "yshift": -30
         }
        ],
        "autosize": false,
        "font": {
         "color": "#371ea3"
        },
        "height": 450,
        "margin": {
         "b": 71,
         "r": 30,
         "t": 78
        },
        "shapes": [
         {
          "line": {
           "color": "#371ea3",
           "dash": "dot",
           "width": 1.5
          },
          "type": "line",
          "x0": 0.24237612920886953,
          "x1": 0.24237612920886953,
          "xref": "x",
          "y0": -1,
          "y1": 10,
          "yref": "y"
         }
        ],
        "template": {
         "data": {
          "scatter": [
           {
            "type": "scatter"
           }
          ]
         }
        },
        "title": {
         "text": "Random Forest max_depth=3"
        },
        "width": 600,
        "xaxis": {
         "anchor": "y",
         "automargin": true,
         "domain": [
          0,
          1
         ],
         "fixedrange": true,
         "gridwidth": 2,
         "range": [
          0.22901122365179308,
          0.32704681084040516
         ],
         "tickcolor": "white",
         "ticklen": 3,
         "ticks": "outside",
         "type": "linear",
         "zeroline": false
        },
        "yaxis": {
         "anchor": "x",
         "automargin": true,
         "autorange": "reversed",
         "domain": [
          0,
          1
         ],
         "fixedrange": true,
         "gridwidth": 2,
         "tickcolor": "white",
         "ticklen": 10,
         "ticks": "outside",
         "type": "category"
        }
       }
      }
     },
     "metadata": {},
     "output_type": "display_data"
    }
   ],
   "source": [
    "explainer1.model_parts().plot(show=False).update_layout(autosize=False, width=600, height=450, title=\"Random Forest max_depth=3\")\n"
   ]
  },
  {
   "cell_type": "code",
   "execution_count": 43,
   "metadata": {},
   "outputs": [
    {
     "data": {
      "application/vnd.plotly.v1+json": {
       "config": {
        "plotlyServerURL": "https://plot.ly"
       },
       "data": [
        {
         "base": 0.2238160416096359,
         "hoverinfo": "text",
         "hoverlabel": {
          "bgcolor": "rgba(0,0,0,0.8)"
         },
         "hovertext": [
          "Model: RandomForestClassifier loss after<br>variable: like is permuted: 0.326<br>Drop-out loss change: +0.102",
          "Model: RandomForestClassifier loss after<br>variable: attractive_o is permuted: 0.259<br>Drop-out loss change: +0.035",
          "Model: RandomForestClassifier loss after<br>variable: shared_interests_o is permuted: 0.248<br>Drop-out loss change: +0.024",
          "Model: RandomForestClassifier loss after<br>variable: attractive_important is permuted: 0.243<br>Drop-out loss change: +0.019",
          "Model: RandomForestClassifier loss after<br>variable: funny_important is permuted: 0.242<br>Drop-out loss change: +0.018",
          "Model: RandomForestClassifier loss after<br>variable: pref_o_funny is permuted: 0.24<br>Drop-out loss change: +0.016",
          "Model: RandomForestClassifier loss after<br>variable: shared_interests_important is permuted: 0.239<br>Drop-out loss change: +0.015",
          "Model: RandomForestClassifier loss after<br>variable: funny_o is permuted: 0.239<br>Drop-out loss change: +0.015",
          "Model: RandomForestClassifier loss after<br>variable: pref_o_attractive is permuted: 0.237<br>Drop-out loss change: +0.013",
          "Model: RandomForestClassifier loss after<br>variable: intellicence_important is permuted: 0.235<br>Drop-out loss change: +0.011"
         ],
         "marker": {
          "color": "#46bac2"
         },
         "orientation": "h",
         "showlegend": false,
         "text": [
          "+0.102",
          "+0.035",
          "+0.024",
          "+0.019",
          "+0.018",
          "+0.016",
          "+0.015",
          "+0.015",
          "+0.013",
          "+0.011"
         ],
         "textposition": "outside",
         "type": "bar",
         "x": [
          0.10187517109225294,
          0.03501779359430604,
          0.024363536819052845,
          0.019019983575143756,
          0.018228852997536293,
          0.0161045715849987,
          0.015102655351765693,
          0.01482617027101013,
          0.013353408157678631,
          0.011070353134410016
         ],
         "xaxis": "x",
         "y": [
          "like",
          "attractive_o",
          "shared_interests_o",
          "attractive_important",
          "funny_important",
          "pref_o_funny",
          "shared_interests_important",
          "funny_o",
          "pref_o_attractive",
          "intellicence_important"
         ],
         "yaxis": "y"
        }
       ],
       "layout": {
        "annotations": [
         {
          "font": {
           "size": 16
          },
          "showarrow": false,
          "text": "RandomForestClassifier",
          "x": 0.5,
          "xanchor": "center",
          "xref": "paper",
          "y": 1,
          "yanchor": "bottom",
          "yref": "paper"
         },
         {
          "font": {
           "size": 16
          },
          "showarrow": false,
          "text": "drop-out loss",
          "x": 0.5,
          "xanchor": "center",
          "xref": "paper",
          "y": 0,
          "yanchor": "top",
          "yref": "paper",
          "yshift": -30
         }
        ],
        "autosize": false,
        "font": {
         "color": "#371ea3"
        },
        "height": 450,
        "margin": {
         "b": 71,
         "r": 30,
         "t": 78
        },
        "shapes": [
         {
          "line": {
           "color": "#371ea3",
           "dash": "dot",
           "width": 1.5
          },
          "type": "line",
          "x0": 0.2238160416096359,
          "x1": 0.2238160416096359,
          "xref": "x",
          "y0": -1,
          "y1": 10,
          "yref": "y"
         }
        ],
        "template": {
         "data": {
          "scatter": [
           {
            "type": "scatter"
           }
          ]
         }
        },
        "title": {
         "text": "Random Forest n_estimators=20"
        },
        "width": 600,
        "xaxis": {
         "anchor": "y",
         "automargin": true,
         "domain": [
          0,
          1
         ],
         "fixedrange": true,
         "gridwidth": 2,
         "range": [
          0.2062398029017246,
          0.3412718313714755
         ],
         "tickcolor": "white",
         "ticklen": 3,
         "ticks": "outside",
         "type": "linear",
         "zeroline": false
        },
        "yaxis": {
         "anchor": "x",
         "automargin": true,
         "autorange": "reversed",
         "domain": [
          0,
          1
         ],
         "fixedrange": true,
         "gridwidth": 2,
         "tickcolor": "white",
         "ticklen": 10,
         "ticks": "outside",
         "type": "category"
        }
       }
      }
     },
     "metadata": {},
     "output_type": "display_data"
    }
   ],
   "source": [
    "explainer2.model_parts().plot(show=False).update_layout(autosize=False, width=600, height=450, title=\"Random Forest n_estimators=20\")"
   ]
  },
  {
   "cell_type": "code",
   "execution_count": 44,
   "metadata": {},
   "outputs": [
    {
     "data": {
      "application/vnd.plotly.v1+json": {
       "config": {
        "plotlyServerURL": "https://plot.ly"
       },
       "data": [
        {
         "base": 0.21212701888858473,
         "hoverinfo": "text",
         "hoverlabel": {
          "bgcolor": "rgba(0,0,0,0.8)"
         },
         "hovertext": [
          "Model: RandomForestClassifier loss after<br>variable: like is permuted: 0.307<br>Drop-out loss change: +0.095",
          "Model: RandomForestClassifier loss after<br>variable: attractive_o is permuted: 0.248<br>Drop-out loss change: +0.036",
          "Model: RandomForestClassifier loss after<br>variable: shared_interests_o is permuted: 0.235<br>Drop-out loss change: +0.023",
          "Model: RandomForestClassifier loss after<br>variable: funny_o is permuted: 0.231<br>Drop-out loss change: +0.019",
          "Model: RandomForestClassifier loss after<br>variable: pref_o_shared_interests is permuted: 0.227<br>Drop-out loss change: +0.014",
          "Model: RandomForestClassifier loss after<br>variable: pref_o_attractive is permuted: 0.22<br>Drop-out loss change: +0.008",
          "Model: RandomForestClassifier loss after<br>variable: shared_interests_important is permuted: 0.218<br>Drop-out loss change: +0.006",
          "Model: RandomForestClassifier loss after<br>variable: sincere_important is permuted: 0.218<br>Drop-out loss change: +0.006",
          "Model: RandomForestClassifier loss after<br>variable: funny_important is permuted: 0.217<br>Drop-out loss change: +0.005",
          "Model: RandomForestClassifier loss after<br>variable: attractive_important is permuted: 0.216<br>Drop-out loss change: +0.004"
         ],
         "marker": {
          "color": "#46bac2"
         },
         "orientation": "h",
         "showlegend": false,
         "text": [
          "+0.095",
          "+0.036",
          "+0.023",
          "+0.019",
          "+0.014",
          "+0.008",
          "+0.006",
          "+0.006",
          "+0.005",
          "+0.004"
         ],
         "textposition": "outside",
         "type": "bar",
         "x": [
          0.09531891595948536,
          0.03606350944429232,
          0.023252121543936438,
          0.019071995620038307,
          0.014437448672324077,
          0.007689570216260572,
          0.00631261976457706,
          0.006194908294552354,
          0.005053380782918115,
          0.004273200109498998
         ],
         "xaxis": "x",
         "y": [
          "like",
          "attractive_o",
          "shared_interests_o",
          "funny_o",
          "pref_o_shared_interests",
          "pref_o_attractive",
          "shared_interests_important",
          "sincere_important",
          "funny_important",
          "attractive_important"
         ],
         "yaxis": "y"
        }
       ],
       "layout": {
        "annotations": [
         {
          "font": {
           "size": 16
          },
          "showarrow": false,
          "text": "RandomForestClassifier",
          "x": 0.5,
          "xanchor": "center",
          "xref": "paper",
          "y": 1,
          "yanchor": "bottom",
          "yref": "paper"
         },
         {
          "font": {
           "size": 16
          },
          "showarrow": false,
          "text": "drop-out loss",
          "x": 0.5,
          "xanchor": "center",
          "xref": "paper",
          "y": 0,
          "yanchor": "top",
          "yref": "paper",
          "yshift": -30
         }
        ],
        "autosize": false,
        "font": {
         "color": "#371ea3"
        },
        "height": 450,
        "margin": {
         "b": 71,
         "r": 30,
         "t": 78
        },
        "shapes": [
         {
          "line": {
           "color": "#371ea3",
           "dash": "dot",
           "width": 1.5
          },
          "type": "line",
          "x0": 0.21212701888858473,
          "x1": 0.21212701888858473,
          "xref": "x",
          "y0": -1,
          "y1": 10,
          "yref": "y"
         }
        ],
        "template": {
         "data": {
          "scatter": [
           {
            "type": "scatter"
           }
          ]
         }
        },
        "title": {
         "text": "Random Forest n_estimators=200"
        },
        "width": 600,
        "xaxis": {
         "anchor": "y",
         "automargin": true,
         "domain": [
          0,
          1
         ],
         "fixedrange": true,
         "gridwidth": 2,
         "range": [
          0.1940231316725979,
          0.3222402135231317
         ],
         "tickcolor": "white",
         "ticklen": 3,
         "ticks": "outside",
         "type": "linear",
         "zeroline": false
        },
        "yaxis": {
         "anchor": "x",
         "automargin": true,
         "autorange": "reversed",
         "domain": [
          0,
          1
         ],
         "fixedrange": true,
         "gridwidth": 2,
         "tickcolor": "white",
         "ticklen": 10,
         "ticks": "outside",
         "type": "category"
        }
       }
      }
     },
     "metadata": {},
     "output_type": "display_data"
    }
   ],
   "source": [
    "explainer3.model_parts().plot(show=False).update_layout(autosize=False, width=600, height=450, title=\"Random Forest n_estimators=200\")"
   ]
  },
  {
   "cell_type": "code",
   "execution_count": 32,
   "metadata": {},
   "outputs": [
    {
     "data": {
      "image/png": "[encoded data removed]",
      "text/plain": [
       "<Figure size 640x480 with 1 Axes>"
      ]
     },
     "metadata": {},
     "output_type": "display_data"
    }
   ],
   "source": [
    "importances_gini = rf.feature_importances_\n",
    "std = np.std([tree.feature_importances_ for tree in rf.estimators_], axis=0)\n",
    "forest_importances = pd.Series(importances_gini, index=X.columns)\n",
    "\n",
    "fig, ax = plt.subplots()\n",
    "forest_importances.plot.bar(yerr=std, ax=ax)\n",
    "ax.set_title(\"Feature importances using MDI\")\n",
    "ax.set_ylabel(\"Mean decrease in impurity\")\n",
    "fig.tight_layout()"
   ]
  },
  {
   "cell_type": "code",
   "execution_count": 51,
   "metadata": {},
   "outputs": [
    {
     "data": {
      "image/png": "[encoded data removed]",
      "text/plain": [
       "<Figure size 1000x500 with 1 Axes>"
      ]
     },
     "metadata": {},
     "output_type": "display_data"
    }
   ],
   "source": [
    "shap_values = shap.TreeExplainer(rf).shap_values(X_test)\n",
    "shap.summary_plot(shap_values, X_test, plot_type=\"bar\", plot_size=(10, 5))"
   ]
  },
  {
   "cell_type": "code",
   "execution_count": null,
   "metadata": {},
   "outputs": [],
   "source": []
  }
 ],
 "metadata": {
  "kernelspec": {
   "display_name": "NLP",
   "language": "python",
   "name": "python3"
  },
  "language_info": {
   "codemirror_mode": {
    "name": "ipython",
    "version": 3
   },
   "file_extension": ".py",
   "mimetype": "text/x-python",
   "name": "python",
   "nbconvert_exporter": "python",
   "pygments_lexer": "ipython3",
   "version": "3.10.9"
  }
 },
 "nbformat": 4,
 "nbformat_minor": 2
}
