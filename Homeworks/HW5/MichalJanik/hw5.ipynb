{
 "cells": [
  {
   "cell_type": "markdown",
   "metadata": {},
   "source": [
    "# Homework 5 - Ceteris Paribus (CP), Partial Dependence profiles (PDP) and Accumulated Local Effects (ALE)"
   ]
  },
  {
   "cell_type": "markdown",
   "metadata": {},
   "source": [
    "## Task 1"
   ]
  },
  {
   "cell_type": "markdown",
   "metadata": {},
   "source": [
    "Consider a following model:\n",
    "\n",
    "$f(x_1, x_2) = (x_1 + x_2)^2$\n",
    "\n",
    "Assume that $x_1, x_2 $ ~ $  U[-1, 1]$ and $x_1=x_2$ (full dependency)\n",
    "\n",
    "Calculate PD profile for variable $x_1$ in this model.\n",
    "\n",
    "Extra task: Calculate ME and ALE profiles for variable $x_1$ in this model"
   ]
  },
  {
   "cell_type": "markdown",
   "metadata": {},
   "source": [
    "### Solution"
   ]
  },
  {
   "cell_type": "markdown",
   "metadata": {},
   "source": [
    "Partial Dependence:\n",
    "$$ g_1^{PD}(z) = E_{X_2}[(z + x_2)^2] = E_{X_2}[z^2 + 2z x_2 + x_2 ^ 2] =  $$  $$ = z^2 + 2z * E_{X_2}(x_2) + E_{X_2}(x_2^2) =  $$\n",
    "$$ = z^2 + 0 + \\int_{-1}^{1}{x_2^2} * \\frac{1}{2} dx_2 = z^2 + \\frac{1}{3}$$"
   ]
  },
  {
   "cell_type": "markdown",
   "metadata": {},
   "source": [
    "Marginal Effect:\n",
    "$$ g_1^{ME}(z) = E_{X_2 | X_1=z}[(z + x_2)^2] = E_{X_2 | X_1=z}[(2z)^2] = 4z^2 $$ "
   ]
  },
  {
   "cell_type": "markdown",
   "metadata": {},
   "source": [
    "Accumulated Local Effects:\n",
    "$$ g_1^{AL}(z) = \\int_{-1}^{z} \\left[E_{X_2 | X_1=v} \\frac{\\partial[(x_1 + x_2)^2]}{\\partial x_1} \\right] dv = $$\n",
    "$$  \\int_{-1}^{z} \\left[E_{X_2 | X_1=v} (2x_1 + 2x_2) \\right] dv = \\int_{-1}^{z} 4v  dv = 2(z^2 - 1) $$"
   ]
  },
  {
   "cell_type": "markdown",
   "metadata": {},
   "source": [
    "## Task 2\n",
    "\n",
    "The goal of this task is to explain the predictions of models on the wine quality dataset using Ceteris Paribus (CP) and Partial Dependence profiles (PDP), and its variants like Accumulated Local Effects (ALE).\n",
    "\n",
    "\n",
    "Throughout this notebook, we consistently use the RandomForestClassifier model that we initially trained in Homework 1. Additionally, we exclusively use the LogisticRegression model for the final task."
   ]
  },
  {
   "cell_type": "markdown",
   "metadata": {},
   "source": [
    "To depict the sample data, we present two representative data points:\n",
    "| Feature                | Sample 46 | Sample 98 |\n",
    "|-------------------------|--------|--------|\n",
    "| Fixed Acidity           | 6.2    | 9.8    |\n",
    "| Volatile Acidity        | 0.45   | 0.36   |\n",
    "| Citric Acid             | 0.26   | 0.46   |\n",
    "| Residual Sugar          | 4.4    | 10.5   |\n",
    "| Chlorides               | 0.063  | 0.038  |\n",
    "| Free Sulfur Dioxide     | 63.0   | 4.0    |\n",
    "| Total Sulfur Dioxide    | 206.0  | 83.0   |\n",
    "| Density                 | 0.9940 | 0.9956 |\n",
    "| pH                      | 3.27   | 2.89   |\n",
    "| Sulphates               | 0.52   | 0.30   |\n",
    "| Alcohol                 | 9.8    | 10.1   |\n",
    "\n",
    "\n",
    "The RandomForest model predicts the probability of being a quality wine at 0.62 and 0.72, resepctively."
   ]
  },
  {
   "attachments": {},
   "cell_type": "markdown",
   "metadata": {},
   "source": [
    "#### 3. Two observations can have have different CP profiles.\n",
    "\n",
    "What is evident is that the CP profiles for the model change based on the specific sample in question, as the model that we use - Random Forest - is capable of capturing the relations between the different variable.\n",
    "\n",
    "Below we show CP profiles for the above samples 46 and 98. \n",
    "\n",
    "\n",
    "<div>\n",
    "<img src=\"images/ceteris_paribus.png\" width=\"1000\"/>\n",
    "</div>\n",
    "</br>\n",
    "\n"
   ]
  },
  {
   "cell_type": "markdown",
   "metadata": {},
   "source": [
    "We can see that CP profiles differ between different samples, as we use the Random Forest model. In general, we can observe similar  patterns of monotonicity between CPs of different samples. The trends are not always the same, however, and for the `fixed acidity` the CP for observation 46 decreases as the variable increases, but the CP for observation 98 shows the opposite trend - it actually increases as the acidity incre."
   ]
  },
  {
   "cell_type": "markdown",
   "metadata": {},
   "source": [
    "#### 4. Comparison of Ceteris Paribus and Partial Dependence profiles"
   ]
  },
  {
   "cell_type": "markdown",
   "metadata": {},
   "source": [
    "Below we show the plot showing PDP and CP profiles for the Random forest model. The CP profiles are shown as grey lines and the PDP profiles are shown as a blue-green bold line.\n",
    "\n",
    "We can observe that CP profiles tend to follow the same trends as PDP, meaning that they tend to increase/decrease/stay at the same variable values. There are visible shifts, that could be explained by general superiority of some instances (best wines are still good even if we change one variable).\n",
    "\n",
    "<div>\n",
    "<img src=\"images/cp_vs_pdp.png\" width=\"1000\"/>\n",
    "</div>\n",
    "</br>\n"
   ]
  },
  {
   "cell_type": "markdown",
   "metadata": {},
   "source": [
    "#### 5. Comparison of PDP between Logistic Regression and Random Forest"
   ]
  },
  {
   "attachments": {},
   "cell_type": "markdown",
   "metadata": {},
   "source": [
    "In this section, we aim to contrast the PDP between Random Forest with those of Logistic Regression.\n",
    "\n",
    "<div>\n",
    "<img src=\"images/pdp_different_models.png\" width=\"1000\"/>\n",
    "</div>"
   ]
  },
  {
   "cell_type": "markdown",
   "metadata": {},
   "source": [
    "What is interesting is that for some variables, the linear model captures the same monotonic trend as the Random Forest model (for variables `fixed acidity`, `volatile acidity`, `alcohol`, and to some extent `citric acid`, `residual sugar`, `chlorides`, `pH`, `sulphates`. However, for some variables like `free sulfur dioxide`, `total sulfur dioxide`, the linear model was unable to capture the complex, non-monotnic behaviour that the random forest was capable of."
   ]
  },
  {
   "cell_type": "markdown",
   "metadata": {},
   "source": [
    "#### (*) Bonus - custom implementations of CP profiles and PDP"
   ]
  },
  {
   "cell_type": "markdown",
   "metadata": {},
   "source": [
    "For this homework I additionaly implemented PDP and CP profiles from stratch.\n",
    "Here are the results of my scripts, for CP profiles with the same observations as before and PDP with 40 sampled data points, both for the variable `alcohol`:\n",
    "\n",
    "<div>\n",
    "<img src=\"images/cp_mine.png\" width=\"700\"/>\n",
    "</div>\n",
    "\n",
    "<div>\n",
    "<img src=\"images/pdp_mine.png\" width=\"700\"/>\n",
    "</div>\n",
    "\n",
    "The code is provided at the end of the Appendix."
   ]
  },
  {
   "cell_type": "markdown",
   "metadata": {},
   "source": [
    "## Appendix"
   ]
  },
  {
   "cell_type": "markdown",
   "metadata": {
    "collapsed": false,
    "jupyter": {
     "outputs_hidden": false
    },
    "pycharm": {
     "name": "#%% md\n"
    }
   },
   "source": [
    "#### 0. Import packages"
   ]
  },
  {
   "cell_type": "code",
   "execution_count": 1,
   "metadata": {},
   "outputs": [],
   "source": [
    "import dalex as dx\n",
    "\n",
    "import random\n",
    "import numpy as np\n",
    "import pandas as pd\n",
    "import seaborn as sns\n",
    "from matplotlib import pyplot as plt\n",
    "plt.rcParams[\"figure.figsize\"] = (5,3)\n",
    "\n",
    "from sklearn.linear_model import LogisticRegression\n",
    "from sklearn.ensemble import RandomForestClassifier\n",
    "from sklearn.metrics import roc_curve, roc_auc_score, precision_score, recall_score, f1_score"
   ]
  },
  {
   "cell_type": "markdown",
   "metadata": {
    "collapsed": false,
    "jupyter": {
     "outputs_hidden": false
    },
    "pycharm": {
     "name": "#%% md\n"
    }
   },
   "source": [
    "### Train a tree-based ensemble model"
   ]
  },
  {
   "cell_type": "markdown",
   "metadata": {},
   "source": [
    "#### 0.1 Load dataset"
   ]
  },
  {
   "cell_type": "code",
   "execution_count": 2,
   "metadata": {
    "collapsed": false,
    "jupyter": {
     "outputs_hidden": false
    },
    "pycharm": {
     "name": "#%%\n"
    }
   },
   "outputs": [
    {
     "name": "stdout",
     "output_type": "stream",
     "text": [
      "X: (4898, 11)\n",
      "y: (4898,)\n"
     ]
    }
   ],
   "source": [
    "TARGET_COL = 'is_good'\n",
    "\n",
    "cols = [\n",
    "    'fixed acidity',\n",
    "    'volatile acidity',\n",
    "    'citric acid',\n",
    "    'residual sugar',\n",
    "    'chlorides',\n",
    "    'free sulfur dioxide',\n",
    "    'total sulfur dioxide',\n",
    "    'density',\n",
    "    'pH',\n",
    "    'sulphates',\n",
    "    'alcohol',\n",
    "    TARGET_COL\n",
    "]\n",
    "\n",
    "df = pd.read_csv('wine_quality.csv', header=0, names=cols)\n",
    "df[TARGET_COL] = df[TARGET_COL].replace(-1, 0)\n",
    "X = df.drop(TARGET_COL, axis=1)\n",
    "y = df[TARGET_COL]\n",
    "print(f'X: {X.shape}')\n",
    "print(f'y: {y.shape}')"
   ]
  },
  {
   "cell_type": "markdown",
   "metadata": {
    "collapsed": false,
    "jupyter": {
     "outputs_hidden": false
    },
    "pycharm": {
     "name": "#%% md\n"
    }
   },
   "source": [
    "#### 0.2 Fit models from Homework 1"
   ]
  },
  {
   "cell_type": "code",
   "execution_count": 128,
   "metadata": {
    "collapsed": false,
    "jupyter": {
     "outputs_hidden": false
    },
    "pycharm": {
     "name": "#%%\n"
    }
   },
   "outputs": [],
   "source": [
    "models = {\n",
    "    \"LogisticRegression\": LogisticRegression(max_iter=1000, random_state=25),\n",
    "    \"Forest\": RandomForestClassifier(random_state=25)\n",
    "}\n",
    "\n",
    "for model in models.values():\n",
    "    model.fit(X, y)"
   ]
  },
  {
   "cell_type": "markdown",
   "metadata": {
    "collapsed": false,
    "jupyter": {
     "outputs_hidden": false
    },
    "pycharm": {
     "name": "#%% md\n"
    }
   },
   "source": [
    "### 1. Calculate the predictions for some selected observations"
   ]
  },
  {
   "cell_type": "code",
   "execution_count": 21,
   "metadata": {
    "collapsed": false,
    "jupyter": {
     "outputs_hidden": false
    },
    "pycharm": {
     "name": "#%%\n"
    }
   },
   "outputs": [
    {
     "name": "stdout",
     "output_type": "stream",
     "text": [
      "    fixed acidity  volatile acidity  citric acid  residual sugar  chlorides  \\\n",
      "46            6.2              0.45         0.26             4.4      0.063   \n",
      "98            9.8              0.36         0.46            10.5      0.038   \n",
      "\n",
      "    free sulfur dioxide  total sulfur dioxide  density    pH  sulphates  \\\n",
      "46                 63.0                 206.0   0.9940  3.27       0.52   \n",
      "98                  4.0                  83.0   0.9956  2.89       0.30   \n",
      "\n",
      "    alcohol  \n",
      "46      9.8  \n",
      "98     10.1  \n"
     ]
    }
   ],
   "source": [
    "indexes = [46, 98]\n",
    "X_sample = X.iloc[indexes]\n",
    "print(X_sample.head())"
   ]
  },
  {
   "cell_type": "code",
   "execution_count": 22,
   "metadata": {},
   "outputs": [
    {
     "data": {
      "text/plain": [
       "array([0.62, 0.72])"
      ]
     },
     "execution_count": 22,
     "metadata": {},
     "output_type": "execute_result"
    }
   ],
   "source": [
    "models[\"Forest\"].predict_proba(X_sample)[:,-1]"
   ]
  },
  {
   "cell_type": "markdown",
   "metadata": {},
   "source": [
    "### 2. Calculate the what-if explanations of these predictions using Ceteris Paribus profiles"
   ]
  },
  {
   "cell_type": "code",
   "execution_count": 129,
   "metadata": {},
   "outputs": [
    {
     "name": "stdout",
     "output_type": "stream",
     "text": [
      "Preparation of a new explainer is initiated\n",
      "\n",
      "  -> data              : 4898 rows 11 cols\n",
      "  -> target variable   : Parameter 'y' was a pandas.Series. Converted to a numpy.ndarray.\n",
      "  -> target variable   : 4898 values\n",
      "  -> model_class       : sklearn.linear_model._logistic.LogisticRegression (default)\n",
      "  -> label             : LogisticRegression\n",
      "  -> predict function  : <function predict_func at 0x1414383a0> will be used\n",
      "  -> predict function  : Accepts pandas.DataFrame and numpy.ndarray.\n",
      "  -> predicted values  : min = 1.98e-05, mean = 0.0374, max = 0.789\n",
      "  -> model type        : classification will be used (default)\n",
      "  -> residual function : difference between y and yhat (default)\n",
      "  -> residuals         : min = -0.6, mean = -6.09e-06, max = 1.0\n",
      "  -> model_info        : package sklearn\n",
      "\n",
      "A new explainer has been created!\n",
      "Preparation of a new explainer is initiated\n",
      "\n",
      "  -> data              : 4898 rows 11 cols\n",
      "  -> target variable   : Parameter 'y' was a pandas.Series. Converted to a numpy.ndarray.\n",
      "  -> target variable   : 4898 values\n",
      "  -> model_class       : sklearn.ensemble._forest.RandomForestClassifier (default)\n",
      "  -> label             : Forest\n",
      "  -> predict function  : <function predict_func at 0x1414383a0> will be used\n",
      "  -> predict function  : Accepts pandas.DataFrame and numpy.ndarray.\n",
      "  -> predicted values  : min = 0.0, mean = 0.0377, max = 0.94\n",
      "  -> model type        : classification will be used (default)\n",
      "  -> residual function : difference between y and yhat (default)\n",
      "  -> residuals         : min = -0.29, mean = -0.000363, max = 0.44\n",
      "  -> model_info        : package sklearn\n",
      "\n",
      "A new explainer has been created!\n"
     ]
    },
    {
     "name": "stderr",
     "output_type": "stream",
     "text": [
      "/Users/michal.janik/studia/XAI/.env/lib/python3.9/site-packages/sklearn/base.py:465: UserWarning:\n",
      "\n",
      "X does not have valid feature names, but LogisticRegression was fitted with feature names\n",
      "\n",
      "/Users/michal.janik/studia/XAI/.env/lib/python3.9/site-packages/sklearn/base.py:465: UserWarning:\n",
      "\n",
      "X does not have valid feature names, but RandomForestClassifier was fitted with feature names\n",
      "\n"
     ]
    }
   ],
   "source": [
    "explainers = {}\n",
    "\n",
    "def predict_func(model, df):\n",
    "    return model.predict_proba(df)[:, 1]\n",
    "\n",
    "\n",
    "for model_name, model in models.items():\n",
    "    explainer = dx.Explainer(model, X, y, predict_function=predict_func, label=model_name)\n",
    "    explainers[model_name] = explainer"
   ]
  },
  {
   "cell_type": "code",
   "execution_count": 154,
   "metadata": {},
   "outputs": [
    {
     "name": "stderr",
     "output_type": "stream",
     "text": [
      "Calculating ceteris paribus: 100%|██████████| 11/11 [00:00<00:00, 213.69it/s]\n",
      "Calculating ceteris paribus: 100%|██████████| 11/11 [00:00<00:00, 87.51it/s]\n"
     ]
    }
   ],
   "source": [
    "cps = [explainer.predict_profile(new_observation=X_sample) for explainer in explainers.values()]\n",
    "# cps[1].plot() # uncomment to show the interactive plots"
   ]
  },
  {
   "cell_type": "markdown",
   "metadata": {},
   "source": [
    "#### 4. Comparison of a local explanation CP with a global explanation - PDP"
   ]
  },
  {
   "cell_type": "code",
   "execution_count": 151,
   "metadata": {},
   "outputs": [
    {
     "name": "stderr",
     "output_type": "stream",
     "text": [
      "Calculating ceteris paribus: 100%|██████████| 11/11 [00:00<00:00, 229.14it/s]\n",
      "/Users/michal.janik/studia/XAI/.env/lib/python3.9/site-packages/dalex/model_explanations/_aggregated_profiles/utils.py:144: FutureWarning:\n",
      "\n",
      "Setting an item of incompatible dtype is deprecated and will raise in a future error of pandas. Value '[ 3.8    3.904  4.008 ... 13.992 14.096 14.2  ]' has dtype incompatible with int64, please explicitly cast to a compatible dtype first.\n",
      "\n",
      "Calculating ceteris paribus: 100%|██████████| 11/11 [00:00<00:00, 30.47it/s]\n",
      "/Users/michal.janik/studia/XAI/.env/lib/python3.9/site-packages/dalex/model_explanations/_aggregated_profiles/utils.py:144: FutureWarning:\n",
      "\n",
      "Setting an item of incompatible dtype is deprecated and will raise in a future error of pandas. Value '[ 3.8    3.904  4.008 ... 13.992 14.096 14.2  ]' has dtype incompatible with int64, please explicitly cast to a compatible dtype first.\n",
      "\n"
     ]
    }
   ],
   "source": [
    "pdps = [explainer.model_profile(type=\"pdp\", N=40) for explainer in explainers.values()]\n",
    "# pdps[1].plot(geom=\"profiles\") # uncomment to show the interactive plots"
   ]
  },
  {
   "cell_type": "markdown",
   "metadata": {},
   "source": [
    "#### 5. Comparison of PDP between Logistic Regression and Random Forest"
   ]
  },
  {
   "cell_type": "code",
   "execution_count": 153,
   "metadata": {},
   "outputs": [
    {
     "name": "stderr",
     "output_type": "stream",
     "text": [
      "Calculating ceteris paribus: 100%|██████████| 11/11 [00:00<00:00, 135.03it/s]\n",
      "/Users/michal.janik/studia/XAI/.env/lib/python3.9/site-packages/dalex/model_explanations/_aggregated_profiles/utils.py:144: FutureWarning:\n",
      "\n",
      "Setting an item of incompatible dtype is deprecated and will raise in a future error of pandas. Value '[ 3.8    3.904  4.008 ... 13.992 14.096 14.2  ]' has dtype incompatible with int64, please explicitly cast to a compatible dtype first.\n",
      "\n",
      "Calculating ceteris paribus: 100%|██████████| 11/11 [00:01<00:00,  5.53it/s]\n",
      "/Users/michal.janik/studia/XAI/.env/lib/python3.9/site-packages/dalex/model_explanations/_aggregated_profiles/utils.py:144: FutureWarning:\n",
      "\n",
      "Setting an item of incompatible dtype is deprecated and will raise in a future error of pandas. Value '[ 3.8    3.904  4.008 ... 13.992 14.096 14.2  ]' has dtype incompatible with int64, please explicitly cast to a compatible dtype first.\n",
      "\n"
     ]
    }
   ],
   "source": [
    "pdps = [explainer.model_profile(type=\"pdp\") for explainer in explainers.values()]\n",
    "# pdps[0].plot(pdps[1:]) # uncomment to show the interactive plots"
   ]
  },
  {
   "cell_type": "markdown",
   "metadata": {},
   "source": [
    "### Bonus - my custom implementation of Ceteris Paribus and Partial Dependence profiles"
   ]
  },
  {
   "cell_type": "code",
   "execution_count": 144,
   "metadata": {},
   "outputs": [
    {
     "data": {
      "image/png": "[encoded data removed]",
      "text/plain": [
       "<Figure size 1000x600 with 1 Axes>"
      ]
     },
     "metadata": {},
     "output_type": "display_data"
    },
    {
     "data": {
      "image/png": "[encoded data removed]",
      "text/plain": [
       "<Figure size 1000x600 with 1 Axes>"
      ]
     },
     "metadata": {},
     "output_type": "display_data"
    }
   ],
   "source": [
    "from functools import partial\n",
    "\n",
    "class Explainer:\n",
    "    def __init__(self, model, X, y, predict_function=None, resolution=50):\n",
    "        self.model = model\n",
    "        self.X = X\n",
    "        self.y = y\n",
    "        if predict_function is None:\n",
    "            self.predict_function = model.predict_proba[:, 1]\n",
    "        else:\n",
    "            self.predict_function = partial(predict_function, self.model)\n",
    "            \n",
    "        self.resolution = resolution\n",
    "\n",
    "    def get_cp(self, instance, variable):\n",
    "        # Creating a range of values for the variable\n",
    "        variable_range = np.linspace(self.X[variable].min(), self.X[variable].max(), self.resolution)\n",
    "        predictions = []\n",
    "\n",
    "        # Generating predictions for each value in the range\n",
    "        predictions = []\n",
    "        for val in variable_range:\n",
    "            temp_instance = instance.copy()\n",
    "            temp_instance[variable] = val\n",
    "            predictions.append(self.predict_function(temp_instance))\n",
    "\n",
    "        predictions = np.array(predictions)\n",
    "\n",
    "        return variable_range, predictions\n",
    "\n",
    "    def get_pdp(self, variable, N=30):\n",
    "        # Randomly selecting N instances from the dataset\n",
    "        instances = self.X.sample(N)\n",
    "\n",
    "        variable_range, predictions = self.get_cp(instances, variable)\n",
    "\n",
    "        # pdp_values = [sum(x)/N for x in predictions]\n",
    "        pdp_values = predictions\n",
    "\n",
    "        return variable_range, pdp_values\n",
    "\n",
    "    def plot_pdp(self, variable, variable_range, values, title=None):\n",
    "        if title is None:\n",
    "            title = f'Partial Dependence Plot for {variable}'\n",
    "        plt.figure(figsize=(10, 6))\n",
    "        \n",
    "        plt.plot(variable_range, values, c='grey', alpha=0.2, linewidth=1)\n",
    "        pdp_values = values.mean(axis=1)\n",
    "        plt.plot(variable_range, pdp_values, c='green', linewidth=4)\n",
    "        \n",
    "        plt.xlabel(variable)\n",
    "        plt.ylabel('Predicted Response')\n",
    "        plt.title(title)\n",
    "        plt.show()\n",
    "\n",
    "    def plot_cp(self, instance, variable, variable_range, predictions):\n",
    "        plt.figure(figsize=(10, 6))\n",
    "        plt.plot(variable_range, predictions)\n",
    "        original_value = instance[variable]\n",
    "        plt.scatter([original_value], self.predict_function(instance), color='red', zorder=5, label='Original Instance')\n",
    "        plt.xlabel(variable)\n",
    "        plt.ylabel('Predicted Response')\n",
    "        plt.title(f'Ceteris Paribus Plot for {variable}')\n",
    "        plt.show()\n",
    "\n",
    "# Example usage\n",
    "\n",
    "model = models[\"Forest\"]\n",
    "explainer = Explainer(model, X, y, predict_function=predict_func, resolution=300)\n",
    "variable_range, pdps = explainer.get_pdp(variable='alcohol', N=40)\n",
    "explainer.plot_pdp('alcohol', variable_range, pdps)\n",
    "\n",
    "variable_range, cps = explainer.get_cp(X.iloc[[46, 98]], variable='alcohol')\n",
    "explainer.plot_cp(X.iloc[[46, 98]], 'alcohol', variable_range, cps)"
   ]
  }
 ],
 "metadata": {
  "kernelspec": {
   "display_name": "Python 3 (ipykernel)",
   "language": "python",
   "name": "python3"
  },
  "language_info": {
   "codemirror_mode": {
    "name": "ipython",
    "version": 3
   },
   "file_extension": ".py",
   "mimetype": "text/x-python",
   "name": "python",
   "nbconvert_exporter": "python",
   "pygments_lexer": "ipython3",
   "version": "3.9.17"
  }
 },
 "nbformat": 4,
 "nbformat_minor": 4
}
