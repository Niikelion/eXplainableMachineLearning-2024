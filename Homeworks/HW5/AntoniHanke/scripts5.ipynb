{
 "cells": [
  {
   "cell_type": "markdown",
   "source": [
    "# Task 1\n",
    "\n",
    "f(x1, x2) = (x1 + x2)^2\n",
    "\n",
    "Assume that x1, x2 ~ U[-1,1] and x1=x2 (full dependency)\n",
    "\n",
    "## Calculating PD\n",
    "$g^{PD}_{x_1}(z) = E_{X_{-x_1}}[f(X_{x_1|=z})] = E_{X_{-x_1}}[z^2 + 2zX_2 + X_2^2] = z^2 + 2z \\cdot 0 + \\frac{1}{3} = z^2 + \\frac{1}{3} $\\\n",
    "Since $E[U[-1, 1]] = 0$ and $E[U[-1, 1]^2] = \\frac{1}{3}$\n",
    "\n",
    "## Calculating MP\n",
    "Keeping in mind that because x1=x2, then sampling x2 given x1=z will give x2=z\n",
    "\n",
    "$g^{MP}_{x_1}(z) = E_{X_{-x_1}|x_1=z}[f(X_{x_1|=z})] = E_{X_{-x_1}|x_1=z}[z^2 + 2zX_2 + X_2^2] = z^2 + 2z^2 + z^2 = 4z^2$\n",
    "\n",
    "## Calculating ALE\n",
    "$g^{AL}_{x_1}(z) = \\int^{z}_{-1}[E_{X_{-x_1}|x_1=v}\\frac{\\partial f(x)}{\\partial x_1}]dv = \\int^{z}_{-1}[E_{X_{-x_1}|x_1=v}[2x_1+2x_2]]dv = \\int^{z}_{-1}4vdv = 2z^2 - 2$\n",
    "\n"
   ],
   "metadata": {
    "collapsed": false
   }
  },
  {
   "cell_type": "markdown",
   "metadata": {},
   "source": [
    "# Task 2\n",
    "\n",
    "We will be investigating the same dataset as in HW1: *spambase.csv* from OpenML-100 databases. This database concerns emails, of which some were classified as spam emails (~39%), whereas the rest were work and personal emails.\n",
    "We will be training a Random Forest Classifier and an XGBoost.\n",
    "\n",
    "Below are a 2 random entries of the dataframe and predictions of different models.\n",
    "\n",
    "| Observation   | True label | RF prediction | XGBoost prediction |\n",
    "|---------------|------------|---------------|--------------------|\n",
    "| Observation 4 | 1          | 0.9524        | 0.986              |\n",
    "| Observation 5 | 1          | 0.2884        | 0.635              |\n",
    "\n",
    "\n",
    "As we can see, RF has predicted the true label for the first observation, but not for the second. XGBoost fared slightly better and predicted both observations correctly"
   ]
  },
  {
   "cell_type": "markdown",
   "metadata": {},
   "source": [
    "## Ceteris Paribus profiles\n",
    "\n",
    "Below is a chart showing the CP profiles of the 2 observations, along 2 different variables:\n",
    "\n",
    "![chart1](https://raw.githubusercontent.com/AntekHanke/eXplainableMachineLearning-2024/main/Homeworks/HW5/AntoniHanke/CP1.PNG \"Chart1\")\n",
    "\n",
    "Comment:\n",
    "1. The CP profiles are non-linear, non-monotonic - to be expected since our model is a tree based model.\n",
    "2. Most of the variability happens around 0, but that could be expected, as the values of word frequencies usually hover around 0.\n",
    "3. For the *char_freq_24*, for one observation the profile is constant for x>0.1 whereas for the second observation, it varies at x>0.1 (first drops slightly around x=0.5 and then raises slightly around x=1)\n",
    "\n",
    "## CP vs PDP\n",
    "\n",
    "Below a chart with PDP of the same 2 variables, with individual CP profiles\n",
    "\n",
    "![chart2](https://raw.githubusercontent.com/AntekHanke/eXplainableMachineLearning-2024/main/Homeworks/HW5/AntoniHanke/CP2.PNG \"Chart2\")\n",
    "\n",
    "Comment:\n",
    "1. We can see PDP is an average of the individual CP profiles\n",
    "2. In *capital_run_length_average* we can see that around half of the profiles (lines on bottom of chart) have a jump around x=150. However since PDP is an average, the jump is much less visible, since the rest of the cases are constant at this point."
   ]
  },
  {
   "cell_type": "markdown",
   "metadata": {},
   "source": [
    "## PDP RF vs XGBoost\n",
    "\n",
    "Below a chart showing PDP of our Random Forest vs XGBoost\n",
    "\n",
    "![chart3](https://raw.githubusercontent.com/AntekHanke/eXplainableMachineLearning-2024/main/Homeworks/HW5/AntoniHanke/CP3.PNG \"Chart3\")\n",
    "\n",
    "Comment:\n",
    "1. In this case, our XGBoost PDPs are much more flat - this could be potentially due to the fact that we have trained a small XGB model, with depth=2 and n_estimators=50 (RF had depth=8 and n_estimators=200)\n",
    "2. The PDP varies more for our RF for the 2 variables showed - meaning an increase in them affects the RF prediction much more"
   ]
  },
  {
   "cell_type": "markdown",
   "metadata": {},
   "source": []
  },
  {
   "cell_type": "markdown",
   "metadata": {},
   "source": [
    "# Appendix\n",
    "## Data preparation"
   ]
  },
  {
   "cell_type": "code",
   "execution_count": 5,
   "metadata": {
    "collapsed": true
   },
   "outputs": [],
   "source": [
    "import numpy as np\n",
    "import pandas as pd\n",
    "import dalex as dx\n",
    "import lime\n",
    "\n",
    "spambase = pd.read_csv(\"spambase.csv\")"
   ]
  },
  {
   "cell_type": "code",
   "execution_count": 6,
   "metadata": {},
   "outputs": [],
   "source": [
    "df = spambase.drop(spambase.columns[0], axis=1) #Cleaning first column which is just index"
   ]
  },
  {
   "cell_type": "code",
   "execution_count": 7,
   "metadata": {},
   "outputs": [
    {
     "data": {
      "text/plain": "       word_freq_make  word_freq_address  word_freq_all  word_freq_3d  \\\ncount     4601.000000        4601.000000    4601.000000   4601.000000   \nmean         0.104553           0.213015       0.280656      0.065425   \nstd          0.305358           1.290575       0.504143      1.395151   \nmin          0.000000           0.000000       0.000000      0.000000   \n25%          0.000000           0.000000       0.000000      0.000000   \n50%          0.000000           0.000000       0.000000      0.000000   \n75%          0.000000           0.000000       0.420000      0.000000   \nmax          4.540000          14.280000       5.100000     42.810000   \n\n       word_freq_our  word_freq_over  word_freq_remove  word_freq_internet  \\\ncount    4601.000000     4601.000000       4601.000000         4601.000000   \nmean        0.312223        0.095901          0.114208            0.105295   \nstd         0.672513        0.273824          0.391441            0.401071   \nmin         0.000000        0.000000          0.000000            0.000000   \n25%         0.000000        0.000000          0.000000            0.000000   \n50%         0.000000        0.000000          0.000000            0.000000   \n75%         0.380000        0.000000          0.000000            0.000000   \nmax        10.000000        5.880000          7.270000           11.110000   \n\n       word_freq_order  word_freq_mail  ...  word_freq_table  \\\ncount      4601.000000     4601.000000  ...      4601.000000   \nmean          0.090067        0.239413  ...         0.005444   \nstd           0.278616        0.644755  ...         0.076274   \nmin           0.000000        0.000000  ...         0.000000   \n25%           0.000000        0.000000  ...         0.000000   \n50%           0.000000        0.000000  ...         0.000000   \n75%           0.000000        0.160000  ...         0.000000   \nmax           5.260000       18.180000  ...         2.170000   \n\n       word_freq_conference  char_freq_%3B  char_freq_%28  char_freq_%5B  \\\ncount           4601.000000    4601.000000    4601.000000    4601.000000   \nmean               0.031869       0.038575       0.139030       0.016976   \nstd                0.285735       0.243471       0.270355       0.109394   \nmin                0.000000       0.000000       0.000000       0.000000   \n25%                0.000000       0.000000       0.000000       0.000000   \n50%                0.000000       0.000000       0.065000       0.000000   \n75%                0.000000       0.000000       0.188000       0.000000   \nmax               10.000000       4.385000       9.752000       4.081000   \n\n       char_freq_%21  char_freq_%24  char_freq_%23  \\\ncount    4601.000000    4601.000000    4601.000000   \nmean        0.269071       0.075811       0.044238   \nstd         0.815672       0.245882       0.429342   \nmin         0.000000       0.000000       0.000000   \n25%         0.000000       0.000000       0.000000   \n50%         0.000000       0.000000       0.000000   \n75%         0.315000       0.052000       0.000000   \nmax        32.478000       6.003000      19.829000   \n\n       capital_run_length_average       TARGET  \ncount                 4601.000000  4601.000000  \nmean                     5.191515     0.394045  \nstd                     31.729449     0.488698  \nmin                      1.000000     0.000000  \n25%                      1.588000     0.000000  \n50%                      2.276000     0.000000  \n75%                      3.706000     1.000000  \nmax                   1102.500000     1.000000  \n\n[8 rows x 56 columns]",
      "text/html": "<div>\n<style scoped>\n    .dataframe tbody tr th:only-of-type {\n        vertical-align: middle;\n    }\n\n    .dataframe tbody tr th {\n        vertical-align: top;\n    }\n\n    .dataframe thead th {\n        text-align: right;\n    }\n</style>\n<table border=\"1\" class=\"dataframe\">\n  <thead>\n    <tr style=\"text-align: right;\">\n      <th></th>\n      <th>word_freq_make</th>\n      <th>word_freq_address</th>\n      <th>word_freq_all</th>\n      <th>word_freq_3d</th>\n      <th>word_freq_our</th>\n      <th>word_freq_over</th>\n      <th>word_freq_remove</th>\n      <th>word_freq_internet</th>\n      <th>word_freq_order</th>\n      <th>word_freq_mail</th>\n      <th>...</th>\n      <th>word_freq_table</th>\n      <th>word_freq_conference</th>\n      <th>char_freq_%3B</th>\n      <th>char_freq_%28</th>\n      <th>char_freq_%5B</th>\n      <th>char_freq_%21</th>\n      <th>char_freq_%24</th>\n      <th>char_freq_%23</th>\n      <th>capital_run_length_average</th>\n      <th>TARGET</th>\n    </tr>\n  </thead>\n  <tbody>\n    <tr>\n      <th>count</th>\n      <td>4601.000000</td>\n      <td>4601.000000</td>\n      <td>4601.000000</td>\n      <td>4601.000000</td>\n      <td>4601.000000</td>\n      <td>4601.000000</td>\n      <td>4601.000000</td>\n      <td>4601.000000</td>\n      <td>4601.000000</td>\n      <td>4601.000000</td>\n      <td>...</td>\n      <td>4601.000000</td>\n      <td>4601.000000</td>\n      <td>4601.000000</td>\n      <td>4601.000000</td>\n      <td>4601.000000</td>\n      <td>4601.000000</td>\n      <td>4601.000000</td>\n      <td>4601.000000</td>\n      <td>4601.000000</td>\n      <td>4601.000000</td>\n    </tr>\n    <tr>\n      <th>mean</th>\n      <td>0.104553</td>\n      <td>0.213015</td>\n      <td>0.280656</td>\n      <td>0.065425</td>\n      <td>0.312223</td>\n      <td>0.095901</td>\n      <td>0.114208</td>\n      <td>0.105295</td>\n      <td>0.090067</td>\n      <td>0.239413</td>\n      <td>...</td>\n      <td>0.005444</td>\n      <td>0.031869</td>\n      <td>0.038575</td>\n      <td>0.139030</td>\n      <td>0.016976</td>\n      <td>0.269071</td>\n      <td>0.075811</td>\n      <td>0.044238</td>\n      <td>5.191515</td>\n      <td>0.394045</td>\n    </tr>\n    <tr>\n      <th>std</th>\n      <td>0.305358</td>\n      <td>1.290575</td>\n      <td>0.504143</td>\n      <td>1.395151</td>\n      <td>0.672513</td>\n      <td>0.273824</td>\n      <td>0.391441</td>\n      <td>0.401071</td>\n      <td>0.278616</td>\n      <td>0.644755</td>\n      <td>...</td>\n      <td>0.076274</td>\n      <td>0.285735</td>\n      <td>0.243471</td>\n      <td>0.270355</td>\n      <td>0.109394</td>\n      <td>0.815672</td>\n      <td>0.245882</td>\n      <td>0.429342</td>\n      <td>31.729449</td>\n      <td>0.488698</td>\n    </tr>\n    <tr>\n      <th>min</th>\n      <td>0.000000</td>\n      <td>0.000000</td>\n      <td>0.000000</td>\n      <td>0.000000</td>\n      <td>0.000000</td>\n      <td>0.000000</td>\n      <td>0.000000</td>\n      <td>0.000000</td>\n      <td>0.000000</td>\n      <td>0.000000</td>\n      <td>...</td>\n      <td>0.000000</td>\n      <td>0.000000</td>\n      <td>0.000000</td>\n      <td>0.000000</td>\n      <td>0.000000</td>\n      <td>0.000000</td>\n      <td>0.000000</td>\n      <td>0.000000</td>\n      <td>1.000000</td>\n      <td>0.000000</td>\n    </tr>\n    <tr>\n      <th>25%</th>\n      <td>0.000000</td>\n      <td>0.000000</td>\n      <td>0.000000</td>\n      <td>0.000000</td>\n      <td>0.000000</td>\n      <td>0.000000</td>\n      <td>0.000000</td>\n      <td>0.000000</td>\n      <td>0.000000</td>\n      <td>0.000000</td>\n      <td>...</td>\n      <td>0.000000</td>\n      <td>0.000000</td>\n      <td>0.000000</td>\n      <td>0.000000</td>\n      <td>0.000000</td>\n      <td>0.000000</td>\n      <td>0.000000</td>\n      <td>0.000000</td>\n      <td>1.588000</td>\n      <td>0.000000</td>\n    </tr>\n    <tr>\n      <th>50%</th>\n      <td>0.000000</td>\n      <td>0.000000</td>\n      <td>0.000000</td>\n      <td>0.000000</td>\n      <td>0.000000</td>\n      <td>0.000000</td>\n      <td>0.000000</td>\n      <td>0.000000</td>\n      <td>0.000000</td>\n      <td>0.000000</td>\n      <td>...</td>\n      <td>0.000000</td>\n      <td>0.000000</td>\n      <td>0.000000</td>\n      <td>0.065000</td>\n      <td>0.000000</td>\n      <td>0.000000</td>\n      <td>0.000000</td>\n      <td>0.000000</td>\n      <td>2.276000</td>\n      <td>0.000000</td>\n    </tr>\n    <tr>\n      <th>75%</th>\n      <td>0.000000</td>\n      <td>0.000000</td>\n      <td>0.420000</td>\n      <td>0.000000</td>\n      <td>0.380000</td>\n      <td>0.000000</td>\n      <td>0.000000</td>\n      <td>0.000000</td>\n      <td>0.000000</td>\n      <td>0.160000</td>\n      <td>...</td>\n      <td>0.000000</td>\n      <td>0.000000</td>\n      <td>0.000000</td>\n      <td>0.188000</td>\n      <td>0.000000</td>\n      <td>0.315000</td>\n      <td>0.052000</td>\n      <td>0.000000</td>\n      <td>3.706000</td>\n      <td>1.000000</td>\n    </tr>\n    <tr>\n      <th>max</th>\n      <td>4.540000</td>\n      <td>14.280000</td>\n      <td>5.100000</td>\n      <td>42.810000</td>\n      <td>10.000000</td>\n      <td>5.880000</td>\n      <td>7.270000</td>\n      <td>11.110000</td>\n      <td>5.260000</td>\n      <td>18.180000</td>\n      <td>...</td>\n      <td>2.170000</td>\n      <td>10.000000</td>\n      <td>4.385000</td>\n      <td>9.752000</td>\n      <td>4.081000</td>\n      <td>32.478000</td>\n      <td>6.003000</td>\n      <td>19.829000</td>\n      <td>1102.500000</td>\n      <td>1.000000</td>\n    </tr>\n  </tbody>\n</table>\n<p>8 rows × 56 columns</p>\n</div>"
     },
     "execution_count": 7,
     "metadata": {},
     "output_type": "execute_result"
    }
   ],
   "source": [
    "df.describe()"
   ]
  },
  {
   "cell_type": "code",
   "execution_count": 8,
   "metadata": {},
   "outputs": [],
   "source": [
    "X = df.loc[:, df.columns != 'TARGET']"
   ]
  },
  {
   "cell_type": "code",
   "execution_count": 9,
   "metadata": {},
   "outputs": [],
   "source": [
    "y = df.loc[:, df.columns == 'TARGET']"
   ]
  },
  {
   "cell_type": "code",
   "execution_count": 10,
   "metadata": {},
   "outputs": [],
   "source": [
    "from sklearn.model_selection import train_test_split\n",
    "X_train, X_test, y_train, y_test = train_test_split(X, y, test_size=0.1, random_state=2)"
   ]
  },
  {
   "cell_type": "code",
   "execution_count": 11,
   "metadata": {},
   "outputs": [],
   "source": [
    "from sklearn.model_selection import KFold\n",
    "from sklearn.model_selection import cross_validate\n",
    "from sklearn.metrics import accuracy_score\n",
    "from sklearn.linear_model import LogisticRegression\n",
    "kf = KFold(n_splits = 5)"
   ]
  },
  {
   "cell_type": "markdown",
   "metadata": {},
   "source": [
    "## Random Forest"
   ]
  },
  {
   "cell_type": "code",
   "execution_count": 12,
   "metadata": {},
   "outputs": [],
   "source": [
    "from sklearn.ensemble import RandomForestClassifier"
   ]
  },
  {
   "cell_type": "code",
   "execution_count": 13,
   "metadata": {},
   "outputs": [
    {
     "name": "stderr",
     "output_type": "stream",
     "text": [
      "C:\\Users\\Antek\\AppData\\Local\\Temp\\ipykernel_19912\\3443453795.py:1: DataConversionWarning: A column-vector y was passed when a 1d array was expected. Please change the shape of y to (n_samples,), for example using ravel().\n",
      "  RF_final = RandomForestClassifier(n_estimators=200, max_depth = 8, max_features = 0.3, random_state = 1).fit(X, y)\n"
     ]
    },
    {
     "name": "stdout",
     "output_type": "stream",
     "text": [
      "Train accuracy:  0.9565311888719844\n"
     ]
    }
   ],
   "source": [
    "RF_final = RandomForestClassifier(n_estimators=200, max_depth = 8, max_features = 0.3, random_state = 1).fit(X, y)\n",
    "print(\"Train accuracy: \", accuracy_score(y, RF_final.predict(X)))"
   ]
  },
  {
   "cell_type": "markdown",
   "metadata": {},
   "source": [
    "### Dalex CP"
   ]
  },
  {
   "cell_type": "code",
   "execution_count": 29,
   "metadata": {},
   "outputs": [
    {
     "name": "stderr",
     "output_type": "stream",
     "text": [
      "C:\\Users\\Antek\\anaconda3\\lib\\site-packages\\sklearn\\base.py:450: UserWarning:\n",
      "\n",
      "X does not have valid feature names, but RandomForestClassifier was fitted with feature names\n",
      "\n"
     ]
    },
    {
     "name": "stdout",
     "output_type": "stream",
     "text": [
      "Preparation of a new explainer is initiated\n",
      "\n",
      "  -> data              : 4601 rows 55 cols\n",
      "  -> target variable   : Parameter 'y' was a pandas.DataFrame. Converted to a numpy.ndarray.\n",
      "  -> target variable   : 4601 values\n",
      "  -> model_class       : sklearn.ensemble._forest.RandomForestClassifier (default)\n",
      "  -> label             : Not specified, model's class short name will be used. (default)\n",
      "  -> predict function  : <function yhat_proba_default at 0x000001E17A372940> will be used (default)\n",
      "  -> predict function  : Accepts pandas.DataFrame and numpy.ndarray.\n",
      "  -> predicted values  : min = 0.0118, mean = 0.394, max = 0.992\n",
      "  -> model type        : classification will be used (default)\n",
      "  -> residual function : difference between y and yhat (default)\n",
      "  -> residuals         : min = -0.902, mean = 7.09e-05, max = 0.947\n",
      "  -> model_info        : package sklearn\n",
      "\n",
      "A new explainer has been created!\n"
     ]
    },
    {
     "name": "stderr",
     "output_type": "stream",
     "text": [
      "Calculating ceteris paribus: 100%|██████████| 55/55 [00:01<00:00, 51.93it/s]\n"
     ]
    }
   ],
   "source": [
    "RFexplainer = dx.Explainer(RF_final, X, y)\n",
    "\n",
    "cp = RFexplainer.predict_profile(new_observation=X.iloc[4:6])"
   ]
  },
  {
   "cell_type": "code",
   "execution_count": 31,
   "outputs": [
    {
     "data": {
      "text/plain": "   TARGET\n4       1\n5       1",
      "text/html": "<div>\n<style scoped>\n    .dataframe tbody tr th:only-of-type {\n        vertical-align: middle;\n    }\n\n    .dataframe tbody tr th {\n        vertical-align: top;\n    }\n\n    .dataframe thead th {\n        text-align: right;\n    }\n</style>\n<table border=\"1\" class=\"dataframe\">\n  <thead>\n    <tr style=\"text-align: right;\">\n      <th></th>\n      <th>TARGET</th>\n    </tr>\n  </thead>\n  <tbody>\n    <tr>\n      <th>4</th>\n      <td>1</td>\n    </tr>\n    <tr>\n      <th>5</th>\n      <td>1</td>\n    </tr>\n  </tbody>\n</table>\n</div>"
     },
     "execution_count": 31,
     "metadata": {},
     "output_type": "execute_result"
    }
   ],
   "source": [
    "y.iloc[4:6]"
   ],
   "metadata": {
    "collapsed": false
   }
  },
  {
   "cell_type": "code",
   "execution_count": 32,
   "outputs": [
    {
     "name": "stdout",
     "output_type": "stream",
     "text": [
      "[0.95239126 0.28840994]\n"
     ]
    }
   ],
   "source": [
    "observations = X.iloc[4:6]\n",
    "print(RFexplainer.predict(observations))"
   ],
   "metadata": {
    "collapsed": false
   }
  },
  {
   "cell_type": "code",
   "execution_count": 30,
   "metadata": {},
   "outputs": [
    {
     "data": {
      "application/vnd.plotly.v1+json": {
       "data": [
        {
         "customdata": [
          [
           "</br>id: 4</br>prediction: 0.952</br>char_freq_%24: 0.0</br></br>word_freq_make: 0.0</br>word_freq_address: 0.0</br>word_freq_all: 0.0</br>word_freq_3d: 0.0</br>word_freq_our: 0.63</br>word_freq_over: 0.0</br>word_freq_remove: 0.31</br>word_freq_internet: 0.63</br>word_freq_order: 0.31</br>word_freq_mail: 0.63</br>word_freq_receive: 0.31</br>word_freq_will: 0.31</br>word_freq_people: 0.31</br>word_freq_report: 0.0</br>word_freq_addresses: 0.0</br>word_freq_free: 0.31</br>word_freq_business: 0.0</br>... too many variables"
          ],
          [
           "</br>id: 4</br>prediction: 0.962</br>char_freq_%24: 0.06003</br></br>word_freq_make: 0.0</br>word_freq_address: 0.0</br>word_freq_all: 0.0</br>word_freq_3d: 0.0</br>word_freq_our: 0.63</br>word_freq_over: 0.0</br>word_freq_remove: 0.31</br>word_freq_internet: 0.63</br>word_freq_order: 0.31</br>word_freq_mail: 0.63</br>word_freq_receive: 0.31</br>word_freq_will: 0.31</br>word_freq_people: 0.31</br>word_freq_report: 0.0</br>word_freq_addresses: 0.0</br>word_freq_free: 0.31</br>word_freq_business: 0.0</br>... too many variables"
          ],
          [
           "</br>id: 4</br>prediction: 0.964</br>char_freq_%24: 0.12006</br></br>word_freq_make: 0.0</br>word_freq_address: 0.0</br>word_freq_all: 0.0</br>word_freq_3d: 0.0</br>word_freq_our: 0.63</br>word_freq_over: 0.0</br>word_freq_remove: 0.31</br>word_freq_internet: 0.63</br>word_freq_order: 0.31</br>word_freq_mail: 0.63</br>word_freq_receive: 0.31</br>word_freq_will: 0.31</br>word_freq_people: 0.31</br>word_freq_report: 0.0</br>word_freq_addresses: 0.0</br>word_freq_free: 0.31</br>word_freq_business: 0.0</br>... too many variables"
          ],
          [
           "</br>id: 4</br>prediction: 0.968</br>char_freq_%24: 0.18009</br></br>word_freq_make: 0.0</br>word_freq_address: 0.0</br>word_freq_all: 0.0</br>word_freq_3d: 0.0</br>word_freq_our: 0.63</br>word_freq_over: 0.0</br>word_freq_remove: 0.31</br>word_freq_internet: 0.63</br>word_freq_order: 0.31</br>word_freq_mail: 0.63</br>word_freq_receive: 0.31</br>word_freq_will: 0.31</br>word_freq_people: 0.31</br>word_freq_report: 0.0</br>word_freq_addresses: 0.0</br>word_freq_free: 0.31</br>word_freq_business: 0.0</br>... too many variables"
          ],
          [
           "</br>id: 4</br>prediction: 0.968</br>char_freq_%24: 0.24012</br></br>word_freq_make: 0.0</br>word_freq_address: 0.0</br>word_freq_all: 0.0</br>word_freq_3d: 0.0</br>word_freq_our: 0.63</br>word_freq_over: 0.0</br>word_freq_remove: 0.31</br>word_freq_internet: 0.63</br>word_freq_order: 0.31</br>word_freq_mail: 0.63</br>word_freq_receive: 0.31</br>word_freq_will: 0.31</br>word_freq_people: 0.31</br>word_freq_report: 0.0</br>word_freq_addresses: 0.0</br>word_freq_free: 0.31</br>word_freq_business: 0.0</br>... too many variables"
          ],
          [
           "</br>id: 4</br>prediction: 0.968</br>char_freq_%24: 0.30015000000000003</br></br>word_freq_make: 0.0</br>word_freq_address: 0.0</br>word_freq_all: 0.0</br>word_freq_3d: 0.0</br>word_freq_our: 0.63</br>word_freq_over: 0.0</br>word_freq_remove: 0.31</br>word_freq_internet: 0.63</br>word_freq_order: 0.31</br>word_freq_mail: 0.63</br>word_freq_receive: 0.31</br>word_freq_will: 0.31</br>word_freq_people: 0.31</br>word_freq_report: 0.0</br>word_freq_addresses: 0.0</br>word_freq_free: 0.31</br>word_freq_business: 0.0</br>... too many variables"
          ],
          [
           "</br>id: 4</br>prediction: 0.968</br>char_freq_%24: 0.36018</br></br>word_freq_make: 0.0</br>word_freq_address: 0.0</br>word_freq_all: 0.0</br>word_freq_3d: 0.0</br>word_freq_our: 0.63</br>word_freq_over: 0.0</br>word_freq_remove: 0.31</br>word_freq_internet: 0.63</br>word_freq_order: 0.31</br>word_freq_mail: 0.63</br>word_freq_receive: 0.31</br>word_freq_will: 0.31</br>word_freq_people: 0.31</br>word_freq_report: 0.0</br>word_freq_addresses: 0.0</br>word_freq_free: 0.31</br>word_freq_business: 0.0</br>... too many variables"
          ],
          [
           "</br>id: 4</br>prediction: 0.968</br>char_freq_%24: 0.42021</br></br>word_freq_make: 0.0</br>word_freq_address: 0.0</br>word_freq_all: 0.0</br>word_freq_3d: 0.0</br>word_freq_our: 0.63</br>word_freq_over: 0.0</br>word_freq_remove: 0.31</br>word_freq_internet: 0.63</br>word_freq_order: 0.31</br>word_freq_mail: 0.63</br>word_freq_receive: 0.31</br>word_freq_will: 0.31</br>word_freq_people: 0.31</br>word_freq_report: 0.0</br>word_freq_addresses: 0.0</br>word_freq_free: 0.31</br>word_freq_business: 0.0</br>... too many variables"
          ],
          [
           "</br>id: 4</br>prediction: 0.968</br>char_freq_%24: 0.48024</br></br>word_freq_make: 0.0</br>word_freq_address: 0.0</br>word_freq_all: 0.0</br>word_freq_3d: 0.0</br>word_freq_our: 0.63</br>word_freq_over: 0.0</br>word_freq_remove: 0.31</br>word_freq_internet: 0.63</br>word_freq_order: 0.31</br>word_freq_mail: 0.63</br>word_freq_receive: 0.31</br>word_freq_will: 0.31</br>word_freq_people: 0.31</br>word_freq_report: 0.0</br>word_freq_addresses: 0.0</br>word_freq_free: 0.31</br>word_freq_business: 0.0</br>... too many variables"
          ],
          [
           "</br>id: 4</br>prediction: 0.968</br>char_freq_%24: 0.54027</br></br>word_freq_make: 0.0</br>word_freq_address: 0.0</br>word_freq_all: 0.0</br>word_freq_3d: 0.0</br>word_freq_our: 0.63</br>word_freq_over: 0.0</br>word_freq_remove: 0.31</br>word_freq_internet: 0.63</br>word_freq_order: 0.31</br>word_freq_mail: 0.63</br>word_freq_receive: 0.31</br>word_freq_will: 0.31</br>word_freq_people: 0.31</br>word_freq_report: 0.0</br>word_freq_addresses: 0.0</br>word_freq_free: 0.31</br>word_freq_business: 0.0</br>... too many variables"
          ],
          [
           "</br>id: 4</br>prediction: 0.968</br>char_freq_%24: 0.6003000000000001</br></br>word_freq_make: 0.0</br>word_freq_address: 0.0</br>word_freq_all: 0.0</br>word_freq_3d: 0.0</br>word_freq_our: 0.63</br>word_freq_over: 0.0</br>word_freq_remove: 0.31</br>word_freq_internet: 0.63</br>word_freq_order: 0.31</br>word_freq_mail: 0.63</br>word_freq_receive: 0.31</br>word_freq_will: 0.31</br>word_freq_people: 0.31</br>word_freq_report: 0.0</br>word_freq_addresses: 0.0</br>word_freq_free: 0.31</br>word_freq_business: 0.0</br>... too many variables"
          ],
          [
           "</br>id: 4</br>prediction: 0.968</br>char_freq_%24: 0.66033</br></br>word_freq_make: 0.0</br>word_freq_address: 0.0</br>word_freq_all: 0.0</br>word_freq_3d: 0.0</br>word_freq_our: 0.63</br>word_freq_over: 0.0</br>word_freq_remove: 0.31</br>word_freq_internet: 0.63</br>word_freq_order: 0.31</br>word_freq_mail: 0.63</br>word_freq_receive: 0.31</br>word_freq_will: 0.31</br>word_freq_people: 0.31</br>word_freq_report: 0.0</br>word_freq_addresses: 0.0</br>word_freq_free: 0.31</br>word_freq_business: 0.0</br>... too many variables"
          ],
          [
           "</br>id: 4</br>prediction: 0.968</br>char_freq_%24: 0.72036</br></br>word_freq_make: 0.0</br>word_freq_address: 0.0</br>word_freq_all: 0.0</br>word_freq_3d: 0.0</br>word_freq_our: 0.63</br>word_freq_over: 0.0</br>word_freq_remove: 0.31</br>word_freq_internet: 0.63</br>word_freq_order: 0.31</br>word_freq_mail: 0.63</br>word_freq_receive: 0.31</br>word_freq_will: 0.31</br>word_freq_people: 0.31</br>word_freq_report: 0.0</br>word_freq_addresses: 0.0</br>word_freq_free: 0.31</br>word_freq_business: 0.0</br>... too many variables"
          ],
          [
           "</br>id: 4</br>prediction: 0.968</br>char_freq_%24: 0.78039</br></br>word_freq_make: 0.0</br>word_freq_address: 0.0</br>word_freq_all: 0.0</br>word_freq_3d: 0.0</br>word_freq_our: 0.63</br>word_freq_over: 0.0</br>word_freq_remove: 0.31</br>word_freq_internet: 0.63</br>word_freq_order: 0.31</br>word_freq_mail: 0.63</br>word_freq_receive: 0.31</br>word_freq_will: 0.31</br>word_freq_people: 0.31</br>word_freq_report: 0.0</br>word_freq_addresses: 0.0</br>word_freq_free: 0.31</br>word_freq_business: 0.0</br>... too many variables"
          ],
          [
           "</br>id: 4</br>prediction: 0.968</br>char_freq_%24: 0.84042</br></br>word_freq_make: 0.0</br>word_freq_address: 0.0</br>word_freq_all: 0.0</br>word_freq_3d: 0.0</br>word_freq_our: 0.63</br>word_freq_over: 0.0</br>word_freq_remove: 0.31</br>word_freq_internet: 0.63</br>word_freq_order: 0.31</br>word_freq_mail: 0.63</br>word_freq_receive: 0.31</br>word_freq_will: 0.31</br>word_freq_people: 0.31</br>word_freq_report: 0.0</br>word_freq_addresses: 0.0</br>word_freq_free: 0.31</br>word_freq_business: 0.0</br>... too many variables"
          ],
          [
           "</br>id: 4</br>prediction: 0.968</br>char_freq_%24: 0.90045</br></br>word_freq_make: 0.0</br>word_freq_address: 0.0</br>word_freq_all: 0.0</br>word_freq_3d: 0.0</br>word_freq_our: 0.63</br>word_freq_over: 0.0</br>word_freq_remove: 0.31</br>word_freq_internet: 0.63</br>word_freq_order: 0.31</br>word_freq_mail: 0.63</br>word_freq_receive: 0.31</br>word_freq_will: 0.31</br>word_freq_people: 0.31</br>word_freq_report: 0.0</br>word_freq_addresses: 0.0</br>word_freq_free: 0.31</br>word_freq_business: 0.0</br>... too many variables"
          ],
          [
           "</br>id: 4</br>prediction: 0.968</br>char_freq_%24: 0.96048</br></br>word_freq_make: 0.0</br>word_freq_address: 0.0</br>word_freq_all: 0.0</br>word_freq_3d: 0.0</br>word_freq_our: 0.63</br>word_freq_over: 0.0</br>word_freq_remove: 0.31</br>word_freq_internet: 0.63</br>word_freq_order: 0.31</br>word_freq_mail: 0.63</br>word_freq_receive: 0.31</br>word_freq_will: 0.31</br>word_freq_people: 0.31</br>word_freq_report: 0.0</br>word_freq_addresses: 0.0</br>word_freq_free: 0.31</br>word_freq_business: 0.0</br>... too many variables"
          ],
          [
           "</br>id: 4</br>prediction: 0.968</br>char_freq_%24: 1.02051</br></br>word_freq_make: 0.0</br>word_freq_address: 0.0</br>word_freq_all: 0.0</br>word_freq_3d: 0.0</br>word_freq_our: 0.63</br>word_freq_over: 0.0</br>word_freq_remove: 0.31</br>word_freq_internet: 0.63</br>word_freq_order: 0.31</br>word_freq_mail: 0.63</br>word_freq_receive: 0.31</br>word_freq_will: 0.31</br>word_freq_people: 0.31</br>word_freq_report: 0.0</br>word_freq_addresses: 0.0</br>word_freq_free: 0.31</br>word_freq_business: 0.0</br>... too many variables"
          ],
          [
           "</br>id: 4</br>prediction: 0.968</br>char_freq_%24: 1.08054</br></br>word_freq_make: 0.0</br>word_freq_address: 0.0</br>word_freq_all: 0.0</br>word_freq_3d: 0.0</br>word_freq_our: 0.63</br>word_freq_over: 0.0</br>word_freq_remove: 0.31</br>word_freq_internet: 0.63</br>word_freq_order: 0.31</br>word_freq_mail: 0.63</br>word_freq_receive: 0.31</br>word_freq_will: 0.31</br>word_freq_people: 0.31</br>word_freq_report: 0.0</br>word_freq_addresses: 0.0</br>word_freq_free: 0.31</br>word_freq_business: 0.0</br>... too many variables"
          ],
          [
           "</br>id: 4</br>prediction: 0.968</br>char_freq_%24: 1.14057</br></br>word_freq_make: 0.0</br>word_freq_address: 0.0</br>word_freq_all: 0.0</br>word_freq_3d: 0.0</br>word_freq_our: 0.63</br>word_freq_over: 0.0</br>word_freq_remove: 0.31</br>word_freq_internet: 0.63</br>word_freq_order: 0.31</br>word_freq_mail: 0.63</br>word_freq_receive: 0.31</br>word_freq_will: 0.31</br>word_freq_people: 0.31</br>word_freq_report: 0.0</br>word_freq_addresses: 0.0</br>word_freq_free: 0.31</br>word_freq_business: 0.0</br>... too many variables"
          ],
          [
           "</br>id: 4</br>prediction: 0.968</br>char_freq_%24: 1.2006000000000001</br></br>word_freq_make: 0.0</br>word_freq_address: 0.0</br>word_freq_all: 0.0</br>word_freq_3d: 0.0</br>word_freq_our: 0.63</br>word_freq_over: 0.0</br>word_freq_remove: 0.31</br>word_freq_internet: 0.63</br>word_freq_order: 0.31</br>word_freq_mail: 0.63</br>word_freq_receive: 0.31</br>word_freq_will: 0.31</br>word_freq_people: 0.31</br>word_freq_report: 0.0</br>word_freq_addresses: 0.0</br>word_freq_free: 0.31</br>word_freq_business: 0.0</br>... too many variables"
          ],
          [
           "</br>id: 4</br>prediction: 0.968</br>char_freq_%24: 1.26063</br></br>word_freq_make: 0.0</br>word_freq_address: 0.0</br>word_freq_all: 0.0</br>word_freq_3d: 0.0</br>word_freq_our: 0.63</br>word_freq_over: 0.0</br>word_freq_remove: 0.31</br>word_freq_internet: 0.63</br>word_freq_order: 0.31</br>word_freq_mail: 0.63</br>word_freq_receive: 0.31</br>word_freq_will: 0.31</br>word_freq_people: 0.31</br>word_freq_report: 0.0</br>word_freq_addresses: 0.0</br>word_freq_free: 0.31</br>word_freq_business: 0.0</br>... too many variables"
          ],
          [
           "</br>id: 4</br>prediction: 0.968</br>char_freq_%24: 1.32066</br></br>word_freq_make: 0.0</br>word_freq_address: 0.0</br>word_freq_all: 0.0</br>word_freq_3d: 0.0</br>word_freq_our: 0.63</br>word_freq_over: 0.0</br>word_freq_remove: 0.31</br>word_freq_internet: 0.63</br>word_freq_order: 0.31</br>word_freq_mail: 0.63</br>word_freq_receive: 0.31</br>word_freq_will: 0.31</br>word_freq_people: 0.31</br>word_freq_report: 0.0</br>word_freq_addresses: 0.0</br>word_freq_free: 0.31</br>word_freq_business: 0.0</br>... too many variables"
          ],
          [
           "</br>id: 4</br>prediction: 0.968</br>char_freq_%24: 1.38069</br></br>word_freq_make: 0.0</br>word_freq_address: 0.0</br>word_freq_all: 0.0</br>word_freq_3d: 0.0</br>word_freq_our: 0.63</br>word_freq_over: 0.0</br>word_freq_remove: 0.31</br>word_freq_internet: 0.63</br>word_freq_order: 0.31</br>word_freq_mail: 0.63</br>word_freq_receive: 0.31</br>word_freq_will: 0.31</br>word_freq_people: 0.31</br>word_freq_report: 0.0</br>word_freq_addresses: 0.0</br>word_freq_free: 0.31</br>word_freq_business: 0.0</br>... too many variables"
          ],
          [
           "</br>id: 4</br>prediction: 0.968</br>char_freq_%24: 1.44072</br></br>word_freq_make: 0.0</br>word_freq_address: 0.0</br>word_freq_all: 0.0</br>word_freq_3d: 0.0</br>word_freq_our: 0.63</br>word_freq_over: 0.0</br>word_freq_remove: 0.31</br>word_freq_internet: 0.63</br>word_freq_order: 0.31</br>word_freq_mail: 0.63</br>word_freq_receive: 0.31</br>word_freq_will: 0.31</br>word_freq_people: 0.31</br>word_freq_report: 0.0</br>word_freq_addresses: 0.0</br>word_freq_free: 0.31</br>word_freq_business: 0.0</br>... too many variables"
          ],
          [
           "</br>id: 4</br>prediction: 0.968</br>char_freq_%24: 1.50075</br></br>word_freq_make: 0.0</br>word_freq_address: 0.0</br>word_freq_all: 0.0</br>word_freq_3d: 0.0</br>word_freq_our: 0.63</br>word_freq_over: 0.0</br>word_freq_remove: 0.31</br>word_freq_internet: 0.63</br>word_freq_order: 0.31</br>word_freq_mail: 0.63</br>word_freq_receive: 0.31</br>word_freq_will: 0.31</br>word_freq_people: 0.31</br>word_freq_report: 0.0</br>word_freq_addresses: 0.0</br>word_freq_free: 0.31</br>word_freq_business: 0.0</br>... too many variables"
          ],
          [
           "</br>id: 4</br>prediction: 0.968</br>char_freq_%24: 1.56078</br></br>word_freq_make: 0.0</br>word_freq_address: 0.0</br>word_freq_all: 0.0</br>word_freq_3d: 0.0</br>word_freq_our: 0.63</br>word_freq_over: 0.0</br>word_freq_remove: 0.31</br>word_freq_internet: 0.63</br>word_freq_order: 0.31</br>word_freq_mail: 0.63</br>word_freq_receive: 0.31</br>word_freq_will: 0.31</br>word_freq_people: 0.31</br>word_freq_report: 0.0</br>word_freq_addresses: 0.0</br>word_freq_free: 0.31</br>word_freq_business: 0.0</br>... too many variables"
          ],
          [
           "</br>id: 4</br>prediction: 0.968</br>char_freq_%24: 1.62081</br></br>word_freq_make: 0.0</br>word_freq_address: 0.0</br>word_freq_all: 0.0</br>word_freq_3d: 0.0</br>word_freq_our: 0.63</br>word_freq_over: 0.0</br>word_freq_remove: 0.31</br>word_freq_internet: 0.63</br>word_freq_order: 0.31</br>word_freq_mail: 0.63</br>word_freq_receive: 0.31</br>word_freq_will: 0.31</br>word_freq_people: 0.31</br>word_freq_report: 0.0</br>word_freq_addresses: 0.0</br>word_freq_free: 0.31</br>word_freq_business: 0.0</br>... too many variables"
          ],
          [
           "</br>id: 4</br>prediction: 0.968</br>char_freq_%24: 1.68084</br></br>word_freq_make: 0.0</br>word_freq_address: 0.0</br>word_freq_all: 0.0</br>word_freq_3d: 0.0</br>word_freq_our: 0.63</br>word_freq_over: 0.0</br>word_freq_remove: 0.31</br>word_freq_internet: 0.63</br>word_freq_order: 0.31</br>word_freq_mail: 0.63</br>word_freq_receive: 0.31</br>word_freq_will: 0.31</br>word_freq_people: 0.31</br>word_freq_report: 0.0</br>word_freq_addresses: 0.0</br>word_freq_free: 0.31</br>word_freq_business: 0.0</br>... too many variables"
          ],
          [
           "</br>id: 4</br>prediction: 0.968</br>char_freq_%24: 1.74087</br></br>word_freq_make: 0.0</br>word_freq_address: 0.0</br>word_freq_all: 0.0</br>word_freq_3d: 0.0</br>word_freq_our: 0.63</br>word_freq_over: 0.0</br>word_freq_remove: 0.31</br>word_freq_internet: 0.63</br>word_freq_order: 0.31</br>word_freq_mail: 0.63</br>word_freq_receive: 0.31</br>word_freq_will: 0.31</br>word_freq_people: 0.31</br>word_freq_report: 0.0</br>word_freq_addresses: 0.0</br>word_freq_free: 0.31</br>word_freq_business: 0.0</br>... too many variables"
          ],
          [
           "</br>id: 4</br>prediction: 0.968</br>char_freq_%24: 1.8009</br></br>word_freq_make: 0.0</br>word_freq_address: 0.0</br>word_freq_all: 0.0</br>word_freq_3d: 0.0</br>word_freq_our: 0.63</br>word_freq_over: 0.0</br>word_freq_remove: 0.31</br>word_freq_internet: 0.63</br>word_freq_order: 0.31</br>word_freq_mail: 0.63</br>word_freq_receive: 0.31</br>word_freq_will: 0.31</br>word_freq_people: 0.31</br>word_freq_report: 0.0</br>word_freq_addresses: 0.0</br>word_freq_free: 0.31</br>word_freq_business: 0.0</br>... too many variables"
          ],
          [
           "</br>id: 4</br>prediction: 0.968</br>char_freq_%24: 1.86093</br></br>word_freq_make: 0.0</br>word_freq_address: 0.0</br>word_freq_all: 0.0</br>word_freq_3d: 0.0</br>word_freq_our: 0.63</br>word_freq_over: 0.0</br>word_freq_remove: 0.31</br>word_freq_internet: 0.63</br>word_freq_order: 0.31</br>word_freq_mail: 0.63</br>word_freq_receive: 0.31</br>word_freq_will: 0.31</br>word_freq_people: 0.31</br>word_freq_report: 0.0</br>word_freq_addresses: 0.0</br>word_freq_free: 0.31</br>word_freq_business: 0.0</br>... too many variables"
          ],
          [
           "</br>id: 4</br>prediction: 0.968</br>char_freq_%24: 1.92096</br></br>word_freq_make: 0.0</br>word_freq_address: 0.0</br>word_freq_all: 0.0</br>word_freq_3d: 0.0</br>word_freq_our: 0.63</br>word_freq_over: 0.0</br>word_freq_remove: 0.31</br>word_freq_internet: 0.63</br>word_freq_order: 0.31</br>word_freq_mail: 0.63</br>word_freq_receive: 0.31</br>word_freq_will: 0.31</br>word_freq_people: 0.31</br>word_freq_report: 0.0</br>word_freq_addresses: 0.0</br>word_freq_free: 0.31</br>word_freq_business: 0.0</br>... too many variables"
          ],
          [
           "</br>id: 4</br>prediction: 0.968</br>char_freq_%24: 1.98099</br></br>word_freq_make: 0.0</br>word_freq_address: 0.0</br>word_freq_all: 0.0</br>word_freq_3d: 0.0</br>word_freq_our: 0.63</br>word_freq_over: 0.0</br>word_freq_remove: 0.31</br>word_freq_internet: 0.63</br>word_freq_order: 0.31</br>word_freq_mail: 0.63</br>word_freq_receive: 0.31</br>word_freq_will: 0.31</br>word_freq_people: 0.31</br>word_freq_report: 0.0</br>word_freq_addresses: 0.0</br>word_freq_free: 0.31</br>word_freq_business: 0.0</br>... too many variables"
          ],
          [
           "</br>id: 4</br>prediction: 0.968</br>char_freq_%24: 2.04102</br></br>word_freq_make: 0.0</br>word_freq_address: 0.0</br>word_freq_all: 0.0</br>word_freq_3d: 0.0</br>word_freq_our: 0.63</br>word_freq_over: 0.0</br>word_freq_remove: 0.31</br>word_freq_internet: 0.63</br>word_freq_order: 0.31</br>word_freq_mail: 0.63</br>word_freq_receive: 0.31</br>word_freq_will: 0.31</br>word_freq_people: 0.31</br>word_freq_report: 0.0</br>word_freq_addresses: 0.0</br>word_freq_free: 0.31</br>word_freq_business: 0.0</br>... too many variables"
          ],
          [
           "</br>id: 4</br>prediction: 0.968</br>char_freq_%24: 2.10105</br></br>word_freq_make: 0.0</br>word_freq_address: 0.0</br>word_freq_all: 0.0</br>word_freq_3d: 0.0</br>word_freq_our: 0.63</br>word_freq_over: 0.0</br>word_freq_remove: 0.31</br>word_freq_internet: 0.63</br>word_freq_order: 0.31</br>word_freq_mail: 0.63</br>word_freq_receive: 0.31</br>word_freq_will: 0.31</br>word_freq_people: 0.31</br>word_freq_report: 0.0</br>word_freq_addresses: 0.0</br>word_freq_free: 0.31</br>word_freq_business: 0.0</br>... too many variables"
          ],
          [
           "</br>id: 4</br>prediction: 0.968</br>char_freq_%24: 2.16108</br></br>word_freq_make: 0.0</br>word_freq_address: 0.0</br>word_freq_all: 0.0</br>word_freq_3d: 0.0</br>word_freq_our: 0.63</br>word_freq_over: 0.0</br>word_freq_remove: 0.31</br>word_freq_internet: 0.63</br>word_freq_order: 0.31</br>word_freq_mail: 0.63</br>word_freq_receive: 0.31</br>word_freq_will: 0.31</br>word_freq_people: 0.31</br>word_freq_report: 0.0</br>word_freq_addresses: 0.0</br>word_freq_free: 0.31</br>word_freq_business: 0.0</br>... too many variables"
          ],
          [
           "</br>id: 4</br>prediction: 0.968</br>char_freq_%24: 2.22111</br></br>word_freq_make: 0.0</br>word_freq_address: 0.0</br>word_freq_all: 0.0</br>word_freq_3d: 0.0</br>word_freq_our: 0.63</br>word_freq_over: 0.0</br>word_freq_remove: 0.31</br>word_freq_internet: 0.63</br>word_freq_order: 0.31</br>word_freq_mail: 0.63</br>word_freq_receive: 0.31</br>word_freq_will: 0.31</br>word_freq_people: 0.31</br>word_freq_report: 0.0</br>word_freq_addresses: 0.0</br>word_freq_free: 0.31</br>word_freq_business: 0.0</br>... too many variables"
          ],
          [
           "</br>id: 4</br>prediction: 0.968</br>char_freq_%24: 2.28114</br></br>word_freq_make: 0.0</br>word_freq_address: 0.0</br>word_freq_all: 0.0</br>word_freq_3d: 0.0</br>word_freq_our: 0.63</br>word_freq_over: 0.0</br>word_freq_remove: 0.31</br>word_freq_internet: 0.63</br>word_freq_order: 0.31</br>word_freq_mail: 0.63</br>word_freq_receive: 0.31</br>word_freq_will: 0.31</br>word_freq_people: 0.31</br>word_freq_report: 0.0</br>word_freq_addresses: 0.0</br>word_freq_free: 0.31</br>word_freq_business: 0.0</br>... too many variables"
          ],
          [
           "</br>id: 4</br>prediction: 0.968</br>char_freq_%24: 2.34117</br></br>word_freq_make: 0.0</br>word_freq_address: 0.0</br>word_freq_all: 0.0</br>word_freq_3d: 0.0</br>word_freq_our: 0.63</br>word_freq_over: 0.0</br>word_freq_remove: 0.31</br>word_freq_internet: 0.63</br>word_freq_order: 0.31</br>word_freq_mail: 0.63</br>word_freq_receive: 0.31</br>word_freq_will: 0.31</br>word_freq_people: 0.31</br>word_freq_report: 0.0</br>word_freq_addresses: 0.0</br>word_freq_free: 0.31</br>word_freq_business: 0.0</br>... too many variables"
          ],
          [
           "</br>id: 4</br>prediction: 0.968</br>char_freq_%24: 2.4012000000000002</br></br>word_freq_make: 0.0</br>word_freq_address: 0.0</br>word_freq_all: 0.0</br>word_freq_3d: 0.0</br>word_freq_our: 0.63</br>word_freq_over: 0.0</br>word_freq_remove: 0.31</br>word_freq_internet: 0.63</br>word_freq_order: 0.31</br>word_freq_mail: 0.63</br>word_freq_receive: 0.31</br>word_freq_will: 0.31</br>word_freq_people: 0.31</br>word_freq_report: 0.0</br>word_freq_addresses: 0.0</br>word_freq_free: 0.31</br>word_freq_business: 0.0</br>... too many variables"
          ],
          [
           "</br>id: 4</br>prediction: 0.968</br>char_freq_%24: 2.46123</br></br>word_freq_make: 0.0</br>word_freq_address: 0.0</br>word_freq_all: 0.0</br>word_freq_3d: 0.0</br>word_freq_our: 0.63</br>word_freq_over: 0.0</br>word_freq_remove: 0.31</br>word_freq_internet: 0.63</br>word_freq_order: 0.31</br>word_freq_mail: 0.63</br>word_freq_receive: 0.31</br>word_freq_will: 0.31</br>word_freq_people: 0.31</br>word_freq_report: 0.0</br>word_freq_addresses: 0.0</br>word_freq_free: 0.31</br>word_freq_business: 0.0</br>... too many variables"
          ],
          [
           "</br>id: 4</br>prediction: 0.968</br>char_freq_%24: 2.52126</br></br>word_freq_make: 0.0</br>word_freq_address: 0.0</br>word_freq_all: 0.0</br>word_freq_3d: 0.0</br>word_freq_our: 0.63</br>word_freq_over: 0.0</br>word_freq_remove: 0.31</br>word_freq_internet: 0.63</br>word_freq_order: 0.31</br>word_freq_mail: 0.63</br>word_freq_receive: 0.31</br>word_freq_will: 0.31</br>word_freq_people: 0.31</br>word_freq_report: 0.0</br>word_freq_addresses: 0.0</br>word_freq_free: 0.31</br>word_freq_business: 0.0</br>... too many variables"
          ],
          [
           "</br>id: 4</br>prediction: 0.968</br>char_freq_%24: 2.58129</br></br>word_freq_make: 0.0</br>word_freq_address: 0.0</br>word_freq_all: 0.0</br>word_freq_3d: 0.0</br>word_freq_our: 0.63</br>word_freq_over: 0.0</br>word_freq_remove: 0.31</br>word_freq_internet: 0.63</br>word_freq_order: 0.31</br>word_freq_mail: 0.63</br>word_freq_receive: 0.31</br>word_freq_will: 0.31</br>word_freq_people: 0.31</br>word_freq_report: 0.0</br>word_freq_addresses: 0.0</br>word_freq_free: 0.31</br>word_freq_business: 0.0</br>... too many variables"
          ],
          [
           "</br>id: 4</br>prediction: 0.968</br>char_freq_%24: 2.64132</br></br>word_freq_make: 0.0</br>word_freq_address: 0.0</br>word_freq_all: 0.0</br>word_freq_3d: 0.0</br>word_freq_our: 0.63</br>word_freq_over: 0.0</br>word_freq_remove: 0.31</br>word_freq_internet: 0.63</br>word_freq_order: 0.31</br>word_freq_mail: 0.63</br>word_freq_receive: 0.31</br>word_freq_will: 0.31</br>word_freq_people: 0.31</br>word_freq_report: 0.0</br>word_freq_addresses: 0.0</br>word_freq_free: 0.31</br>word_freq_business: 0.0</br>... too many variables"
          ],
          [
           "</br>id: 4</br>prediction: 0.968</br>char_freq_%24: 2.70135</br></br>word_freq_make: 0.0</br>word_freq_address: 0.0</br>word_freq_all: 0.0</br>word_freq_3d: 0.0</br>word_freq_our: 0.63</br>word_freq_over: 0.0</br>word_freq_remove: 0.31</br>word_freq_internet: 0.63</br>word_freq_order: 0.31</br>word_freq_mail: 0.63</br>word_freq_receive: 0.31</br>word_freq_will: 0.31</br>word_freq_people: 0.31</br>word_freq_report: 0.0</br>word_freq_addresses: 0.0</br>word_freq_free: 0.31</br>word_freq_business: 0.0</br>... too many variables"
          ],
          [
           "</br>id: 4</br>prediction: 0.968</br>char_freq_%24: 2.76138</br></br>word_freq_make: 0.0</br>word_freq_address: 0.0</br>word_freq_all: 0.0</br>word_freq_3d: 0.0</br>word_freq_our: 0.63</br>word_freq_over: 0.0</br>word_freq_remove: 0.31</br>word_freq_internet: 0.63</br>word_freq_order: 0.31</br>word_freq_mail: 0.63</br>word_freq_receive: 0.31</br>word_freq_will: 0.31</br>word_freq_people: 0.31</br>word_freq_report: 0.0</br>word_freq_addresses: 0.0</br>word_freq_free: 0.31</br>word_freq_business: 0.0</br>... too many variables"
          ],
          [
           "</br>id: 4</br>prediction: 0.968</br>char_freq_%24: 2.82141</br></br>word_freq_make: 0.0</br>word_freq_address: 0.0</br>word_freq_all: 0.0</br>word_freq_3d: 0.0</br>word_freq_our: 0.63</br>word_freq_over: 0.0</br>word_freq_remove: 0.31</br>word_freq_internet: 0.63</br>word_freq_order: 0.31</br>word_freq_mail: 0.63</br>word_freq_receive: 0.31</br>word_freq_will: 0.31</br>word_freq_people: 0.31</br>word_freq_report: 0.0</br>word_freq_addresses: 0.0</br>word_freq_free: 0.31</br>word_freq_business: 0.0</br>... too many variables"
          ],
          [
           "</br>id: 4</br>prediction: 0.968</br>char_freq_%24: 2.88144</br></br>word_freq_make: 0.0</br>word_freq_address: 0.0</br>word_freq_all: 0.0</br>word_freq_3d: 0.0</br>word_freq_our: 0.63</br>word_freq_over: 0.0</br>word_freq_remove: 0.31</br>word_freq_internet: 0.63</br>word_freq_order: 0.31</br>word_freq_mail: 0.63</br>word_freq_receive: 0.31</br>word_freq_will: 0.31</br>word_freq_people: 0.31</br>word_freq_report: 0.0</br>word_freq_addresses: 0.0</br>word_freq_free: 0.31</br>word_freq_business: 0.0</br>... too many variables"
          ],
          [
           "</br>id: 4</br>prediction: 0.968</br>char_freq_%24: 2.94147</br></br>word_freq_make: 0.0</br>word_freq_address: 0.0</br>word_freq_all: 0.0</br>word_freq_3d: 0.0</br>word_freq_our: 0.63</br>word_freq_over: 0.0</br>word_freq_remove: 0.31</br>word_freq_internet: 0.63</br>word_freq_order: 0.31</br>word_freq_mail: 0.63</br>word_freq_receive: 0.31</br>word_freq_will: 0.31</br>word_freq_people: 0.31</br>word_freq_report: 0.0</br>word_freq_addresses: 0.0</br>word_freq_free: 0.31</br>word_freq_business: 0.0</br>... too many variables"
          ],
          [
           "</br>id: 4</br>prediction: 0.968</br>char_freq_%24: 3.0015</br></br>word_freq_make: 0.0</br>word_freq_address: 0.0</br>word_freq_all: 0.0</br>word_freq_3d: 0.0</br>word_freq_our: 0.63</br>word_freq_over: 0.0</br>word_freq_remove: 0.31</br>word_freq_internet: 0.63</br>word_freq_order: 0.31</br>word_freq_mail: 0.63</br>word_freq_receive: 0.31</br>word_freq_will: 0.31</br>word_freq_people: 0.31</br>word_freq_report: 0.0</br>word_freq_addresses: 0.0</br>word_freq_free: 0.31</br>word_freq_business: 0.0</br>... too many variables"
          ],
          [
           "</br>id: 4</br>prediction: 0.968</br>char_freq_%24: 3.06153</br></br>word_freq_make: 0.0</br>word_freq_address: 0.0</br>word_freq_all: 0.0</br>word_freq_3d: 0.0</br>word_freq_our: 0.63</br>word_freq_over: 0.0</br>word_freq_remove: 0.31</br>word_freq_internet: 0.63</br>word_freq_order: 0.31</br>word_freq_mail: 0.63</br>word_freq_receive: 0.31</br>word_freq_will: 0.31</br>word_freq_people: 0.31</br>word_freq_report: 0.0</br>word_freq_addresses: 0.0</br>word_freq_free: 0.31</br>word_freq_business: 0.0</br>... too many variables"
          ],
          [
           "</br>id: 4</br>prediction: 0.968</br>char_freq_%24: 3.12156</br></br>word_freq_make: 0.0</br>word_freq_address: 0.0</br>word_freq_all: 0.0</br>word_freq_3d: 0.0</br>word_freq_our: 0.63</br>word_freq_over: 0.0</br>word_freq_remove: 0.31</br>word_freq_internet: 0.63</br>word_freq_order: 0.31</br>word_freq_mail: 0.63</br>word_freq_receive: 0.31</br>word_freq_will: 0.31</br>word_freq_people: 0.31</br>word_freq_report: 0.0</br>word_freq_addresses: 0.0</br>word_freq_free: 0.31</br>word_freq_business: 0.0</br>... too many variables"
          ],
          [
           "</br>id: 4</br>prediction: 0.968</br>char_freq_%24: 3.18159</br></br>word_freq_make: 0.0</br>word_freq_address: 0.0</br>word_freq_all: 0.0</br>word_freq_3d: 0.0</br>word_freq_our: 0.63</br>word_freq_over: 0.0</br>word_freq_remove: 0.31</br>word_freq_internet: 0.63</br>word_freq_order: 0.31</br>word_freq_mail: 0.63</br>word_freq_receive: 0.31</br>word_freq_will: 0.31</br>word_freq_people: 0.31</br>word_freq_report: 0.0</br>word_freq_addresses: 0.0</br>word_freq_free: 0.31</br>word_freq_business: 0.0</br>... too many variables"
          ],
          [
           "</br>id: 4</br>prediction: 0.968</br>char_freq_%24: 3.24162</br></br>word_freq_make: 0.0</br>word_freq_address: 0.0</br>word_freq_all: 0.0</br>word_freq_3d: 0.0</br>word_freq_our: 0.63</br>word_freq_over: 0.0</br>word_freq_remove: 0.31</br>word_freq_internet: 0.63</br>word_freq_order: 0.31</br>word_freq_mail: 0.63</br>word_freq_receive: 0.31</br>word_freq_will: 0.31</br>word_freq_people: 0.31</br>word_freq_report: 0.0</br>word_freq_addresses: 0.0</br>word_freq_free: 0.31</br>word_freq_business: 0.0</br>... too many variables"
          ],
          [
           "</br>id: 4</br>prediction: 0.968</br>char_freq_%24: 3.30165</br></br>word_freq_make: 0.0</br>word_freq_address: 0.0</br>word_freq_all: 0.0</br>word_freq_3d: 0.0</br>word_freq_our: 0.63</br>word_freq_over: 0.0</br>word_freq_remove: 0.31</br>word_freq_internet: 0.63</br>word_freq_order: 0.31</br>word_freq_mail: 0.63</br>word_freq_receive: 0.31</br>word_freq_will: 0.31</br>word_freq_people: 0.31</br>word_freq_report: 0.0</br>word_freq_addresses: 0.0</br>word_freq_free: 0.31</br>word_freq_business: 0.0</br>... too many variables"
          ],
          [
           "</br>id: 4</br>prediction: 0.968</br>char_freq_%24: 3.36168</br></br>word_freq_make: 0.0</br>word_freq_address: 0.0</br>word_freq_all: 0.0</br>word_freq_3d: 0.0</br>word_freq_our: 0.63</br>word_freq_over: 0.0</br>word_freq_remove: 0.31</br>word_freq_internet: 0.63</br>word_freq_order: 0.31</br>word_freq_mail: 0.63</br>word_freq_receive: 0.31</br>word_freq_will: 0.31</br>word_freq_people: 0.31</br>word_freq_report: 0.0</br>word_freq_addresses: 0.0</br>word_freq_free: 0.31</br>word_freq_business: 0.0</br>... too many variables"
          ],
          [
           "</br>id: 4</br>prediction: 0.968</br>char_freq_%24: 3.42171</br></br>word_freq_make: 0.0</br>word_freq_address: 0.0</br>word_freq_all: 0.0</br>word_freq_3d: 0.0</br>word_freq_our: 0.63</br>word_freq_over: 0.0</br>word_freq_remove: 0.31</br>word_freq_internet: 0.63</br>word_freq_order: 0.31</br>word_freq_mail: 0.63</br>word_freq_receive: 0.31</br>word_freq_will: 0.31</br>word_freq_people: 0.31</br>word_freq_report: 0.0</br>word_freq_addresses: 0.0</br>word_freq_free: 0.31</br>word_freq_business: 0.0</br>... too many variables"
          ],
          [
           "</br>id: 4</br>prediction: 0.968</br>char_freq_%24: 3.48174</br></br>word_freq_make: 0.0</br>word_freq_address: 0.0</br>word_freq_all: 0.0</br>word_freq_3d: 0.0</br>word_freq_our: 0.63</br>word_freq_over: 0.0</br>word_freq_remove: 0.31</br>word_freq_internet: 0.63</br>word_freq_order: 0.31</br>word_freq_mail: 0.63</br>word_freq_receive: 0.31</br>word_freq_will: 0.31</br>word_freq_people: 0.31</br>word_freq_report: 0.0</br>word_freq_addresses: 0.0</br>word_freq_free: 0.31</br>word_freq_business: 0.0</br>... too many variables"
          ],
          [
           "</br>id: 4</br>prediction: 0.968</br>char_freq_%24: 3.54177</br></br>word_freq_make: 0.0</br>word_freq_address: 0.0</br>word_freq_all: 0.0</br>word_freq_3d: 0.0</br>word_freq_our: 0.63</br>word_freq_over: 0.0</br>word_freq_remove: 0.31</br>word_freq_internet: 0.63</br>word_freq_order: 0.31</br>word_freq_mail: 0.63</br>word_freq_receive: 0.31</br>word_freq_will: 0.31</br>word_freq_people: 0.31</br>word_freq_report: 0.0</br>word_freq_addresses: 0.0</br>word_freq_free: 0.31</br>word_freq_business: 0.0</br>... too many variables"
          ],
          [
           "</br>id: 4</br>prediction: 0.968</br>char_freq_%24: 3.6018</br></br>word_freq_make: 0.0</br>word_freq_address: 0.0</br>word_freq_all: 0.0</br>word_freq_3d: 0.0</br>word_freq_our: 0.63</br>word_freq_over: 0.0</br>word_freq_remove: 0.31</br>word_freq_internet: 0.63</br>word_freq_order: 0.31</br>word_freq_mail: 0.63</br>word_freq_receive: 0.31</br>word_freq_will: 0.31</br>word_freq_people: 0.31</br>word_freq_report: 0.0</br>word_freq_addresses: 0.0</br>word_freq_free: 0.31</br>word_freq_business: 0.0</br>... too many variables"
          ],
          [
           "</br>id: 4</br>prediction: 0.968</br>char_freq_%24: 3.66183</br></br>word_freq_make: 0.0</br>word_freq_address: 0.0</br>word_freq_all: 0.0</br>word_freq_3d: 0.0</br>word_freq_our: 0.63</br>word_freq_over: 0.0</br>word_freq_remove: 0.31</br>word_freq_internet: 0.63</br>word_freq_order: 0.31</br>word_freq_mail: 0.63</br>word_freq_receive: 0.31</br>word_freq_will: 0.31</br>word_freq_people: 0.31</br>word_freq_report: 0.0</br>word_freq_addresses: 0.0</br>word_freq_free: 0.31</br>word_freq_business: 0.0</br>... too many variables"
          ],
          [
           "</br>id: 4</br>prediction: 0.968</br>char_freq_%24: 3.72186</br></br>word_freq_make: 0.0</br>word_freq_address: 0.0</br>word_freq_all: 0.0</br>word_freq_3d: 0.0</br>word_freq_our: 0.63</br>word_freq_over: 0.0</br>word_freq_remove: 0.31</br>word_freq_internet: 0.63</br>word_freq_order: 0.31</br>word_freq_mail: 0.63</br>word_freq_receive: 0.31</br>word_freq_will: 0.31</br>word_freq_people: 0.31</br>word_freq_report: 0.0</br>word_freq_addresses: 0.0</br>word_freq_free: 0.31</br>word_freq_business: 0.0</br>... too many variables"
          ],
          [
           "</br>id: 4</br>prediction: 0.968</br>char_freq_%24: 3.78189</br></br>word_freq_make: 0.0</br>word_freq_address: 0.0</br>word_freq_all: 0.0</br>word_freq_3d: 0.0</br>word_freq_our: 0.63</br>word_freq_over: 0.0</br>word_freq_remove: 0.31</br>word_freq_internet: 0.63</br>word_freq_order: 0.31</br>word_freq_mail: 0.63</br>word_freq_receive: 0.31</br>word_freq_will: 0.31</br>word_freq_people: 0.31</br>word_freq_report: 0.0</br>word_freq_addresses: 0.0</br>word_freq_free: 0.31</br>word_freq_business: 0.0</br>... too many variables"
          ],
          [
           "</br>id: 4</br>prediction: 0.968</br>char_freq_%24: 3.84192</br></br>word_freq_make: 0.0</br>word_freq_address: 0.0</br>word_freq_all: 0.0</br>word_freq_3d: 0.0</br>word_freq_our: 0.63</br>word_freq_over: 0.0</br>word_freq_remove: 0.31</br>word_freq_internet: 0.63</br>word_freq_order: 0.31</br>word_freq_mail: 0.63</br>word_freq_receive: 0.31</br>word_freq_will: 0.31</br>word_freq_people: 0.31</br>word_freq_report: 0.0</br>word_freq_addresses: 0.0</br>word_freq_free: 0.31</br>word_freq_business: 0.0</br>... too many variables"
          ],
          [
           "</br>id: 4</br>prediction: 0.968</br>char_freq_%24: 3.90195</br></br>word_freq_make: 0.0</br>word_freq_address: 0.0</br>word_freq_all: 0.0</br>word_freq_3d: 0.0</br>word_freq_our: 0.63</br>word_freq_over: 0.0</br>word_freq_remove: 0.31</br>word_freq_internet: 0.63</br>word_freq_order: 0.31</br>word_freq_mail: 0.63</br>word_freq_receive: 0.31</br>word_freq_will: 0.31</br>word_freq_people: 0.31</br>word_freq_report: 0.0</br>word_freq_addresses: 0.0</br>word_freq_free: 0.31</br>word_freq_business: 0.0</br>... too many variables"
          ],
          [
           "</br>id: 4</br>prediction: 0.968</br>char_freq_%24: 3.96198</br></br>word_freq_make: 0.0</br>word_freq_address: 0.0</br>word_freq_all: 0.0</br>word_freq_3d: 0.0</br>word_freq_our: 0.63</br>word_freq_over: 0.0</br>word_freq_remove: 0.31</br>word_freq_internet: 0.63</br>word_freq_order: 0.31</br>word_freq_mail: 0.63</br>word_freq_receive: 0.31</br>word_freq_will: 0.31</br>word_freq_people: 0.31</br>word_freq_report: 0.0</br>word_freq_addresses: 0.0</br>word_freq_free: 0.31</br>word_freq_business: 0.0</br>... too many variables"
          ],
          [
           "</br>id: 4</br>prediction: 0.968</br>char_freq_%24: 4.02201</br></br>word_freq_make: 0.0</br>word_freq_address: 0.0</br>word_freq_all: 0.0</br>word_freq_3d: 0.0</br>word_freq_our: 0.63</br>word_freq_over: 0.0</br>word_freq_remove: 0.31</br>word_freq_internet: 0.63</br>word_freq_order: 0.31</br>word_freq_mail: 0.63</br>word_freq_receive: 0.31</br>word_freq_will: 0.31</br>word_freq_people: 0.31</br>word_freq_report: 0.0</br>word_freq_addresses: 0.0</br>word_freq_free: 0.31</br>word_freq_business: 0.0</br>... too many variables"
          ],
          [
           "</br>id: 4</br>prediction: 0.968</br>char_freq_%24: 4.08204</br></br>word_freq_make: 0.0</br>word_freq_address: 0.0</br>word_freq_all: 0.0</br>word_freq_3d: 0.0</br>word_freq_our: 0.63</br>word_freq_over: 0.0</br>word_freq_remove: 0.31</br>word_freq_internet: 0.63</br>word_freq_order: 0.31</br>word_freq_mail: 0.63</br>word_freq_receive: 0.31</br>word_freq_will: 0.31</br>word_freq_people: 0.31</br>word_freq_report: 0.0</br>word_freq_addresses: 0.0</br>word_freq_free: 0.31</br>word_freq_business: 0.0</br>... too many variables"
          ],
          [
           "</br>id: 4</br>prediction: 0.968</br>char_freq_%24: 4.14207</br></br>word_freq_make: 0.0</br>word_freq_address: 0.0</br>word_freq_all: 0.0</br>word_freq_3d: 0.0</br>word_freq_our: 0.63</br>word_freq_over: 0.0</br>word_freq_remove: 0.31</br>word_freq_internet: 0.63</br>word_freq_order: 0.31</br>word_freq_mail: 0.63</br>word_freq_receive: 0.31</br>word_freq_will: 0.31</br>word_freq_people: 0.31</br>word_freq_report: 0.0</br>word_freq_addresses: 0.0</br>word_freq_free: 0.31</br>word_freq_business: 0.0</br>... too many variables"
          ],
          [
           "</br>id: 4</br>prediction: 0.968</br>char_freq_%24: 4.2021</br></br>word_freq_make: 0.0</br>word_freq_address: 0.0</br>word_freq_all: 0.0</br>word_freq_3d: 0.0</br>word_freq_our: 0.63</br>word_freq_over: 0.0</br>word_freq_remove: 0.31</br>word_freq_internet: 0.63</br>word_freq_order: 0.31</br>word_freq_mail: 0.63</br>word_freq_receive: 0.31</br>word_freq_will: 0.31</br>word_freq_people: 0.31</br>word_freq_report: 0.0</br>word_freq_addresses: 0.0</br>word_freq_free: 0.31</br>word_freq_business: 0.0</br>... too many variables"
          ],
          [
           "</br>id: 4</br>prediction: 0.968</br>char_freq_%24: 4.26213</br></br>word_freq_make: 0.0</br>word_freq_address: 0.0</br>word_freq_all: 0.0</br>word_freq_3d: 0.0</br>word_freq_our: 0.63</br>word_freq_over: 0.0</br>word_freq_remove: 0.31</br>word_freq_internet: 0.63</br>word_freq_order: 0.31</br>word_freq_mail: 0.63</br>word_freq_receive: 0.31</br>word_freq_will: 0.31</br>word_freq_people: 0.31</br>word_freq_report: 0.0</br>word_freq_addresses: 0.0</br>word_freq_free: 0.31</br>word_freq_business: 0.0</br>... too many variables"
          ],
          [
           "</br>id: 4</br>prediction: 0.968</br>char_freq_%24: 4.32216</br></br>word_freq_make: 0.0</br>word_freq_address: 0.0</br>word_freq_all: 0.0</br>word_freq_3d: 0.0</br>word_freq_our: 0.63</br>word_freq_over: 0.0</br>word_freq_remove: 0.31</br>word_freq_internet: 0.63</br>word_freq_order: 0.31</br>word_freq_mail: 0.63</br>word_freq_receive: 0.31</br>word_freq_will: 0.31</br>word_freq_people: 0.31</br>word_freq_report: 0.0</br>word_freq_addresses: 0.0</br>word_freq_free: 0.31</br>word_freq_business: 0.0</br>... too many variables"
          ],
          [
           "</br>id: 4</br>prediction: 0.968</br>char_freq_%24: 4.38219</br></br>word_freq_make: 0.0</br>word_freq_address: 0.0</br>word_freq_all: 0.0</br>word_freq_3d: 0.0</br>word_freq_our: 0.63</br>word_freq_over: 0.0</br>word_freq_remove: 0.31</br>word_freq_internet: 0.63</br>word_freq_order: 0.31</br>word_freq_mail: 0.63</br>word_freq_receive: 0.31</br>word_freq_will: 0.31</br>word_freq_people: 0.31</br>word_freq_report: 0.0</br>word_freq_addresses: 0.0</br>word_freq_free: 0.31</br>word_freq_business: 0.0</br>... too many variables"
          ],
          [
           "</br>id: 4</br>prediction: 0.968</br>char_freq_%24: 4.44222</br></br>word_freq_make: 0.0</br>word_freq_address: 0.0</br>word_freq_all: 0.0</br>word_freq_3d: 0.0</br>word_freq_our: 0.63</br>word_freq_over: 0.0</br>word_freq_remove: 0.31</br>word_freq_internet: 0.63</br>word_freq_order: 0.31</br>word_freq_mail: 0.63</br>word_freq_receive: 0.31</br>word_freq_will: 0.31</br>word_freq_people: 0.31</br>word_freq_report: 0.0</br>word_freq_addresses: 0.0</br>word_freq_free: 0.31</br>word_freq_business: 0.0</br>... too many variables"
          ],
          [
           "</br>id: 4</br>prediction: 0.968</br>char_freq_%24: 4.50225</br></br>word_freq_make: 0.0</br>word_freq_address: 0.0</br>word_freq_all: 0.0</br>word_freq_3d: 0.0</br>word_freq_our: 0.63</br>word_freq_over: 0.0</br>word_freq_remove: 0.31</br>word_freq_internet: 0.63</br>word_freq_order: 0.31</br>word_freq_mail: 0.63</br>word_freq_receive: 0.31</br>word_freq_will: 0.31</br>word_freq_people: 0.31</br>word_freq_report: 0.0</br>word_freq_addresses: 0.0</br>word_freq_free: 0.31</br>word_freq_business: 0.0</br>... too many variables"
          ],
          [
           "</br>id: 4</br>prediction: 0.968</br>char_freq_%24: 4.56228</br></br>word_freq_make: 0.0</br>word_freq_address: 0.0</br>word_freq_all: 0.0</br>word_freq_3d: 0.0</br>word_freq_our: 0.63</br>word_freq_over: 0.0</br>word_freq_remove: 0.31</br>word_freq_internet: 0.63</br>word_freq_order: 0.31</br>word_freq_mail: 0.63</br>word_freq_receive: 0.31</br>word_freq_will: 0.31</br>word_freq_people: 0.31</br>word_freq_report: 0.0</br>word_freq_addresses: 0.0</br>word_freq_free: 0.31</br>word_freq_business: 0.0</br>... too many variables"
          ],
          [
           "</br>id: 4</br>prediction: 0.968</br>char_freq_%24: 4.62231</br></br>word_freq_make: 0.0</br>word_freq_address: 0.0</br>word_freq_all: 0.0</br>word_freq_3d: 0.0</br>word_freq_our: 0.63</br>word_freq_over: 0.0</br>word_freq_remove: 0.31</br>word_freq_internet: 0.63</br>word_freq_order: 0.31</br>word_freq_mail: 0.63</br>word_freq_receive: 0.31</br>word_freq_will: 0.31</br>word_freq_people: 0.31</br>word_freq_report: 0.0</br>word_freq_addresses: 0.0</br>word_freq_free: 0.31</br>word_freq_business: 0.0</br>... too many variables"
          ],
          [
           "</br>id: 4</br>prediction: 0.968</br>char_freq_%24: 4.68234</br></br>word_freq_make: 0.0</br>word_freq_address: 0.0</br>word_freq_all: 0.0</br>word_freq_3d: 0.0</br>word_freq_our: 0.63</br>word_freq_over: 0.0</br>word_freq_remove: 0.31</br>word_freq_internet: 0.63</br>word_freq_order: 0.31</br>word_freq_mail: 0.63</br>word_freq_receive: 0.31</br>word_freq_will: 0.31</br>word_freq_people: 0.31</br>word_freq_report: 0.0</br>word_freq_addresses: 0.0</br>word_freq_free: 0.31</br>word_freq_business: 0.0</br>... too many variables"
          ],
          [
           "</br>id: 4</br>prediction: 0.968</br>char_freq_%24: 4.74237</br></br>word_freq_make: 0.0</br>word_freq_address: 0.0</br>word_freq_all: 0.0</br>word_freq_3d: 0.0</br>word_freq_our: 0.63</br>word_freq_over: 0.0</br>word_freq_remove: 0.31</br>word_freq_internet: 0.63</br>word_freq_order: 0.31</br>word_freq_mail: 0.63</br>word_freq_receive: 0.31</br>word_freq_will: 0.31</br>word_freq_people: 0.31</br>word_freq_report: 0.0</br>word_freq_addresses: 0.0</br>word_freq_free: 0.31</br>word_freq_business: 0.0</br>... too many variables"
          ],
          [
           "</br>id: 4</br>prediction: 0.968</br>char_freq_%24: 4.8024000000000004</br></br>word_freq_make: 0.0</br>word_freq_address: 0.0</br>word_freq_all: 0.0</br>word_freq_3d: 0.0</br>word_freq_our: 0.63</br>word_freq_over: 0.0</br>word_freq_remove: 0.31</br>word_freq_internet: 0.63</br>word_freq_order: 0.31</br>word_freq_mail: 0.63</br>word_freq_receive: 0.31</br>word_freq_will: 0.31</br>word_freq_people: 0.31</br>word_freq_report: 0.0</br>word_freq_addresses: 0.0</br>word_freq_free: 0.31</br>word_freq_business: 0.0</br>... too many variables"
          ],
          [
           "</br>id: 4</br>prediction: 0.968</br>char_freq_%24: 4.86243</br></br>word_freq_make: 0.0</br>word_freq_address: 0.0</br>word_freq_all: 0.0</br>word_freq_3d: 0.0</br>word_freq_our: 0.63</br>word_freq_over: 0.0</br>word_freq_remove: 0.31</br>word_freq_internet: 0.63</br>word_freq_order: 0.31</br>word_freq_mail: 0.63</br>word_freq_receive: 0.31</br>word_freq_will: 0.31</br>word_freq_people: 0.31</br>word_freq_report: 0.0</br>word_freq_addresses: 0.0</br>word_freq_free: 0.31</br>word_freq_business: 0.0</br>... too many variables"
          ],
          [
           "</br>id: 4</br>prediction: 0.968</br>char_freq_%24: 4.92246</br></br>word_freq_make: 0.0</br>word_freq_address: 0.0</br>word_freq_all: 0.0</br>word_freq_3d: 0.0</br>word_freq_our: 0.63</br>word_freq_over: 0.0</br>word_freq_remove: 0.31</br>word_freq_internet: 0.63</br>word_freq_order: 0.31</br>word_freq_mail: 0.63</br>word_freq_receive: 0.31</br>word_freq_will: 0.31</br>word_freq_people: 0.31</br>word_freq_report: 0.0</br>word_freq_addresses: 0.0</br>word_freq_free: 0.31</br>word_freq_business: 0.0</br>... too many variables"
          ],
          [
           "</br>id: 4</br>prediction: 0.968</br>char_freq_%24: 4.98249</br></br>word_freq_make: 0.0</br>word_freq_address: 0.0</br>word_freq_all: 0.0</br>word_freq_3d: 0.0</br>word_freq_our: 0.63</br>word_freq_over: 0.0</br>word_freq_remove: 0.31</br>word_freq_internet: 0.63</br>word_freq_order: 0.31</br>word_freq_mail: 0.63</br>word_freq_receive: 0.31</br>word_freq_will: 0.31</br>word_freq_people: 0.31</br>word_freq_report: 0.0</br>word_freq_addresses: 0.0</br>word_freq_free: 0.31</br>word_freq_business: 0.0</br>... too many variables"
          ],
          [
           "</br>id: 4</br>prediction: 0.968</br>char_freq_%24: 5.04252</br></br>word_freq_make: 0.0</br>word_freq_address: 0.0</br>word_freq_all: 0.0</br>word_freq_3d: 0.0</br>word_freq_our: 0.63</br>word_freq_over: 0.0</br>word_freq_remove: 0.31</br>word_freq_internet: 0.63</br>word_freq_order: 0.31</br>word_freq_mail: 0.63</br>word_freq_receive: 0.31</br>word_freq_will: 0.31</br>word_freq_people: 0.31</br>word_freq_report: 0.0</br>word_freq_addresses: 0.0</br>word_freq_free: 0.31</br>word_freq_business: 0.0</br>... too many variables"
          ],
          [
           "</br>id: 4</br>prediction: 0.968</br>char_freq_%24: 5.10255</br></br>word_freq_make: 0.0</br>word_freq_address: 0.0</br>word_freq_all: 0.0</br>word_freq_3d: 0.0</br>word_freq_our: 0.63</br>word_freq_over: 0.0</br>word_freq_remove: 0.31</br>word_freq_internet: 0.63</br>word_freq_order: 0.31</br>word_freq_mail: 0.63</br>word_freq_receive: 0.31</br>word_freq_will: 0.31</br>word_freq_people: 0.31</br>word_freq_report: 0.0</br>word_freq_addresses: 0.0</br>word_freq_free: 0.31</br>word_freq_business: 0.0</br>... too many variables"
          ],
          [
           "</br>id: 4</br>prediction: 0.968</br>char_freq_%24: 5.16258</br></br>word_freq_make: 0.0</br>word_freq_address: 0.0</br>word_freq_all: 0.0</br>word_freq_3d: 0.0</br>word_freq_our: 0.63</br>word_freq_over: 0.0</br>word_freq_remove: 0.31</br>word_freq_internet: 0.63</br>word_freq_order: 0.31</br>word_freq_mail: 0.63</br>word_freq_receive: 0.31</br>word_freq_will: 0.31</br>word_freq_people: 0.31</br>word_freq_report: 0.0</br>word_freq_addresses: 0.0</br>word_freq_free: 0.31</br>word_freq_business: 0.0</br>... too many variables"
          ],
          [
           "</br>id: 4</br>prediction: 0.968</br>char_freq_%24: 5.22261</br></br>word_freq_make: 0.0</br>word_freq_address: 0.0</br>word_freq_all: 0.0</br>word_freq_3d: 0.0</br>word_freq_our: 0.63</br>word_freq_over: 0.0</br>word_freq_remove: 0.31</br>word_freq_internet: 0.63</br>word_freq_order: 0.31</br>word_freq_mail: 0.63</br>word_freq_receive: 0.31</br>word_freq_will: 0.31</br>word_freq_people: 0.31</br>word_freq_report: 0.0</br>word_freq_addresses: 0.0</br>word_freq_free: 0.31</br>word_freq_business: 0.0</br>... too many variables"
          ],
          [
           "</br>id: 4</br>prediction: 0.968</br>char_freq_%24: 5.28264</br></br>word_freq_make: 0.0</br>word_freq_address: 0.0</br>word_freq_all: 0.0</br>word_freq_3d: 0.0</br>word_freq_our: 0.63</br>word_freq_over: 0.0</br>word_freq_remove: 0.31</br>word_freq_internet: 0.63</br>word_freq_order: 0.31</br>word_freq_mail: 0.63</br>word_freq_receive: 0.31</br>word_freq_will: 0.31</br>word_freq_people: 0.31</br>word_freq_report: 0.0</br>word_freq_addresses: 0.0</br>word_freq_free: 0.31</br>word_freq_business: 0.0</br>... too many variables"
          ],
          [
           "</br>id: 4</br>prediction: 0.968</br>char_freq_%24: 5.34267</br></br>word_freq_make: 0.0</br>word_freq_address: 0.0</br>word_freq_all: 0.0</br>word_freq_3d: 0.0</br>word_freq_our: 0.63</br>word_freq_over: 0.0</br>word_freq_remove: 0.31</br>word_freq_internet: 0.63</br>word_freq_order: 0.31</br>word_freq_mail: 0.63</br>word_freq_receive: 0.31</br>word_freq_will: 0.31</br>word_freq_people: 0.31</br>word_freq_report: 0.0</br>word_freq_addresses: 0.0</br>word_freq_free: 0.31</br>word_freq_business: 0.0</br>... too many variables"
          ],
          [
           "</br>id: 4</br>prediction: 0.968</br>char_freq_%24: 5.4027</br></br>word_freq_make: 0.0</br>word_freq_address: 0.0</br>word_freq_all: 0.0</br>word_freq_3d: 0.0</br>word_freq_our: 0.63</br>word_freq_over: 0.0</br>word_freq_remove: 0.31</br>word_freq_internet: 0.63</br>word_freq_order: 0.31</br>word_freq_mail: 0.63</br>word_freq_receive: 0.31</br>word_freq_will: 0.31</br>word_freq_people: 0.31</br>word_freq_report: 0.0</br>word_freq_addresses: 0.0</br>word_freq_free: 0.31</br>word_freq_business: 0.0</br>... too many variables"
          ],
          [
           "</br>id: 4</br>prediction: 0.968</br>char_freq_%24: 5.46273</br></br>word_freq_make: 0.0</br>word_freq_address: 0.0</br>word_freq_all: 0.0</br>word_freq_3d: 0.0</br>word_freq_our: 0.63</br>word_freq_over: 0.0</br>word_freq_remove: 0.31</br>word_freq_internet: 0.63</br>word_freq_order: 0.31</br>word_freq_mail: 0.63</br>word_freq_receive: 0.31</br>word_freq_will: 0.31</br>word_freq_people: 0.31</br>word_freq_report: 0.0</br>word_freq_addresses: 0.0</br>word_freq_free: 0.31</br>word_freq_business: 0.0</br>... too many variables"
          ],
          [
           "</br>id: 4</br>prediction: 0.968</br>char_freq_%24: 5.52276</br></br>word_freq_make: 0.0</br>word_freq_address: 0.0</br>word_freq_all: 0.0</br>word_freq_3d: 0.0</br>word_freq_our: 0.63</br>word_freq_over: 0.0</br>word_freq_remove: 0.31</br>word_freq_internet: 0.63</br>word_freq_order: 0.31</br>word_freq_mail: 0.63</br>word_freq_receive: 0.31</br>word_freq_will: 0.31</br>word_freq_people: 0.31</br>word_freq_report: 0.0</br>word_freq_addresses: 0.0</br>word_freq_free: 0.31</br>word_freq_business: 0.0</br>... too many variables"
          ],
          [
           "</br>id: 4</br>prediction: 0.968</br>char_freq_%24: 5.58279</br></br>word_freq_make: 0.0</br>word_freq_address: 0.0</br>word_freq_all: 0.0</br>word_freq_3d: 0.0</br>word_freq_our: 0.63</br>word_freq_over: 0.0</br>word_freq_remove: 0.31</br>word_freq_internet: 0.63</br>word_freq_order: 0.31</br>word_freq_mail: 0.63</br>word_freq_receive: 0.31</br>word_freq_will: 0.31</br>word_freq_people: 0.31</br>word_freq_report: 0.0</br>word_freq_addresses: 0.0</br>word_freq_free: 0.31</br>word_freq_business: 0.0</br>... too many variables"
          ],
          [
           "</br>id: 4</br>prediction: 0.968</br>char_freq_%24: 5.64282</br></br>word_freq_make: 0.0</br>word_freq_address: 0.0</br>word_freq_all: 0.0</br>word_freq_3d: 0.0</br>word_freq_our: 0.63</br>word_freq_over: 0.0</br>word_freq_remove: 0.31</br>word_freq_internet: 0.63</br>word_freq_order: 0.31</br>word_freq_mail: 0.63</br>word_freq_receive: 0.31</br>word_freq_will: 0.31</br>word_freq_people: 0.31</br>word_freq_report: 0.0</br>word_freq_addresses: 0.0</br>word_freq_free: 0.31</br>word_freq_business: 0.0</br>... too many variables"
          ],
          [
           "</br>id: 4</br>prediction: 0.968</br>char_freq_%24: 5.70285</br></br>word_freq_make: 0.0</br>word_freq_address: 0.0</br>word_freq_all: 0.0</br>word_freq_3d: 0.0</br>word_freq_our: 0.63</br>word_freq_over: 0.0</br>word_freq_remove: 0.31</br>word_freq_internet: 0.63</br>word_freq_order: 0.31</br>word_freq_mail: 0.63</br>word_freq_receive: 0.31</br>word_freq_will: 0.31</br>word_freq_people: 0.31</br>word_freq_report: 0.0</br>word_freq_addresses: 0.0</br>word_freq_free: 0.31</br>word_freq_business: 0.0</br>... too many variables"
          ],
          [
           "</br>id: 4</br>prediction: 0.968</br>char_freq_%24: 5.76288</br></br>word_freq_make: 0.0</br>word_freq_address: 0.0</br>word_freq_all: 0.0</br>word_freq_3d: 0.0</br>word_freq_our: 0.63</br>word_freq_over: 0.0</br>word_freq_remove: 0.31</br>word_freq_internet: 0.63</br>word_freq_order: 0.31</br>word_freq_mail: 0.63</br>word_freq_receive: 0.31</br>word_freq_will: 0.31</br>word_freq_people: 0.31</br>word_freq_report: 0.0</br>word_freq_addresses: 0.0</br>word_freq_free: 0.31</br>word_freq_business: 0.0</br>... too many variables"
          ],
          [
           "</br>id: 4</br>prediction: 0.968</br>char_freq_%24: 5.82291</br></br>word_freq_make: 0.0</br>word_freq_address: 0.0</br>word_freq_all: 0.0</br>word_freq_3d: 0.0</br>word_freq_our: 0.63</br>word_freq_over: 0.0</br>word_freq_remove: 0.31</br>word_freq_internet: 0.63</br>word_freq_order: 0.31</br>word_freq_mail: 0.63</br>word_freq_receive: 0.31</br>word_freq_will: 0.31</br>word_freq_people: 0.31</br>word_freq_report: 0.0</br>word_freq_addresses: 0.0</br>word_freq_free: 0.31</br>word_freq_business: 0.0</br>... too many variables"
          ],
          [
           "</br>id: 4</br>prediction: 0.968</br>char_freq_%24: 5.88294</br></br>word_freq_make: 0.0</br>word_freq_address: 0.0</br>word_freq_all: 0.0</br>word_freq_3d: 0.0</br>word_freq_our: 0.63</br>word_freq_over: 0.0</br>word_freq_remove: 0.31</br>word_freq_internet: 0.63</br>word_freq_order: 0.31</br>word_freq_mail: 0.63</br>word_freq_receive: 0.31</br>word_freq_will: 0.31</br>word_freq_people: 0.31</br>word_freq_report: 0.0</br>word_freq_addresses: 0.0</br>word_freq_free: 0.31</br>word_freq_business: 0.0</br>... too many variables"
          ],
          [
           "</br>id: 4</br>prediction: 0.968</br>char_freq_%24: 5.94297</br></br>word_freq_make: 0.0</br>word_freq_address: 0.0</br>word_freq_all: 0.0</br>word_freq_3d: 0.0</br>word_freq_our: 0.63</br>word_freq_over: 0.0</br>word_freq_remove: 0.31</br>word_freq_internet: 0.63</br>word_freq_order: 0.31</br>word_freq_mail: 0.63</br>word_freq_receive: 0.31</br>word_freq_will: 0.31</br>word_freq_people: 0.31</br>word_freq_report: 0.0</br>word_freq_addresses: 0.0</br>word_freq_free: 0.31</br>word_freq_business: 0.0</br>... too many variables"
          ],
          [
           "</br>id: 4</br>prediction: 0.968</br>char_freq_%24: 6.003</br></br>word_freq_make: 0.0</br>word_freq_address: 0.0</br>word_freq_all: 0.0</br>word_freq_3d: 0.0</br>word_freq_our: 0.63</br>word_freq_over: 0.0</br>word_freq_remove: 0.31</br>word_freq_internet: 0.63</br>word_freq_order: 0.31</br>word_freq_mail: 0.63</br>word_freq_receive: 0.31</br>word_freq_will: 0.31</br>word_freq_people: 0.31</br>word_freq_report: 0.0</br>word_freq_addresses: 0.0</br>word_freq_free: 0.31</br>word_freq_business: 0.0</br>... too many variables"
          ]
         ],
         "hovertemplate": "%{customdata[0]}<extra></extra>",
         "legendgroup": "RandomForestClassifier",
         "line": {
          "color": "#46bac2",
          "dash": "solid",
          "width": 2
         },
         "marker": {
          "symbol": "circle"
         },
         "mode": "lines",
         "name": "RandomForestClassifier",
         "orientation": "v",
         "showlegend": true,
         "x": [
          0.0,
          0.06003,
          0.12006,
          0.18009,
          0.24012,
          0.30015000000000003,
          0.36018,
          0.42021,
          0.48024,
          0.54027,
          0.6003000000000001,
          0.66033,
          0.72036,
          0.78039,
          0.84042,
          0.90045,
          0.96048,
          1.02051,
          1.08054,
          1.14057,
          1.2006000000000001,
          1.26063,
          1.32066,
          1.38069,
          1.44072,
          1.50075,
          1.56078,
          1.62081,
          1.68084,
          1.74087,
          1.8009,
          1.86093,
          1.92096,
          1.98099,
          2.04102,
          2.10105,
          2.16108,
          2.22111,
          2.28114,
          2.34117,
          2.4012000000000002,
          2.46123,
          2.52126,
          2.58129,
          2.64132,
          2.70135,
          2.76138,
          2.82141,
          2.88144,
          2.94147,
          3.0015,
          3.06153,
          3.12156,
          3.18159,
          3.24162,
          3.30165,
          3.36168,
          3.42171,
          3.48174,
          3.54177,
          3.6018,
          3.66183,
          3.72186,
          3.78189,
          3.84192,
          3.90195,
          3.96198,
          4.02201,
          4.08204,
          4.14207,
          4.2021,
          4.26213,
          4.32216,
          4.38219,
          4.44222,
          4.50225,
          4.56228,
          4.62231,
          4.68234,
          4.74237,
          4.8024000000000004,
          4.86243,
          4.92246,
          4.98249,
          5.04252,
          5.10255,
          5.16258,
          5.22261,
          5.28264,
          5.34267,
          5.4027,
          5.46273,
          5.52276,
          5.58279,
          5.64282,
          5.70285,
          5.76288,
          5.82291,
          5.88294,
          5.94297,
          6.003
         ],
         "xaxis": "x",
         "y": [
          0.9523912599255716,
          0.9622494693672691,
          0.9644897933050218,
          0.9683630639192997,
          0.9684385926202062,
          0.9684385926202062,
          0.9684385926202062,
          0.9684385926202062,
          0.9684385926202062,
          0.9684385926202062,
          0.9684385926202062,
          0.9684385926202062,
          0.9684385926202062,
          0.9684385926202062,
          0.9684385926202062,
          0.9684385926202062,
          0.9684385926202062,
          0.9684385926202062,
          0.9684385926202062,
          0.9684385926202062,
          0.9684385926202062,
          0.9684385926202062,
          0.9684385926202062,
          0.9684385926202062,
          0.9684385926202062,
          0.9684385926202062,
          0.9684385926202062,
          0.9684385926202062,
          0.9684385926202062,
          0.9684385926202062,
          0.9684385926202062,
          0.9684385926202062,
          0.9684385926202062,
          0.9684385926202062,
          0.9684385926202062,
          0.9684385926202062,
          0.9684385926202062,
          0.9684385926202062,
          0.9684385926202062,
          0.9684385926202062,
          0.9684385926202062,
          0.9684385926202062,
          0.9684385926202062,
          0.9684385926202062,
          0.9684385926202062,
          0.9684385926202062,
          0.9684385926202062,
          0.9684385926202062,
          0.9684385926202062,
          0.9684385926202062,
          0.9684385926202062,
          0.9684385926202062,
          0.9684385926202062,
          0.9684385926202062,
          0.9684385926202062,
          0.9684385926202062,
          0.9684385926202062,
          0.9684385926202062,
          0.9684385926202062,
          0.9684385926202062,
          0.9684385926202062,
          0.9684385926202062,
          0.9684385926202062,
          0.9684385926202062,
          0.9684385926202062,
          0.9684385926202062,
          0.9684385926202062,
          0.9684385926202062,
          0.9684385926202062,
          0.9684385926202062,
          0.9684385926202062,
          0.9684385926202062,
          0.9684385926202062,
          0.9684385926202062,
          0.9684385926202062,
          0.9684385926202062,
          0.9684385926202062,
          0.9684385926202062,
          0.9684385926202062,
          0.9684385926202062,
          0.9684385926202062,
          0.9684385926202062,
          0.9684385926202062,
          0.9684385926202062,
          0.9684385926202062,
          0.9684385926202062,
          0.9684385926202062,
          0.9684385926202062,
          0.9684385926202062,
          0.9684385926202062,
          0.9684385926202062,
          0.9684385926202062,
          0.9684385926202062,
          0.9684385926202062,
          0.9684385926202062,
          0.9684385926202062,
          0.9684385926202062,
          0.9684385926202062,
          0.9684385926202062,
          0.9684385926202062,
          0.9684385926202062
         ],
         "yaxis": "y",
         "type": "scatter",
         "opacity": 1
        },
        {
         "customdata": [
          [
           "</br>id: 5</br>prediction: 0.288</br>char_freq_%24: 0.0</br></br>word_freq_make: 0.0</br>word_freq_address: 0.0</br>word_freq_all: 0.0</br>word_freq_3d: 0.0</br>word_freq_our: 1.85</br>word_freq_over: 0.0</br>word_freq_remove: 0.0</br>word_freq_internet: 1.85</br>word_freq_order: 0.0</br>word_freq_mail: 0.0</br>word_freq_receive: 0.0</br>word_freq_will: 0.0</br>word_freq_people: 0.0</br>word_freq_report: 0.0</br>word_freq_addresses: 0.0</br>word_freq_free: 0.0</br>word_freq_business: 0.0</br>word_freq_email: 0.0</br>... too many variables"
          ],
          [
           "</br>id: 5</br>prediction: 0.52</br>char_freq_%24: 0.06003</br></br>word_freq_make: 0.0</br>word_freq_address: 0.0</br>word_freq_all: 0.0</br>word_freq_3d: 0.0</br>word_freq_our: 1.85</br>word_freq_over: 0.0</br>word_freq_remove: 0.0</br>word_freq_internet: 1.85</br>word_freq_order: 0.0</br>word_freq_mail: 0.0</br>word_freq_receive: 0.0</br>word_freq_will: 0.0</br>word_freq_people: 0.0</br>word_freq_report: 0.0</br>word_freq_addresses: 0.0</br>word_freq_free: 0.0</br>word_freq_business: 0.0</br>word_freq_email: 0.0</br>... too many variables"
          ],
          [
           "</br>id: 5</br>prediction: 0.615</br>char_freq_%24: 0.12006</br></br>word_freq_make: 0.0</br>word_freq_address: 0.0</br>word_freq_all: 0.0</br>word_freq_3d: 0.0</br>word_freq_our: 1.85</br>word_freq_over: 0.0</br>word_freq_remove: 0.0</br>word_freq_internet: 1.85</br>word_freq_order: 0.0</br>word_freq_mail: 0.0</br>word_freq_receive: 0.0</br>word_freq_will: 0.0</br>word_freq_people: 0.0</br>word_freq_report: 0.0</br>word_freq_addresses: 0.0</br>word_freq_free: 0.0</br>word_freq_business: 0.0</br>... too many variables"
          ],
          [
           "</br>id: 5</br>prediction: 0.677</br>char_freq_%24: 0.18009</br></br>word_freq_make: 0.0</br>word_freq_address: 0.0</br>word_freq_all: 0.0</br>word_freq_3d: 0.0</br>word_freq_our: 1.85</br>word_freq_over: 0.0</br>word_freq_remove: 0.0</br>word_freq_internet: 1.85</br>word_freq_order: 0.0</br>word_freq_mail: 0.0</br>word_freq_receive: 0.0</br>word_freq_will: 0.0</br>word_freq_people: 0.0</br>word_freq_report: 0.0</br>word_freq_addresses: 0.0</br>word_freq_free: 0.0</br>word_freq_business: 0.0</br>... too many variables"
          ],
          [
           "</br>id: 5</br>prediction: 0.684</br>char_freq_%24: 0.24012</br></br>word_freq_make: 0.0</br>word_freq_address: 0.0</br>word_freq_all: 0.0</br>word_freq_3d: 0.0</br>word_freq_our: 1.85</br>word_freq_over: 0.0</br>word_freq_remove: 0.0</br>word_freq_internet: 1.85</br>word_freq_order: 0.0</br>word_freq_mail: 0.0</br>word_freq_receive: 0.0</br>word_freq_will: 0.0</br>word_freq_people: 0.0</br>word_freq_report: 0.0</br>word_freq_addresses: 0.0</br>word_freq_free: 0.0</br>word_freq_business: 0.0</br>... too many variables"
          ],
          [
           "</br>id: 5</br>prediction: 0.688</br>char_freq_%24: 0.30015000000000003</br></br>word_freq_make: 0.0</br>word_freq_address: 0.0</br>word_freq_all: 0.0</br>word_freq_3d: 0.0</br>word_freq_our: 1.85</br>word_freq_over: 0.0</br>word_freq_remove: 0.0</br>word_freq_internet: 1.85</br>word_freq_order: 0.0</br>word_freq_mail: 0.0</br>word_freq_receive: 0.0</br>word_freq_will: 0.0</br>word_freq_people: 0.0</br>word_freq_report: 0.0</br>word_freq_addresses: 0.0</br>word_freq_free: 0.0</br>word_freq_business: 0.0</br>... too many variables"
          ],
          [
           "</br>id: 5</br>prediction: 0.688</br>char_freq_%24: 0.36018</br></br>word_freq_make: 0.0</br>word_freq_address: 0.0</br>word_freq_all: 0.0</br>word_freq_3d: 0.0</br>word_freq_our: 1.85</br>word_freq_over: 0.0</br>word_freq_remove: 0.0</br>word_freq_internet: 1.85</br>word_freq_order: 0.0</br>word_freq_mail: 0.0</br>word_freq_receive: 0.0</br>word_freq_will: 0.0</br>word_freq_people: 0.0</br>word_freq_report: 0.0</br>word_freq_addresses: 0.0</br>word_freq_free: 0.0</br>word_freq_business: 0.0</br>... too many variables"
          ],
          [
           "</br>id: 5</br>prediction: 0.686</br>char_freq_%24: 0.42021</br></br>word_freq_make: 0.0</br>word_freq_address: 0.0</br>word_freq_all: 0.0</br>word_freq_3d: 0.0</br>word_freq_our: 1.85</br>word_freq_over: 0.0</br>word_freq_remove: 0.0</br>word_freq_internet: 1.85</br>word_freq_order: 0.0</br>word_freq_mail: 0.0</br>word_freq_receive: 0.0</br>word_freq_will: 0.0</br>word_freq_people: 0.0</br>word_freq_report: 0.0</br>word_freq_addresses: 0.0</br>word_freq_free: 0.0</br>word_freq_business: 0.0</br>... too many variables"
          ],
          [
           "</br>id: 5</br>prediction: 0.686</br>char_freq_%24: 0.48024</br></br>word_freq_make: 0.0</br>word_freq_address: 0.0</br>word_freq_all: 0.0</br>word_freq_3d: 0.0</br>word_freq_our: 1.85</br>word_freq_over: 0.0</br>word_freq_remove: 0.0</br>word_freq_internet: 1.85</br>word_freq_order: 0.0</br>word_freq_mail: 0.0</br>word_freq_receive: 0.0</br>word_freq_will: 0.0</br>word_freq_people: 0.0</br>word_freq_report: 0.0</br>word_freq_addresses: 0.0</br>word_freq_free: 0.0</br>word_freq_business: 0.0</br>... too many variables"
          ],
          [
           "</br>id: 5</br>prediction: 0.683</br>char_freq_%24: 0.54027</br></br>word_freq_make: 0.0</br>word_freq_address: 0.0</br>word_freq_all: 0.0</br>word_freq_3d: 0.0</br>word_freq_our: 1.85</br>word_freq_over: 0.0</br>word_freq_remove: 0.0</br>word_freq_internet: 1.85</br>word_freq_order: 0.0</br>word_freq_mail: 0.0</br>word_freq_receive: 0.0</br>word_freq_will: 0.0</br>word_freq_people: 0.0</br>word_freq_report: 0.0</br>word_freq_addresses: 0.0</br>word_freq_free: 0.0</br>word_freq_business: 0.0</br>... too many variables"
          ],
          [
           "</br>id: 5</br>prediction: 0.676</br>char_freq_%24: 0.6003000000000001</br></br>word_freq_make: 0.0</br>word_freq_address: 0.0</br>word_freq_all: 0.0</br>word_freq_3d: 0.0</br>word_freq_our: 1.85</br>word_freq_over: 0.0</br>word_freq_remove: 0.0</br>word_freq_internet: 1.85</br>word_freq_order: 0.0</br>word_freq_mail: 0.0</br>word_freq_receive: 0.0</br>word_freq_will: 0.0</br>word_freq_people: 0.0</br>word_freq_report: 0.0</br>word_freq_addresses: 0.0</br>word_freq_free: 0.0</br>word_freq_business: 0.0</br>... too many variables"
          ],
          [
           "</br>id: 5</br>prediction: 0.676</br>char_freq_%24: 0.66033</br></br>word_freq_make: 0.0</br>word_freq_address: 0.0</br>word_freq_all: 0.0</br>word_freq_3d: 0.0</br>word_freq_our: 1.85</br>word_freq_over: 0.0</br>word_freq_remove: 0.0</br>word_freq_internet: 1.85</br>word_freq_order: 0.0</br>word_freq_mail: 0.0</br>word_freq_receive: 0.0</br>word_freq_will: 0.0</br>word_freq_people: 0.0</br>word_freq_report: 0.0</br>word_freq_addresses: 0.0</br>word_freq_free: 0.0</br>word_freq_business: 0.0</br>... too many variables"
          ],
          [
           "</br>id: 5</br>prediction: 0.675</br>char_freq_%24: 0.72036</br></br>word_freq_make: 0.0</br>word_freq_address: 0.0</br>word_freq_all: 0.0</br>word_freq_3d: 0.0</br>word_freq_our: 1.85</br>word_freq_over: 0.0</br>word_freq_remove: 0.0</br>word_freq_internet: 1.85</br>word_freq_order: 0.0</br>word_freq_mail: 0.0</br>word_freq_receive: 0.0</br>word_freq_will: 0.0</br>word_freq_people: 0.0</br>word_freq_report: 0.0</br>word_freq_addresses: 0.0</br>word_freq_free: 0.0</br>word_freq_business: 0.0</br>... too many variables"
          ],
          [
           "</br>id: 5</br>prediction: 0.675</br>char_freq_%24: 0.78039</br></br>word_freq_make: 0.0</br>word_freq_address: 0.0</br>word_freq_all: 0.0</br>word_freq_3d: 0.0</br>word_freq_our: 1.85</br>word_freq_over: 0.0</br>word_freq_remove: 0.0</br>word_freq_internet: 1.85</br>word_freq_order: 0.0</br>word_freq_mail: 0.0</br>word_freq_receive: 0.0</br>word_freq_will: 0.0</br>word_freq_people: 0.0</br>word_freq_report: 0.0</br>word_freq_addresses: 0.0</br>word_freq_free: 0.0</br>word_freq_business: 0.0</br>... too many variables"
          ],
          [
           "</br>id: 5</br>prediction: 0.675</br>char_freq_%24: 0.84042</br></br>word_freq_make: 0.0</br>word_freq_address: 0.0</br>word_freq_all: 0.0</br>word_freq_3d: 0.0</br>word_freq_our: 1.85</br>word_freq_over: 0.0</br>word_freq_remove: 0.0</br>word_freq_internet: 1.85</br>word_freq_order: 0.0</br>word_freq_mail: 0.0</br>word_freq_receive: 0.0</br>word_freq_will: 0.0</br>word_freq_people: 0.0</br>word_freq_report: 0.0</br>word_freq_addresses: 0.0</br>word_freq_free: 0.0</br>word_freq_business: 0.0</br>... too many variables"
          ],
          [
           "</br>id: 5</br>prediction: 0.677</br>char_freq_%24: 0.90045</br></br>word_freq_make: 0.0</br>word_freq_address: 0.0</br>word_freq_all: 0.0</br>word_freq_3d: 0.0</br>word_freq_our: 1.85</br>word_freq_over: 0.0</br>word_freq_remove: 0.0</br>word_freq_internet: 1.85</br>word_freq_order: 0.0</br>word_freq_mail: 0.0</br>word_freq_receive: 0.0</br>word_freq_will: 0.0</br>word_freq_people: 0.0</br>word_freq_report: 0.0</br>word_freq_addresses: 0.0</br>word_freq_free: 0.0</br>word_freq_business: 0.0</br>... too many variables"
          ],
          [
           "</br>id: 5</br>prediction: 0.677</br>char_freq_%24: 0.96048</br></br>word_freq_make: 0.0</br>word_freq_address: 0.0</br>word_freq_all: 0.0</br>word_freq_3d: 0.0</br>word_freq_our: 1.85</br>word_freq_over: 0.0</br>word_freq_remove: 0.0</br>word_freq_internet: 1.85</br>word_freq_order: 0.0</br>word_freq_mail: 0.0</br>word_freq_receive: 0.0</br>word_freq_will: 0.0</br>word_freq_people: 0.0</br>word_freq_report: 0.0</br>word_freq_addresses: 0.0</br>word_freq_free: 0.0</br>word_freq_business: 0.0</br>... too many variables"
          ],
          [
           "</br>id: 5</br>prediction: 0.682</br>char_freq_%24: 1.02051</br></br>word_freq_make: 0.0</br>word_freq_address: 0.0</br>word_freq_all: 0.0</br>word_freq_3d: 0.0</br>word_freq_our: 1.85</br>word_freq_over: 0.0</br>word_freq_remove: 0.0</br>word_freq_internet: 1.85</br>word_freq_order: 0.0</br>word_freq_mail: 0.0</br>word_freq_receive: 0.0</br>word_freq_will: 0.0</br>word_freq_people: 0.0</br>word_freq_report: 0.0</br>word_freq_addresses: 0.0</br>word_freq_free: 0.0</br>word_freq_business: 0.0</br>... too many variables"
          ],
          [
           "</br>id: 5</br>prediction: 0.682</br>char_freq_%24: 1.08054</br></br>word_freq_make: 0.0</br>word_freq_address: 0.0</br>word_freq_all: 0.0</br>word_freq_3d: 0.0</br>word_freq_our: 1.85</br>word_freq_over: 0.0</br>word_freq_remove: 0.0</br>word_freq_internet: 1.85</br>word_freq_order: 0.0</br>word_freq_mail: 0.0</br>word_freq_receive: 0.0</br>word_freq_will: 0.0</br>word_freq_people: 0.0</br>word_freq_report: 0.0</br>word_freq_addresses: 0.0</br>word_freq_free: 0.0</br>word_freq_business: 0.0</br>... too many variables"
          ],
          [
           "</br>id: 5</br>prediction: 0.682</br>char_freq_%24: 1.14057</br></br>word_freq_make: 0.0</br>word_freq_address: 0.0</br>word_freq_all: 0.0</br>word_freq_3d: 0.0</br>word_freq_our: 1.85</br>word_freq_over: 0.0</br>word_freq_remove: 0.0</br>word_freq_internet: 1.85</br>word_freq_order: 0.0</br>word_freq_mail: 0.0</br>word_freq_receive: 0.0</br>word_freq_will: 0.0</br>word_freq_people: 0.0</br>word_freq_report: 0.0</br>word_freq_addresses: 0.0</br>word_freq_free: 0.0</br>word_freq_business: 0.0</br>... too many variables"
          ],
          [
           "</br>id: 5</br>prediction: 0.682</br>char_freq_%24: 1.2006000000000001</br></br>word_freq_make: 0.0</br>word_freq_address: 0.0</br>word_freq_all: 0.0</br>word_freq_3d: 0.0</br>word_freq_our: 1.85</br>word_freq_over: 0.0</br>word_freq_remove: 0.0</br>word_freq_internet: 1.85</br>word_freq_order: 0.0</br>word_freq_mail: 0.0</br>word_freq_receive: 0.0</br>word_freq_will: 0.0</br>word_freq_people: 0.0</br>word_freq_report: 0.0</br>word_freq_addresses: 0.0</br>word_freq_free: 0.0</br>word_freq_business: 0.0</br>... too many variables"
          ],
          [
           "</br>id: 5</br>prediction: 0.682</br>char_freq_%24: 1.26063</br></br>word_freq_make: 0.0</br>word_freq_address: 0.0</br>word_freq_all: 0.0</br>word_freq_3d: 0.0</br>word_freq_our: 1.85</br>word_freq_over: 0.0</br>word_freq_remove: 0.0</br>word_freq_internet: 1.85</br>word_freq_order: 0.0</br>word_freq_mail: 0.0</br>word_freq_receive: 0.0</br>word_freq_will: 0.0</br>word_freq_people: 0.0</br>word_freq_report: 0.0</br>word_freq_addresses: 0.0</br>word_freq_free: 0.0</br>word_freq_business: 0.0</br>... too many variables"
          ],
          [
           "</br>id: 5</br>prediction: 0.682</br>char_freq_%24: 1.32066</br></br>word_freq_make: 0.0</br>word_freq_address: 0.0</br>word_freq_all: 0.0</br>word_freq_3d: 0.0</br>word_freq_our: 1.85</br>word_freq_over: 0.0</br>word_freq_remove: 0.0</br>word_freq_internet: 1.85</br>word_freq_order: 0.0</br>word_freq_mail: 0.0</br>word_freq_receive: 0.0</br>word_freq_will: 0.0</br>word_freq_people: 0.0</br>word_freq_report: 0.0</br>word_freq_addresses: 0.0</br>word_freq_free: 0.0</br>word_freq_business: 0.0</br>... too many variables"
          ],
          [
           "</br>id: 5</br>prediction: 0.682</br>char_freq_%24: 1.38069</br></br>word_freq_make: 0.0</br>word_freq_address: 0.0</br>word_freq_all: 0.0</br>word_freq_3d: 0.0</br>word_freq_our: 1.85</br>word_freq_over: 0.0</br>word_freq_remove: 0.0</br>word_freq_internet: 1.85</br>word_freq_order: 0.0</br>word_freq_mail: 0.0</br>word_freq_receive: 0.0</br>word_freq_will: 0.0</br>word_freq_people: 0.0</br>word_freq_report: 0.0</br>word_freq_addresses: 0.0</br>word_freq_free: 0.0</br>word_freq_business: 0.0</br>... too many variables"
          ],
          [
           "</br>id: 5</br>prediction: 0.682</br>char_freq_%24: 1.44072</br></br>word_freq_make: 0.0</br>word_freq_address: 0.0</br>word_freq_all: 0.0</br>word_freq_3d: 0.0</br>word_freq_our: 1.85</br>word_freq_over: 0.0</br>word_freq_remove: 0.0</br>word_freq_internet: 1.85</br>word_freq_order: 0.0</br>word_freq_mail: 0.0</br>word_freq_receive: 0.0</br>word_freq_will: 0.0</br>word_freq_people: 0.0</br>word_freq_report: 0.0</br>word_freq_addresses: 0.0</br>word_freq_free: 0.0</br>word_freq_business: 0.0</br>... too many variables"
          ],
          [
           "</br>id: 5</br>prediction: 0.682</br>char_freq_%24: 1.50075</br></br>word_freq_make: 0.0</br>word_freq_address: 0.0</br>word_freq_all: 0.0</br>word_freq_3d: 0.0</br>word_freq_our: 1.85</br>word_freq_over: 0.0</br>word_freq_remove: 0.0</br>word_freq_internet: 1.85</br>word_freq_order: 0.0</br>word_freq_mail: 0.0</br>word_freq_receive: 0.0</br>word_freq_will: 0.0</br>word_freq_people: 0.0</br>word_freq_report: 0.0</br>word_freq_addresses: 0.0</br>word_freq_free: 0.0</br>word_freq_business: 0.0</br>... too many variables"
          ],
          [
           "</br>id: 5</br>prediction: 0.682</br>char_freq_%24: 1.56078</br></br>word_freq_make: 0.0</br>word_freq_address: 0.0</br>word_freq_all: 0.0</br>word_freq_3d: 0.0</br>word_freq_our: 1.85</br>word_freq_over: 0.0</br>word_freq_remove: 0.0</br>word_freq_internet: 1.85</br>word_freq_order: 0.0</br>word_freq_mail: 0.0</br>word_freq_receive: 0.0</br>word_freq_will: 0.0</br>word_freq_people: 0.0</br>word_freq_report: 0.0</br>word_freq_addresses: 0.0</br>word_freq_free: 0.0</br>word_freq_business: 0.0</br>... too many variables"
          ],
          [
           "</br>id: 5</br>prediction: 0.682</br>char_freq_%24: 1.62081</br></br>word_freq_make: 0.0</br>word_freq_address: 0.0</br>word_freq_all: 0.0</br>word_freq_3d: 0.0</br>word_freq_our: 1.85</br>word_freq_over: 0.0</br>word_freq_remove: 0.0</br>word_freq_internet: 1.85</br>word_freq_order: 0.0</br>word_freq_mail: 0.0</br>word_freq_receive: 0.0</br>word_freq_will: 0.0</br>word_freq_people: 0.0</br>word_freq_report: 0.0</br>word_freq_addresses: 0.0</br>word_freq_free: 0.0</br>word_freq_business: 0.0</br>... too many variables"
          ],
          [
           "</br>id: 5</br>prediction: 0.682</br>char_freq_%24: 1.68084</br></br>word_freq_make: 0.0</br>word_freq_address: 0.0</br>word_freq_all: 0.0</br>word_freq_3d: 0.0</br>word_freq_our: 1.85</br>word_freq_over: 0.0</br>word_freq_remove: 0.0</br>word_freq_internet: 1.85</br>word_freq_order: 0.0</br>word_freq_mail: 0.0</br>word_freq_receive: 0.0</br>word_freq_will: 0.0</br>word_freq_people: 0.0</br>word_freq_report: 0.0</br>word_freq_addresses: 0.0</br>word_freq_free: 0.0</br>word_freq_business: 0.0</br>... too many variables"
          ],
          [
           "</br>id: 5</br>prediction: 0.682</br>char_freq_%24: 1.74087</br></br>word_freq_make: 0.0</br>word_freq_address: 0.0</br>word_freq_all: 0.0</br>word_freq_3d: 0.0</br>word_freq_our: 1.85</br>word_freq_over: 0.0</br>word_freq_remove: 0.0</br>word_freq_internet: 1.85</br>word_freq_order: 0.0</br>word_freq_mail: 0.0</br>word_freq_receive: 0.0</br>word_freq_will: 0.0</br>word_freq_people: 0.0</br>word_freq_report: 0.0</br>word_freq_addresses: 0.0</br>word_freq_free: 0.0</br>word_freq_business: 0.0</br>... too many variables"
          ],
          [
           "</br>id: 5</br>prediction: 0.682</br>char_freq_%24: 1.8009</br></br>word_freq_make: 0.0</br>word_freq_address: 0.0</br>word_freq_all: 0.0</br>word_freq_3d: 0.0</br>word_freq_our: 1.85</br>word_freq_over: 0.0</br>word_freq_remove: 0.0</br>word_freq_internet: 1.85</br>word_freq_order: 0.0</br>word_freq_mail: 0.0</br>word_freq_receive: 0.0</br>word_freq_will: 0.0</br>word_freq_people: 0.0</br>word_freq_report: 0.0</br>word_freq_addresses: 0.0</br>word_freq_free: 0.0</br>word_freq_business: 0.0</br>word_freq_email: 0.0</br>... too many variables"
          ],
          [
           "</br>id: 5</br>prediction: 0.682</br>char_freq_%24: 1.86093</br></br>word_freq_make: 0.0</br>word_freq_address: 0.0</br>word_freq_all: 0.0</br>word_freq_3d: 0.0</br>word_freq_our: 1.85</br>word_freq_over: 0.0</br>word_freq_remove: 0.0</br>word_freq_internet: 1.85</br>word_freq_order: 0.0</br>word_freq_mail: 0.0</br>word_freq_receive: 0.0</br>word_freq_will: 0.0</br>word_freq_people: 0.0</br>word_freq_report: 0.0</br>word_freq_addresses: 0.0</br>word_freq_free: 0.0</br>word_freq_business: 0.0</br>... too many variables"
          ],
          [
           "</br>id: 5</br>prediction: 0.682</br>char_freq_%24: 1.92096</br></br>word_freq_make: 0.0</br>word_freq_address: 0.0</br>word_freq_all: 0.0</br>word_freq_3d: 0.0</br>word_freq_our: 1.85</br>word_freq_over: 0.0</br>word_freq_remove: 0.0</br>word_freq_internet: 1.85</br>word_freq_order: 0.0</br>word_freq_mail: 0.0</br>word_freq_receive: 0.0</br>word_freq_will: 0.0</br>word_freq_people: 0.0</br>word_freq_report: 0.0</br>word_freq_addresses: 0.0</br>word_freq_free: 0.0</br>word_freq_business: 0.0</br>... too many variables"
          ],
          [
           "</br>id: 5</br>prediction: 0.682</br>char_freq_%24: 1.98099</br></br>word_freq_make: 0.0</br>word_freq_address: 0.0</br>word_freq_all: 0.0</br>word_freq_3d: 0.0</br>word_freq_our: 1.85</br>word_freq_over: 0.0</br>word_freq_remove: 0.0</br>word_freq_internet: 1.85</br>word_freq_order: 0.0</br>word_freq_mail: 0.0</br>word_freq_receive: 0.0</br>word_freq_will: 0.0</br>word_freq_people: 0.0</br>word_freq_report: 0.0</br>word_freq_addresses: 0.0</br>word_freq_free: 0.0</br>word_freq_business: 0.0</br>... too many variables"
          ],
          [
           "</br>id: 5</br>prediction: 0.687</br>char_freq_%24: 2.04102</br></br>word_freq_make: 0.0</br>word_freq_address: 0.0</br>word_freq_all: 0.0</br>word_freq_3d: 0.0</br>word_freq_our: 1.85</br>word_freq_over: 0.0</br>word_freq_remove: 0.0</br>word_freq_internet: 1.85</br>word_freq_order: 0.0</br>word_freq_mail: 0.0</br>word_freq_receive: 0.0</br>word_freq_will: 0.0</br>word_freq_people: 0.0</br>word_freq_report: 0.0</br>word_freq_addresses: 0.0</br>word_freq_free: 0.0</br>word_freq_business: 0.0</br>... too many variables"
          ],
          [
           "</br>id: 5</br>prediction: 0.687</br>char_freq_%24: 2.10105</br></br>word_freq_make: 0.0</br>word_freq_address: 0.0</br>word_freq_all: 0.0</br>word_freq_3d: 0.0</br>word_freq_our: 1.85</br>word_freq_over: 0.0</br>word_freq_remove: 0.0</br>word_freq_internet: 1.85</br>word_freq_order: 0.0</br>word_freq_mail: 0.0</br>word_freq_receive: 0.0</br>word_freq_will: 0.0</br>word_freq_people: 0.0</br>word_freq_report: 0.0</br>word_freq_addresses: 0.0</br>word_freq_free: 0.0</br>word_freq_business: 0.0</br>... too many variables"
          ],
          [
           "</br>id: 5</br>prediction: 0.687</br>char_freq_%24: 2.16108</br></br>word_freq_make: 0.0</br>word_freq_address: 0.0</br>word_freq_all: 0.0</br>word_freq_3d: 0.0</br>word_freq_our: 1.85</br>word_freq_over: 0.0</br>word_freq_remove: 0.0</br>word_freq_internet: 1.85</br>word_freq_order: 0.0</br>word_freq_mail: 0.0</br>word_freq_receive: 0.0</br>word_freq_will: 0.0</br>word_freq_people: 0.0</br>word_freq_report: 0.0</br>word_freq_addresses: 0.0</br>word_freq_free: 0.0</br>word_freq_business: 0.0</br>... too many variables"
          ],
          [
           "</br>id: 5</br>prediction: 0.687</br>char_freq_%24: 2.22111</br></br>word_freq_make: 0.0</br>word_freq_address: 0.0</br>word_freq_all: 0.0</br>word_freq_3d: 0.0</br>word_freq_our: 1.85</br>word_freq_over: 0.0</br>word_freq_remove: 0.0</br>word_freq_internet: 1.85</br>word_freq_order: 0.0</br>word_freq_mail: 0.0</br>word_freq_receive: 0.0</br>word_freq_will: 0.0</br>word_freq_people: 0.0</br>word_freq_report: 0.0</br>word_freq_addresses: 0.0</br>word_freq_free: 0.0</br>word_freq_business: 0.0</br>... too many variables"
          ],
          [
           "</br>id: 5</br>prediction: 0.687</br>char_freq_%24: 2.28114</br></br>word_freq_make: 0.0</br>word_freq_address: 0.0</br>word_freq_all: 0.0</br>word_freq_3d: 0.0</br>word_freq_our: 1.85</br>word_freq_over: 0.0</br>word_freq_remove: 0.0</br>word_freq_internet: 1.85</br>word_freq_order: 0.0</br>word_freq_mail: 0.0</br>word_freq_receive: 0.0</br>word_freq_will: 0.0</br>word_freq_people: 0.0</br>word_freq_report: 0.0</br>word_freq_addresses: 0.0</br>word_freq_free: 0.0</br>word_freq_business: 0.0</br>... too many variables"
          ],
          [
           "</br>id: 5</br>prediction: 0.687</br>char_freq_%24: 2.34117</br></br>word_freq_make: 0.0</br>word_freq_address: 0.0</br>word_freq_all: 0.0</br>word_freq_3d: 0.0</br>word_freq_our: 1.85</br>word_freq_over: 0.0</br>word_freq_remove: 0.0</br>word_freq_internet: 1.85</br>word_freq_order: 0.0</br>word_freq_mail: 0.0</br>word_freq_receive: 0.0</br>word_freq_will: 0.0</br>word_freq_people: 0.0</br>word_freq_report: 0.0</br>word_freq_addresses: 0.0</br>word_freq_free: 0.0</br>word_freq_business: 0.0</br>... too many variables"
          ],
          [
           "</br>id: 5</br>prediction: 0.687</br>char_freq_%24: 2.4012000000000002</br></br>word_freq_make: 0.0</br>word_freq_address: 0.0</br>word_freq_all: 0.0</br>word_freq_3d: 0.0</br>word_freq_our: 1.85</br>word_freq_over: 0.0</br>word_freq_remove: 0.0</br>word_freq_internet: 1.85</br>word_freq_order: 0.0</br>word_freq_mail: 0.0</br>word_freq_receive: 0.0</br>word_freq_will: 0.0</br>word_freq_people: 0.0</br>word_freq_report: 0.0</br>word_freq_addresses: 0.0</br>word_freq_free: 0.0</br>word_freq_business: 0.0</br>... too many variables"
          ],
          [
           "</br>id: 5</br>prediction: 0.687</br>char_freq_%24: 2.46123</br></br>word_freq_make: 0.0</br>word_freq_address: 0.0</br>word_freq_all: 0.0</br>word_freq_3d: 0.0</br>word_freq_our: 1.85</br>word_freq_over: 0.0</br>word_freq_remove: 0.0</br>word_freq_internet: 1.85</br>word_freq_order: 0.0</br>word_freq_mail: 0.0</br>word_freq_receive: 0.0</br>word_freq_will: 0.0</br>word_freq_people: 0.0</br>word_freq_report: 0.0</br>word_freq_addresses: 0.0</br>word_freq_free: 0.0</br>word_freq_business: 0.0</br>... too many variables"
          ],
          [
           "</br>id: 5</br>prediction: 0.687</br>char_freq_%24: 2.52126</br></br>word_freq_make: 0.0</br>word_freq_address: 0.0</br>word_freq_all: 0.0</br>word_freq_3d: 0.0</br>word_freq_our: 1.85</br>word_freq_over: 0.0</br>word_freq_remove: 0.0</br>word_freq_internet: 1.85</br>word_freq_order: 0.0</br>word_freq_mail: 0.0</br>word_freq_receive: 0.0</br>word_freq_will: 0.0</br>word_freq_people: 0.0</br>word_freq_report: 0.0</br>word_freq_addresses: 0.0</br>word_freq_free: 0.0</br>word_freq_business: 0.0</br>... too many variables"
          ],
          [
           "</br>id: 5</br>prediction: 0.687</br>char_freq_%24: 2.58129</br></br>word_freq_make: 0.0</br>word_freq_address: 0.0</br>word_freq_all: 0.0</br>word_freq_3d: 0.0</br>word_freq_our: 1.85</br>word_freq_over: 0.0</br>word_freq_remove: 0.0</br>word_freq_internet: 1.85</br>word_freq_order: 0.0</br>word_freq_mail: 0.0</br>word_freq_receive: 0.0</br>word_freq_will: 0.0</br>word_freq_people: 0.0</br>word_freq_report: 0.0</br>word_freq_addresses: 0.0</br>word_freq_free: 0.0</br>word_freq_business: 0.0</br>... too many variables"
          ],
          [
           "</br>id: 5</br>prediction: 0.687</br>char_freq_%24: 2.64132</br></br>word_freq_make: 0.0</br>word_freq_address: 0.0</br>word_freq_all: 0.0</br>word_freq_3d: 0.0</br>word_freq_our: 1.85</br>word_freq_over: 0.0</br>word_freq_remove: 0.0</br>word_freq_internet: 1.85</br>word_freq_order: 0.0</br>word_freq_mail: 0.0</br>word_freq_receive: 0.0</br>word_freq_will: 0.0</br>word_freq_people: 0.0</br>word_freq_report: 0.0</br>word_freq_addresses: 0.0</br>word_freq_free: 0.0</br>word_freq_business: 0.0</br>... too many variables"
          ],
          [
           "</br>id: 5</br>prediction: 0.687</br>char_freq_%24: 2.70135</br></br>word_freq_make: 0.0</br>word_freq_address: 0.0</br>word_freq_all: 0.0</br>word_freq_3d: 0.0</br>word_freq_our: 1.85</br>word_freq_over: 0.0</br>word_freq_remove: 0.0</br>word_freq_internet: 1.85</br>word_freq_order: 0.0</br>word_freq_mail: 0.0</br>word_freq_receive: 0.0</br>word_freq_will: 0.0</br>word_freq_people: 0.0</br>word_freq_report: 0.0</br>word_freq_addresses: 0.0</br>word_freq_free: 0.0</br>word_freq_business: 0.0</br>... too many variables"
          ],
          [
           "</br>id: 5</br>prediction: 0.687</br>char_freq_%24: 2.76138</br></br>word_freq_make: 0.0</br>word_freq_address: 0.0</br>word_freq_all: 0.0</br>word_freq_3d: 0.0</br>word_freq_our: 1.85</br>word_freq_over: 0.0</br>word_freq_remove: 0.0</br>word_freq_internet: 1.85</br>word_freq_order: 0.0</br>word_freq_mail: 0.0</br>word_freq_receive: 0.0</br>word_freq_will: 0.0</br>word_freq_people: 0.0</br>word_freq_report: 0.0</br>word_freq_addresses: 0.0</br>word_freq_free: 0.0</br>word_freq_business: 0.0</br>... too many variables"
          ],
          [
           "</br>id: 5</br>prediction: 0.687</br>char_freq_%24: 2.82141</br></br>word_freq_make: 0.0</br>word_freq_address: 0.0</br>word_freq_all: 0.0</br>word_freq_3d: 0.0</br>word_freq_our: 1.85</br>word_freq_over: 0.0</br>word_freq_remove: 0.0</br>word_freq_internet: 1.85</br>word_freq_order: 0.0</br>word_freq_mail: 0.0</br>word_freq_receive: 0.0</br>word_freq_will: 0.0</br>word_freq_people: 0.0</br>word_freq_report: 0.0</br>word_freq_addresses: 0.0</br>word_freq_free: 0.0</br>word_freq_business: 0.0</br>... too many variables"
          ],
          [
           "</br>id: 5</br>prediction: 0.687</br>char_freq_%24: 2.88144</br></br>word_freq_make: 0.0</br>word_freq_address: 0.0</br>word_freq_all: 0.0</br>word_freq_3d: 0.0</br>word_freq_our: 1.85</br>word_freq_over: 0.0</br>word_freq_remove: 0.0</br>word_freq_internet: 1.85</br>word_freq_order: 0.0</br>word_freq_mail: 0.0</br>word_freq_receive: 0.0</br>word_freq_will: 0.0</br>word_freq_people: 0.0</br>word_freq_report: 0.0</br>word_freq_addresses: 0.0</br>word_freq_free: 0.0</br>word_freq_business: 0.0</br>... too many variables"
          ],
          [
           "</br>id: 5</br>prediction: 0.687</br>char_freq_%24: 2.94147</br></br>word_freq_make: 0.0</br>word_freq_address: 0.0</br>word_freq_all: 0.0</br>word_freq_3d: 0.0</br>word_freq_our: 1.85</br>word_freq_over: 0.0</br>word_freq_remove: 0.0</br>word_freq_internet: 1.85</br>word_freq_order: 0.0</br>word_freq_mail: 0.0</br>word_freq_receive: 0.0</br>word_freq_will: 0.0</br>word_freq_people: 0.0</br>word_freq_report: 0.0</br>word_freq_addresses: 0.0</br>word_freq_free: 0.0</br>word_freq_business: 0.0</br>... too many variables"
          ],
          [
           "</br>id: 5</br>prediction: 0.687</br>char_freq_%24: 3.0015</br></br>word_freq_make: 0.0</br>word_freq_address: 0.0</br>word_freq_all: 0.0</br>word_freq_3d: 0.0</br>word_freq_our: 1.85</br>word_freq_over: 0.0</br>word_freq_remove: 0.0</br>word_freq_internet: 1.85</br>word_freq_order: 0.0</br>word_freq_mail: 0.0</br>word_freq_receive: 0.0</br>word_freq_will: 0.0</br>word_freq_people: 0.0</br>word_freq_report: 0.0</br>word_freq_addresses: 0.0</br>word_freq_free: 0.0</br>word_freq_business: 0.0</br>word_freq_email: 0.0</br>... too many variables"
          ],
          [
           "</br>id: 5</br>prediction: 0.687</br>char_freq_%24: 3.06153</br></br>word_freq_make: 0.0</br>word_freq_address: 0.0</br>word_freq_all: 0.0</br>word_freq_3d: 0.0</br>word_freq_our: 1.85</br>word_freq_over: 0.0</br>word_freq_remove: 0.0</br>word_freq_internet: 1.85</br>word_freq_order: 0.0</br>word_freq_mail: 0.0</br>word_freq_receive: 0.0</br>word_freq_will: 0.0</br>word_freq_people: 0.0</br>word_freq_report: 0.0</br>word_freq_addresses: 0.0</br>word_freq_free: 0.0</br>word_freq_business: 0.0</br>... too many variables"
          ],
          [
           "</br>id: 5</br>prediction: 0.687</br>char_freq_%24: 3.12156</br></br>word_freq_make: 0.0</br>word_freq_address: 0.0</br>word_freq_all: 0.0</br>word_freq_3d: 0.0</br>word_freq_our: 1.85</br>word_freq_over: 0.0</br>word_freq_remove: 0.0</br>word_freq_internet: 1.85</br>word_freq_order: 0.0</br>word_freq_mail: 0.0</br>word_freq_receive: 0.0</br>word_freq_will: 0.0</br>word_freq_people: 0.0</br>word_freq_report: 0.0</br>word_freq_addresses: 0.0</br>word_freq_free: 0.0</br>word_freq_business: 0.0</br>... too many variables"
          ],
          [
           "</br>id: 5</br>prediction: 0.687</br>char_freq_%24: 3.18159</br></br>word_freq_make: 0.0</br>word_freq_address: 0.0</br>word_freq_all: 0.0</br>word_freq_3d: 0.0</br>word_freq_our: 1.85</br>word_freq_over: 0.0</br>word_freq_remove: 0.0</br>word_freq_internet: 1.85</br>word_freq_order: 0.0</br>word_freq_mail: 0.0</br>word_freq_receive: 0.0</br>word_freq_will: 0.0</br>word_freq_people: 0.0</br>word_freq_report: 0.0</br>word_freq_addresses: 0.0</br>word_freq_free: 0.0</br>word_freq_business: 0.0</br>... too many variables"
          ],
          [
           "</br>id: 5</br>prediction: 0.687</br>char_freq_%24: 3.24162</br></br>word_freq_make: 0.0</br>word_freq_address: 0.0</br>word_freq_all: 0.0</br>word_freq_3d: 0.0</br>word_freq_our: 1.85</br>word_freq_over: 0.0</br>word_freq_remove: 0.0</br>word_freq_internet: 1.85</br>word_freq_order: 0.0</br>word_freq_mail: 0.0</br>word_freq_receive: 0.0</br>word_freq_will: 0.0</br>word_freq_people: 0.0</br>word_freq_report: 0.0</br>word_freq_addresses: 0.0</br>word_freq_free: 0.0</br>word_freq_business: 0.0</br>... too many variables"
          ],
          [
           "</br>id: 5</br>prediction: 0.687</br>char_freq_%24: 3.30165</br></br>word_freq_make: 0.0</br>word_freq_address: 0.0</br>word_freq_all: 0.0</br>word_freq_3d: 0.0</br>word_freq_our: 1.85</br>word_freq_over: 0.0</br>word_freq_remove: 0.0</br>word_freq_internet: 1.85</br>word_freq_order: 0.0</br>word_freq_mail: 0.0</br>word_freq_receive: 0.0</br>word_freq_will: 0.0</br>word_freq_people: 0.0</br>word_freq_report: 0.0</br>word_freq_addresses: 0.0</br>word_freq_free: 0.0</br>word_freq_business: 0.0</br>... too many variables"
          ],
          [
           "</br>id: 5</br>prediction: 0.687</br>char_freq_%24: 3.36168</br></br>word_freq_make: 0.0</br>word_freq_address: 0.0</br>word_freq_all: 0.0</br>word_freq_3d: 0.0</br>word_freq_our: 1.85</br>word_freq_over: 0.0</br>word_freq_remove: 0.0</br>word_freq_internet: 1.85</br>word_freq_order: 0.0</br>word_freq_mail: 0.0</br>word_freq_receive: 0.0</br>word_freq_will: 0.0</br>word_freq_people: 0.0</br>word_freq_report: 0.0</br>word_freq_addresses: 0.0</br>word_freq_free: 0.0</br>word_freq_business: 0.0</br>... too many variables"
          ],
          [
           "</br>id: 5</br>prediction: 0.687</br>char_freq_%24: 3.42171</br></br>word_freq_make: 0.0</br>word_freq_address: 0.0</br>word_freq_all: 0.0</br>word_freq_3d: 0.0</br>word_freq_our: 1.85</br>word_freq_over: 0.0</br>word_freq_remove: 0.0</br>word_freq_internet: 1.85</br>word_freq_order: 0.0</br>word_freq_mail: 0.0</br>word_freq_receive: 0.0</br>word_freq_will: 0.0</br>word_freq_people: 0.0</br>word_freq_report: 0.0</br>word_freq_addresses: 0.0</br>word_freq_free: 0.0</br>word_freq_business: 0.0</br>... too many variables"
          ],
          [
           "</br>id: 5</br>prediction: 0.687</br>char_freq_%24: 3.48174</br></br>word_freq_make: 0.0</br>word_freq_address: 0.0</br>word_freq_all: 0.0</br>word_freq_3d: 0.0</br>word_freq_our: 1.85</br>word_freq_over: 0.0</br>word_freq_remove: 0.0</br>word_freq_internet: 1.85</br>word_freq_order: 0.0</br>word_freq_mail: 0.0</br>word_freq_receive: 0.0</br>word_freq_will: 0.0</br>word_freq_people: 0.0</br>word_freq_report: 0.0</br>word_freq_addresses: 0.0</br>word_freq_free: 0.0</br>word_freq_business: 0.0</br>... too many variables"
          ],
          [
           "</br>id: 5</br>prediction: 0.687</br>char_freq_%24: 3.54177</br></br>word_freq_make: 0.0</br>word_freq_address: 0.0</br>word_freq_all: 0.0</br>word_freq_3d: 0.0</br>word_freq_our: 1.85</br>word_freq_over: 0.0</br>word_freq_remove: 0.0</br>word_freq_internet: 1.85</br>word_freq_order: 0.0</br>word_freq_mail: 0.0</br>word_freq_receive: 0.0</br>word_freq_will: 0.0</br>word_freq_people: 0.0</br>word_freq_report: 0.0</br>word_freq_addresses: 0.0</br>word_freq_free: 0.0</br>word_freq_business: 0.0</br>... too many variables"
          ],
          [
           "</br>id: 5</br>prediction: 0.687</br>char_freq_%24: 3.6018</br></br>word_freq_make: 0.0</br>word_freq_address: 0.0</br>word_freq_all: 0.0</br>word_freq_3d: 0.0</br>word_freq_our: 1.85</br>word_freq_over: 0.0</br>word_freq_remove: 0.0</br>word_freq_internet: 1.85</br>word_freq_order: 0.0</br>word_freq_mail: 0.0</br>word_freq_receive: 0.0</br>word_freq_will: 0.0</br>word_freq_people: 0.0</br>word_freq_report: 0.0</br>word_freq_addresses: 0.0</br>word_freq_free: 0.0</br>word_freq_business: 0.0</br>word_freq_email: 0.0</br>... too many variables"
          ],
          [
           "</br>id: 5</br>prediction: 0.687</br>char_freq_%24: 3.66183</br></br>word_freq_make: 0.0</br>word_freq_address: 0.0</br>word_freq_all: 0.0</br>word_freq_3d: 0.0</br>word_freq_our: 1.85</br>word_freq_over: 0.0</br>word_freq_remove: 0.0</br>word_freq_internet: 1.85</br>word_freq_order: 0.0</br>word_freq_mail: 0.0</br>word_freq_receive: 0.0</br>word_freq_will: 0.0</br>word_freq_people: 0.0</br>word_freq_report: 0.0</br>word_freq_addresses: 0.0</br>word_freq_free: 0.0</br>word_freq_business: 0.0</br>... too many variables"
          ],
          [
           "</br>id: 5</br>prediction: 0.687</br>char_freq_%24: 3.72186</br></br>word_freq_make: 0.0</br>word_freq_address: 0.0</br>word_freq_all: 0.0</br>word_freq_3d: 0.0</br>word_freq_our: 1.85</br>word_freq_over: 0.0</br>word_freq_remove: 0.0</br>word_freq_internet: 1.85</br>word_freq_order: 0.0</br>word_freq_mail: 0.0</br>word_freq_receive: 0.0</br>word_freq_will: 0.0</br>word_freq_people: 0.0</br>word_freq_report: 0.0</br>word_freq_addresses: 0.0</br>word_freq_free: 0.0</br>word_freq_business: 0.0</br>... too many variables"
          ],
          [
           "</br>id: 5</br>prediction: 0.687</br>char_freq_%24: 3.78189</br></br>word_freq_make: 0.0</br>word_freq_address: 0.0</br>word_freq_all: 0.0</br>word_freq_3d: 0.0</br>word_freq_our: 1.85</br>word_freq_over: 0.0</br>word_freq_remove: 0.0</br>word_freq_internet: 1.85</br>word_freq_order: 0.0</br>word_freq_mail: 0.0</br>word_freq_receive: 0.0</br>word_freq_will: 0.0</br>word_freq_people: 0.0</br>word_freq_report: 0.0</br>word_freq_addresses: 0.0</br>word_freq_free: 0.0</br>word_freq_business: 0.0</br>... too many variables"
          ],
          [
           "</br>id: 5</br>prediction: 0.687</br>char_freq_%24: 3.84192</br></br>word_freq_make: 0.0</br>word_freq_address: 0.0</br>word_freq_all: 0.0</br>word_freq_3d: 0.0</br>word_freq_our: 1.85</br>word_freq_over: 0.0</br>word_freq_remove: 0.0</br>word_freq_internet: 1.85</br>word_freq_order: 0.0</br>word_freq_mail: 0.0</br>word_freq_receive: 0.0</br>word_freq_will: 0.0</br>word_freq_people: 0.0</br>word_freq_report: 0.0</br>word_freq_addresses: 0.0</br>word_freq_free: 0.0</br>word_freq_business: 0.0</br>... too many variables"
          ],
          [
           "</br>id: 5</br>prediction: 0.687</br>char_freq_%24: 3.90195</br></br>word_freq_make: 0.0</br>word_freq_address: 0.0</br>word_freq_all: 0.0</br>word_freq_3d: 0.0</br>word_freq_our: 1.85</br>word_freq_over: 0.0</br>word_freq_remove: 0.0</br>word_freq_internet: 1.85</br>word_freq_order: 0.0</br>word_freq_mail: 0.0</br>word_freq_receive: 0.0</br>word_freq_will: 0.0</br>word_freq_people: 0.0</br>word_freq_report: 0.0</br>word_freq_addresses: 0.0</br>word_freq_free: 0.0</br>word_freq_business: 0.0</br>... too many variables"
          ],
          [
           "</br>id: 5</br>prediction: 0.687</br>char_freq_%24: 3.96198</br></br>word_freq_make: 0.0</br>word_freq_address: 0.0</br>word_freq_all: 0.0</br>word_freq_3d: 0.0</br>word_freq_our: 1.85</br>word_freq_over: 0.0</br>word_freq_remove: 0.0</br>word_freq_internet: 1.85</br>word_freq_order: 0.0</br>word_freq_mail: 0.0</br>word_freq_receive: 0.0</br>word_freq_will: 0.0</br>word_freq_people: 0.0</br>word_freq_report: 0.0</br>word_freq_addresses: 0.0</br>word_freq_free: 0.0</br>word_freq_business: 0.0</br>... too many variables"
          ],
          [
           "</br>id: 5</br>prediction: 0.687</br>char_freq_%24: 4.02201</br></br>word_freq_make: 0.0</br>word_freq_address: 0.0</br>word_freq_all: 0.0</br>word_freq_3d: 0.0</br>word_freq_our: 1.85</br>word_freq_over: 0.0</br>word_freq_remove: 0.0</br>word_freq_internet: 1.85</br>word_freq_order: 0.0</br>word_freq_mail: 0.0</br>word_freq_receive: 0.0</br>word_freq_will: 0.0</br>word_freq_people: 0.0</br>word_freq_report: 0.0</br>word_freq_addresses: 0.0</br>word_freq_free: 0.0</br>word_freq_business: 0.0</br>... too many variables"
          ],
          [
           "</br>id: 5</br>prediction: 0.687</br>char_freq_%24: 4.08204</br></br>word_freq_make: 0.0</br>word_freq_address: 0.0</br>word_freq_all: 0.0</br>word_freq_3d: 0.0</br>word_freq_our: 1.85</br>word_freq_over: 0.0</br>word_freq_remove: 0.0</br>word_freq_internet: 1.85</br>word_freq_order: 0.0</br>word_freq_mail: 0.0</br>word_freq_receive: 0.0</br>word_freq_will: 0.0</br>word_freq_people: 0.0</br>word_freq_report: 0.0</br>word_freq_addresses: 0.0</br>word_freq_free: 0.0</br>word_freq_business: 0.0</br>... too many variables"
          ],
          [
           "</br>id: 5</br>prediction: 0.687</br>char_freq_%24: 4.14207</br></br>word_freq_make: 0.0</br>word_freq_address: 0.0</br>word_freq_all: 0.0</br>word_freq_3d: 0.0</br>word_freq_our: 1.85</br>word_freq_over: 0.0</br>word_freq_remove: 0.0</br>word_freq_internet: 1.85</br>word_freq_order: 0.0</br>word_freq_mail: 0.0</br>word_freq_receive: 0.0</br>word_freq_will: 0.0</br>word_freq_people: 0.0</br>word_freq_report: 0.0</br>word_freq_addresses: 0.0</br>word_freq_free: 0.0</br>word_freq_business: 0.0</br>... too many variables"
          ],
          [
           "</br>id: 5</br>prediction: 0.687</br>char_freq_%24: 4.2021</br></br>word_freq_make: 0.0</br>word_freq_address: 0.0</br>word_freq_all: 0.0</br>word_freq_3d: 0.0</br>word_freq_our: 1.85</br>word_freq_over: 0.0</br>word_freq_remove: 0.0</br>word_freq_internet: 1.85</br>word_freq_order: 0.0</br>word_freq_mail: 0.0</br>word_freq_receive: 0.0</br>word_freq_will: 0.0</br>word_freq_people: 0.0</br>word_freq_report: 0.0</br>word_freq_addresses: 0.0</br>word_freq_free: 0.0</br>word_freq_business: 0.0</br>word_freq_email: 0.0</br>... too many variables"
          ],
          [
           "</br>id: 5</br>prediction: 0.687</br>char_freq_%24: 4.26213</br></br>word_freq_make: 0.0</br>word_freq_address: 0.0</br>word_freq_all: 0.0</br>word_freq_3d: 0.0</br>word_freq_our: 1.85</br>word_freq_over: 0.0</br>word_freq_remove: 0.0</br>word_freq_internet: 1.85</br>word_freq_order: 0.0</br>word_freq_mail: 0.0</br>word_freq_receive: 0.0</br>word_freq_will: 0.0</br>word_freq_people: 0.0</br>word_freq_report: 0.0</br>word_freq_addresses: 0.0</br>word_freq_free: 0.0</br>word_freq_business: 0.0</br>... too many variables"
          ],
          [
           "</br>id: 5</br>prediction: 0.687</br>char_freq_%24: 4.32216</br></br>word_freq_make: 0.0</br>word_freq_address: 0.0</br>word_freq_all: 0.0</br>word_freq_3d: 0.0</br>word_freq_our: 1.85</br>word_freq_over: 0.0</br>word_freq_remove: 0.0</br>word_freq_internet: 1.85</br>word_freq_order: 0.0</br>word_freq_mail: 0.0</br>word_freq_receive: 0.0</br>word_freq_will: 0.0</br>word_freq_people: 0.0</br>word_freq_report: 0.0</br>word_freq_addresses: 0.0</br>word_freq_free: 0.0</br>word_freq_business: 0.0</br>... too many variables"
          ],
          [
           "</br>id: 5</br>prediction: 0.687</br>char_freq_%24: 4.38219</br></br>word_freq_make: 0.0</br>word_freq_address: 0.0</br>word_freq_all: 0.0</br>word_freq_3d: 0.0</br>word_freq_our: 1.85</br>word_freq_over: 0.0</br>word_freq_remove: 0.0</br>word_freq_internet: 1.85</br>word_freq_order: 0.0</br>word_freq_mail: 0.0</br>word_freq_receive: 0.0</br>word_freq_will: 0.0</br>word_freq_people: 0.0</br>word_freq_report: 0.0</br>word_freq_addresses: 0.0</br>word_freq_free: 0.0</br>word_freq_business: 0.0</br>... too many variables"
          ],
          [
           "</br>id: 5</br>prediction: 0.687</br>char_freq_%24: 4.44222</br></br>word_freq_make: 0.0</br>word_freq_address: 0.0</br>word_freq_all: 0.0</br>word_freq_3d: 0.0</br>word_freq_our: 1.85</br>word_freq_over: 0.0</br>word_freq_remove: 0.0</br>word_freq_internet: 1.85</br>word_freq_order: 0.0</br>word_freq_mail: 0.0</br>word_freq_receive: 0.0</br>word_freq_will: 0.0</br>word_freq_people: 0.0</br>word_freq_report: 0.0</br>word_freq_addresses: 0.0</br>word_freq_free: 0.0</br>word_freq_business: 0.0</br>... too many variables"
          ],
          [
           "</br>id: 5</br>prediction: 0.687</br>char_freq_%24: 4.50225</br></br>word_freq_make: 0.0</br>word_freq_address: 0.0</br>word_freq_all: 0.0</br>word_freq_3d: 0.0</br>word_freq_our: 1.85</br>word_freq_over: 0.0</br>word_freq_remove: 0.0</br>word_freq_internet: 1.85</br>word_freq_order: 0.0</br>word_freq_mail: 0.0</br>word_freq_receive: 0.0</br>word_freq_will: 0.0</br>word_freq_people: 0.0</br>word_freq_report: 0.0</br>word_freq_addresses: 0.0</br>word_freq_free: 0.0</br>word_freq_business: 0.0</br>... too many variables"
          ],
          [
           "</br>id: 5</br>prediction: 0.687</br>char_freq_%24: 4.56228</br></br>word_freq_make: 0.0</br>word_freq_address: 0.0</br>word_freq_all: 0.0</br>word_freq_3d: 0.0</br>word_freq_our: 1.85</br>word_freq_over: 0.0</br>word_freq_remove: 0.0</br>word_freq_internet: 1.85</br>word_freq_order: 0.0</br>word_freq_mail: 0.0</br>word_freq_receive: 0.0</br>word_freq_will: 0.0</br>word_freq_people: 0.0</br>word_freq_report: 0.0</br>word_freq_addresses: 0.0</br>word_freq_free: 0.0</br>word_freq_business: 0.0</br>... too many variables"
          ],
          [
           "</br>id: 5</br>prediction: 0.687</br>char_freq_%24: 4.62231</br></br>word_freq_make: 0.0</br>word_freq_address: 0.0</br>word_freq_all: 0.0</br>word_freq_3d: 0.0</br>word_freq_our: 1.85</br>word_freq_over: 0.0</br>word_freq_remove: 0.0</br>word_freq_internet: 1.85</br>word_freq_order: 0.0</br>word_freq_mail: 0.0</br>word_freq_receive: 0.0</br>word_freq_will: 0.0</br>word_freq_people: 0.0</br>word_freq_report: 0.0</br>word_freq_addresses: 0.0</br>word_freq_free: 0.0</br>word_freq_business: 0.0</br>... too many variables"
          ],
          [
           "</br>id: 5</br>prediction: 0.687</br>char_freq_%24: 4.68234</br></br>word_freq_make: 0.0</br>word_freq_address: 0.0</br>word_freq_all: 0.0</br>word_freq_3d: 0.0</br>word_freq_our: 1.85</br>word_freq_over: 0.0</br>word_freq_remove: 0.0</br>word_freq_internet: 1.85</br>word_freq_order: 0.0</br>word_freq_mail: 0.0</br>word_freq_receive: 0.0</br>word_freq_will: 0.0</br>word_freq_people: 0.0</br>word_freq_report: 0.0</br>word_freq_addresses: 0.0</br>word_freq_free: 0.0</br>word_freq_business: 0.0</br>... too many variables"
          ],
          [
           "</br>id: 5</br>prediction: 0.687</br>char_freq_%24: 4.74237</br></br>word_freq_make: 0.0</br>word_freq_address: 0.0</br>word_freq_all: 0.0</br>word_freq_3d: 0.0</br>word_freq_our: 1.85</br>word_freq_over: 0.0</br>word_freq_remove: 0.0</br>word_freq_internet: 1.85</br>word_freq_order: 0.0</br>word_freq_mail: 0.0</br>word_freq_receive: 0.0</br>word_freq_will: 0.0</br>word_freq_people: 0.0</br>word_freq_report: 0.0</br>word_freq_addresses: 0.0</br>word_freq_free: 0.0</br>word_freq_business: 0.0</br>... too many variables"
          ],
          [
           "</br>id: 5</br>prediction: 0.687</br>char_freq_%24: 4.8024000000000004</br></br>word_freq_make: 0.0</br>word_freq_address: 0.0</br>word_freq_all: 0.0</br>word_freq_3d: 0.0</br>word_freq_our: 1.85</br>word_freq_over: 0.0</br>word_freq_remove: 0.0</br>word_freq_internet: 1.85</br>word_freq_order: 0.0</br>word_freq_mail: 0.0</br>word_freq_receive: 0.0</br>word_freq_will: 0.0</br>word_freq_people: 0.0</br>word_freq_report: 0.0</br>word_freq_addresses: 0.0</br>word_freq_free: 0.0</br>word_freq_business: 0.0</br>... too many variables"
          ],
          [
           "</br>id: 5</br>prediction: 0.687</br>char_freq_%24: 4.86243</br></br>word_freq_make: 0.0</br>word_freq_address: 0.0</br>word_freq_all: 0.0</br>word_freq_3d: 0.0</br>word_freq_our: 1.85</br>word_freq_over: 0.0</br>word_freq_remove: 0.0</br>word_freq_internet: 1.85</br>word_freq_order: 0.0</br>word_freq_mail: 0.0</br>word_freq_receive: 0.0</br>word_freq_will: 0.0</br>word_freq_people: 0.0</br>word_freq_report: 0.0</br>word_freq_addresses: 0.0</br>word_freq_free: 0.0</br>word_freq_business: 0.0</br>... too many variables"
          ],
          [
           "</br>id: 5</br>prediction: 0.687</br>char_freq_%24: 4.92246</br></br>word_freq_make: 0.0</br>word_freq_address: 0.0</br>word_freq_all: 0.0</br>word_freq_3d: 0.0</br>word_freq_our: 1.85</br>word_freq_over: 0.0</br>word_freq_remove: 0.0</br>word_freq_internet: 1.85</br>word_freq_order: 0.0</br>word_freq_mail: 0.0</br>word_freq_receive: 0.0</br>word_freq_will: 0.0</br>word_freq_people: 0.0</br>word_freq_report: 0.0</br>word_freq_addresses: 0.0</br>word_freq_free: 0.0</br>word_freq_business: 0.0</br>... too many variables"
          ],
          [
           "</br>id: 5</br>prediction: 0.687</br>char_freq_%24: 4.98249</br></br>word_freq_make: 0.0</br>word_freq_address: 0.0</br>word_freq_all: 0.0</br>word_freq_3d: 0.0</br>word_freq_our: 1.85</br>word_freq_over: 0.0</br>word_freq_remove: 0.0</br>word_freq_internet: 1.85</br>word_freq_order: 0.0</br>word_freq_mail: 0.0</br>word_freq_receive: 0.0</br>word_freq_will: 0.0</br>word_freq_people: 0.0</br>word_freq_report: 0.0</br>word_freq_addresses: 0.0</br>word_freq_free: 0.0</br>word_freq_business: 0.0</br>... too many variables"
          ],
          [
           "</br>id: 5</br>prediction: 0.687</br>char_freq_%24: 5.04252</br></br>word_freq_make: 0.0</br>word_freq_address: 0.0</br>word_freq_all: 0.0</br>word_freq_3d: 0.0</br>word_freq_our: 1.85</br>word_freq_over: 0.0</br>word_freq_remove: 0.0</br>word_freq_internet: 1.85</br>word_freq_order: 0.0</br>word_freq_mail: 0.0</br>word_freq_receive: 0.0</br>word_freq_will: 0.0</br>word_freq_people: 0.0</br>word_freq_report: 0.0</br>word_freq_addresses: 0.0</br>word_freq_free: 0.0</br>word_freq_business: 0.0</br>... too many variables"
          ],
          [
           "</br>id: 5</br>prediction: 0.687</br>char_freq_%24: 5.10255</br></br>word_freq_make: 0.0</br>word_freq_address: 0.0</br>word_freq_all: 0.0</br>word_freq_3d: 0.0</br>word_freq_our: 1.85</br>word_freq_over: 0.0</br>word_freq_remove: 0.0</br>word_freq_internet: 1.85</br>word_freq_order: 0.0</br>word_freq_mail: 0.0</br>word_freq_receive: 0.0</br>word_freq_will: 0.0</br>word_freq_people: 0.0</br>word_freq_report: 0.0</br>word_freq_addresses: 0.0</br>word_freq_free: 0.0</br>word_freq_business: 0.0</br>... too many variables"
          ],
          [
           "</br>id: 5</br>prediction: 0.687</br>char_freq_%24: 5.16258</br></br>word_freq_make: 0.0</br>word_freq_address: 0.0</br>word_freq_all: 0.0</br>word_freq_3d: 0.0</br>word_freq_our: 1.85</br>word_freq_over: 0.0</br>word_freq_remove: 0.0</br>word_freq_internet: 1.85</br>word_freq_order: 0.0</br>word_freq_mail: 0.0</br>word_freq_receive: 0.0</br>word_freq_will: 0.0</br>word_freq_people: 0.0</br>word_freq_report: 0.0</br>word_freq_addresses: 0.0</br>word_freq_free: 0.0</br>word_freq_business: 0.0</br>... too many variables"
          ],
          [
           "</br>id: 5</br>prediction: 0.687</br>char_freq_%24: 5.22261</br></br>word_freq_make: 0.0</br>word_freq_address: 0.0</br>word_freq_all: 0.0</br>word_freq_3d: 0.0</br>word_freq_our: 1.85</br>word_freq_over: 0.0</br>word_freq_remove: 0.0</br>word_freq_internet: 1.85</br>word_freq_order: 0.0</br>word_freq_mail: 0.0</br>word_freq_receive: 0.0</br>word_freq_will: 0.0</br>word_freq_people: 0.0</br>word_freq_report: 0.0</br>word_freq_addresses: 0.0</br>word_freq_free: 0.0</br>word_freq_business: 0.0</br>... too many variables"
          ],
          [
           "</br>id: 5</br>prediction: 0.687</br>char_freq_%24: 5.28264</br></br>word_freq_make: 0.0</br>word_freq_address: 0.0</br>word_freq_all: 0.0</br>word_freq_3d: 0.0</br>word_freq_our: 1.85</br>word_freq_over: 0.0</br>word_freq_remove: 0.0</br>word_freq_internet: 1.85</br>word_freq_order: 0.0</br>word_freq_mail: 0.0</br>word_freq_receive: 0.0</br>word_freq_will: 0.0</br>word_freq_people: 0.0</br>word_freq_report: 0.0</br>word_freq_addresses: 0.0</br>word_freq_free: 0.0</br>word_freq_business: 0.0</br>... too many variables"
          ],
          [
           "</br>id: 5</br>prediction: 0.687</br>char_freq_%24: 5.34267</br></br>word_freq_make: 0.0</br>word_freq_address: 0.0</br>word_freq_all: 0.0</br>word_freq_3d: 0.0</br>word_freq_our: 1.85</br>word_freq_over: 0.0</br>word_freq_remove: 0.0</br>word_freq_internet: 1.85</br>word_freq_order: 0.0</br>word_freq_mail: 0.0</br>word_freq_receive: 0.0</br>word_freq_will: 0.0</br>word_freq_people: 0.0</br>word_freq_report: 0.0</br>word_freq_addresses: 0.0</br>word_freq_free: 0.0</br>word_freq_business: 0.0</br>... too many variables"
          ],
          [
           "</br>id: 5</br>prediction: 0.687</br>char_freq_%24: 5.4027</br></br>word_freq_make: 0.0</br>word_freq_address: 0.0</br>word_freq_all: 0.0</br>word_freq_3d: 0.0</br>word_freq_our: 1.85</br>word_freq_over: 0.0</br>word_freq_remove: 0.0</br>word_freq_internet: 1.85</br>word_freq_order: 0.0</br>word_freq_mail: 0.0</br>word_freq_receive: 0.0</br>word_freq_will: 0.0</br>word_freq_people: 0.0</br>word_freq_report: 0.0</br>word_freq_addresses: 0.0</br>word_freq_free: 0.0</br>word_freq_business: 0.0</br>word_freq_email: 0.0</br>... too many variables"
          ],
          [
           "</br>id: 5</br>prediction: 0.687</br>char_freq_%24: 5.46273</br></br>word_freq_make: 0.0</br>word_freq_address: 0.0</br>word_freq_all: 0.0</br>word_freq_3d: 0.0</br>word_freq_our: 1.85</br>word_freq_over: 0.0</br>word_freq_remove: 0.0</br>word_freq_internet: 1.85</br>word_freq_order: 0.0</br>word_freq_mail: 0.0</br>word_freq_receive: 0.0</br>word_freq_will: 0.0</br>word_freq_people: 0.0</br>word_freq_report: 0.0</br>word_freq_addresses: 0.0</br>word_freq_free: 0.0</br>word_freq_business: 0.0</br>... too many variables"
          ],
          [
           "</br>id: 5</br>prediction: 0.687</br>char_freq_%24: 5.52276</br></br>word_freq_make: 0.0</br>word_freq_address: 0.0</br>word_freq_all: 0.0</br>word_freq_3d: 0.0</br>word_freq_our: 1.85</br>word_freq_over: 0.0</br>word_freq_remove: 0.0</br>word_freq_internet: 1.85</br>word_freq_order: 0.0</br>word_freq_mail: 0.0</br>word_freq_receive: 0.0</br>word_freq_will: 0.0</br>word_freq_people: 0.0</br>word_freq_report: 0.0</br>word_freq_addresses: 0.0</br>word_freq_free: 0.0</br>word_freq_business: 0.0</br>... too many variables"
          ],
          [
           "</br>id: 5</br>prediction: 0.687</br>char_freq_%24: 5.58279</br></br>word_freq_make: 0.0</br>word_freq_address: 0.0</br>word_freq_all: 0.0</br>word_freq_3d: 0.0</br>word_freq_our: 1.85</br>word_freq_over: 0.0</br>word_freq_remove: 0.0</br>word_freq_internet: 1.85</br>word_freq_order: 0.0</br>word_freq_mail: 0.0</br>word_freq_receive: 0.0</br>word_freq_will: 0.0</br>word_freq_people: 0.0</br>word_freq_report: 0.0</br>word_freq_addresses: 0.0</br>word_freq_free: 0.0</br>word_freq_business: 0.0</br>... too many variables"
          ],
          [
           "</br>id: 5</br>prediction: 0.687</br>char_freq_%24: 5.64282</br></br>word_freq_make: 0.0</br>word_freq_address: 0.0</br>word_freq_all: 0.0</br>word_freq_3d: 0.0</br>word_freq_our: 1.85</br>word_freq_over: 0.0</br>word_freq_remove: 0.0</br>word_freq_internet: 1.85</br>word_freq_order: 0.0</br>word_freq_mail: 0.0</br>word_freq_receive: 0.0</br>word_freq_will: 0.0</br>word_freq_people: 0.0</br>word_freq_report: 0.0</br>word_freq_addresses: 0.0</br>word_freq_free: 0.0</br>word_freq_business: 0.0</br>... too many variables"
          ],
          [
           "</br>id: 5</br>prediction: 0.687</br>char_freq_%24: 5.70285</br></br>word_freq_make: 0.0</br>word_freq_address: 0.0</br>word_freq_all: 0.0</br>word_freq_3d: 0.0</br>word_freq_our: 1.85</br>word_freq_over: 0.0</br>word_freq_remove: 0.0</br>word_freq_internet: 1.85</br>word_freq_order: 0.0</br>word_freq_mail: 0.0</br>word_freq_receive: 0.0</br>word_freq_will: 0.0</br>word_freq_people: 0.0</br>word_freq_report: 0.0</br>word_freq_addresses: 0.0</br>word_freq_free: 0.0</br>word_freq_business: 0.0</br>... too many variables"
          ],
          [
           "</br>id: 5</br>prediction: 0.687</br>char_freq_%24: 5.76288</br></br>word_freq_make: 0.0</br>word_freq_address: 0.0</br>word_freq_all: 0.0</br>word_freq_3d: 0.0</br>word_freq_our: 1.85</br>word_freq_over: 0.0</br>word_freq_remove: 0.0</br>word_freq_internet: 1.85</br>word_freq_order: 0.0</br>word_freq_mail: 0.0</br>word_freq_receive: 0.0</br>word_freq_will: 0.0</br>word_freq_people: 0.0</br>word_freq_report: 0.0</br>word_freq_addresses: 0.0</br>word_freq_free: 0.0</br>word_freq_business: 0.0</br>... too many variables"
          ],
          [
           "</br>id: 5</br>prediction: 0.687</br>char_freq_%24: 5.82291</br></br>word_freq_make: 0.0</br>word_freq_address: 0.0</br>word_freq_all: 0.0</br>word_freq_3d: 0.0</br>word_freq_our: 1.85</br>word_freq_over: 0.0</br>word_freq_remove: 0.0</br>word_freq_internet: 1.85</br>word_freq_order: 0.0</br>word_freq_mail: 0.0</br>word_freq_receive: 0.0</br>word_freq_will: 0.0</br>word_freq_people: 0.0</br>word_freq_report: 0.0</br>word_freq_addresses: 0.0</br>word_freq_free: 0.0</br>word_freq_business: 0.0</br>... too many variables"
          ],
          [
           "</br>id: 5</br>prediction: 0.687</br>char_freq_%24: 5.88294</br></br>word_freq_make: 0.0</br>word_freq_address: 0.0</br>word_freq_all: 0.0</br>word_freq_3d: 0.0</br>word_freq_our: 1.85</br>word_freq_over: 0.0</br>word_freq_remove: 0.0</br>word_freq_internet: 1.85</br>word_freq_order: 0.0</br>word_freq_mail: 0.0</br>word_freq_receive: 0.0</br>word_freq_will: 0.0</br>word_freq_people: 0.0</br>word_freq_report: 0.0</br>word_freq_addresses: 0.0</br>word_freq_free: 0.0</br>word_freq_business: 0.0</br>... too many variables"
          ],
          [
           "</br>id: 5</br>prediction: 0.687</br>char_freq_%24: 5.94297</br></br>word_freq_make: 0.0</br>word_freq_address: 0.0</br>word_freq_all: 0.0</br>word_freq_3d: 0.0</br>word_freq_our: 1.85</br>word_freq_over: 0.0</br>word_freq_remove: 0.0</br>word_freq_internet: 1.85</br>word_freq_order: 0.0</br>word_freq_mail: 0.0</br>word_freq_receive: 0.0</br>word_freq_will: 0.0</br>word_freq_people: 0.0</br>word_freq_report: 0.0</br>word_freq_addresses: 0.0</br>word_freq_free: 0.0</br>word_freq_business: 0.0</br>... too many variables"
          ],
          [
           "</br>id: 5</br>prediction: 0.687</br>char_freq_%24: 6.003</br></br>word_freq_make: 0.0</br>word_freq_address: 0.0</br>word_freq_all: 0.0</br>word_freq_3d: 0.0</br>word_freq_our: 1.85</br>word_freq_over: 0.0</br>word_freq_remove: 0.0</br>word_freq_internet: 1.85</br>word_freq_order: 0.0</br>word_freq_mail: 0.0</br>word_freq_receive: 0.0</br>word_freq_will: 0.0</br>word_freq_people: 0.0</br>word_freq_report: 0.0</br>word_freq_addresses: 0.0</br>word_freq_free: 0.0</br>word_freq_business: 0.0</br>word_freq_email: 0.0</br>... too many variables"
          ]
         ],
         "hovertemplate": "%{customdata[0]}<extra></extra>",
         "legendgroup": "RandomForestClassifier",
         "line": {
          "color": "#46bac2",
          "dash": "solid",
          "width": 2
         },
         "marker": {
          "symbol": "circle"
         },
         "mode": "lines",
         "name": "RandomForestClassifier",
         "orientation": "v",
         "showlegend": false,
         "x": [
          0.0,
          0.06003,
          0.12006,
          0.18009,
          0.24012,
          0.30015000000000003,
          0.36018,
          0.42021,
          0.48024,
          0.54027,
          0.6003000000000001,
          0.66033,
          0.72036,
          0.78039,
          0.84042,
          0.90045,
          0.96048,
          1.02051,
          1.08054,
          1.14057,
          1.2006000000000001,
          1.26063,
          1.32066,
          1.38069,
          1.44072,
          1.50075,
          1.56078,
          1.62081,
          1.68084,
          1.74087,
          1.8009,
          1.86093,
          1.92096,
          1.98099,
          2.04102,
          2.10105,
          2.16108,
          2.22111,
          2.28114,
          2.34117,
          2.4012000000000002,
          2.46123,
          2.52126,
          2.58129,
          2.64132,
          2.70135,
          2.76138,
          2.82141,
          2.88144,
          2.94147,
          3.0015,
          3.06153,
          3.12156,
          3.18159,
          3.24162,
          3.30165,
          3.36168,
          3.42171,
          3.48174,
          3.54177,
          3.6018,
          3.66183,
          3.72186,
          3.78189,
          3.84192,
          3.90195,
          3.96198,
          4.02201,
          4.08204,
          4.14207,
          4.2021,
          4.26213,
          4.32216,
          4.38219,
          4.44222,
          4.50225,
          4.56228,
          4.62231,
          4.68234,
          4.74237,
          4.8024000000000004,
          4.86243,
          4.92246,
          4.98249,
          5.04252,
          5.10255,
          5.16258,
          5.22261,
          5.28264,
          5.34267,
          5.4027,
          5.46273,
          5.52276,
          5.58279,
          5.64282,
          5.70285,
          5.76288,
          5.82291,
          5.88294,
          5.94297,
          6.003
         ],
         "xaxis": "x",
         "y": [
          0.28840994237299195,
          0.5204124476072901,
          0.6147523590195716,
          0.6774102416966323,
          0.683820911818635,
          0.6875264673741907,
          0.6875264673741907,
          0.6860978959456193,
          0.6860978959456193,
          0.6832407530884764,
          0.6760288957087086,
          0.6760288957087086,
          0.6746563466891006,
          0.6746563466891006,
          0.6746563466891006,
          0.6774420609748151,
          0.6774420609748151,
          0.682442060974815,
          0.682442060974815,
          0.682442060974815,
          0.682442060974815,
          0.682442060974815,
          0.682442060974815,
          0.682442060974815,
          0.682442060974815,
          0.682442060974815,
          0.682442060974815,
          0.682442060974815,
          0.682442060974815,
          0.682442060974815,
          0.682442060974815,
          0.682442060974815,
          0.682442060974815,
          0.682442060974815,
          0.6873459071286611,
          0.6873459071286611,
          0.6873459071286611,
          0.6873459071286611,
          0.6873459071286611,
          0.6873459071286611,
          0.6873459071286611,
          0.6873459071286611,
          0.6873459071286611,
          0.6873459071286611,
          0.6873459071286611,
          0.6873459071286611,
          0.6873459071286611,
          0.6873459071286611,
          0.6873459071286611,
          0.6873459071286611,
          0.6873459071286611,
          0.6873459071286611,
          0.6873459071286611,
          0.6873459071286611,
          0.6873459071286611,
          0.6873459071286611,
          0.6873459071286611,
          0.6873459071286611,
          0.6873459071286611,
          0.6873459071286611,
          0.6873459071286611,
          0.6873459071286611,
          0.6873459071286611,
          0.6873459071286611,
          0.6873459071286611,
          0.6873459071286611,
          0.6873459071286611,
          0.6873459071286611,
          0.6873459071286611,
          0.6873459071286611,
          0.6873459071286611,
          0.6873459071286611,
          0.6873459071286611,
          0.6873459071286611,
          0.6873459071286611,
          0.6873459071286611,
          0.6873459071286611,
          0.6873459071286611,
          0.6873459071286611,
          0.6873459071286611,
          0.6873459071286611,
          0.6873459071286611,
          0.6873459071286611,
          0.6873459071286611,
          0.6873459071286611,
          0.6873459071286611,
          0.6873459071286611,
          0.6873459071286611,
          0.6873459071286611,
          0.6873459071286611,
          0.6873459071286611,
          0.6873459071286611,
          0.6873459071286611,
          0.6873459071286611,
          0.6873459071286611,
          0.6873459071286611,
          0.6873459071286611,
          0.6873459071286611,
          0.6873459071286611,
          0.6873459071286611,
          0.6873459071286611
         ],
         "yaxis": "y",
         "type": "scatter",
         "opacity": 1
        },
        {
         "customdata": [
          [
           "</br>id: 4</br>prediction: 0.855</br>capital_run_length_average: 1.0</br></br>word_freq_make: 0.0</br>word_freq_address: 0.0</br>word_freq_all: 0.0</br>word_freq_3d: 0.0</br>word_freq_our: 0.63</br>word_freq_over: 0.0</br>word_freq_remove: 0.31</br>word_freq_internet: 0.63</br>word_freq_order: 0.31</br>word_freq_mail: 0.63</br>word_freq_receive: 0.31</br>word_freq_will: 0.31</br>word_freq_people: 0.31</br>word_freq_report: 0.0</br>word_freq_addresses: 0.0</br>word_freq_free: 0.31</br>word_freq_business: 0.0</br>... too many variables"
          ],
          [
           "</br>id: 4</br>prediction: 0.933</br>capital_run_length_average: 3.0</br></br>word_freq_make: 0.0</br>word_freq_address: 0.0</br>word_freq_all: 0.0</br>word_freq_3d: 0.0</br>word_freq_our: 0.63</br>word_freq_over: 0.0</br>word_freq_remove: 0.31</br>word_freq_internet: 0.63</br>word_freq_order: 0.31</br>word_freq_mail: 0.63</br>word_freq_receive: 0.31</br>word_freq_will: 0.31</br>word_freq_people: 0.31</br>word_freq_report: 0.0</br>word_freq_addresses: 0.0</br>word_freq_free: 0.31</br>word_freq_business: 0.0</br>... too many variables"
          ],
          [
           "</br>id: 4</br>prediction: 0.952</br>capital_run_length_average: 3.537</br></br>word_freq_make: 0.0</br>word_freq_address: 0.0</br>word_freq_all: 0.0</br>word_freq_3d: 0.0</br>word_freq_our: 0.63</br>word_freq_over: 0.0</br>word_freq_remove: 0.31</br>word_freq_internet: 0.63</br>word_freq_order: 0.31</br>word_freq_mail: 0.63</br>word_freq_receive: 0.31</br>word_freq_will: 0.31</br>word_freq_people: 0.31</br>word_freq_report: 0.0</br>word_freq_addresses: 0.0</br>word_freq_free: 0.31</br>word_freq_business: 0.0</br>... too many variables"
          ],
          [
           "</br>id: 4</br>prediction: 0.957</br>capital_run_length_average: 12.015</br></br>word_freq_make: 0.0</br>word_freq_address: 0.0</br>word_freq_all: 0.0</br>word_freq_3d: 0.0</br>word_freq_our: 0.63</br>word_freq_over: 0.0</br>word_freq_remove: 0.31</br>word_freq_internet: 0.63</br>word_freq_order: 0.31</br>word_freq_mail: 0.63</br>word_freq_receive: 0.31</br>word_freq_will: 0.31</br>word_freq_people: 0.31</br>word_freq_report: 0.0</br>word_freq_addresses: 0.0</br>word_freq_free: 0.31</br>word_freq_business: 0.0</br>... too many variables"
          ],
          [
           "</br>id: 4</br>prediction: 0.949</br>capital_run_length_average: 23.03</br></br>word_freq_make: 0.0</br>word_freq_address: 0.0</br>word_freq_all: 0.0</br>word_freq_3d: 0.0</br>word_freq_our: 0.63</br>word_freq_over: 0.0</br>word_freq_remove: 0.31</br>word_freq_internet: 0.63</br>word_freq_order: 0.31</br>word_freq_mail: 0.63</br>word_freq_receive: 0.31</br>word_freq_will: 0.31</br>word_freq_people: 0.31</br>word_freq_report: 0.0</br>word_freq_addresses: 0.0</br>word_freq_free: 0.31</br>word_freq_business: 0.0</br>... too many variables"
          ],
          [
           "</br>id: 4</br>prediction: 0.949</br>capital_run_length_average: 34.045</br></br>word_freq_make: 0.0</br>word_freq_address: 0.0</br>word_freq_all: 0.0</br>word_freq_3d: 0.0</br>word_freq_our: 0.63</br>word_freq_over: 0.0</br>word_freq_remove: 0.31</br>word_freq_internet: 0.63</br>word_freq_order: 0.31</br>word_freq_mail: 0.63</br>word_freq_receive: 0.31</br>word_freq_will: 0.31</br>word_freq_people: 0.31</br>word_freq_report: 0.0</br>word_freq_addresses: 0.0</br>word_freq_free: 0.31</br>word_freq_business: 0.0</br>... too many variables"
          ],
          [
           "</br>id: 4</br>prediction: 0.949</br>capital_run_length_average: 45.06</br></br>word_freq_make: 0.0</br>word_freq_address: 0.0</br>word_freq_all: 0.0</br>word_freq_3d: 0.0</br>word_freq_our: 0.63</br>word_freq_over: 0.0</br>word_freq_remove: 0.31</br>word_freq_internet: 0.63</br>word_freq_order: 0.31</br>word_freq_mail: 0.63</br>word_freq_receive: 0.31</br>word_freq_will: 0.31</br>word_freq_people: 0.31</br>word_freq_report: 0.0</br>word_freq_addresses: 0.0</br>word_freq_free: 0.31</br>word_freq_business: 0.0</br>... too many variables"
          ],
          [
           "</br>id: 4</br>prediction: 0.949</br>capital_run_length_average: 56.075</br></br>word_freq_make: 0.0</br>word_freq_address: 0.0</br>word_freq_all: 0.0</br>word_freq_3d: 0.0</br>word_freq_our: 0.63</br>word_freq_over: 0.0</br>word_freq_remove: 0.31</br>word_freq_internet: 0.63</br>word_freq_order: 0.31</br>word_freq_mail: 0.63</br>word_freq_receive: 0.31</br>word_freq_will: 0.31</br>word_freq_people: 0.31</br>word_freq_report: 0.0</br>word_freq_addresses: 0.0</br>word_freq_free: 0.31</br>word_freq_business: 0.0</br>... too many variables"
          ],
          [
           "</br>id: 4</br>prediction: 0.949</br>capital_run_length_average: 67.09</br></br>word_freq_make: 0.0</br>word_freq_address: 0.0</br>word_freq_all: 0.0</br>word_freq_3d: 0.0</br>word_freq_our: 0.63</br>word_freq_over: 0.0</br>word_freq_remove: 0.31</br>word_freq_internet: 0.63</br>word_freq_order: 0.31</br>word_freq_mail: 0.63</br>word_freq_receive: 0.31</br>word_freq_will: 0.31</br>word_freq_people: 0.31</br>word_freq_report: 0.0</br>word_freq_addresses: 0.0</br>word_freq_free: 0.31</br>word_freq_business: 0.0</br>... too many variables"
          ],
          [
           "</br>id: 4</br>prediction: 0.949</br>capital_run_length_average: 78.105</br></br>word_freq_make: 0.0</br>word_freq_address: 0.0</br>word_freq_all: 0.0</br>word_freq_3d: 0.0</br>word_freq_our: 0.63</br>word_freq_over: 0.0</br>word_freq_remove: 0.31</br>word_freq_internet: 0.63</br>word_freq_order: 0.31</br>word_freq_mail: 0.63</br>word_freq_receive: 0.31</br>word_freq_will: 0.31</br>word_freq_people: 0.31</br>word_freq_report: 0.0</br>word_freq_addresses: 0.0</br>word_freq_free: 0.31</br>word_freq_business: 0.0</br>... too many variables"
          ],
          [
           "</br>id: 4</br>prediction: 0.949</br>capital_run_length_average: 89.12</br></br>word_freq_make: 0.0</br>word_freq_address: 0.0</br>word_freq_all: 0.0</br>word_freq_3d: 0.0</br>word_freq_our: 0.63</br>word_freq_over: 0.0</br>word_freq_remove: 0.31</br>word_freq_internet: 0.63</br>word_freq_order: 0.31</br>word_freq_mail: 0.63</br>word_freq_receive: 0.31</br>word_freq_will: 0.31</br>word_freq_people: 0.31</br>word_freq_report: 0.0</br>word_freq_addresses: 0.0</br>word_freq_free: 0.31</br>word_freq_business: 0.0</br>... too many variables"
          ],
          [
           "</br>id: 4</br>prediction: 0.949</br>capital_run_length_average: 100.135</br></br>word_freq_make: 0.0</br>word_freq_address: 0.0</br>word_freq_all: 0.0</br>word_freq_3d: 0.0</br>word_freq_our: 0.63</br>word_freq_over: 0.0</br>word_freq_remove: 0.31</br>word_freq_internet: 0.63</br>word_freq_order: 0.31</br>word_freq_mail: 0.63</br>word_freq_receive: 0.31</br>word_freq_will: 0.31</br>word_freq_people: 0.31</br>word_freq_report: 0.0</br>word_freq_addresses: 0.0</br>word_freq_free: 0.31</br>word_freq_business: 0.0</br>... too many variables"
          ],
          [
           "</br>id: 4</br>prediction: 0.949</br>capital_run_length_average: 111.15</br></br>word_freq_make: 0.0</br>word_freq_address: 0.0</br>word_freq_all: 0.0</br>word_freq_3d: 0.0</br>word_freq_our: 0.63</br>word_freq_over: 0.0</br>word_freq_remove: 0.31</br>word_freq_internet: 0.63</br>word_freq_order: 0.31</br>word_freq_mail: 0.63</br>word_freq_receive: 0.31</br>word_freq_will: 0.31</br>word_freq_people: 0.31</br>word_freq_report: 0.0</br>word_freq_addresses: 0.0</br>word_freq_free: 0.31</br>word_freq_business: 0.0</br>... too many variables"
          ],
          [
           "</br>id: 4</br>prediction: 0.949</br>capital_run_length_average: 122.165</br></br>word_freq_make: 0.0</br>word_freq_address: 0.0</br>word_freq_all: 0.0</br>word_freq_3d: 0.0</br>word_freq_our: 0.63</br>word_freq_over: 0.0</br>word_freq_remove: 0.31</br>word_freq_internet: 0.63</br>word_freq_order: 0.31</br>word_freq_mail: 0.63</br>word_freq_receive: 0.31</br>word_freq_will: 0.31</br>word_freq_people: 0.31</br>word_freq_report: 0.0</br>word_freq_addresses: 0.0</br>word_freq_free: 0.31</br>word_freq_business: 0.0</br>... too many variables"
          ],
          [
           "</br>id: 4</br>prediction: 0.949</br>capital_run_length_average: 133.18</br></br>word_freq_make: 0.0</br>word_freq_address: 0.0</br>word_freq_all: 0.0</br>word_freq_3d: 0.0</br>word_freq_our: 0.63</br>word_freq_over: 0.0</br>word_freq_remove: 0.31</br>word_freq_internet: 0.63</br>word_freq_order: 0.31</br>word_freq_mail: 0.63</br>word_freq_receive: 0.31</br>word_freq_will: 0.31</br>word_freq_people: 0.31</br>word_freq_report: 0.0</br>word_freq_addresses: 0.0</br>word_freq_free: 0.31</br>word_freq_business: 0.0</br>... too many variables"
          ],
          [
           "</br>id: 4</br>prediction: 0.949</br>capital_run_length_average: 144.195</br></br>word_freq_make: 0.0</br>word_freq_address: 0.0</br>word_freq_all: 0.0</br>word_freq_3d: 0.0</br>word_freq_our: 0.63</br>word_freq_over: 0.0</br>word_freq_remove: 0.31</br>word_freq_internet: 0.63</br>word_freq_order: 0.31</br>word_freq_mail: 0.63</br>word_freq_receive: 0.31</br>word_freq_will: 0.31</br>word_freq_people: 0.31</br>word_freq_report: 0.0</br>word_freq_addresses: 0.0</br>word_freq_free: 0.31</br>word_freq_business: 0.0</br>... too many variables"
          ],
          [
           "</br>id: 4</br>prediction: 0.949</br>capital_run_length_average: 155.21</br></br>word_freq_make: 0.0</br>word_freq_address: 0.0</br>word_freq_all: 0.0</br>word_freq_3d: 0.0</br>word_freq_our: 0.63</br>word_freq_over: 0.0</br>word_freq_remove: 0.31</br>word_freq_internet: 0.63</br>word_freq_order: 0.31</br>word_freq_mail: 0.63</br>word_freq_receive: 0.31</br>word_freq_will: 0.31</br>word_freq_people: 0.31</br>word_freq_report: 0.0</br>word_freq_addresses: 0.0</br>word_freq_free: 0.31</br>word_freq_business: 0.0</br>... too many variables"
          ],
          [
           "</br>id: 4</br>prediction: 0.949</br>capital_run_length_average: 166.22500000000002</br></br>word_freq_make: 0.0</br>word_freq_address: 0.0</br>word_freq_all: 0.0</br>word_freq_3d: 0.0</br>word_freq_our: 0.63</br>word_freq_over: 0.0</br>word_freq_remove: 0.31</br>word_freq_internet: 0.63</br>word_freq_order: 0.31</br>word_freq_mail: 0.63</br>word_freq_receive: 0.31</br>word_freq_will: 0.31</br>word_freq_people: 0.31</br>word_freq_report: 0.0</br>word_freq_addresses: 0.0</br>word_freq_free: 0.31</br>... too many variables"
          ],
          [
           "</br>id: 4</br>prediction: 0.949</br>capital_run_length_average: 177.24</br></br>word_freq_make: 0.0</br>word_freq_address: 0.0</br>word_freq_all: 0.0</br>word_freq_3d: 0.0</br>word_freq_our: 0.63</br>word_freq_over: 0.0</br>word_freq_remove: 0.31</br>word_freq_internet: 0.63</br>word_freq_order: 0.31</br>word_freq_mail: 0.63</br>word_freq_receive: 0.31</br>word_freq_will: 0.31</br>word_freq_people: 0.31</br>word_freq_report: 0.0</br>word_freq_addresses: 0.0</br>word_freq_free: 0.31</br>word_freq_business: 0.0</br>... too many variables"
          ],
          [
           "</br>id: 4</br>prediction: 0.949</br>capital_run_length_average: 188.255</br></br>word_freq_make: 0.0</br>word_freq_address: 0.0</br>word_freq_all: 0.0</br>word_freq_3d: 0.0</br>word_freq_our: 0.63</br>word_freq_over: 0.0</br>word_freq_remove: 0.31</br>word_freq_internet: 0.63</br>word_freq_order: 0.31</br>word_freq_mail: 0.63</br>word_freq_receive: 0.31</br>word_freq_will: 0.31</br>word_freq_people: 0.31</br>word_freq_report: 0.0</br>word_freq_addresses: 0.0</br>word_freq_free: 0.31</br>word_freq_business: 0.0</br>... too many variables"
          ],
          [
           "</br>id: 4</br>prediction: 0.949</br>capital_run_length_average: 199.27</br></br>word_freq_make: 0.0</br>word_freq_address: 0.0</br>word_freq_all: 0.0</br>word_freq_3d: 0.0</br>word_freq_our: 0.63</br>word_freq_over: 0.0</br>word_freq_remove: 0.31</br>word_freq_internet: 0.63</br>word_freq_order: 0.31</br>word_freq_mail: 0.63</br>word_freq_receive: 0.31</br>word_freq_will: 0.31</br>word_freq_people: 0.31</br>word_freq_report: 0.0</br>word_freq_addresses: 0.0</br>word_freq_free: 0.31</br>word_freq_business: 0.0</br>... too many variables"
          ],
          [
           "</br>id: 4</br>prediction: 0.949</br>capital_run_length_average: 210.28500000000003</br></br>word_freq_make: 0.0</br>word_freq_address: 0.0</br>word_freq_all: 0.0</br>word_freq_3d: 0.0</br>word_freq_our: 0.63</br>word_freq_over: 0.0</br>word_freq_remove: 0.31</br>word_freq_internet: 0.63</br>word_freq_order: 0.31</br>word_freq_mail: 0.63</br>word_freq_receive: 0.31</br>word_freq_will: 0.31</br>word_freq_people: 0.31</br>word_freq_report: 0.0</br>word_freq_addresses: 0.0</br>word_freq_free: 0.31</br>... too many variables"
          ],
          [
           "</br>id: 4</br>prediction: 0.949</br>capital_run_length_average: 221.3</br></br>word_freq_make: 0.0</br>word_freq_address: 0.0</br>word_freq_all: 0.0</br>word_freq_3d: 0.0</br>word_freq_our: 0.63</br>word_freq_over: 0.0</br>word_freq_remove: 0.31</br>word_freq_internet: 0.63</br>word_freq_order: 0.31</br>word_freq_mail: 0.63</br>word_freq_receive: 0.31</br>word_freq_will: 0.31</br>word_freq_people: 0.31</br>word_freq_report: 0.0</br>word_freq_addresses: 0.0</br>word_freq_free: 0.31</br>word_freq_business: 0.0</br>... too many variables"
          ],
          [
           "</br>id: 4</br>prediction: 0.949</br>capital_run_length_average: 232.315</br></br>word_freq_make: 0.0</br>word_freq_address: 0.0</br>word_freq_all: 0.0</br>word_freq_3d: 0.0</br>word_freq_our: 0.63</br>word_freq_over: 0.0</br>word_freq_remove: 0.31</br>word_freq_internet: 0.63</br>word_freq_order: 0.31</br>word_freq_mail: 0.63</br>word_freq_receive: 0.31</br>word_freq_will: 0.31</br>word_freq_people: 0.31</br>word_freq_report: 0.0</br>word_freq_addresses: 0.0</br>word_freq_free: 0.31</br>word_freq_business: 0.0</br>... too many variables"
          ],
          [
           "</br>id: 4</br>prediction: 0.949</br>capital_run_length_average: 243.33</br></br>word_freq_make: 0.0</br>word_freq_address: 0.0</br>word_freq_all: 0.0</br>word_freq_3d: 0.0</br>word_freq_our: 0.63</br>word_freq_over: 0.0</br>word_freq_remove: 0.31</br>word_freq_internet: 0.63</br>word_freq_order: 0.31</br>word_freq_mail: 0.63</br>word_freq_receive: 0.31</br>word_freq_will: 0.31</br>word_freq_people: 0.31</br>word_freq_report: 0.0</br>word_freq_addresses: 0.0</br>word_freq_free: 0.31</br>word_freq_business: 0.0</br>... too many variables"
          ],
          [
           "</br>id: 4</br>prediction: 0.949</br>capital_run_length_average: 254.34500000000003</br></br>word_freq_make: 0.0</br>word_freq_address: 0.0</br>word_freq_all: 0.0</br>word_freq_3d: 0.0</br>word_freq_our: 0.63</br>word_freq_over: 0.0</br>word_freq_remove: 0.31</br>word_freq_internet: 0.63</br>word_freq_order: 0.31</br>word_freq_mail: 0.63</br>word_freq_receive: 0.31</br>word_freq_will: 0.31</br>word_freq_people: 0.31</br>word_freq_report: 0.0</br>word_freq_addresses: 0.0</br>word_freq_free: 0.31</br>... too many variables"
          ],
          [
           "</br>id: 4</br>prediction: 0.949</br>capital_run_length_average: 265.36</br></br>word_freq_make: 0.0</br>word_freq_address: 0.0</br>word_freq_all: 0.0</br>word_freq_3d: 0.0</br>word_freq_our: 0.63</br>word_freq_over: 0.0</br>word_freq_remove: 0.31</br>word_freq_internet: 0.63</br>word_freq_order: 0.31</br>word_freq_mail: 0.63</br>word_freq_receive: 0.31</br>word_freq_will: 0.31</br>word_freq_people: 0.31</br>word_freq_report: 0.0</br>word_freq_addresses: 0.0</br>word_freq_free: 0.31</br>word_freq_business: 0.0</br>... too many variables"
          ],
          [
           "</br>id: 4</br>prediction: 0.949</br>capital_run_length_average: 276.375</br></br>word_freq_make: 0.0</br>word_freq_address: 0.0</br>word_freq_all: 0.0</br>word_freq_3d: 0.0</br>word_freq_our: 0.63</br>word_freq_over: 0.0</br>word_freq_remove: 0.31</br>word_freq_internet: 0.63</br>word_freq_order: 0.31</br>word_freq_mail: 0.63</br>word_freq_receive: 0.31</br>word_freq_will: 0.31</br>word_freq_people: 0.31</br>word_freq_report: 0.0</br>word_freq_addresses: 0.0</br>word_freq_free: 0.31</br>word_freq_business: 0.0</br>... too many variables"
          ],
          [
           "</br>id: 4</br>prediction: 0.949</br>capital_run_length_average: 287.39</br></br>word_freq_make: 0.0</br>word_freq_address: 0.0</br>word_freq_all: 0.0</br>word_freq_3d: 0.0</br>word_freq_our: 0.63</br>word_freq_over: 0.0</br>word_freq_remove: 0.31</br>word_freq_internet: 0.63</br>word_freq_order: 0.31</br>word_freq_mail: 0.63</br>word_freq_receive: 0.31</br>word_freq_will: 0.31</br>word_freq_people: 0.31</br>word_freq_report: 0.0</br>word_freq_addresses: 0.0</br>word_freq_free: 0.31</br>word_freq_business: 0.0</br>... too many variables"
          ],
          [
           "</br>id: 4</br>prediction: 0.949</br>capital_run_length_average: 298.40500000000003</br></br>word_freq_make: 0.0</br>word_freq_address: 0.0</br>word_freq_all: 0.0</br>word_freq_3d: 0.0</br>word_freq_our: 0.63</br>word_freq_over: 0.0</br>word_freq_remove: 0.31</br>word_freq_internet: 0.63</br>word_freq_order: 0.31</br>word_freq_mail: 0.63</br>word_freq_receive: 0.31</br>word_freq_will: 0.31</br>word_freq_people: 0.31</br>word_freq_report: 0.0</br>word_freq_addresses: 0.0</br>word_freq_free: 0.31</br>... too many variables"
          ],
          [
           "</br>id: 4</br>prediction: 0.949</br>capital_run_length_average: 309.42</br></br>word_freq_make: 0.0</br>word_freq_address: 0.0</br>word_freq_all: 0.0</br>word_freq_3d: 0.0</br>word_freq_our: 0.63</br>word_freq_over: 0.0</br>word_freq_remove: 0.31</br>word_freq_internet: 0.63</br>word_freq_order: 0.31</br>word_freq_mail: 0.63</br>word_freq_receive: 0.31</br>word_freq_will: 0.31</br>word_freq_people: 0.31</br>word_freq_report: 0.0</br>word_freq_addresses: 0.0</br>word_freq_free: 0.31</br>word_freq_business: 0.0</br>... too many variables"
          ],
          [
           "</br>id: 4</br>prediction: 0.949</br>capital_run_length_average: 320.435</br></br>word_freq_make: 0.0</br>word_freq_address: 0.0</br>word_freq_all: 0.0</br>word_freq_3d: 0.0</br>word_freq_our: 0.63</br>word_freq_over: 0.0</br>word_freq_remove: 0.31</br>word_freq_internet: 0.63</br>word_freq_order: 0.31</br>word_freq_mail: 0.63</br>word_freq_receive: 0.31</br>word_freq_will: 0.31</br>word_freq_people: 0.31</br>word_freq_report: 0.0</br>word_freq_addresses: 0.0</br>word_freq_free: 0.31</br>word_freq_business: 0.0</br>... too many variables"
          ],
          [
           "</br>id: 4</br>prediction: 0.949</br>capital_run_length_average: 331.45000000000005</br></br>word_freq_make: 0.0</br>word_freq_address: 0.0</br>word_freq_all: 0.0</br>word_freq_3d: 0.0</br>word_freq_our: 0.63</br>word_freq_over: 0.0</br>word_freq_remove: 0.31</br>word_freq_internet: 0.63</br>word_freq_order: 0.31</br>word_freq_mail: 0.63</br>word_freq_receive: 0.31</br>word_freq_will: 0.31</br>word_freq_people: 0.31</br>word_freq_report: 0.0</br>word_freq_addresses: 0.0</br>word_freq_free: 0.31</br>... too many variables"
          ],
          [
           "</br>id: 4</br>prediction: 0.949</br>capital_run_length_average: 342.46500000000003</br></br>word_freq_make: 0.0</br>word_freq_address: 0.0</br>word_freq_all: 0.0</br>word_freq_3d: 0.0</br>word_freq_our: 0.63</br>word_freq_over: 0.0</br>word_freq_remove: 0.31</br>word_freq_internet: 0.63</br>word_freq_order: 0.31</br>word_freq_mail: 0.63</br>word_freq_receive: 0.31</br>word_freq_will: 0.31</br>word_freq_people: 0.31</br>word_freq_report: 0.0</br>word_freq_addresses: 0.0</br>word_freq_free: 0.31</br>... too many variables"
          ],
          [
           "</br>id: 4</br>prediction: 0.949</br>capital_run_length_average: 353.48</br></br>word_freq_make: 0.0</br>word_freq_address: 0.0</br>word_freq_all: 0.0</br>word_freq_3d: 0.0</br>word_freq_our: 0.63</br>word_freq_over: 0.0</br>word_freq_remove: 0.31</br>word_freq_internet: 0.63</br>word_freq_order: 0.31</br>word_freq_mail: 0.63</br>word_freq_receive: 0.31</br>word_freq_will: 0.31</br>word_freq_people: 0.31</br>word_freq_report: 0.0</br>word_freq_addresses: 0.0</br>word_freq_free: 0.31</br>word_freq_business: 0.0</br>... too many variables"
          ],
          [
           "</br>id: 4</br>prediction: 0.949</br>capital_run_length_average: 364.495</br></br>word_freq_make: 0.0</br>word_freq_address: 0.0</br>word_freq_all: 0.0</br>word_freq_3d: 0.0</br>word_freq_our: 0.63</br>word_freq_over: 0.0</br>word_freq_remove: 0.31</br>word_freq_internet: 0.63</br>word_freq_order: 0.31</br>word_freq_mail: 0.63</br>word_freq_receive: 0.31</br>word_freq_will: 0.31</br>word_freq_people: 0.31</br>word_freq_report: 0.0</br>word_freq_addresses: 0.0</br>word_freq_free: 0.31</br>word_freq_business: 0.0</br>... too many variables"
          ],
          [
           "</br>id: 4</br>prediction: 0.949</br>capital_run_length_average: 375.51</br></br>word_freq_make: 0.0</br>word_freq_address: 0.0</br>word_freq_all: 0.0</br>word_freq_3d: 0.0</br>word_freq_our: 0.63</br>word_freq_over: 0.0</br>word_freq_remove: 0.31</br>word_freq_internet: 0.63</br>word_freq_order: 0.31</br>word_freq_mail: 0.63</br>word_freq_receive: 0.31</br>word_freq_will: 0.31</br>word_freq_people: 0.31</br>word_freq_report: 0.0</br>word_freq_addresses: 0.0</br>word_freq_free: 0.31</br>word_freq_business: 0.0</br>... too many variables"
          ],
          [
           "</br>id: 4</br>prediction: 0.949</br>capital_run_length_average: 386.52500000000003</br></br>word_freq_make: 0.0</br>word_freq_address: 0.0</br>word_freq_all: 0.0</br>word_freq_3d: 0.0</br>word_freq_our: 0.63</br>word_freq_over: 0.0</br>word_freq_remove: 0.31</br>word_freq_internet: 0.63</br>word_freq_order: 0.31</br>word_freq_mail: 0.63</br>word_freq_receive: 0.31</br>word_freq_will: 0.31</br>word_freq_people: 0.31</br>word_freq_report: 0.0</br>word_freq_addresses: 0.0</br>word_freq_free: 0.31</br>... too many variables"
          ],
          [
           "</br>id: 4</br>prediction: 0.949</br>capital_run_length_average: 397.54</br></br>word_freq_make: 0.0</br>word_freq_address: 0.0</br>word_freq_all: 0.0</br>word_freq_3d: 0.0</br>word_freq_our: 0.63</br>word_freq_over: 0.0</br>word_freq_remove: 0.31</br>word_freq_internet: 0.63</br>word_freq_order: 0.31</br>word_freq_mail: 0.63</br>word_freq_receive: 0.31</br>word_freq_will: 0.31</br>word_freq_people: 0.31</br>word_freq_report: 0.0</br>word_freq_addresses: 0.0</br>word_freq_free: 0.31</br>word_freq_business: 0.0</br>... too many variables"
          ],
          [
           "</br>id: 4</br>prediction: 0.949</br>capital_run_length_average: 408.555</br></br>word_freq_make: 0.0</br>word_freq_address: 0.0</br>word_freq_all: 0.0</br>word_freq_3d: 0.0</br>word_freq_our: 0.63</br>word_freq_over: 0.0</br>word_freq_remove: 0.31</br>word_freq_internet: 0.63</br>word_freq_order: 0.31</br>word_freq_mail: 0.63</br>word_freq_receive: 0.31</br>word_freq_will: 0.31</br>word_freq_people: 0.31</br>word_freq_report: 0.0</br>word_freq_addresses: 0.0</br>word_freq_free: 0.31</br>word_freq_business: 0.0</br>... too many variables"
          ],
          [
           "</br>id: 4</br>prediction: 0.949</br>capital_run_length_average: 419.57000000000005</br></br>word_freq_make: 0.0</br>word_freq_address: 0.0</br>word_freq_all: 0.0</br>word_freq_3d: 0.0</br>word_freq_our: 0.63</br>word_freq_over: 0.0</br>word_freq_remove: 0.31</br>word_freq_internet: 0.63</br>word_freq_order: 0.31</br>word_freq_mail: 0.63</br>word_freq_receive: 0.31</br>word_freq_will: 0.31</br>word_freq_people: 0.31</br>word_freq_report: 0.0</br>word_freq_addresses: 0.0</br>word_freq_free: 0.31</br>... too many variables"
          ],
          [
           "</br>id: 4</br>prediction: 0.949</br>capital_run_length_average: 430.58500000000004</br></br>word_freq_make: 0.0</br>word_freq_address: 0.0</br>word_freq_all: 0.0</br>word_freq_3d: 0.0</br>word_freq_our: 0.63</br>word_freq_over: 0.0</br>word_freq_remove: 0.31</br>word_freq_internet: 0.63</br>word_freq_order: 0.31</br>word_freq_mail: 0.63</br>word_freq_receive: 0.31</br>word_freq_will: 0.31</br>word_freq_people: 0.31</br>word_freq_report: 0.0</br>word_freq_addresses: 0.0</br>word_freq_free: 0.31</br>... too many variables"
          ],
          [
           "</br>id: 4</br>prediction: 0.949</br>capital_run_length_average: 441.6</br></br>word_freq_make: 0.0</br>word_freq_address: 0.0</br>word_freq_all: 0.0</br>word_freq_3d: 0.0</br>word_freq_our: 0.63</br>word_freq_over: 0.0</br>word_freq_remove: 0.31</br>word_freq_internet: 0.63</br>word_freq_order: 0.31</br>word_freq_mail: 0.63</br>word_freq_receive: 0.31</br>word_freq_will: 0.31</br>word_freq_people: 0.31</br>word_freq_report: 0.0</br>word_freq_addresses: 0.0</br>word_freq_free: 0.31</br>word_freq_business: 0.0</br>... too many variables"
          ],
          [
           "</br>id: 4</br>prediction: 0.949</br>capital_run_length_average: 452.615</br></br>word_freq_make: 0.0</br>word_freq_address: 0.0</br>word_freq_all: 0.0</br>word_freq_3d: 0.0</br>word_freq_our: 0.63</br>word_freq_over: 0.0</br>word_freq_remove: 0.31</br>word_freq_internet: 0.63</br>word_freq_order: 0.31</br>word_freq_mail: 0.63</br>word_freq_receive: 0.31</br>word_freq_will: 0.31</br>word_freq_people: 0.31</br>word_freq_report: 0.0</br>word_freq_addresses: 0.0</br>word_freq_free: 0.31</br>word_freq_business: 0.0</br>... too many variables"
          ],
          [
           "</br>id: 4</br>prediction: 0.949</br>capital_run_length_average: 463.63</br></br>word_freq_make: 0.0</br>word_freq_address: 0.0</br>word_freq_all: 0.0</br>word_freq_3d: 0.0</br>word_freq_our: 0.63</br>word_freq_over: 0.0</br>word_freq_remove: 0.31</br>word_freq_internet: 0.63</br>word_freq_order: 0.31</br>word_freq_mail: 0.63</br>word_freq_receive: 0.31</br>word_freq_will: 0.31</br>word_freq_people: 0.31</br>word_freq_report: 0.0</br>word_freq_addresses: 0.0</br>word_freq_free: 0.31</br>word_freq_business: 0.0</br>... too many variables"
          ],
          [
           "</br>id: 4</br>prediction: 0.949</br>capital_run_length_average: 474.64500000000004</br></br>word_freq_make: 0.0</br>word_freq_address: 0.0</br>word_freq_all: 0.0</br>word_freq_3d: 0.0</br>word_freq_our: 0.63</br>word_freq_over: 0.0</br>word_freq_remove: 0.31</br>word_freq_internet: 0.63</br>word_freq_order: 0.31</br>word_freq_mail: 0.63</br>word_freq_receive: 0.31</br>word_freq_will: 0.31</br>word_freq_people: 0.31</br>word_freq_report: 0.0</br>word_freq_addresses: 0.0</br>word_freq_free: 0.31</br>... too many variables"
          ],
          [
           "</br>id: 4</br>prediction: 0.949</br>capital_run_length_average: 485.66</br></br>word_freq_make: 0.0</br>word_freq_address: 0.0</br>word_freq_all: 0.0</br>word_freq_3d: 0.0</br>word_freq_our: 0.63</br>word_freq_over: 0.0</br>word_freq_remove: 0.31</br>word_freq_internet: 0.63</br>word_freq_order: 0.31</br>word_freq_mail: 0.63</br>word_freq_receive: 0.31</br>word_freq_will: 0.31</br>word_freq_people: 0.31</br>word_freq_report: 0.0</br>word_freq_addresses: 0.0</br>word_freq_free: 0.31</br>word_freq_business: 0.0</br>... too many variables"
          ],
          [
           "</br>id: 4</br>prediction: 0.949</br>capital_run_length_average: 496.675</br></br>word_freq_make: 0.0</br>word_freq_address: 0.0</br>word_freq_all: 0.0</br>word_freq_3d: 0.0</br>word_freq_our: 0.63</br>word_freq_over: 0.0</br>word_freq_remove: 0.31</br>word_freq_internet: 0.63</br>word_freq_order: 0.31</br>word_freq_mail: 0.63</br>word_freq_receive: 0.31</br>word_freq_will: 0.31</br>word_freq_people: 0.31</br>word_freq_report: 0.0</br>word_freq_addresses: 0.0</br>word_freq_free: 0.31</br>word_freq_business: 0.0</br>... too many variables"
          ],
          [
           "</br>id: 4</br>prediction: 0.949</br>capital_run_length_average: 507.69000000000005</br></br>word_freq_make: 0.0</br>word_freq_address: 0.0</br>word_freq_all: 0.0</br>word_freq_3d: 0.0</br>word_freq_our: 0.63</br>word_freq_over: 0.0</br>word_freq_remove: 0.31</br>word_freq_internet: 0.63</br>word_freq_order: 0.31</br>word_freq_mail: 0.63</br>word_freq_receive: 0.31</br>word_freq_will: 0.31</br>word_freq_people: 0.31</br>word_freq_report: 0.0</br>word_freq_addresses: 0.0</br>word_freq_free: 0.31</br>... too many variables"
          ],
          [
           "</br>id: 4</br>prediction: 0.949</br>capital_run_length_average: 518.705</br></br>word_freq_make: 0.0</br>word_freq_address: 0.0</br>word_freq_all: 0.0</br>word_freq_3d: 0.0</br>word_freq_our: 0.63</br>word_freq_over: 0.0</br>word_freq_remove: 0.31</br>word_freq_internet: 0.63</br>word_freq_order: 0.31</br>word_freq_mail: 0.63</br>word_freq_receive: 0.31</br>word_freq_will: 0.31</br>word_freq_people: 0.31</br>word_freq_report: 0.0</br>word_freq_addresses: 0.0</br>word_freq_free: 0.31</br>word_freq_business: 0.0</br>... too many variables"
          ],
          [
           "</br>id: 4</br>prediction: 0.949</br>capital_run_length_average: 529.72</br></br>word_freq_make: 0.0</br>word_freq_address: 0.0</br>word_freq_all: 0.0</br>word_freq_3d: 0.0</br>word_freq_our: 0.63</br>word_freq_over: 0.0</br>word_freq_remove: 0.31</br>word_freq_internet: 0.63</br>word_freq_order: 0.31</br>word_freq_mail: 0.63</br>word_freq_receive: 0.31</br>word_freq_will: 0.31</br>word_freq_people: 0.31</br>word_freq_report: 0.0</br>word_freq_addresses: 0.0</br>word_freq_free: 0.31</br>word_freq_business: 0.0</br>... too many variables"
          ],
          [
           "</br>id: 4</br>prediction: 0.949</br>capital_run_length_average: 540.735</br></br>word_freq_make: 0.0</br>word_freq_address: 0.0</br>word_freq_all: 0.0</br>word_freq_3d: 0.0</br>word_freq_our: 0.63</br>word_freq_over: 0.0</br>word_freq_remove: 0.31</br>word_freq_internet: 0.63</br>word_freq_order: 0.31</br>word_freq_mail: 0.63</br>word_freq_receive: 0.31</br>word_freq_will: 0.31</br>word_freq_people: 0.31</br>word_freq_report: 0.0</br>word_freq_addresses: 0.0</br>word_freq_free: 0.31</br>word_freq_business: 0.0</br>... too many variables"
          ],
          [
           "</br>id: 4</br>prediction: 0.949</br>capital_run_length_average: 551.75</br></br>word_freq_make: 0.0</br>word_freq_address: 0.0</br>word_freq_all: 0.0</br>word_freq_3d: 0.0</br>word_freq_our: 0.63</br>word_freq_over: 0.0</br>word_freq_remove: 0.31</br>word_freq_internet: 0.63</br>word_freq_order: 0.31</br>word_freq_mail: 0.63</br>word_freq_receive: 0.31</br>word_freq_will: 0.31</br>word_freq_people: 0.31</br>word_freq_report: 0.0</br>word_freq_addresses: 0.0</br>word_freq_free: 0.31</br>word_freq_business: 0.0</br>... too many variables"
          ],
          [
           "</br>id: 4</br>prediction: 0.949</br>capital_run_length_average: 562.765</br></br>word_freq_make: 0.0</br>word_freq_address: 0.0</br>word_freq_all: 0.0</br>word_freq_3d: 0.0</br>word_freq_our: 0.63</br>word_freq_over: 0.0</br>word_freq_remove: 0.31</br>word_freq_internet: 0.63</br>word_freq_order: 0.31</br>word_freq_mail: 0.63</br>word_freq_receive: 0.31</br>word_freq_will: 0.31</br>word_freq_people: 0.31</br>word_freq_report: 0.0</br>word_freq_addresses: 0.0</br>word_freq_free: 0.31</br>word_freq_business: 0.0</br>... too many variables"
          ],
          [
           "</br>id: 4</br>prediction: 0.949</br>capital_run_length_average: 573.78</br></br>word_freq_make: 0.0</br>word_freq_address: 0.0</br>word_freq_all: 0.0</br>word_freq_3d: 0.0</br>word_freq_our: 0.63</br>word_freq_over: 0.0</br>word_freq_remove: 0.31</br>word_freq_internet: 0.63</br>word_freq_order: 0.31</br>word_freq_mail: 0.63</br>word_freq_receive: 0.31</br>word_freq_will: 0.31</br>word_freq_people: 0.31</br>word_freq_report: 0.0</br>word_freq_addresses: 0.0</br>word_freq_free: 0.31</br>word_freq_business: 0.0</br>... too many variables"
          ],
          [
           "</br>id: 4</br>prediction: 0.949</br>capital_run_length_average: 584.7950000000001</br></br>word_freq_make: 0.0</br>word_freq_address: 0.0</br>word_freq_all: 0.0</br>word_freq_3d: 0.0</br>word_freq_our: 0.63</br>word_freq_over: 0.0</br>word_freq_remove: 0.31</br>word_freq_internet: 0.63</br>word_freq_order: 0.31</br>word_freq_mail: 0.63</br>word_freq_receive: 0.31</br>word_freq_will: 0.31</br>word_freq_people: 0.31</br>word_freq_report: 0.0</br>word_freq_addresses: 0.0</br>word_freq_free: 0.31</br>... too many variables"
          ],
          [
           "</br>id: 4</br>prediction: 0.949</br>capital_run_length_average: 595.8100000000001</br></br>word_freq_make: 0.0</br>word_freq_address: 0.0</br>word_freq_all: 0.0</br>word_freq_3d: 0.0</br>word_freq_our: 0.63</br>word_freq_over: 0.0</br>word_freq_remove: 0.31</br>word_freq_internet: 0.63</br>word_freq_order: 0.31</br>word_freq_mail: 0.63</br>word_freq_receive: 0.31</br>word_freq_will: 0.31</br>word_freq_people: 0.31</br>word_freq_report: 0.0</br>word_freq_addresses: 0.0</br>word_freq_free: 0.31</br>... too many variables"
          ],
          [
           "</br>id: 4</br>prediction: 0.949</br>capital_run_length_average: 606.825</br></br>word_freq_make: 0.0</br>word_freq_address: 0.0</br>word_freq_all: 0.0</br>word_freq_3d: 0.0</br>word_freq_our: 0.63</br>word_freq_over: 0.0</br>word_freq_remove: 0.31</br>word_freq_internet: 0.63</br>word_freq_order: 0.31</br>word_freq_mail: 0.63</br>word_freq_receive: 0.31</br>word_freq_will: 0.31</br>word_freq_people: 0.31</br>word_freq_report: 0.0</br>word_freq_addresses: 0.0</br>word_freq_free: 0.31</br>word_freq_business: 0.0</br>... too many variables"
          ],
          [
           "</br>id: 4</br>prediction: 0.949</br>capital_run_length_average: 617.84</br></br>word_freq_make: 0.0</br>word_freq_address: 0.0</br>word_freq_all: 0.0</br>word_freq_3d: 0.0</br>word_freq_our: 0.63</br>word_freq_over: 0.0</br>word_freq_remove: 0.31</br>word_freq_internet: 0.63</br>word_freq_order: 0.31</br>word_freq_mail: 0.63</br>word_freq_receive: 0.31</br>word_freq_will: 0.31</br>word_freq_people: 0.31</br>word_freq_report: 0.0</br>word_freq_addresses: 0.0</br>word_freq_free: 0.31</br>word_freq_business: 0.0</br>... too many variables"
          ],
          [
           "</br>id: 4</br>prediction: 0.949</br>capital_run_length_average: 628.855</br></br>word_freq_make: 0.0</br>word_freq_address: 0.0</br>word_freq_all: 0.0</br>word_freq_3d: 0.0</br>word_freq_our: 0.63</br>word_freq_over: 0.0</br>word_freq_remove: 0.31</br>word_freq_internet: 0.63</br>word_freq_order: 0.31</br>word_freq_mail: 0.63</br>word_freq_receive: 0.31</br>word_freq_will: 0.31</br>word_freq_people: 0.31</br>word_freq_report: 0.0</br>word_freq_addresses: 0.0</br>word_freq_free: 0.31</br>word_freq_business: 0.0</br>... too many variables"
          ],
          [
           "</br>id: 4</br>prediction: 0.949</br>capital_run_length_average: 639.87</br></br>word_freq_make: 0.0</br>word_freq_address: 0.0</br>word_freq_all: 0.0</br>word_freq_3d: 0.0</br>word_freq_our: 0.63</br>word_freq_over: 0.0</br>word_freq_remove: 0.31</br>word_freq_internet: 0.63</br>word_freq_order: 0.31</br>word_freq_mail: 0.63</br>word_freq_receive: 0.31</br>word_freq_will: 0.31</br>word_freq_people: 0.31</br>word_freq_report: 0.0</br>word_freq_addresses: 0.0</br>word_freq_free: 0.31</br>word_freq_business: 0.0</br>... too many variables"
          ],
          [
           "</br>id: 4</br>prediction: 0.949</br>capital_run_length_average: 650.885</br></br>word_freq_make: 0.0</br>word_freq_address: 0.0</br>word_freq_all: 0.0</br>word_freq_3d: 0.0</br>word_freq_our: 0.63</br>word_freq_over: 0.0</br>word_freq_remove: 0.31</br>word_freq_internet: 0.63</br>word_freq_order: 0.31</br>word_freq_mail: 0.63</br>word_freq_receive: 0.31</br>word_freq_will: 0.31</br>word_freq_people: 0.31</br>word_freq_report: 0.0</br>word_freq_addresses: 0.0</br>word_freq_free: 0.31</br>word_freq_business: 0.0</br>... too many variables"
          ],
          [
           "</br>id: 4</br>prediction: 0.949</br>capital_run_length_average: 661.9000000000001</br></br>word_freq_make: 0.0</br>word_freq_address: 0.0</br>word_freq_all: 0.0</br>word_freq_3d: 0.0</br>word_freq_our: 0.63</br>word_freq_over: 0.0</br>word_freq_remove: 0.31</br>word_freq_internet: 0.63</br>word_freq_order: 0.31</br>word_freq_mail: 0.63</br>word_freq_receive: 0.31</br>word_freq_will: 0.31</br>word_freq_people: 0.31</br>word_freq_report: 0.0</br>word_freq_addresses: 0.0</br>word_freq_free: 0.31</br>... too many variables"
          ],
          [
           "</br>id: 4</br>prediction: 0.949</br>capital_run_length_average: 672.9150000000001</br></br>word_freq_make: 0.0</br>word_freq_address: 0.0</br>word_freq_all: 0.0</br>word_freq_3d: 0.0</br>word_freq_our: 0.63</br>word_freq_over: 0.0</br>word_freq_remove: 0.31</br>word_freq_internet: 0.63</br>word_freq_order: 0.31</br>word_freq_mail: 0.63</br>word_freq_receive: 0.31</br>word_freq_will: 0.31</br>word_freq_people: 0.31</br>word_freq_report: 0.0</br>word_freq_addresses: 0.0</br>word_freq_free: 0.31</br>... too many variables"
          ],
          [
           "</br>id: 4</br>prediction: 0.949</br>capital_run_length_average: 683.9300000000001</br></br>word_freq_make: 0.0</br>word_freq_address: 0.0</br>word_freq_all: 0.0</br>word_freq_3d: 0.0</br>word_freq_our: 0.63</br>word_freq_over: 0.0</br>word_freq_remove: 0.31</br>word_freq_internet: 0.63</br>word_freq_order: 0.31</br>word_freq_mail: 0.63</br>word_freq_receive: 0.31</br>word_freq_will: 0.31</br>word_freq_people: 0.31</br>word_freq_report: 0.0</br>word_freq_addresses: 0.0</br>word_freq_free: 0.31</br>... too many variables"
          ],
          [
           "</br>id: 4</br>prediction: 0.949</br>capital_run_length_average: 694.945</br></br>word_freq_make: 0.0</br>word_freq_address: 0.0</br>word_freq_all: 0.0</br>word_freq_3d: 0.0</br>word_freq_our: 0.63</br>word_freq_over: 0.0</br>word_freq_remove: 0.31</br>word_freq_internet: 0.63</br>word_freq_order: 0.31</br>word_freq_mail: 0.63</br>word_freq_receive: 0.31</br>word_freq_will: 0.31</br>word_freq_people: 0.31</br>word_freq_report: 0.0</br>word_freq_addresses: 0.0</br>word_freq_free: 0.31</br>word_freq_business: 0.0</br>... too many variables"
          ],
          [
           "</br>id: 4</br>prediction: 0.949</br>capital_run_length_average: 705.96</br></br>word_freq_make: 0.0</br>word_freq_address: 0.0</br>word_freq_all: 0.0</br>word_freq_3d: 0.0</br>word_freq_our: 0.63</br>word_freq_over: 0.0</br>word_freq_remove: 0.31</br>word_freq_internet: 0.63</br>word_freq_order: 0.31</br>word_freq_mail: 0.63</br>word_freq_receive: 0.31</br>word_freq_will: 0.31</br>word_freq_people: 0.31</br>word_freq_report: 0.0</br>word_freq_addresses: 0.0</br>word_freq_free: 0.31</br>word_freq_business: 0.0</br>... too many variables"
          ],
          [
           "</br>id: 4</br>prediction: 0.949</br>capital_run_length_average: 716.975</br></br>word_freq_make: 0.0</br>word_freq_address: 0.0</br>word_freq_all: 0.0</br>word_freq_3d: 0.0</br>word_freq_our: 0.63</br>word_freq_over: 0.0</br>word_freq_remove: 0.31</br>word_freq_internet: 0.63</br>word_freq_order: 0.31</br>word_freq_mail: 0.63</br>word_freq_receive: 0.31</br>word_freq_will: 0.31</br>word_freq_people: 0.31</br>word_freq_report: 0.0</br>word_freq_addresses: 0.0</br>word_freq_free: 0.31</br>word_freq_business: 0.0</br>... too many variables"
          ],
          [
           "</br>id: 4</br>prediction: 0.949</br>capital_run_length_average: 727.99</br></br>word_freq_make: 0.0</br>word_freq_address: 0.0</br>word_freq_all: 0.0</br>word_freq_3d: 0.0</br>word_freq_our: 0.63</br>word_freq_over: 0.0</br>word_freq_remove: 0.31</br>word_freq_internet: 0.63</br>word_freq_order: 0.31</br>word_freq_mail: 0.63</br>word_freq_receive: 0.31</br>word_freq_will: 0.31</br>word_freq_people: 0.31</br>word_freq_report: 0.0</br>word_freq_addresses: 0.0</br>word_freq_free: 0.31</br>word_freq_business: 0.0</br>... too many variables"
          ],
          [
           "</br>id: 4</br>prediction: 0.949</br>capital_run_length_average: 739.005</br></br>word_freq_make: 0.0</br>word_freq_address: 0.0</br>word_freq_all: 0.0</br>word_freq_3d: 0.0</br>word_freq_our: 0.63</br>word_freq_over: 0.0</br>word_freq_remove: 0.31</br>word_freq_internet: 0.63</br>word_freq_order: 0.31</br>word_freq_mail: 0.63</br>word_freq_receive: 0.31</br>word_freq_will: 0.31</br>word_freq_people: 0.31</br>word_freq_report: 0.0</br>word_freq_addresses: 0.0</br>word_freq_free: 0.31</br>word_freq_business: 0.0</br>... too many variables"
          ],
          [
           "</br>id: 4</br>prediction: 0.949</br>capital_run_length_average: 750.02</br></br>word_freq_make: 0.0</br>word_freq_address: 0.0</br>word_freq_all: 0.0</br>word_freq_3d: 0.0</br>word_freq_our: 0.63</br>word_freq_over: 0.0</br>word_freq_remove: 0.31</br>word_freq_internet: 0.63</br>word_freq_order: 0.31</br>word_freq_mail: 0.63</br>word_freq_receive: 0.31</br>word_freq_will: 0.31</br>word_freq_people: 0.31</br>word_freq_report: 0.0</br>word_freq_addresses: 0.0</br>word_freq_free: 0.31</br>word_freq_business: 0.0</br>... too many variables"
          ],
          [
           "</br>id: 4</br>prediction: 0.949</br>capital_run_length_average: 761.0350000000001</br></br>word_freq_make: 0.0</br>word_freq_address: 0.0</br>word_freq_all: 0.0</br>word_freq_3d: 0.0</br>word_freq_our: 0.63</br>word_freq_over: 0.0</br>word_freq_remove: 0.31</br>word_freq_internet: 0.63</br>word_freq_order: 0.31</br>word_freq_mail: 0.63</br>word_freq_receive: 0.31</br>word_freq_will: 0.31</br>word_freq_people: 0.31</br>word_freq_report: 0.0</br>word_freq_addresses: 0.0</br>word_freq_free: 0.31</br>... too many variables"
          ],
          [
           "</br>id: 4</br>prediction: 0.949</br>capital_run_length_average: 772.0500000000001</br></br>word_freq_make: 0.0</br>word_freq_address: 0.0</br>word_freq_all: 0.0</br>word_freq_3d: 0.0</br>word_freq_our: 0.63</br>word_freq_over: 0.0</br>word_freq_remove: 0.31</br>word_freq_internet: 0.63</br>word_freq_order: 0.31</br>word_freq_mail: 0.63</br>word_freq_receive: 0.31</br>word_freq_will: 0.31</br>word_freq_people: 0.31</br>word_freq_report: 0.0</br>word_freq_addresses: 0.0</br>word_freq_free: 0.31</br>... too many variables"
          ],
          [
           "</br>id: 4</br>prediction: 0.949</br>capital_run_length_average: 783.065</br></br>word_freq_make: 0.0</br>word_freq_address: 0.0</br>word_freq_all: 0.0</br>word_freq_3d: 0.0</br>word_freq_our: 0.63</br>word_freq_over: 0.0</br>word_freq_remove: 0.31</br>word_freq_internet: 0.63</br>word_freq_order: 0.31</br>word_freq_mail: 0.63</br>word_freq_receive: 0.31</br>word_freq_will: 0.31</br>word_freq_people: 0.31</br>word_freq_report: 0.0</br>word_freq_addresses: 0.0</br>word_freq_free: 0.31</br>word_freq_business: 0.0</br>... too many variables"
          ],
          [
           "</br>id: 4</br>prediction: 0.949</br>capital_run_length_average: 794.08</br></br>word_freq_make: 0.0</br>word_freq_address: 0.0</br>word_freq_all: 0.0</br>word_freq_3d: 0.0</br>word_freq_our: 0.63</br>word_freq_over: 0.0</br>word_freq_remove: 0.31</br>word_freq_internet: 0.63</br>word_freq_order: 0.31</br>word_freq_mail: 0.63</br>word_freq_receive: 0.31</br>word_freq_will: 0.31</br>word_freq_people: 0.31</br>word_freq_report: 0.0</br>word_freq_addresses: 0.0</br>word_freq_free: 0.31</br>word_freq_business: 0.0</br>... too many variables"
          ],
          [
           "</br>id: 4</br>prediction: 0.949</br>capital_run_length_average: 805.095</br></br>word_freq_make: 0.0</br>word_freq_address: 0.0</br>word_freq_all: 0.0</br>word_freq_3d: 0.0</br>word_freq_our: 0.63</br>word_freq_over: 0.0</br>word_freq_remove: 0.31</br>word_freq_internet: 0.63</br>word_freq_order: 0.31</br>word_freq_mail: 0.63</br>word_freq_receive: 0.31</br>word_freq_will: 0.31</br>word_freq_people: 0.31</br>word_freq_report: 0.0</br>word_freq_addresses: 0.0</br>word_freq_free: 0.31</br>word_freq_business: 0.0</br>... too many variables"
          ],
          [
           "</br>id: 4</br>prediction: 0.949</br>capital_run_length_average: 816.11</br></br>word_freq_make: 0.0</br>word_freq_address: 0.0</br>word_freq_all: 0.0</br>word_freq_3d: 0.0</br>word_freq_our: 0.63</br>word_freq_over: 0.0</br>word_freq_remove: 0.31</br>word_freq_internet: 0.63</br>word_freq_order: 0.31</br>word_freq_mail: 0.63</br>word_freq_receive: 0.31</br>word_freq_will: 0.31</br>word_freq_people: 0.31</br>word_freq_report: 0.0</br>word_freq_addresses: 0.0</br>word_freq_free: 0.31</br>word_freq_business: 0.0</br>... too many variables"
          ],
          [
           "</br>id: 4</br>prediction: 0.949</br>capital_run_length_average: 827.125</br></br>word_freq_make: 0.0</br>word_freq_address: 0.0</br>word_freq_all: 0.0</br>word_freq_3d: 0.0</br>word_freq_our: 0.63</br>word_freq_over: 0.0</br>word_freq_remove: 0.31</br>word_freq_internet: 0.63</br>word_freq_order: 0.31</br>word_freq_mail: 0.63</br>word_freq_receive: 0.31</br>word_freq_will: 0.31</br>word_freq_people: 0.31</br>word_freq_report: 0.0</br>word_freq_addresses: 0.0</br>word_freq_free: 0.31</br>word_freq_business: 0.0</br>... too many variables"
          ],
          [
           "</br>id: 4</br>prediction: 0.949</br>capital_run_length_average: 838.1400000000001</br></br>word_freq_make: 0.0</br>word_freq_address: 0.0</br>word_freq_all: 0.0</br>word_freq_3d: 0.0</br>word_freq_our: 0.63</br>word_freq_over: 0.0</br>word_freq_remove: 0.31</br>word_freq_internet: 0.63</br>word_freq_order: 0.31</br>word_freq_mail: 0.63</br>word_freq_receive: 0.31</br>word_freq_will: 0.31</br>word_freq_people: 0.31</br>word_freq_report: 0.0</br>word_freq_addresses: 0.0</br>word_freq_free: 0.31</br>... too many variables"
          ],
          [
           "</br>id: 4</br>prediction: 0.949</br>capital_run_length_average: 849.1550000000001</br></br>word_freq_make: 0.0</br>word_freq_address: 0.0</br>word_freq_all: 0.0</br>word_freq_3d: 0.0</br>word_freq_our: 0.63</br>word_freq_over: 0.0</br>word_freq_remove: 0.31</br>word_freq_internet: 0.63</br>word_freq_order: 0.31</br>word_freq_mail: 0.63</br>word_freq_receive: 0.31</br>word_freq_will: 0.31</br>word_freq_people: 0.31</br>word_freq_report: 0.0</br>word_freq_addresses: 0.0</br>word_freq_free: 0.31</br>... too many variables"
          ],
          [
           "</br>id: 4</br>prediction: 0.949</br>capital_run_length_average: 860.1700000000001</br></br>word_freq_make: 0.0</br>word_freq_address: 0.0</br>word_freq_all: 0.0</br>word_freq_3d: 0.0</br>word_freq_our: 0.63</br>word_freq_over: 0.0</br>word_freq_remove: 0.31</br>word_freq_internet: 0.63</br>word_freq_order: 0.31</br>word_freq_mail: 0.63</br>word_freq_receive: 0.31</br>word_freq_will: 0.31</br>word_freq_people: 0.31</br>word_freq_report: 0.0</br>word_freq_addresses: 0.0</br>word_freq_free: 0.31</br>... too many variables"
          ],
          [
           "</br>id: 4</br>prediction: 0.949</br>capital_run_length_average: 871.1850000000001</br></br>word_freq_make: 0.0</br>word_freq_address: 0.0</br>word_freq_all: 0.0</br>word_freq_3d: 0.0</br>word_freq_our: 0.63</br>word_freq_over: 0.0</br>word_freq_remove: 0.31</br>word_freq_internet: 0.63</br>word_freq_order: 0.31</br>word_freq_mail: 0.63</br>word_freq_receive: 0.31</br>word_freq_will: 0.31</br>word_freq_people: 0.31</br>word_freq_report: 0.0</br>word_freq_addresses: 0.0</br>word_freq_free: 0.31</br>... too many variables"
          ],
          [
           "</br>id: 4</br>prediction: 0.949</br>capital_run_length_average: 882.2</br></br>word_freq_make: 0.0</br>word_freq_address: 0.0</br>word_freq_all: 0.0</br>word_freq_3d: 0.0</br>word_freq_our: 0.63</br>word_freq_over: 0.0</br>word_freq_remove: 0.31</br>word_freq_internet: 0.63</br>word_freq_order: 0.31</br>word_freq_mail: 0.63</br>word_freq_receive: 0.31</br>word_freq_will: 0.31</br>word_freq_people: 0.31</br>word_freq_report: 0.0</br>word_freq_addresses: 0.0</br>word_freq_free: 0.31</br>word_freq_business: 0.0</br>... too many variables"
          ],
          [
           "</br>id: 4</br>prediction: 0.949</br>capital_run_length_average: 893.215</br></br>word_freq_make: 0.0</br>word_freq_address: 0.0</br>word_freq_all: 0.0</br>word_freq_3d: 0.0</br>word_freq_our: 0.63</br>word_freq_over: 0.0</br>word_freq_remove: 0.31</br>word_freq_internet: 0.63</br>word_freq_order: 0.31</br>word_freq_mail: 0.63</br>word_freq_receive: 0.31</br>word_freq_will: 0.31</br>word_freq_people: 0.31</br>word_freq_report: 0.0</br>word_freq_addresses: 0.0</br>word_freq_free: 0.31</br>word_freq_business: 0.0</br>... too many variables"
          ],
          [
           "</br>id: 4</br>prediction: 0.949</br>capital_run_length_average: 904.23</br></br>word_freq_make: 0.0</br>word_freq_address: 0.0</br>word_freq_all: 0.0</br>word_freq_3d: 0.0</br>word_freq_our: 0.63</br>word_freq_over: 0.0</br>word_freq_remove: 0.31</br>word_freq_internet: 0.63</br>word_freq_order: 0.31</br>word_freq_mail: 0.63</br>word_freq_receive: 0.31</br>word_freq_will: 0.31</br>word_freq_people: 0.31</br>word_freq_report: 0.0</br>word_freq_addresses: 0.0</br>word_freq_free: 0.31</br>word_freq_business: 0.0</br>... too many variables"
          ],
          [
           "</br>id: 4</br>prediction: 0.949</br>capital_run_length_average: 915.245</br></br>word_freq_make: 0.0</br>word_freq_address: 0.0</br>word_freq_all: 0.0</br>word_freq_3d: 0.0</br>word_freq_our: 0.63</br>word_freq_over: 0.0</br>word_freq_remove: 0.31</br>word_freq_internet: 0.63</br>word_freq_order: 0.31</br>word_freq_mail: 0.63</br>word_freq_receive: 0.31</br>word_freq_will: 0.31</br>word_freq_people: 0.31</br>word_freq_report: 0.0</br>word_freq_addresses: 0.0</br>word_freq_free: 0.31</br>word_freq_business: 0.0</br>... too many variables"
          ],
          [
           "</br>id: 4</br>prediction: 0.949</br>capital_run_length_average: 926.26</br></br>word_freq_make: 0.0</br>word_freq_address: 0.0</br>word_freq_all: 0.0</br>word_freq_3d: 0.0</br>word_freq_our: 0.63</br>word_freq_over: 0.0</br>word_freq_remove: 0.31</br>word_freq_internet: 0.63</br>word_freq_order: 0.31</br>word_freq_mail: 0.63</br>word_freq_receive: 0.31</br>word_freq_will: 0.31</br>word_freq_people: 0.31</br>word_freq_report: 0.0</br>word_freq_addresses: 0.0</br>word_freq_free: 0.31</br>word_freq_business: 0.0</br>... too many variables"
          ],
          [
           "</br>id: 4</br>prediction: 0.949</br>capital_run_length_average: 937.2750000000001</br></br>word_freq_make: 0.0</br>word_freq_address: 0.0</br>word_freq_all: 0.0</br>word_freq_3d: 0.0</br>word_freq_our: 0.63</br>word_freq_over: 0.0</br>word_freq_remove: 0.31</br>word_freq_internet: 0.63</br>word_freq_order: 0.31</br>word_freq_mail: 0.63</br>word_freq_receive: 0.31</br>word_freq_will: 0.31</br>word_freq_people: 0.31</br>word_freq_report: 0.0</br>word_freq_addresses: 0.0</br>word_freq_free: 0.31</br>... too many variables"
          ],
          [
           "</br>id: 4</br>prediction: 0.949</br>capital_run_length_average: 948.2900000000001</br></br>word_freq_make: 0.0</br>word_freq_address: 0.0</br>word_freq_all: 0.0</br>word_freq_3d: 0.0</br>word_freq_our: 0.63</br>word_freq_over: 0.0</br>word_freq_remove: 0.31</br>word_freq_internet: 0.63</br>word_freq_order: 0.31</br>word_freq_mail: 0.63</br>word_freq_receive: 0.31</br>word_freq_will: 0.31</br>word_freq_people: 0.31</br>word_freq_report: 0.0</br>word_freq_addresses: 0.0</br>word_freq_free: 0.31</br>... too many variables"
          ],
          [
           "</br>id: 4</br>prediction: 0.949</br>capital_run_length_average: 959.3050000000001</br></br>word_freq_make: 0.0</br>word_freq_address: 0.0</br>word_freq_all: 0.0</br>word_freq_3d: 0.0</br>word_freq_our: 0.63</br>word_freq_over: 0.0</br>word_freq_remove: 0.31</br>word_freq_internet: 0.63</br>word_freq_order: 0.31</br>word_freq_mail: 0.63</br>word_freq_receive: 0.31</br>word_freq_will: 0.31</br>word_freq_people: 0.31</br>word_freq_report: 0.0</br>word_freq_addresses: 0.0</br>word_freq_free: 0.31</br>... too many variables"
          ],
          [
           "</br>id: 4</br>prediction: 0.949</br>capital_run_length_average: 970.32</br></br>word_freq_make: 0.0</br>word_freq_address: 0.0</br>word_freq_all: 0.0</br>word_freq_3d: 0.0</br>word_freq_our: 0.63</br>word_freq_over: 0.0</br>word_freq_remove: 0.31</br>word_freq_internet: 0.63</br>word_freq_order: 0.31</br>word_freq_mail: 0.63</br>word_freq_receive: 0.31</br>word_freq_will: 0.31</br>word_freq_people: 0.31</br>word_freq_report: 0.0</br>word_freq_addresses: 0.0</br>word_freq_free: 0.31</br>word_freq_business: 0.0</br>... too many variables"
          ],
          [
           "</br>id: 4</br>prediction: 0.949</br>capital_run_length_average: 981.335</br></br>word_freq_make: 0.0</br>word_freq_address: 0.0</br>word_freq_all: 0.0</br>word_freq_3d: 0.0</br>word_freq_our: 0.63</br>word_freq_over: 0.0</br>word_freq_remove: 0.31</br>word_freq_internet: 0.63</br>word_freq_order: 0.31</br>word_freq_mail: 0.63</br>word_freq_receive: 0.31</br>word_freq_will: 0.31</br>word_freq_people: 0.31</br>word_freq_report: 0.0</br>word_freq_addresses: 0.0</br>word_freq_free: 0.31</br>word_freq_business: 0.0</br>... too many variables"
          ],
          [
           "</br>id: 4</br>prediction: 0.949</br>capital_run_length_average: 992.35</br></br>word_freq_make: 0.0</br>word_freq_address: 0.0</br>word_freq_all: 0.0</br>word_freq_3d: 0.0</br>word_freq_our: 0.63</br>word_freq_over: 0.0</br>word_freq_remove: 0.31</br>word_freq_internet: 0.63</br>word_freq_order: 0.31</br>word_freq_mail: 0.63</br>word_freq_receive: 0.31</br>word_freq_will: 0.31</br>word_freq_people: 0.31</br>word_freq_report: 0.0</br>word_freq_addresses: 0.0</br>word_freq_free: 0.31</br>word_freq_business: 0.0</br>... too many variables"
          ],
          [
           "</br>id: 4</br>prediction: 0.949</br>capital_run_length_average: 1003.365</br></br>word_freq_make: 0.0</br>word_freq_address: 0.0</br>word_freq_all: 0.0</br>word_freq_3d: 0.0</br>word_freq_our: 0.63</br>word_freq_over: 0.0</br>word_freq_remove: 0.31</br>word_freq_internet: 0.63</br>word_freq_order: 0.31</br>word_freq_mail: 0.63</br>word_freq_receive: 0.31</br>word_freq_will: 0.31</br>word_freq_people: 0.31</br>word_freq_report: 0.0</br>word_freq_addresses: 0.0</br>word_freq_free: 0.31</br>word_freq_business: 0.0</br>... too many variables"
          ],
          [
           "</br>id: 4</br>prediction: 0.949</br>capital_run_length_average: 1014.3800000000001</br></br>word_freq_make: 0.0</br>word_freq_address: 0.0</br>word_freq_all: 0.0</br>word_freq_3d: 0.0</br>word_freq_our: 0.63</br>word_freq_over: 0.0</br>word_freq_remove: 0.31</br>word_freq_internet: 0.63</br>word_freq_order: 0.31</br>word_freq_mail: 0.63</br>word_freq_receive: 0.31</br>word_freq_will: 0.31</br>word_freq_people: 0.31</br>word_freq_report: 0.0</br>word_freq_addresses: 0.0</br>word_freq_free: 0.31</br>... too many variables"
          ],
          [
           "</br>id: 4</br>prediction: 0.949</br>capital_run_length_average: 1025.395</br></br>word_freq_make: 0.0</br>word_freq_address: 0.0</br>word_freq_all: 0.0</br>word_freq_3d: 0.0</br>word_freq_our: 0.63</br>word_freq_over: 0.0</br>word_freq_remove: 0.31</br>word_freq_internet: 0.63</br>word_freq_order: 0.31</br>word_freq_mail: 0.63</br>word_freq_receive: 0.31</br>word_freq_will: 0.31</br>word_freq_people: 0.31</br>word_freq_report: 0.0</br>word_freq_addresses: 0.0</br>word_freq_free: 0.31</br>word_freq_business: 0.0</br>... too many variables"
          ],
          [
           "</br>id: 4</br>prediction: 0.949</br>capital_run_length_average: 1036.41</br></br>word_freq_make: 0.0</br>word_freq_address: 0.0</br>word_freq_all: 0.0</br>word_freq_3d: 0.0</br>word_freq_our: 0.63</br>word_freq_over: 0.0</br>word_freq_remove: 0.31</br>word_freq_internet: 0.63</br>word_freq_order: 0.31</br>word_freq_mail: 0.63</br>word_freq_receive: 0.31</br>word_freq_will: 0.31</br>word_freq_people: 0.31</br>word_freq_report: 0.0</br>word_freq_addresses: 0.0</br>word_freq_free: 0.31</br>word_freq_business: 0.0</br>... too many variables"
          ],
          [
           "</br>id: 4</br>prediction: 0.949</br>capital_run_length_average: 1047.425</br></br>word_freq_make: 0.0</br>word_freq_address: 0.0</br>word_freq_all: 0.0</br>word_freq_3d: 0.0</br>word_freq_our: 0.63</br>word_freq_over: 0.0</br>word_freq_remove: 0.31</br>word_freq_internet: 0.63</br>word_freq_order: 0.31</br>word_freq_mail: 0.63</br>word_freq_receive: 0.31</br>word_freq_will: 0.31</br>word_freq_people: 0.31</br>word_freq_report: 0.0</br>word_freq_addresses: 0.0</br>word_freq_free: 0.31</br>word_freq_business: 0.0</br>... too many variables"
          ],
          [
           "</br>id: 4</br>prediction: 0.949</br>capital_run_length_average: 1058.44</br></br>word_freq_make: 0.0</br>word_freq_address: 0.0</br>word_freq_all: 0.0</br>word_freq_3d: 0.0</br>word_freq_our: 0.63</br>word_freq_over: 0.0</br>word_freq_remove: 0.31</br>word_freq_internet: 0.63</br>word_freq_order: 0.31</br>word_freq_mail: 0.63</br>word_freq_receive: 0.31</br>word_freq_will: 0.31</br>word_freq_people: 0.31</br>word_freq_report: 0.0</br>word_freq_addresses: 0.0</br>word_freq_free: 0.31</br>word_freq_business: 0.0</br>... too many variables"
          ],
          [
           "</br>id: 4</br>prediction: 0.949</br>capital_run_length_average: 1069.4550000000002</br></br>word_freq_make: 0.0</br>word_freq_address: 0.0</br>word_freq_all: 0.0</br>word_freq_3d: 0.0</br>word_freq_our: 0.63</br>word_freq_over: 0.0</br>word_freq_remove: 0.31</br>word_freq_internet: 0.63</br>word_freq_order: 0.31</br>word_freq_mail: 0.63</br>word_freq_receive: 0.31</br>word_freq_will: 0.31</br>word_freq_people: 0.31</br>word_freq_report: 0.0</br>word_freq_addresses: 0.0</br>word_freq_free: 0.31</br>... too many variables"
          ],
          [
           "</br>id: 4</br>prediction: 0.949</br>capital_run_length_average: 1080.47</br></br>word_freq_make: 0.0</br>word_freq_address: 0.0</br>word_freq_all: 0.0</br>word_freq_3d: 0.0</br>word_freq_our: 0.63</br>word_freq_over: 0.0</br>word_freq_remove: 0.31</br>word_freq_internet: 0.63</br>word_freq_order: 0.31</br>word_freq_mail: 0.63</br>word_freq_receive: 0.31</br>word_freq_will: 0.31</br>word_freq_people: 0.31</br>word_freq_report: 0.0</br>word_freq_addresses: 0.0</br>word_freq_free: 0.31</br>word_freq_business: 0.0</br>... too many variables"
          ],
          [
           "</br>id: 4</br>prediction: 0.949</br>capital_run_length_average: 1091.4850000000001</br></br>word_freq_make: 0.0</br>word_freq_address: 0.0</br>word_freq_all: 0.0</br>word_freq_3d: 0.0</br>word_freq_our: 0.63</br>word_freq_over: 0.0</br>word_freq_remove: 0.31</br>word_freq_internet: 0.63</br>word_freq_order: 0.31</br>word_freq_mail: 0.63</br>word_freq_receive: 0.31</br>word_freq_will: 0.31</br>word_freq_people: 0.31</br>word_freq_report: 0.0</br>word_freq_addresses: 0.0</br>word_freq_free: 0.31</br>... too many variables"
          ],
          [
           "</br>id: 4</br>prediction: 0.949</br>capital_run_length_average: 1102.5</br></br>word_freq_make: 0.0</br>word_freq_address: 0.0</br>word_freq_all: 0.0</br>word_freq_3d: 0.0</br>word_freq_our: 0.63</br>word_freq_over: 0.0</br>word_freq_remove: 0.31</br>word_freq_internet: 0.63</br>word_freq_order: 0.31</br>word_freq_mail: 0.63</br>word_freq_receive: 0.31</br>word_freq_will: 0.31</br>word_freq_people: 0.31</br>word_freq_report: 0.0</br>word_freq_addresses: 0.0</br>word_freq_free: 0.31</br>word_freq_business: 0.0</br>... too many variables"
          ]
         ],
         "hovertemplate": "%{customdata[0]}<extra></extra>",
         "legendgroup": "RandomForestClassifier",
         "line": {
          "color": "#46bac2",
          "dash": "solid",
          "width": 2
         },
         "marker": {
          "symbol": "circle"
         },
         "mode": "lines",
         "name": "RandomForestClassifier",
         "orientation": "v",
         "showlegend": false,
         "x": [
          1.0,
          3.0,
          3.537,
          12.015,
          23.03,
          34.045,
          45.06,
          56.075,
          67.09,
          78.105,
          89.12,
          100.135,
          111.15,
          122.165,
          133.18,
          144.195,
          155.21,
          166.22500000000002,
          177.24,
          188.255,
          199.27,
          210.28500000000003,
          221.3,
          232.315,
          243.33,
          254.34500000000003,
          265.36,
          276.375,
          287.39,
          298.40500000000003,
          309.42,
          320.435,
          331.45000000000005,
          342.46500000000003,
          353.48,
          364.495,
          375.51,
          386.52500000000003,
          397.54,
          408.555,
          419.57000000000005,
          430.58500000000004,
          441.6,
          452.615,
          463.63,
          474.64500000000004,
          485.66,
          496.675,
          507.69000000000005,
          518.705,
          529.72,
          540.735,
          551.75,
          562.765,
          573.78,
          584.7950000000001,
          595.8100000000001,
          606.825,
          617.84,
          628.855,
          639.87,
          650.885,
          661.9000000000001,
          672.9150000000001,
          683.9300000000001,
          694.945,
          705.96,
          716.975,
          727.99,
          739.005,
          750.02,
          761.0350000000001,
          772.0500000000001,
          783.065,
          794.08,
          805.095,
          816.11,
          827.125,
          838.1400000000001,
          849.1550000000001,
          860.1700000000001,
          871.1850000000001,
          882.2,
          893.215,
          904.23,
          915.245,
          926.26,
          937.2750000000001,
          948.2900000000001,
          959.3050000000001,
          970.32,
          981.335,
          992.35,
          1003.365,
          1014.3800000000001,
          1025.395,
          1036.41,
          1047.425,
          1058.44,
          1069.4550000000002,
          1080.47,
          1091.4850000000001,
          1102.5
         ],
         "xaxis": "x2",
         "y": [
          0.8548062537299559,
          0.9329815197129114,
          0.9523912599255716,
          0.9571011497308693,
          0.9485792073018018,
          0.9485792073018018,
          0.9485792073018018,
          0.9485792073018018,
          0.9485792073018018,
          0.9485792073018018,
          0.9485792073018018,
          0.9485792073018018,
          0.9485792073018018,
          0.9485792073018018,
          0.9485792073018018,
          0.9485792073018018,
          0.9485792073018018,
          0.9485792073018018,
          0.9485792073018018,
          0.9485792073018018,
          0.9485792073018018,
          0.9485792073018018,
          0.9485792073018018,
          0.9485792073018018,
          0.9485792073018018,
          0.9485792073018018,
          0.9485792073018018,
          0.9485792073018018,
          0.9485792073018018,
          0.9485792073018018,
          0.9485792073018018,
          0.9485792073018018,
          0.9485792073018018,
          0.9485792073018018,
          0.9485792073018018,
          0.9485792073018018,
          0.9485792073018018,
          0.9485792073018018,
          0.9485792073018018,
          0.9485792073018018,
          0.9485792073018018,
          0.9485792073018018,
          0.9485792073018018,
          0.9485792073018018,
          0.9485792073018018,
          0.9485792073018018,
          0.9485792073018018,
          0.9485792073018018,
          0.9485792073018018,
          0.9485792073018018,
          0.9485792073018018,
          0.9485792073018018,
          0.9485792073018018,
          0.9485792073018018,
          0.9485792073018018,
          0.9485792073018018,
          0.9485792073018018,
          0.9485792073018018,
          0.9485792073018018,
          0.9485792073018018,
          0.9485792073018018,
          0.9485792073018018,
          0.9485792073018018,
          0.9485792073018018,
          0.9485792073018018,
          0.9485792073018018,
          0.9485792073018018,
          0.9485792073018018,
          0.9485792073018018,
          0.9485792073018018,
          0.9485792073018018,
          0.9485792073018018,
          0.9485792073018018,
          0.9485792073018018,
          0.9485792073018018,
          0.9485792073018018,
          0.9485792073018018,
          0.9485792073018018,
          0.9485792073018018,
          0.9485792073018018,
          0.9485792073018018,
          0.9485792073018018,
          0.9485792073018018,
          0.9485792073018018,
          0.9485792073018018,
          0.9485792073018018,
          0.9485792073018018,
          0.9485792073018018,
          0.9485792073018018,
          0.9485792073018018,
          0.9485792073018018,
          0.9485792073018018,
          0.9485792073018018,
          0.9485792073018018,
          0.9485792073018018,
          0.9485792073018018,
          0.9485792073018018,
          0.9485792073018018,
          0.9485792073018018,
          0.9485792073018018,
          0.9485792073018018,
          0.9485792073018018,
          0.9485792073018018
         ],
         "yaxis": "y2",
         "type": "scatter",
         "opacity": 1
        },
        {
         "customdata": [
          [
           "</br>id: 5</br>prediction: 0.181</br>capital_run_length_average: 1.0</br></br>word_freq_make: 0.0</br>word_freq_address: 0.0</br>word_freq_all: 0.0</br>word_freq_3d: 0.0</br>word_freq_our: 1.85</br>word_freq_over: 0.0</br>word_freq_remove: 0.0</br>word_freq_internet: 1.85</br>word_freq_order: 0.0</br>word_freq_mail: 0.0</br>word_freq_receive: 0.0</br>word_freq_will: 0.0</br>word_freq_people: 0.0</br>word_freq_report: 0.0</br>word_freq_addresses: 0.0</br>word_freq_free: 0.0</br>word_freq_business: 0.0</br>... too many variables"
          ],
          [
           "</br>id: 5</br>prediction: 0.288</br>capital_run_length_average: 3.0</br></br>word_freq_make: 0.0</br>word_freq_address: 0.0</br>word_freq_all: 0.0</br>word_freq_3d: 0.0</br>word_freq_our: 1.85</br>word_freq_over: 0.0</br>word_freq_remove: 0.0</br>word_freq_internet: 1.85</br>word_freq_order: 0.0</br>word_freq_mail: 0.0</br>word_freq_receive: 0.0</br>word_freq_will: 0.0</br>word_freq_people: 0.0</br>word_freq_report: 0.0</br>word_freq_addresses: 0.0</br>word_freq_free: 0.0</br>word_freq_business: 0.0</br>... too many variables"
          ],
          [
           "</br>id: 5</br>prediction: 0.317</br>capital_run_length_average: 3.537</br></br>word_freq_make: 0.0</br>word_freq_address: 0.0</br>word_freq_all: 0.0</br>word_freq_3d: 0.0</br>word_freq_our: 1.85</br>word_freq_over: 0.0</br>word_freq_remove: 0.0</br>word_freq_internet: 1.85</br>word_freq_order: 0.0</br>word_freq_mail: 0.0</br>word_freq_receive: 0.0</br>word_freq_will: 0.0</br>word_freq_people: 0.0</br>word_freq_report: 0.0</br>word_freq_addresses: 0.0</br>word_freq_free: 0.0</br>word_freq_business: 0.0</br>... too many variables"
          ],
          [
           "</br>id: 5</br>prediction: 0.465</br>capital_run_length_average: 12.015</br></br>word_freq_make: 0.0</br>word_freq_address: 0.0</br>word_freq_all: 0.0</br>word_freq_3d: 0.0</br>word_freq_our: 1.85</br>word_freq_over: 0.0</br>word_freq_remove: 0.0</br>word_freq_internet: 1.85</br>word_freq_order: 0.0</br>word_freq_mail: 0.0</br>word_freq_receive: 0.0</br>word_freq_will: 0.0</br>word_freq_people: 0.0</br>word_freq_report: 0.0</br>word_freq_addresses: 0.0</br>word_freq_free: 0.0</br>word_freq_business: 0.0</br>... too many variables"
          ],
          [
           "</br>id: 5</br>prediction: 0.509</br>capital_run_length_average: 23.03</br></br>word_freq_make: 0.0</br>word_freq_address: 0.0</br>word_freq_all: 0.0</br>word_freq_3d: 0.0</br>word_freq_our: 1.85</br>word_freq_over: 0.0</br>word_freq_remove: 0.0</br>word_freq_internet: 1.85</br>word_freq_order: 0.0</br>word_freq_mail: 0.0</br>word_freq_receive: 0.0</br>word_freq_will: 0.0</br>word_freq_people: 0.0</br>word_freq_report: 0.0</br>word_freq_addresses: 0.0</br>word_freq_free: 0.0</br>word_freq_business: 0.0</br>... too many variables"
          ],
          [
           "</br>id: 5</br>prediction: 0.513</br>capital_run_length_average: 34.045</br></br>word_freq_make: 0.0</br>word_freq_address: 0.0</br>word_freq_all: 0.0</br>word_freq_3d: 0.0</br>word_freq_our: 1.85</br>word_freq_over: 0.0</br>word_freq_remove: 0.0</br>word_freq_internet: 1.85</br>word_freq_order: 0.0</br>word_freq_mail: 0.0</br>word_freq_receive: 0.0</br>word_freq_will: 0.0</br>word_freq_people: 0.0</br>word_freq_report: 0.0</br>word_freq_addresses: 0.0</br>word_freq_free: 0.0</br>word_freq_business: 0.0</br>... too many variables"
          ],
          [
           "</br>id: 5</br>prediction: 0.508</br>capital_run_length_average: 45.06</br></br>word_freq_make: 0.0</br>word_freq_address: 0.0</br>word_freq_all: 0.0</br>word_freq_3d: 0.0</br>word_freq_our: 1.85</br>word_freq_over: 0.0</br>word_freq_remove: 0.0</br>word_freq_internet: 1.85</br>word_freq_order: 0.0</br>word_freq_mail: 0.0</br>word_freq_receive: 0.0</br>word_freq_will: 0.0</br>word_freq_people: 0.0</br>word_freq_report: 0.0</br>word_freq_addresses: 0.0</br>word_freq_free: 0.0</br>word_freq_business: 0.0</br>... too many variables"
          ],
          [
           "</br>id: 5</br>prediction: 0.508</br>capital_run_length_average: 56.075</br></br>word_freq_make: 0.0</br>word_freq_address: 0.0</br>word_freq_all: 0.0</br>word_freq_3d: 0.0</br>word_freq_our: 1.85</br>word_freq_over: 0.0</br>word_freq_remove: 0.0</br>word_freq_internet: 1.85</br>word_freq_order: 0.0</br>word_freq_mail: 0.0</br>word_freq_receive: 0.0</br>word_freq_will: 0.0</br>word_freq_people: 0.0</br>word_freq_report: 0.0</br>word_freq_addresses: 0.0</br>word_freq_free: 0.0</br>word_freq_business: 0.0</br>... too many variables"
          ],
          [
           "</br>id: 5</br>prediction: 0.508</br>capital_run_length_average: 67.09</br></br>word_freq_make: 0.0</br>word_freq_address: 0.0</br>word_freq_all: 0.0</br>word_freq_3d: 0.0</br>word_freq_our: 1.85</br>word_freq_over: 0.0</br>word_freq_remove: 0.0</br>word_freq_internet: 1.85</br>word_freq_order: 0.0</br>word_freq_mail: 0.0</br>word_freq_receive: 0.0</br>word_freq_will: 0.0</br>word_freq_people: 0.0</br>word_freq_report: 0.0</br>word_freq_addresses: 0.0</br>word_freq_free: 0.0</br>word_freq_business: 0.0</br>... too many variables"
          ],
          [
           "</br>id: 5</br>prediction: 0.508</br>capital_run_length_average: 78.105</br></br>word_freq_make: 0.0</br>word_freq_address: 0.0</br>word_freq_all: 0.0</br>word_freq_3d: 0.0</br>word_freq_our: 1.85</br>word_freq_over: 0.0</br>word_freq_remove: 0.0</br>word_freq_internet: 1.85</br>word_freq_order: 0.0</br>word_freq_mail: 0.0</br>word_freq_receive: 0.0</br>word_freq_will: 0.0</br>word_freq_people: 0.0</br>word_freq_report: 0.0</br>word_freq_addresses: 0.0</br>word_freq_free: 0.0</br>word_freq_business: 0.0</br>... too many variables"
          ],
          [
           "</br>id: 5</br>prediction: 0.508</br>capital_run_length_average: 89.12</br></br>word_freq_make: 0.0</br>word_freq_address: 0.0</br>word_freq_all: 0.0</br>word_freq_3d: 0.0</br>word_freq_our: 1.85</br>word_freq_over: 0.0</br>word_freq_remove: 0.0</br>word_freq_internet: 1.85</br>word_freq_order: 0.0</br>word_freq_mail: 0.0</br>word_freq_receive: 0.0</br>word_freq_will: 0.0</br>word_freq_people: 0.0</br>word_freq_report: 0.0</br>word_freq_addresses: 0.0</br>word_freq_free: 0.0</br>word_freq_business: 0.0</br>... too many variables"
          ],
          [
           "</br>id: 5</br>prediction: 0.508</br>capital_run_length_average: 100.135</br></br>word_freq_make: 0.0</br>word_freq_address: 0.0</br>word_freq_all: 0.0</br>word_freq_3d: 0.0</br>word_freq_our: 1.85</br>word_freq_over: 0.0</br>word_freq_remove: 0.0</br>word_freq_internet: 1.85</br>word_freq_order: 0.0</br>word_freq_mail: 0.0</br>word_freq_receive: 0.0</br>word_freq_will: 0.0</br>word_freq_people: 0.0</br>word_freq_report: 0.0</br>word_freq_addresses: 0.0</br>word_freq_free: 0.0</br>word_freq_business: 0.0</br>... too many variables"
          ],
          [
           "</br>id: 5</br>prediction: 0.508</br>capital_run_length_average: 111.15</br></br>word_freq_make: 0.0</br>word_freq_address: 0.0</br>word_freq_all: 0.0</br>word_freq_3d: 0.0</br>word_freq_our: 1.85</br>word_freq_over: 0.0</br>word_freq_remove: 0.0</br>word_freq_internet: 1.85</br>word_freq_order: 0.0</br>word_freq_mail: 0.0</br>word_freq_receive: 0.0</br>word_freq_will: 0.0</br>word_freq_people: 0.0</br>word_freq_report: 0.0</br>word_freq_addresses: 0.0</br>word_freq_free: 0.0</br>word_freq_business: 0.0</br>... too many variables"
          ],
          [
           "</br>id: 5</br>prediction: 0.508</br>capital_run_length_average: 122.165</br></br>word_freq_make: 0.0</br>word_freq_address: 0.0</br>word_freq_all: 0.0</br>word_freq_3d: 0.0</br>word_freq_our: 1.85</br>word_freq_over: 0.0</br>word_freq_remove: 0.0</br>word_freq_internet: 1.85</br>word_freq_order: 0.0</br>word_freq_mail: 0.0</br>word_freq_receive: 0.0</br>word_freq_will: 0.0</br>word_freq_people: 0.0</br>word_freq_report: 0.0</br>word_freq_addresses: 0.0</br>word_freq_free: 0.0</br>word_freq_business: 0.0</br>... too many variables"
          ],
          [
           "</br>id: 5</br>prediction: 0.508</br>capital_run_length_average: 133.18</br></br>word_freq_make: 0.0</br>word_freq_address: 0.0</br>word_freq_all: 0.0</br>word_freq_3d: 0.0</br>word_freq_our: 1.85</br>word_freq_over: 0.0</br>word_freq_remove: 0.0</br>word_freq_internet: 1.85</br>word_freq_order: 0.0</br>word_freq_mail: 0.0</br>word_freq_receive: 0.0</br>word_freq_will: 0.0</br>word_freq_people: 0.0</br>word_freq_report: 0.0</br>word_freq_addresses: 0.0</br>word_freq_free: 0.0</br>word_freq_business: 0.0</br>... too many variables"
          ],
          [
           "</br>id: 5</br>prediction: 0.508</br>capital_run_length_average: 144.195</br></br>word_freq_make: 0.0</br>word_freq_address: 0.0</br>word_freq_all: 0.0</br>word_freq_3d: 0.0</br>word_freq_our: 1.85</br>word_freq_over: 0.0</br>word_freq_remove: 0.0</br>word_freq_internet: 1.85</br>word_freq_order: 0.0</br>word_freq_mail: 0.0</br>word_freq_receive: 0.0</br>word_freq_will: 0.0</br>word_freq_people: 0.0</br>word_freq_report: 0.0</br>word_freq_addresses: 0.0</br>word_freq_free: 0.0</br>word_freq_business: 0.0</br>... too many variables"
          ],
          [
           "</br>id: 5</br>prediction: 0.508</br>capital_run_length_average: 155.21</br></br>word_freq_make: 0.0</br>word_freq_address: 0.0</br>word_freq_all: 0.0</br>word_freq_3d: 0.0</br>word_freq_our: 1.85</br>word_freq_over: 0.0</br>word_freq_remove: 0.0</br>word_freq_internet: 1.85</br>word_freq_order: 0.0</br>word_freq_mail: 0.0</br>word_freq_receive: 0.0</br>word_freq_will: 0.0</br>word_freq_people: 0.0</br>word_freq_report: 0.0</br>word_freq_addresses: 0.0</br>word_freq_free: 0.0</br>word_freq_business: 0.0</br>... too many variables"
          ],
          [
           "</br>id: 5</br>prediction: 0.508</br>capital_run_length_average: 166.22500000000002</br></br>word_freq_make: 0.0</br>word_freq_address: 0.0</br>word_freq_all: 0.0</br>word_freq_3d: 0.0</br>word_freq_our: 1.85</br>word_freq_over: 0.0</br>word_freq_remove: 0.0</br>word_freq_internet: 1.85</br>word_freq_order: 0.0</br>word_freq_mail: 0.0</br>word_freq_receive: 0.0</br>word_freq_will: 0.0</br>word_freq_people: 0.0</br>word_freq_report: 0.0</br>word_freq_addresses: 0.0</br>word_freq_free: 0.0</br>word_freq_business: 0.0</br>... too many variables"
          ],
          [
           "</br>id: 5</br>prediction: 0.508</br>capital_run_length_average: 177.24</br></br>word_freq_make: 0.0</br>word_freq_address: 0.0</br>word_freq_all: 0.0</br>word_freq_3d: 0.0</br>word_freq_our: 1.85</br>word_freq_over: 0.0</br>word_freq_remove: 0.0</br>word_freq_internet: 1.85</br>word_freq_order: 0.0</br>word_freq_mail: 0.0</br>word_freq_receive: 0.0</br>word_freq_will: 0.0</br>word_freq_people: 0.0</br>word_freq_report: 0.0</br>word_freq_addresses: 0.0</br>word_freq_free: 0.0</br>word_freq_business: 0.0</br>... too many variables"
          ],
          [
           "</br>id: 5</br>prediction: 0.508</br>capital_run_length_average: 188.255</br></br>word_freq_make: 0.0</br>word_freq_address: 0.0</br>word_freq_all: 0.0</br>word_freq_3d: 0.0</br>word_freq_our: 1.85</br>word_freq_over: 0.0</br>word_freq_remove: 0.0</br>word_freq_internet: 1.85</br>word_freq_order: 0.0</br>word_freq_mail: 0.0</br>word_freq_receive: 0.0</br>word_freq_will: 0.0</br>word_freq_people: 0.0</br>word_freq_report: 0.0</br>word_freq_addresses: 0.0</br>word_freq_free: 0.0</br>word_freq_business: 0.0</br>... too many variables"
          ],
          [
           "</br>id: 5</br>prediction: 0.508</br>capital_run_length_average: 199.27</br></br>word_freq_make: 0.0</br>word_freq_address: 0.0</br>word_freq_all: 0.0</br>word_freq_3d: 0.0</br>word_freq_our: 1.85</br>word_freq_over: 0.0</br>word_freq_remove: 0.0</br>word_freq_internet: 1.85</br>word_freq_order: 0.0</br>word_freq_mail: 0.0</br>word_freq_receive: 0.0</br>word_freq_will: 0.0</br>word_freq_people: 0.0</br>word_freq_report: 0.0</br>word_freq_addresses: 0.0</br>word_freq_free: 0.0</br>word_freq_business: 0.0</br>... too many variables"
          ],
          [
           "</br>id: 5</br>prediction: 0.508</br>capital_run_length_average: 210.28500000000003</br></br>word_freq_make: 0.0</br>word_freq_address: 0.0</br>word_freq_all: 0.0</br>word_freq_3d: 0.0</br>word_freq_our: 1.85</br>word_freq_over: 0.0</br>word_freq_remove: 0.0</br>word_freq_internet: 1.85</br>word_freq_order: 0.0</br>word_freq_mail: 0.0</br>word_freq_receive: 0.0</br>word_freq_will: 0.0</br>word_freq_people: 0.0</br>word_freq_report: 0.0</br>word_freq_addresses: 0.0</br>word_freq_free: 0.0</br>word_freq_business: 0.0</br>... too many variables"
          ],
          [
           "</br>id: 5</br>prediction: 0.508</br>capital_run_length_average: 221.3</br></br>word_freq_make: 0.0</br>word_freq_address: 0.0</br>word_freq_all: 0.0</br>word_freq_3d: 0.0</br>word_freq_our: 1.85</br>word_freq_over: 0.0</br>word_freq_remove: 0.0</br>word_freq_internet: 1.85</br>word_freq_order: 0.0</br>word_freq_mail: 0.0</br>word_freq_receive: 0.0</br>word_freq_will: 0.0</br>word_freq_people: 0.0</br>word_freq_report: 0.0</br>word_freq_addresses: 0.0</br>word_freq_free: 0.0</br>word_freq_business: 0.0</br>... too many variables"
          ],
          [
           "</br>id: 5</br>prediction: 0.508</br>capital_run_length_average: 232.315</br></br>word_freq_make: 0.0</br>word_freq_address: 0.0</br>word_freq_all: 0.0</br>word_freq_3d: 0.0</br>word_freq_our: 1.85</br>word_freq_over: 0.0</br>word_freq_remove: 0.0</br>word_freq_internet: 1.85</br>word_freq_order: 0.0</br>word_freq_mail: 0.0</br>word_freq_receive: 0.0</br>word_freq_will: 0.0</br>word_freq_people: 0.0</br>word_freq_report: 0.0</br>word_freq_addresses: 0.0</br>word_freq_free: 0.0</br>word_freq_business: 0.0</br>... too many variables"
          ],
          [
           "</br>id: 5</br>prediction: 0.508</br>capital_run_length_average: 243.33</br></br>word_freq_make: 0.0</br>word_freq_address: 0.0</br>word_freq_all: 0.0</br>word_freq_3d: 0.0</br>word_freq_our: 1.85</br>word_freq_over: 0.0</br>word_freq_remove: 0.0</br>word_freq_internet: 1.85</br>word_freq_order: 0.0</br>word_freq_mail: 0.0</br>word_freq_receive: 0.0</br>word_freq_will: 0.0</br>word_freq_people: 0.0</br>word_freq_report: 0.0</br>word_freq_addresses: 0.0</br>word_freq_free: 0.0</br>word_freq_business: 0.0</br>... too many variables"
          ],
          [
           "</br>id: 5</br>prediction: 0.508</br>capital_run_length_average: 254.34500000000003</br></br>word_freq_make: 0.0</br>word_freq_address: 0.0</br>word_freq_all: 0.0</br>word_freq_3d: 0.0</br>word_freq_our: 1.85</br>word_freq_over: 0.0</br>word_freq_remove: 0.0</br>word_freq_internet: 1.85</br>word_freq_order: 0.0</br>word_freq_mail: 0.0</br>word_freq_receive: 0.0</br>word_freq_will: 0.0</br>word_freq_people: 0.0</br>word_freq_report: 0.0</br>word_freq_addresses: 0.0</br>word_freq_free: 0.0</br>word_freq_business: 0.0</br>... too many variables"
          ],
          [
           "</br>id: 5</br>prediction: 0.508</br>capital_run_length_average: 265.36</br></br>word_freq_make: 0.0</br>word_freq_address: 0.0</br>word_freq_all: 0.0</br>word_freq_3d: 0.0</br>word_freq_our: 1.85</br>word_freq_over: 0.0</br>word_freq_remove: 0.0</br>word_freq_internet: 1.85</br>word_freq_order: 0.0</br>word_freq_mail: 0.0</br>word_freq_receive: 0.0</br>word_freq_will: 0.0</br>word_freq_people: 0.0</br>word_freq_report: 0.0</br>word_freq_addresses: 0.0</br>word_freq_free: 0.0</br>word_freq_business: 0.0</br>... too many variables"
          ],
          [
           "</br>id: 5</br>prediction: 0.508</br>capital_run_length_average: 276.375</br></br>word_freq_make: 0.0</br>word_freq_address: 0.0</br>word_freq_all: 0.0</br>word_freq_3d: 0.0</br>word_freq_our: 1.85</br>word_freq_over: 0.0</br>word_freq_remove: 0.0</br>word_freq_internet: 1.85</br>word_freq_order: 0.0</br>word_freq_mail: 0.0</br>word_freq_receive: 0.0</br>word_freq_will: 0.0</br>word_freq_people: 0.0</br>word_freq_report: 0.0</br>word_freq_addresses: 0.0</br>word_freq_free: 0.0</br>word_freq_business: 0.0</br>... too many variables"
          ],
          [
           "</br>id: 5</br>prediction: 0.508</br>capital_run_length_average: 287.39</br></br>word_freq_make: 0.0</br>word_freq_address: 0.0</br>word_freq_all: 0.0</br>word_freq_3d: 0.0</br>word_freq_our: 1.85</br>word_freq_over: 0.0</br>word_freq_remove: 0.0</br>word_freq_internet: 1.85</br>word_freq_order: 0.0</br>word_freq_mail: 0.0</br>word_freq_receive: 0.0</br>word_freq_will: 0.0</br>word_freq_people: 0.0</br>word_freq_report: 0.0</br>word_freq_addresses: 0.0</br>word_freq_free: 0.0</br>word_freq_business: 0.0</br>... too many variables"
          ],
          [
           "</br>id: 5</br>prediction: 0.508</br>capital_run_length_average: 298.40500000000003</br></br>word_freq_make: 0.0</br>word_freq_address: 0.0</br>word_freq_all: 0.0</br>word_freq_3d: 0.0</br>word_freq_our: 1.85</br>word_freq_over: 0.0</br>word_freq_remove: 0.0</br>word_freq_internet: 1.85</br>word_freq_order: 0.0</br>word_freq_mail: 0.0</br>word_freq_receive: 0.0</br>word_freq_will: 0.0</br>word_freq_people: 0.0</br>word_freq_report: 0.0</br>word_freq_addresses: 0.0</br>word_freq_free: 0.0</br>word_freq_business: 0.0</br>... too many variables"
          ],
          [
           "</br>id: 5</br>prediction: 0.508</br>capital_run_length_average: 309.42</br></br>word_freq_make: 0.0</br>word_freq_address: 0.0</br>word_freq_all: 0.0</br>word_freq_3d: 0.0</br>word_freq_our: 1.85</br>word_freq_over: 0.0</br>word_freq_remove: 0.0</br>word_freq_internet: 1.85</br>word_freq_order: 0.0</br>word_freq_mail: 0.0</br>word_freq_receive: 0.0</br>word_freq_will: 0.0</br>word_freq_people: 0.0</br>word_freq_report: 0.0</br>word_freq_addresses: 0.0</br>word_freq_free: 0.0</br>word_freq_business: 0.0</br>... too many variables"
          ],
          [
           "</br>id: 5</br>prediction: 0.508</br>capital_run_length_average: 320.435</br></br>word_freq_make: 0.0</br>word_freq_address: 0.0</br>word_freq_all: 0.0</br>word_freq_3d: 0.0</br>word_freq_our: 1.85</br>word_freq_over: 0.0</br>word_freq_remove: 0.0</br>word_freq_internet: 1.85</br>word_freq_order: 0.0</br>word_freq_mail: 0.0</br>word_freq_receive: 0.0</br>word_freq_will: 0.0</br>word_freq_people: 0.0</br>word_freq_report: 0.0</br>word_freq_addresses: 0.0</br>word_freq_free: 0.0</br>word_freq_business: 0.0</br>... too many variables"
          ],
          [
           "</br>id: 5</br>prediction: 0.508</br>capital_run_length_average: 331.45000000000005</br></br>word_freq_make: 0.0</br>word_freq_address: 0.0</br>word_freq_all: 0.0</br>word_freq_3d: 0.0</br>word_freq_our: 1.85</br>word_freq_over: 0.0</br>word_freq_remove: 0.0</br>word_freq_internet: 1.85</br>word_freq_order: 0.0</br>word_freq_mail: 0.0</br>word_freq_receive: 0.0</br>word_freq_will: 0.0</br>word_freq_people: 0.0</br>word_freq_report: 0.0</br>word_freq_addresses: 0.0</br>word_freq_free: 0.0</br>word_freq_business: 0.0</br>... too many variables"
          ],
          [
           "</br>id: 5</br>prediction: 0.508</br>capital_run_length_average: 342.46500000000003</br></br>word_freq_make: 0.0</br>word_freq_address: 0.0</br>word_freq_all: 0.0</br>word_freq_3d: 0.0</br>word_freq_our: 1.85</br>word_freq_over: 0.0</br>word_freq_remove: 0.0</br>word_freq_internet: 1.85</br>word_freq_order: 0.0</br>word_freq_mail: 0.0</br>word_freq_receive: 0.0</br>word_freq_will: 0.0</br>word_freq_people: 0.0</br>word_freq_report: 0.0</br>word_freq_addresses: 0.0</br>word_freq_free: 0.0</br>word_freq_business: 0.0</br>... too many variables"
          ],
          [
           "</br>id: 5</br>prediction: 0.508</br>capital_run_length_average: 353.48</br></br>word_freq_make: 0.0</br>word_freq_address: 0.0</br>word_freq_all: 0.0</br>word_freq_3d: 0.0</br>word_freq_our: 1.85</br>word_freq_over: 0.0</br>word_freq_remove: 0.0</br>word_freq_internet: 1.85</br>word_freq_order: 0.0</br>word_freq_mail: 0.0</br>word_freq_receive: 0.0</br>word_freq_will: 0.0</br>word_freq_people: 0.0</br>word_freq_report: 0.0</br>word_freq_addresses: 0.0</br>word_freq_free: 0.0</br>word_freq_business: 0.0</br>... too many variables"
          ],
          [
           "</br>id: 5</br>prediction: 0.508</br>capital_run_length_average: 364.495</br></br>word_freq_make: 0.0</br>word_freq_address: 0.0</br>word_freq_all: 0.0</br>word_freq_3d: 0.0</br>word_freq_our: 1.85</br>word_freq_over: 0.0</br>word_freq_remove: 0.0</br>word_freq_internet: 1.85</br>word_freq_order: 0.0</br>word_freq_mail: 0.0</br>word_freq_receive: 0.0</br>word_freq_will: 0.0</br>word_freq_people: 0.0</br>word_freq_report: 0.0</br>word_freq_addresses: 0.0</br>word_freq_free: 0.0</br>word_freq_business: 0.0</br>... too many variables"
          ],
          [
           "</br>id: 5</br>prediction: 0.508</br>capital_run_length_average: 375.51</br></br>word_freq_make: 0.0</br>word_freq_address: 0.0</br>word_freq_all: 0.0</br>word_freq_3d: 0.0</br>word_freq_our: 1.85</br>word_freq_over: 0.0</br>word_freq_remove: 0.0</br>word_freq_internet: 1.85</br>word_freq_order: 0.0</br>word_freq_mail: 0.0</br>word_freq_receive: 0.0</br>word_freq_will: 0.0</br>word_freq_people: 0.0</br>word_freq_report: 0.0</br>word_freq_addresses: 0.0</br>word_freq_free: 0.0</br>word_freq_business: 0.0</br>... too many variables"
          ],
          [
           "</br>id: 5</br>prediction: 0.508</br>capital_run_length_average: 386.52500000000003</br></br>word_freq_make: 0.0</br>word_freq_address: 0.0</br>word_freq_all: 0.0</br>word_freq_3d: 0.0</br>word_freq_our: 1.85</br>word_freq_over: 0.0</br>word_freq_remove: 0.0</br>word_freq_internet: 1.85</br>word_freq_order: 0.0</br>word_freq_mail: 0.0</br>word_freq_receive: 0.0</br>word_freq_will: 0.0</br>word_freq_people: 0.0</br>word_freq_report: 0.0</br>word_freq_addresses: 0.0</br>word_freq_free: 0.0</br>word_freq_business: 0.0</br>... too many variables"
          ],
          [
           "</br>id: 5</br>prediction: 0.508</br>capital_run_length_average: 397.54</br></br>word_freq_make: 0.0</br>word_freq_address: 0.0</br>word_freq_all: 0.0</br>word_freq_3d: 0.0</br>word_freq_our: 1.85</br>word_freq_over: 0.0</br>word_freq_remove: 0.0</br>word_freq_internet: 1.85</br>word_freq_order: 0.0</br>word_freq_mail: 0.0</br>word_freq_receive: 0.0</br>word_freq_will: 0.0</br>word_freq_people: 0.0</br>word_freq_report: 0.0</br>word_freq_addresses: 0.0</br>word_freq_free: 0.0</br>word_freq_business: 0.0</br>... too many variables"
          ],
          [
           "</br>id: 5</br>prediction: 0.508</br>capital_run_length_average: 408.555</br></br>word_freq_make: 0.0</br>word_freq_address: 0.0</br>word_freq_all: 0.0</br>word_freq_3d: 0.0</br>word_freq_our: 1.85</br>word_freq_over: 0.0</br>word_freq_remove: 0.0</br>word_freq_internet: 1.85</br>word_freq_order: 0.0</br>word_freq_mail: 0.0</br>word_freq_receive: 0.0</br>word_freq_will: 0.0</br>word_freq_people: 0.0</br>word_freq_report: 0.0</br>word_freq_addresses: 0.0</br>word_freq_free: 0.0</br>word_freq_business: 0.0</br>... too many variables"
          ],
          [
           "</br>id: 5</br>prediction: 0.508</br>capital_run_length_average: 419.57000000000005</br></br>word_freq_make: 0.0</br>word_freq_address: 0.0</br>word_freq_all: 0.0</br>word_freq_3d: 0.0</br>word_freq_our: 1.85</br>word_freq_over: 0.0</br>word_freq_remove: 0.0</br>word_freq_internet: 1.85</br>word_freq_order: 0.0</br>word_freq_mail: 0.0</br>word_freq_receive: 0.0</br>word_freq_will: 0.0</br>word_freq_people: 0.0</br>word_freq_report: 0.0</br>word_freq_addresses: 0.0</br>word_freq_free: 0.0</br>word_freq_business: 0.0</br>... too many variables"
          ],
          [
           "</br>id: 5</br>prediction: 0.508</br>capital_run_length_average: 430.58500000000004</br></br>word_freq_make: 0.0</br>word_freq_address: 0.0</br>word_freq_all: 0.0</br>word_freq_3d: 0.0</br>word_freq_our: 1.85</br>word_freq_over: 0.0</br>word_freq_remove: 0.0</br>word_freq_internet: 1.85</br>word_freq_order: 0.0</br>word_freq_mail: 0.0</br>word_freq_receive: 0.0</br>word_freq_will: 0.0</br>word_freq_people: 0.0</br>word_freq_report: 0.0</br>word_freq_addresses: 0.0</br>word_freq_free: 0.0</br>word_freq_business: 0.0</br>... too many variables"
          ],
          [
           "</br>id: 5</br>prediction: 0.508</br>capital_run_length_average: 441.6</br></br>word_freq_make: 0.0</br>word_freq_address: 0.0</br>word_freq_all: 0.0</br>word_freq_3d: 0.0</br>word_freq_our: 1.85</br>word_freq_over: 0.0</br>word_freq_remove: 0.0</br>word_freq_internet: 1.85</br>word_freq_order: 0.0</br>word_freq_mail: 0.0</br>word_freq_receive: 0.0</br>word_freq_will: 0.0</br>word_freq_people: 0.0</br>word_freq_report: 0.0</br>word_freq_addresses: 0.0</br>word_freq_free: 0.0</br>word_freq_business: 0.0</br>... too many variables"
          ],
          [
           "</br>id: 5</br>prediction: 0.508</br>capital_run_length_average: 452.615</br></br>word_freq_make: 0.0</br>word_freq_address: 0.0</br>word_freq_all: 0.0</br>word_freq_3d: 0.0</br>word_freq_our: 1.85</br>word_freq_over: 0.0</br>word_freq_remove: 0.0</br>word_freq_internet: 1.85</br>word_freq_order: 0.0</br>word_freq_mail: 0.0</br>word_freq_receive: 0.0</br>word_freq_will: 0.0</br>word_freq_people: 0.0</br>word_freq_report: 0.0</br>word_freq_addresses: 0.0</br>word_freq_free: 0.0</br>word_freq_business: 0.0</br>... too many variables"
          ],
          [
           "</br>id: 5</br>prediction: 0.508</br>capital_run_length_average: 463.63</br></br>word_freq_make: 0.0</br>word_freq_address: 0.0</br>word_freq_all: 0.0</br>word_freq_3d: 0.0</br>word_freq_our: 1.85</br>word_freq_over: 0.0</br>word_freq_remove: 0.0</br>word_freq_internet: 1.85</br>word_freq_order: 0.0</br>word_freq_mail: 0.0</br>word_freq_receive: 0.0</br>word_freq_will: 0.0</br>word_freq_people: 0.0</br>word_freq_report: 0.0</br>word_freq_addresses: 0.0</br>word_freq_free: 0.0</br>word_freq_business: 0.0</br>... too many variables"
          ],
          [
           "</br>id: 5</br>prediction: 0.508</br>capital_run_length_average: 474.64500000000004</br></br>word_freq_make: 0.0</br>word_freq_address: 0.0</br>word_freq_all: 0.0</br>word_freq_3d: 0.0</br>word_freq_our: 1.85</br>word_freq_over: 0.0</br>word_freq_remove: 0.0</br>word_freq_internet: 1.85</br>word_freq_order: 0.0</br>word_freq_mail: 0.0</br>word_freq_receive: 0.0</br>word_freq_will: 0.0</br>word_freq_people: 0.0</br>word_freq_report: 0.0</br>word_freq_addresses: 0.0</br>word_freq_free: 0.0</br>word_freq_business: 0.0</br>... too many variables"
          ],
          [
           "</br>id: 5</br>prediction: 0.508</br>capital_run_length_average: 485.66</br></br>word_freq_make: 0.0</br>word_freq_address: 0.0</br>word_freq_all: 0.0</br>word_freq_3d: 0.0</br>word_freq_our: 1.85</br>word_freq_over: 0.0</br>word_freq_remove: 0.0</br>word_freq_internet: 1.85</br>word_freq_order: 0.0</br>word_freq_mail: 0.0</br>word_freq_receive: 0.0</br>word_freq_will: 0.0</br>word_freq_people: 0.0</br>word_freq_report: 0.0</br>word_freq_addresses: 0.0</br>word_freq_free: 0.0</br>word_freq_business: 0.0</br>... too many variables"
          ],
          [
           "</br>id: 5</br>prediction: 0.508</br>capital_run_length_average: 496.675</br></br>word_freq_make: 0.0</br>word_freq_address: 0.0</br>word_freq_all: 0.0</br>word_freq_3d: 0.0</br>word_freq_our: 1.85</br>word_freq_over: 0.0</br>word_freq_remove: 0.0</br>word_freq_internet: 1.85</br>word_freq_order: 0.0</br>word_freq_mail: 0.0</br>word_freq_receive: 0.0</br>word_freq_will: 0.0</br>word_freq_people: 0.0</br>word_freq_report: 0.0</br>word_freq_addresses: 0.0</br>word_freq_free: 0.0</br>word_freq_business: 0.0</br>... too many variables"
          ],
          [
           "</br>id: 5</br>prediction: 0.508</br>capital_run_length_average: 507.69000000000005</br></br>word_freq_make: 0.0</br>word_freq_address: 0.0</br>word_freq_all: 0.0</br>word_freq_3d: 0.0</br>word_freq_our: 1.85</br>word_freq_over: 0.0</br>word_freq_remove: 0.0</br>word_freq_internet: 1.85</br>word_freq_order: 0.0</br>word_freq_mail: 0.0</br>word_freq_receive: 0.0</br>word_freq_will: 0.0</br>word_freq_people: 0.0</br>word_freq_report: 0.0</br>word_freq_addresses: 0.0</br>word_freq_free: 0.0</br>word_freq_business: 0.0</br>... too many variables"
          ],
          [
           "</br>id: 5</br>prediction: 0.508</br>capital_run_length_average: 518.705</br></br>word_freq_make: 0.0</br>word_freq_address: 0.0</br>word_freq_all: 0.0</br>word_freq_3d: 0.0</br>word_freq_our: 1.85</br>word_freq_over: 0.0</br>word_freq_remove: 0.0</br>word_freq_internet: 1.85</br>word_freq_order: 0.0</br>word_freq_mail: 0.0</br>word_freq_receive: 0.0</br>word_freq_will: 0.0</br>word_freq_people: 0.0</br>word_freq_report: 0.0</br>word_freq_addresses: 0.0</br>word_freq_free: 0.0</br>word_freq_business: 0.0</br>... too many variables"
          ],
          [
           "</br>id: 5</br>prediction: 0.508</br>capital_run_length_average: 529.72</br></br>word_freq_make: 0.0</br>word_freq_address: 0.0</br>word_freq_all: 0.0</br>word_freq_3d: 0.0</br>word_freq_our: 1.85</br>word_freq_over: 0.0</br>word_freq_remove: 0.0</br>word_freq_internet: 1.85</br>word_freq_order: 0.0</br>word_freq_mail: 0.0</br>word_freq_receive: 0.0</br>word_freq_will: 0.0</br>word_freq_people: 0.0</br>word_freq_report: 0.0</br>word_freq_addresses: 0.0</br>word_freq_free: 0.0</br>word_freq_business: 0.0</br>... too many variables"
          ],
          [
           "</br>id: 5</br>prediction: 0.508</br>capital_run_length_average: 540.735</br></br>word_freq_make: 0.0</br>word_freq_address: 0.0</br>word_freq_all: 0.0</br>word_freq_3d: 0.0</br>word_freq_our: 1.85</br>word_freq_over: 0.0</br>word_freq_remove: 0.0</br>word_freq_internet: 1.85</br>word_freq_order: 0.0</br>word_freq_mail: 0.0</br>word_freq_receive: 0.0</br>word_freq_will: 0.0</br>word_freq_people: 0.0</br>word_freq_report: 0.0</br>word_freq_addresses: 0.0</br>word_freq_free: 0.0</br>word_freq_business: 0.0</br>... too many variables"
          ],
          [
           "</br>id: 5</br>prediction: 0.508</br>capital_run_length_average: 551.75</br></br>word_freq_make: 0.0</br>word_freq_address: 0.0</br>word_freq_all: 0.0</br>word_freq_3d: 0.0</br>word_freq_our: 1.85</br>word_freq_over: 0.0</br>word_freq_remove: 0.0</br>word_freq_internet: 1.85</br>word_freq_order: 0.0</br>word_freq_mail: 0.0</br>word_freq_receive: 0.0</br>word_freq_will: 0.0</br>word_freq_people: 0.0</br>word_freq_report: 0.0</br>word_freq_addresses: 0.0</br>word_freq_free: 0.0</br>word_freq_business: 0.0</br>... too many variables"
          ],
          [
           "</br>id: 5</br>prediction: 0.508</br>capital_run_length_average: 562.765</br></br>word_freq_make: 0.0</br>word_freq_address: 0.0</br>word_freq_all: 0.0</br>word_freq_3d: 0.0</br>word_freq_our: 1.85</br>word_freq_over: 0.0</br>word_freq_remove: 0.0</br>word_freq_internet: 1.85</br>word_freq_order: 0.0</br>word_freq_mail: 0.0</br>word_freq_receive: 0.0</br>word_freq_will: 0.0</br>word_freq_people: 0.0</br>word_freq_report: 0.0</br>word_freq_addresses: 0.0</br>word_freq_free: 0.0</br>word_freq_business: 0.0</br>... too many variables"
          ],
          [
           "</br>id: 5</br>prediction: 0.508</br>capital_run_length_average: 573.78</br></br>word_freq_make: 0.0</br>word_freq_address: 0.0</br>word_freq_all: 0.0</br>word_freq_3d: 0.0</br>word_freq_our: 1.85</br>word_freq_over: 0.0</br>word_freq_remove: 0.0</br>word_freq_internet: 1.85</br>word_freq_order: 0.0</br>word_freq_mail: 0.0</br>word_freq_receive: 0.0</br>word_freq_will: 0.0</br>word_freq_people: 0.0</br>word_freq_report: 0.0</br>word_freq_addresses: 0.0</br>word_freq_free: 0.0</br>word_freq_business: 0.0</br>... too many variables"
          ],
          [
           "</br>id: 5</br>prediction: 0.508</br>capital_run_length_average: 584.7950000000001</br></br>word_freq_make: 0.0</br>word_freq_address: 0.0</br>word_freq_all: 0.0</br>word_freq_3d: 0.0</br>word_freq_our: 1.85</br>word_freq_over: 0.0</br>word_freq_remove: 0.0</br>word_freq_internet: 1.85</br>word_freq_order: 0.0</br>word_freq_mail: 0.0</br>word_freq_receive: 0.0</br>word_freq_will: 0.0</br>word_freq_people: 0.0</br>word_freq_report: 0.0</br>word_freq_addresses: 0.0</br>word_freq_free: 0.0</br>word_freq_business: 0.0</br>... too many variables"
          ],
          [
           "</br>id: 5</br>prediction: 0.508</br>capital_run_length_average: 595.8100000000001</br></br>word_freq_make: 0.0</br>word_freq_address: 0.0</br>word_freq_all: 0.0</br>word_freq_3d: 0.0</br>word_freq_our: 1.85</br>word_freq_over: 0.0</br>word_freq_remove: 0.0</br>word_freq_internet: 1.85</br>word_freq_order: 0.0</br>word_freq_mail: 0.0</br>word_freq_receive: 0.0</br>word_freq_will: 0.0</br>word_freq_people: 0.0</br>word_freq_report: 0.0</br>word_freq_addresses: 0.0</br>word_freq_free: 0.0</br>word_freq_business: 0.0</br>... too many variables"
          ],
          [
           "</br>id: 5</br>prediction: 0.508</br>capital_run_length_average: 606.825</br></br>word_freq_make: 0.0</br>word_freq_address: 0.0</br>word_freq_all: 0.0</br>word_freq_3d: 0.0</br>word_freq_our: 1.85</br>word_freq_over: 0.0</br>word_freq_remove: 0.0</br>word_freq_internet: 1.85</br>word_freq_order: 0.0</br>word_freq_mail: 0.0</br>word_freq_receive: 0.0</br>word_freq_will: 0.0</br>word_freq_people: 0.0</br>word_freq_report: 0.0</br>word_freq_addresses: 0.0</br>word_freq_free: 0.0</br>word_freq_business: 0.0</br>... too many variables"
          ],
          [
           "</br>id: 5</br>prediction: 0.508</br>capital_run_length_average: 617.84</br></br>word_freq_make: 0.0</br>word_freq_address: 0.0</br>word_freq_all: 0.0</br>word_freq_3d: 0.0</br>word_freq_our: 1.85</br>word_freq_over: 0.0</br>word_freq_remove: 0.0</br>word_freq_internet: 1.85</br>word_freq_order: 0.0</br>word_freq_mail: 0.0</br>word_freq_receive: 0.0</br>word_freq_will: 0.0</br>word_freq_people: 0.0</br>word_freq_report: 0.0</br>word_freq_addresses: 0.0</br>word_freq_free: 0.0</br>word_freq_business: 0.0</br>... too many variables"
          ],
          [
           "</br>id: 5</br>prediction: 0.508</br>capital_run_length_average: 628.855</br></br>word_freq_make: 0.0</br>word_freq_address: 0.0</br>word_freq_all: 0.0</br>word_freq_3d: 0.0</br>word_freq_our: 1.85</br>word_freq_over: 0.0</br>word_freq_remove: 0.0</br>word_freq_internet: 1.85</br>word_freq_order: 0.0</br>word_freq_mail: 0.0</br>word_freq_receive: 0.0</br>word_freq_will: 0.0</br>word_freq_people: 0.0</br>word_freq_report: 0.0</br>word_freq_addresses: 0.0</br>word_freq_free: 0.0</br>word_freq_business: 0.0</br>... too many variables"
          ],
          [
           "</br>id: 5</br>prediction: 0.508</br>capital_run_length_average: 639.87</br></br>word_freq_make: 0.0</br>word_freq_address: 0.0</br>word_freq_all: 0.0</br>word_freq_3d: 0.0</br>word_freq_our: 1.85</br>word_freq_over: 0.0</br>word_freq_remove: 0.0</br>word_freq_internet: 1.85</br>word_freq_order: 0.0</br>word_freq_mail: 0.0</br>word_freq_receive: 0.0</br>word_freq_will: 0.0</br>word_freq_people: 0.0</br>word_freq_report: 0.0</br>word_freq_addresses: 0.0</br>word_freq_free: 0.0</br>word_freq_business: 0.0</br>... too many variables"
          ],
          [
           "</br>id: 5</br>prediction: 0.508</br>capital_run_length_average: 650.885</br></br>word_freq_make: 0.0</br>word_freq_address: 0.0</br>word_freq_all: 0.0</br>word_freq_3d: 0.0</br>word_freq_our: 1.85</br>word_freq_over: 0.0</br>word_freq_remove: 0.0</br>word_freq_internet: 1.85</br>word_freq_order: 0.0</br>word_freq_mail: 0.0</br>word_freq_receive: 0.0</br>word_freq_will: 0.0</br>word_freq_people: 0.0</br>word_freq_report: 0.0</br>word_freq_addresses: 0.0</br>word_freq_free: 0.0</br>word_freq_business: 0.0</br>... too many variables"
          ],
          [
           "</br>id: 5</br>prediction: 0.508</br>capital_run_length_average: 661.9000000000001</br></br>word_freq_make: 0.0</br>word_freq_address: 0.0</br>word_freq_all: 0.0</br>word_freq_3d: 0.0</br>word_freq_our: 1.85</br>word_freq_over: 0.0</br>word_freq_remove: 0.0</br>word_freq_internet: 1.85</br>word_freq_order: 0.0</br>word_freq_mail: 0.0</br>word_freq_receive: 0.0</br>word_freq_will: 0.0</br>word_freq_people: 0.0</br>word_freq_report: 0.0</br>word_freq_addresses: 0.0</br>word_freq_free: 0.0</br>word_freq_business: 0.0</br>... too many variables"
          ],
          [
           "</br>id: 5</br>prediction: 0.508</br>capital_run_length_average: 672.9150000000001</br></br>word_freq_make: 0.0</br>word_freq_address: 0.0</br>word_freq_all: 0.0</br>word_freq_3d: 0.0</br>word_freq_our: 1.85</br>word_freq_over: 0.0</br>word_freq_remove: 0.0</br>word_freq_internet: 1.85</br>word_freq_order: 0.0</br>word_freq_mail: 0.0</br>word_freq_receive: 0.0</br>word_freq_will: 0.0</br>word_freq_people: 0.0</br>word_freq_report: 0.0</br>word_freq_addresses: 0.0</br>word_freq_free: 0.0</br>word_freq_business: 0.0</br>... too many variables"
          ],
          [
           "</br>id: 5</br>prediction: 0.508</br>capital_run_length_average: 683.9300000000001</br></br>word_freq_make: 0.0</br>word_freq_address: 0.0</br>word_freq_all: 0.0</br>word_freq_3d: 0.0</br>word_freq_our: 1.85</br>word_freq_over: 0.0</br>word_freq_remove: 0.0</br>word_freq_internet: 1.85</br>word_freq_order: 0.0</br>word_freq_mail: 0.0</br>word_freq_receive: 0.0</br>word_freq_will: 0.0</br>word_freq_people: 0.0</br>word_freq_report: 0.0</br>word_freq_addresses: 0.0</br>word_freq_free: 0.0</br>word_freq_business: 0.0</br>... too many variables"
          ],
          [
           "</br>id: 5</br>prediction: 0.508</br>capital_run_length_average: 694.945</br></br>word_freq_make: 0.0</br>word_freq_address: 0.0</br>word_freq_all: 0.0</br>word_freq_3d: 0.0</br>word_freq_our: 1.85</br>word_freq_over: 0.0</br>word_freq_remove: 0.0</br>word_freq_internet: 1.85</br>word_freq_order: 0.0</br>word_freq_mail: 0.0</br>word_freq_receive: 0.0</br>word_freq_will: 0.0</br>word_freq_people: 0.0</br>word_freq_report: 0.0</br>word_freq_addresses: 0.0</br>word_freq_free: 0.0</br>word_freq_business: 0.0</br>... too many variables"
          ],
          [
           "</br>id: 5</br>prediction: 0.508</br>capital_run_length_average: 705.96</br></br>word_freq_make: 0.0</br>word_freq_address: 0.0</br>word_freq_all: 0.0</br>word_freq_3d: 0.0</br>word_freq_our: 1.85</br>word_freq_over: 0.0</br>word_freq_remove: 0.0</br>word_freq_internet: 1.85</br>word_freq_order: 0.0</br>word_freq_mail: 0.0</br>word_freq_receive: 0.0</br>word_freq_will: 0.0</br>word_freq_people: 0.0</br>word_freq_report: 0.0</br>word_freq_addresses: 0.0</br>word_freq_free: 0.0</br>word_freq_business: 0.0</br>... too many variables"
          ],
          [
           "</br>id: 5</br>prediction: 0.508</br>capital_run_length_average: 716.975</br></br>word_freq_make: 0.0</br>word_freq_address: 0.0</br>word_freq_all: 0.0</br>word_freq_3d: 0.0</br>word_freq_our: 1.85</br>word_freq_over: 0.0</br>word_freq_remove: 0.0</br>word_freq_internet: 1.85</br>word_freq_order: 0.0</br>word_freq_mail: 0.0</br>word_freq_receive: 0.0</br>word_freq_will: 0.0</br>word_freq_people: 0.0</br>word_freq_report: 0.0</br>word_freq_addresses: 0.0</br>word_freq_free: 0.0</br>word_freq_business: 0.0</br>... too many variables"
          ],
          [
           "</br>id: 5</br>prediction: 0.508</br>capital_run_length_average: 727.99</br></br>word_freq_make: 0.0</br>word_freq_address: 0.0</br>word_freq_all: 0.0</br>word_freq_3d: 0.0</br>word_freq_our: 1.85</br>word_freq_over: 0.0</br>word_freq_remove: 0.0</br>word_freq_internet: 1.85</br>word_freq_order: 0.0</br>word_freq_mail: 0.0</br>word_freq_receive: 0.0</br>word_freq_will: 0.0</br>word_freq_people: 0.0</br>word_freq_report: 0.0</br>word_freq_addresses: 0.0</br>word_freq_free: 0.0</br>word_freq_business: 0.0</br>... too many variables"
          ],
          [
           "</br>id: 5</br>prediction: 0.508</br>capital_run_length_average: 739.005</br></br>word_freq_make: 0.0</br>word_freq_address: 0.0</br>word_freq_all: 0.0</br>word_freq_3d: 0.0</br>word_freq_our: 1.85</br>word_freq_over: 0.0</br>word_freq_remove: 0.0</br>word_freq_internet: 1.85</br>word_freq_order: 0.0</br>word_freq_mail: 0.0</br>word_freq_receive: 0.0</br>word_freq_will: 0.0</br>word_freq_people: 0.0</br>word_freq_report: 0.0</br>word_freq_addresses: 0.0</br>word_freq_free: 0.0</br>word_freq_business: 0.0</br>... too many variables"
          ],
          [
           "</br>id: 5</br>prediction: 0.508</br>capital_run_length_average: 750.02</br></br>word_freq_make: 0.0</br>word_freq_address: 0.0</br>word_freq_all: 0.0</br>word_freq_3d: 0.0</br>word_freq_our: 1.85</br>word_freq_over: 0.0</br>word_freq_remove: 0.0</br>word_freq_internet: 1.85</br>word_freq_order: 0.0</br>word_freq_mail: 0.0</br>word_freq_receive: 0.0</br>word_freq_will: 0.0</br>word_freq_people: 0.0</br>word_freq_report: 0.0</br>word_freq_addresses: 0.0</br>word_freq_free: 0.0</br>word_freq_business: 0.0</br>... too many variables"
          ],
          [
           "</br>id: 5</br>prediction: 0.508</br>capital_run_length_average: 761.0350000000001</br></br>word_freq_make: 0.0</br>word_freq_address: 0.0</br>word_freq_all: 0.0</br>word_freq_3d: 0.0</br>word_freq_our: 1.85</br>word_freq_over: 0.0</br>word_freq_remove: 0.0</br>word_freq_internet: 1.85</br>word_freq_order: 0.0</br>word_freq_mail: 0.0</br>word_freq_receive: 0.0</br>word_freq_will: 0.0</br>word_freq_people: 0.0</br>word_freq_report: 0.0</br>word_freq_addresses: 0.0</br>word_freq_free: 0.0</br>word_freq_business: 0.0</br>... too many variables"
          ],
          [
           "</br>id: 5</br>prediction: 0.508</br>capital_run_length_average: 772.0500000000001</br></br>word_freq_make: 0.0</br>word_freq_address: 0.0</br>word_freq_all: 0.0</br>word_freq_3d: 0.0</br>word_freq_our: 1.85</br>word_freq_over: 0.0</br>word_freq_remove: 0.0</br>word_freq_internet: 1.85</br>word_freq_order: 0.0</br>word_freq_mail: 0.0</br>word_freq_receive: 0.0</br>word_freq_will: 0.0</br>word_freq_people: 0.0</br>word_freq_report: 0.0</br>word_freq_addresses: 0.0</br>word_freq_free: 0.0</br>word_freq_business: 0.0</br>... too many variables"
          ],
          [
           "</br>id: 5</br>prediction: 0.508</br>capital_run_length_average: 783.065</br></br>word_freq_make: 0.0</br>word_freq_address: 0.0</br>word_freq_all: 0.0</br>word_freq_3d: 0.0</br>word_freq_our: 1.85</br>word_freq_over: 0.0</br>word_freq_remove: 0.0</br>word_freq_internet: 1.85</br>word_freq_order: 0.0</br>word_freq_mail: 0.0</br>word_freq_receive: 0.0</br>word_freq_will: 0.0</br>word_freq_people: 0.0</br>word_freq_report: 0.0</br>word_freq_addresses: 0.0</br>word_freq_free: 0.0</br>word_freq_business: 0.0</br>... too many variables"
          ],
          [
           "</br>id: 5</br>prediction: 0.508</br>capital_run_length_average: 794.08</br></br>word_freq_make: 0.0</br>word_freq_address: 0.0</br>word_freq_all: 0.0</br>word_freq_3d: 0.0</br>word_freq_our: 1.85</br>word_freq_over: 0.0</br>word_freq_remove: 0.0</br>word_freq_internet: 1.85</br>word_freq_order: 0.0</br>word_freq_mail: 0.0</br>word_freq_receive: 0.0</br>word_freq_will: 0.0</br>word_freq_people: 0.0</br>word_freq_report: 0.0</br>word_freq_addresses: 0.0</br>word_freq_free: 0.0</br>word_freq_business: 0.0</br>... too many variables"
          ],
          [
           "</br>id: 5</br>prediction: 0.508</br>capital_run_length_average: 805.095</br></br>word_freq_make: 0.0</br>word_freq_address: 0.0</br>word_freq_all: 0.0</br>word_freq_3d: 0.0</br>word_freq_our: 1.85</br>word_freq_over: 0.0</br>word_freq_remove: 0.0</br>word_freq_internet: 1.85</br>word_freq_order: 0.0</br>word_freq_mail: 0.0</br>word_freq_receive: 0.0</br>word_freq_will: 0.0</br>word_freq_people: 0.0</br>word_freq_report: 0.0</br>word_freq_addresses: 0.0</br>word_freq_free: 0.0</br>word_freq_business: 0.0</br>... too many variables"
          ],
          [
           "</br>id: 5</br>prediction: 0.508</br>capital_run_length_average: 816.11</br></br>word_freq_make: 0.0</br>word_freq_address: 0.0</br>word_freq_all: 0.0</br>word_freq_3d: 0.0</br>word_freq_our: 1.85</br>word_freq_over: 0.0</br>word_freq_remove: 0.0</br>word_freq_internet: 1.85</br>word_freq_order: 0.0</br>word_freq_mail: 0.0</br>word_freq_receive: 0.0</br>word_freq_will: 0.0</br>word_freq_people: 0.0</br>word_freq_report: 0.0</br>word_freq_addresses: 0.0</br>word_freq_free: 0.0</br>word_freq_business: 0.0</br>... too many variables"
          ],
          [
           "</br>id: 5</br>prediction: 0.508</br>capital_run_length_average: 827.125</br></br>word_freq_make: 0.0</br>word_freq_address: 0.0</br>word_freq_all: 0.0</br>word_freq_3d: 0.0</br>word_freq_our: 1.85</br>word_freq_over: 0.0</br>word_freq_remove: 0.0</br>word_freq_internet: 1.85</br>word_freq_order: 0.0</br>word_freq_mail: 0.0</br>word_freq_receive: 0.0</br>word_freq_will: 0.0</br>word_freq_people: 0.0</br>word_freq_report: 0.0</br>word_freq_addresses: 0.0</br>word_freq_free: 0.0</br>word_freq_business: 0.0</br>... too many variables"
          ],
          [
           "</br>id: 5</br>prediction: 0.508</br>capital_run_length_average: 838.1400000000001</br></br>word_freq_make: 0.0</br>word_freq_address: 0.0</br>word_freq_all: 0.0</br>word_freq_3d: 0.0</br>word_freq_our: 1.85</br>word_freq_over: 0.0</br>word_freq_remove: 0.0</br>word_freq_internet: 1.85</br>word_freq_order: 0.0</br>word_freq_mail: 0.0</br>word_freq_receive: 0.0</br>word_freq_will: 0.0</br>word_freq_people: 0.0</br>word_freq_report: 0.0</br>word_freq_addresses: 0.0</br>word_freq_free: 0.0</br>word_freq_business: 0.0</br>... too many variables"
          ],
          [
           "</br>id: 5</br>prediction: 0.508</br>capital_run_length_average: 849.1550000000001</br></br>word_freq_make: 0.0</br>word_freq_address: 0.0</br>word_freq_all: 0.0</br>word_freq_3d: 0.0</br>word_freq_our: 1.85</br>word_freq_over: 0.0</br>word_freq_remove: 0.0</br>word_freq_internet: 1.85</br>word_freq_order: 0.0</br>word_freq_mail: 0.0</br>word_freq_receive: 0.0</br>word_freq_will: 0.0</br>word_freq_people: 0.0</br>word_freq_report: 0.0</br>word_freq_addresses: 0.0</br>word_freq_free: 0.0</br>word_freq_business: 0.0</br>... too many variables"
          ],
          [
           "</br>id: 5</br>prediction: 0.508</br>capital_run_length_average: 860.1700000000001</br></br>word_freq_make: 0.0</br>word_freq_address: 0.0</br>word_freq_all: 0.0</br>word_freq_3d: 0.0</br>word_freq_our: 1.85</br>word_freq_over: 0.0</br>word_freq_remove: 0.0</br>word_freq_internet: 1.85</br>word_freq_order: 0.0</br>word_freq_mail: 0.0</br>word_freq_receive: 0.0</br>word_freq_will: 0.0</br>word_freq_people: 0.0</br>word_freq_report: 0.0</br>word_freq_addresses: 0.0</br>word_freq_free: 0.0</br>word_freq_business: 0.0</br>... too many variables"
          ],
          [
           "</br>id: 5</br>prediction: 0.508</br>capital_run_length_average: 871.1850000000001</br></br>word_freq_make: 0.0</br>word_freq_address: 0.0</br>word_freq_all: 0.0</br>word_freq_3d: 0.0</br>word_freq_our: 1.85</br>word_freq_over: 0.0</br>word_freq_remove: 0.0</br>word_freq_internet: 1.85</br>word_freq_order: 0.0</br>word_freq_mail: 0.0</br>word_freq_receive: 0.0</br>word_freq_will: 0.0</br>word_freq_people: 0.0</br>word_freq_report: 0.0</br>word_freq_addresses: 0.0</br>word_freq_free: 0.0</br>word_freq_business: 0.0</br>... too many variables"
          ],
          [
           "</br>id: 5</br>prediction: 0.508</br>capital_run_length_average: 882.2</br></br>word_freq_make: 0.0</br>word_freq_address: 0.0</br>word_freq_all: 0.0</br>word_freq_3d: 0.0</br>word_freq_our: 1.85</br>word_freq_over: 0.0</br>word_freq_remove: 0.0</br>word_freq_internet: 1.85</br>word_freq_order: 0.0</br>word_freq_mail: 0.0</br>word_freq_receive: 0.0</br>word_freq_will: 0.0</br>word_freq_people: 0.0</br>word_freq_report: 0.0</br>word_freq_addresses: 0.0</br>word_freq_free: 0.0</br>word_freq_business: 0.0</br>... too many variables"
          ],
          [
           "</br>id: 5</br>prediction: 0.508</br>capital_run_length_average: 893.215</br></br>word_freq_make: 0.0</br>word_freq_address: 0.0</br>word_freq_all: 0.0</br>word_freq_3d: 0.0</br>word_freq_our: 1.85</br>word_freq_over: 0.0</br>word_freq_remove: 0.0</br>word_freq_internet: 1.85</br>word_freq_order: 0.0</br>word_freq_mail: 0.0</br>word_freq_receive: 0.0</br>word_freq_will: 0.0</br>word_freq_people: 0.0</br>word_freq_report: 0.0</br>word_freq_addresses: 0.0</br>word_freq_free: 0.0</br>word_freq_business: 0.0</br>... too many variables"
          ],
          [
           "</br>id: 5</br>prediction: 0.508</br>capital_run_length_average: 904.23</br></br>word_freq_make: 0.0</br>word_freq_address: 0.0</br>word_freq_all: 0.0</br>word_freq_3d: 0.0</br>word_freq_our: 1.85</br>word_freq_over: 0.0</br>word_freq_remove: 0.0</br>word_freq_internet: 1.85</br>word_freq_order: 0.0</br>word_freq_mail: 0.0</br>word_freq_receive: 0.0</br>word_freq_will: 0.0</br>word_freq_people: 0.0</br>word_freq_report: 0.0</br>word_freq_addresses: 0.0</br>word_freq_free: 0.0</br>word_freq_business: 0.0</br>... too many variables"
          ],
          [
           "</br>id: 5</br>prediction: 0.508</br>capital_run_length_average: 915.245</br></br>word_freq_make: 0.0</br>word_freq_address: 0.0</br>word_freq_all: 0.0</br>word_freq_3d: 0.0</br>word_freq_our: 1.85</br>word_freq_over: 0.0</br>word_freq_remove: 0.0</br>word_freq_internet: 1.85</br>word_freq_order: 0.0</br>word_freq_mail: 0.0</br>word_freq_receive: 0.0</br>word_freq_will: 0.0</br>word_freq_people: 0.0</br>word_freq_report: 0.0</br>word_freq_addresses: 0.0</br>word_freq_free: 0.0</br>word_freq_business: 0.0</br>... too many variables"
          ],
          [
           "</br>id: 5</br>prediction: 0.508</br>capital_run_length_average: 926.26</br></br>word_freq_make: 0.0</br>word_freq_address: 0.0</br>word_freq_all: 0.0</br>word_freq_3d: 0.0</br>word_freq_our: 1.85</br>word_freq_over: 0.0</br>word_freq_remove: 0.0</br>word_freq_internet: 1.85</br>word_freq_order: 0.0</br>word_freq_mail: 0.0</br>word_freq_receive: 0.0</br>word_freq_will: 0.0</br>word_freq_people: 0.0</br>word_freq_report: 0.0</br>word_freq_addresses: 0.0</br>word_freq_free: 0.0</br>word_freq_business: 0.0</br>... too many variables"
          ],
          [
           "</br>id: 5</br>prediction: 0.508</br>capital_run_length_average: 937.2750000000001</br></br>word_freq_make: 0.0</br>word_freq_address: 0.0</br>word_freq_all: 0.0</br>word_freq_3d: 0.0</br>word_freq_our: 1.85</br>word_freq_over: 0.0</br>word_freq_remove: 0.0</br>word_freq_internet: 1.85</br>word_freq_order: 0.0</br>word_freq_mail: 0.0</br>word_freq_receive: 0.0</br>word_freq_will: 0.0</br>word_freq_people: 0.0</br>word_freq_report: 0.0</br>word_freq_addresses: 0.0</br>word_freq_free: 0.0</br>word_freq_business: 0.0</br>... too many variables"
          ],
          [
           "</br>id: 5</br>prediction: 0.508</br>capital_run_length_average: 948.2900000000001</br></br>word_freq_make: 0.0</br>word_freq_address: 0.0</br>word_freq_all: 0.0</br>word_freq_3d: 0.0</br>word_freq_our: 1.85</br>word_freq_over: 0.0</br>word_freq_remove: 0.0</br>word_freq_internet: 1.85</br>word_freq_order: 0.0</br>word_freq_mail: 0.0</br>word_freq_receive: 0.0</br>word_freq_will: 0.0</br>word_freq_people: 0.0</br>word_freq_report: 0.0</br>word_freq_addresses: 0.0</br>word_freq_free: 0.0</br>word_freq_business: 0.0</br>... too many variables"
          ],
          [
           "</br>id: 5</br>prediction: 0.508</br>capital_run_length_average: 959.3050000000001</br></br>word_freq_make: 0.0</br>word_freq_address: 0.0</br>word_freq_all: 0.0</br>word_freq_3d: 0.0</br>word_freq_our: 1.85</br>word_freq_over: 0.0</br>word_freq_remove: 0.0</br>word_freq_internet: 1.85</br>word_freq_order: 0.0</br>word_freq_mail: 0.0</br>word_freq_receive: 0.0</br>word_freq_will: 0.0</br>word_freq_people: 0.0</br>word_freq_report: 0.0</br>word_freq_addresses: 0.0</br>word_freq_free: 0.0</br>word_freq_business: 0.0</br>... too many variables"
          ],
          [
           "</br>id: 5</br>prediction: 0.508</br>capital_run_length_average: 970.32</br></br>word_freq_make: 0.0</br>word_freq_address: 0.0</br>word_freq_all: 0.0</br>word_freq_3d: 0.0</br>word_freq_our: 1.85</br>word_freq_over: 0.0</br>word_freq_remove: 0.0</br>word_freq_internet: 1.85</br>word_freq_order: 0.0</br>word_freq_mail: 0.0</br>word_freq_receive: 0.0</br>word_freq_will: 0.0</br>word_freq_people: 0.0</br>word_freq_report: 0.0</br>word_freq_addresses: 0.0</br>word_freq_free: 0.0</br>word_freq_business: 0.0</br>... too many variables"
          ],
          [
           "</br>id: 5</br>prediction: 0.508</br>capital_run_length_average: 981.335</br></br>word_freq_make: 0.0</br>word_freq_address: 0.0</br>word_freq_all: 0.0</br>word_freq_3d: 0.0</br>word_freq_our: 1.85</br>word_freq_over: 0.0</br>word_freq_remove: 0.0</br>word_freq_internet: 1.85</br>word_freq_order: 0.0</br>word_freq_mail: 0.0</br>word_freq_receive: 0.0</br>word_freq_will: 0.0</br>word_freq_people: 0.0</br>word_freq_report: 0.0</br>word_freq_addresses: 0.0</br>word_freq_free: 0.0</br>word_freq_business: 0.0</br>... too many variables"
          ],
          [
           "</br>id: 5</br>prediction: 0.508</br>capital_run_length_average: 992.35</br></br>word_freq_make: 0.0</br>word_freq_address: 0.0</br>word_freq_all: 0.0</br>word_freq_3d: 0.0</br>word_freq_our: 1.85</br>word_freq_over: 0.0</br>word_freq_remove: 0.0</br>word_freq_internet: 1.85</br>word_freq_order: 0.0</br>word_freq_mail: 0.0</br>word_freq_receive: 0.0</br>word_freq_will: 0.0</br>word_freq_people: 0.0</br>word_freq_report: 0.0</br>word_freq_addresses: 0.0</br>word_freq_free: 0.0</br>word_freq_business: 0.0</br>... too many variables"
          ],
          [
           "</br>id: 5</br>prediction: 0.508</br>capital_run_length_average: 1003.365</br></br>word_freq_make: 0.0</br>word_freq_address: 0.0</br>word_freq_all: 0.0</br>word_freq_3d: 0.0</br>word_freq_our: 1.85</br>word_freq_over: 0.0</br>word_freq_remove: 0.0</br>word_freq_internet: 1.85</br>word_freq_order: 0.0</br>word_freq_mail: 0.0</br>word_freq_receive: 0.0</br>word_freq_will: 0.0</br>word_freq_people: 0.0</br>word_freq_report: 0.0</br>word_freq_addresses: 0.0</br>word_freq_free: 0.0</br>word_freq_business: 0.0</br>... too many variables"
          ],
          [
           "</br>id: 5</br>prediction: 0.508</br>capital_run_length_average: 1014.3800000000001</br></br>word_freq_make: 0.0</br>word_freq_address: 0.0</br>word_freq_all: 0.0</br>word_freq_3d: 0.0</br>word_freq_our: 1.85</br>word_freq_over: 0.0</br>word_freq_remove: 0.0</br>word_freq_internet: 1.85</br>word_freq_order: 0.0</br>word_freq_mail: 0.0</br>word_freq_receive: 0.0</br>word_freq_will: 0.0</br>word_freq_people: 0.0</br>word_freq_report: 0.0</br>word_freq_addresses: 0.0</br>word_freq_free: 0.0</br>word_freq_business: 0.0</br>... too many variables"
          ],
          [
           "</br>id: 5</br>prediction: 0.508</br>capital_run_length_average: 1025.395</br></br>word_freq_make: 0.0</br>word_freq_address: 0.0</br>word_freq_all: 0.0</br>word_freq_3d: 0.0</br>word_freq_our: 1.85</br>word_freq_over: 0.0</br>word_freq_remove: 0.0</br>word_freq_internet: 1.85</br>word_freq_order: 0.0</br>word_freq_mail: 0.0</br>word_freq_receive: 0.0</br>word_freq_will: 0.0</br>word_freq_people: 0.0</br>word_freq_report: 0.0</br>word_freq_addresses: 0.0</br>word_freq_free: 0.0</br>word_freq_business: 0.0</br>... too many variables"
          ],
          [
           "</br>id: 5</br>prediction: 0.508</br>capital_run_length_average: 1036.41</br></br>word_freq_make: 0.0</br>word_freq_address: 0.0</br>word_freq_all: 0.0</br>word_freq_3d: 0.0</br>word_freq_our: 1.85</br>word_freq_over: 0.0</br>word_freq_remove: 0.0</br>word_freq_internet: 1.85</br>word_freq_order: 0.0</br>word_freq_mail: 0.0</br>word_freq_receive: 0.0</br>word_freq_will: 0.0</br>word_freq_people: 0.0</br>word_freq_report: 0.0</br>word_freq_addresses: 0.0</br>word_freq_free: 0.0</br>word_freq_business: 0.0</br>... too many variables"
          ],
          [
           "</br>id: 5</br>prediction: 0.508</br>capital_run_length_average: 1047.425</br></br>word_freq_make: 0.0</br>word_freq_address: 0.0</br>word_freq_all: 0.0</br>word_freq_3d: 0.0</br>word_freq_our: 1.85</br>word_freq_over: 0.0</br>word_freq_remove: 0.0</br>word_freq_internet: 1.85</br>word_freq_order: 0.0</br>word_freq_mail: 0.0</br>word_freq_receive: 0.0</br>word_freq_will: 0.0</br>word_freq_people: 0.0</br>word_freq_report: 0.0</br>word_freq_addresses: 0.0</br>word_freq_free: 0.0</br>word_freq_business: 0.0</br>... too many variables"
          ],
          [
           "</br>id: 5</br>prediction: 0.508</br>capital_run_length_average: 1058.44</br></br>word_freq_make: 0.0</br>word_freq_address: 0.0</br>word_freq_all: 0.0</br>word_freq_3d: 0.0</br>word_freq_our: 1.85</br>word_freq_over: 0.0</br>word_freq_remove: 0.0</br>word_freq_internet: 1.85</br>word_freq_order: 0.0</br>word_freq_mail: 0.0</br>word_freq_receive: 0.0</br>word_freq_will: 0.0</br>word_freq_people: 0.0</br>word_freq_report: 0.0</br>word_freq_addresses: 0.0</br>word_freq_free: 0.0</br>word_freq_business: 0.0</br>... too many variables"
          ],
          [
           "</br>id: 5</br>prediction: 0.508</br>capital_run_length_average: 1069.4550000000002</br></br>word_freq_make: 0.0</br>word_freq_address: 0.0</br>word_freq_all: 0.0</br>word_freq_3d: 0.0</br>word_freq_our: 1.85</br>word_freq_over: 0.0</br>word_freq_remove: 0.0</br>word_freq_internet: 1.85</br>word_freq_order: 0.0</br>word_freq_mail: 0.0</br>word_freq_receive: 0.0</br>word_freq_will: 0.0</br>word_freq_people: 0.0</br>word_freq_report: 0.0</br>word_freq_addresses: 0.0</br>word_freq_free: 0.0</br>word_freq_business: 0.0</br>... too many variables"
          ],
          [
           "</br>id: 5</br>prediction: 0.508</br>capital_run_length_average: 1080.47</br></br>word_freq_make: 0.0</br>word_freq_address: 0.0</br>word_freq_all: 0.0</br>word_freq_3d: 0.0</br>word_freq_our: 1.85</br>word_freq_over: 0.0</br>word_freq_remove: 0.0</br>word_freq_internet: 1.85</br>word_freq_order: 0.0</br>word_freq_mail: 0.0</br>word_freq_receive: 0.0</br>word_freq_will: 0.0</br>word_freq_people: 0.0</br>word_freq_report: 0.0</br>word_freq_addresses: 0.0</br>word_freq_free: 0.0</br>word_freq_business: 0.0</br>... too many variables"
          ],
          [
           "</br>id: 5</br>prediction: 0.508</br>capital_run_length_average: 1091.4850000000001</br></br>word_freq_make: 0.0</br>word_freq_address: 0.0</br>word_freq_all: 0.0</br>word_freq_3d: 0.0</br>word_freq_our: 1.85</br>word_freq_over: 0.0</br>word_freq_remove: 0.0</br>word_freq_internet: 1.85</br>word_freq_order: 0.0</br>word_freq_mail: 0.0</br>word_freq_receive: 0.0</br>word_freq_will: 0.0</br>word_freq_people: 0.0</br>word_freq_report: 0.0</br>word_freq_addresses: 0.0</br>word_freq_free: 0.0</br>word_freq_business: 0.0</br>... too many variables"
          ],
          [
           "</br>id: 5</br>prediction: 0.508</br>capital_run_length_average: 1102.5</br></br>word_freq_make: 0.0</br>word_freq_address: 0.0</br>word_freq_all: 0.0</br>word_freq_3d: 0.0</br>word_freq_our: 1.85</br>word_freq_over: 0.0</br>word_freq_remove: 0.0</br>word_freq_internet: 1.85</br>word_freq_order: 0.0</br>word_freq_mail: 0.0</br>word_freq_receive: 0.0</br>word_freq_will: 0.0</br>word_freq_people: 0.0</br>word_freq_report: 0.0</br>word_freq_addresses: 0.0</br>word_freq_free: 0.0</br>word_freq_business: 0.0</br>... too many variables"
          ]
         ],
         "hovertemplate": "%{customdata[0]}<extra></extra>",
         "legendgroup": "RandomForestClassifier",
         "line": {
          "color": "#46bac2",
          "dash": "solid",
          "width": 2
         },
         "marker": {
          "symbol": "circle"
         },
         "mode": "lines",
         "name": "RandomForestClassifier",
         "orientation": "v",
         "showlegend": false,
         "x": [
          1.0,
          3.0,
          3.537,
          12.015,
          23.03,
          34.045,
          45.06,
          56.075,
          67.09,
          78.105,
          89.12,
          100.135,
          111.15,
          122.165,
          133.18,
          144.195,
          155.21,
          166.22500000000002,
          177.24,
          188.255,
          199.27,
          210.28500000000003,
          221.3,
          232.315,
          243.33,
          254.34500000000003,
          265.36,
          276.375,
          287.39,
          298.40500000000003,
          309.42,
          320.435,
          331.45000000000005,
          342.46500000000003,
          353.48,
          364.495,
          375.51,
          386.52500000000003,
          397.54,
          408.555,
          419.57000000000005,
          430.58500000000004,
          441.6,
          452.615,
          463.63,
          474.64500000000004,
          485.66,
          496.675,
          507.69000000000005,
          518.705,
          529.72,
          540.735,
          551.75,
          562.765,
          573.78,
          584.7950000000001,
          595.8100000000001,
          606.825,
          617.84,
          628.855,
          639.87,
          650.885,
          661.9000000000001,
          672.9150000000001,
          683.9300000000001,
          694.945,
          705.96,
          716.975,
          727.99,
          739.005,
          750.02,
          761.0350000000001,
          772.0500000000001,
          783.065,
          794.08,
          805.095,
          816.11,
          827.125,
          838.1400000000001,
          849.1550000000001,
          860.1700000000001,
          871.1850000000001,
          882.2,
          893.215,
          904.23,
          915.245,
          926.26,
          937.2750000000001,
          948.2900000000001,
          959.3050000000001,
          970.32,
          981.335,
          992.35,
          1003.365,
          1014.3800000000001,
          1025.395,
          1036.41,
          1047.425,
          1058.44,
          1069.4550000000002,
          1080.47,
          1091.4850000000001,
          1102.5
         ],
         "xaxis": "x2",
         "y": [
          0.1805418803027635,
          0.28840994237299195,
          0.31717485066382,
          0.464655539689579,
          0.5093970277006536,
          0.5130537441185641,
          0.5080537441185641,
          0.5080537441185641,
          0.5080537441185641,
          0.5080537441185641,
          0.5080537441185641,
          0.5080537441185641,
          0.5080537441185641,
          0.5080537441185641,
          0.5080537441185641,
          0.5080537441185641,
          0.5080537441185641,
          0.5080537441185641,
          0.5080537441185641,
          0.5080537441185641,
          0.5080537441185641,
          0.5080537441185641,
          0.5080537441185641,
          0.5080537441185641,
          0.5080537441185641,
          0.5080537441185641,
          0.5080537441185641,
          0.5080537441185641,
          0.5080537441185641,
          0.5080537441185641,
          0.5080537441185641,
          0.5080537441185641,
          0.5080537441185641,
          0.5080537441185641,
          0.5080537441185641,
          0.5080537441185641,
          0.5080537441185641,
          0.5080537441185641,
          0.5080537441185641,
          0.5080537441185641,
          0.5080537441185641,
          0.5080537441185641,
          0.5080537441185641,
          0.5080537441185641,
          0.5080537441185641,
          0.5080537441185641,
          0.5080537441185641,
          0.5080537441185641,
          0.5080537441185641,
          0.5080537441185641,
          0.5080537441185641,
          0.5080537441185641,
          0.5080537441185641,
          0.5080537441185641,
          0.5080537441185641,
          0.5080537441185641,
          0.5080537441185641,
          0.5080537441185641,
          0.5080537441185641,
          0.5080537441185641,
          0.5080537441185641,
          0.5080537441185641,
          0.5080537441185641,
          0.5080537441185641,
          0.5080537441185641,
          0.5080537441185641,
          0.5080537441185641,
          0.5080537441185641,
          0.5080537441185641,
          0.5080537441185641,
          0.5080537441185641,
          0.5080537441185641,
          0.5080537441185641,
          0.5080537441185641,
          0.5080537441185641,
          0.5080537441185641,
          0.5080537441185641,
          0.5080537441185641,
          0.5080537441185641,
          0.5080537441185641,
          0.5080537441185641,
          0.5080537441185641,
          0.5080537441185641,
          0.5080537441185641,
          0.5080537441185641,
          0.5080537441185641,
          0.5080537441185641,
          0.5080537441185641,
          0.5080537441185641,
          0.5080537441185641,
          0.5080537441185641,
          0.5080537441185641,
          0.5080537441185641,
          0.5080537441185641,
          0.5080537441185641,
          0.5080537441185641,
          0.5080537441185641,
          0.5080537441185641,
          0.5080537441185641,
          0.5080537441185641,
          0.5080537441185641,
          0.5080537441185641,
          0.5080537441185641
         ],
         "yaxis": "y2",
         "type": "scatter",
         "opacity": 1
        },
        {
         "customdata": [
          [
           "</br>id: 4</br>prediction: 0.952</br>char_freq_%24: 0.0</br></br>word_freq_make: 0.0</br>word_freq_address: 0.0</br>word_freq_all: 0.0</br>word_freq_3d: 0.0</br>word_freq_our: 0.63</br>word_freq_over: 0.0</br>word_freq_remove: 0.31</br>word_freq_internet: 0.63</br>word_freq_order: 0.31</br>word_freq_mail: 0.63</br>word_freq_receive: 0.31</br>word_freq_will: 0.31</br>word_freq_people: 0.31</br>word_freq_report: 0.0</br>word_freq_addresses: 0.0</br>word_freq_free: 0.31</br>word_freq_business: 0.0</br>... too many variables"
          ],
          [
           "</br>id: 5</br>prediction: 0.288</br>char_freq_%24: 0.0</br></br>word_freq_make: 0.0</br>word_freq_address: 0.0</br>word_freq_all: 0.0</br>word_freq_3d: 0.0</br>word_freq_our: 1.85</br>word_freq_over: 0.0</br>word_freq_remove: 0.0</br>word_freq_internet: 1.85</br>word_freq_order: 0.0</br>word_freq_mail: 0.0</br>word_freq_receive: 0.0</br>word_freq_will: 0.0</br>word_freq_people: 0.0</br>word_freq_report: 0.0</br>word_freq_addresses: 0.0</br>word_freq_free: 0.0</br>word_freq_business: 0.0</br>word_freq_email: 0.0</br>... too many variables"
          ]
         ],
         "hovertemplate": "%{customdata[0]}<extra></extra>",
         "legendgroup": "",
         "marker": {
          "color": "#371ea3",
          "size": 10,
          "symbol": "circle"
         },
         "mode": "markers",
         "name": "",
         "opacity": 1,
         "orientation": "v",
         "showlegend": false,
         "x": [
          0.0,
          0.0
         ],
         "xaxis": "x",
         "y": [
          0.9523912599255716,
          0.28840994237299195
         ],
         "yaxis": "y",
         "type": "scatter"
        },
        {
         "customdata": [
          [
           "</br>id: 4</br>prediction: 0.952</br>capital_run_length_average: 3.537</br></br>word_freq_make: 0.0</br>word_freq_address: 0.0</br>word_freq_all: 0.0</br>word_freq_3d: 0.0</br>word_freq_our: 0.63</br>word_freq_over: 0.0</br>word_freq_remove: 0.31</br>word_freq_internet: 0.63</br>word_freq_order: 0.31</br>word_freq_mail: 0.63</br>word_freq_receive: 0.31</br>word_freq_will: 0.31</br>word_freq_people: 0.31</br>word_freq_report: 0.0</br>word_freq_addresses: 0.0</br>word_freq_free: 0.31</br>word_freq_business: 0.0</br>... too many variables"
          ],
          [
           "</br>id: 5</br>prediction: 0.288</br>capital_run_length_average: 3.0</br></br>word_freq_make: 0.0</br>word_freq_address: 0.0</br>word_freq_all: 0.0</br>word_freq_3d: 0.0</br>word_freq_our: 1.85</br>word_freq_over: 0.0</br>word_freq_remove: 0.0</br>word_freq_internet: 1.85</br>word_freq_order: 0.0</br>word_freq_mail: 0.0</br>word_freq_receive: 0.0</br>word_freq_will: 0.0</br>word_freq_people: 0.0</br>word_freq_report: 0.0</br>word_freq_addresses: 0.0</br>word_freq_free: 0.0</br>word_freq_business: 0.0</br>... too many variables"
          ]
         ],
         "hovertemplate": "%{customdata[0]}<extra></extra>",
         "legendgroup": "",
         "marker": {
          "color": "#371ea3",
          "size": 10,
          "symbol": "circle"
         },
         "mode": "markers",
         "name": "",
         "opacity": 1,
         "orientation": "v",
         "showlegend": false,
         "x": [
          3.537,
          3.0
         ],
         "xaxis": "x2",
         "y": [
          0.9523912599255716,
          0.28840994237299195
         ],
         "yaxis": "y2",
         "type": "scatter"
        }
       ],
       "layout": {
        "template": {
         "data": {
          "scatter": [
           {
            "type": "scatter"
           }
          ]
         }
        },
        "xaxis": {
         "anchor": "y",
         "domain": [
          0.0,
          0.475
         ],
         "title": {
          "text": ""
         },
         "showticklabels": true,
         "type": "linear",
         "gridwidth": 2,
         "zeroline": false,
         "automargin": true,
         "ticks": "outside",
         "tickcolor": "white",
         "ticklen": 3,
         "fixedrange": true
        },
        "yaxis": {
         "anchor": "x",
         "domain": [
          0.0,
          1.0
         ],
         "title": {
          "text": ""
         },
         "type": "linear",
         "gridwidth": 2,
         "zeroline": false,
         "automargin": true,
         "ticks": "outside",
         "tickcolor": "white",
         "ticklen": 3,
         "fixedrange": true,
         "range": [
          0.10175220907101923,
          1.0472282638519503
         ]
        },
        "xaxis2": {
         "anchor": "y2",
         "domain": [
          0.525,
          1.0
         ],
         "title": {
          "text": ""
         },
         "showticklabels": true,
         "type": "linear",
         "gridwidth": 2,
         "zeroline": false,
         "automargin": true,
         "ticks": "outside",
         "tickcolor": "white",
         "ticklen": 3,
         "fixedrange": true
        },
        "yaxis2": {
         "anchor": "x2",
         "domain": [
          0.0,
          1.0
         ],
         "matches": "y",
         "showticklabels": false,
         "type": "linear",
         "gridwidth": 2,
         "zeroline": false,
         "automargin": true,
         "ticks": "outside",
         "tickcolor": "white",
         "ticklen": 3,
         "fixedrange": true,
         "range": [
          0.10175220907101923,
          1.0472282638519503
         ],
         "title": {
          "text": ""
         }
        },
        "annotations": [
         {
          "font": {
           "size": 13
          },
          "showarrow": false,
          "text": "char_freq_%24",
          "x": 0.2375,
          "xanchor": "center",
          "xref": "paper",
          "y": 1.0,
          "yanchor": "bottom",
          "yref": "paper"
         },
         {
          "font": {
           "size": 13
          },
          "showarrow": false,
          "text": "capital_run_length_average",
          "x": 0.7625,
          "xanchor": "center",
          "xref": "paper",
          "y": 1.0,
          "yanchor": "bottom",
          "yref": "paper"
         },
         {
          "font": {
           "size": 13
          },
          "showarrow": false,
          "text": "prediction",
          "textangle": -90,
          "x": -0.07,
          "xref": "paper",
          "y": 0.5,
          "yref": "paper"
         }
        ],
        "legend": {
         "title": {
          "text": "label",
          "font": {
           "size": 12
          }
         },
         "tracegroupgap": 0,
         "font": {
          "size": 11
         },
         "orientation": "h",
         "yanchor": "bottom",
         "y": 1.0613496932515338,
         "xanchor": "right",
         "x": 1,
         "itemsizing": "constant"
        },
        "margin": {
         "t": 78,
         "b": 71,
         "r": 30
        },
        "font": {
         "color": "#371ea3"
        },
        "title": {
         "font": {
          "size": 16
         },
         "text": "Ceteris Paribus Profiles",
         "x": 0.15
        },
        "hovermode": "closest",
        "height": 489,
        "hoverlabel": {
         "bgcolor": "rgba(0,0,0,0.8)"
        }
       },
       "config": {
        "displaylogo": false,
        "staticPlot": false,
        "toImageButtonOptions": {
         "height": null,
         "width": null
        },
        "modeBarButtonsToRemove": [
         "sendDataToCloud",
         "lasso2d",
         "autoScale2d",
         "select2d",
         "zoom2d",
         "pan2d",
         "zoomIn2d",
         "zoomOut2d",
         "resetScale2d",
         "toggleSpikelines",
         "hoverCompareCartesian",
         "hoverClosestCartesian"
        ],
        "plotlyServerURL": "https://plot.ly"
       }
      },
      "text/html": "<div>                            <div id=\"37e6ff18-9384-42da-b2c3-664e1e93706c\" class=\"plotly-graph-div\" style=\"height:489px; width:100%;\"></div>            <script type=\"text/javascript\">                require([\"plotly\"], function(Plotly) {                    window.PLOTLYENV=window.PLOTLYENV || {};                                    if (document.getElementById(\"37e6ff18-9384-42da-b2c3-664e1e93706c\")) {                    Plotly.newPlot(                        \"37e6ff18-9384-42da-b2c3-664e1e93706c\",                        [{\"customdata\":[[\"</br>id: 4</br>prediction: 0.952</br>char_freq_%24: 0.0</br></br>word_freq_make: 0.0</br>word_freq_address: 0.0</br>word_freq_all: 0.0</br>word_freq_3d: 0.0</br>word_freq_our: 0.63</br>word_freq_over: 0.0</br>word_freq_remove: 0.31</br>word_freq_internet: 0.63</br>word_freq_order: 0.31</br>word_freq_mail: 0.63</br>word_freq_receive: 0.31</br>word_freq_will: 0.31</br>word_freq_people: 0.31</br>word_freq_report: 0.0</br>word_freq_addresses: 0.0</br>word_freq_free: 0.31</br>word_freq_business: 0.0</br>... too many variables\"],[\"</br>id: 4</br>prediction: 0.962</br>char_freq_%24: 0.06003</br></br>word_freq_make: 0.0</br>word_freq_address: 0.0</br>word_freq_all: 0.0</br>word_freq_3d: 0.0</br>word_freq_our: 0.63</br>word_freq_over: 0.0</br>word_freq_remove: 0.31</br>word_freq_internet: 0.63</br>word_freq_order: 0.31</br>word_freq_mail: 0.63</br>word_freq_receive: 0.31</br>word_freq_will: 0.31</br>word_freq_people: 0.31</br>word_freq_report: 0.0</br>word_freq_addresses: 0.0</br>word_freq_free: 0.31</br>word_freq_business: 0.0</br>... too many variables\"],[\"</br>id: 4</br>prediction: 0.964</br>char_freq_%24: 0.12006</br></br>word_freq_make: 0.0</br>word_freq_address: 0.0</br>word_freq_all: 0.0</br>word_freq_3d: 0.0</br>word_freq_our: 0.63</br>word_freq_over: 0.0</br>word_freq_remove: 0.31</br>word_freq_internet: 0.63</br>word_freq_order: 0.31</br>word_freq_mail: 0.63</br>word_freq_receive: 0.31</br>word_freq_will: 0.31</br>word_freq_people: 0.31</br>word_freq_report: 0.0</br>word_freq_addresses: 0.0</br>word_freq_free: 0.31</br>word_freq_business: 0.0</br>... too many variables\"],[\"</br>id: 4</br>prediction: 0.968</br>char_freq_%24: 0.18009</br></br>word_freq_make: 0.0</br>word_freq_address: 0.0</br>word_freq_all: 0.0</br>word_freq_3d: 0.0</br>word_freq_our: 0.63</br>word_freq_over: 0.0</br>word_freq_remove: 0.31</br>word_freq_internet: 0.63</br>word_freq_order: 0.31</br>word_freq_mail: 0.63</br>word_freq_receive: 0.31</br>word_freq_will: 0.31</br>word_freq_people: 0.31</br>word_freq_report: 0.0</br>word_freq_addresses: 0.0</br>word_freq_free: 0.31</br>word_freq_business: 0.0</br>... too many variables\"],[\"</br>id: 4</br>prediction: 0.968</br>char_freq_%24: 0.24012</br></br>word_freq_make: 0.0</br>word_freq_address: 0.0</br>word_freq_all: 0.0</br>word_freq_3d: 0.0</br>word_freq_our: 0.63</br>word_freq_over: 0.0</br>word_freq_remove: 0.31</br>word_freq_internet: 0.63</br>word_freq_order: 0.31</br>word_freq_mail: 0.63</br>word_freq_receive: 0.31</br>word_freq_will: 0.31</br>word_freq_people: 0.31</br>word_freq_report: 0.0</br>word_freq_addresses: 0.0</br>word_freq_free: 0.31</br>word_freq_business: 0.0</br>... too many variables\"],[\"</br>id: 4</br>prediction: 0.968</br>char_freq_%24: 0.30015000000000003</br></br>word_freq_make: 0.0</br>word_freq_address: 0.0</br>word_freq_all: 0.0</br>word_freq_3d: 0.0</br>word_freq_our: 0.63</br>word_freq_over: 0.0</br>word_freq_remove: 0.31</br>word_freq_internet: 0.63</br>word_freq_order: 0.31</br>word_freq_mail: 0.63</br>word_freq_receive: 0.31</br>word_freq_will: 0.31</br>word_freq_people: 0.31</br>word_freq_report: 0.0</br>word_freq_addresses: 0.0</br>word_freq_free: 0.31</br>word_freq_business: 0.0</br>... too many variables\"],[\"</br>id: 4</br>prediction: 0.968</br>char_freq_%24: 0.36018</br></br>word_freq_make: 0.0</br>word_freq_address: 0.0</br>word_freq_all: 0.0</br>word_freq_3d: 0.0</br>word_freq_our: 0.63</br>word_freq_over: 0.0</br>word_freq_remove: 0.31</br>word_freq_internet: 0.63</br>word_freq_order: 0.31</br>word_freq_mail: 0.63</br>word_freq_receive: 0.31</br>word_freq_will: 0.31</br>word_freq_people: 0.31</br>word_freq_report: 0.0</br>word_freq_addresses: 0.0</br>word_freq_free: 0.31</br>word_freq_business: 0.0</br>... too many variables\"],[\"</br>id: 4</br>prediction: 0.968</br>char_freq_%24: 0.42021</br></br>word_freq_make: 0.0</br>word_freq_address: 0.0</br>word_freq_all: 0.0</br>word_freq_3d: 0.0</br>word_freq_our: 0.63</br>word_freq_over: 0.0</br>word_freq_remove: 0.31</br>word_freq_internet: 0.63</br>word_freq_order: 0.31</br>word_freq_mail: 0.63</br>word_freq_receive: 0.31</br>word_freq_will: 0.31</br>word_freq_people: 0.31</br>word_freq_report: 0.0</br>word_freq_addresses: 0.0</br>word_freq_free: 0.31</br>word_freq_business: 0.0</br>... too many variables\"],[\"</br>id: 4</br>prediction: 0.968</br>char_freq_%24: 0.48024</br></br>word_freq_make: 0.0</br>word_freq_address: 0.0</br>word_freq_all: 0.0</br>word_freq_3d: 0.0</br>word_freq_our: 0.63</br>word_freq_over: 0.0</br>word_freq_remove: 0.31</br>word_freq_internet: 0.63</br>word_freq_order: 0.31</br>word_freq_mail: 0.63</br>word_freq_receive: 0.31</br>word_freq_will: 0.31</br>word_freq_people: 0.31</br>word_freq_report: 0.0</br>word_freq_addresses: 0.0</br>word_freq_free: 0.31</br>word_freq_business: 0.0</br>... too many variables\"],[\"</br>id: 4</br>prediction: 0.968</br>char_freq_%24: 0.54027</br></br>word_freq_make: 0.0</br>word_freq_address: 0.0</br>word_freq_all: 0.0</br>word_freq_3d: 0.0</br>word_freq_our: 0.63</br>word_freq_over: 0.0</br>word_freq_remove: 0.31</br>word_freq_internet: 0.63</br>word_freq_order: 0.31</br>word_freq_mail: 0.63</br>word_freq_receive: 0.31</br>word_freq_will: 0.31</br>word_freq_people: 0.31</br>word_freq_report: 0.0</br>word_freq_addresses: 0.0</br>word_freq_free: 0.31</br>word_freq_business: 0.0</br>... too many variables\"],[\"</br>id: 4</br>prediction: 0.968</br>char_freq_%24: 0.6003000000000001</br></br>word_freq_make: 0.0</br>word_freq_address: 0.0</br>word_freq_all: 0.0</br>word_freq_3d: 0.0</br>word_freq_our: 0.63</br>word_freq_over: 0.0</br>word_freq_remove: 0.31</br>word_freq_internet: 0.63</br>word_freq_order: 0.31</br>word_freq_mail: 0.63</br>word_freq_receive: 0.31</br>word_freq_will: 0.31</br>word_freq_people: 0.31</br>word_freq_report: 0.0</br>word_freq_addresses: 0.0</br>word_freq_free: 0.31</br>word_freq_business: 0.0</br>... too many variables\"],[\"</br>id: 4</br>prediction: 0.968</br>char_freq_%24: 0.66033</br></br>word_freq_make: 0.0</br>word_freq_address: 0.0</br>word_freq_all: 0.0</br>word_freq_3d: 0.0</br>word_freq_our: 0.63</br>word_freq_over: 0.0</br>word_freq_remove: 0.31</br>word_freq_internet: 0.63</br>word_freq_order: 0.31</br>word_freq_mail: 0.63</br>word_freq_receive: 0.31</br>word_freq_will: 0.31</br>word_freq_people: 0.31</br>word_freq_report: 0.0</br>word_freq_addresses: 0.0</br>word_freq_free: 0.31</br>word_freq_business: 0.0</br>... too many variables\"],[\"</br>id: 4</br>prediction: 0.968</br>char_freq_%24: 0.72036</br></br>word_freq_make: 0.0</br>word_freq_address: 0.0</br>word_freq_all: 0.0</br>word_freq_3d: 0.0</br>word_freq_our: 0.63</br>word_freq_over: 0.0</br>word_freq_remove: 0.31</br>word_freq_internet: 0.63</br>word_freq_order: 0.31</br>word_freq_mail: 0.63</br>word_freq_receive: 0.31</br>word_freq_will: 0.31</br>word_freq_people: 0.31</br>word_freq_report: 0.0</br>word_freq_addresses: 0.0</br>word_freq_free: 0.31</br>word_freq_business: 0.0</br>... too many variables\"],[\"</br>id: 4</br>prediction: 0.968</br>char_freq_%24: 0.78039</br></br>word_freq_make: 0.0</br>word_freq_address: 0.0</br>word_freq_all: 0.0</br>word_freq_3d: 0.0</br>word_freq_our: 0.63</br>word_freq_over: 0.0</br>word_freq_remove: 0.31</br>word_freq_internet: 0.63</br>word_freq_order: 0.31</br>word_freq_mail: 0.63</br>word_freq_receive: 0.31</br>word_freq_will: 0.31</br>word_freq_people: 0.31</br>word_freq_report: 0.0</br>word_freq_addresses: 0.0</br>word_freq_free: 0.31</br>word_freq_business: 0.0</br>... too many variables\"],[\"</br>id: 4</br>prediction: 0.968</br>char_freq_%24: 0.84042</br></br>word_freq_make: 0.0</br>word_freq_address: 0.0</br>word_freq_all: 0.0</br>word_freq_3d: 0.0</br>word_freq_our: 0.63</br>word_freq_over: 0.0</br>word_freq_remove: 0.31</br>word_freq_internet: 0.63</br>word_freq_order: 0.31</br>word_freq_mail: 0.63</br>word_freq_receive: 0.31</br>word_freq_will: 0.31</br>word_freq_people: 0.31</br>word_freq_report: 0.0</br>word_freq_addresses: 0.0</br>word_freq_free: 0.31</br>word_freq_business: 0.0</br>... too many variables\"],[\"</br>id: 4</br>prediction: 0.968</br>char_freq_%24: 0.90045</br></br>word_freq_make: 0.0</br>word_freq_address: 0.0</br>word_freq_all: 0.0</br>word_freq_3d: 0.0</br>word_freq_our: 0.63</br>word_freq_over: 0.0</br>word_freq_remove: 0.31</br>word_freq_internet: 0.63</br>word_freq_order: 0.31</br>word_freq_mail: 0.63</br>word_freq_receive: 0.31</br>word_freq_will: 0.31</br>word_freq_people: 0.31</br>word_freq_report: 0.0</br>word_freq_addresses: 0.0</br>word_freq_free: 0.31</br>word_freq_business: 0.0</br>... too many variables\"],[\"</br>id: 4</br>prediction: 0.968</br>char_freq_%24: 0.96048</br></br>word_freq_make: 0.0</br>word_freq_address: 0.0</br>word_freq_all: 0.0</br>word_freq_3d: 0.0</br>word_freq_our: 0.63</br>word_freq_over: 0.0</br>word_freq_remove: 0.31</br>word_freq_internet: 0.63</br>word_freq_order: 0.31</br>word_freq_mail: 0.63</br>word_freq_receive: 0.31</br>word_freq_will: 0.31</br>word_freq_people: 0.31</br>word_freq_report: 0.0</br>word_freq_addresses: 0.0</br>word_freq_free: 0.31</br>word_freq_business: 0.0</br>... too many variables\"],[\"</br>id: 4</br>prediction: 0.968</br>char_freq_%24: 1.02051</br></br>word_freq_make: 0.0</br>word_freq_address: 0.0</br>word_freq_all: 0.0</br>word_freq_3d: 0.0</br>word_freq_our: 0.63</br>word_freq_over: 0.0</br>word_freq_remove: 0.31</br>word_freq_internet: 0.63</br>word_freq_order: 0.31</br>word_freq_mail: 0.63</br>word_freq_receive: 0.31</br>word_freq_will: 0.31</br>word_freq_people: 0.31</br>word_freq_report: 0.0</br>word_freq_addresses: 0.0</br>word_freq_free: 0.31</br>word_freq_business: 0.0</br>... too many variables\"],[\"</br>id: 4</br>prediction: 0.968</br>char_freq_%24: 1.08054</br></br>word_freq_make: 0.0</br>word_freq_address: 0.0</br>word_freq_all: 0.0</br>word_freq_3d: 0.0</br>word_freq_our: 0.63</br>word_freq_over: 0.0</br>word_freq_remove: 0.31</br>word_freq_internet: 0.63</br>word_freq_order: 0.31</br>word_freq_mail: 0.63</br>word_freq_receive: 0.31</br>word_freq_will: 0.31</br>word_freq_people: 0.31</br>word_freq_report: 0.0</br>word_freq_addresses: 0.0</br>word_freq_free: 0.31</br>word_freq_business: 0.0</br>... too many variables\"],[\"</br>id: 4</br>prediction: 0.968</br>char_freq_%24: 1.14057</br></br>word_freq_make: 0.0</br>word_freq_address: 0.0</br>word_freq_all: 0.0</br>word_freq_3d: 0.0</br>word_freq_our: 0.63</br>word_freq_over: 0.0</br>word_freq_remove: 0.31</br>word_freq_internet: 0.63</br>word_freq_order: 0.31</br>word_freq_mail: 0.63</br>word_freq_receive: 0.31</br>word_freq_will: 0.31</br>word_freq_people: 0.31</br>word_freq_report: 0.0</br>word_freq_addresses: 0.0</br>word_freq_free: 0.31</br>word_freq_business: 0.0</br>... too many variables\"],[\"</br>id: 4</br>prediction: 0.968</br>char_freq_%24: 1.2006000000000001</br></br>word_freq_make: 0.0</br>word_freq_address: 0.0</br>word_freq_all: 0.0</br>word_freq_3d: 0.0</br>word_freq_our: 0.63</br>word_freq_over: 0.0</br>word_freq_remove: 0.31</br>word_freq_internet: 0.63</br>word_freq_order: 0.31</br>word_freq_mail: 0.63</br>word_freq_receive: 0.31</br>word_freq_will: 0.31</br>word_freq_people: 0.31</br>word_freq_report: 0.0</br>word_freq_addresses: 0.0</br>word_freq_free: 0.31</br>word_freq_business: 0.0</br>... too many variables\"],[\"</br>id: 4</br>prediction: 0.968</br>char_freq_%24: 1.26063</br></br>word_freq_make: 0.0</br>word_freq_address: 0.0</br>word_freq_all: 0.0</br>word_freq_3d: 0.0</br>word_freq_our: 0.63</br>word_freq_over: 0.0</br>word_freq_remove: 0.31</br>word_freq_internet: 0.63</br>word_freq_order: 0.31</br>word_freq_mail: 0.63</br>word_freq_receive: 0.31</br>word_freq_will: 0.31</br>word_freq_people: 0.31</br>word_freq_report: 0.0</br>word_freq_addresses: 0.0</br>word_freq_free: 0.31</br>word_freq_business: 0.0</br>... too many variables\"],[\"</br>id: 4</br>prediction: 0.968</br>char_freq_%24: 1.32066</br></br>word_freq_make: 0.0</br>word_freq_address: 0.0</br>word_freq_all: 0.0</br>word_freq_3d: 0.0</br>word_freq_our: 0.63</br>word_freq_over: 0.0</br>word_freq_remove: 0.31</br>word_freq_internet: 0.63</br>word_freq_order: 0.31</br>word_freq_mail: 0.63</br>word_freq_receive: 0.31</br>word_freq_will: 0.31</br>word_freq_people: 0.31</br>word_freq_report: 0.0</br>word_freq_addresses: 0.0</br>word_freq_free: 0.31</br>word_freq_business: 0.0</br>... too many variables\"],[\"</br>id: 4</br>prediction: 0.968</br>char_freq_%24: 1.38069</br></br>word_freq_make: 0.0</br>word_freq_address: 0.0</br>word_freq_all: 0.0</br>word_freq_3d: 0.0</br>word_freq_our: 0.63</br>word_freq_over: 0.0</br>word_freq_remove: 0.31</br>word_freq_internet: 0.63</br>word_freq_order: 0.31</br>word_freq_mail: 0.63</br>word_freq_receive: 0.31</br>word_freq_will: 0.31</br>word_freq_people: 0.31</br>word_freq_report: 0.0</br>word_freq_addresses: 0.0</br>word_freq_free: 0.31</br>word_freq_business: 0.0</br>... too many variables\"],[\"</br>id: 4</br>prediction: 0.968</br>char_freq_%24: 1.44072</br></br>word_freq_make: 0.0</br>word_freq_address: 0.0</br>word_freq_all: 0.0</br>word_freq_3d: 0.0</br>word_freq_our: 0.63</br>word_freq_over: 0.0</br>word_freq_remove: 0.31</br>word_freq_internet: 0.63</br>word_freq_order: 0.31</br>word_freq_mail: 0.63</br>word_freq_receive: 0.31</br>word_freq_will: 0.31</br>word_freq_people: 0.31</br>word_freq_report: 0.0</br>word_freq_addresses: 0.0</br>word_freq_free: 0.31</br>word_freq_business: 0.0</br>... too many variables\"],[\"</br>id: 4</br>prediction: 0.968</br>char_freq_%24: 1.50075</br></br>word_freq_make: 0.0</br>word_freq_address: 0.0</br>word_freq_all: 0.0</br>word_freq_3d: 0.0</br>word_freq_our: 0.63</br>word_freq_over: 0.0</br>word_freq_remove: 0.31</br>word_freq_internet: 0.63</br>word_freq_order: 0.31</br>word_freq_mail: 0.63</br>word_freq_receive: 0.31</br>word_freq_will: 0.31</br>word_freq_people: 0.31</br>word_freq_report: 0.0</br>word_freq_addresses: 0.0</br>word_freq_free: 0.31</br>word_freq_business: 0.0</br>... too many variables\"],[\"</br>id: 4</br>prediction: 0.968</br>char_freq_%24: 1.56078</br></br>word_freq_make: 0.0</br>word_freq_address: 0.0</br>word_freq_all: 0.0</br>word_freq_3d: 0.0</br>word_freq_our: 0.63</br>word_freq_over: 0.0</br>word_freq_remove: 0.31</br>word_freq_internet: 0.63</br>word_freq_order: 0.31</br>word_freq_mail: 0.63</br>word_freq_receive: 0.31</br>word_freq_will: 0.31</br>word_freq_people: 0.31</br>word_freq_report: 0.0</br>word_freq_addresses: 0.0</br>word_freq_free: 0.31</br>word_freq_business: 0.0</br>... too many variables\"],[\"</br>id: 4</br>prediction: 0.968</br>char_freq_%24: 1.62081</br></br>word_freq_make: 0.0</br>word_freq_address: 0.0</br>word_freq_all: 0.0</br>word_freq_3d: 0.0</br>word_freq_our: 0.63</br>word_freq_over: 0.0</br>word_freq_remove: 0.31</br>word_freq_internet: 0.63</br>word_freq_order: 0.31</br>word_freq_mail: 0.63</br>word_freq_receive: 0.31</br>word_freq_will: 0.31</br>word_freq_people: 0.31</br>word_freq_report: 0.0</br>word_freq_addresses: 0.0</br>word_freq_free: 0.31</br>word_freq_business: 0.0</br>... too many variables\"],[\"</br>id: 4</br>prediction: 0.968</br>char_freq_%24: 1.68084</br></br>word_freq_make: 0.0</br>word_freq_address: 0.0</br>word_freq_all: 0.0</br>word_freq_3d: 0.0</br>word_freq_our: 0.63</br>word_freq_over: 0.0</br>word_freq_remove: 0.31</br>word_freq_internet: 0.63</br>word_freq_order: 0.31</br>word_freq_mail: 0.63</br>word_freq_receive: 0.31</br>word_freq_will: 0.31</br>word_freq_people: 0.31</br>word_freq_report: 0.0</br>word_freq_addresses: 0.0</br>word_freq_free: 0.31</br>word_freq_business: 0.0</br>... too many variables\"],[\"</br>id: 4</br>prediction: 0.968</br>char_freq_%24: 1.74087</br></br>word_freq_make: 0.0</br>word_freq_address: 0.0</br>word_freq_all: 0.0</br>word_freq_3d: 0.0</br>word_freq_our: 0.63</br>word_freq_over: 0.0</br>word_freq_remove: 0.31</br>word_freq_internet: 0.63</br>word_freq_order: 0.31</br>word_freq_mail: 0.63</br>word_freq_receive: 0.31</br>word_freq_will: 0.31</br>word_freq_people: 0.31</br>word_freq_report: 0.0</br>word_freq_addresses: 0.0</br>word_freq_free: 0.31</br>word_freq_business: 0.0</br>... too many variables\"],[\"</br>id: 4</br>prediction: 0.968</br>char_freq_%24: 1.8009</br></br>word_freq_make: 0.0</br>word_freq_address: 0.0</br>word_freq_all: 0.0</br>word_freq_3d: 0.0</br>word_freq_our: 0.63</br>word_freq_over: 0.0</br>word_freq_remove: 0.31</br>word_freq_internet: 0.63</br>word_freq_order: 0.31</br>word_freq_mail: 0.63</br>word_freq_receive: 0.31</br>word_freq_will: 0.31</br>word_freq_people: 0.31</br>word_freq_report: 0.0</br>word_freq_addresses: 0.0</br>word_freq_free: 0.31</br>word_freq_business: 0.0</br>... too many variables\"],[\"</br>id: 4</br>prediction: 0.968</br>char_freq_%24: 1.86093</br></br>word_freq_make: 0.0</br>word_freq_address: 0.0</br>word_freq_all: 0.0</br>word_freq_3d: 0.0</br>word_freq_our: 0.63</br>word_freq_over: 0.0</br>word_freq_remove: 0.31</br>word_freq_internet: 0.63</br>word_freq_order: 0.31</br>word_freq_mail: 0.63</br>word_freq_receive: 0.31</br>word_freq_will: 0.31</br>word_freq_people: 0.31</br>word_freq_report: 0.0</br>word_freq_addresses: 0.0</br>word_freq_free: 0.31</br>word_freq_business: 0.0</br>... too many variables\"],[\"</br>id: 4</br>prediction: 0.968</br>char_freq_%24: 1.92096</br></br>word_freq_make: 0.0</br>word_freq_address: 0.0</br>word_freq_all: 0.0</br>word_freq_3d: 0.0</br>word_freq_our: 0.63</br>word_freq_over: 0.0</br>word_freq_remove: 0.31</br>word_freq_internet: 0.63</br>word_freq_order: 0.31</br>word_freq_mail: 0.63</br>word_freq_receive: 0.31</br>word_freq_will: 0.31</br>word_freq_people: 0.31</br>word_freq_report: 0.0</br>word_freq_addresses: 0.0</br>word_freq_free: 0.31</br>word_freq_business: 0.0</br>... too many variables\"],[\"</br>id: 4</br>prediction: 0.968</br>char_freq_%24: 1.98099</br></br>word_freq_make: 0.0</br>word_freq_address: 0.0</br>word_freq_all: 0.0</br>word_freq_3d: 0.0</br>word_freq_our: 0.63</br>word_freq_over: 0.0</br>word_freq_remove: 0.31</br>word_freq_internet: 0.63</br>word_freq_order: 0.31</br>word_freq_mail: 0.63</br>word_freq_receive: 0.31</br>word_freq_will: 0.31</br>word_freq_people: 0.31</br>word_freq_report: 0.0</br>word_freq_addresses: 0.0</br>word_freq_free: 0.31</br>word_freq_business: 0.0</br>... too many variables\"],[\"</br>id: 4</br>prediction: 0.968</br>char_freq_%24: 2.04102</br></br>word_freq_make: 0.0</br>word_freq_address: 0.0</br>word_freq_all: 0.0</br>word_freq_3d: 0.0</br>word_freq_our: 0.63</br>word_freq_over: 0.0</br>word_freq_remove: 0.31</br>word_freq_internet: 0.63</br>word_freq_order: 0.31</br>word_freq_mail: 0.63</br>word_freq_receive: 0.31</br>word_freq_will: 0.31</br>word_freq_people: 0.31</br>word_freq_report: 0.0</br>word_freq_addresses: 0.0</br>word_freq_free: 0.31</br>word_freq_business: 0.0</br>... too many variables\"],[\"</br>id: 4</br>prediction: 0.968</br>char_freq_%24: 2.10105</br></br>word_freq_make: 0.0</br>word_freq_address: 0.0</br>word_freq_all: 0.0</br>word_freq_3d: 0.0</br>word_freq_our: 0.63</br>word_freq_over: 0.0</br>word_freq_remove: 0.31</br>word_freq_internet: 0.63</br>word_freq_order: 0.31</br>word_freq_mail: 0.63</br>word_freq_receive: 0.31</br>word_freq_will: 0.31</br>word_freq_people: 0.31</br>word_freq_report: 0.0</br>word_freq_addresses: 0.0</br>word_freq_free: 0.31</br>word_freq_business: 0.0</br>... too many variables\"],[\"</br>id: 4</br>prediction: 0.968</br>char_freq_%24: 2.16108</br></br>word_freq_make: 0.0</br>word_freq_address: 0.0</br>word_freq_all: 0.0</br>word_freq_3d: 0.0</br>word_freq_our: 0.63</br>word_freq_over: 0.0</br>word_freq_remove: 0.31</br>word_freq_internet: 0.63</br>word_freq_order: 0.31</br>word_freq_mail: 0.63</br>word_freq_receive: 0.31</br>word_freq_will: 0.31</br>word_freq_people: 0.31</br>word_freq_report: 0.0</br>word_freq_addresses: 0.0</br>word_freq_free: 0.31</br>word_freq_business: 0.0</br>... too many variables\"],[\"</br>id: 4</br>prediction: 0.968</br>char_freq_%24: 2.22111</br></br>word_freq_make: 0.0</br>word_freq_address: 0.0</br>word_freq_all: 0.0</br>word_freq_3d: 0.0</br>word_freq_our: 0.63</br>word_freq_over: 0.0</br>word_freq_remove: 0.31</br>word_freq_internet: 0.63</br>word_freq_order: 0.31</br>word_freq_mail: 0.63</br>word_freq_receive: 0.31</br>word_freq_will: 0.31</br>word_freq_people: 0.31</br>word_freq_report: 0.0</br>word_freq_addresses: 0.0</br>word_freq_free: 0.31</br>word_freq_business: 0.0</br>... too many variables\"],[\"</br>id: 4</br>prediction: 0.968</br>char_freq_%24: 2.28114</br></br>word_freq_make: 0.0</br>word_freq_address: 0.0</br>word_freq_all: 0.0</br>word_freq_3d: 0.0</br>word_freq_our: 0.63</br>word_freq_over: 0.0</br>word_freq_remove: 0.31</br>word_freq_internet: 0.63</br>word_freq_order: 0.31</br>word_freq_mail: 0.63</br>word_freq_receive: 0.31</br>word_freq_will: 0.31</br>word_freq_people: 0.31</br>word_freq_report: 0.0</br>word_freq_addresses: 0.0</br>word_freq_free: 0.31</br>word_freq_business: 0.0</br>... too many variables\"],[\"</br>id: 4</br>prediction: 0.968</br>char_freq_%24: 2.34117</br></br>word_freq_make: 0.0</br>word_freq_address: 0.0</br>word_freq_all: 0.0</br>word_freq_3d: 0.0</br>word_freq_our: 0.63</br>word_freq_over: 0.0</br>word_freq_remove: 0.31</br>word_freq_internet: 0.63</br>word_freq_order: 0.31</br>word_freq_mail: 0.63</br>word_freq_receive: 0.31</br>word_freq_will: 0.31</br>word_freq_people: 0.31</br>word_freq_report: 0.0</br>word_freq_addresses: 0.0</br>word_freq_free: 0.31</br>word_freq_business: 0.0</br>... too many variables\"],[\"</br>id: 4</br>prediction: 0.968</br>char_freq_%24: 2.4012000000000002</br></br>word_freq_make: 0.0</br>word_freq_address: 0.0</br>word_freq_all: 0.0</br>word_freq_3d: 0.0</br>word_freq_our: 0.63</br>word_freq_over: 0.0</br>word_freq_remove: 0.31</br>word_freq_internet: 0.63</br>word_freq_order: 0.31</br>word_freq_mail: 0.63</br>word_freq_receive: 0.31</br>word_freq_will: 0.31</br>word_freq_people: 0.31</br>word_freq_report: 0.0</br>word_freq_addresses: 0.0</br>word_freq_free: 0.31</br>word_freq_business: 0.0</br>... too many variables\"],[\"</br>id: 4</br>prediction: 0.968</br>char_freq_%24: 2.46123</br></br>word_freq_make: 0.0</br>word_freq_address: 0.0</br>word_freq_all: 0.0</br>word_freq_3d: 0.0</br>word_freq_our: 0.63</br>word_freq_over: 0.0</br>word_freq_remove: 0.31</br>word_freq_internet: 0.63</br>word_freq_order: 0.31</br>word_freq_mail: 0.63</br>word_freq_receive: 0.31</br>word_freq_will: 0.31</br>word_freq_people: 0.31</br>word_freq_report: 0.0</br>word_freq_addresses: 0.0</br>word_freq_free: 0.31</br>word_freq_business: 0.0</br>... too many variables\"],[\"</br>id: 4</br>prediction: 0.968</br>char_freq_%24: 2.52126</br></br>word_freq_make: 0.0</br>word_freq_address: 0.0</br>word_freq_all: 0.0</br>word_freq_3d: 0.0</br>word_freq_our: 0.63</br>word_freq_over: 0.0</br>word_freq_remove: 0.31</br>word_freq_internet: 0.63</br>word_freq_order: 0.31</br>word_freq_mail: 0.63</br>word_freq_receive: 0.31</br>word_freq_will: 0.31</br>word_freq_people: 0.31</br>word_freq_report: 0.0</br>word_freq_addresses: 0.0</br>word_freq_free: 0.31</br>word_freq_business: 0.0</br>... too many variables\"],[\"</br>id: 4</br>prediction: 0.968</br>char_freq_%24: 2.58129</br></br>word_freq_make: 0.0</br>word_freq_address: 0.0</br>word_freq_all: 0.0</br>word_freq_3d: 0.0</br>word_freq_our: 0.63</br>word_freq_over: 0.0</br>word_freq_remove: 0.31</br>word_freq_internet: 0.63</br>word_freq_order: 0.31</br>word_freq_mail: 0.63</br>word_freq_receive: 0.31</br>word_freq_will: 0.31</br>word_freq_people: 0.31</br>word_freq_report: 0.0</br>word_freq_addresses: 0.0</br>word_freq_free: 0.31</br>word_freq_business: 0.0</br>... too many variables\"],[\"</br>id: 4</br>prediction: 0.968</br>char_freq_%24: 2.64132</br></br>word_freq_make: 0.0</br>word_freq_address: 0.0</br>word_freq_all: 0.0</br>word_freq_3d: 0.0</br>word_freq_our: 0.63</br>word_freq_over: 0.0</br>word_freq_remove: 0.31</br>word_freq_internet: 0.63</br>word_freq_order: 0.31</br>word_freq_mail: 0.63</br>word_freq_receive: 0.31</br>word_freq_will: 0.31</br>word_freq_people: 0.31</br>word_freq_report: 0.0</br>word_freq_addresses: 0.0</br>word_freq_free: 0.31</br>word_freq_business: 0.0</br>... too many variables\"],[\"</br>id: 4</br>prediction: 0.968</br>char_freq_%24: 2.70135</br></br>word_freq_make: 0.0</br>word_freq_address: 0.0</br>word_freq_all: 0.0</br>word_freq_3d: 0.0</br>word_freq_our: 0.63</br>word_freq_over: 0.0</br>word_freq_remove: 0.31</br>word_freq_internet: 0.63</br>word_freq_order: 0.31</br>word_freq_mail: 0.63</br>word_freq_receive: 0.31</br>word_freq_will: 0.31</br>word_freq_people: 0.31</br>word_freq_report: 0.0</br>word_freq_addresses: 0.0</br>word_freq_free: 0.31</br>word_freq_business: 0.0</br>... too many variables\"],[\"</br>id: 4</br>prediction: 0.968</br>char_freq_%24: 2.76138</br></br>word_freq_make: 0.0</br>word_freq_address: 0.0</br>word_freq_all: 0.0</br>word_freq_3d: 0.0</br>word_freq_our: 0.63</br>word_freq_over: 0.0</br>word_freq_remove: 0.31</br>word_freq_internet: 0.63</br>word_freq_order: 0.31</br>word_freq_mail: 0.63</br>word_freq_receive: 0.31</br>word_freq_will: 0.31</br>word_freq_people: 0.31</br>word_freq_report: 0.0</br>word_freq_addresses: 0.0</br>word_freq_free: 0.31</br>word_freq_business: 0.0</br>... too many variables\"],[\"</br>id: 4</br>prediction: 0.968</br>char_freq_%24: 2.82141</br></br>word_freq_make: 0.0</br>word_freq_address: 0.0</br>word_freq_all: 0.0</br>word_freq_3d: 0.0</br>word_freq_our: 0.63</br>word_freq_over: 0.0</br>word_freq_remove: 0.31</br>word_freq_internet: 0.63</br>word_freq_order: 0.31</br>word_freq_mail: 0.63</br>word_freq_receive: 0.31</br>word_freq_will: 0.31</br>word_freq_people: 0.31</br>word_freq_report: 0.0</br>word_freq_addresses: 0.0</br>word_freq_free: 0.31</br>word_freq_business: 0.0</br>... too many variables\"],[\"</br>id: 4</br>prediction: 0.968</br>char_freq_%24: 2.88144</br></br>word_freq_make: 0.0</br>word_freq_address: 0.0</br>word_freq_all: 0.0</br>word_freq_3d: 0.0</br>word_freq_our: 0.63</br>word_freq_over: 0.0</br>word_freq_remove: 0.31</br>word_freq_internet: 0.63</br>word_freq_order: 0.31</br>word_freq_mail: 0.63</br>word_freq_receive: 0.31</br>word_freq_will: 0.31</br>word_freq_people: 0.31</br>word_freq_report: 0.0</br>word_freq_addresses: 0.0</br>word_freq_free: 0.31</br>word_freq_business: 0.0</br>... too many variables\"],[\"</br>id: 4</br>prediction: 0.968</br>char_freq_%24: 2.94147</br></br>word_freq_make: 0.0</br>word_freq_address: 0.0</br>word_freq_all: 0.0</br>word_freq_3d: 0.0</br>word_freq_our: 0.63</br>word_freq_over: 0.0</br>word_freq_remove: 0.31</br>word_freq_internet: 0.63</br>word_freq_order: 0.31</br>word_freq_mail: 0.63</br>word_freq_receive: 0.31</br>word_freq_will: 0.31</br>word_freq_people: 0.31</br>word_freq_report: 0.0</br>word_freq_addresses: 0.0</br>word_freq_free: 0.31</br>word_freq_business: 0.0</br>... too many variables\"],[\"</br>id: 4</br>prediction: 0.968</br>char_freq_%24: 3.0015</br></br>word_freq_make: 0.0</br>word_freq_address: 0.0</br>word_freq_all: 0.0</br>word_freq_3d: 0.0</br>word_freq_our: 0.63</br>word_freq_over: 0.0</br>word_freq_remove: 0.31</br>word_freq_internet: 0.63</br>word_freq_order: 0.31</br>word_freq_mail: 0.63</br>word_freq_receive: 0.31</br>word_freq_will: 0.31</br>word_freq_people: 0.31</br>word_freq_report: 0.0</br>word_freq_addresses: 0.0</br>word_freq_free: 0.31</br>word_freq_business: 0.0</br>... too many variables\"],[\"</br>id: 4</br>prediction: 0.968</br>char_freq_%24: 3.06153</br></br>word_freq_make: 0.0</br>word_freq_address: 0.0</br>word_freq_all: 0.0</br>word_freq_3d: 0.0</br>word_freq_our: 0.63</br>word_freq_over: 0.0</br>word_freq_remove: 0.31</br>word_freq_internet: 0.63</br>word_freq_order: 0.31</br>word_freq_mail: 0.63</br>word_freq_receive: 0.31</br>word_freq_will: 0.31</br>word_freq_people: 0.31</br>word_freq_report: 0.0</br>word_freq_addresses: 0.0</br>word_freq_free: 0.31</br>word_freq_business: 0.0</br>... too many variables\"],[\"</br>id: 4</br>prediction: 0.968</br>char_freq_%24: 3.12156</br></br>word_freq_make: 0.0</br>word_freq_address: 0.0</br>word_freq_all: 0.0</br>word_freq_3d: 0.0</br>word_freq_our: 0.63</br>word_freq_over: 0.0</br>word_freq_remove: 0.31</br>word_freq_internet: 0.63</br>word_freq_order: 0.31</br>word_freq_mail: 0.63</br>word_freq_receive: 0.31</br>word_freq_will: 0.31</br>word_freq_people: 0.31</br>word_freq_report: 0.0</br>word_freq_addresses: 0.0</br>word_freq_free: 0.31</br>word_freq_business: 0.0</br>... too many variables\"],[\"</br>id: 4</br>prediction: 0.968</br>char_freq_%24: 3.18159</br></br>word_freq_make: 0.0</br>word_freq_address: 0.0</br>word_freq_all: 0.0</br>word_freq_3d: 0.0</br>word_freq_our: 0.63</br>word_freq_over: 0.0</br>word_freq_remove: 0.31</br>word_freq_internet: 0.63</br>word_freq_order: 0.31</br>word_freq_mail: 0.63</br>word_freq_receive: 0.31</br>word_freq_will: 0.31</br>word_freq_people: 0.31</br>word_freq_report: 0.0</br>word_freq_addresses: 0.0</br>word_freq_free: 0.31</br>word_freq_business: 0.0</br>... too many variables\"],[\"</br>id: 4</br>prediction: 0.968</br>char_freq_%24: 3.24162</br></br>word_freq_make: 0.0</br>word_freq_address: 0.0</br>word_freq_all: 0.0</br>word_freq_3d: 0.0</br>word_freq_our: 0.63</br>word_freq_over: 0.0</br>word_freq_remove: 0.31</br>word_freq_internet: 0.63</br>word_freq_order: 0.31</br>word_freq_mail: 0.63</br>word_freq_receive: 0.31</br>word_freq_will: 0.31</br>word_freq_people: 0.31</br>word_freq_report: 0.0</br>word_freq_addresses: 0.0</br>word_freq_free: 0.31</br>word_freq_business: 0.0</br>... too many variables\"],[\"</br>id: 4</br>prediction: 0.968</br>char_freq_%24: 3.30165</br></br>word_freq_make: 0.0</br>word_freq_address: 0.0</br>word_freq_all: 0.0</br>word_freq_3d: 0.0</br>word_freq_our: 0.63</br>word_freq_over: 0.0</br>word_freq_remove: 0.31</br>word_freq_internet: 0.63</br>word_freq_order: 0.31</br>word_freq_mail: 0.63</br>word_freq_receive: 0.31</br>word_freq_will: 0.31</br>word_freq_people: 0.31</br>word_freq_report: 0.0</br>word_freq_addresses: 0.0</br>word_freq_free: 0.31</br>word_freq_business: 0.0</br>... too many variables\"],[\"</br>id: 4</br>prediction: 0.968</br>char_freq_%24: 3.36168</br></br>word_freq_make: 0.0</br>word_freq_address: 0.0</br>word_freq_all: 0.0</br>word_freq_3d: 0.0</br>word_freq_our: 0.63</br>word_freq_over: 0.0</br>word_freq_remove: 0.31</br>word_freq_internet: 0.63</br>word_freq_order: 0.31</br>word_freq_mail: 0.63</br>word_freq_receive: 0.31</br>word_freq_will: 0.31</br>word_freq_people: 0.31</br>word_freq_report: 0.0</br>word_freq_addresses: 0.0</br>word_freq_free: 0.31</br>word_freq_business: 0.0</br>... too many variables\"],[\"</br>id: 4</br>prediction: 0.968</br>char_freq_%24: 3.42171</br></br>word_freq_make: 0.0</br>word_freq_address: 0.0</br>word_freq_all: 0.0</br>word_freq_3d: 0.0</br>word_freq_our: 0.63</br>word_freq_over: 0.0</br>word_freq_remove: 0.31</br>word_freq_internet: 0.63</br>word_freq_order: 0.31</br>word_freq_mail: 0.63</br>word_freq_receive: 0.31</br>word_freq_will: 0.31</br>word_freq_people: 0.31</br>word_freq_report: 0.0</br>word_freq_addresses: 0.0</br>word_freq_free: 0.31</br>word_freq_business: 0.0</br>... too many variables\"],[\"</br>id: 4</br>prediction: 0.968</br>char_freq_%24: 3.48174</br></br>word_freq_make: 0.0</br>word_freq_address: 0.0</br>word_freq_all: 0.0</br>word_freq_3d: 0.0</br>word_freq_our: 0.63</br>word_freq_over: 0.0</br>word_freq_remove: 0.31</br>word_freq_internet: 0.63</br>word_freq_order: 0.31</br>word_freq_mail: 0.63</br>word_freq_receive: 0.31</br>word_freq_will: 0.31</br>word_freq_people: 0.31</br>word_freq_report: 0.0</br>word_freq_addresses: 0.0</br>word_freq_free: 0.31</br>word_freq_business: 0.0</br>... too many variables\"],[\"</br>id: 4</br>prediction: 0.968</br>char_freq_%24: 3.54177</br></br>word_freq_make: 0.0</br>word_freq_address: 0.0</br>word_freq_all: 0.0</br>word_freq_3d: 0.0</br>word_freq_our: 0.63</br>word_freq_over: 0.0</br>word_freq_remove: 0.31</br>word_freq_internet: 0.63</br>word_freq_order: 0.31</br>word_freq_mail: 0.63</br>word_freq_receive: 0.31</br>word_freq_will: 0.31</br>word_freq_people: 0.31</br>word_freq_report: 0.0</br>word_freq_addresses: 0.0</br>word_freq_free: 0.31</br>word_freq_business: 0.0</br>... too many variables\"],[\"</br>id: 4</br>prediction: 0.968</br>char_freq_%24: 3.6018</br></br>word_freq_make: 0.0</br>word_freq_address: 0.0</br>word_freq_all: 0.0</br>word_freq_3d: 0.0</br>word_freq_our: 0.63</br>word_freq_over: 0.0</br>word_freq_remove: 0.31</br>word_freq_internet: 0.63</br>word_freq_order: 0.31</br>word_freq_mail: 0.63</br>word_freq_receive: 0.31</br>word_freq_will: 0.31</br>word_freq_people: 0.31</br>word_freq_report: 0.0</br>word_freq_addresses: 0.0</br>word_freq_free: 0.31</br>word_freq_business: 0.0</br>... too many variables\"],[\"</br>id: 4</br>prediction: 0.968</br>char_freq_%24: 3.66183</br></br>word_freq_make: 0.0</br>word_freq_address: 0.0</br>word_freq_all: 0.0</br>word_freq_3d: 0.0</br>word_freq_our: 0.63</br>word_freq_over: 0.0</br>word_freq_remove: 0.31</br>word_freq_internet: 0.63</br>word_freq_order: 0.31</br>word_freq_mail: 0.63</br>word_freq_receive: 0.31</br>word_freq_will: 0.31</br>word_freq_people: 0.31</br>word_freq_report: 0.0</br>word_freq_addresses: 0.0</br>word_freq_free: 0.31</br>word_freq_business: 0.0</br>... too many variables\"],[\"</br>id: 4</br>prediction: 0.968</br>char_freq_%24: 3.72186</br></br>word_freq_make: 0.0</br>word_freq_address: 0.0</br>word_freq_all: 0.0</br>word_freq_3d: 0.0</br>word_freq_our: 0.63</br>word_freq_over: 0.0</br>word_freq_remove: 0.31</br>word_freq_internet: 0.63</br>word_freq_order: 0.31</br>word_freq_mail: 0.63</br>word_freq_receive: 0.31</br>word_freq_will: 0.31</br>word_freq_people: 0.31</br>word_freq_report: 0.0</br>word_freq_addresses: 0.0</br>word_freq_free: 0.31</br>word_freq_business: 0.0</br>... too many variables\"],[\"</br>id: 4</br>prediction: 0.968</br>char_freq_%24: 3.78189</br></br>word_freq_make: 0.0</br>word_freq_address: 0.0</br>word_freq_all: 0.0</br>word_freq_3d: 0.0</br>word_freq_our: 0.63</br>word_freq_over: 0.0</br>word_freq_remove: 0.31</br>word_freq_internet: 0.63</br>word_freq_order: 0.31</br>word_freq_mail: 0.63</br>word_freq_receive: 0.31</br>word_freq_will: 0.31</br>word_freq_people: 0.31</br>word_freq_report: 0.0</br>word_freq_addresses: 0.0</br>word_freq_free: 0.31</br>word_freq_business: 0.0</br>... too many variables\"],[\"</br>id: 4</br>prediction: 0.968</br>char_freq_%24: 3.84192</br></br>word_freq_make: 0.0</br>word_freq_address: 0.0</br>word_freq_all: 0.0</br>word_freq_3d: 0.0</br>word_freq_our: 0.63</br>word_freq_over: 0.0</br>word_freq_remove: 0.31</br>word_freq_internet: 0.63</br>word_freq_order: 0.31</br>word_freq_mail: 0.63</br>word_freq_receive: 0.31</br>word_freq_will: 0.31</br>word_freq_people: 0.31</br>word_freq_report: 0.0</br>word_freq_addresses: 0.0</br>word_freq_free: 0.31</br>word_freq_business: 0.0</br>... too many variables\"],[\"</br>id: 4</br>prediction: 0.968</br>char_freq_%24: 3.90195</br></br>word_freq_make: 0.0</br>word_freq_address: 0.0</br>word_freq_all: 0.0</br>word_freq_3d: 0.0</br>word_freq_our: 0.63</br>word_freq_over: 0.0</br>word_freq_remove: 0.31</br>word_freq_internet: 0.63</br>word_freq_order: 0.31</br>word_freq_mail: 0.63</br>word_freq_receive: 0.31</br>word_freq_will: 0.31</br>word_freq_people: 0.31</br>word_freq_report: 0.0</br>word_freq_addresses: 0.0</br>word_freq_free: 0.31</br>word_freq_business: 0.0</br>... too many variables\"],[\"</br>id: 4</br>prediction: 0.968</br>char_freq_%24: 3.96198</br></br>word_freq_make: 0.0</br>word_freq_address: 0.0</br>word_freq_all: 0.0</br>word_freq_3d: 0.0</br>word_freq_our: 0.63</br>word_freq_over: 0.0</br>word_freq_remove: 0.31</br>word_freq_internet: 0.63</br>word_freq_order: 0.31</br>word_freq_mail: 0.63</br>word_freq_receive: 0.31</br>word_freq_will: 0.31</br>word_freq_people: 0.31</br>word_freq_report: 0.0</br>word_freq_addresses: 0.0</br>word_freq_free: 0.31</br>word_freq_business: 0.0</br>... too many variables\"],[\"</br>id: 4</br>prediction: 0.968</br>char_freq_%24: 4.02201</br></br>word_freq_make: 0.0</br>word_freq_address: 0.0</br>word_freq_all: 0.0</br>word_freq_3d: 0.0</br>word_freq_our: 0.63</br>word_freq_over: 0.0</br>word_freq_remove: 0.31</br>word_freq_internet: 0.63</br>word_freq_order: 0.31</br>word_freq_mail: 0.63</br>word_freq_receive: 0.31</br>word_freq_will: 0.31</br>word_freq_people: 0.31</br>word_freq_report: 0.0</br>word_freq_addresses: 0.0</br>word_freq_free: 0.31</br>word_freq_business: 0.0</br>... too many variables\"],[\"</br>id: 4</br>prediction: 0.968</br>char_freq_%24: 4.08204</br></br>word_freq_make: 0.0</br>word_freq_address: 0.0</br>word_freq_all: 0.0</br>word_freq_3d: 0.0</br>word_freq_our: 0.63</br>word_freq_over: 0.0</br>word_freq_remove: 0.31</br>word_freq_internet: 0.63</br>word_freq_order: 0.31</br>word_freq_mail: 0.63</br>word_freq_receive: 0.31</br>word_freq_will: 0.31</br>word_freq_people: 0.31</br>word_freq_report: 0.0</br>word_freq_addresses: 0.0</br>word_freq_free: 0.31</br>word_freq_business: 0.0</br>... too many variables\"],[\"</br>id: 4</br>prediction: 0.968</br>char_freq_%24: 4.14207</br></br>word_freq_make: 0.0</br>word_freq_address: 0.0</br>word_freq_all: 0.0</br>word_freq_3d: 0.0</br>word_freq_our: 0.63</br>word_freq_over: 0.0</br>word_freq_remove: 0.31</br>word_freq_internet: 0.63</br>word_freq_order: 0.31</br>word_freq_mail: 0.63</br>word_freq_receive: 0.31</br>word_freq_will: 0.31</br>word_freq_people: 0.31</br>word_freq_report: 0.0</br>word_freq_addresses: 0.0</br>word_freq_free: 0.31</br>word_freq_business: 0.0</br>... too many variables\"],[\"</br>id: 4</br>prediction: 0.968</br>char_freq_%24: 4.2021</br></br>word_freq_make: 0.0</br>word_freq_address: 0.0</br>word_freq_all: 0.0</br>word_freq_3d: 0.0</br>word_freq_our: 0.63</br>word_freq_over: 0.0</br>word_freq_remove: 0.31</br>word_freq_internet: 0.63</br>word_freq_order: 0.31</br>word_freq_mail: 0.63</br>word_freq_receive: 0.31</br>word_freq_will: 0.31</br>word_freq_people: 0.31</br>word_freq_report: 0.0</br>word_freq_addresses: 0.0</br>word_freq_free: 0.31</br>word_freq_business: 0.0</br>... too many variables\"],[\"</br>id: 4</br>prediction: 0.968</br>char_freq_%24: 4.26213</br></br>word_freq_make: 0.0</br>word_freq_address: 0.0</br>word_freq_all: 0.0</br>word_freq_3d: 0.0</br>word_freq_our: 0.63</br>word_freq_over: 0.0</br>word_freq_remove: 0.31</br>word_freq_internet: 0.63</br>word_freq_order: 0.31</br>word_freq_mail: 0.63</br>word_freq_receive: 0.31</br>word_freq_will: 0.31</br>word_freq_people: 0.31</br>word_freq_report: 0.0</br>word_freq_addresses: 0.0</br>word_freq_free: 0.31</br>word_freq_business: 0.0</br>... too many variables\"],[\"</br>id: 4</br>prediction: 0.968</br>char_freq_%24: 4.32216</br></br>word_freq_make: 0.0</br>word_freq_address: 0.0</br>word_freq_all: 0.0</br>word_freq_3d: 0.0</br>word_freq_our: 0.63</br>word_freq_over: 0.0</br>word_freq_remove: 0.31</br>word_freq_internet: 0.63</br>word_freq_order: 0.31</br>word_freq_mail: 0.63</br>word_freq_receive: 0.31</br>word_freq_will: 0.31</br>word_freq_people: 0.31</br>word_freq_report: 0.0</br>word_freq_addresses: 0.0</br>word_freq_free: 0.31</br>word_freq_business: 0.0</br>... too many variables\"],[\"</br>id: 4</br>prediction: 0.968</br>char_freq_%24: 4.38219</br></br>word_freq_make: 0.0</br>word_freq_address: 0.0</br>word_freq_all: 0.0</br>word_freq_3d: 0.0</br>word_freq_our: 0.63</br>word_freq_over: 0.0</br>word_freq_remove: 0.31</br>word_freq_internet: 0.63</br>word_freq_order: 0.31</br>word_freq_mail: 0.63</br>word_freq_receive: 0.31</br>word_freq_will: 0.31</br>word_freq_people: 0.31</br>word_freq_report: 0.0</br>word_freq_addresses: 0.0</br>word_freq_free: 0.31</br>word_freq_business: 0.0</br>... too many variables\"],[\"</br>id: 4</br>prediction: 0.968</br>char_freq_%24: 4.44222</br></br>word_freq_make: 0.0</br>word_freq_address: 0.0</br>word_freq_all: 0.0</br>word_freq_3d: 0.0</br>word_freq_our: 0.63</br>word_freq_over: 0.0</br>word_freq_remove: 0.31</br>word_freq_internet: 0.63</br>word_freq_order: 0.31</br>word_freq_mail: 0.63</br>word_freq_receive: 0.31</br>word_freq_will: 0.31</br>word_freq_people: 0.31</br>word_freq_report: 0.0</br>word_freq_addresses: 0.0</br>word_freq_free: 0.31</br>word_freq_business: 0.0</br>... too many variables\"],[\"</br>id: 4</br>prediction: 0.968</br>char_freq_%24: 4.50225</br></br>word_freq_make: 0.0</br>word_freq_address: 0.0</br>word_freq_all: 0.0</br>word_freq_3d: 0.0</br>word_freq_our: 0.63</br>word_freq_over: 0.0</br>word_freq_remove: 0.31</br>word_freq_internet: 0.63</br>word_freq_order: 0.31</br>word_freq_mail: 0.63</br>word_freq_receive: 0.31</br>word_freq_will: 0.31</br>word_freq_people: 0.31</br>word_freq_report: 0.0</br>word_freq_addresses: 0.0</br>word_freq_free: 0.31</br>word_freq_business: 0.0</br>... too many variables\"],[\"</br>id: 4</br>prediction: 0.968</br>char_freq_%24: 4.56228</br></br>word_freq_make: 0.0</br>word_freq_address: 0.0</br>word_freq_all: 0.0</br>word_freq_3d: 0.0</br>word_freq_our: 0.63</br>word_freq_over: 0.0</br>word_freq_remove: 0.31</br>word_freq_internet: 0.63</br>word_freq_order: 0.31</br>word_freq_mail: 0.63</br>word_freq_receive: 0.31</br>word_freq_will: 0.31</br>word_freq_people: 0.31</br>word_freq_report: 0.0</br>word_freq_addresses: 0.0</br>word_freq_free: 0.31</br>word_freq_business: 0.0</br>... too many variables\"],[\"</br>id: 4</br>prediction: 0.968</br>char_freq_%24: 4.62231</br></br>word_freq_make: 0.0</br>word_freq_address: 0.0</br>word_freq_all: 0.0</br>word_freq_3d: 0.0</br>word_freq_our: 0.63</br>word_freq_over: 0.0</br>word_freq_remove: 0.31</br>word_freq_internet: 0.63</br>word_freq_order: 0.31</br>word_freq_mail: 0.63</br>word_freq_receive: 0.31</br>word_freq_will: 0.31</br>word_freq_people: 0.31</br>word_freq_report: 0.0</br>word_freq_addresses: 0.0</br>word_freq_free: 0.31</br>word_freq_business: 0.0</br>... too many variables\"],[\"</br>id: 4</br>prediction: 0.968</br>char_freq_%24: 4.68234</br></br>word_freq_make: 0.0</br>word_freq_address: 0.0</br>word_freq_all: 0.0</br>word_freq_3d: 0.0</br>word_freq_our: 0.63</br>word_freq_over: 0.0</br>word_freq_remove: 0.31</br>word_freq_internet: 0.63</br>word_freq_order: 0.31</br>word_freq_mail: 0.63</br>word_freq_receive: 0.31</br>word_freq_will: 0.31</br>word_freq_people: 0.31</br>word_freq_report: 0.0</br>word_freq_addresses: 0.0</br>word_freq_free: 0.31</br>word_freq_business: 0.0</br>... too many variables\"],[\"</br>id: 4</br>prediction: 0.968</br>char_freq_%24: 4.74237</br></br>word_freq_make: 0.0</br>word_freq_address: 0.0</br>word_freq_all: 0.0</br>word_freq_3d: 0.0</br>word_freq_our: 0.63</br>word_freq_over: 0.0</br>word_freq_remove: 0.31</br>word_freq_internet: 0.63</br>word_freq_order: 0.31</br>word_freq_mail: 0.63</br>word_freq_receive: 0.31</br>word_freq_will: 0.31</br>word_freq_people: 0.31</br>word_freq_report: 0.0</br>word_freq_addresses: 0.0</br>word_freq_free: 0.31</br>word_freq_business: 0.0</br>... too many variables\"],[\"</br>id: 4</br>prediction: 0.968</br>char_freq_%24: 4.8024000000000004</br></br>word_freq_make: 0.0</br>word_freq_address: 0.0</br>word_freq_all: 0.0</br>word_freq_3d: 0.0</br>word_freq_our: 0.63</br>word_freq_over: 0.0</br>word_freq_remove: 0.31</br>word_freq_internet: 0.63</br>word_freq_order: 0.31</br>word_freq_mail: 0.63</br>word_freq_receive: 0.31</br>word_freq_will: 0.31</br>word_freq_people: 0.31</br>word_freq_report: 0.0</br>word_freq_addresses: 0.0</br>word_freq_free: 0.31</br>word_freq_business: 0.0</br>... too many variables\"],[\"</br>id: 4</br>prediction: 0.968</br>char_freq_%24: 4.86243</br></br>word_freq_make: 0.0</br>word_freq_address: 0.0</br>word_freq_all: 0.0</br>word_freq_3d: 0.0</br>word_freq_our: 0.63</br>word_freq_over: 0.0</br>word_freq_remove: 0.31</br>word_freq_internet: 0.63</br>word_freq_order: 0.31</br>word_freq_mail: 0.63</br>word_freq_receive: 0.31</br>word_freq_will: 0.31</br>word_freq_people: 0.31</br>word_freq_report: 0.0</br>word_freq_addresses: 0.0</br>word_freq_free: 0.31</br>word_freq_business: 0.0</br>... too many variables\"],[\"</br>id: 4</br>prediction: 0.968</br>char_freq_%24: 4.92246</br></br>word_freq_make: 0.0</br>word_freq_address: 0.0</br>word_freq_all: 0.0</br>word_freq_3d: 0.0</br>word_freq_our: 0.63</br>word_freq_over: 0.0</br>word_freq_remove: 0.31</br>word_freq_internet: 0.63</br>word_freq_order: 0.31</br>word_freq_mail: 0.63</br>word_freq_receive: 0.31</br>word_freq_will: 0.31</br>word_freq_people: 0.31</br>word_freq_report: 0.0</br>word_freq_addresses: 0.0</br>word_freq_free: 0.31</br>word_freq_business: 0.0</br>... too many variables\"],[\"</br>id: 4</br>prediction: 0.968</br>char_freq_%24: 4.98249</br></br>word_freq_make: 0.0</br>word_freq_address: 0.0</br>word_freq_all: 0.0</br>word_freq_3d: 0.0</br>word_freq_our: 0.63</br>word_freq_over: 0.0</br>word_freq_remove: 0.31</br>word_freq_internet: 0.63</br>word_freq_order: 0.31</br>word_freq_mail: 0.63</br>word_freq_receive: 0.31</br>word_freq_will: 0.31</br>word_freq_people: 0.31</br>word_freq_report: 0.0</br>word_freq_addresses: 0.0</br>word_freq_free: 0.31</br>word_freq_business: 0.0</br>... too many variables\"],[\"</br>id: 4</br>prediction: 0.968</br>char_freq_%24: 5.04252</br></br>word_freq_make: 0.0</br>word_freq_address: 0.0</br>word_freq_all: 0.0</br>word_freq_3d: 0.0</br>word_freq_our: 0.63</br>word_freq_over: 0.0</br>word_freq_remove: 0.31</br>word_freq_internet: 0.63</br>word_freq_order: 0.31</br>word_freq_mail: 0.63</br>word_freq_receive: 0.31</br>word_freq_will: 0.31</br>word_freq_people: 0.31</br>word_freq_report: 0.0</br>word_freq_addresses: 0.0</br>word_freq_free: 0.31</br>word_freq_business: 0.0</br>... too many variables\"],[\"</br>id: 4</br>prediction: 0.968</br>char_freq_%24: 5.10255</br></br>word_freq_make: 0.0</br>word_freq_address: 0.0</br>word_freq_all: 0.0</br>word_freq_3d: 0.0</br>word_freq_our: 0.63</br>word_freq_over: 0.0</br>word_freq_remove: 0.31</br>word_freq_internet: 0.63</br>word_freq_order: 0.31</br>word_freq_mail: 0.63</br>word_freq_receive: 0.31</br>word_freq_will: 0.31</br>word_freq_people: 0.31</br>word_freq_report: 0.0</br>word_freq_addresses: 0.0</br>word_freq_free: 0.31</br>word_freq_business: 0.0</br>... too many variables\"],[\"</br>id: 4</br>prediction: 0.968</br>char_freq_%24: 5.16258</br></br>word_freq_make: 0.0</br>word_freq_address: 0.0</br>word_freq_all: 0.0</br>word_freq_3d: 0.0</br>word_freq_our: 0.63</br>word_freq_over: 0.0</br>word_freq_remove: 0.31</br>word_freq_internet: 0.63</br>word_freq_order: 0.31</br>word_freq_mail: 0.63</br>word_freq_receive: 0.31</br>word_freq_will: 0.31</br>word_freq_people: 0.31</br>word_freq_report: 0.0</br>word_freq_addresses: 0.0</br>word_freq_free: 0.31</br>word_freq_business: 0.0</br>... too many variables\"],[\"</br>id: 4</br>prediction: 0.968</br>char_freq_%24: 5.22261</br></br>word_freq_make: 0.0</br>word_freq_address: 0.0</br>word_freq_all: 0.0</br>word_freq_3d: 0.0</br>word_freq_our: 0.63</br>word_freq_over: 0.0</br>word_freq_remove: 0.31</br>word_freq_internet: 0.63</br>word_freq_order: 0.31</br>word_freq_mail: 0.63</br>word_freq_receive: 0.31</br>word_freq_will: 0.31</br>word_freq_people: 0.31</br>word_freq_report: 0.0</br>word_freq_addresses: 0.0</br>word_freq_free: 0.31</br>word_freq_business: 0.0</br>... too many variables\"],[\"</br>id: 4</br>prediction: 0.968</br>char_freq_%24: 5.28264</br></br>word_freq_make: 0.0</br>word_freq_address: 0.0</br>word_freq_all: 0.0</br>word_freq_3d: 0.0</br>word_freq_our: 0.63</br>word_freq_over: 0.0</br>word_freq_remove: 0.31</br>word_freq_internet: 0.63</br>word_freq_order: 0.31</br>word_freq_mail: 0.63</br>word_freq_receive: 0.31</br>word_freq_will: 0.31</br>word_freq_people: 0.31</br>word_freq_report: 0.0</br>word_freq_addresses: 0.0</br>word_freq_free: 0.31</br>word_freq_business: 0.0</br>... too many variables\"],[\"</br>id: 4</br>prediction: 0.968</br>char_freq_%24: 5.34267</br></br>word_freq_make: 0.0</br>word_freq_address: 0.0</br>word_freq_all: 0.0</br>word_freq_3d: 0.0</br>word_freq_our: 0.63</br>word_freq_over: 0.0</br>word_freq_remove: 0.31</br>word_freq_internet: 0.63</br>word_freq_order: 0.31</br>word_freq_mail: 0.63</br>word_freq_receive: 0.31</br>word_freq_will: 0.31</br>word_freq_people: 0.31</br>word_freq_report: 0.0</br>word_freq_addresses: 0.0</br>word_freq_free: 0.31</br>word_freq_business: 0.0</br>... too many variables\"],[\"</br>id: 4</br>prediction: 0.968</br>char_freq_%24: 5.4027</br></br>word_freq_make: 0.0</br>word_freq_address: 0.0</br>word_freq_all: 0.0</br>word_freq_3d: 0.0</br>word_freq_our: 0.63</br>word_freq_over: 0.0</br>word_freq_remove: 0.31</br>word_freq_internet: 0.63</br>word_freq_order: 0.31</br>word_freq_mail: 0.63</br>word_freq_receive: 0.31</br>word_freq_will: 0.31</br>word_freq_people: 0.31</br>word_freq_report: 0.0</br>word_freq_addresses: 0.0</br>word_freq_free: 0.31</br>word_freq_business: 0.0</br>... too many variables\"],[\"</br>id: 4</br>prediction: 0.968</br>char_freq_%24: 5.46273</br></br>word_freq_make: 0.0</br>word_freq_address: 0.0</br>word_freq_all: 0.0</br>word_freq_3d: 0.0</br>word_freq_our: 0.63</br>word_freq_over: 0.0</br>word_freq_remove: 0.31</br>word_freq_internet: 0.63</br>word_freq_order: 0.31</br>word_freq_mail: 0.63</br>word_freq_receive: 0.31</br>word_freq_will: 0.31</br>word_freq_people: 0.31</br>word_freq_report: 0.0</br>word_freq_addresses: 0.0</br>word_freq_free: 0.31</br>word_freq_business: 0.0</br>... too many variables\"],[\"</br>id: 4</br>prediction: 0.968</br>char_freq_%24: 5.52276</br></br>word_freq_make: 0.0</br>word_freq_address: 0.0</br>word_freq_all: 0.0</br>word_freq_3d: 0.0</br>word_freq_our: 0.63</br>word_freq_over: 0.0</br>word_freq_remove: 0.31</br>word_freq_internet: 0.63</br>word_freq_order: 0.31</br>word_freq_mail: 0.63</br>word_freq_receive: 0.31</br>word_freq_will: 0.31</br>word_freq_people: 0.31</br>word_freq_report: 0.0</br>word_freq_addresses: 0.0</br>word_freq_free: 0.31</br>word_freq_business: 0.0</br>... too many variables\"],[\"</br>id: 4</br>prediction: 0.968</br>char_freq_%24: 5.58279</br></br>word_freq_make: 0.0</br>word_freq_address: 0.0</br>word_freq_all: 0.0</br>word_freq_3d: 0.0</br>word_freq_our: 0.63</br>word_freq_over: 0.0</br>word_freq_remove: 0.31</br>word_freq_internet: 0.63</br>word_freq_order: 0.31</br>word_freq_mail: 0.63</br>word_freq_receive: 0.31</br>word_freq_will: 0.31</br>word_freq_people: 0.31</br>word_freq_report: 0.0</br>word_freq_addresses: 0.0</br>word_freq_free: 0.31</br>word_freq_business: 0.0</br>... too many variables\"],[\"</br>id: 4</br>prediction: 0.968</br>char_freq_%24: 5.64282</br></br>word_freq_make: 0.0</br>word_freq_address: 0.0</br>word_freq_all: 0.0</br>word_freq_3d: 0.0</br>word_freq_our: 0.63</br>word_freq_over: 0.0</br>word_freq_remove: 0.31</br>word_freq_internet: 0.63</br>word_freq_order: 0.31</br>word_freq_mail: 0.63</br>word_freq_receive: 0.31</br>word_freq_will: 0.31</br>word_freq_people: 0.31</br>word_freq_report: 0.0</br>word_freq_addresses: 0.0</br>word_freq_free: 0.31</br>word_freq_business: 0.0</br>... too many variables\"],[\"</br>id: 4</br>prediction: 0.968</br>char_freq_%24: 5.70285</br></br>word_freq_make: 0.0</br>word_freq_address: 0.0</br>word_freq_all: 0.0</br>word_freq_3d: 0.0</br>word_freq_our: 0.63</br>word_freq_over: 0.0</br>word_freq_remove: 0.31</br>word_freq_internet: 0.63</br>word_freq_order: 0.31</br>word_freq_mail: 0.63</br>word_freq_receive: 0.31</br>word_freq_will: 0.31</br>word_freq_people: 0.31</br>word_freq_report: 0.0</br>word_freq_addresses: 0.0</br>word_freq_free: 0.31</br>word_freq_business: 0.0</br>... too many variables\"],[\"</br>id: 4</br>prediction: 0.968</br>char_freq_%24: 5.76288</br></br>word_freq_make: 0.0</br>word_freq_address: 0.0</br>word_freq_all: 0.0</br>word_freq_3d: 0.0</br>word_freq_our: 0.63</br>word_freq_over: 0.0</br>word_freq_remove: 0.31</br>word_freq_internet: 0.63</br>word_freq_order: 0.31</br>word_freq_mail: 0.63</br>word_freq_receive: 0.31</br>word_freq_will: 0.31</br>word_freq_people: 0.31</br>word_freq_report: 0.0</br>word_freq_addresses: 0.0</br>word_freq_free: 0.31</br>word_freq_business: 0.0</br>... too many variables\"],[\"</br>id: 4</br>prediction: 0.968</br>char_freq_%24: 5.82291</br></br>word_freq_make: 0.0</br>word_freq_address: 0.0</br>word_freq_all: 0.0</br>word_freq_3d: 0.0</br>word_freq_our: 0.63</br>word_freq_over: 0.0</br>word_freq_remove: 0.31</br>word_freq_internet: 0.63</br>word_freq_order: 0.31</br>word_freq_mail: 0.63</br>word_freq_receive: 0.31</br>word_freq_will: 0.31</br>word_freq_people: 0.31</br>word_freq_report: 0.0</br>word_freq_addresses: 0.0</br>word_freq_free: 0.31</br>word_freq_business: 0.0</br>... too many variables\"],[\"</br>id: 4</br>prediction: 0.968</br>char_freq_%24: 5.88294</br></br>word_freq_make: 0.0</br>word_freq_address: 0.0</br>word_freq_all: 0.0</br>word_freq_3d: 0.0</br>word_freq_our: 0.63</br>word_freq_over: 0.0</br>word_freq_remove: 0.31</br>word_freq_internet: 0.63</br>word_freq_order: 0.31</br>word_freq_mail: 0.63</br>word_freq_receive: 0.31</br>word_freq_will: 0.31</br>word_freq_people: 0.31</br>word_freq_report: 0.0</br>word_freq_addresses: 0.0</br>word_freq_free: 0.31</br>word_freq_business: 0.0</br>... too many variables\"],[\"</br>id: 4</br>prediction: 0.968</br>char_freq_%24: 5.94297</br></br>word_freq_make: 0.0</br>word_freq_address: 0.0</br>word_freq_all: 0.0</br>word_freq_3d: 0.0</br>word_freq_our: 0.63</br>word_freq_over: 0.0</br>word_freq_remove: 0.31</br>word_freq_internet: 0.63</br>word_freq_order: 0.31</br>word_freq_mail: 0.63</br>word_freq_receive: 0.31</br>word_freq_will: 0.31</br>word_freq_people: 0.31</br>word_freq_report: 0.0</br>word_freq_addresses: 0.0</br>word_freq_free: 0.31</br>word_freq_business: 0.0</br>... too many variables\"],[\"</br>id: 4</br>prediction: 0.968</br>char_freq_%24: 6.003</br></br>word_freq_make: 0.0</br>word_freq_address: 0.0</br>word_freq_all: 0.0</br>word_freq_3d: 0.0</br>word_freq_our: 0.63</br>word_freq_over: 0.0</br>word_freq_remove: 0.31</br>word_freq_internet: 0.63</br>word_freq_order: 0.31</br>word_freq_mail: 0.63</br>word_freq_receive: 0.31</br>word_freq_will: 0.31</br>word_freq_people: 0.31</br>word_freq_report: 0.0</br>word_freq_addresses: 0.0</br>word_freq_free: 0.31</br>word_freq_business: 0.0</br>... too many variables\"]],\"hovertemplate\":\"%{customdata[0]}<extra></extra>\",\"legendgroup\":\"RandomForestClassifier\",\"line\":{\"color\":\"#46bac2\",\"dash\":\"solid\",\"width\":2},\"marker\":{\"symbol\":\"circle\"},\"mode\":\"lines\",\"name\":\"RandomForestClassifier\",\"orientation\":\"v\",\"showlegend\":true,\"x\":[0.0,0.06003,0.12006,0.18009,0.24012,0.30015000000000003,0.36018,0.42021,0.48024,0.54027,0.6003000000000001,0.66033,0.72036,0.78039,0.84042,0.90045,0.96048,1.02051,1.08054,1.14057,1.2006000000000001,1.26063,1.32066,1.38069,1.44072,1.50075,1.56078,1.62081,1.68084,1.74087,1.8009,1.86093,1.92096,1.98099,2.04102,2.10105,2.16108,2.22111,2.28114,2.34117,2.4012000000000002,2.46123,2.52126,2.58129,2.64132,2.70135,2.76138,2.82141,2.88144,2.94147,3.0015,3.06153,3.12156,3.18159,3.24162,3.30165,3.36168,3.42171,3.48174,3.54177,3.6018,3.66183,3.72186,3.78189,3.84192,3.90195,3.96198,4.02201,4.08204,4.14207,4.2021,4.26213,4.32216,4.38219,4.44222,4.50225,4.56228,4.62231,4.68234,4.74237,4.8024000000000004,4.86243,4.92246,4.98249,5.04252,5.10255,5.16258,5.22261,5.28264,5.34267,5.4027,5.46273,5.52276,5.58279,5.64282,5.70285,5.76288,5.82291,5.88294,5.94297,6.003],\"xaxis\":\"x\",\"y\":[0.9523912599255716,0.9622494693672691,0.9644897933050218,0.9683630639192997,0.9684385926202062,0.9684385926202062,0.9684385926202062,0.9684385926202062,0.9684385926202062,0.9684385926202062,0.9684385926202062,0.9684385926202062,0.9684385926202062,0.9684385926202062,0.9684385926202062,0.9684385926202062,0.9684385926202062,0.9684385926202062,0.9684385926202062,0.9684385926202062,0.9684385926202062,0.9684385926202062,0.9684385926202062,0.9684385926202062,0.9684385926202062,0.9684385926202062,0.9684385926202062,0.9684385926202062,0.9684385926202062,0.9684385926202062,0.9684385926202062,0.9684385926202062,0.9684385926202062,0.9684385926202062,0.9684385926202062,0.9684385926202062,0.9684385926202062,0.9684385926202062,0.9684385926202062,0.9684385926202062,0.9684385926202062,0.9684385926202062,0.9684385926202062,0.9684385926202062,0.9684385926202062,0.9684385926202062,0.9684385926202062,0.9684385926202062,0.9684385926202062,0.9684385926202062,0.9684385926202062,0.9684385926202062,0.9684385926202062,0.9684385926202062,0.9684385926202062,0.9684385926202062,0.9684385926202062,0.9684385926202062,0.9684385926202062,0.9684385926202062,0.9684385926202062,0.9684385926202062,0.9684385926202062,0.9684385926202062,0.9684385926202062,0.9684385926202062,0.9684385926202062,0.9684385926202062,0.9684385926202062,0.9684385926202062,0.9684385926202062,0.9684385926202062,0.9684385926202062,0.9684385926202062,0.9684385926202062,0.9684385926202062,0.9684385926202062,0.9684385926202062,0.9684385926202062,0.9684385926202062,0.9684385926202062,0.9684385926202062,0.9684385926202062,0.9684385926202062,0.9684385926202062,0.9684385926202062,0.9684385926202062,0.9684385926202062,0.9684385926202062,0.9684385926202062,0.9684385926202062,0.9684385926202062,0.9684385926202062,0.9684385926202062,0.9684385926202062,0.9684385926202062,0.9684385926202062,0.9684385926202062,0.9684385926202062,0.9684385926202062,0.9684385926202062],\"yaxis\":\"y\",\"type\":\"scatter\",\"opacity\":1},{\"customdata\":[[\"</br>id: 5</br>prediction: 0.288</br>char_freq_%24: 0.0</br></br>word_freq_make: 0.0</br>word_freq_address: 0.0</br>word_freq_all: 0.0</br>word_freq_3d: 0.0</br>word_freq_our: 1.85</br>word_freq_over: 0.0</br>word_freq_remove: 0.0</br>word_freq_internet: 1.85</br>word_freq_order: 0.0</br>word_freq_mail: 0.0</br>word_freq_receive: 0.0</br>word_freq_will: 0.0</br>word_freq_people: 0.0</br>word_freq_report: 0.0</br>word_freq_addresses: 0.0</br>word_freq_free: 0.0</br>word_freq_business: 0.0</br>word_freq_email: 0.0</br>... too many variables\"],[\"</br>id: 5</br>prediction: 0.52</br>char_freq_%24: 0.06003</br></br>word_freq_make: 0.0</br>word_freq_address: 0.0</br>word_freq_all: 0.0</br>word_freq_3d: 0.0</br>word_freq_our: 1.85</br>word_freq_over: 0.0</br>word_freq_remove: 0.0</br>word_freq_internet: 1.85</br>word_freq_order: 0.0</br>word_freq_mail: 0.0</br>word_freq_receive: 0.0</br>word_freq_will: 0.0</br>word_freq_people: 0.0</br>word_freq_report: 0.0</br>word_freq_addresses: 0.0</br>word_freq_free: 0.0</br>word_freq_business: 0.0</br>word_freq_email: 0.0</br>... too many variables\"],[\"</br>id: 5</br>prediction: 0.615</br>char_freq_%24: 0.12006</br></br>word_freq_make: 0.0</br>word_freq_address: 0.0</br>word_freq_all: 0.0</br>word_freq_3d: 0.0</br>word_freq_our: 1.85</br>word_freq_over: 0.0</br>word_freq_remove: 0.0</br>word_freq_internet: 1.85</br>word_freq_order: 0.0</br>word_freq_mail: 0.0</br>word_freq_receive: 0.0</br>word_freq_will: 0.0</br>word_freq_people: 0.0</br>word_freq_report: 0.0</br>word_freq_addresses: 0.0</br>word_freq_free: 0.0</br>word_freq_business: 0.0</br>... too many variables\"],[\"</br>id: 5</br>prediction: 0.677</br>char_freq_%24: 0.18009</br></br>word_freq_make: 0.0</br>word_freq_address: 0.0</br>word_freq_all: 0.0</br>word_freq_3d: 0.0</br>word_freq_our: 1.85</br>word_freq_over: 0.0</br>word_freq_remove: 0.0</br>word_freq_internet: 1.85</br>word_freq_order: 0.0</br>word_freq_mail: 0.0</br>word_freq_receive: 0.0</br>word_freq_will: 0.0</br>word_freq_people: 0.0</br>word_freq_report: 0.0</br>word_freq_addresses: 0.0</br>word_freq_free: 0.0</br>word_freq_business: 0.0</br>... too many variables\"],[\"</br>id: 5</br>prediction: 0.684</br>char_freq_%24: 0.24012</br></br>word_freq_make: 0.0</br>word_freq_address: 0.0</br>word_freq_all: 0.0</br>word_freq_3d: 0.0</br>word_freq_our: 1.85</br>word_freq_over: 0.0</br>word_freq_remove: 0.0</br>word_freq_internet: 1.85</br>word_freq_order: 0.0</br>word_freq_mail: 0.0</br>word_freq_receive: 0.0</br>word_freq_will: 0.0</br>word_freq_people: 0.0</br>word_freq_report: 0.0</br>word_freq_addresses: 0.0</br>word_freq_free: 0.0</br>word_freq_business: 0.0</br>... too many variables\"],[\"</br>id: 5</br>prediction: 0.688</br>char_freq_%24: 0.30015000000000003</br></br>word_freq_make: 0.0</br>word_freq_address: 0.0</br>word_freq_all: 0.0</br>word_freq_3d: 0.0</br>word_freq_our: 1.85</br>word_freq_over: 0.0</br>word_freq_remove: 0.0</br>word_freq_internet: 1.85</br>word_freq_order: 0.0</br>word_freq_mail: 0.0</br>word_freq_receive: 0.0</br>word_freq_will: 0.0</br>word_freq_people: 0.0</br>word_freq_report: 0.0</br>word_freq_addresses: 0.0</br>word_freq_free: 0.0</br>word_freq_business: 0.0</br>... too many variables\"],[\"</br>id: 5</br>prediction: 0.688</br>char_freq_%24: 0.36018</br></br>word_freq_make: 0.0</br>word_freq_address: 0.0</br>word_freq_all: 0.0</br>word_freq_3d: 0.0</br>word_freq_our: 1.85</br>word_freq_over: 0.0</br>word_freq_remove: 0.0</br>word_freq_internet: 1.85</br>word_freq_order: 0.0</br>word_freq_mail: 0.0</br>word_freq_receive: 0.0</br>word_freq_will: 0.0</br>word_freq_people: 0.0</br>word_freq_report: 0.0</br>word_freq_addresses: 0.0</br>word_freq_free: 0.0</br>word_freq_business: 0.0</br>... too many variables\"],[\"</br>id: 5</br>prediction: 0.686</br>char_freq_%24: 0.42021</br></br>word_freq_make: 0.0</br>word_freq_address: 0.0</br>word_freq_all: 0.0</br>word_freq_3d: 0.0</br>word_freq_our: 1.85</br>word_freq_over: 0.0</br>word_freq_remove: 0.0</br>word_freq_internet: 1.85</br>word_freq_order: 0.0</br>word_freq_mail: 0.0</br>word_freq_receive: 0.0</br>word_freq_will: 0.0</br>word_freq_people: 0.0</br>word_freq_report: 0.0</br>word_freq_addresses: 0.0</br>word_freq_free: 0.0</br>word_freq_business: 0.0</br>... too many variables\"],[\"</br>id: 5</br>prediction: 0.686</br>char_freq_%24: 0.48024</br></br>word_freq_make: 0.0</br>word_freq_address: 0.0</br>word_freq_all: 0.0</br>word_freq_3d: 0.0</br>word_freq_our: 1.85</br>word_freq_over: 0.0</br>word_freq_remove: 0.0</br>word_freq_internet: 1.85</br>word_freq_order: 0.0</br>word_freq_mail: 0.0</br>word_freq_receive: 0.0</br>word_freq_will: 0.0</br>word_freq_people: 0.0</br>word_freq_report: 0.0</br>word_freq_addresses: 0.0</br>word_freq_free: 0.0</br>word_freq_business: 0.0</br>... too many variables\"],[\"</br>id: 5</br>prediction: 0.683</br>char_freq_%24: 0.54027</br></br>word_freq_make: 0.0</br>word_freq_address: 0.0</br>word_freq_all: 0.0</br>word_freq_3d: 0.0</br>word_freq_our: 1.85</br>word_freq_over: 0.0</br>word_freq_remove: 0.0</br>word_freq_internet: 1.85</br>word_freq_order: 0.0</br>word_freq_mail: 0.0</br>word_freq_receive: 0.0</br>word_freq_will: 0.0</br>word_freq_people: 0.0</br>word_freq_report: 0.0</br>word_freq_addresses: 0.0</br>word_freq_free: 0.0</br>word_freq_business: 0.0</br>... too many variables\"],[\"</br>id: 5</br>prediction: 0.676</br>char_freq_%24: 0.6003000000000001</br></br>word_freq_make: 0.0</br>word_freq_address: 0.0</br>word_freq_all: 0.0</br>word_freq_3d: 0.0</br>word_freq_our: 1.85</br>word_freq_over: 0.0</br>word_freq_remove: 0.0</br>word_freq_internet: 1.85</br>word_freq_order: 0.0</br>word_freq_mail: 0.0</br>word_freq_receive: 0.0</br>word_freq_will: 0.0</br>word_freq_people: 0.0</br>word_freq_report: 0.0</br>word_freq_addresses: 0.0</br>word_freq_free: 0.0</br>word_freq_business: 0.0</br>... too many variables\"],[\"</br>id: 5</br>prediction: 0.676</br>char_freq_%24: 0.66033</br></br>word_freq_make: 0.0</br>word_freq_address: 0.0</br>word_freq_all: 0.0</br>word_freq_3d: 0.0</br>word_freq_our: 1.85</br>word_freq_over: 0.0</br>word_freq_remove: 0.0</br>word_freq_internet: 1.85</br>word_freq_order: 0.0</br>word_freq_mail: 0.0</br>word_freq_receive: 0.0</br>word_freq_will: 0.0</br>word_freq_people: 0.0</br>word_freq_report: 0.0</br>word_freq_addresses: 0.0</br>word_freq_free: 0.0</br>word_freq_business: 0.0</br>... too many variables\"],[\"</br>id: 5</br>prediction: 0.675</br>char_freq_%24: 0.72036</br></br>word_freq_make: 0.0</br>word_freq_address: 0.0</br>word_freq_all: 0.0</br>word_freq_3d: 0.0</br>word_freq_our: 1.85</br>word_freq_over: 0.0</br>word_freq_remove: 0.0</br>word_freq_internet: 1.85</br>word_freq_order: 0.0</br>word_freq_mail: 0.0</br>word_freq_receive: 0.0</br>word_freq_will: 0.0</br>word_freq_people: 0.0</br>word_freq_report: 0.0</br>word_freq_addresses: 0.0</br>word_freq_free: 0.0</br>word_freq_business: 0.0</br>... too many variables\"],[\"</br>id: 5</br>prediction: 0.675</br>char_freq_%24: 0.78039</br></br>word_freq_make: 0.0</br>word_freq_address: 0.0</br>word_freq_all: 0.0</br>word_freq_3d: 0.0</br>word_freq_our: 1.85</br>word_freq_over: 0.0</br>word_freq_remove: 0.0</br>word_freq_internet: 1.85</br>word_freq_order: 0.0</br>word_freq_mail: 0.0</br>word_freq_receive: 0.0</br>word_freq_will: 0.0</br>word_freq_people: 0.0</br>word_freq_report: 0.0</br>word_freq_addresses: 0.0</br>word_freq_free: 0.0</br>word_freq_business: 0.0</br>... too many variables\"],[\"</br>id: 5</br>prediction: 0.675</br>char_freq_%24: 0.84042</br></br>word_freq_make: 0.0</br>word_freq_address: 0.0</br>word_freq_all: 0.0</br>word_freq_3d: 0.0</br>word_freq_our: 1.85</br>word_freq_over: 0.0</br>word_freq_remove: 0.0</br>word_freq_internet: 1.85</br>word_freq_order: 0.0</br>word_freq_mail: 0.0</br>word_freq_receive: 0.0</br>word_freq_will: 0.0</br>word_freq_people: 0.0</br>word_freq_report: 0.0</br>word_freq_addresses: 0.0</br>word_freq_free: 0.0</br>word_freq_business: 0.0</br>... too many variables\"],[\"</br>id: 5</br>prediction: 0.677</br>char_freq_%24: 0.90045</br></br>word_freq_make: 0.0</br>word_freq_address: 0.0</br>word_freq_all: 0.0</br>word_freq_3d: 0.0</br>word_freq_our: 1.85</br>word_freq_over: 0.0</br>word_freq_remove: 0.0</br>word_freq_internet: 1.85</br>word_freq_order: 0.0</br>word_freq_mail: 0.0</br>word_freq_receive: 0.0</br>word_freq_will: 0.0</br>word_freq_people: 0.0</br>word_freq_report: 0.0</br>word_freq_addresses: 0.0</br>word_freq_free: 0.0</br>word_freq_business: 0.0</br>... too many variables\"],[\"</br>id: 5</br>prediction: 0.677</br>char_freq_%24: 0.96048</br></br>word_freq_make: 0.0</br>word_freq_address: 0.0</br>word_freq_all: 0.0</br>word_freq_3d: 0.0</br>word_freq_our: 1.85</br>word_freq_over: 0.0</br>word_freq_remove: 0.0</br>word_freq_internet: 1.85</br>word_freq_order: 0.0</br>word_freq_mail: 0.0</br>word_freq_receive: 0.0</br>word_freq_will: 0.0</br>word_freq_people: 0.0</br>word_freq_report: 0.0</br>word_freq_addresses: 0.0</br>word_freq_free: 0.0</br>word_freq_business: 0.0</br>... too many variables\"],[\"</br>id: 5</br>prediction: 0.682</br>char_freq_%24: 1.02051</br></br>word_freq_make: 0.0</br>word_freq_address: 0.0</br>word_freq_all: 0.0</br>word_freq_3d: 0.0</br>word_freq_our: 1.85</br>word_freq_over: 0.0</br>word_freq_remove: 0.0</br>word_freq_internet: 1.85</br>word_freq_order: 0.0</br>word_freq_mail: 0.0</br>word_freq_receive: 0.0</br>word_freq_will: 0.0</br>word_freq_people: 0.0</br>word_freq_report: 0.0</br>word_freq_addresses: 0.0</br>word_freq_free: 0.0</br>word_freq_business: 0.0</br>... too many variables\"],[\"</br>id: 5</br>prediction: 0.682</br>char_freq_%24: 1.08054</br></br>word_freq_make: 0.0</br>word_freq_address: 0.0</br>word_freq_all: 0.0</br>word_freq_3d: 0.0</br>word_freq_our: 1.85</br>word_freq_over: 0.0</br>word_freq_remove: 0.0</br>word_freq_internet: 1.85</br>word_freq_order: 0.0</br>word_freq_mail: 0.0</br>word_freq_receive: 0.0</br>word_freq_will: 0.0</br>word_freq_people: 0.0</br>word_freq_report: 0.0</br>word_freq_addresses: 0.0</br>word_freq_free: 0.0</br>word_freq_business: 0.0</br>... too many variables\"],[\"</br>id: 5</br>prediction: 0.682</br>char_freq_%24: 1.14057</br></br>word_freq_make: 0.0</br>word_freq_address: 0.0</br>word_freq_all: 0.0</br>word_freq_3d: 0.0</br>word_freq_our: 1.85</br>word_freq_over: 0.0</br>word_freq_remove: 0.0</br>word_freq_internet: 1.85</br>word_freq_order: 0.0</br>word_freq_mail: 0.0</br>word_freq_receive: 0.0</br>word_freq_will: 0.0</br>word_freq_people: 0.0</br>word_freq_report: 0.0</br>word_freq_addresses: 0.0</br>word_freq_free: 0.0</br>word_freq_business: 0.0</br>... too many variables\"],[\"</br>id: 5</br>prediction: 0.682</br>char_freq_%24: 1.2006000000000001</br></br>word_freq_make: 0.0</br>word_freq_address: 0.0</br>word_freq_all: 0.0</br>word_freq_3d: 0.0</br>word_freq_our: 1.85</br>word_freq_over: 0.0</br>word_freq_remove: 0.0</br>word_freq_internet: 1.85</br>word_freq_order: 0.0</br>word_freq_mail: 0.0</br>word_freq_receive: 0.0</br>word_freq_will: 0.0</br>word_freq_people: 0.0</br>word_freq_report: 0.0</br>word_freq_addresses: 0.0</br>word_freq_free: 0.0</br>word_freq_business: 0.0</br>... too many variables\"],[\"</br>id: 5</br>prediction: 0.682</br>char_freq_%24: 1.26063</br></br>word_freq_make: 0.0</br>word_freq_address: 0.0</br>word_freq_all: 0.0</br>word_freq_3d: 0.0</br>word_freq_our: 1.85</br>word_freq_over: 0.0</br>word_freq_remove: 0.0</br>word_freq_internet: 1.85</br>word_freq_order: 0.0</br>word_freq_mail: 0.0</br>word_freq_receive: 0.0</br>word_freq_will: 0.0</br>word_freq_people: 0.0</br>word_freq_report: 0.0</br>word_freq_addresses: 0.0</br>word_freq_free: 0.0</br>word_freq_business: 0.0</br>... too many variables\"],[\"</br>id: 5</br>prediction: 0.682</br>char_freq_%24: 1.32066</br></br>word_freq_make: 0.0</br>word_freq_address: 0.0</br>word_freq_all: 0.0</br>word_freq_3d: 0.0</br>word_freq_our: 1.85</br>word_freq_over: 0.0</br>word_freq_remove: 0.0</br>word_freq_internet: 1.85</br>word_freq_order: 0.0</br>word_freq_mail: 0.0</br>word_freq_receive: 0.0</br>word_freq_will: 0.0</br>word_freq_people: 0.0</br>word_freq_report: 0.0</br>word_freq_addresses: 0.0</br>word_freq_free: 0.0</br>word_freq_business: 0.0</br>... too many variables\"],[\"</br>id: 5</br>prediction: 0.682</br>char_freq_%24: 1.38069</br></br>word_freq_make: 0.0</br>word_freq_address: 0.0</br>word_freq_all: 0.0</br>word_freq_3d: 0.0</br>word_freq_our: 1.85</br>word_freq_over: 0.0</br>word_freq_remove: 0.0</br>word_freq_internet: 1.85</br>word_freq_order: 0.0</br>word_freq_mail: 0.0</br>word_freq_receive: 0.0</br>word_freq_will: 0.0</br>word_freq_people: 0.0</br>word_freq_report: 0.0</br>word_freq_addresses: 0.0</br>word_freq_free: 0.0</br>word_freq_business: 0.0</br>... too many variables\"],[\"</br>id: 5</br>prediction: 0.682</br>char_freq_%24: 1.44072</br></br>word_freq_make: 0.0</br>word_freq_address: 0.0</br>word_freq_all: 0.0</br>word_freq_3d: 0.0</br>word_freq_our: 1.85</br>word_freq_over: 0.0</br>word_freq_remove: 0.0</br>word_freq_internet: 1.85</br>word_freq_order: 0.0</br>word_freq_mail: 0.0</br>word_freq_receive: 0.0</br>word_freq_will: 0.0</br>word_freq_people: 0.0</br>word_freq_report: 0.0</br>word_freq_addresses: 0.0</br>word_freq_free: 0.0</br>word_freq_business: 0.0</br>... too many variables\"],[\"</br>id: 5</br>prediction: 0.682</br>char_freq_%24: 1.50075</br></br>word_freq_make: 0.0</br>word_freq_address: 0.0</br>word_freq_all: 0.0</br>word_freq_3d: 0.0</br>word_freq_our: 1.85</br>word_freq_over: 0.0</br>word_freq_remove: 0.0</br>word_freq_internet: 1.85</br>word_freq_order: 0.0</br>word_freq_mail: 0.0</br>word_freq_receive: 0.0</br>word_freq_will: 0.0</br>word_freq_people: 0.0</br>word_freq_report: 0.0</br>word_freq_addresses: 0.0</br>word_freq_free: 0.0</br>word_freq_business: 0.0</br>... too many variables\"],[\"</br>id: 5</br>prediction: 0.682</br>char_freq_%24: 1.56078</br></br>word_freq_make: 0.0</br>word_freq_address: 0.0</br>word_freq_all: 0.0</br>word_freq_3d: 0.0</br>word_freq_our: 1.85</br>word_freq_over: 0.0</br>word_freq_remove: 0.0</br>word_freq_internet: 1.85</br>word_freq_order: 0.0</br>word_freq_mail: 0.0</br>word_freq_receive: 0.0</br>word_freq_will: 0.0</br>word_freq_people: 0.0</br>word_freq_report: 0.0</br>word_freq_addresses: 0.0</br>word_freq_free: 0.0</br>word_freq_business: 0.0</br>... too many variables\"],[\"</br>id: 5</br>prediction: 0.682</br>char_freq_%24: 1.62081</br></br>word_freq_make: 0.0</br>word_freq_address: 0.0</br>word_freq_all: 0.0</br>word_freq_3d: 0.0</br>word_freq_our: 1.85</br>word_freq_over: 0.0</br>word_freq_remove: 0.0</br>word_freq_internet: 1.85</br>word_freq_order: 0.0</br>word_freq_mail: 0.0</br>word_freq_receive: 0.0</br>word_freq_will: 0.0</br>word_freq_people: 0.0</br>word_freq_report: 0.0</br>word_freq_addresses: 0.0</br>word_freq_free: 0.0</br>word_freq_business: 0.0</br>... too many variables\"],[\"</br>id: 5</br>prediction: 0.682</br>char_freq_%24: 1.68084</br></br>word_freq_make: 0.0</br>word_freq_address: 0.0</br>word_freq_all: 0.0</br>word_freq_3d: 0.0</br>word_freq_our: 1.85</br>word_freq_over: 0.0</br>word_freq_remove: 0.0</br>word_freq_internet: 1.85</br>word_freq_order: 0.0</br>word_freq_mail: 0.0</br>word_freq_receive: 0.0</br>word_freq_will: 0.0</br>word_freq_people: 0.0</br>word_freq_report: 0.0</br>word_freq_addresses: 0.0</br>word_freq_free: 0.0</br>word_freq_business: 0.0</br>... too many variables\"],[\"</br>id: 5</br>prediction: 0.682</br>char_freq_%24: 1.74087</br></br>word_freq_make: 0.0</br>word_freq_address: 0.0</br>word_freq_all: 0.0</br>word_freq_3d: 0.0</br>word_freq_our: 1.85</br>word_freq_over: 0.0</br>word_freq_remove: 0.0</br>word_freq_internet: 1.85</br>word_freq_order: 0.0</br>word_freq_mail: 0.0</br>word_freq_receive: 0.0</br>word_freq_will: 0.0</br>word_freq_people: 0.0</br>word_freq_report: 0.0</br>word_freq_addresses: 0.0</br>word_freq_free: 0.0</br>word_freq_business: 0.0</br>... too many variables\"],[\"</br>id: 5</br>prediction: 0.682</br>char_freq_%24: 1.8009</br></br>word_freq_make: 0.0</br>word_freq_address: 0.0</br>word_freq_all: 0.0</br>word_freq_3d: 0.0</br>word_freq_our: 1.85</br>word_freq_over: 0.0</br>word_freq_remove: 0.0</br>word_freq_internet: 1.85</br>word_freq_order: 0.0</br>word_freq_mail: 0.0</br>word_freq_receive: 0.0</br>word_freq_will: 0.0</br>word_freq_people: 0.0</br>word_freq_report: 0.0</br>word_freq_addresses: 0.0</br>word_freq_free: 0.0</br>word_freq_business: 0.0</br>word_freq_email: 0.0</br>... too many variables\"],[\"</br>id: 5</br>prediction: 0.682</br>char_freq_%24: 1.86093</br></br>word_freq_make: 0.0</br>word_freq_address: 0.0</br>word_freq_all: 0.0</br>word_freq_3d: 0.0</br>word_freq_our: 1.85</br>word_freq_over: 0.0</br>word_freq_remove: 0.0</br>word_freq_internet: 1.85</br>word_freq_order: 0.0</br>word_freq_mail: 0.0</br>word_freq_receive: 0.0</br>word_freq_will: 0.0</br>word_freq_people: 0.0</br>word_freq_report: 0.0</br>word_freq_addresses: 0.0</br>word_freq_free: 0.0</br>word_freq_business: 0.0</br>... too many variables\"],[\"</br>id: 5</br>prediction: 0.682</br>char_freq_%24: 1.92096</br></br>word_freq_make: 0.0</br>word_freq_address: 0.0</br>word_freq_all: 0.0</br>word_freq_3d: 0.0</br>word_freq_our: 1.85</br>word_freq_over: 0.0</br>word_freq_remove: 0.0</br>word_freq_internet: 1.85</br>word_freq_order: 0.0</br>word_freq_mail: 0.0</br>word_freq_receive: 0.0</br>word_freq_will: 0.0</br>word_freq_people: 0.0</br>word_freq_report: 0.0</br>word_freq_addresses: 0.0</br>word_freq_free: 0.0</br>word_freq_business: 0.0</br>... too many variables\"],[\"</br>id: 5</br>prediction: 0.682</br>char_freq_%24: 1.98099</br></br>word_freq_make: 0.0</br>word_freq_address: 0.0</br>word_freq_all: 0.0</br>word_freq_3d: 0.0</br>word_freq_our: 1.85</br>word_freq_over: 0.0</br>word_freq_remove: 0.0</br>word_freq_internet: 1.85</br>word_freq_order: 0.0</br>word_freq_mail: 0.0</br>word_freq_receive: 0.0</br>word_freq_will: 0.0</br>word_freq_people: 0.0</br>word_freq_report: 0.0</br>word_freq_addresses: 0.0</br>word_freq_free: 0.0</br>word_freq_business: 0.0</br>... too many variables\"],[\"</br>id: 5</br>prediction: 0.687</br>char_freq_%24: 2.04102</br></br>word_freq_make: 0.0</br>word_freq_address: 0.0</br>word_freq_all: 0.0</br>word_freq_3d: 0.0</br>word_freq_our: 1.85</br>word_freq_over: 0.0</br>word_freq_remove: 0.0</br>word_freq_internet: 1.85</br>word_freq_order: 0.0</br>word_freq_mail: 0.0</br>word_freq_receive: 0.0</br>word_freq_will: 0.0</br>word_freq_people: 0.0</br>word_freq_report: 0.0</br>word_freq_addresses: 0.0</br>word_freq_free: 0.0</br>word_freq_business: 0.0</br>... too many variables\"],[\"</br>id: 5</br>prediction: 0.687</br>char_freq_%24: 2.10105</br></br>word_freq_make: 0.0</br>word_freq_address: 0.0</br>word_freq_all: 0.0</br>word_freq_3d: 0.0</br>word_freq_our: 1.85</br>word_freq_over: 0.0</br>word_freq_remove: 0.0</br>word_freq_internet: 1.85</br>word_freq_order: 0.0</br>word_freq_mail: 0.0</br>word_freq_receive: 0.0</br>word_freq_will: 0.0</br>word_freq_people: 0.0</br>word_freq_report: 0.0</br>word_freq_addresses: 0.0</br>word_freq_free: 0.0</br>word_freq_business: 0.0</br>... too many variables\"],[\"</br>id: 5</br>prediction: 0.687</br>char_freq_%24: 2.16108</br></br>word_freq_make: 0.0</br>word_freq_address: 0.0</br>word_freq_all: 0.0</br>word_freq_3d: 0.0</br>word_freq_our: 1.85</br>word_freq_over: 0.0</br>word_freq_remove: 0.0</br>word_freq_internet: 1.85</br>word_freq_order: 0.0</br>word_freq_mail: 0.0</br>word_freq_receive: 0.0</br>word_freq_will: 0.0</br>word_freq_people: 0.0</br>word_freq_report: 0.0</br>word_freq_addresses: 0.0</br>word_freq_free: 0.0</br>word_freq_business: 0.0</br>... too many variables\"],[\"</br>id: 5</br>prediction: 0.687</br>char_freq_%24: 2.22111</br></br>word_freq_make: 0.0</br>word_freq_address: 0.0</br>word_freq_all: 0.0</br>word_freq_3d: 0.0</br>word_freq_our: 1.85</br>word_freq_over: 0.0</br>word_freq_remove: 0.0</br>word_freq_internet: 1.85</br>word_freq_order: 0.0</br>word_freq_mail: 0.0</br>word_freq_receive: 0.0</br>word_freq_will: 0.0</br>word_freq_people: 0.0</br>word_freq_report: 0.0</br>word_freq_addresses: 0.0</br>word_freq_free: 0.0</br>word_freq_business: 0.0</br>... too many variables\"],[\"</br>id: 5</br>prediction: 0.687</br>char_freq_%24: 2.28114</br></br>word_freq_make: 0.0</br>word_freq_address: 0.0</br>word_freq_all: 0.0</br>word_freq_3d: 0.0</br>word_freq_our: 1.85</br>word_freq_over: 0.0</br>word_freq_remove: 0.0</br>word_freq_internet: 1.85</br>word_freq_order: 0.0</br>word_freq_mail: 0.0</br>word_freq_receive: 0.0</br>word_freq_will: 0.0</br>word_freq_people: 0.0</br>word_freq_report: 0.0</br>word_freq_addresses: 0.0</br>word_freq_free: 0.0</br>word_freq_business: 0.0</br>... too many variables\"],[\"</br>id: 5</br>prediction: 0.687</br>char_freq_%24: 2.34117</br></br>word_freq_make: 0.0</br>word_freq_address: 0.0</br>word_freq_all: 0.0</br>word_freq_3d: 0.0</br>word_freq_our: 1.85</br>word_freq_over: 0.0</br>word_freq_remove: 0.0</br>word_freq_internet: 1.85</br>word_freq_order: 0.0</br>word_freq_mail: 0.0</br>word_freq_receive: 0.0</br>word_freq_will: 0.0</br>word_freq_people: 0.0</br>word_freq_report: 0.0</br>word_freq_addresses: 0.0</br>word_freq_free: 0.0</br>word_freq_business: 0.0</br>... too many variables\"],[\"</br>id: 5</br>prediction: 0.687</br>char_freq_%24: 2.4012000000000002</br></br>word_freq_make: 0.0</br>word_freq_address: 0.0</br>word_freq_all: 0.0</br>word_freq_3d: 0.0</br>word_freq_our: 1.85</br>word_freq_over: 0.0</br>word_freq_remove: 0.0</br>word_freq_internet: 1.85</br>word_freq_order: 0.0</br>word_freq_mail: 0.0</br>word_freq_receive: 0.0</br>word_freq_will: 0.0</br>word_freq_people: 0.0</br>word_freq_report: 0.0</br>word_freq_addresses: 0.0</br>word_freq_free: 0.0</br>word_freq_business: 0.0</br>... too many variables\"],[\"</br>id: 5</br>prediction: 0.687</br>char_freq_%24: 2.46123</br></br>word_freq_make: 0.0</br>word_freq_address: 0.0</br>word_freq_all: 0.0</br>word_freq_3d: 0.0</br>word_freq_our: 1.85</br>word_freq_over: 0.0</br>word_freq_remove: 0.0</br>word_freq_internet: 1.85</br>word_freq_order: 0.0</br>word_freq_mail: 0.0</br>word_freq_receive: 0.0</br>word_freq_will: 0.0</br>word_freq_people: 0.0</br>word_freq_report: 0.0</br>word_freq_addresses: 0.0</br>word_freq_free: 0.0</br>word_freq_business: 0.0</br>... too many variables\"],[\"</br>id: 5</br>prediction: 0.687</br>char_freq_%24: 2.52126</br></br>word_freq_make: 0.0</br>word_freq_address: 0.0</br>word_freq_all: 0.0</br>word_freq_3d: 0.0</br>word_freq_our: 1.85</br>word_freq_over: 0.0</br>word_freq_remove: 0.0</br>word_freq_internet: 1.85</br>word_freq_order: 0.0</br>word_freq_mail: 0.0</br>word_freq_receive: 0.0</br>word_freq_will: 0.0</br>word_freq_people: 0.0</br>word_freq_report: 0.0</br>word_freq_addresses: 0.0</br>word_freq_free: 0.0</br>word_freq_business: 0.0</br>... too many variables\"],[\"</br>id: 5</br>prediction: 0.687</br>char_freq_%24: 2.58129</br></br>word_freq_make: 0.0</br>word_freq_address: 0.0</br>word_freq_all: 0.0</br>word_freq_3d: 0.0</br>word_freq_our: 1.85</br>word_freq_over: 0.0</br>word_freq_remove: 0.0</br>word_freq_internet: 1.85</br>word_freq_order: 0.0</br>word_freq_mail: 0.0</br>word_freq_receive: 0.0</br>word_freq_will: 0.0</br>word_freq_people: 0.0</br>word_freq_report: 0.0</br>word_freq_addresses: 0.0</br>word_freq_free: 0.0</br>word_freq_business: 0.0</br>... too many variables\"],[\"</br>id: 5</br>prediction: 0.687</br>char_freq_%24: 2.64132</br></br>word_freq_make: 0.0</br>word_freq_address: 0.0</br>word_freq_all: 0.0</br>word_freq_3d: 0.0</br>word_freq_our: 1.85</br>word_freq_over: 0.0</br>word_freq_remove: 0.0</br>word_freq_internet: 1.85</br>word_freq_order: 0.0</br>word_freq_mail: 0.0</br>word_freq_receive: 0.0</br>word_freq_will: 0.0</br>word_freq_people: 0.0</br>word_freq_report: 0.0</br>word_freq_addresses: 0.0</br>word_freq_free: 0.0</br>word_freq_business: 0.0</br>... too many variables\"],[\"</br>id: 5</br>prediction: 0.687</br>char_freq_%24: 2.70135</br></br>word_freq_make: 0.0</br>word_freq_address: 0.0</br>word_freq_all: 0.0</br>word_freq_3d: 0.0</br>word_freq_our: 1.85</br>word_freq_over: 0.0</br>word_freq_remove: 0.0</br>word_freq_internet: 1.85</br>word_freq_order: 0.0</br>word_freq_mail: 0.0</br>word_freq_receive: 0.0</br>word_freq_will: 0.0</br>word_freq_people: 0.0</br>word_freq_report: 0.0</br>word_freq_addresses: 0.0</br>word_freq_free: 0.0</br>word_freq_business: 0.0</br>... too many variables\"],[\"</br>id: 5</br>prediction: 0.687</br>char_freq_%24: 2.76138</br></br>word_freq_make: 0.0</br>word_freq_address: 0.0</br>word_freq_all: 0.0</br>word_freq_3d: 0.0</br>word_freq_our: 1.85</br>word_freq_over: 0.0</br>word_freq_remove: 0.0</br>word_freq_internet: 1.85</br>word_freq_order: 0.0</br>word_freq_mail: 0.0</br>word_freq_receive: 0.0</br>word_freq_will: 0.0</br>word_freq_people: 0.0</br>word_freq_report: 0.0</br>word_freq_addresses: 0.0</br>word_freq_free: 0.0</br>word_freq_business: 0.0</br>... too many variables\"],[\"</br>id: 5</br>prediction: 0.687</br>char_freq_%24: 2.82141</br></br>word_freq_make: 0.0</br>word_freq_address: 0.0</br>word_freq_all: 0.0</br>word_freq_3d: 0.0</br>word_freq_our: 1.85</br>word_freq_over: 0.0</br>word_freq_remove: 0.0</br>word_freq_internet: 1.85</br>word_freq_order: 0.0</br>word_freq_mail: 0.0</br>word_freq_receive: 0.0</br>word_freq_will: 0.0</br>word_freq_people: 0.0</br>word_freq_report: 0.0</br>word_freq_addresses: 0.0</br>word_freq_free: 0.0</br>word_freq_business: 0.0</br>... too many variables\"],[\"</br>id: 5</br>prediction: 0.687</br>char_freq_%24: 2.88144</br></br>word_freq_make: 0.0</br>word_freq_address: 0.0</br>word_freq_all: 0.0</br>word_freq_3d: 0.0</br>word_freq_our: 1.85</br>word_freq_over: 0.0</br>word_freq_remove: 0.0</br>word_freq_internet: 1.85</br>word_freq_order: 0.0</br>word_freq_mail: 0.0</br>word_freq_receive: 0.0</br>word_freq_will: 0.0</br>word_freq_people: 0.0</br>word_freq_report: 0.0</br>word_freq_addresses: 0.0</br>word_freq_free: 0.0</br>word_freq_business: 0.0</br>... too many variables\"],[\"</br>id: 5</br>prediction: 0.687</br>char_freq_%24: 2.94147</br></br>word_freq_make: 0.0</br>word_freq_address: 0.0</br>word_freq_all: 0.0</br>word_freq_3d: 0.0</br>word_freq_our: 1.85</br>word_freq_over: 0.0</br>word_freq_remove: 0.0</br>word_freq_internet: 1.85</br>word_freq_order: 0.0</br>word_freq_mail: 0.0</br>word_freq_receive: 0.0</br>word_freq_will: 0.0</br>word_freq_people: 0.0</br>word_freq_report: 0.0</br>word_freq_addresses: 0.0</br>word_freq_free: 0.0</br>word_freq_business: 0.0</br>... too many variables\"],[\"</br>id: 5</br>prediction: 0.687</br>char_freq_%24: 3.0015</br></br>word_freq_make: 0.0</br>word_freq_address: 0.0</br>word_freq_all: 0.0</br>word_freq_3d: 0.0</br>word_freq_our: 1.85</br>word_freq_over: 0.0</br>word_freq_remove: 0.0</br>word_freq_internet: 1.85</br>word_freq_order: 0.0</br>word_freq_mail: 0.0</br>word_freq_receive: 0.0</br>word_freq_will: 0.0</br>word_freq_people: 0.0</br>word_freq_report: 0.0</br>word_freq_addresses: 0.0</br>word_freq_free: 0.0</br>word_freq_business: 0.0</br>word_freq_email: 0.0</br>... too many variables\"],[\"</br>id: 5</br>prediction: 0.687</br>char_freq_%24: 3.06153</br></br>word_freq_make: 0.0</br>word_freq_address: 0.0</br>word_freq_all: 0.0</br>word_freq_3d: 0.0</br>word_freq_our: 1.85</br>word_freq_over: 0.0</br>word_freq_remove: 0.0</br>word_freq_internet: 1.85</br>word_freq_order: 0.0</br>word_freq_mail: 0.0</br>word_freq_receive: 0.0</br>word_freq_will: 0.0</br>word_freq_people: 0.0</br>word_freq_report: 0.0</br>word_freq_addresses: 0.0</br>word_freq_free: 0.0</br>word_freq_business: 0.0</br>... too many variables\"],[\"</br>id: 5</br>prediction: 0.687</br>char_freq_%24: 3.12156</br></br>word_freq_make: 0.0</br>word_freq_address: 0.0</br>word_freq_all: 0.0</br>word_freq_3d: 0.0</br>word_freq_our: 1.85</br>word_freq_over: 0.0</br>word_freq_remove: 0.0</br>word_freq_internet: 1.85</br>word_freq_order: 0.0</br>word_freq_mail: 0.0</br>word_freq_receive: 0.0</br>word_freq_will: 0.0</br>word_freq_people: 0.0</br>word_freq_report: 0.0</br>word_freq_addresses: 0.0</br>word_freq_free: 0.0</br>word_freq_business: 0.0</br>... too many variables\"],[\"</br>id: 5</br>prediction: 0.687</br>char_freq_%24: 3.18159</br></br>word_freq_make: 0.0</br>word_freq_address: 0.0</br>word_freq_all: 0.0</br>word_freq_3d: 0.0</br>word_freq_our: 1.85</br>word_freq_over: 0.0</br>word_freq_remove: 0.0</br>word_freq_internet: 1.85</br>word_freq_order: 0.0</br>word_freq_mail: 0.0</br>word_freq_receive: 0.0</br>word_freq_will: 0.0</br>word_freq_people: 0.0</br>word_freq_report: 0.0</br>word_freq_addresses: 0.0</br>word_freq_free: 0.0</br>word_freq_business: 0.0</br>... too many variables\"],[\"</br>id: 5</br>prediction: 0.687</br>char_freq_%24: 3.24162</br></br>word_freq_make: 0.0</br>word_freq_address: 0.0</br>word_freq_all: 0.0</br>word_freq_3d: 0.0</br>word_freq_our: 1.85</br>word_freq_over: 0.0</br>word_freq_remove: 0.0</br>word_freq_internet: 1.85</br>word_freq_order: 0.0</br>word_freq_mail: 0.0</br>word_freq_receive: 0.0</br>word_freq_will: 0.0</br>word_freq_people: 0.0</br>word_freq_report: 0.0</br>word_freq_addresses: 0.0</br>word_freq_free: 0.0</br>word_freq_business: 0.0</br>... too many variables\"],[\"</br>id: 5</br>prediction: 0.687</br>char_freq_%24: 3.30165</br></br>word_freq_make: 0.0</br>word_freq_address: 0.0</br>word_freq_all: 0.0</br>word_freq_3d: 0.0</br>word_freq_our: 1.85</br>word_freq_over: 0.0</br>word_freq_remove: 0.0</br>word_freq_internet: 1.85</br>word_freq_order: 0.0</br>word_freq_mail: 0.0</br>word_freq_receive: 0.0</br>word_freq_will: 0.0</br>word_freq_people: 0.0</br>word_freq_report: 0.0</br>word_freq_addresses: 0.0</br>word_freq_free: 0.0</br>word_freq_business: 0.0</br>... too many variables\"],[\"</br>id: 5</br>prediction: 0.687</br>char_freq_%24: 3.36168</br></br>word_freq_make: 0.0</br>word_freq_address: 0.0</br>word_freq_all: 0.0</br>word_freq_3d: 0.0</br>word_freq_our: 1.85</br>word_freq_over: 0.0</br>word_freq_remove: 0.0</br>word_freq_internet: 1.85</br>word_freq_order: 0.0</br>word_freq_mail: 0.0</br>word_freq_receive: 0.0</br>word_freq_will: 0.0</br>word_freq_people: 0.0</br>word_freq_report: 0.0</br>word_freq_addresses: 0.0</br>word_freq_free: 0.0</br>word_freq_business: 0.0</br>... too many variables\"],[\"</br>id: 5</br>prediction: 0.687</br>char_freq_%24: 3.42171</br></br>word_freq_make: 0.0</br>word_freq_address: 0.0</br>word_freq_all: 0.0</br>word_freq_3d: 0.0</br>word_freq_our: 1.85</br>word_freq_over: 0.0</br>word_freq_remove: 0.0</br>word_freq_internet: 1.85</br>word_freq_order: 0.0</br>word_freq_mail: 0.0</br>word_freq_receive: 0.0</br>word_freq_will: 0.0</br>word_freq_people: 0.0</br>word_freq_report: 0.0</br>word_freq_addresses: 0.0</br>word_freq_free: 0.0</br>word_freq_business: 0.0</br>... too many variables\"],[\"</br>id: 5</br>prediction: 0.687</br>char_freq_%24: 3.48174</br></br>word_freq_make: 0.0</br>word_freq_address: 0.0</br>word_freq_all: 0.0</br>word_freq_3d: 0.0</br>word_freq_our: 1.85</br>word_freq_over: 0.0</br>word_freq_remove: 0.0</br>word_freq_internet: 1.85</br>word_freq_order: 0.0</br>word_freq_mail: 0.0</br>word_freq_receive: 0.0</br>word_freq_will: 0.0</br>word_freq_people: 0.0</br>word_freq_report: 0.0</br>word_freq_addresses: 0.0</br>word_freq_free: 0.0</br>word_freq_business: 0.0</br>... too many variables\"],[\"</br>id: 5</br>prediction: 0.687</br>char_freq_%24: 3.54177</br></br>word_freq_make: 0.0</br>word_freq_address: 0.0</br>word_freq_all: 0.0</br>word_freq_3d: 0.0</br>word_freq_our: 1.85</br>word_freq_over: 0.0</br>word_freq_remove: 0.0</br>word_freq_internet: 1.85</br>word_freq_order: 0.0</br>word_freq_mail: 0.0</br>word_freq_receive: 0.0</br>word_freq_will: 0.0</br>word_freq_people: 0.0</br>word_freq_report: 0.0</br>word_freq_addresses: 0.0</br>word_freq_free: 0.0</br>word_freq_business: 0.0</br>... too many variables\"],[\"</br>id: 5</br>prediction: 0.687</br>char_freq_%24: 3.6018</br></br>word_freq_make: 0.0</br>word_freq_address: 0.0</br>word_freq_all: 0.0</br>word_freq_3d: 0.0</br>word_freq_our: 1.85</br>word_freq_over: 0.0</br>word_freq_remove: 0.0</br>word_freq_internet: 1.85</br>word_freq_order: 0.0</br>word_freq_mail: 0.0</br>word_freq_receive: 0.0</br>word_freq_will: 0.0</br>word_freq_people: 0.0</br>word_freq_report: 0.0</br>word_freq_addresses: 0.0</br>word_freq_free: 0.0</br>word_freq_business: 0.0</br>word_freq_email: 0.0</br>... too many variables\"],[\"</br>id: 5</br>prediction: 0.687</br>char_freq_%24: 3.66183</br></br>word_freq_make: 0.0</br>word_freq_address: 0.0</br>word_freq_all: 0.0</br>word_freq_3d: 0.0</br>word_freq_our: 1.85</br>word_freq_over: 0.0</br>word_freq_remove: 0.0</br>word_freq_internet: 1.85</br>word_freq_order: 0.0</br>word_freq_mail: 0.0</br>word_freq_receive: 0.0</br>word_freq_will: 0.0</br>word_freq_people: 0.0</br>word_freq_report: 0.0</br>word_freq_addresses: 0.0</br>word_freq_free: 0.0</br>word_freq_business: 0.0</br>... too many variables\"],[\"</br>id: 5</br>prediction: 0.687</br>char_freq_%24: 3.72186</br></br>word_freq_make: 0.0</br>word_freq_address: 0.0</br>word_freq_all: 0.0</br>word_freq_3d: 0.0</br>word_freq_our: 1.85</br>word_freq_over: 0.0</br>word_freq_remove: 0.0</br>word_freq_internet: 1.85</br>word_freq_order: 0.0</br>word_freq_mail: 0.0</br>word_freq_receive: 0.0</br>word_freq_will: 0.0</br>word_freq_people: 0.0</br>word_freq_report: 0.0</br>word_freq_addresses: 0.0</br>word_freq_free: 0.0</br>word_freq_business: 0.0</br>... too many variables\"],[\"</br>id: 5</br>prediction: 0.687</br>char_freq_%24: 3.78189</br></br>word_freq_make: 0.0</br>word_freq_address: 0.0</br>word_freq_all: 0.0</br>word_freq_3d: 0.0</br>word_freq_our: 1.85</br>word_freq_over: 0.0</br>word_freq_remove: 0.0</br>word_freq_internet: 1.85</br>word_freq_order: 0.0</br>word_freq_mail: 0.0</br>word_freq_receive: 0.0</br>word_freq_will: 0.0</br>word_freq_people: 0.0</br>word_freq_report: 0.0</br>word_freq_addresses: 0.0</br>word_freq_free: 0.0</br>word_freq_business: 0.0</br>... too many variables\"],[\"</br>id: 5</br>prediction: 0.687</br>char_freq_%24: 3.84192</br></br>word_freq_make: 0.0</br>word_freq_address: 0.0</br>word_freq_all: 0.0</br>word_freq_3d: 0.0</br>word_freq_our: 1.85</br>word_freq_over: 0.0</br>word_freq_remove: 0.0</br>word_freq_internet: 1.85</br>word_freq_order: 0.0</br>word_freq_mail: 0.0</br>word_freq_receive: 0.0</br>word_freq_will: 0.0</br>word_freq_people: 0.0</br>word_freq_report: 0.0</br>word_freq_addresses: 0.0</br>word_freq_free: 0.0</br>word_freq_business: 0.0</br>... too many variables\"],[\"</br>id: 5</br>prediction: 0.687</br>char_freq_%24: 3.90195</br></br>word_freq_make: 0.0</br>word_freq_address: 0.0</br>word_freq_all: 0.0</br>word_freq_3d: 0.0</br>word_freq_our: 1.85</br>word_freq_over: 0.0</br>word_freq_remove: 0.0</br>word_freq_internet: 1.85</br>word_freq_order: 0.0</br>word_freq_mail: 0.0</br>word_freq_receive: 0.0</br>word_freq_will: 0.0</br>word_freq_people: 0.0</br>word_freq_report: 0.0</br>word_freq_addresses: 0.0</br>word_freq_free: 0.0</br>word_freq_business: 0.0</br>... too many variables\"],[\"</br>id: 5</br>prediction: 0.687</br>char_freq_%24: 3.96198</br></br>word_freq_make: 0.0</br>word_freq_address: 0.0</br>word_freq_all: 0.0</br>word_freq_3d: 0.0</br>word_freq_our: 1.85</br>word_freq_over: 0.0</br>word_freq_remove: 0.0</br>word_freq_internet: 1.85</br>word_freq_order: 0.0</br>word_freq_mail: 0.0</br>word_freq_receive: 0.0</br>word_freq_will: 0.0</br>word_freq_people: 0.0</br>word_freq_report: 0.0</br>word_freq_addresses: 0.0</br>word_freq_free: 0.0</br>word_freq_business: 0.0</br>... too many variables\"],[\"</br>id: 5</br>prediction: 0.687</br>char_freq_%24: 4.02201</br></br>word_freq_make: 0.0</br>word_freq_address: 0.0</br>word_freq_all: 0.0</br>word_freq_3d: 0.0</br>word_freq_our: 1.85</br>word_freq_over: 0.0</br>word_freq_remove: 0.0</br>word_freq_internet: 1.85</br>word_freq_order: 0.0</br>word_freq_mail: 0.0</br>word_freq_receive: 0.0</br>word_freq_will: 0.0</br>word_freq_people: 0.0</br>word_freq_report: 0.0</br>word_freq_addresses: 0.0</br>word_freq_free: 0.0</br>word_freq_business: 0.0</br>... too many variables\"],[\"</br>id: 5</br>prediction: 0.687</br>char_freq_%24: 4.08204</br></br>word_freq_make: 0.0</br>word_freq_address: 0.0</br>word_freq_all: 0.0</br>word_freq_3d: 0.0</br>word_freq_our: 1.85</br>word_freq_over: 0.0</br>word_freq_remove: 0.0</br>word_freq_internet: 1.85</br>word_freq_order: 0.0</br>word_freq_mail: 0.0</br>word_freq_receive: 0.0</br>word_freq_will: 0.0</br>word_freq_people: 0.0</br>word_freq_report: 0.0</br>word_freq_addresses: 0.0</br>word_freq_free: 0.0</br>word_freq_business: 0.0</br>... too many variables\"],[\"</br>id: 5</br>prediction: 0.687</br>char_freq_%24: 4.14207</br></br>word_freq_make: 0.0</br>word_freq_address: 0.0</br>word_freq_all: 0.0</br>word_freq_3d: 0.0</br>word_freq_our: 1.85</br>word_freq_over: 0.0</br>word_freq_remove: 0.0</br>word_freq_internet: 1.85</br>word_freq_order: 0.0</br>word_freq_mail: 0.0</br>word_freq_receive: 0.0</br>word_freq_will: 0.0</br>word_freq_people: 0.0</br>word_freq_report: 0.0</br>word_freq_addresses: 0.0</br>word_freq_free: 0.0</br>word_freq_business: 0.0</br>... too many variables\"],[\"</br>id: 5</br>prediction: 0.687</br>char_freq_%24: 4.2021</br></br>word_freq_make: 0.0</br>word_freq_address: 0.0</br>word_freq_all: 0.0</br>word_freq_3d: 0.0</br>word_freq_our: 1.85</br>word_freq_over: 0.0</br>word_freq_remove: 0.0</br>word_freq_internet: 1.85</br>word_freq_order: 0.0</br>word_freq_mail: 0.0</br>word_freq_receive: 0.0</br>word_freq_will: 0.0</br>word_freq_people: 0.0</br>word_freq_report: 0.0</br>word_freq_addresses: 0.0</br>word_freq_free: 0.0</br>word_freq_business: 0.0</br>word_freq_email: 0.0</br>... too many variables\"],[\"</br>id: 5</br>prediction: 0.687</br>char_freq_%24: 4.26213</br></br>word_freq_make: 0.0</br>word_freq_address: 0.0</br>word_freq_all: 0.0</br>word_freq_3d: 0.0</br>word_freq_our: 1.85</br>word_freq_over: 0.0</br>word_freq_remove: 0.0</br>word_freq_internet: 1.85</br>word_freq_order: 0.0</br>word_freq_mail: 0.0</br>word_freq_receive: 0.0</br>word_freq_will: 0.0</br>word_freq_people: 0.0</br>word_freq_report: 0.0</br>word_freq_addresses: 0.0</br>word_freq_free: 0.0</br>word_freq_business: 0.0</br>... too many variables\"],[\"</br>id: 5</br>prediction: 0.687</br>char_freq_%24: 4.32216</br></br>word_freq_make: 0.0</br>word_freq_address: 0.0</br>word_freq_all: 0.0</br>word_freq_3d: 0.0</br>word_freq_our: 1.85</br>word_freq_over: 0.0</br>word_freq_remove: 0.0</br>word_freq_internet: 1.85</br>word_freq_order: 0.0</br>word_freq_mail: 0.0</br>word_freq_receive: 0.0</br>word_freq_will: 0.0</br>word_freq_people: 0.0</br>word_freq_report: 0.0</br>word_freq_addresses: 0.0</br>word_freq_free: 0.0</br>word_freq_business: 0.0</br>... too many variables\"],[\"</br>id: 5</br>prediction: 0.687</br>char_freq_%24: 4.38219</br></br>word_freq_make: 0.0</br>word_freq_address: 0.0</br>word_freq_all: 0.0</br>word_freq_3d: 0.0</br>word_freq_our: 1.85</br>word_freq_over: 0.0</br>word_freq_remove: 0.0</br>word_freq_internet: 1.85</br>word_freq_order: 0.0</br>word_freq_mail: 0.0</br>word_freq_receive: 0.0</br>word_freq_will: 0.0</br>word_freq_people: 0.0</br>word_freq_report: 0.0</br>word_freq_addresses: 0.0</br>word_freq_free: 0.0</br>word_freq_business: 0.0</br>... too many variables\"],[\"</br>id: 5</br>prediction: 0.687</br>char_freq_%24: 4.44222</br></br>word_freq_make: 0.0</br>word_freq_address: 0.0</br>word_freq_all: 0.0</br>word_freq_3d: 0.0</br>word_freq_our: 1.85</br>word_freq_over: 0.0</br>word_freq_remove: 0.0</br>word_freq_internet: 1.85</br>word_freq_order: 0.0</br>word_freq_mail: 0.0</br>word_freq_receive: 0.0</br>word_freq_will: 0.0</br>word_freq_people: 0.0</br>word_freq_report: 0.0</br>word_freq_addresses: 0.0</br>word_freq_free: 0.0</br>word_freq_business: 0.0</br>... too many variables\"],[\"</br>id: 5</br>prediction: 0.687</br>char_freq_%24: 4.50225</br></br>word_freq_make: 0.0</br>word_freq_address: 0.0</br>word_freq_all: 0.0</br>word_freq_3d: 0.0</br>word_freq_our: 1.85</br>word_freq_over: 0.0</br>word_freq_remove: 0.0</br>word_freq_internet: 1.85</br>word_freq_order: 0.0</br>word_freq_mail: 0.0</br>word_freq_receive: 0.0</br>word_freq_will: 0.0</br>word_freq_people: 0.0</br>word_freq_report: 0.0</br>word_freq_addresses: 0.0</br>word_freq_free: 0.0</br>word_freq_business: 0.0</br>... too many variables\"],[\"</br>id: 5</br>prediction: 0.687</br>char_freq_%24: 4.56228</br></br>word_freq_make: 0.0</br>word_freq_address: 0.0</br>word_freq_all: 0.0</br>word_freq_3d: 0.0</br>word_freq_our: 1.85</br>word_freq_over: 0.0</br>word_freq_remove: 0.0</br>word_freq_internet: 1.85</br>word_freq_order: 0.0</br>word_freq_mail: 0.0</br>word_freq_receive: 0.0</br>word_freq_will: 0.0</br>word_freq_people: 0.0</br>word_freq_report: 0.0</br>word_freq_addresses: 0.0</br>word_freq_free: 0.0</br>word_freq_business: 0.0</br>... too many variables\"],[\"</br>id: 5</br>prediction: 0.687</br>char_freq_%24: 4.62231</br></br>word_freq_make: 0.0</br>word_freq_address: 0.0</br>word_freq_all: 0.0</br>word_freq_3d: 0.0</br>word_freq_our: 1.85</br>word_freq_over: 0.0</br>word_freq_remove: 0.0</br>word_freq_internet: 1.85</br>word_freq_order: 0.0</br>word_freq_mail: 0.0</br>word_freq_receive: 0.0</br>word_freq_will: 0.0</br>word_freq_people: 0.0</br>word_freq_report: 0.0</br>word_freq_addresses: 0.0</br>word_freq_free: 0.0</br>word_freq_business: 0.0</br>... too many variables\"],[\"</br>id: 5</br>prediction: 0.687</br>char_freq_%24: 4.68234</br></br>word_freq_make: 0.0</br>word_freq_address: 0.0</br>word_freq_all: 0.0</br>word_freq_3d: 0.0</br>word_freq_our: 1.85</br>word_freq_over: 0.0</br>word_freq_remove: 0.0</br>word_freq_internet: 1.85</br>word_freq_order: 0.0</br>word_freq_mail: 0.0</br>word_freq_receive: 0.0</br>word_freq_will: 0.0</br>word_freq_people: 0.0</br>word_freq_report: 0.0</br>word_freq_addresses: 0.0</br>word_freq_free: 0.0</br>word_freq_business: 0.0</br>... too many variables\"],[\"</br>id: 5</br>prediction: 0.687</br>char_freq_%24: 4.74237</br></br>word_freq_make: 0.0</br>word_freq_address: 0.0</br>word_freq_all: 0.0</br>word_freq_3d: 0.0</br>word_freq_our: 1.85</br>word_freq_over: 0.0</br>word_freq_remove: 0.0</br>word_freq_internet: 1.85</br>word_freq_order: 0.0</br>word_freq_mail: 0.0</br>word_freq_receive: 0.0</br>word_freq_will: 0.0</br>word_freq_people: 0.0</br>word_freq_report: 0.0</br>word_freq_addresses: 0.0</br>word_freq_free: 0.0</br>word_freq_business: 0.0</br>... too many variables\"],[\"</br>id: 5</br>prediction: 0.687</br>char_freq_%24: 4.8024000000000004</br></br>word_freq_make: 0.0</br>word_freq_address: 0.0</br>word_freq_all: 0.0</br>word_freq_3d: 0.0</br>word_freq_our: 1.85</br>word_freq_over: 0.0</br>word_freq_remove: 0.0</br>word_freq_internet: 1.85</br>word_freq_order: 0.0</br>word_freq_mail: 0.0</br>word_freq_receive: 0.0</br>word_freq_will: 0.0</br>word_freq_people: 0.0</br>word_freq_report: 0.0</br>word_freq_addresses: 0.0</br>word_freq_free: 0.0</br>word_freq_business: 0.0</br>... too many variables\"],[\"</br>id: 5</br>prediction: 0.687</br>char_freq_%24: 4.86243</br></br>word_freq_make: 0.0</br>word_freq_address: 0.0</br>word_freq_all: 0.0</br>word_freq_3d: 0.0</br>word_freq_our: 1.85</br>word_freq_over: 0.0</br>word_freq_remove: 0.0</br>word_freq_internet: 1.85</br>word_freq_order: 0.0</br>word_freq_mail: 0.0</br>word_freq_receive: 0.0</br>word_freq_will: 0.0</br>word_freq_people: 0.0</br>word_freq_report: 0.0</br>word_freq_addresses: 0.0</br>word_freq_free: 0.0</br>word_freq_business: 0.0</br>... too many variables\"],[\"</br>id: 5</br>prediction: 0.687</br>char_freq_%24: 4.92246</br></br>word_freq_make: 0.0</br>word_freq_address: 0.0</br>word_freq_all: 0.0</br>word_freq_3d: 0.0</br>word_freq_our: 1.85</br>word_freq_over: 0.0</br>word_freq_remove: 0.0</br>word_freq_internet: 1.85</br>word_freq_order: 0.0</br>word_freq_mail: 0.0</br>word_freq_receive: 0.0</br>word_freq_will: 0.0</br>word_freq_people: 0.0</br>word_freq_report: 0.0</br>word_freq_addresses: 0.0</br>word_freq_free: 0.0</br>word_freq_business: 0.0</br>... too many variables\"],[\"</br>id: 5</br>prediction: 0.687</br>char_freq_%24: 4.98249</br></br>word_freq_make: 0.0</br>word_freq_address: 0.0</br>word_freq_all: 0.0</br>word_freq_3d: 0.0</br>word_freq_our: 1.85</br>word_freq_over: 0.0</br>word_freq_remove: 0.0</br>word_freq_internet: 1.85</br>word_freq_order: 0.0</br>word_freq_mail: 0.0</br>word_freq_receive: 0.0</br>word_freq_will: 0.0</br>word_freq_people: 0.0</br>word_freq_report: 0.0</br>word_freq_addresses: 0.0</br>word_freq_free: 0.0</br>word_freq_business: 0.0</br>... too many variables\"],[\"</br>id: 5</br>prediction: 0.687</br>char_freq_%24: 5.04252</br></br>word_freq_make: 0.0</br>word_freq_address: 0.0</br>word_freq_all: 0.0</br>word_freq_3d: 0.0</br>word_freq_our: 1.85</br>word_freq_over: 0.0</br>word_freq_remove: 0.0</br>word_freq_internet: 1.85</br>word_freq_order: 0.0</br>word_freq_mail: 0.0</br>word_freq_receive: 0.0</br>word_freq_will: 0.0</br>word_freq_people: 0.0</br>word_freq_report: 0.0</br>word_freq_addresses: 0.0</br>word_freq_free: 0.0</br>word_freq_business: 0.0</br>... too many variables\"],[\"</br>id: 5</br>prediction: 0.687</br>char_freq_%24: 5.10255</br></br>word_freq_make: 0.0</br>word_freq_address: 0.0</br>word_freq_all: 0.0</br>word_freq_3d: 0.0</br>word_freq_our: 1.85</br>word_freq_over: 0.0</br>word_freq_remove: 0.0</br>word_freq_internet: 1.85</br>word_freq_order: 0.0</br>word_freq_mail: 0.0</br>word_freq_receive: 0.0</br>word_freq_will: 0.0</br>word_freq_people: 0.0</br>word_freq_report: 0.0</br>word_freq_addresses: 0.0</br>word_freq_free: 0.0</br>word_freq_business: 0.0</br>... too many variables\"],[\"</br>id: 5</br>prediction: 0.687</br>char_freq_%24: 5.16258</br></br>word_freq_make: 0.0</br>word_freq_address: 0.0</br>word_freq_all: 0.0</br>word_freq_3d: 0.0</br>word_freq_our: 1.85</br>word_freq_over: 0.0</br>word_freq_remove: 0.0</br>word_freq_internet: 1.85</br>word_freq_order: 0.0</br>word_freq_mail: 0.0</br>word_freq_receive: 0.0</br>word_freq_will: 0.0</br>word_freq_people: 0.0</br>word_freq_report: 0.0</br>word_freq_addresses: 0.0</br>word_freq_free: 0.0</br>word_freq_business: 0.0</br>... too many variables\"],[\"</br>id: 5</br>prediction: 0.687</br>char_freq_%24: 5.22261</br></br>word_freq_make: 0.0</br>word_freq_address: 0.0</br>word_freq_all: 0.0</br>word_freq_3d: 0.0</br>word_freq_our: 1.85</br>word_freq_over: 0.0</br>word_freq_remove: 0.0</br>word_freq_internet: 1.85</br>word_freq_order: 0.0</br>word_freq_mail: 0.0</br>word_freq_receive: 0.0</br>word_freq_will: 0.0</br>word_freq_people: 0.0</br>word_freq_report: 0.0</br>word_freq_addresses: 0.0</br>word_freq_free: 0.0</br>word_freq_business: 0.0</br>... too many variables\"],[\"</br>id: 5</br>prediction: 0.687</br>char_freq_%24: 5.28264</br></br>word_freq_make: 0.0</br>word_freq_address: 0.0</br>word_freq_all: 0.0</br>word_freq_3d: 0.0</br>word_freq_our: 1.85</br>word_freq_over: 0.0</br>word_freq_remove: 0.0</br>word_freq_internet: 1.85</br>word_freq_order: 0.0</br>word_freq_mail: 0.0</br>word_freq_receive: 0.0</br>word_freq_will: 0.0</br>word_freq_people: 0.0</br>word_freq_report: 0.0</br>word_freq_addresses: 0.0</br>word_freq_free: 0.0</br>word_freq_business: 0.0</br>... too many variables\"],[\"</br>id: 5</br>prediction: 0.687</br>char_freq_%24: 5.34267</br></br>word_freq_make: 0.0</br>word_freq_address: 0.0</br>word_freq_all: 0.0</br>word_freq_3d: 0.0</br>word_freq_our: 1.85</br>word_freq_over: 0.0</br>word_freq_remove: 0.0</br>word_freq_internet: 1.85</br>word_freq_order: 0.0</br>word_freq_mail: 0.0</br>word_freq_receive: 0.0</br>word_freq_will: 0.0</br>word_freq_people: 0.0</br>word_freq_report: 0.0</br>word_freq_addresses: 0.0</br>word_freq_free: 0.0</br>word_freq_business: 0.0</br>... too many variables\"],[\"</br>id: 5</br>prediction: 0.687</br>char_freq_%24: 5.4027</br></br>word_freq_make: 0.0</br>word_freq_address: 0.0</br>word_freq_all: 0.0</br>word_freq_3d: 0.0</br>word_freq_our: 1.85</br>word_freq_over: 0.0</br>word_freq_remove: 0.0</br>word_freq_internet: 1.85</br>word_freq_order: 0.0</br>word_freq_mail: 0.0</br>word_freq_receive: 0.0</br>word_freq_will: 0.0</br>word_freq_people: 0.0</br>word_freq_report: 0.0</br>word_freq_addresses: 0.0</br>word_freq_free: 0.0</br>word_freq_business: 0.0</br>word_freq_email: 0.0</br>... too many variables\"],[\"</br>id: 5</br>prediction: 0.687</br>char_freq_%24: 5.46273</br></br>word_freq_make: 0.0</br>word_freq_address: 0.0</br>word_freq_all: 0.0</br>word_freq_3d: 0.0</br>word_freq_our: 1.85</br>word_freq_over: 0.0</br>word_freq_remove: 0.0</br>word_freq_internet: 1.85</br>word_freq_order: 0.0</br>word_freq_mail: 0.0</br>word_freq_receive: 0.0</br>word_freq_will: 0.0</br>word_freq_people: 0.0</br>word_freq_report: 0.0</br>word_freq_addresses: 0.0</br>word_freq_free: 0.0</br>word_freq_business: 0.0</br>... too many variables\"],[\"</br>id: 5</br>prediction: 0.687</br>char_freq_%24: 5.52276</br></br>word_freq_make: 0.0</br>word_freq_address: 0.0</br>word_freq_all: 0.0</br>word_freq_3d: 0.0</br>word_freq_our: 1.85</br>word_freq_over: 0.0</br>word_freq_remove: 0.0</br>word_freq_internet: 1.85</br>word_freq_order: 0.0</br>word_freq_mail: 0.0</br>word_freq_receive: 0.0</br>word_freq_will: 0.0</br>word_freq_people: 0.0</br>word_freq_report: 0.0</br>word_freq_addresses: 0.0</br>word_freq_free: 0.0</br>word_freq_business: 0.0</br>... too many variables\"],[\"</br>id: 5</br>prediction: 0.687</br>char_freq_%24: 5.58279</br></br>word_freq_make: 0.0</br>word_freq_address: 0.0</br>word_freq_all: 0.0</br>word_freq_3d: 0.0</br>word_freq_our: 1.85</br>word_freq_over: 0.0</br>word_freq_remove: 0.0</br>word_freq_internet: 1.85</br>word_freq_order: 0.0</br>word_freq_mail: 0.0</br>word_freq_receive: 0.0</br>word_freq_will: 0.0</br>word_freq_people: 0.0</br>word_freq_report: 0.0</br>word_freq_addresses: 0.0</br>word_freq_free: 0.0</br>word_freq_business: 0.0</br>... too many variables\"],[\"</br>id: 5</br>prediction: 0.687</br>char_freq_%24: 5.64282</br></br>word_freq_make: 0.0</br>word_freq_address: 0.0</br>word_freq_all: 0.0</br>word_freq_3d: 0.0</br>word_freq_our: 1.85</br>word_freq_over: 0.0</br>word_freq_remove: 0.0</br>word_freq_internet: 1.85</br>word_freq_order: 0.0</br>word_freq_mail: 0.0</br>word_freq_receive: 0.0</br>word_freq_will: 0.0</br>word_freq_people: 0.0</br>word_freq_report: 0.0</br>word_freq_addresses: 0.0</br>word_freq_free: 0.0</br>word_freq_business: 0.0</br>... too many variables\"],[\"</br>id: 5</br>prediction: 0.687</br>char_freq_%24: 5.70285</br></br>word_freq_make: 0.0</br>word_freq_address: 0.0</br>word_freq_all: 0.0</br>word_freq_3d: 0.0</br>word_freq_our: 1.85</br>word_freq_over: 0.0</br>word_freq_remove: 0.0</br>word_freq_internet: 1.85</br>word_freq_order: 0.0</br>word_freq_mail: 0.0</br>word_freq_receive: 0.0</br>word_freq_will: 0.0</br>word_freq_people: 0.0</br>word_freq_report: 0.0</br>word_freq_addresses: 0.0</br>word_freq_free: 0.0</br>word_freq_business: 0.0</br>... too many variables\"],[\"</br>id: 5</br>prediction: 0.687</br>char_freq_%24: 5.76288</br></br>word_freq_make: 0.0</br>word_freq_address: 0.0</br>word_freq_all: 0.0</br>word_freq_3d: 0.0</br>word_freq_our: 1.85</br>word_freq_over: 0.0</br>word_freq_remove: 0.0</br>word_freq_internet: 1.85</br>word_freq_order: 0.0</br>word_freq_mail: 0.0</br>word_freq_receive: 0.0</br>word_freq_will: 0.0</br>word_freq_people: 0.0</br>word_freq_report: 0.0</br>word_freq_addresses: 0.0</br>word_freq_free: 0.0</br>word_freq_business: 0.0</br>... too many variables\"],[\"</br>id: 5</br>prediction: 0.687</br>char_freq_%24: 5.82291</br></br>word_freq_make: 0.0</br>word_freq_address: 0.0</br>word_freq_all: 0.0</br>word_freq_3d: 0.0</br>word_freq_our: 1.85</br>word_freq_over: 0.0</br>word_freq_remove: 0.0</br>word_freq_internet: 1.85</br>word_freq_order: 0.0</br>word_freq_mail: 0.0</br>word_freq_receive: 0.0</br>word_freq_will: 0.0</br>word_freq_people: 0.0</br>word_freq_report: 0.0</br>word_freq_addresses: 0.0</br>word_freq_free: 0.0</br>word_freq_business: 0.0</br>... too many variables\"],[\"</br>id: 5</br>prediction: 0.687</br>char_freq_%24: 5.88294</br></br>word_freq_make: 0.0</br>word_freq_address: 0.0</br>word_freq_all: 0.0</br>word_freq_3d: 0.0</br>word_freq_our: 1.85</br>word_freq_over: 0.0</br>word_freq_remove: 0.0</br>word_freq_internet: 1.85</br>word_freq_order: 0.0</br>word_freq_mail: 0.0</br>word_freq_receive: 0.0</br>word_freq_will: 0.0</br>word_freq_people: 0.0</br>word_freq_report: 0.0</br>word_freq_addresses: 0.0</br>word_freq_free: 0.0</br>word_freq_business: 0.0</br>... too many variables\"],[\"</br>id: 5</br>prediction: 0.687</br>char_freq_%24: 5.94297</br></br>word_freq_make: 0.0</br>word_freq_address: 0.0</br>word_freq_all: 0.0</br>word_freq_3d: 0.0</br>word_freq_our: 1.85</br>word_freq_over: 0.0</br>word_freq_remove: 0.0</br>word_freq_internet: 1.85</br>word_freq_order: 0.0</br>word_freq_mail: 0.0</br>word_freq_receive: 0.0</br>word_freq_will: 0.0</br>word_freq_people: 0.0</br>word_freq_report: 0.0</br>word_freq_addresses: 0.0</br>word_freq_free: 0.0</br>word_freq_business: 0.0</br>... too many variables\"],[\"</br>id: 5</br>prediction: 0.687</br>char_freq_%24: 6.003</br></br>word_freq_make: 0.0</br>word_freq_address: 0.0</br>word_freq_all: 0.0</br>word_freq_3d: 0.0</br>word_freq_our: 1.85</br>word_freq_over: 0.0</br>word_freq_remove: 0.0</br>word_freq_internet: 1.85</br>word_freq_order: 0.0</br>word_freq_mail: 0.0</br>word_freq_receive: 0.0</br>word_freq_will: 0.0</br>word_freq_people: 0.0</br>word_freq_report: 0.0</br>word_freq_addresses: 0.0</br>word_freq_free: 0.0</br>word_freq_business: 0.0</br>word_freq_email: 0.0</br>... too many variables\"]],\"hovertemplate\":\"%{customdata[0]}<extra></extra>\",\"legendgroup\":\"RandomForestClassifier\",\"line\":{\"color\":\"#46bac2\",\"dash\":\"solid\",\"width\":2},\"marker\":{\"symbol\":\"circle\"},\"mode\":\"lines\",\"name\":\"RandomForestClassifier\",\"orientation\":\"v\",\"showlegend\":false,\"x\":[0.0,0.06003,0.12006,0.18009,0.24012,0.30015000000000003,0.36018,0.42021,0.48024,0.54027,0.6003000000000001,0.66033,0.72036,0.78039,0.84042,0.90045,0.96048,1.02051,1.08054,1.14057,1.2006000000000001,1.26063,1.32066,1.38069,1.44072,1.50075,1.56078,1.62081,1.68084,1.74087,1.8009,1.86093,1.92096,1.98099,2.04102,2.10105,2.16108,2.22111,2.28114,2.34117,2.4012000000000002,2.46123,2.52126,2.58129,2.64132,2.70135,2.76138,2.82141,2.88144,2.94147,3.0015,3.06153,3.12156,3.18159,3.24162,3.30165,3.36168,3.42171,3.48174,3.54177,3.6018,3.66183,3.72186,3.78189,3.84192,3.90195,3.96198,4.02201,4.08204,4.14207,4.2021,4.26213,4.32216,4.38219,4.44222,4.50225,4.56228,4.62231,4.68234,4.74237,4.8024000000000004,4.86243,4.92246,4.98249,5.04252,5.10255,5.16258,5.22261,5.28264,5.34267,5.4027,5.46273,5.52276,5.58279,5.64282,5.70285,5.76288,5.82291,5.88294,5.94297,6.003],\"xaxis\":\"x\",\"y\":[0.28840994237299195,0.5204124476072901,0.6147523590195716,0.6774102416966323,0.683820911818635,0.6875264673741907,0.6875264673741907,0.6860978959456193,0.6860978959456193,0.6832407530884764,0.6760288957087086,0.6760288957087086,0.6746563466891006,0.6746563466891006,0.6746563466891006,0.6774420609748151,0.6774420609748151,0.682442060974815,0.682442060974815,0.682442060974815,0.682442060974815,0.682442060974815,0.682442060974815,0.682442060974815,0.682442060974815,0.682442060974815,0.682442060974815,0.682442060974815,0.682442060974815,0.682442060974815,0.682442060974815,0.682442060974815,0.682442060974815,0.682442060974815,0.6873459071286611,0.6873459071286611,0.6873459071286611,0.6873459071286611,0.6873459071286611,0.6873459071286611,0.6873459071286611,0.6873459071286611,0.6873459071286611,0.6873459071286611,0.6873459071286611,0.6873459071286611,0.6873459071286611,0.6873459071286611,0.6873459071286611,0.6873459071286611,0.6873459071286611,0.6873459071286611,0.6873459071286611,0.6873459071286611,0.6873459071286611,0.6873459071286611,0.6873459071286611,0.6873459071286611,0.6873459071286611,0.6873459071286611,0.6873459071286611,0.6873459071286611,0.6873459071286611,0.6873459071286611,0.6873459071286611,0.6873459071286611,0.6873459071286611,0.6873459071286611,0.6873459071286611,0.6873459071286611,0.6873459071286611,0.6873459071286611,0.6873459071286611,0.6873459071286611,0.6873459071286611,0.6873459071286611,0.6873459071286611,0.6873459071286611,0.6873459071286611,0.6873459071286611,0.6873459071286611,0.6873459071286611,0.6873459071286611,0.6873459071286611,0.6873459071286611,0.6873459071286611,0.6873459071286611,0.6873459071286611,0.6873459071286611,0.6873459071286611,0.6873459071286611,0.6873459071286611,0.6873459071286611,0.6873459071286611,0.6873459071286611,0.6873459071286611,0.6873459071286611,0.6873459071286611,0.6873459071286611,0.6873459071286611,0.6873459071286611],\"yaxis\":\"y\",\"type\":\"scatter\",\"opacity\":1},{\"customdata\":[[\"</br>id: 4</br>prediction: 0.855</br>capital_run_length_average: 1.0</br></br>word_freq_make: 0.0</br>word_freq_address: 0.0</br>word_freq_all: 0.0</br>word_freq_3d: 0.0</br>word_freq_our: 0.63</br>word_freq_over: 0.0</br>word_freq_remove: 0.31</br>word_freq_internet: 0.63</br>word_freq_order: 0.31</br>word_freq_mail: 0.63</br>word_freq_receive: 0.31</br>word_freq_will: 0.31</br>word_freq_people: 0.31</br>word_freq_report: 0.0</br>word_freq_addresses: 0.0</br>word_freq_free: 0.31</br>word_freq_business: 0.0</br>... too many variables\"],[\"</br>id: 4</br>prediction: 0.933</br>capital_run_length_average: 3.0</br></br>word_freq_make: 0.0</br>word_freq_address: 0.0</br>word_freq_all: 0.0</br>word_freq_3d: 0.0</br>word_freq_our: 0.63</br>word_freq_over: 0.0</br>word_freq_remove: 0.31</br>word_freq_internet: 0.63</br>word_freq_order: 0.31</br>word_freq_mail: 0.63</br>word_freq_receive: 0.31</br>word_freq_will: 0.31</br>word_freq_people: 0.31</br>word_freq_report: 0.0</br>word_freq_addresses: 0.0</br>word_freq_free: 0.31</br>word_freq_business: 0.0</br>... too many variables\"],[\"</br>id: 4</br>prediction: 0.952</br>capital_run_length_average: 3.537</br></br>word_freq_make: 0.0</br>word_freq_address: 0.0</br>word_freq_all: 0.0</br>word_freq_3d: 0.0</br>word_freq_our: 0.63</br>word_freq_over: 0.0</br>word_freq_remove: 0.31</br>word_freq_internet: 0.63</br>word_freq_order: 0.31</br>word_freq_mail: 0.63</br>word_freq_receive: 0.31</br>word_freq_will: 0.31</br>word_freq_people: 0.31</br>word_freq_report: 0.0</br>word_freq_addresses: 0.0</br>word_freq_free: 0.31</br>word_freq_business: 0.0</br>... too many variables\"],[\"</br>id: 4</br>prediction: 0.957</br>capital_run_length_average: 12.015</br></br>word_freq_make: 0.0</br>word_freq_address: 0.0</br>word_freq_all: 0.0</br>word_freq_3d: 0.0</br>word_freq_our: 0.63</br>word_freq_over: 0.0</br>word_freq_remove: 0.31</br>word_freq_internet: 0.63</br>word_freq_order: 0.31</br>word_freq_mail: 0.63</br>word_freq_receive: 0.31</br>word_freq_will: 0.31</br>word_freq_people: 0.31</br>word_freq_report: 0.0</br>word_freq_addresses: 0.0</br>word_freq_free: 0.31</br>word_freq_business: 0.0</br>... too many variables\"],[\"</br>id: 4</br>prediction: 0.949</br>capital_run_length_average: 23.03</br></br>word_freq_make: 0.0</br>word_freq_address: 0.0</br>word_freq_all: 0.0</br>word_freq_3d: 0.0</br>word_freq_our: 0.63</br>word_freq_over: 0.0</br>word_freq_remove: 0.31</br>word_freq_internet: 0.63</br>word_freq_order: 0.31</br>word_freq_mail: 0.63</br>word_freq_receive: 0.31</br>word_freq_will: 0.31</br>word_freq_people: 0.31</br>word_freq_report: 0.0</br>word_freq_addresses: 0.0</br>word_freq_free: 0.31</br>word_freq_business: 0.0</br>... too many variables\"],[\"</br>id: 4</br>prediction: 0.949</br>capital_run_length_average: 34.045</br></br>word_freq_make: 0.0</br>word_freq_address: 0.0</br>word_freq_all: 0.0</br>word_freq_3d: 0.0</br>word_freq_our: 0.63</br>word_freq_over: 0.0</br>word_freq_remove: 0.31</br>word_freq_internet: 0.63</br>word_freq_order: 0.31</br>word_freq_mail: 0.63</br>word_freq_receive: 0.31</br>word_freq_will: 0.31</br>word_freq_people: 0.31</br>word_freq_report: 0.0</br>word_freq_addresses: 0.0</br>word_freq_free: 0.31</br>word_freq_business: 0.0</br>... too many variables\"],[\"</br>id: 4</br>prediction: 0.949</br>capital_run_length_average: 45.06</br></br>word_freq_make: 0.0</br>word_freq_address: 0.0</br>word_freq_all: 0.0</br>word_freq_3d: 0.0</br>word_freq_our: 0.63</br>word_freq_over: 0.0</br>word_freq_remove: 0.31</br>word_freq_internet: 0.63</br>word_freq_order: 0.31</br>word_freq_mail: 0.63</br>word_freq_receive: 0.31</br>word_freq_will: 0.31</br>word_freq_people: 0.31</br>word_freq_report: 0.0</br>word_freq_addresses: 0.0</br>word_freq_free: 0.31</br>word_freq_business: 0.0</br>... too many variables\"],[\"</br>id: 4</br>prediction: 0.949</br>capital_run_length_average: 56.075</br></br>word_freq_make: 0.0</br>word_freq_address: 0.0</br>word_freq_all: 0.0</br>word_freq_3d: 0.0</br>word_freq_our: 0.63</br>word_freq_over: 0.0</br>word_freq_remove: 0.31</br>word_freq_internet: 0.63</br>word_freq_order: 0.31</br>word_freq_mail: 0.63</br>word_freq_receive: 0.31</br>word_freq_will: 0.31</br>word_freq_people: 0.31</br>word_freq_report: 0.0</br>word_freq_addresses: 0.0</br>word_freq_free: 0.31</br>word_freq_business: 0.0</br>... too many variables\"],[\"</br>id: 4</br>prediction: 0.949</br>capital_run_length_average: 67.09</br></br>word_freq_make: 0.0</br>word_freq_address: 0.0</br>word_freq_all: 0.0</br>word_freq_3d: 0.0</br>word_freq_our: 0.63</br>word_freq_over: 0.0</br>word_freq_remove: 0.31</br>word_freq_internet: 0.63</br>word_freq_order: 0.31</br>word_freq_mail: 0.63</br>word_freq_receive: 0.31</br>word_freq_will: 0.31</br>word_freq_people: 0.31</br>word_freq_report: 0.0</br>word_freq_addresses: 0.0</br>word_freq_free: 0.31</br>word_freq_business: 0.0</br>... too many variables\"],[\"</br>id: 4</br>prediction: 0.949</br>capital_run_length_average: 78.105</br></br>word_freq_make: 0.0</br>word_freq_address: 0.0</br>word_freq_all: 0.0</br>word_freq_3d: 0.0</br>word_freq_our: 0.63</br>word_freq_over: 0.0</br>word_freq_remove: 0.31</br>word_freq_internet: 0.63</br>word_freq_order: 0.31</br>word_freq_mail: 0.63</br>word_freq_receive: 0.31</br>word_freq_will: 0.31</br>word_freq_people: 0.31</br>word_freq_report: 0.0</br>word_freq_addresses: 0.0</br>word_freq_free: 0.31</br>word_freq_business: 0.0</br>... too many variables\"],[\"</br>id: 4</br>prediction: 0.949</br>capital_run_length_average: 89.12</br></br>word_freq_make: 0.0</br>word_freq_address: 0.0</br>word_freq_all: 0.0</br>word_freq_3d: 0.0</br>word_freq_our: 0.63</br>word_freq_over: 0.0</br>word_freq_remove: 0.31</br>word_freq_internet: 0.63</br>word_freq_order: 0.31</br>word_freq_mail: 0.63</br>word_freq_receive: 0.31</br>word_freq_will: 0.31</br>word_freq_people: 0.31</br>word_freq_report: 0.0</br>word_freq_addresses: 0.0</br>word_freq_free: 0.31</br>word_freq_business: 0.0</br>... too many variables\"],[\"</br>id: 4</br>prediction: 0.949</br>capital_run_length_average: 100.135</br></br>word_freq_make: 0.0</br>word_freq_address: 0.0</br>word_freq_all: 0.0</br>word_freq_3d: 0.0</br>word_freq_our: 0.63</br>word_freq_over: 0.0</br>word_freq_remove: 0.31</br>word_freq_internet: 0.63</br>word_freq_order: 0.31</br>word_freq_mail: 0.63</br>word_freq_receive: 0.31</br>word_freq_will: 0.31</br>word_freq_people: 0.31</br>word_freq_report: 0.0</br>word_freq_addresses: 0.0</br>word_freq_free: 0.31</br>word_freq_business: 0.0</br>... too many variables\"],[\"</br>id: 4</br>prediction: 0.949</br>capital_run_length_average: 111.15</br></br>word_freq_make: 0.0</br>word_freq_address: 0.0</br>word_freq_all: 0.0</br>word_freq_3d: 0.0</br>word_freq_our: 0.63</br>word_freq_over: 0.0</br>word_freq_remove: 0.31</br>word_freq_internet: 0.63</br>word_freq_order: 0.31</br>word_freq_mail: 0.63</br>word_freq_receive: 0.31</br>word_freq_will: 0.31</br>word_freq_people: 0.31</br>word_freq_report: 0.0</br>word_freq_addresses: 0.0</br>word_freq_free: 0.31</br>word_freq_business: 0.0</br>... too many variables\"],[\"</br>id: 4</br>prediction: 0.949</br>capital_run_length_average: 122.165</br></br>word_freq_make: 0.0</br>word_freq_address: 0.0</br>word_freq_all: 0.0</br>word_freq_3d: 0.0</br>word_freq_our: 0.63</br>word_freq_over: 0.0</br>word_freq_remove: 0.31</br>word_freq_internet: 0.63</br>word_freq_order: 0.31</br>word_freq_mail: 0.63</br>word_freq_receive: 0.31</br>word_freq_will: 0.31</br>word_freq_people: 0.31</br>word_freq_report: 0.0</br>word_freq_addresses: 0.0</br>word_freq_free: 0.31</br>word_freq_business: 0.0</br>... too many variables\"],[\"</br>id: 4</br>prediction: 0.949</br>capital_run_length_average: 133.18</br></br>word_freq_make: 0.0</br>word_freq_address: 0.0</br>word_freq_all: 0.0</br>word_freq_3d: 0.0</br>word_freq_our: 0.63</br>word_freq_over: 0.0</br>word_freq_remove: 0.31</br>word_freq_internet: 0.63</br>word_freq_order: 0.31</br>word_freq_mail: 0.63</br>word_freq_receive: 0.31</br>word_freq_will: 0.31</br>word_freq_people: 0.31</br>word_freq_report: 0.0</br>word_freq_addresses: 0.0</br>word_freq_free: 0.31</br>word_freq_business: 0.0</br>... too many variables\"],[\"</br>id: 4</br>prediction: 0.949</br>capital_run_length_average: 144.195</br></br>word_freq_make: 0.0</br>word_freq_address: 0.0</br>word_freq_all: 0.0</br>word_freq_3d: 0.0</br>word_freq_our: 0.63</br>word_freq_over: 0.0</br>word_freq_remove: 0.31</br>word_freq_internet: 0.63</br>word_freq_order: 0.31</br>word_freq_mail: 0.63</br>word_freq_receive: 0.31</br>word_freq_will: 0.31</br>word_freq_people: 0.31</br>word_freq_report: 0.0</br>word_freq_addresses: 0.0</br>word_freq_free: 0.31</br>word_freq_business: 0.0</br>... too many variables\"],[\"</br>id: 4</br>prediction: 0.949</br>capital_run_length_average: 155.21</br></br>word_freq_make: 0.0</br>word_freq_address: 0.0</br>word_freq_all: 0.0</br>word_freq_3d: 0.0</br>word_freq_our: 0.63</br>word_freq_over: 0.0</br>word_freq_remove: 0.31</br>word_freq_internet: 0.63</br>word_freq_order: 0.31</br>word_freq_mail: 0.63</br>word_freq_receive: 0.31</br>word_freq_will: 0.31</br>word_freq_people: 0.31</br>word_freq_report: 0.0</br>word_freq_addresses: 0.0</br>word_freq_free: 0.31</br>word_freq_business: 0.0</br>... too many variables\"],[\"</br>id: 4</br>prediction: 0.949</br>capital_run_length_average: 166.22500000000002</br></br>word_freq_make: 0.0</br>word_freq_address: 0.0</br>word_freq_all: 0.0</br>word_freq_3d: 0.0</br>word_freq_our: 0.63</br>word_freq_over: 0.0</br>word_freq_remove: 0.31</br>word_freq_internet: 0.63</br>word_freq_order: 0.31</br>word_freq_mail: 0.63</br>word_freq_receive: 0.31</br>word_freq_will: 0.31</br>word_freq_people: 0.31</br>word_freq_report: 0.0</br>word_freq_addresses: 0.0</br>word_freq_free: 0.31</br>... too many variables\"],[\"</br>id: 4</br>prediction: 0.949</br>capital_run_length_average: 177.24</br></br>word_freq_make: 0.0</br>word_freq_address: 0.0</br>word_freq_all: 0.0</br>word_freq_3d: 0.0</br>word_freq_our: 0.63</br>word_freq_over: 0.0</br>word_freq_remove: 0.31</br>word_freq_internet: 0.63</br>word_freq_order: 0.31</br>word_freq_mail: 0.63</br>word_freq_receive: 0.31</br>word_freq_will: 0.31</br>word_freq_people: 0.31</br>word_freq_report: 0.0</br>word_freq_addresses: 0.0</br>word_freq_free: 0.31</br>word_freq_business: 0.0</br>... too many variables\"],[\"</br>id: 4</br>prediction: 0.949</br>capital_run_length_average: 188.255</br></br>word_freq_make: 0.0</br>word_freq_address: 0.0</br>word_freq_all: 0.0</br>word_freq_3d: 0.0</br>word_freq_our: 0.63</br>word_freq_over: 0.0</br>word_freq_remove: 0.31</br>word_freq_internet: 0.63</br>word_freq_order: 0.31</br>word_freq_mail: 0.63</br>word_freq_receive: 0.31</br>word_freq_will: 0.31</br>word_freq_people: 0.31</br>word_freq_report: 0.0</br>word_freq_addresses: 0.0</br>word_freq_free: 0.31</br>word_freq_business: 0.0</br>... too many variables\"],[\"</br>id: 4</br>prediction: 0.949</br>capital_run_length_average: 199.27</br></br>word_freq_make: 0.0</br>word_freq_address: 0.0</br>word_freq_all: 0.0</br>word_freq_3d: 0.0</br>word_freq_our: 0.63</br>word_freq_over: 0.0</br>word_freq_remove: 0.31</br>word_freq_internet: 0.63</br>word_freq_order: 0.31</br>word_freq_mail: 0.63</br>word_freq_receive: 0.31</br>word_freq_will: 0.31</br>word_freq_people: 0.31</br>word_freq_report: 0.0</br>word_freq_addresses: 0.0</br>word_freq_free: 0.31</br>word_freq_business: 0.0</br>... too many variables\"],[\"</br>id: 4</br>prediction: 0.949</br>capital_run_length_average: 210.28500000000003</br></br>word_freq_make: 0.0</br>word_freq_address: 0.0</br>word_freq_all: 0.0</br>word_freq_3d: 0.0</br>word_freq_our: 0.63</br>word_freq_over: 0.0</br>word_freq_remove: 0.31</br>word_freq_internet: 0.63</br>word_freq_order: 0.31</br>word_freq_mail: 0.63</br>word_freq_receive: 0.31</br>word_freq_will: 0.31</br>word_freq_people: 0.31</br>word_freq_report: 0.0</br>word_freq_addresses: 0.0</br>word_freq_free: 0.31</br>... too many variables\"],[\"</br>id: 4</br>prediction: 0.949</br>capital_run_length_average: 221.3</br></br>word_freq_make: 0.0</br>word_freq_address: 0.0</br>word_freq_all: 0.0</br>word_freq_3d: 0.0</br>word_freq_our: 0.63</br>word_freq_over: 0.0</br>word_freq_remove: 0.31</br>word_freq_internet: 0.63</br>word_freq_order: 0.31</br>word_freq_mail: 0.63</br>word_freq_receive: 0.31</br>word_freq_will: 0.31</br>word_freq_people: 0.31</br>word_freq_report: 0.0</br>word_freq_addresses: 0.0</br>word_freq_free: 0.31</br>word_freq_business: 0.0</br>... too many variables\"],[\"</br>id: 4</br>prediction: 0.949</br>capital_run_length_average: 232.315</br></br>word_freq_make: 0.0</br>word_freq_address: 0.0</br>word_freq_all: 0.0</br>word_freq_3d: 0.0</br>word_freq_our: 0.63</br>word_freq_over: 0.0</br>word_freq_remove: 0.31</br>word_freq_internet: 0.63</br>word_freq_order: 0.31</br>word_freq_mail: 0.63</br>word_freq_receive: 0.31</br>word_freq_will: 0.31</br>word_freq_people: 0.31</br>word_freq_report: 0.0</br>word_freq_addresses: 0.0</br>word_freq_free: 0.31</br>word_freq_business: 0.0</br>... too many variables\"],[\"</br>id: 4</br>prediction: 0.949</br>capital_run_length_average: 243.33</br></br>word_freq_make: 0.0</br>word_freq_address: 0.0</br>word_freq_all: 0.0</br>word_freq_3d: 0.0</br>word_freq_our: 0.63</br>word_freq_over: 0.0</br>word_freq_remove: 0.31</br>word_freq_internet: 0.63</br>word_freq_order: 0.31</br>word_freq_mail: 0.63</br>word_freq_receive: 0.31</br>word_freq_will: 0.31</br>word_freq_people: 0.31</br>word_freq_report: 0.0</br>word_freq_addresses: 0.0</br>word_freq_free: 0.31</br>word_freq_business: 0.0</br>... too many variables\"],[\"</br>id: 4</br>prediction: 0.949</br>capital_run_length_average: 254.34500000000003</br></br>word_freq_make: 0.0</br>word_freq_address: 0.0</br>word_freq_all: 0.0</br>word_freq_3d: 0.0</br>word_freq_our: 0.63</br>word_freq_over: 0.0</br>word_freq_remove: 0.31</br>word_freq_internet: 0.63</br>word_freq_order: 0.31</br>word_freq_mail: 0.63</br>word_freq_receive: 0.31</br>word_freq_will: 0.31</br>word_freq_people: 0.31</br>word_freq_report: 0.0</br>word_freq_addresses: 0.0</br>word_freq_free: 0.31</br>... too many variables\"],[\"</br>id: 4</br>prediction: 0.949</br>capital_run_length_average: 265.36</br></br>word_freq_make: 0.0</br>word_freq_address: 0.0</br>word_freq_all: 0.0</br>word_freq_3d: 0.0</br>word_freq_our: 0.63</br>word_freq_over: 0.0</br>word_freq_remove: 0.31</br>word_freq_internet: 0.63</br>word_freq_order: 0.31</br>word_freq_mail: 0.63</br>word_freq_receive: 0.31</br>word_freq_will: 0.31</br>word_freq_people: 0.31</br>word_freq_report: 0.0</br>word_freq_addresses: 0.0</br>word_freq_free: 0.31</br>word_freq_business: 0.0</br>... too many variables\"],[\"</br>id: 4</br>prediction: 0.949</br>capital_run_length_average: 276.375</br></br>word_freq_make: 0.0</br>word_freq_address: 0.0</br>word_freq_all: 0.0</br>word_freq_3d: 0.0</br>word_freq_our: 0.63</br>word_freq_over: 0.0</br>word_freq_remove: 0.31</br>word_freq_internet: 0.63</br>word_freq_order: 0.31</br>word_freq_mail: 0.63</br>word_freq_receive: 0.31</br>word_freq_will: 0.31</br>word_freq_people: 0.31</br>word_freq_report: 0.0</br>word_freq_addresses: 0.0</br>word_freq_free: 0.31</br>word_freq_business: 0.0</br>... too many variables\"],[\"</br>id: 4</br>prediction: 0.949</br>capital_run_length_average: 287.39</br></br>word_freq_make: 0.0</br>word_freq_address: 0.0</br>word_freq_all: 0.0</br>word_freq_3d: 0.0</br>word_freq_our: 0.63</br>word_freq_over: 0.0</br>word_freq_remove: 0.31</br>word_freq_internet: 0.63</br>word_freq_order: 0.31</br>word_freq_mail: 0.63</br>word_freq_receive: 0.31</br>word_freq_will: 0.31</br>word_freq_people: 0.31</br>word_freq_report: 0.0</br>word_freq_addresses: 0.0</br>word_freq_free: 0.31</br>word_freq_business: 0.0</br>... too many variables\"],[\"</br>id: 4</br>prediction: 0.949</br>capital_run_length_average: 298.40500000000003</br></br>word_freq_make: 0.0</br>word_freq_address: 0.0</br>word_freq_all: 0.0</br>word_freq_3d: 0.0</br>word_freq_our: 0.63</br>word_freq_over: 0.0</br>word_freq_remove: 0.31</br>word_freq_internet: 0.63</br>word_freq_order: 0.31</br>word_freq_mail: 0.63</br>word_freq_receive: 0.31</br>word_freq_will: 0.31</br>word_freq_people: 0.31</br>word_freq_report: 0.0</br>word_freq_addresses: 0.0</br>word_freq_free: 0.31</br>... too many variables\"],[\"</br>id: 4</br>prediction: 0.949</br>capital_run_length_average: 309.42</br></br>word_freq_make: 0.0</br>word_freq_address: 0.0</br>word_freq_all: 0.0</br>word_freq_3d: 0.0</br>word_freq_our: 0.63</br>word_freq_over: 0.0</br>word_freq_remove: 0.31</br>word_freq_internet: 0.63</br>word_freq_order: 0.31</br>word_freq_mail: 0.63</br>word_freq_receive: 0.31</br>word_freq_will: 0.31</br>word_freq_people: 0.31</br>word_freq_report: 0.0</br>word_freq_addresses: 0.0</br>word_freq_free: 0.31</br>word_freq_business: 0.0</br>... too many variables\"],[\"</br>id: 4</br>prediction: 0.949</br>capital_run_length_average: 320.435</br></br>word_freq_make: 0.0</br>word_freq_address: 0.0</br>word_freq_all: 0.0</br>word_freq_3d: 0.0</br>word_freq_our: 0.63</br>word_freq_over: 0.0</br>word_freq_remove: 0.31</br>word_freq_internet: 0.63</br>word_freq_order: 0.31</br>word_freq_mail: 0.63</br>word_freq_receive: 0.31</br>word_freq_will: 0.31</br>word_freq_people: 0.31</br>word_freq_report: 0.0</br>word_freq_addresses: 0.0</br>word_freq_free: 0.31</br>word_freq_business: 0.0</br>... too many variables\"],[\"</br>id: 4</br>prediction: 0.949</br>capital_run_length_average: 331.45000000000005</br></br>word_freq_make: 0.0</br>word_freq_address: 0.0</br>word_freq_all: 0.0</br>word_freq_3d: 0.0</br>word_freq_our: 0.63</br>word_freq_over: 0.0</br>word_freq_remove: 0.31</br>word_freq_internet: 0.63</br>word_freq_order: 0.31</br>word_freq_mail: 0.63</br>word_freq_receive: 0.31</br>word_freq_will: 0.31</br>word_freq_people: 0.31</br>word_freq_report: 0.0</br>word_freq_addresses: 0.0</br>word_freq_free: 0.31</br>... too many variables\"],[\"</br>id: 4</br>prediction: 0.949</br>capital_run_length_average: 342.46500000000003</br></br>word_freq_make: 0.0</br>word_freq_address: 0.0</br>word_freq_all: 0.0</br>word_freq_3d: 0.0</br>word_freq_our: 0.63</br>word_freq_over: 0.0</br>word_freq_remove: 0.31</br>word_freq_internet: 0.63</br>word_freq_order: 0.31</br>word_freq_mail: 0.63</br>word_freq_receive: 0.31</br>word_freq_will: 0.31</br>word_freq_people: 0.31</br>word_freq_report: 0.0</br>word_freq_addresses: 0.0</br>word_freq_free: 0.31</br>... too many variables\"],[\"</br>id: 4</br>prediction: 0.949</br>capital_run_length_average: 353.48</br></br>word_freq_make: 0.0</br>word_freq_address: 0.0</br>word_freq_all: 0.0</br>word_freq_3d: 0.0</br>word_freq_our: 0.63</br>word_freq_over: 0.0</br>word_freq_remove: 0.31</br>word_freq_internet: 0.63</br>word_freq_order: 0.31</br>word_freq_mail: 0.63</br>word_freq_receive: 0.31</br>word_freq_will: 0.31</br>word_freq_people: 0.31</br>word_freq_report: 0.0</br>word_freq_addresses: 0.0</br>word_freq_free: 0.31</br>word_freq_business: 0.0</br>... too many variables\"],[\"</br>id: 4</br>prediction: 0.949</br>capital_run_length_average: 364.495</br></br>word_freq_make: 0.0</br>word_freq_address: 0.0</br>word_freq_all: 0.0</br>word_freq_3d: 0.0</br>word_freq_our: 0.63</br>word_freq_over: 0.0</br>word_freq_remove: 0.31</br>word_freq_internet: 0.63</br>word_freq_order: 0.31</br>word_freq_mail: 0.63</br>word_freq_receive: 0.31</br>word_freq_will: 0.31</br>word_freq_people: 0.31</br>word_freq_report: 0.0</br>word_freq_addresses: 0.0</br>word_freq_free: 0.31</br>word_freq_business: 0.0</br>... too many variables\"],[\"</br>id: 4</br>prediction: 0.949</br>capital_run_length_average: 375.51</br></br>word_freq_make: 0.0</br>word_freq_address: 0.0</br>word_freq_all: 0.0</br>word_freq_3d: 0.0</br>word_freq_our: 0.63</br>word_freq_over: 0.0</br>word_freq_remove: 0.31</br>word_freq_internet: 0.63</br>word_freq_order: 0.31</br>word_freq_mail: 0.63</br>word_freq_receive: 0.31</br>word_freq_will: 0.31</br>word_freq_people: 0.31</br>word_freq_report: 0.0</br>word_freq_addresses: 0.0</br>word_freq_free: 0.31</br>word_freq_business: 0.0</br>... too many variables\"],[\"</br>id: 4</br>prediction: 0.949</br>capital_run_length_average: 386.52500000000003</br></br>word_freq_make: 0.0</br>word_freq_address: 0.0</br>word_freq_all: 0.0</br>word_freq_3d: 0.0</br>word_freq_our: 0.63</br>word_freq_over: 0.0</br>word_freq_remove: 0.31</br>word_freq_internet: 0.63</br>word_freq_order: 0.31</br>word_freq_mail: 0.63</br>word_freq_receive: 0.31</br>word_freq_will: 0.31</br>word_freq_people: 0.31</br>word_freq_report: 0.0</br>word_freq_addresses: 0.0</br>word_freq_free: 0.31</br>... too many variables\"],[\"</br>id: 4</br>prediction: 0.949</br>capital_run_length_average: 397.54</br></br>word_freq_make: 0.0</br>word_freq_address: 0.0</br>word_freq_all: 0.0</br>word_freq_3d: 0.0</br>word_freq_our: 0.63</br>word_freq_over: 0.0</br>word_freq_remove: 0.31</br>word_freq_internet: 0.63</br>word_freq_order: 0.31</br>word_freq_mail: 0.63</br>word_freq_receive: 0.31</br>word_freq_will: 0.31</br>word_freq_people: 0.31</br>word_freq_report: 0.0</br>word_freq_addresses: 0.0</br>word_freq_free: 0.31</br>word_freq_business: 0.0</br>... too many variables\"],[\"</br>id: 4</br>prediction: 0.949</br>capital_run_length_average: 408.555</br></br>word_freq_make: 0.0</br>word_freq_address: 0.0</br>word_freq_all: 0.0</br>word_freq_3d: 0.0</br>word_freq_our: 0.63</br>word_freq_over: 0.0</br>word_freq_remove: 0.31</br>word_freq_internet: 0.63</br>word_freq_order: 0.31</br>word_freq_mail: 0.63</br>word_freq_receive: 0.31</br>word_freq_will: 0.31</br>word_freq_people: 0.31</br>word_freq_report: 0.0</br>word_freq_addresses: 0.0</br>word_freq_free: 0.31</br>word_freq_business: 0.0</br>... too many variables\"],[\"</br>id: 4</br>prediction: 0.949</br>capital_run_length_average: 419.57000000000005</br></br>word_freq_make: 0.0</br>word_freq_address: 0.0</br>word_freq_all: 0.0</br>word_freq_3d: 0.0</br>word_freq_our: 0.63</br>word_freq_over: 0.0</br>word_freq_remove: 0.31</br>word_freq_internet: 0.63</br>word_freq_order: 0.31</br>word_freq_mail: 0.63</br>word_freq_receive: 0.31</br>word_freq_will: 0.31</br>word_freq_people: 0.31</br>word_freq_report: 0.0</br>word_freq_addresses: 0.0</br>word_freq_free: 0.31</br>... too many variables\"],[\"</br>id: 4</br>prediction: 0.949</br>capital_run_length_average: 430.58500000000004</br></br>word_freq_make: 0.0</br>word_freq_address: 0.0</br>word_freq_all: 0.0</br>word_freq_3d: 0.0</br>word_freq_our: 0.63</br>word_freq_over: 0.0</br>word_freq_remove: 0.31</br>word_freq_internet: 0.63</br>word_freq_order: 0.31</br>word_freq_mail: 0.63</br>word_freq_receive: 0.31</br>word_freq_will: 0.31</br>word_freq_people: 0.31</br>word_freq_report: 0.0</br>word_freq_addresses: 0.0</br>word_freq_free: 0.31</br>... too many variables\"],[\"</br>id: 4</br>prediction: 0.949</br>capital_run_length_average: 441.6</br></br>word_freq_make: 0.0</br>word_freq_address: 0.0</br>word_freq_all: 0.0</br>word_freq_3d: 0.0</br>word_freq_our: 0.63</br>word_freq_over: 0.0</br>word_freq_remove: 0.31</br>word_freq_internet: 0.63</br>word_freq_order: 0.31</br>word_freq_mail: 0.63</br>word_freq_receive: 0.31</br>word_freq_will: 0.31</br>word_freq_people: 0.31</br>word_freq_report: 0.0</br>word_freq_addresses: 0.0</br>word_freq_free: 0.31</br>word_freq_business: 0.0</br>... too many variables\"],[\"</br>id: 4</br>prediction: 0.949</br>capital_run_length_average: 452.615</br></br>word_freq_make: 0.0</br>word_freq_address: 0.0</br>word_freq_all: 0.0</br>word_freq_3d: 0.0</br>word_freq_our: 0.63</br>word_freq_over: 0.0</br>word_freq_remove: 0.31</br>word_freq_internet: 0.63</br>word_freq_order: 0.31</br>word_freq_mail: 0.63</br>word_freq_receive: 0.31</br>word_freq_will: 0.31</br>word_freq_people: 0.31</br>word_freq_report: 0.0</br>word_freq_addresses: 0.0</br>word_freq_free: 0.31</br>word_freq_business: 0.0</br>... too many variables\"],[\"</br>id: 4</br>prediction: 0.949</br>capital_run_length_average: 463.63</br></br>word_freq_make: 0.0</br>word_freq_address: 0.0</br>word_freq_all: 0.0</br>word_freq_3d: 0.0</br>word_freq_our: 0.63</br>word_freq_over: 0.0</br>word_freq_remove: 0.31</br>word_freq_internet: 0.63</br>word_freq_order: 0.31</br>word_freq_mail: 0.63</br>word_freq_receive: 0.31</br>word_freq_will: 0.31</br>word_freq_people: 0.31</br>word_freq_report: 0.0</br>word_freq_addresses: 0.0</br>word_freq_free: 0.31</br>word_freq_business: 0.0</br>... too many variables\"],[\"</br>id: 4</br>prediction: 0.949</br>capital_run_length_average: 474.64500000000004</br></br>word_freq_make: 0.0</br>word_freq_address: 0.0</br>word_freq_all: 0.0</br>word_freq_3d: 0.0</br>word_freq_our: 0.63</br>word_freq_over: 0.0</br>word_freq_remove: 0.31</br>word_freq_internet: 0.63</br>word_freq_order: 0.31</br>word_freq_mail: 0.63</br>word_freq_receive: 0.31</br>word_freq_will: 0.31</br>word_freq_people: 0.31</br>word_freq_report: 0.0</br>word_freq_addresses: 0.0</br>word_freq_free: 0.31</br>... too many variables\"],[\"</br>id: 4</br>prediction: 0.949</br>capital_run_length_average: 485.66</br></br>word_freq_make: 0.0</br>word_freq_address: 0.0</br>word_freq_all: 0.0</br>word_freq_3d: 0.0</br>word_freq_our: 0.63</br>word_freq_over: 0.0</br>word_freq_remove: 0.31</br>word_freq_internet: 0.63</br>word_freq_order: 0.31</br>word_freq_mail: 0.63</br>word_freq_receive: 0.31</br>word_freq_will: 0.31</br>word_freq_people: 0.31</br>word_freq_report: 0.0</br>word_freq_addresses: 0.0</br>word_freq_free: 0.31</br>word_freq_business: 0.0</br>... too many variables\"],[\"</br>id: 4</br>prediction: 0.949</br>capital_run_length_average: 496.675</br></br>word_freq_make: 0.0</br>word_freq_address: 0.0</br>word_freq_all: 0.0</br>word_freq_3d: 0.0</br>word_freq_our: 0.63</br>word_freq_over: 0.0</br>word_freq_remove: 0.31</br>word_freq_internet: 0.63</br>word_freq_order: 0.31</br>word_freq_mail: 0.63</br>word_freq_receive: 0.31</br>word_freq_will: 0.31</br>word_freq_people: 0.31</br>word_freq_report: 0.0</br>word_freq_addresses: 0.0</br>word_freq_free: 0.31</br>word_freq_business: 0.0</br>... too many variables\"],[\"</br>id: 4</br>prediction: 0.949</br>capital_run_length_average: 507.69000000000005</br></br>word_freq_make: 0.0</br>word_freq_address: 0.0</br>word_freq_all: 0.0</br>word_freq_3d: 0.0</br>word_freq_our: 0.63</br>word_freq_over: 0.0</br>word_freq_remove: 0.31</br>word_freq_internet: 0.63</br>word_freq_order: 0.31</br>word_freq_mail: 0.63</br>word_freq_receive: 0.31</br>word_freq_will: 0.31</br>word_freq_people: 0.31</br>word_freq_report: 0.0</br>word_freq_addresses: 0.0</br>word_freq_free: 0.31</br>... too many variables\"],[\"</br>id: 4</br>prediction: 0.949</br>capital_run_length_average: 518.705</br></br>word_freq_make: 0.0</br>word_freq_address: 0.0</br>word_freq_all: 0.0</br>word_freq_3d: 0.0</br>word_freq_our: 0.63</br>word_freq_over: 0.0</br>word_freq_remove: 0.31</br>word_freq_internet: 0.63</br>word_freq_order: 0.31</br>word_freq_mail: 0.63</br>word_freq_receive: 0.31</br>word_freq_will: 0.31</br>word_freq_people: 0.31</br>word_freq_report: 0.0</br>word_freq_addresses: 0.0</br>word_freq_free: 0.31</br>word_freq_business: 0.0</br>... too many variables\"],[\"</br>id: 4</br>prediction: 0.949</br>capital_run_length_average: 529.72</br></br>word_freq_make: 0.0</br>word_freq_address: 0.0</br>word_freq_all: 0.0</br>word_freq_3d: 0.0</br>word_freq_our: 0.63</br>word_freq_over: 0.0</br>word_freq_remove: 0.31</br>word_freq_internet: 0.63</br>word_freq_order: 0.31</br>word_freq_mail: 0.63</br>word_freq_receive: 0.31</br>word_freq_will: 0.31</br>word_freq_people: 0.31</br>word_freq_report: 0.0</br>word_freq_addresses: 0.0</br>word_freq_free: 0.31</br>word_freq_business: 0.0</br>... too many variables\"],[\"</br>id: 4</br>prediction: 0.949</br>capital_run_length_average: 540.735</br></br>word_freq_make: 0.0</br>word_freq_address: 0.0</br>word_freq_all: 0.0</br>word_freq_3d: 0.0</br>word_freq_our: 0.63</br>word_freq_over: 0.0</br>word_freq_remove: 0.31</br>word_freq_internet: 0.63</br>word_freq_order: 0.31</br>word_freq_mail: 0.63</br>word_freq_receive: 0.31</br>word_freq_will: 0.31</br>word_freq_people: 0.31</br>word_freq_report: 0.0</br>word_freq_addresses: 0.0</br>word_freq_free: 0.31</br>word_freq_business: 0.0</br>... too many variables\"],[\"</br>id: 4</br>prediction: 0.949</br>capital_run_length_average: 551.75</br></br>word_freq_make: 0.0</br>word_freq_address: 0.0</br>word_freq_all: 0.0</br>word_freq_3d: 0.0</br>word_freq_our: 0.63</br>word_freq_over: 0.0</br>word_freq_remove: 0.31</br>word_freq_internet: 0.63</br>word_freq_order: 0.31</br>word_freq_mail: 0.63</br>word_freq_receive: 0.31</br>word_freq_will: 0.31</br>word_freq_people: 0.31</br>word_freq_report: 0.0</br>word_freq_addresses: 0.0</br>word_freq_free: 0.31</br>word_freq_business: 0.0</br>... too many variables\"],[\"</br>id: 4</br>prediction: 0.949</br>capital_run_length_average: 562.765</br></br>word_freq_make: 0.0</br>word_freq_address: 0.0</br>word_freq_all: 0.0</br>word_freq_3d: 0.0</br>word_freq_our: 0.63</br>word_freq_over: 0.0</br>word_freq_remove: 0.31</br>word_freq_internet: 0.63</br>word_freq_order: 0.31</br>word_freq_mail: 0.63</br>word_freq_receive: 0.31</br>word_freq_will: 0.31</br>word_freq_people: 0.31</br>word_freq_report: 0.0</br>word_freq_addresses: 0.0</br>word_freq_free: 0.31</br>word_freq_business: 0.0</br>... too many variables\"],[\"</br>id: 4</br>prediction: 0.949</br>capital_run_length_average: 573.78</br></br>word_freq_make: 0.0</br>word_freq_address: 0.0</br>word_freq_all: 0.0</br>word_freq_3d: 0.0</br>word_freq_our: 0.63</br>word_freq_over: 0.0</br>word_freq_remove: 0.31</br>word_freq_internet: 0.63</br>word_freq_order: 0.31</br>word_freq_mail: 0.63</br>word_freq_receive: 0.31</br>word_freq_will: 0.31</br>word_freq_people: 0.31</br>word_freq_report: 0.0</br>word_freq_addresses: 0.0</br>word_freq_free: 0.31</br>word_freq_business: 0.0</br>... too many variables\"],[\"</br>id: 4</br>prediction: 0.949</br>capital_run_length_average: 584.7950000000001</br></br>word_freq_make: 0.0</br>word_freq_address: 0.0</br>word_freq_all: 0.0</br>word_freq_3d: 0.0</br>word_freq_our: 0.63</br>word_freq_over: 0.0</br>word_freq_remove: 0.31</br>word_freq_internet: 0.63</br>word_freq_order: 0.31</br>word_freq_mail: 0.63</br>word_freq_receive: 0.31</br>word_freq_will: 0.31</br>word_freq_people: 0.31</br>word_freq_report: 0.0</br>word_freq_addresses: 0.0</br>word_freq_free: 0.31</br>... too many variables\"],[\"</br>id: 4</br>prediction: 0.949</br>capital_run_length_average: 595.8100000000001</br></br>word_freq_make: 0.0</br>word_freq_address: 0.0</br>word_freq_all: 0.0</br>word_freq_3d: 0.0</br>word_freq_our: 0.63</br>word_freq_over: 0.0</br>word_freq_remove: 0.31</br>word_freq_internet: 0.63</br>word_freq_order: 0.31</br>word_freq_mail: 0.63</br>word_freq_receive: 0.31</br>word_freq_will: 0.31</br>word_freq_people: 0.31</br>word_freq_report: 0.0</br>word_freq_addresses: 0.0</br>word_freq_free: 0.31</br>... too many variables\"],[\"</br>id: 4</br>prediction: 0.949</br>capital_run_length_average: 606.825</br></br>word_freq_make: 0.0</br>word_freq_address: 0.0</br>word_freq_all: 0.0</br>word_freq_3d: 0.0</br>word_freq_our: 0.63</br>word_freq_over: 0.0</br>word_freq_remove: 0.31</br>word_freq_internet: 0.63</br>word_freq_order: 0.31</br>word_freq_mail: 0.63</br>word_freq_receive: 0.31</br>word_freq_will: 0.31</br>word_freq_people: 0.31</br>word_freq_report: 0.0</br>word_freq_addresses: 0.0</br>word_freq_free: 0.31</br>word_freq_business: 0.0</br>... too many variables\"],[\"</br>id: 4</br>prediction: 0.949</br>capital_run_length_average: 617.84</br></br>word_freq_make: 0.0</br>word_freq_address: 0.0</br>word_freq_all: 0.0</br>word_freq_3d: 0.0</br>word_freq_our: 0.63</br>word_freq_over: 0.0</br>word_freq_remove: 0.31</br>word_freq_internet: 0.63</br>word_freq_order: 0.31</br>word_freq_mail: 0.63</br>word_freq_receive: 0.31</br>word_freq_will: 0.31</br>word_freq_people: 0.31</br>word_freq_report: 0.0</br>word_freq_addresses: 0.0</br>word_freq_free: 0.31</br>word_freq_business: 0.0</br>... too many variables\"],[\"</br>id: 4</br>prediction: 0.949</br>capital_run_length_average: 628.855</br></br>word_freq_make: 0.0</br>word_freq_address: 0.0</br>word_freq_all: 0.0</br>word_freq_3d: 0.0</br>word_freq_our: 0.63</br>word_freq_over: 0.0</br>word_freq_remove: 0.31</br>word_freq_internet: 0.63</br>word_freq_order: 0.31</br>word_freq_mail: 0.63</br>word_freq_receive: 0.31</br>word_freq_will: 0.31</br>word_freq_people: 0.31</br>word_freq_report: 0.0</br>word_freq_addresses: 0.0</br>word_freq_free: 0.31</br>word_freq_business: 0.0</br>... too many variables\"],[\"</br>id: 4</br>prediction: 0.949</br>capital_run_length_average: 639.87</br></br>word_freq_make: 0.0</br>word_freq_address: 0.0</br>word_freq_all: 0.0</br>word_freq_3d: 0.0</br>word_freq_our: 0.63</br>word_freq_over: 0.0</br>word_freq_remove: 0.31</br>word_freq_internet: 0.63</br>word_freq_order: 0.31</br>word_freq_mail: 0.63</br>word_freq_receive: 0.31</br>word_freq_will: 0.31</br>word_freq_people: 0.31</br>word_freq_report: 0.0</br>word_freq_addresses: 0.0</br>word_freq_free: 0.31</br>word_freq_business: 0.0</br>... too many variables\"],[\"</br>id: 4</br>prediction: 0.949</br>capital_run_length_average: 650.885</br></br>word_freq_make: 0.0</br>word_freq_address: 0.0</br>word_freq_all: 0.0</br>word_freq_3d: 0.0</br>word_freq_our: 0.63</br>word_freq_over: 0.0</br>word_freq_remove: 0.31</br>word_freq_internet: 0.63</br>word_freq_order: 0.31</br>word_freq_mail: 0.63</br>word_freq_receive: 0.31</br>word_freq_will: 0.31</br>word_freq_people: 0.31</br>word_freq_report: 0.0</br>word_freq_addresses: 0.0</br>word_freq_free: 0.31</br>word_freq_business: 0.0</br>... too many variables\"],[\"</br>id: 4</br>prediction: 0.949</br>capital_run_length_average: 661.9000000000001</br></br>word_freq_make: 0.0</br>word_freq_address: 0.0</br>word_freq_all: 0.0</br>word_freq_3d: 0.0</br>word_freq_our: 0.63</br>word_freq_over: 0.0</br>word_freq_remove: 0.31</br>word_freq_internet: 0.63</br>word_freq_order: 0.31</br>word_freq_mail: 0.63</br>word_freq_receive: 0.31</br>word_freq_will: 0.31</br>word_freq_people: 0.31</br>word_freq_report: 0.0</br>word_freq_addresses: 0.0</br>word_freq_free: 0.31</br>... too many variables\"],[\"</br>id: 4</br>prediction: 0.949</br>capital_run_length_average: 672.9150000000001</br></br>word_freq_make: 0.0</br>word_freq_address: 0.0</br>word_freq_all: 0.0</br>word_freq_3d: 0.0</br>word_freq_our: 0.63</br>word_freq_over: 0.0</br>word_freq_remove: 0.31</br>word_freq_internet: 0.63</br>word_freq_order: 0.31</br>word_freq_mail: 0.63</br>word_freq_receive: 0.31</br>word_freq_will: 0.31</br>word_freq_people: 0.31</br>word_freq_report: 0.0</br>word_freq_addresses: 0.0</br>word_freq_free: 0.31</br>... too many variables\"],[\"</br>id: 4</br>prediction: 0.949</br>capital_run_length_average: 683.9300000000001</br></br>word_freq_make: 0.0</br>word_freq_address: 0.0</br>word_freq_all: 0.0</br>word_freq_3d: 0.0</br>word_freq_our: 0.63</br>word_freq_over: 0.0</br>word_freq_remove: 0.31</br>word_freq_internet: 0.63</br>word_freq_order: 0.31</br>word_freq_mail: 0.63</br>word_freq_receive: 0.31</br>word_freq_will: 0.31</br>word_freq_people: 0.31</br>word_freq_report: 0.0</br>word_freq_addresses: 0.0</br>word_freq_free: 0.31</br>... too many variables\"],[\"</br>id: 4</br>prediction: 0.949</br>capital_run_length_average: 694.945</br></br>word_freq_make: 0.0</br>word_freq_address: 0.0</br>word_freq_all: 0.0</br>word_freq_3d: 0.0</br>word_freq_our: 0.63</br>word_freq_over: 0.0</br>word_freq_remove: 0.31</br>word_freq_internet: 0.63</br>word_freq_order: 0.31</br>word_freq_mail: 0.63</br>word_freq_receive: 0.31</br>word_freq_will: 0.31</br>word_freq_people: 0.31</br>word_freq_report: 0.0</br>word_freq_addresses: 0.0</br>word_freq_free: 0.31</br>word_freq_business: 0.0</br>... too many variables\"],[\"</br>id: 4</br>prediction: 0.949</br>capital_run_length_average: 705.96</br></br>word_freq_make: 0.0</br>word_freq_address: 0.0</br>word_freq_all: 0.0</br>word_freq_3d: 0.0</br>word_freq_our: 0.63</br>word_freq_over: 0.0</br>word_freq_remove: 0.31</br>word_freq_internet: 0.63</br>word_freq_order: 0.31</br>word_freq_mail: 0.63</br>word_freq_receive: 0.31</br>word_freq_will: 0.31</br>word_freq_people: 0.31</br>word_freq_report: 0.0</br>word_freq_addresses: 0.0</br>word_freq_free: 0.31</br>word_freq_business: 0.0</br>... too many variables\"],[\"</br>id: 4</br>prediction: 0.949</br>capital_run_length_average: 716.975</br></br>word_freq_make: 0.0</br>word_freq_address: 0.0</br>word_freq_all: 0.0</br>word_freq_3d: 0.0</br>word_freq_our: 0.63</br>word_freq_over: 0.0</br>word_freq_remove: 0.31</br>word_freq_internet: 0.63</br>word_freq_order: 0.31</br>word_freq_mail: 0.63</br>word_freq_receive: 0.31</br>word_freq_will: 0.31</br>word_freq_people: 0.31</br>word_freq_report: 0.0</br>word_freq_addresses: 0.0</br>word_freq_free: 0.31</br>word_freq_business: 0.0</br>... too many variables\"],[\"</br>id: 4</br>prediction: 0.949</br>capital_run_length_average: 727.99</br></br>word_freq_make: 0.0</br>word_freq_address: 0.0</br>word_freq_all: 0.0</br>word_freq_3d: 0.0</br>word_freq_our: 0.63</br>word_freq_over: 0.0</br>word_freq_remove: 0.31</br>word_freq_internet: 0.63</br>word_freq_order: 0.31</br>word_freq_mail: 0.63</br>word_freq_receive: 0.31</br>word_freq_will: 0.31</br>word_freq_people: 0.31</br>word_freq_report: 0.0</br>word_freq_addresses: 0.0</br>word_freq_free: 0.31</br>word_freq_business: 0.0</br>... too many variables\"],[\"</br>id: 4</br>prediction: 0.949</br>capital_run_length_average: 739.005</br></br>word_freq_make: 0.0</br>word_freq_address: 0.0</br>word_freq_all: 0.0</br>word_freq_3d: 0.0</br>word_freq_our: 0.63</br>word_freq_over: 0.0</br>word_freq_remove: 0.31</br>word_freq_internet: 0.63</br>word_freq_order: 0.31</br>word_freq_mail: 0.63</br>word_freq_receive: 0.31</br>word_freq_will: 0.31</br>word_freq_people: 0.31</br>word_freq_report: 0.0</br>word_freq_addresses: 0.0</br>word_freq_free: 0.31</br>word_freq_business: 0.0</br>... too many variables\"],[\"</br>id: 4</br>prediction: 0.949</br>capital_run_length_average: 750.02</br></br>word_freq_make: 0.0</br>word_freq_address: 0.0</br>word_freq_all: 0.0</br>word_freq_3d: 0.0</br>word_freq_our: 0.63</br>word_freq_over: 0.0</br>word_freq_remove: 0.31</br>word_freq_internet: 0.63</br>word_freq_order: 0.31</br>word_freq_mail: 0.63</br>word_freq_receive: 0.31</br>word_freq_will: 0.31</br>word_freq_people: 0.31</br>word_freq_report: 0.0</br>word_freq_addresses: 0.0</br>word_freq_free: 0.31</br>word_freq_business: 0.0</br>... too many variables\"],[\"</br>id: 4</br>prediction: 0.949</br>capital_run_length_average: 761.0350000000001</br></br>word_freq_make: 0.0</br>word_freq_address: 0.0</br>word_freq_all: 0.0</br>word_freq_3d: 0.0</br>word_freq_our: 0.63</br>word_freq_over: 0.0</br>word_freq_remove: 0.31</br>word_freq_internet: 0.63</br>word_freq_order: 0.31</br>word_freq_mail: 0.63</br>word_freq_receive: 0.31</br>word_freq_will: 0.31</br>word_freq_people: 0.31</br>word_freq_report: 0.0</br>word_freq_addresses: 0.0</br>word_freq_free: 0.31</br>... too many variables\"],[\"</br>id: 4</br>prediction: 0.949</br>capital_run_length_average: 772.0500000000001</br></br>word_freq_make: 0.0</br>word_freq_address: 0.0</br>word_freq_all: 0.0</br>word_freq_3d: 0.0</br>word_freq_our: 0.63</br>word_freq_over: 0.0</br>word_freq_remove: 0.31</br>word_freq_internet: 0.63</br>word_freq_order: 0.31</br>word_freq_mail: 0.63</br>word_freq_receive: 0.31</br>word_freq_will: 0.31</br>word_freq_people: 0.31</br>word_freq_report: 0.0</br>word_freq_addresses: 0.0</br>word_freq_free: 0.31</br>... too many variables\"],[\"</br>id: 4</br>prediction: 0.949</br>capital_run_length_average: 783.065</br></br>word_freq_make: 0.0</br>word_freq_address: 0.0</br>word_freq_all: 0.0</br>word_freq_3d: 0.0</br>word_freq_our: 0.63</br>word_freq_over: 0.0</br>word_freq_remove: 0.31</br>word_freq_internet: 0.63</br>word_freq_order: 0.31</br>word_freq_mail: 0.63</br>word_freq_receive: 0.31</br>word_freq_will: 0.31</br>word_freq_people: 0.31</br>word_freq_report: 0.0</br>word_freq_addresses: 0.0</br>word_freq_free: 0.31</br>word_freq_business: 0.0</br>... too many variables\"],[\"</br>id: 4</br>prediction: 0.949</br>capital_run_length_average: 794.08</br></br>word_freq_make: 0.0</br>word_freq_address: 0.0</br>word_freq_all: 0.0</br>word_freq_3d: 0.0</br>word_freq_our: 0.63</br>word_freq_over: 0.0</br>word_freq_remove: 0.31</br>word_freq_internet: 0.63</br>word_freq_order: 0.31</br>word_freq_mail: 0.63</br>word_freq_receive: 0.31</br>word_freq_will: 0.31</br>word_freq_people: 0.31</br>word_freq_report: 0.0</br>word_freq_addresses: 0.0</br>word_freq_free: 0.31</br>word_freq_business: 0.0</br>... too many variables\"],[\"</br>id: 4</br>prediction: 0.949</br>capital_run_length_average: 805.095</br></br>word_freq_make: 0.0</br>word_freq_address: 0.0</br>word_freq_all: 0.0</br>word_freq_3d: 0.0</br>word_freq_our: 0.63</br>word_freq_over: 0.0</br>word_freq_remove: 0.31</br>word_freq_internet: 0.63</br>word_freq_order: 0.31</br>word_freq_mail: 0.63</br>word_freq_receive: 0.31</br>word_freq_will: 0.31</br>word_freq_people: 0.31</br>word_freq_report: 0.0</br>word_freq_addresses: 0.0</br>word_freq_free: 0.31</br>word_freq_business: 0.0</br>... too many variables\"],[\"</br>id: 4</br>prediction: 0.949</br>capital_run_length_average: 816.11</br></br>word_freq_make: 0.0</br>word_freq_address: 0.0</br>word_freq_all: 0.0</br>word_freq_3d: 0.0</br>word_freq_our: 0.63</br>word_freq_over: 0.0</br>word_freq_remove: 0.31</br>word_freq_internet: 0.63</br>word_freq_order: 0.31</br>word_freq_mail: 0.63</br>word_freq_receive: 0.31</br>word_freq_will: 0.31</br>word_freq_people: 0.31</br>word_freq_report: 0.0</br>word_freq_addresses: 0.0</br>word_freq_free: 0.31</br>word_freq_business: 0.0</br>... too many variables\"],[\"</br>id: 4</br>prediction: 0.949</br>capital_run_length_average: 827.125</br></br>word_freq_make: 0.0</br>word_freq_address: 0.0</br>word_freq_all: 0.0</br>word_freq_3d: 0.0</br>word_freq_our: 0.63</br>word_freq_over: 0.0</br>word_freq_remove: 0.31</br>word_freq_internet: 0.63</br>word_freq_order: 0.31</br>word_freq_mail: 0.63</br>word_freq_receive: 0.31</br>word_freq_will: 0.31</br>word_freq_people: 0.31</br>word_freq_report: 0.0</br>word_freq_addresses: 0.0</br>word_freq_free: 0.31</br>word_freq_business: 0.0</br>... too many variables\"],[\"</br>id: 4</br>prediction: 0.949</br>capital_run_length_average: 838.1400000000001</br></br>word_freq_make: 0.0</br>word_freq_address: 0.0</br>word_freq_all: 0.0</br>word_freq_3d: 0.0</br>word_freq_our: 0.63</br>word_freq_over: 0.0</br>word_freq_remove: 0.31</br>word_freq_internet: 0.63</br>word_freq_order: 0.31</br>word_freq_mail: 0.63</br>word_freq_receive: 0.31</br>word_freq_will: 0.31</br>word_freq_people: 0.31</br>word_freq_report: 0.0</br>word_freq_addresses: 0.0</br>word_freq_free: 0.31</br>... too many variables\"],[\"</br>id: 4</br>prediction: 0.949</br>capital_run_length_average: 849.1550000000001</br></br>word_freq_make: 0.0</br>word_freq_address: 0.0</br>word_freq_all: 0.0</br>word_freq_3d: 0.0</br>word_freq_our: 0.63</br>word_freq_over: 0.0</br>word_freq_remove: 0.31</br>word_freq_internet: 0.63</br>word_freq_order: 0.31</br>word_freq_mail: 0.63</br>word_freq_receive: 0.31</br>word_freq_will: 0.31</br>word_freq_people: 0.31</br>word_freq_report: 0.0</br>word_freq_addresses: 0.0</br>word_freq_free: 0.31</br>... too many variables\"],[\"</br>id: 4</br>prediction: 0.949</br>capital_run_length_average: 860.1700000000001</br></br>word_freq_make: 0.0</br>word_freq_address: 0.0</br>word_freq_all: 0.0</br>word_freq_3d: 0.0</br>word_freq_our: 0.63</br>word_freq_over: 0.0</br>word_freq_remove: 0.31</br>word_freq_internet: 0.63</br>word_freq_order: 0.31</br>word_freq_mail: 0.63</br>word_freq_receive: 0.31</br>word_freq_will: 0.31</br>word_freq_people: 0.31</br>word_freq_report: 0.0</br>word_freq_addresses: 0.0</br>word_freq_free: 0.31</br>... too many variables\"],[\"</br>id: 4</br>prediction: 0.949</br>capital_run_length_average: 871.1850000000001</br></br>word_freq_make: 0.0</br>word_freq_address: 0.0</br>word_freq_all: 0.0</br>word_freq_3d: 0.0</br>word_freq_our: 0.63</br>word_freq_over: 0.0</br>word_freq_remove: 0.31</br>word_freq_internet: 0.63</br>word_freq_order: 0.31</br>word_freq_mail: 0.63</br>word_freq_receive: 0.31</br>word_freq_will: 0.31</br>word_freq_people: 0.31</br>word_freq_report: 0.0</br>word_freq_addresses: 0.0</br>word_freq_free: 0.31</br>... too many variables\"],[\"</br>id: 4</br>prediction: 0.949</br>capital_run_length_average: 882.2</br></br>word_freq_make: 0.0</br>word_freq_address: 0.0</br>word_freq_all: 0.0</br>word_freq_3d: 0.0</br>word_freq_our: 0.63</br>word_freq_over: 0.0</br>word_freq_remove: 0.31</br>word_freq_internet: 0.63</br>word_freq_order: 0.31</br>word_freq_mail: 0.63</br>word_freq_receive: 0.31</br>word_freq_will: 0.31</br>word_freq_people: 0.31</br>word_freq_report: 0.0</br>word_freq_addresses: 0.0</br>word_freq_free: 0.31</br>word_freq_business: 0.0</br>... too many variables\"],[\"</br>id: 4</br>prediction: 0.949</br>capital_run_length_average: 893.215</br></br>word_freq_make: 0.0</br>word_freq_address: 0.0</br>word_freq_all: 0.0</br>word_freq_3d: 0.0</br>word_freq_our: 0.63</br>word_freq_over: 0.0</br>word_freq_remove: 0.31</br>word_freq_internet: 0.63</br>word_freq_order: 0.31</br>word_freq_mail: 0.63</br>word_freq_receive: 0.31</br>word_freq_will: 0.31</br>word_freq_people: 0.31</br>word_freq_report: 0.0</br>word_freq_addresses: 0.0</br>word_freq_free: 0.31</br>word_freq_business: 0.0</br>... too many variables\"],[\"</br>id: 4</br>prediction: 0.949</br>capital_run_length_average: 904.23</br></br>word_freq_make: 0.0</br>word_freq_address: 0.0</br>word_freq_all: 0.0</br>word_freq_3d: 0.0</br>word_freq_our: 0.63</br>word_freq_over: 0.0</br>word_freq_remove: 0.31</br>word_freq_internet: 0.63</br>word_freq_order: 0.31</br>word_freq_mail: 0.63</br>word_freq_receive: 0.31</br>word_freq_will: 0.31</br>word_freq_people: 0.31</br>word_freq_report: 0.0</br>word_freq_addresses: 0.0</br>word_freq_free: 0.31</br>word_freq_business: 0.0</br>... too many variables\"],[\"</br>id: 4</br>prediction: 0.949</br>capital_run_length_average: 915.245</br></br>word_freq_make: 0.0</br>word_freq_address: 0.0</br>word_freq_all: 0.0</br>word_freq_3d: 0.0</br>word_freq_our: 0.63</br>word_freq_over: 0.0</br>word_freq_remove: 0.31</br>word_freq_internet: 0.63</br>word_freq_order: 0.31</br>word_freq_mail: 0.63</br>word_freq_receive: 0.31</br>word_freq_will: 0.31</br>word_freq_people: 0.31</br>word_freq_report: 0.0</br>word_freq_addresses: 0.0</br>word_freq_free: 0.31</br>word_freq_business: 0.0</br>... too many variables\"],[\"</br>id: 4</br>prediction: 0.949</br>capital_run_length_average: 926.26</br></br>word_freq_make: 0.0</br>word_freq_address: 0.0</br>word_freq_all: 0.0</br>word_freq_3d: 0.0</br>word_freq_our: 0.63</br>word_freq_over: 0.0</br>word_freq_remove: 0.31</br>word_freq_internet: 0.63</br>word_freq_order: 0.31</br>word_freq_mail: 0.63</br>word_freq_receive: 0.31</br>word_freq_will: 0.31</br>word_freq_people: 0.31</br>word_freq_report: 0.0</br>word_freq_addresses: 0.0</br>word_freq_free: 0.31</br>word_freq_business: 0.0</br>... too many variables\"],[\"</br>id: 4</br>prediction: 0.949</br>capital_run_length_average: 937.2750000000001</br></br>word_freq_make: 0.0</br>word_freq_address: 0.0</br>word_freq_all: 0.0</br>word_freq_3d: 0.0</br>word_freq_our: 0.63</br>word_freq_over: 0.0</br>word_freq_remove: 0.31</br>word_freq_internet: 0.63</br>word_freq_order: 0.31</br>word_freq_mail: 0.63</br>word_freq_receive: 0.31</br>word_freq_will: 0.31</br>word_freq_people: 0.31</br>word_freq_report: 0.0</br>word_freq_addresses: 0.0</br>word_freq_free: 0.31</br>... too many variables\"],[\"</br>id: 4</br>prediction: 0.949</br>capital_run_length_average: 948.2900000000001</br></br>word_freq_make: 0.0</br>word_freq_address: 0.0</br>word_freq_all: 0.0</br>word_freq_3d: 0.0</br>word_freq_our: 0.63</br>word_freq_over: 0.0</br>word_freq_remove: 0.31</br>word_freq_internet: 0.63</br>word_freq_order: 0.31</br>word_freq_mail: 0.63</br>word_freq_receive: 0.31</br>word_freq_will: 0.31</br>word_freq_people: 0.31</br>word_freq_report: 0.0</br>word_freq_addresses: 0.0</br>word_freq_free: 0.31</br>... too many variables\"],[\"</br>id: 4</br>prediction: 0.949</br>capital_run_length_average: 959.3050000000001</br></br>word_freq_make: 0.0</br>word_freq_address: 0.0</br>word_freq_all: 0.0</br>word_freq_3d: 0.0</br>word_freq_our: 0.63</br>word_freq_over: 0.0</br>word_freq_remove: 0.31</br>word_freq_internet: 0.63</br>word_freq_order: 0.31</br>word_freq_mail: 0.63</br>word_freq_receive: 0.31</br>word_freq_will: 0.31</br>word_freq_people: 0.31</br>word_freq_report: 0.0</br>word_freq_addresses: 0.0</br>word_freq_free: 0.31</br>... too many variables\"],[\"</br>id: 4</br>prediction: 0.949</br>capital_run_length_average: 970.32</br></br>word_freq_make: 0.0</br>word_freq_address: 0.0</br>word_freq_all: 0.0</br>word_freq_3d: 0.0</br>word_freq_our: 0.63</br>word_freq_over: 0.0</br>word_freq_remove: 0.31</br>word_freq_internet: 0.63</br>word_freq_order: 0.31</br>word_freq_mail: 0.63</br>word_freq_receive: 0.31</br>word_freq_will: 0.31</br>word_freq_people: 0.31</br>word_freq_report: 0.0</br>word_freq_addresses: 0.0</br>word_freq_free: 0.31</br>word_freq_business: 0.0</br>... too many variables\"],[\"</br>id: 4</br>prediction: 0.949</br>capital_run_length_average: 981.335</br></br>word_freq_make: 0.0</br>word_freq_address: 0.0</br>word_freq_all: 0.0</br>word_freq_3d: 0.0</br>word_freq_our: 0.63</br>word_freq_over: 0.0</br>word_freq_remove: 0.31</br>word_freq_internet: 0.63</br>word_freq_order: 0.31</br>word_freq_mail: 0.63</br>word_freq_receive: 0.31</br>word_freq_will: 0.31</br>word_freq_people: 0.31</br>word_freq_report: 0.0</br>word_freq_addresses: 0.0</br>word_freq_free: 0.31</br>word_freq_business: 0.0</br>... too many variables\"],[\"</br>id: 4</br>prediction: 0.949</br>capital_run_length_average: 992.35</br></br>word_freq_make: 0.0</br>word_freq_address: 0.0</br>word_freq_all: 0.0</br>word_freq_3d: 0.0</br>word_freq_our: 0.63</br>word_freq_over: 0.0</br>word_freq_remove: 0.31</br>word_freq_internet: 0.63</br>word_freq_order: 0.31</br>word_freq_mail: 0.63</br>word_freq_receive: 0.31</br>word_freq_will: 0.31</br>word_freq_people: 0.31</br>word_freq_report: 0.0</br>word_freq_addresses: 0.0</br>word_freq_free: 0.31</br>word_freq_business: 0.0</br>... too many variables\"],[\"</br>id: 4</br>prediction: 0.949</br>capital_run_length_average: 1003.365</br></br>word_freq_make: 0.0</br>word_freq_address: 0.0</br>word_freq_all: 0.0</br>word_freq_3d: 0.0</br>word_freq_our: 0.63</br>word_freq_over: 0.0</br>word_freq_remove: 0.31</br>word_freq_internet: 0.63</br>word_freq_order: 0.31</br>word_freq_mail: 0.63</br>word_freq_receive: 0.31</br>word_freq_will: 0.31</br>word_freq_people: 0.31</br>word_freq_report: 0.0</br>word_freq_addresses: 0.0</br>word_freq_free: 0.31</br>word_freq_business: 0.0</br>... too many variables\"],[\"</br>id: 4</br>prediction: 0.949</br>capital_run_length_average: 1014.3800000000001</br></br>word_freq_make: 0.0</br>word_freq_address: 0.0</br>word_freq_all: 0.0</br>word_freq_3d: 0.0</br>word_freq_our: 0.63</br>word_freq_over: 0.0</br>word_freq_remove: 0.31</br>word_freq_internet: 0.63</br>word_freq_order: 0.31</br>word_freq_mail: 0.63</br>word_freq_receive: 0.31</br>word_freq_will: 0.31</br>word_freq_people: 0.31</br>word_freq_report: 0.0</br>word_freq_addresses: 0.0</br>word_freq_free: 0.31</br>... too many variables\"],[\"</br>id: 4</br>prediction: 0.949</br>capital_run_length_average: 1025.395</br></br>word_freq_make: 0.0</br>word_freq_address: 0.0</br>word_freq_all: 0.0</br>word_freq_3d: 0.0</br>word_freq_our: 0.63</br>word_freq_over: 0.0</br>word_freq_remove: 0.31</br>word_freq_internet: 0.63</br>word_freq_order: 0.31</br>word_freq_mail: 0.63</br>word_freq_receive: 0.31</br>word_freq_will: 0.31</br>word_freq_people: 0.31</br>word_freq_report: 0.0</br>word_freq_addresses: 0.0</br>word_freq_free: 0.31</br>word_freq_business: 0.0</br>... too many variables\"],[\"</br>id: 4</br>prediction: 0.949</br>capital_run_length_average: 1036.41</br></br>word_freq_make: 0.0</br>word_freq_address: 0.0</br>word_freq_all: 0.0</br>word_freq_3d: 0.0</br>word_freq_our: 0.63</br>word_freq_over: 0.0</br>word_freq_remove: 0.31</br>word_freq_internet: 0.63</br>word_freq_order: 0.31</br>word_freq_mail: 0.63</br>word_freq_receive: 0.31</br>word_freq_will: 0.31</br>word_freq_people: 0.31</br>word_freq_report: 0.0</br>word_freq_addresses: 0.0</br>word_freq_free: 0.31</br>word_freq_business: 0.0</br>... too many variables\"],[\"</br>id: 4</br>prediction: 0.949</br>capital_run_length_average: 1047.425</br></br>word_freq_make: 0.0</br>word_freq_address: 0.0</br>word_freq_all: 0.0</br>word_freq_3d: 0.0</br>word_freq_our: 0.63</br>word_freq_over: 0.0</br>word_freq_remove: 0.31</br>word_freq_internet: 0.63</br>word_freq_order: 0.31</br>word_freq_mail: 0.63</br>word_freq_receive: 0.31</br>word_freq_will: 0.31</br>word_freq_people: 0.31</br>word_freq_report: 0.0</br>word_freq_addresses: 0.0</br>word_freq_free: 0.31</br>word_freq_business: 0.0</br>... too many variables\"],[\"</br>id: 4</br>prediction: 0.949</br>capital_run_length_average: 1058.44</br></br>word_freq_make: 0.0</br>word_freq_address: 0.0</br>word_freq_all: 0.0</br>word_freq_3d: 0.0</br>word_freq_our: 0.63</br>word_freq_over: 0.0</br>word_freq_remove: 0.31</br>word_freq_internet: 0.63</br>word_freq_order: 0.31</br>word_freq_mail: 0.63</br>word_freq_receive: 0.31</br>word_freq_will: 0.31</br>word_freq_people: 0.31</br>word_freq_report: 0.0</br>word_freq_addresses: 0.0</br>word_freq_free: 0.31</br>word_freq_business: 0.0</br>... too many variables\"],[\"</br>id: 4</br>prediction: 0.949</br>capital_run_length_average: 1069.4550000000002</br></br>word_freq_make: 0.0</br>word_freq_address: 0.0</br>word_freq_all: 0.0</br>word_freq_3d: 0.0</br>word_freq_our: 0.63</br>word_freq_over: 0.0</br>word_freq_remove: 0.31</br>word_freq_internet: 0.63</br>word_freq_order: 0.31</br>word_freq_mail: 0.63</br>word_freq_receive: 0.31</br>word_freq_will: 0.31</br>word_freq_people: 0.31</br>word_freq_report: 0.0</br>word_freq_addresses: 0.0</br>word_freq_free: 0.31</br>... too many variables\"],[\"</br>id: 4</br>prediction: 0.949</br>capital_run_length_average: 1080.47</br></br>word_freq_make: 0.0</br>word_freq_address: 0.0</br>word_freq_all: 0.0</br>word_freq_3d: 0.0</br>word_freq_our: 0.63</br>word_freq_over: 0.0</br>word_freq_remove: 0.31</br>word_freq_internet: 0.63</br>word_freq_order: 0.31</br>word_freq_mail: 0.63</br>word_freq_receive: 0.31</br>word_freq_will: 0.31</br>word_freq_people: 0.31</br>word_freq_report: 0.0</br>word_freq_addresses: 0.0</br>word_freq_free: 0.31</br>word_freq_business: 0.0</br>... too many variables\"],[\"</br>id: 4</br>prediction: 0.949</br>capital_run_length_average: 1091.4850000000001</br></br>word_freq_make: 0.0</br>word_freq_address: 0.0</br>word_freq_all: 0.0</br>word_freq_3d: 0.0</br>word_freq_our: 0.63</br>word_freq_over: 0.0</br>word_freq_remove: 0.31</br>word_freq_internet: 0.63</br>word_freq_order: 0.31</br>word_freq_mail: 0.63</br>word_freq_receive: 0.31</br>word_freq_will: 0.31</br>word_freq_people: 0.31</br>word_freq_report: 0.0</br>word_freq_addresses: 0.0</br>word_freq_free: 0.31</br>... too many variables\"],[\"</br>id: 4</br>prediction: 0.949</br>capital_run_length_average: 1102.5</br></br>word_freq_make: 0.0</br>word_freq_address: 0.0</br>word_freq_all: 0.0</br>word_freq_3d: 0.0</br>word_freq_our: 0.63</br>word_freq_over: 0.0</br>word_freq_remove: 0.31</br>word_freq_internet: 0.63</br>word_freq_order: 0.31</br>word_freq_mail: 0.63</br>word_freq_receive: 0.31</br>word_freq_will: 0.31</br>word_freq_people: 0.31</br>word_freq_report: 0.0</br>word_freq_addresses: 0.0</br>word_freq_free: 0.31</br>word_freq_business: 0.0</br>... too many variables\"]],\"hovertemplate\":\"%{customdata[0]}<extra></extra>\",\"legendgroup\":\"RandomForestClassifier\",\"line\":{\"color\":\"#46bac2\",\"dash\":\"solid\",\"width\":2},\"marker\":{\"symbol\":\"circle\"},\"mode\":\"lines\",\"name\":\"RandomForestClassifier\",\"orientation\":\"v\",\"showlegend\":false,\"x\":[1.0,3.0,3.537,12.015,23.03,34.045,45.06,56.075,67.09,78.105,89.12,100.135,111.15,122.165,133.18,144.195,155.21,166.22500000000002,177.24,188.255,199.27,210.28500000000003,221.3,232.315,243.33,254.34500000000003,265.36,276.375,287.39,298.40500000000003,309.42,320.435,331.45000000000005,342.46500000000003,353.48,364.495,375.51,386.52500000000003,397.54,408.555,419.57000000000005,430.58500000000004,441.6,452.615,463.63,474.64500000000004,485.66,496.675,507.69000000000005,518.705,529.72,540.735,551.75,562.765,573.78,584.7950000000001,595.8100000000001,606.825,617.84,628.855,639.87,650.885,661.9000000000001,672.9150000000001,683.9300000000001,694.945,705.96,716.975,727.99,739.005,750.02,761.0350000000001,772.0500000000001,783.065,794.08,805.095,816.11,827.125,838.1400000000001,849.1550000000001,860.1700000000001,871.1850000000001,882.2,893.215,904.23,915.245,926.26,937.2750000000001,948.2900000000001,959.3050000000001,970.32,981.335,992.35,1003.365,1014.3800000000001,1025.395,1036.41,1047.425,1058.44,1069.4550000000002,1080.47,1091.4850000000001,1102.5],\"xaxis\":\"x2\",\"y\":[0.8548062537299559,0.9329815197129114,0.9523912599255716,0.9571011497308693,0.9485792073018018,0.9485792073018018,0.9485792073018018,0.9485792073018018,0.9485792073018018,0.9485792073018018,0.9485792073018018,0.9485792073018018,0.9485792073018018,0.9485792073018018,0.9485792073018018,0.9485792073018018,0.9485792073018018,0.9485792073018018,0.9485792073018018,0.9485792073018018,0.9485792073018018,0.9485792073018018,0.9485792073018018,0.9485792073018018,0.9485792073018018,0.9485792073018018,0.9485792073018018,0.9485792073018018,0.9485792073018018,0.9485792073018018,0.9485792073018018,0.9485792073018018,0.9485792073018018,0.9485792073018018,0.9485792073018018,0.9485792073018018,0.9485792073018018,0.9485792073018018,0.9485792073018018,0.9485792073018018,0.9485792073018018,0.9485792073018018,0.9485792073018018,0.9485792073018018,0.9485792073018018,0.9485792073018018,0.9485792073018018,0.9485792073018018,0.9485792073018018,0.9485792073018018,0.9485792073018018,0.9485792073018018,0.9485792073018018,0.9485792073018018,0.9485792073018018,0.9485792073018018,0.9485792073018018,0.9485792073018018,0.9485792073018018,0.9485792073018018,0.9485792073018018,0.9485792073018018,0.9485792073018018,0.9485792073018018,0.9485792073018018,0.9485792073018018,0.9485792073018018,0.9485792073018018,0.9485792073018018,0.9485792073018018,0.9485792073018018,0.9485792073018018,0.9485792073018018,0.9485792073018018,0.9485792073018018,0.9485792073018018,0.9485792073018018,0.9485792073018018,0.9485792073018018,0.9485792073018018,0.9485792073018018,0.9485792073018018,0.9485792073018018,0.9485792073018018,0.9485792073018018,0.9485792073018018,0.9485792073018018,0.9485792073018018,0.9485792073018018,0.9485792073018018,0.9485792073018018,0.9485792073018018,0.9485792073018018,0.9485792073018018,0.9485792073018018,0.9485792073018018,0.9485792073018018,0.9485792073018018,0.9485792073018018,0.9485792073018018,0.9485792073018018,0.9485792073018018,0.9485792073018018],\"yaxis\":\"y2\",\"type\":\"scatter\",\"opacity\":1},{\"customdata\":[[\"</br>id: 5</br>prediction: 0.181</br>capital_run_length_average: 1.0</br></br>word_freq_make: 0.0</br>word_freq_address: 0.0</br>word_freq_all: 0.0</br>word_freq_3d: 0.0</br>word_freq_our: 1.85</br>word_freq_over: 0.0</br>word_freq_remove: 0.0</br>word_freq_internet: 1.85</br>word_freq_order: 0.0</br>word_freq_mail: 0.0</br>word_freq_receive: 0.0</br>word_freq_will: 0.0</br>word_freq_people: 0.0</br>word_freq_report: 0.0</br>word_freq_addresses: 0.0</br>word_freq_free: 0.0</br>word_freq_business: 0.0</br>... too many variables\"],[\"</br>id: 5</br>prediction: 0.288</br>capital_run_length_average: 3.0</br></br>word_freq_make: 0.0</br>word_freq_address: 0.0</br>word_freq_all: 0.0</br>word_freq_3d: 0.0</br>word_freq_our: 1.85</br>word_freq_over: 0.0</br>word_freq_remove: 0.0</br>word_freq_internet: 1.85</br>word_freq_order: 0.0</br>word_freq_mail: 0.0</br>word_freq_receive: 0.0</br>word_freq_will: 0.0</br>word_freq_people: 0.0</br>word_freq_report: 0.0</br>word_freq_addresses: 0.0</br>word_freq_free: 0.0</br>word_freq_business: 0.0</br>... too many variables\"],[\"</br>id: 5</br>prediction: 0.317</br>capital_run_length_average: 3.537</br></br>word_freq_make: 0.0</br>word_freq_address: 0.0</br>word_freq_all: 0.0</br>word_freq_3d: 0.0</br>word_freq_our: 1.85</br>word_freq_over: 0.0</br>word_freq_remove: 0.0</br>word_freq_internet: 1.85</br>word_freq_order: 0.0</br>word_freq_mail: 0.0</br>word_freq_receive: 0.0</br>word_freq_will: 0.0</br>word_freq_people: 0.0</br>word_freq_report: 0.0</br>word_freq_addresses: 0.0</br>word_freq_free: 0.0</br>word_freq_business: 0.0</br>... too many variables\"],[\"</br>id: 5</br>prediction: 0.465</br>capital_run_length_average: 12.015</br></br>word_freq_make: 0.0</br>word_freq_address: 0.0</br>word_freq_all: 0.0</br>word_freq_3d: 0.0</br>word_freq_our: 1.85</br>word_freq_over: 0.0</br>word_freq_remove: 0.0</br>word_freq_internet: 1.85</br>word_freq_order: 0.0</br>word_freq_mail: 0.0</br>word_freq_receive: 0.0</br>word_freq_will: 0.0</br>word_freq_people: 0.0</br>word_freq_report: 0.0</br>word_freq_addresses: 0.0</br>word_freq_free: 0.0</br>word_freq_business: 0.0</br>... too many variables\"],[\"</br>id: 5</br>prediction: 0.509</br>capital_run_length_average: 23.03</br></br>word_freq_make: 0.0</br>word_freq_address: 0.0</br>word_freq_all: 0.0</br>word_freq_3d: 0.0</br>word_freq_our: 1.85</br>word_freq_over: 0.0</br>word_freq_remove: 0.0</br>word_freq_internet: 1.85</br>word_freq_order: 0.0</br>word_freq_mail: 0.0</br>word_freq_receive: 0.0</br>word_freq_will: 0.0</br>word_freq_people: 0.0</br>word_freq_report: 0.0</br>word_freq_addresses: 0.0</br>word_freq_free: 0.0</br>word_freq_business: 0.0</br>... too many variables\"],[\"</br>id: 5</br>prediction: 0.513</br>capital_run_length_average: 34.045</br></br>word_freq_make: 0.0</br>word_freq_address: 0.0</br>word_freq_all: 0.0</br>word_freq_3d: 0.0</br>word_freq_our: 1.85</br>word_freq_over: 0.0</br>word_freq_remove: 0.0</br>word_freq_internet: 1.85</br>word_freq_order: 0.0</br>word_freq_mail: 0.0</br>word_freq_receive: 0.0</br>word_freq_will: 0.0</br>word_freq_people: 0.0</br>word_freq_report: 0.0</br>word_freq_addresses: 0.0</br>word_freq_free: 0.0</br>word_freq_business: 0.0</br>... too many variables\"],[\"</br>id: 5</br>prediction: 0.508</br>capital_run_length_average: 45.06</br></br>word_freq_make: 0.0</br>word_freq_address: 0.0</br>word_freq_all: 0.0</br>word_freq_3d: 0.0</br>word_freq_our: 1.85</br>word_freq_over: 0.0</br>word_freq_remove: 0.0</br>word_freq_internet: 1.85</br>word_freq_order: 0.0</br>word_freq_mail: 0.0</br>word_freq_receive: 0.0</br>word_freq_will: 0.0</br>word_freq_people: 0.0</br>word_freq_report: 0.0</br>word_freq_addresses: 0.0</br>word_freq_free: 0.0</br>word_freq_business: 0.0</br>... too many variables\"],[\"</br>id: 5</br>prediction: 0.508</br>capital_run_length_average: 56.075</br></br>word_freq_make: 0.0</br>word_freq_address: 0.0</br>word_freq_all: 0.0</br>word_freq_3d: 0.0</br>word_freq_our: 1.85</br>word_freq_over: 0.0</br>word_freq_remove: 0.0</br>word_freq_internet: 1.85</br>word_freq_order: 0.0</br>word_freq_mail: 0.0</br>word_freq_receive: 0.0</br>word_freq_will: 0.0</br>word_freq_people: 0.0</br>word_freq_report: 0.0</br>word_freq_addresses: 0.0</br>word_freq_free: 0.0</br>word_freq_business: 0.0</br>... too many variables\"],[\"</br>id: 5</br>prediction: 0.508</br>capital_run_length_average: 67.09</br></br>word_freq_make: 0.0</br>word_freq_address: 0.0</br>word_freq_all: 0.0</br>word_freq_3d: 0.0</br>word_freq_our: 1.85</br>word_freq_over: 0.0</br>word_freq_remove: 0.0</br>word_freq_internet: 1.85</br>word_freq_order: 0.0</br>word_freq_mail: 0.0</br>word_freq_receive: 0.0</br>word_freq_will: 0.0</br>word_freq_people: 0.0</br>word_freq_report: 0.0</br>word_freq_addresses: 0.0</br>word_freq_free: 0.0</br>word_freq_business: 0.0</br>... too many variables\"],[\"</br>id: 5</br>prediction: 0.508</br>capital_run_length_average: 78.105</br></br>word_freq_make: 0.0</br>word_freq_address: 0.0</br>word_freq_all: 0.0</br>word_freq_3d: 0.0</br>word_freq_our: 1.85</br>word_freq_over: 0.0</br>word_freq_remove: 0.0</br>word_freq_internet: 1.85</br>word_freq_order: 0.0</br>word_freq_mail: 0.0</br>word_freq_receive: 0.0</br>word_freq_will: 0.0</br>word_freq_people: 0.0</br>word_freq_report: 0.0</br>word_freq_addresses: 0.0</br>word_freq_free: 0.0</br>word_freq_business: 0.0</br>... too many variables\"],[\"</br>id: 5</br>prediction: 0.508</br>capital_run_length_average: 89.12</br></br>word_freq_make: 0.0</br>word_freq_address: 0.0</br>word_freq_all: 0.0</br>word_freq_3d: 0.0</br>word_freq_our: 1.85</br>word_freq_over: 0.0</br>word_freq_remove: 0.0</br>word_freq_internet: 1.85</br>word_freq_order: 0.0</br>word_freq_mail: 0.0</br>word_freq_receive: 0.0</br>word_freq_will: 0.0</br>word_freq_people: 0.0</br>word_freq_report: 0.0</br>word_freq_addresses: 0.0</br>word_freq_free: 0.0</br>word_freq_business: 0.0</br>... too many variables\"],[\"</br>id: 5</br>prediction: 0.508</br>capital_run_length_average: 100.135</br></br>word_freq_make: 0.0</br>word_freq_address: 0.0</br>word_freq_all: 0.0</br>word_freq_3d: 0.0</br>word_freq_our: 1.85</br>word_freq_over: 0.0</br>word_freq_remove: 0.0</br>word_freq_internet: 1.85</br>word_freq_order: 0.0</br>word_freq_mail: 0.0</br>word_freq_receive: 0.0</br>word_freq_will: 0.0</br>word_freq_people: 0.0</br>word_freq_report: 0.0</br>word_freq_addresses: 0.0</br>word_freq_free: 0.0</br>word_freq_business: 0.0</br>... too many variables\"],[\"</br>id: 5</br>prediction: 0.508</br>capital_run_length_average: 111.15</br></br>word_freq_make: 0.0</br>word_freq_address: 0.0</br>word_freq_all: 0.0</br>word_freq_3d: 0.0</br>word_freq_our: 1.85</br>word_freq_over: 0.0</br>word_freq_remove: 0.0</br>word_freq_internet: 1.85</br>word_freq_order: 0.0</br>word_freq_mail: 0.0</br>word_freq_receive: 0.0</br>word_freq_will: 0.0</br>word_freq_people: 0.0</br>word_freq_report: 0.0</br>word_freq_addresses: 0.0</br>word_freq_free: 0.0</br>word_freq_business: 0.0</br>... too many variables\"],[\"</br>id: 5</br>prediction: 0.508</br>capital_run_length_average: 122.165</br></br>word_freq_make: 0.0</br>word_freq_address: 0.0</br>word_freq_all: 0.0</br>word_freq_3d: 0.0</br>word_freq_our: 1.85</br>word_freq_over: 0.0</br>word_freq_remove: 0.0</br>word_freq_internet: 1.85</br>word_freq_order: 0.0</br>word_freq_mail: 0.0</br>word_freq_receive: 0.0</br>word_freq_will: 0.0</br>word_freq_people: 0.0</br>word_freq_report: 0.0</br>word_freq_addresses: 0.0</br>word_freq_free: 0.0</br>word_freq_business: 0.0</br>... too many variables\"],[\"</br>id: 5</br>prediction: 0.508</br>capital_run_length_average: 133.18</br></br>word_freq_make: 0.0</br>word_freq_address: 0.0</br>word_freq_all: 0.0</br>word_freq_3d: 0.0</br>word_freq_our: 1.85</br>word_freq_over: 0.0</br>word_freq_remove: 0.0</br>word_freq_internet: 1.85</br>word_freq_order: 0.0</br>word_freq_mail: 0.0</br>word_freq_receive: 0.0</br>word_freq_will: 0.0</br>word_freq_people: 0.0</br>word_freq_report: 0.0</br>word_freq_addresses: 0.0</br>word_freq_free: 0.0</br>word_freq_business: 0.0</br>... too many variables\"],[\"</br>id: 5</br>prediction: 0.508</br>capital_run_length_average: 144.195</br></br>word_freq_make: 0.0</br>word_freq_address: 0.0</br>word_freq_all: 0.0</br>word_freq_3d: 0.0</br>word_freq_our: 1.85</br>word_freq_over: 0.0</br>word_freq_remove: 0.0</br>word_freq_internet: 1.85</br>word_freq_order: 0.0</br>word_freq_mail: 0.0</br>word_freq_receive: 0.0</br>word_freq_will: 0.0</br>word_freq_people: 0.0</br>word_freq_report: 0.0</br>word_freq_addresses: 0.0</br>word_freq_free: 0.0</br>word_freq_business: 0.0</br>... too many variables\"],[\"</br>id: 5</br>prediction: 0.508</br>capital_run_length_average: 155.21</br></br>word_freq_make: 0.0</br>word_freq_address: 0.0</br>word_freq_all: 0.0</br>word_freq_3d: 0.0</br>word_freq_our: 1.85</br>word_freq_over: 0.0</br>word_freq_remove: 0.0</br>word_freq_internet: 1.85</br>word_freq_order: 0.0</br>word_freq_mail: 0.0</br>word_freq_receive: 0.0</br>word_freq_will: 0.0</br>word_freq_people: 0.0</br>word_freq_report: 0.0</br>word_freq_addresses: 0.0</br>word_freq_free: 0.0</br>word_freq_business: 0.0</br>... too many variables\"],[\"</br>id: 5</br>prediction: 0.508</br>capital_run_length_average: 166.22500000000002</br></br>word_freq_make: 0.0</br>word_freq_address: 0.0</br>word_freq_all: 0.0</br>word_freq_3d: 0.0</br>word_freq_our: 1.85</br>word_freq_over: 0.0</br>word_freq_remove: 0.0</br>word_freq_internet: 1.85</br>word_freq_order: 0.0</br>word_freq_mail: 0.0</br>word_freq_receive: 0.0</br>word_freq_will: 0.0</br>word_freq_people: 0.0</br>word_freq_report: 0.0</br>word_freq_addresses: 0.0</br>word_freq_free: 0.0</br>word_freq_business: 0.0</br>... too many variables\"],[\"</br>id: 5</br>prediction: 0.508</br>capital_run_length_average: 177.24</br></br>word_freq_make: 0.0</br>word_freq_address: 0.0</br>word_freq_all: 0.0</br>word_freq_3d: 0.0</br>word_freq_our: 1.85</br>word_freq_over: 0.0</br>word_freq_remove: 0.0</br>word_freq_internet: 1.85</br>word_freq_order: 0.0</br>word_freq_mail: 0.0</br>word_freq_receive: 0.0</br>word_freq_will: 0.0</br>word_freq_people: 0.0</br>word_freq_report: 0.0</br>word_freq_addresses: 0.0</br>word_freq_free: 0.0</br>word_freq_business: 0.0</br>... too many variables\"],[\"</br>id: 5</br>prediction: 0.508</br>capital_run_length_average: 188.255</br></br>word_freq_make: 0.0</br>word_freq_address: 0.0</br>word_freq_all: 0.0</br>word_freq_3d: 0.0</br>word_freq_our: 1.85</br>word_freq_over: 0.0</br>word_freq_remove: 0.0</br>word_freq_internet: 1.85</br>word_freq_order: 0.0</br>word_freq_mail: 0.0</br>word_freq_receive: 0.0</br>word_freq_will: 0.0</br>word_freq_people: 0.0</br>word_freq_report: 0.0</br>word_freq_addresses: 0.0</br>word_freq_free: 0.0</br>word_freq_business: 0.0</br>... too many variables\"],[\"</br>id: 5</br>prediction: 0.508</br>capital_run_length_average: 199.27</br></br>word_freq_make: 0.0</br>word_freq_address: 0.0</br>word_freq_all: 0.0</br>word_freq_3d: 0.0</br>word_freq_our: 1.85</br>word_freq_over: 0.0</br>word_freq_remove: 0.0</br>word_freq_internet: 1.85</br>word_freq_order: 0.0</br>word_freq_mail: 0.0</br>word_freq_receive: 0.0</br>word_freq_will: 0.0</br>word_freq_people: 0.0</br>word_freq_report: 0.0</br>word_freq_addresses: 0.0</br>word_freq_free: 0.0</br>word_freq_business: 0.0</br>... too many variables\"],[\"</br>id: 5</br>prediction: 0.508</br>capital_run_length_average: 210.28500000000003</br></br>word_freq_make: 0.0</br>word_freq_address: 0.0</br>word_freq_all: 0.0</br>word_freq_3d: 0.0</br>word_freq_our: 1.85</br>word_freq_over: 0.0</br>word_freq_remove: 0.0</br>word_freq_internet: 1.85</br>word_freq_order: 0.0</br>word_freq_mail: 0.0</br>word_freq_receive: 0.0</br>word_freq_will: 0.0</br>word_freq_people: 0.0</br>word_freq_report: 0.0</br>word_freq_addresses: 0.0</br>word_freq_free: 0.0</br>word_freq_business: 0.0</br>... too many variables\"],[\"</br>id: 5</br>prediction: 0.508</br>capital_run_length_average: 221.3</br></br>word_freq_make: 0.0</br>word_freq_address: 0.0</br>word_freq_all: 0.0</br>word_freq_3d: 0.0</br>word_freq_our: 1.85</br>word_freq_over: 0.0</br>word_freq_remove: 0.0</br>word_freq_internet: 1.85</br>word_freq_order: 0.0</br>word_freq_mail: 0.0</br>word_freq_receive: 0.0</br>word_freq_will: 0.0</br>word_freq_people: 0.0</br>word_freq_report: 0.0</br>word_freq_addresses: 0.0</br>word_freq_free: 0.0</br>word_freq_business: 0.0</br>... too many variables\"],[\"</br>id: 5</br>prediction: 0.508</br>capital_run_length_average: 232.315</br></br>word_freq_make: 0.0</br>word_freq_address: 0.0</br>word_freq_all: 0.0</br>word_freq_3d: 0.0</br>word_freq_our: 1.85</br>word_freq_over: 0.0</br>word_freq_remove: 0.0</br>word_freq_internet: 1.85</br>word_freq_order: 0.0</br>word_freq_mail: 0.0</br>word_freq_receive: 0.0</br>word_freq_will: 0.0</br>word_freq_people: 0.0</br>word_freq_report: 0.0</br>word_freq_addresses: 0.0</br>word_freq_free: 0.0</br>word_freq_business: 0.0</br>... too many variables\"],[\"</br>id: 5</br>prediction: 0.508</br>capital_run_length_average: 243.33</br></br>word_freq_make: 0.0</br>word_freq_address: 0.0</br>word_freq_all: 0.0</br>word_freq_3d: 0.0</br>word_freq_our: 1.85</br>word_freq_over: 0.0</br>word_freq_remove: 0.0</br>word_freq_internet: 1.85</br>word_freq_order: 0.0</br>word_freq_mail: 0.0</br>word_freq_receive: 0.0</br>word_freq_will: 0.0</br>word_freq_people: 0.0</br>word_freq_report: 0.0</br>word_freq_addresses: 0.0</br>word_freq_free: 0.0</br>word_freq_business: 0.0</br>... too many variables\"],[\"</br>id: 5</br>prediction: 0.508</br>capital_run_length_average: 254.34500000000003</br></br>word_freq_make: 0.0</br>word_freq_address: 0.0</br>word_freq_all: 0.0</br>word_freq_3d: 0.0</br>word_freq_our: 1.85</br>word_freq_over: 0.0</br>word_freq_remove: 0.0</br>word_freq_internet: 1.85</br>word_freq_order: 0.0</br>word_freq_mail: 0.0</br>word_freq_receive: 0.0</br>word_freq_will: 0.0</br>word_freq_people: 0.0</br>word_freq_report: 0.0</br>word_freq_addresses: 0.0</br>word_freq_free: 0.0</br>word_freq_business: 0.0</br>... too many variables\"],[\"</br>id: 5</br>prediction: 0.508</br>capital_run_length_average: 265.36</br></br>word_freq_make: 0.0</br>word_freq_address: 0.0</br>word_freq_all: 0.0</br>word_freq_3d: 0.0</br>word_freq_our: 1.85</br>word_freq_over: 0.0</br>word_freq_remove: 0.0</br>word_freq_internet: 1.85</br>word_freq_order: 0.0</br>word_freq_mail: 0.0</br>word_freq_receive: 0.0</br>word_freq_will: 0.0</br>word_freq_people: 0.0</br>word_freq_report: 0.0</br>word_freq_addresses: 0.0</br>word_freq_free: 0.0</br>word_freq_business: 0.0</br>... too many variables\"],[\"</br>id: 5</br>prediction: 0.508</br>capital_run_length_average: 276.375</br></br>word_freq_make: 0.0</br>word_freq_address: 0.0</br>word_freq_all: 0.0</br>word_freq_3d: 0.0</br>word_freq_our: 1.85</br>word_freq_over: 0.0</br>word_freq_remove: 0.0</br>word_freq_internet: 1.85</br>word_freq_order: 0.0</br>word_freq_mail: 0.0</br>word_freq_receive: 0.0</br>word_freq_will: 0.0</br>word_freq_people: 0.0</br>word_freq_report: 0.0</br>word_freq_addresses: 0.0</br>word_freq_free: 0.0</br>word_freq_business: 0.0</br>... too many variables\"],[\"</br>id: 5</br>prediction: 0.508</br>capital_run_length_average: 287.39</br></br>word_freq_make: 0.0</br>word_freq_address: 0.0</br>word_freq_all: 0.0</br>word_freq_3d: 0.0</br>word_freq_our: 1.85</br>word_freq_over: 0.0</br>word_freq_remove: 0.0</br>word_freq_internet: 1.85</br>word_freq_order: 0.0</br>word_freq_mail: 0.0</br>word_freq_receive: 0.0</br>word_freq_will: 0.0</br>word_freq_people: 0.0</br>word_freq_report: 0.0</br>word_freq_addresses: 0.0</br>word_freq_free: 0.0</br>word_freq_business: 0.0</br>... too many variables\"],[\"</br>id: 5</br>prediction: 0.508</br>capital_run_length_average: 298.40500000000003</br></br>word_freq_make: 0.0</br>word_freq_address: 0.0</br>word_freq_all: 0.0</br>word_freq_3d: 0.0</br>word_freq_our: 1.85</br>word_freq_over: 0.0</br>word_freq_remove: 0.0</br>word_freq_internet: 1.85</br>word_freq_order: 0.0</br>word_freq_mail: 0.0</br>word_freq_receive: 0.0</br>word_freq_will: 0.0</br>word_freq_people: 0.0</br>word_freq_report: 0.0</br>word_freq_addresses: 0.0</br>word_freq_free: 0.0</br>word_freq_business: 0.0</br>... too many variables\"],[\"</br>id: 5</br>prediction: 0.508</br>capital_run_length_average: 309.42</br></br>word_freq_make: 0.0</br>word_freq_address: 0.0</br>word_freq_all: 0.0</br>word_freq_3d: 0.0</br>word_freq_our: 1.85</br>word_freq_over: 0.0</br>word_freq_remove: 0.0</br>word_freq_internet: 1.85</br>word_freq_order: 0.0</br>word_freq_mail: 0.0</br>word_freq_receive: 0.0</br>word_freq_will: 0.0</br>word_freq_people: 0.0</br>word_freq_report: 0.0</br>word_freq_addresses: 0.0</br>word_freq_free: 0.0</br>word_freq_business: 0.0</br>... too many variables\"],[\"</br>id: 5</br>prediction: 0.508</br>capital_run_length_average: 320.435</br></br>word_freq_make: 0.0</br>word_freq_address: 0.0</br>word_freq_all: 0.0</br>word_freq_3d: 0.0</br>word_freq_our: 1.85</br>word_freq_over: 0.0</br>word_freq_remove: 0.0</br>word_freq_internet: 1.85</br>word_freq_order: 0.0</br>word_freq_mail: 0.0</br>word_freq_receive: 0.0</br>word_freq_will: 0.0</br>word_freq_people: 0.0</br>word_freq_report: 0.0</br>word_freq_addresses: 0.0</br>word_freq_free: 0.0</br>word_freq_business: 0.0</br>... too many variables\"],[\"</br>id: 5</br>prediction: 0.508</br>capital_run_length_average: 331.45000000000005</br></br>word_freq_make: 0.0</br>word_freq_address: 0.0</br>word_freq_all: 0.0</br>word_freq_3d: 0.0</br>word_freq_our: 1.85</br>word_freq_over: 0.0</br>word_freq_remove: 0.0</br>word_freq_internet: 1.85</br>word_freq_order: 0.0</br>word_freq_mail: 0.0</br>word_freq_receive: 0.0</br>word_freq_will: 0.0</br>word_freq_people: 0.0</br>word_freq_report: 0.0</br>word_freq_addresses: 0.0</br>word_freq_free: 0.0</br>word_freq_business: 0.0</br>... too many variables\"],[\"</br>id: 5</br>prediction: 0.508</br>capital_run_length_average: 342.46500000000003</br></br>word_freq_make: 0.0</br>word_freq_address: 0.0</br>word_freq_all: 0.0</br>word_freq_3d: 0.0</br>word_freq_our: 1.85</br>word_freq_over: 0.0</br>word_freq_remove: 0.0</br>word_freq_internet: 1.85</br>word_freq_order: 0.0</br>word_freq_mail: 0.0</br>word_freq_receive: 0.0</br>word_freq_will: 0.0</br>word_freq_people: 0.0</br>word_freq_report: 0.0</br>word_freq_addresses: 0.0</br>word_freq_free: 0.0</br>word_freq_business: 0.0</br>... too many variables\"],[\"</br>id: 5</br>prediction: 0.508</br>capital_run_length_average: 353.48</br></br>word_freq_make: 0.0</br>word_freq_address: 0.0</br>word_freq_all: 0.0</br>word_freq_3d: 0.0</br>word_freq_our: 1.85</br>word_freq_over: 0.0</br>word_freq_remove: 0.0</br>word_freq_internet: 1.85</br>word_freq_order: 0.0</br>word_freq_mail: 0.0</br>word_freq_receive: 0.0</br>word_freq_will: 0.0</br>word_freq_people: 0.0</br>word_freq_report: 0.0</br>word_freq_addresses: 0.0</br>word_freq_free: 0.0</br>word_freq_business: 0.0</br>... too many variables\"],[\"</br>id: 5</br>prediction: 0.508</br>capital_run_length_average: 364.495</br></br>word_freq_make: 0.0</br>word_freq_address: 0.0</br>word_freq_all: 0.0</br>word_freq_3d: 0.0</br>word_freq_our: 1.85</br>word_freq_over: 0.0</br>word_freq_remove: 0.0</br>word_freq_internet: 1.85</br>word_freq_order: 0.0</br>word_freq_mail: 0.0</br>word_freq_receive: 0.0</br>word_freq_will: 0.0</br>word_freq_people: 0.0</br>word_freq_report: 0.0</br>word_freq_addresses: 0.0</br>word_freq_free: 0.0</br>word_freq_business: 0.0</br>... too many variables\"],[\"</br>id: 5</br>prediction: 0.508</br>capital_run_length_average: 375.51</br></br>word_freq_make: 0.0</br>word_freq_address: 0.0</br>word_freq_all: 0.0</br>word_freq_3d: 0.0</br>word_freq_our: 1.85</br>word_freq_over: 0.0</br>word_freq_remove: 0.0</br>word_freq_internet: 1.85</br>word_freq_order: 0.0</br>word_freq_mail: 0.0</br>word_freq_receive: 0.0</br>word_freq_will: 0.0</br>word_freq_people: 0.0</br>word_freq_report: 0.0</br>word_freq_addresses: 0.0</br>word_freq_free: 0.0</br>word_freq_business: 0.0</br>... too many variables\"],[\"</br>id: 5</br>prediction: 0.508</br>capital_run_length_average: 386.52500000000003</br></br>word_freq_make: 0.0</br>word_freq_address: 0.0</br>word_freq_all: 0.0</br>word_freq_3d: 0.0</br>word_freq_our: 1.85</br>word_freq_over: 0.0</br>word_freq_remove: 0.0</br>word_freq_internet: 1.85</br>word_freq_order: 0.0</br>word_freq_mail: 0.0</br>word_freq_receive: 0.0</br>word_freq_will: 0.0</br>word_freq_people: 0.0</br>word_freq_report: 0.0</br>word_freq_addresses: 0.0</br>word_freq_free: 0.0</br>word_freq_business: 0.0</br>... too many variables\"],[\"</br>id: 5</br>prediction: 0.508</br>capital_run_length_average: 397.54</br></br>word_freq_make: 0.0</br>word_freq_address: 0.0</br>word_freq_all: 0.0</br>word_freq_3d: 0.0</br>word_freq_our: 1.85</br>word_freq_over: 0.0</br>word_freq_remove: 0.0</br>word_freq_internet: 1.85</br>word_freq_order: 0.0</br>word_freq_mail: 0.0</br>word_freq_receive: 0.0</br>word_freq_will: 0.0</br>word_freq_people: 0.0</br>word_freq_report: 0.0</br>word_freq_addresses: 0.0</br>word_freq_free: 0.0</br>word_freq_business: 0.0</br>... too many variables\"],[\"</br>id: 5</br>prediction: 0.508</br>capital_run_length_average: 408.555</br></br>word_freq_make: 0.0</br>word_freq_address: 0.0</br>word_freq_all: 0.0</br>word_freq_3d: 0.0</br>word_freq_our: 1.85</br>word_freq_over: 0.0</br>word_freq_remove: 0.0</br>word_freq_internet: 1.85</br>word_freq_order: 0.0</br>word_freq_mail: 0.0</br>word_freq_receive: 0.0</br>word_freq_will: 0.0</br>word_freq_people: 0.0</br>word_freq_report: 0.0</br>word_freq_addresses: 0.0</br>word_freq_free: 0.0</br>word_freq_business: 0.0</br>... too many variables\"],[\"</br>id: 5</br>prediction: 0.508</br>capital_run_length_average: 419.57000000000005</br></br>word_freq_make: 0.0</br>word_freq_address: 0.0</br>word_freq_all: 0.0</br>word_freq_3d: 0.0</br>word_freq_our: 1.85</br>word_freq_over: 0.0</br>word_freq_remove: 0.0</br>word_freq_internet: 1.85</br>word_freq_order: 0.0</br>word_freq_mail: 0.0</br>word_freq_receive: 0.0</br>word_freq_will: 0.0</br>word_freq_people: 0.0</br>word_freq_report: 0.0</br>word_freq_addresses: 0.0</br>word_freq_free: 0.0</br>word_freq_business: 0.0</br>... too many variables\"],[\"</br>id: 5</br>prediction: 0.508</br>capital_run_length_average: 430.58500000000004</br></br>word_freq_make: 0.0</br>word_freq_address: 0.0</br>word_freq_all: 0.0</br>word_freq_3d: 0.0</br>word_freq_our: 1.85</br>word_freq_over: 0.0</br>word_freq_remove: 0.0</br>word_freq_internet: 1.85</br>word_freq_order: 0.0</br>word_freq_mail: 0.0</br>word_freq_receive: 0.0</br>word_freq_will: 0.0</br>word_freq_people: 0.0</br>word_freq_report: 0.0</br>word_freq_addresses: 0.0</br>word_freq_free: 0.0</br>word_freq_business: 0.0</br>... too many variables\"],[\"</br>id: 5</br>prediction: 0.508</br>capital_run_length_average: 441.6</br></br>word_freq_make: 0.0</br>word_freq_address: 0.0</br>word_freq_all: 0.0</br>word_freq_3d: 0.0</br>word_freq_our: 1.85</br>word_freq_over: 0.0</br>word_freq_remove: 0.0</br>word_freq_internet: 1.85</br>word_freq_order: 0.0</br>word_freq_mail: 0.0</br>word_freq_receive: 0.0</br>word_freq_will: 0.0</br>word_freq_people: 0.0</br>word_freq_report: 0.0</br>word_freq_addresses: 0.0</br>word_freq_free: 0.0</br>word_freq_business: 0.0</br>... too many variables\"],[\"</br>id: 5</br>prediction: 0.508</br>capital_run_length_average: 452.615</br></br>word_freq_make: 0.0</br>word_freq_address: 0.0</br>word_freq_all: 0.0</br>word_freq_3d: 0.0</br>word_freq_our: 1.85</br>word_freq_over: 0.0</br>word_freq_remove: 0.0</br>word_freq_internet: 1.85</br>word_freq_order: 0.0</br>word_freq_mail: 0.0</br>word_freq_receive: 0.0</br>word_freq_will: 0.0</br>word_freq_people: 0.0</br>word_freq_report: 0.0</br>word_freq_addresses: 0.0</br>word_freq_free: 0.0</br>word_freq_business: 0.0</br>... too many variables\"],[\"</br>id: 5</br>prediction: 0.508</br>capital_run_length_average: 463.63</br></br>word_freq_make: 0.0</br>word_freq_address: 0.0</br>word_freq_all: 0.0</br>word_freq_3d: 0.0</br>word_freq_our: 1.85</br>word_freq_over: 0.0</br>word_freq_remove: 0.0</br>word_freq_internet: 1.85</br>word_freq_order: 0.0</br>word_freq_mail: 0.0</br>word_freq_receive: 0.0</br>word_freq_will: 0.0</br>word_freq_people: 0.0</br>word_freq_report: 0.0</br>word_freq_addresses: 0.0</br>word_freq_free: 0.0</br>word_freq_business: 0.0</br>... too many variables\"],[\"</br>id: 5</br>prediction: 0.508</br>capital_run_length_average: 474.64500000000004</br></br>word_freq_make: 0.0</br>word_freq_address: 0.0</br>word_freq_all: 0.0</br>word_freq_3d: 0.0</br>word_freq_our: 1.85</br>word_freq_over: 0.0</br>word_freq_remove: 0.0</br>word_freq_internet: 1.85</br>word_freq_order: 0.0</br>word_freq_mail: 0.0</br>word_freq_receive: 0.0</br>word_freq_will: 0.0</br>word_freq_people: 0.0</br>word_freq_report: 0.0</br>word_freq_addresses: 0.0</br>word_freq_free: 0.0</br>word_freq_business: 0.0</br>... too many variables\"],[\"</br>id: 5</br>prediction: 0.508</br>capital_run_length_average: 485.66</br></br>word_freq_make: 0.0</br>word_freq_address: 0.0</br>word_freq_all: 0.0</br>word_freq_3d: 0.0</br>word_freq_our: 1.85</br>word_freq_over: 0.0</br>word_freq_remove: 0.0</br>word_freq_internet: 1.85</br>word_freq_order: 0.0</br>word_freq_mail: 0.0</br>word_freq_receive: 0.0</br>word_freq_will: 0.0</br>word_freq_people: 0.0</br>word_freq_report: 0.0</br>word_freq_addresses: 0.0</br>word_freq_free: 0.0</br>word_freq_business: 0.0</br>... too many variables\"],[\"</br>id: 5</br>prediction: 0.508</br>capital_run_length_average: 496.675</br></br>word_freq_make: 0.0</br>word_freq_address: 0.0</br>word_freq_all: 0.0</br>word_freq_3d: 0.0</br>word_freq_our: 1.85</br>word_freq_over: 0.0</br>word_freq_remove: 0.0</br>word_freq_internet: 1.85</br>word_freq_order: 0.0</br>word_freq_mail: 0.0</br>word_freq_receive: 0.0</br>word_freq_will: 0.0</br>word_freq_people: 0.0</br>word_freq_report: 0.0</br>word_freq_addresses: 0.0</br>word_freq_free: 0.0</br>word_freq_business: 0.0</br>... too many variables\"],[\"</br>id: 5</br>prediction: 0.508</br>capital_run_length_average: 507.69000000000005</br></br>word_freq_make: 0.0</br>word_freq_address: 0.0</br>word_freq_all: 0.0</br>word_freq_3d: 0.0</br>word_freq_our: 1.85</br>word_freq_over: 0.0</br>word_freq_remove: 0.0</br>word_freq_internet: 1.85</br>word_freq_order: 0.0</br>word_freq_mail: 0.0</br>word_freq_receive: 0.0</br>word_freq_will: 0.0</br>word_freq_people: 0.0</br>word_freq_report: 0.0</br>word_freq_addresses: 0.0</br>word_freq_free: 0.0</br>word_freq_business: 0.0</br>... too many variables\"],[\"</br>id: 5</br>prediction: 0.508</br>capital_run_length_average: 518.705</br></br>word_freq_make: 0.0</br>word_freq_address: 0.0</br>word_freq_all: 0.0</br>word_freq_3d: 0.0</br>word_freq_our: 1.85</br>word_freq_over: 0.0</br>word_freq_remove: 0.0</br>word_freq_internet: 1.85</br>word_freq_order: 0.0</br>word_freq_mail: 0.0</br>word_freq_receive: 0.0</br>word_freq_will: 0.0</br>word_freq_people: 0.0</br>word_freq_report: 0.0</br>word_freq_addresses: 0.0</br>word_freq_free: 0.0</br>word_freq_business: 0.0</br>... too many variables\"],[\"</br>id: 5</br>prediction: 0.508</br>capital_run_length_average: 529.72</br></br>word_freq_make: 0.0</br>word_freq_address: 0.0</br>word_freq_all: 0.0</br>word_freq_3d: 0.0</br>word_freq_our: 1.85</br>word_freq_over: 0.0</br>word_freq_remove: 0.0</br>word_freq_internet: 1.85</br>word_freq_order: 0.0</br>word_freq_mail: 0.0</br>word_freq_receive: 0.0</br>word_freq_will: 0.0</br>word_freq_people: 0.0</br>word_freq_report: 0.0</br>word_freq_addresses: 0.0</br>word_freq_free: 0.0</br>word_freq_business: 0.0</br>... too many variables\"],[\"</br>id: 5</br>prediction: 0.508</br>capital_run_length_average: 540.735</br></br>word_freq_make: 0.0</br>word_freq_address: 0.0</br>word_freq_all: 0.0</br>word_freq_3d: 0.0</br>word_freq_our: 1.85</br>word_freq_over: 0.0</br>word_freq_remove: 0.0</br>word_freq_internet: 1.85</br>word_freq_order: 0.0</br>word_freq_mail: 0.0</br>word_freq_receive: 0.0</br>word_freq_will: 0.0</br>word_freq_people: 0.0</br>word_freq_report: 0.0</br>word_freq_addresses: 0.0</br>word_freq_free: 0.0</br>word_freq_business: 0.0</br>... too many variables\"],[\"</br>id: 5</br>prediction: 0.508</br>capital_run_length_average: 551.75</br></br>word_freq_make: 0.0</br>word_freq_address: 0.0</br>word_freq_all: 0.0</br>word_freq_3d: 0.0</br>word_freq_our: 1.85</br>word_freq_over: 0.0</br>word_freq_remove: 0.0</br>word_freq_internet: 1.85</br>word_freq_order: 0.0</br>word_freq_mail: 0.0</br>word_freq_receive: 0.0</br>word_freq_will: 0.0</br>word_freq_people: 0.0</br>word_freq_report: 0.0</br>word_freq_addresses: 0.0</br>word_freq_free: 0.0</br>word_freq_business: 0.0</br>... too many variables\"],[\"</br>id: 5</br>prediction: 0.508</br>capital_run_length_average: 562.765</br></br>word_freq_make: 0.0</br>word_freq_address: 0.0</br>word_freq_all: 0.0</br>word_freq_3d: 0.0</br>word_freq_our: 1.85</br>word_freq_over: 0.0</br>word_freq_remove: 0.0</br>word_freq_internet: 1.85</br>word_freq_order: 0.0</br>word_freq_mail: 0.0</br>word_freq_receive: 0.0</br>word_freq_will: 0.0</br>word_freq_people: 0.0</br>word_freq_report: 0.0</br>word_freq_addresses: 0.0</br>word_freq_free: 0.0</br>word_freq_business: 0.0</br>... too many variables\"],[\"</br>id: 5</br>prediction: 0.508</br>capital_run_length_average: 573.78</br></br>word_freq_make: 0.0</br>word_freq_address: 0.0</br>word_freq_all: 0.0</br>word_freq_3d: 0.0</br>word_freq_our: 1.85</br>word_freq_over: 0.0</br>word_freq_remove: 0.0</br>word_freq_internet: 1.85</br>word_freq_order: 0.0</br>word_freq_mail: 0.0</br>word_freq_receive: 0.0</br>word_freq_will: 0.0</br>word_freq_people: 0.0</br>word_freq_report: 0.0</br>word_freq_addresses: 0.0</br>word_freq_free: 0.0</br>word_freq_business: 0.0</br>... too many variables\"],[\"</br>id: 5</br>prediction: 0.508</br>capital_run_length_average: 584.7950000000001</br></br>word_freq_make: 0.0</br>word_freq_address: 0.0</br>word_freq_all: 0.0</br>word_freq_3d: 0.0</br>word_freq_our: 1.85</br>word_freq_over: 0.0</br>word_freq_remove: 0.0</br>word_freq_internet: 1.85</br>word_freq_order: 0.0</br>word_freq_mail: 0.0</br>word_freq_receive: 0.0</br>word_freq_will: 0.0</br>word_freq_people: 0.0</br>word_freq_report: 0.0</br>word_freq_addresses: 0.0</br>word_freq_free: 0.0</br>word_freq_business: 0.0</br>... too many variables\"],[\"</br>id: 5</br>prediction: 0.508</br>capital_run_length_average: 595.8100000000001</br></br>word_freq_make: 0.0</br>word_freq_address: 0.0</br>word_freq_all: 0.0</br>word_freq_3d: 0.0</br>word_freq_our: 1.85</br>word_freq_over: 0.0</br>word_freq_remove: 0.0</br>word_freq_internet: 1.85</br>word_freq_order: 0.0</br>word_freq_mail: 0.0</br>word_freq_receive: 0.0</br>word_freq_will: 0.0</br>word_freq_people: 0.0</br>word_freq_report: 0.0</br>word_freq_addresses: 0.0</br>word_freq_free: 0.0</br>word_freq_business: 0.0</br>... too many variables\"],[\"</br>id: 5</br>prediction: 0.508</br>capital_run_length_average: 606.825</br></br>word_freq_make: 0.0</br>word_freq_address: 0.0</br>word_freq_all: 0.0</br>word_freq_3d: 0.0</br>word_freq_our: 1.85</br>word_freq_over: 0.0</br>word_freq_remove: 0.0</br>word_freq_internet: 1.85</br>word_freq_order: 0.0</br>word_freq_mail: 0.0</br>word_freq_receive: 0.0</br>word_freq_will: 0.0</br>word_freq_people: 0.0</br>word_freq_report: 0.0</br>word_freq_addresses: 0.0</br>word_freq_free: 0.0</br>word_freq_business: 0.0</br>... too many variables\"],[\"</br>id: 5</br>prediction: 0.508</br>capital_run_length_average: 617.84</br></br>word_freq_make: 0.0</br>word_freq_address: 0.0</br>word_freq_all: 0.0</br>word_freq_3d: 0.0</br>word_freq_our: 1.85</br>word_freq_over: 0.0</br>word_freq_remove: 0.0</br>word_freq_internet: 1.85</br>word_freq_order: 0.0</br>word_freq_mail: 0.0</br>word_freq_receive: 0.0</br>word_freq_will: 0.0</br>word_freq_people: 0.0</br>word_freq_report: 0.0</br>word_freq_addresses: 0.0</br>word_freq_free: 0.0</br>word_freq_business: 0.0</br>... too many variables\"],[\"</br>id: 5</br>prediction: 0.508</br>capital_run_length_average: 628.855</br></br>word_freq_make: 0.0</br>word_freq_address: 0.0</br>word_freq_all: 0.0</br>word_freq_3d: 0.0</br>word_freq_our: 1.85</br>word_freq_over: 0.0</br>word_freq_remove: 0.0</br>word_freq_internet: 1.85</br>word_freq_order: 0.0</br>word_freq_mail: 0.0</br>word_freq_receive: 0.0</br>word_freq_will: 0.0</br>word_freq_people: 0.0</br>word_freq_report: 0.0</br>word_freq_addresses: 0.0</br>word_freq_free: 0.0</br>word_freq_business: 0.0</br>... too many variables\"],[\"</br>id: 5</br>prediction: 0.508</br>capital_run_length_average: 639.87</br></br>word_freq_make: 0.0</br>word_freq_address: 0.0</br>word_freq_all: 0.0</br>word_freq_3d: 0.0</br>word_freq_our: 1.85</br>word_freq_over: 0.0</br>word_freq_remove: 0.0</br>word_freq_internet: 1.85</br>word_freq_order: 0.0</br>word_freq_mail: 0.0</br>word_freq_receive: 0.0</br>word_freq_will: 0.0</br>word_freq_people: 0.0</br>word_freq_report: 0.0</br>word_freq_addresses: 0.0</br>word_freq_free: 0.0</br>word_freq_business: 0.0</br>... too many variables\"],[\"</br>id: 5</br>prediction: 0.508</br>capital_run_length_average: 650.885</br></br>word_freq_make: 0.0</br>word_freq_address: 0.0</br>word_freq_all: 0.0</br>word_freq_3d: 0.0</br>word_freq_our: 1.85</br>word_freq_over: 0.0</br>word_freq_remove: 0.0</br>word_freq_internet: 1.85</br>word_freq_order: 0.0</br>word_freq_mail: 0.0</br>word_freq_receive: 0.0</br>word_freq_will: 0.0</br>word_freq_people: 0.0</br>word_freq_report: 0.0</br>word_freq_addresses: 0.0</br>word_freq_free: 0.0</br>word_freq_business: 0.0</br>... too many variables\"],[\"</br>id: 5</br>prediction: 0.508</br>capital_run_length_average: 661.9000000000001</br></br>word_freq_make: 0.0</br>word_freq_address: 0.0</br>word_freq_all: 0.0</br>word_freq_3d: 0.0</br>word_freq_our: 1.85</br>word_freq_over: 0.0</br>word_freq_remove: 0.0</br>word_freq_internet: 1.85</br>word_freq_order: 0.0</br>word_freq_mail: 0.0</br>word_freq_receive: 0.0</br>word_freq_will: 0.0</br>word_freq_people: 0.0</br>word_freq_report: 0.0</br>word_freq_addresses: 0.0</br>word_freq_free: 0.0</br>word_freq_business: 0.0</br>... too many variables\"],[\"</br>id: 5</br>prediction: 0.508</br>capital_run_length_average: 672.9150000000001</br></br>word_freq_make: 0.0</br>word_freq_address: 0.0</br>word_freq_all: 0.0</br>word_freq_3d: 0.0</br>word_freq_our: 1.85</br>word_freq_over: 0.0</br>word_freq_remove: 0.0</br>word_freq_internet: 1.85</br>word_freq_order: 0.0</br>word_freq_mail: 0.0</br>word_freq_receive: 0.0</br>word_freq_will: 0.0</br>word_freq_people: 0.0</br>word_freq_report: 0.0</br>word_freq_addresses: 0.0</br>word_freq_free: 0.0</br>word_freq_business: 0.0</br>... too many variables\"],[\"</br>id: 5</br>prediction: 0.508</br>capital_run_length_average: 683.9300000000001</br></br>word_freq_make: 0.0</br>word_freq_address: 0.0</br>word_freq_all: 0.0</br>word_freq_3d: 0.0</br>word_freq_our: 1.85</br>word_freq_over: 0.0</br>word_freq_remove: 0.0</br>word_freq_internet: 1.85</br>word_freq_order: 0.0</br>word_freq_mail: 0.0</br>word_freq_receive: 0.0</br>word_freq_will: 0.0</br>word_freq_people: 0.0</br>word_freq_report: 0.0</br>word_freq_addresses: 0.0</br>word_freq_free: 0.0</br>word_freq_business: 0.0</br>... too many variables\"],[\"</br>id: 5</br>prediction: 0.508</br>capital_run_length_average: 694.945</br></br>word_freq_make: 0.0</br>word_freq_address: 0.0</br>word_freq_all: 0.0</br>word_freq_3d: 0.0</br>word_freq_our: 1.85</br>word_freq_over: 0.0</br>word_freq_remove: 0.0</br>word_freq_internet: 1.85</br>word_freq_order: 0.0</br>word_freq_mail: 0.0</br>word_freq_receive: 0.0</br>word_freq_will: 0.0</br>word_freq_people: 0.0</br>word_freq_report: 0.0</br>word_freq_addresses: 0.0</br>word_freq_free: 0.0</br>word_freq_business: 0.0</br>... too many variables\"],[\"</br>id: 5</br>prediction: 0.508</br>capital_run_length_average: 705.96</br></br>word_freq_make: 0.0</br>word_freq_address: 0.0</br>word_freq_all: 0.0</br>word_freq_3d: 0.0</br>word_freq_our: 1.85</br>word_freq_over: 0.0</br>word_freq_remove: 0.0</br>word_freq_internet: 1.85</br>word_freq_order: 0.0</br>word_freq_mail: 0.0</br>word_freq_receive: 0.0</br>word_freq_will: 0.0</br>word_freq_people: 0.0</br>word_freq_report: 0.0</br>word_freq_addresses: 0.0</br>word_freq_free: 0.0</br>word_freq_business: 0.0</br>... too many variables\"],[\"</br>id: 5</br>prediction: 0.508</br>capital_run_length_average: 716.975</br></br>word_freq_make: 0.0</br>word_freq_address: 0.0</br>word_freq_all: 0.0</br>word_freq_3d: 0.0</br>word_freq_our: 1.85</br>word_freq_over: 0.0</br>word_freq_remove: 0.0</br>word_freq_internet: 1.85</br>word_freq_order: 0.0</br>word_freq_mail: 0.0</br>word_freq_receive: 0.0</br>word_freq_will: 0.0</br>word_freq_people: 0.0</br>word_freq_report: 0.0</br>word_freq_addresses: 0.0</br>word_freq_free: 0.0</br>word_freq_business: 0.0</br>... too many variables\"],[\"</br>id: 5</br>prediction: 0.508</br>capital_run_length_average: 727.99</br></br>word_freq_make: 0.0</br>word_freq_address: 0.0</br>word_freq_all: 0.0</br>word_freq_3d: 0.0</br>word_freq_our: 1.85</br>word_freq_over: 0.0</br>word_freq_remove: 0.0</br>word_freq_internet: 1.85</br>word_freq_order: 0.0</br>word_freq_mail: 0.0</br>word_freq_receive: 0.0</br>word_freq_will: 0.0</br>word_freq_people: 0.0</br>word_freq_report: 0.0</br>word_freq_addresses: 0.0</br>word_freq_free: 0.0</br>word_freq_business: 0.0</br>... too many variables\"],[\"</br>id: 5</br>prediction: 0.508</br>capital_run_length_average: 739.005</br></br>word_freq_make: 0.0</br>word_freq_address: 0.0</br>word_freq_all: 0.0</br>word_freq_3d: 0.0</br>word_freq_our: 1.85</br>word_freq_over: 0.0</br>word_freq_remove: 0.0</br>word_freq_internet: 1.85</br>word_freq_order: 0.0</br>word_freq_mail: 0.0</br>word_freq_receive: 0.0</br>word_freq_will: 0.0</br>word_freq_people: 0.0</br>word_freq_report: 0.0</br>word_freq_addresses: 0.0</br>word_freq_free: 0.0</br>word_freq_business: 0.0</br>... too many variables\"],[\"</br>id: 5</br>prediction: 0.508</br>capital_run_length_average: 750.02</br></br>word_freq_make: 0.0</br>word_freq_address: 0.0</br>word_freq_all: 0.0</br>word_freq_3d: 0.0</br>word_freq_our: 1.85</br>word_freq_over: 0.0</br>word_freq_remove: 0.0</br>word_freq_internet: 1.85</br>word_freq_order: 0.0</br>word_freq_mail: 0.0</br>word_freq_receive: 0.0</br>word_freq_will: 0.0</br>word_freq_people: 0.0</br>word_freq_report: 0.0</br>word_freq_addresses: 0.0</br>word_freq_free: 0.0</br>word_freq_business: 0.0</br>... too many variables\"],[\"</br>id: 5</br>prediction: 0.508</br>capital_run_length_average: 761.0350000000001</br></br>word_freq_make: 0.0</br>word_freq_address: 0.0</br>word_freq_all: 0.0</br>word_freq_3d: 0.0</br>word_freq_our: 1.85</br>word_freq_over: 0.0</br>word_freq_remove: 0.0</br>word_freq_internet: 1.85</br>word_freq_order: 0.0</br>word_freq_mail: 0.0</br>word_freq_receive: 0.0</br>word_freq_will: 0.0</br>word_freq_people: 0.0</br>word_freq_report: 0.0</br>word_freq_addresses: 0.0</br>word_freq_free: 0.0</br>word_freq_business: 0.0</br>... too many variables\"],[\"</br>id: 5</br>prediction: 0.508</br>capital_run_length_average: 772.0500000000001</br></br>word_freq_make: 0.0</br>word_freq_address: 0.0</br>word_freq_all: 0.0</br>word_freq_3d: 0.0</br>word_freq_our: 1.85</br>word_freq_over: 0.0</br>word_freq_remove: 0.0</br>word_freq_internet: 1.85</br>word_freq_order: 0.0</br>word_freq_mail: 0.0</br>word_freq_receive: 0.0</br>word_freq_will: 0.0</br>word_freq_people: 0.0</br>word_freq_report: 0.0</br>word_freq_addresses: 0.0</br>word_freq_free: 0.0</br>word_freq_business: 0.0</br>... too many variables\"],[\"</br>id: 5</br>prediction: 0.508</br>capital_run_length_average: 783.065</br></br>word_freq_make: 0.0</br>word_freq_address: 0.0</br>word_freq_all: 0.0</br>word_freq_3d: 0.0</br>word_freq_our: 1.85</br>word_freq_over: 0.0</br>word_freq_remove: 0.0</br>word_freq_internet: 1.85</br>word_freq_order: 0.0</br>word_freq_mail: 0.0</br>word_freq_receive: 0.0</br>word_freq_will: 0.0</br>word_freq_people: 0.0</br>word_freq_report: 0.0</br>word_freq_addresses: 0.0</br>word_freq_free: 0.0</br>word_freq_business: 0.0</br>... too many variables\"],[\"</br>id: 5</br>prediction: 0.508</br>capital_run_length_average: 794.08</br></br>word_freq_make: 0.0</br>word_freq_address: 0.0</br>word_freq_all: 0.0</br>word_freq_3d: 0.0</br>word_freq_our: 1.85</br>word_freq_over: 0.0</br>word_freq_remove: 0.0</br>word_freq_internet: 1.85</br>word_freq_order: 0.0</br>word_freq_mail: 0.0</br>word_freq_receive: 0.0</br>word_freq_will: 0.0</br>word_freq_people: 0.0</br>word_freq_report: 0.0</br>word_freq_addresses: 0.0</br>word_freq_free: 0.0</br>word_freq_business: 0.0</br>... too many variables\"],[\"</br>id: 5</br>prediction: 0.508</br>capital_run_length_average: 805.095</br></br>word_freq_make: 0.0</br>word_freq_address: 0.0</br>word_freq_all: 0.0</br>word_freq_3d: 0.0</br>word_freq_our: 1.85</br>word_freq_over: 0.0</br>word_freq_remove: 0.0</br>word_freq_internet: 1.85</br>word_freq_order: 0.0</br>word_freq_mail: 0.0</br>word_freq_receive: 0.0</br>word_freq_will: 0.0</br>word_freq_people: 0.0</br>word_freq_report: 0.0</br>word_freq_addresses: 0.0</br>word_freq_free: 0.0</br>word_freq_business: 0.0</br>... too many variables\"],[\"</br>id: 5</br>prediction: 0.508</br>capital_run_length_average: 816.11</br></br>word_freq_make: 0.0</br>word_freq_address: 0.0</br>word_freq_all: 0.0</br>word_freq_3d: 0.0</br>word_freq_our: 1.85</br>word_freq_over: 0.0</br>word_freq_remove: 0.0</br>word_freq_internet: 1.85</br>word_freq_order: 0.0</br>word_freq_mail: 0.0</br>word_freq_receive: 0.0</br>word_freq_will: 0.0</br>word_freq_people: 0.0</br>word_freq_report: 0.0</br>word_freq_addresses: 0.0</br>word_freq_free: 0.0</br>word_freq_business: 0.0</br>... too many variables\"],[\"</br>id: 5</br>prediction: 0.508</br>capital_run_length_average: 827.125</br></br>word_freq_make: 0.0</br>word_freq_address: 0.0</br>word_freq_all: 0.0</br>word_freq_3d: 0.0</br>word_freq_our: 1.85</br>word_freq_over: 0.0</br>word_freq_remove: 0.0</br>word_freq_internet: 1.85</br>word_freq_order: 0.0</br>word_freq_mail: 0.0</br>word_freq_receive: 0.0</br>word_freq_will: 0.0</br>word_freq_people: 0.0</br>word_freq_report: 0.0</br>word_freq_addresses: 0.0</br>word_freq_free: 0.0</br>word_freq_business: 0.0</br>... too many variables\"],[\"</br>id: 5</br>prediction: 0.508</br>capital_run_length_average: 838.1400000000001</br></br>word_freq_make: 0.0</br>word_freq_address: 0.0</br>word_freq_all: 0.0</br>word_freq_3d: 0.0</br>word_freq_our: 1.85</br>word_freq_over: 0.0</br>word_freq_remove: 0.0</br>word_freq_internet: 1.85</br>word_freq_order: 0.0</br>word_freq_mail: 0.0</br>word_freq_receive: 0.0</br>word_freq_will: 0.0</br>word_freq_people: 0.0</br>word_freq_report: 0.0</br>word_freq_addresses: 0.0</br>word_freq_free: 0.0</br>word_freq_business: 0.0</br>... too many variables\"],[\"</br>id: 5</br>prediction: 0.508</br>capital_run_length_average: 849.1550000000001</br></br>word_freq_make: 0.0</br>word_freq_address: 0.0</br>word_freq_all: 0.0</br>word_freq_3d: 0.0</br>word_freq_our: 1.85</br>word_freq_over: 0.0</br>word_freq_remove: 0.0</br>word_freq_internet: 1.85</br>word_freq_order: 0.0</br>word_freq_mail: 0.0</br>word_freq_receive: 0.0</br>word_freq_will: 0.0</br>word_freq_people: 0.0</br>word_freq_report: 0.0</br>word_freq_addresses: 0.0</br>word_freq_free: 0.0</br>word_freq_business: 0.0</br>... too many variables\"],[\"</br>id: 5</br>prediction: 0.508</br>capital_run_length_average: 860.1700000000001</br></br>word_freq_make: 0.0</br>word_freq_address: 0.0</br>word_freq_all: 0.0</br>word_freq_3d: 0.0</br>word_freq_our: 1.85</br>word_freq_over: 0.0</br>word_freq_remove: 0.0</br>word_freq_internet: 1.85</br>word_freq_order: 0.0</br>word_freq_mail: 0.0</br>word_freq_receive: 0.0</br>word_freq_will: 0.0</br>word_freq_people: 0.0</br>word_freq_report: 0.0</br>word_freq_addresses: 0.0</br>word_freq_free: 0.0</br>word_freq_business: 0.0</br>... too many variables\"],[\"</br>id: 5</br>prediction: 0.508</br>capital_run_length_average: 871.1850000000001</br></br>word_freq_make: 0.0</br>word_freq_address: 0.0</br>word_freq_all: 0.0</br>word_freq_3d: 0.0</br>word_freq_our: 1.85</br>word_freq_over: 0.0</br>word_freq_remove: 0.0</br>word_freq_internet: 1.85</br>word_freq_order: 0.0</br>word_freq_mail: 0.0</br>word_freq_receive: 0.0</br>word_freq_will: 0.0</br>word_freq_people: 0.0</br>word_freq_report: 0.0</br>word_freq_addresses: 0.0</br>word_freq_free: 0.0</br>word_freq_business: 0.0</br>... too many variables\"],[\"</br>id: 5</br>prediction: 0.508</br>capital_run_length_average: 882.2</br></br>word_freq_make: 0.0</br>word_freq_address: 0.0</br>word_freq_all: 0.0</br>word_freq_3d: 0.0</br>word_freq_our: 1.85</br>word_freq_over: 0.0</br>word_freq_remove: 0.0</br>word_freq_internet: 1.85</br>word_freq_order: 0.0</br>word_freq_mail: 0.0</br>word_freq_receive: 0.0</br>word_freq_will: 0.0</br>word_freq_people: 0.0</br>word_freq_report: 0.0</br>word_freq_addresses: 0.0</br>word_freq_free: 0.0</br>word_freq_business: 0.0</br>... too many variables\"],[\"</br>id: 5</br>prediction: 0.508</br>capital_run_length_average: 893.215</br></br>word_freq_make: 0.0</br>word_freq_address: 0.0</br>word_freq_all: 0.0</br>word_freq_3d: 0.0</br>word_freq_our: 1.85</br>word_freq_over: 0.0</br>word_freq_remove: 0.0</br>word_freq_internet: 1.85</br>word_freq_order: 0.0</br>word_freq_mail: 0.0</br>word_freq_receive: 0.0</br>word_freq_will: 0.0</br>word_freq_people: 0.0</br>word_freq_report: 0.0</br>word_freq_addresses: 0.0</br>word_freq_free: 0.0</br>word_freq_business: 0.0</br>... too many variables\"],[\"</br>id: 5</br>prediction: 0.508</br>capital_run_length_average: 904.23</br></br>word_freq_make: 0.0</br>word_freq_address: 0.0</br>word_freq_all: 0.0</br>word_freq_3d: 0.0</br>word_freq_our: 1.85</br>word_freq_over: 0.0</br>word_freq_remove: 0.0</br>word_freq_internet: 1.85</br>word_freq_order: 0.0</br>word_freq_mail: 0.0</br>word_freq_receive: 0.0</br>word_freq_will: 0.0</br>word_freq_people: 0.0</br>word_freq_report: 0.0</br>word_freq_addresses: 0.0</br>word_freq_free: 0.0</br>word_freq_business: 0.0</br>... too many variables\"],[\"</br>id: 5</br>prediction: 0.508</br>capital_run_length_average: 915.245</br></br>word_freq_make: 0.0</br>word_freq_address: 0.0</br>word_freq_all: 0.0</br>word_freq_3d: 0.0</br>word_freq_our: 1.85</br>word_freq_over: 0.0</br>word_freq_remove: 0.0</br>word_freq_internet: 1.85</br>word_freq_order: 0.0</br>word_freq_mail: 0.0</br>word_freq_receive: 0.0</br>word_freq_will: 0.0</br>word_freq_people: 0.0</br>word_freq_report: 0.0</br>word_freq_addresses: 0.0</br>word_freq_free: 0.0</br>word_freq_business: 0.0</br>... too many variables\"],[\"</br>id: 5</br>prediction: 0.508</br>capital_run_length_average: 926.26</br></br>word_freq_make: 0.0</br>word_freq_address: 0.0</br>word_freq_all: 0.0</br>word_freq_3d: 0.0</br>word_freq_our: 1.85</br>word_freq_over: 0.0</br>word_freq_remove: 0.0</br>word_freq_internet: 1.85</br>word_freq_order: 0.0</br>word_freq_mail: 0.0</br>word_freq_receive: 0.0</br>word_freq_will: 0.0</br>word_freq_people: 0.0</br>word_freq_report: 0.0</br>word_freq_addresses: 0.0</br>word_freq_free: 0.0</br>word_freq_business: 0.0</br>... too many variables\"],[\"</br>id: 5</br>prediction: 0.508</br>capital_run_length_average: 937.2750000000001</br></br>word_freq_make: 0.0</br>word_freq_address: 0.0</br>word_freq_all: 0.0</br>word_freq_3d: 0.0</br>word_freq_our: 1.85</br>word_freq_over: 0.0</br>word_freq_remove: 0.0</br>word_freq_internet: 1.85</br>word_freq_order: 0.0</br>word_freq_mail: 0.0</br>word_freq_receive: 0.0</br>word_freq_will: 0.0</br>word_freq_people: 0.0</br>word_freq_report: 0.0</br>word_freq_addresses: 0.0</br>word_freq_free: 0.0</br>word_freq_business: 0.0</br>... too many variables\"],[\"</br>id: 5</br>prediction: 0.508</br>capital_run_length_average: 948.2900000000001</br></br>word_freq_make: 0.0</br>word_freq_address: 0.0</br>word_freq_all: 0.0</br>word_freq_3d: 0.0</br>word_freq_our: 1.85</br>word_freq_over: 0.0</br>word_freq_remove: 0.0</br>word_freq_internet: 1.85</br>word_freq_order: 0.0</br>word_freq_mail: 0.0</br>word_freq_receive: 0.0</br>word_freq_will: 0.0</br>word_freq_people: 0.0</br>word_freq_report: 0.0</br>word_freq_addresses: 0.0</br>word_freq_free: 0.0</br>word_freq_business: 0.0</br>... too many variables\"],[\"</br>id: 5</br>prediction: 0.508</br>capital_run_length_average: 959.3050000000001</br></br>word_freq_make: 0.0</br>word_freq_address: 0.0</br>word_freq_all: 0.0</br>word_freq_3d: 0.0</br>word_freq_our: 1.85</br>word_freq_over: 0.0</br>word_freq_remove: 0.0</br>word_freq_internet: 1.85</br>word_freq_order: 0.0</br>word_freq_mail: 0.0</br>word_freq_receive: 0.0</br>word_freq_will: 0.0</br>word_freq_people: 0.0</br>word_freq_report: 0.0</br>word_freq_addresses: 0.0</br>word_freq_free: 0.0</br>word_freq_business: 0.0</br>... too many variables\"],[\"</br>id: 5</br>prediction: 0.508</br>capital_run_length_average: 970.32</br></br>word_freq_make: 0.0</br>word_freq_address: 0.0</br>word_freq_all: 0.0</br>word_freq_3d: 0.0</br>word_freq_our: 1.85</br>word_freq_over: 0.0</br>word_freq_remove: 0.0</br>word_freq_internet: 1.85</br>word_freq_order: 0.0</br>word_freq_mail: 0.0</br>word_freq_receive: 0.0</br>word_freq_will: 0.0</br>word_freq_people: 0.0</br>word_freq_report: 0.0</br>word_freq_addresses: 0.0</br>word_freq_free: 0.0</br>word_freq_business: 0.0</br>... too many variables\"],[\"</br>id: 5</br>prediction: 0.508</br>capital_run_length_average: 981.335</br></br>word_freq_make: 0.0</br>word_freq_address: 0.0</br>word_freq_all: 0.0</br>word_freq_3d: 0.0</br>word_freq_our: 1.85</br>word_freq_over: 0.0</br>word_freq_remove: 0.0</br>word_freq_internet: 1.85</br>word_freq_order: 0.0</br>word_freq_mail: 0.0</br>word_freq_receive: 0.0</br>word_freq_will: 0.0</br>word_freq_people: 0.0</br>word_freq_report: 0.0</br>word_freq_addresses: 0.0</br>word_freq_free: 0.0</br>word_freq_business: 0.0</br>... too many variables\"],[\"</br>id: 5</br>prediction: 0.508</br>capital_run_length_average: 992.35</br></br>word_freq_make: 0.0</br>word_freq_address: 0.0</br>word_freq_all: 0.0</br>word_freq_3d: 0.0</br>word_freq_our: 1.85</br>word_freq_over: 0.0</br>word_freq_remove: 0.0</br>word_freq_internet: 1.85</br>word_freq_order: 0.0</br>word_freq_mail: 0.0</br>word_freq_receive: 0.0</br>word_freq_will: 0.0</br>word_freq_people: 0.0</br>word_freq_report: 0.0</br>word_freq_addresses: 0.0</br>word_freq_free: 0.0</br>word_freq_business: 0.0</br>... too many variables\"],[\"</br>id: 5</br>prediction: 0.508</br>capital_run_length_average: 1003.365</br></br>word_freq_make: 0.0</br>word_freq_address: 0.0</br>word_freq_all: 0.0</br>word_freq_3d: 0.0</br>word_freq_our: 1.85</br>word_freq_over: 0.0</br>word_freq_remove: 0.0</br>word_freq_internet: 1.85</br>word_freq_order: 0.0</br>word_freq_mail: 0.0</br>word_freq_receive: 0.0</br>word_freq_will: 0.0</br>word_freq_people: 0.0</br>word_freq_report: 0.0</br>word_freq_addresses: 0.0</br>word_freq_free: 0.0</br>word_freq_business: 0.0</br>... too many variables\"],[\"</br>id: 5</br>prediction: 0.508</br>capital_run_length_average: 1014.3800000000001</br></br>word_freq_make: 0.0</br>word_freq_address: 0.0</br>word_freq_all: 0.0</br>word_freq_3d: 0.0</br>word_freq_our: 1.85</br>word_freq_over: 0.0</br>word_freq_remove: 0.0</br>word_freq_internet: 1.85</br>word_freq_order: 0.0</br>word_freq_mail: 0.0</br>word_freq_receive: 0.0</br>word_freq_will: 0.0</br>word_freq_people: 0.0</br>word_freq_report: 0.0</br>word_freq_addresses: 0.0</br>word_freq_free: 0.0</br>word_freq_business: 0.0</br>... too many variables\"],[\"</br>id: 5</br>prediction: 0.508</br>capital_run_length_average: 1025.395</br></br>word_freq_make: 0.0</br>word_freq_address: 0.0</br>word_freq_all: 0.0</br>word_freq_3d: 0.0</br>word_freq_our: 1.85</br>word_freq_over: 0.0</br>word_freq_remove: 0.0</br>word_freq_internet: 1.85</br>word_freq_order: 0.0</br>word_freq_mail: 0.0</br>word_freq_receive: 0.0</br>word_freq_will: 0.0</br>word_freq_people: 0.0</br>word_freq_report: 0.0</br>word_freq_addresses: 0.0</br>word_freq_free: 0.0</br>word_freq_business: 0.0</br>... too many variables\"],[\"</br>id: 5</br>prediction: 0.508</br>capital_run_length_average: 1036.41</br></br>word_freq_make: 0.0</br>word_freq_address: 0.0</br>word_freq_all: 0.0</br>word_freq_3d: 0.0</br>word_freq_our: 1.85</br>word_freq_over: 0.0</br>word_freq_remove: 0.0</br>word_freq_internet: 1.85</br>word_freq_order: 0.0</br>word_freq_mail: 0.0</br>word_freq_receive: 0.0</br>word_freq_will: 0.0</br>word_freq_people: 0.0</br>word_freq_report: 0.0</br>word_freq_addresses: 0.0</br>word_freq_free: 0.0</br>word_freq_business: 0.0</br>... too many variables\"],[\"</br>id: 5</br>prediction: 0.508</br>capital_run_length_average: 1047.425</br></br>word_freq_make: 0.0</br>word_freq_address: 0.0</br>word_freq_all: 0.0</br>word_freq_3d: 0.0</br>word_freq_our: 1.85</br>word_freq_over: 0.0</br>word_freq_remove: 0.0</br>word_freq_internet: 1.85</br>word_freq_order: 0.0</br>word_freq_mail: 0.0</br>word_freq_receive: 0.0</br>word_freq_will: 0.0</br>word_freq_people: 0.0</br>word_freq_report: 0.0</br>word_freq_addresses: 0.0</br>word_freq_free: 0.0</br>word_freq_business: 0.0</br>... too many variables\"],[\"</br>id: 5</br>prediction: 0.508</br>capital_run_length_average: 1058.44</br></br>word_freq_make: 0.0</br>word_freq_address: 0.0</br>word_freq_all: 0.0</br>word_freq_3d: 0.0</br>word_freq_our: 1.85</br>word_freq_over: 0.0</br>word_freq_remove: 0.0</br>word_freq_internet: 1.85</br>word_freq_order: 0.0</br>word_freq_mail: 0.0</br>word_freq_receive: 0.0</br>word_freq_will: 0.0</br>word_freq_people: 0.0</br>word_freq_report: 0.0</br>word_freq_addresses: 0.0</br>word_freq_free: 0.0</br>word_freq_business: 0.0</br>... too many variables\"],[\"</br>id: 5</br>prediction: 0.508</br>capital_run_length_average: 1069.4550000000002</br></br>word_freq_make: 0.0</br>word_freq_address: 0.0</br>word_freq_all: 0.0</br>word_freq_3d: 0.0</br>word_freq_our: 1.85</br>word_freq_over: 0.0</br>word_freq_remove: 0.0</br>word_freq_internet: 1.85</br>word_freq_order: 0.0</br>word_freq_mail: 0.0</br>word_freq_receive: 0.0</br>word_freq_will: 0.0</br>word_freq_people: 0.0</br>word_freq_report: 0.0</br>word_freq_addresses: 0.0</br>word_freq_free: 0.0</br>word_freq_business: 0.0</br>... too many variables\"],[\"</br>id: 5</br>prediction: 0.508</br>capital_run_length_average: 1080.47</br></br>word_freq_make: 0.0</br>word_freq_address: 0.0</br>word_freq_all: 0.0</br>word_freq_3d: 0.0</br>word_freq_our: 1.85</br>word_freq_over: 0.0</br>word_freq_remove: 0.0</br>word_freq_internet: 1.85</br>word_freq_order: 0.0</br>word_freq_mail: 0.0</br>word_freq_receive: 0.0</br>word_freq_will: 0.0</br>word_freq_people: 0.0</br>word_freq_report: 0.0</br>word_freq_addresses: 0.0</br>word_freq_free: 0.0</br>word_freq_business: 0.0</br>... too many variables\"],[\"</br>id: 5</br>prediction: 0.508</br>capital_run_length_average: 1091.4850000000001</br></br>word_freq_make: 0.0</br>word_freq_address: 0.0</br>word_freq_all: 0.0</br>word_freq_3d: 0.0</br>word_freq_our: 1.85</br>word_freq_over: 0.0</br>word_freq_remove: 0.0</br>word_freq_internet: 1.85</br>word_freq_order: 0.0</br>word_freq_mail: 0.0</br>word_freq_receive: 0.0</br>word_freq_will: 0.0</br>word_freq_people: 0.0</br>word_freq_report: 0.0</br>word_freq_addresses: 0.0</br>word_freq_free: 0.0</br>word_freq_business: 0.0</br>... too many variables\"],[\"</br>id: 5</br>prediction: 0.508</br>capital_run_length_average: 1102.5</br></br>word_freq_make: 0.0</br>word_freq_address: 0.0</br>word_freq_all: 0.0</br>word_freq_3d: 0.0</br>word_freq_our: 1.85</br>word_freq_over: 0.0</br>word_freq_remove: 0.0</br>word_freq_internet: 1.85</br>word_freq_order: 0.0</br>word_freq_mail: 0.0</br>word_freq_receive: 0.0</br>word_freq_will: 0.0</br>word_freq_people: 0.0</br>word_freq_report: 0.0</br>word_freq_addresses: 0.0</br>word_freq_free: 0.0</br>word_freq_business: 0.0</br>... too many variables\"]],\"hovertemplate\":\"%{customdata[0]}<extra></extra>\",\"legendgroup\":\"RandomForestClassifier\",\"line\":{\"color\":\"#46bac2\",\"dash\":\"solid\",\"width\":2},\"marker\":{\"symbol\":\"circle\"},\"mode\":\"lines\",\"name\":\"RandomForestClassifier\",\"orientation\":\"v\",\"showlegend\":false,\"x\":[1.0,3.0,3.537,12.015,23.03,34.045,45.06,56.075,67.09,78.105,89.12,100.135,111.15,122.165,133.18,144.195,155.21,166.22500000000002,177.24,188.255,199.27,210.28500000000003,221.3,232.315,243.33,254.34500000000003,265.36,276.375,287.39,298.40500000000003,309.42,320.435,331.45000000000005,342.46500000000003,353.48,364.495,375.51,386.52500000000003,397.54,408.555,419.57000000000005,430.58500000000004,441.6,452.615,463.63,474.64500000000004,485.66,496.675,507.69000000000005,518.705,529.72,540.735,551.75,562.765,573.78,584.7950000000001,595.8100000000001,606.825,617.84,628.855,639.87,650.885,661.9000000000001,672.9150000000001,683.9300000000001,694.945,705.96,716.975,727.99,739.005,750.02,761.0350000000001,772.0500000000001,783.065,794.08,805.095,816.11,827.125,838.1400000000001,849.1550000000001,860.1700000000001,871.1850000000001,882.2,893.215,904.23,915.245,926.26,937.2750000000001,948.2900000000001,959.3050000000001,970.32,981.335,992.35,1003.365,1014.3800000000001,1025.395,1036.41,1047.425,1058.44,1069.4550000000002,1080.47,1091.4850000000001,1102.5],\"xaxis\":\"x2\",\"y\":[0.1805418803027635,0.28840994237299195,0.31717485066382,0.464655539689579,0.5093970277006536,0.5130537441185641,0.5080537441185641,0.5080537441185641,0.5080537441185641,0.5080537441185641,0.5080537441185641,0.5080537441185641,0.5080537441185641,0.5080537441185641,0.5080537441185641,0.5080537441185641,0.5080537441185641,0.5080537441185641,0.5080537441185641,0.5080537441185641,0.5080537441185641,0.5080537441185641,0.5080537441185641,0.5080537441185641,0.5080537441185641,0.5080537441185641,0.5080537441185641,0.5080537441185641,0.5080537441185641,0.5080537441185641,0.5080537441185641,0.5080537441185641,0.5080537441185641,0.5080537441185641,0.5080537441185641,0.5080537441185641,0.5080537441185641,0.5080537441185641,0.5080537441185641,0.5080537441185641,0.5080537441185641,0.5080537441185641,0.5080537441185641,0.5080537441185641,0.5080537441185641,0.5080537441185641,0.5080537441185641,0.5080537441185641,0.5080537441185641,0.5080537441185641,0.5080537441185641,0.5080537441185641,0.5080537441185641,0.5080537441185641,0.5080537441185641,0.5080537441185641,0.5080537441185641,0.5080537441185641,0.5080537441185641,0.5080537441185641,0.5080537441185641,0.5080537441185641,0.5080537441185641,0.5080537441185641,0.5080537441185641,0.5080537441185641,0.5080537441185641,0.5080537441185641,0.5080537441185641,0.5080537441185641,0.5080537441185641,0.5080537441185641,0.5080537441185641,0.5080537441185641,0.5080537441185641,0.5080537441185641,0.5080537441185641,0.5080537441185641,0.5080537441185641,0.5080537441185641,0.5080537441185641,0.5080537441185641,0.5080537441185641,0.5080537441185641,0.5080537441185641,0.5080537441185641,0.5080537441185641,0.5080537441185641,0.5080537441185641,0.5080537441185641,0.5080537441185641,0.5080537441185641,0.5080537441185641,0.5080537441185641,0.5080537441185641,0.5080537441185641,0.5080537441185641,0.5080537441185641,0.5080537441185641,0.5080537441185641,0.5080537441185641,0.5080537441185641,0.5080537441185641],\"yaxis\":\"y2\",\"type\":\"scatter\",\"opacity\":1},{\"customdata\":[[\"</br>id: 4</br>prediction: 0.952</br>char_freq_%24: 0.0</br></br>word_freq_make: 0.0</br>word_freq_address: 0.0</br>word_freq_all: 0.0</br>word_freq_3d: 0.0</br>word_freq_our: 0.63</br>word_freq_over: 0.0</br>word_freq_remove: 0.31</br>word_freq_internet: 0.63</br>word_freq_order: 0.31</br>word_freq_mail: 0.63</br>word_freq_receive: 0.31</br>word_freq_will: 0.31</br>word_freq_people: 0.31</br>word_freq_report: 0.0</br>word_freq_addresses: 0.0</br>word_freq_free: 0.31</br>word_freq_business: 0.0</br>... too many variables\"],[\"</br>id: 5</br>prediction: 0.288</br>char_freq_%24: 0.0</br></br>word_freq_make: 0.0</br>word_freq_address: 0.0</br>word_freq_all: 0.0</br>word_freq_3d: 0.0</br>word_freq_our: 1.85</br>word_freq_over: 0.0</br>word_freq_remove: 0.0</br>word_freq_internet: 1.85</br>word_freq_order: 0.0</br>word_freq_mail: 0.0</br>word_freq_receive: 0.0</br>word_freq_will: 0.0</br>word_freq_people: 0.0</br>word_freq_report: 0.0</br>word_freq_addresses: 0.0</br>word_freq_free: 0.0</br>word_freq_business: 0.0</br>word_freq_email: 0.0</br>... too many variables\"]],\"hovertemplate\":\"%{customdata[0]}<extra></extra>\",\"legendgroup\":\"\",\"marker\":{\"color\":\"#371ea3\",\"size\":10,\"symbol\":\"circle\"},\"mode\":\"markers\",\"name\":\"\",\"opacity\":1,\"orientation\":\"v\",\"showlegend\":false,\"x\":[0.0,0.0],\"xaxis\":\"x\",\"y\":[0.9523912599255716,0.28840994237299195],\"yaxis\":\"y\",\"type\":\"scatter\"},{\"customdata\":[[\"</br>id: 4</br>prediction: 0.952</br>capital_run_length_average: 3.537</br></br>word_freq_make: 0.0</br>word_freq_address: 0.0</br>word_freq_all: 0.0</br>word_freq_3d: 0.0</br>word_freq_our: 0.63</br>word_freq_over: 0.0</br>word_freq_remove: 0.31</br>word_freq_internet: 0.63</br>word_freq_order: 0.31</br>word_freq_mail: 0.63</br>word_freq_receive: 0.31</br>word_freq_will: 0.31</br>word_freq_people: 0.31</br>word_freq_report: 0.0</br>word_freq_addresses: 0.0</br>word_freq_free: 0.31</br>word_freq_business: 0.0</br>... too many variables\"],[\"</br>id: 5</br>prediction: 0.288</br>capital_run_length_average: 3.0</br></br>word_freq_make: 0.0</br>word_freq_address: 0.0</br>word_freq_all: 0.0</br>word_freq_3d: 0.0</br>word_freq_our: 1.85</br>word_freq_over: 0.0</br>word_freq_remove: 0.0</br>word_freq_internet: 1.85</br>word_freq_order: 0.0</br>word_freq_mail: 0.0</br>word_freq_receive: 0.0</br>word_freq_will: 0.0</br>word_freq_people: 0.0</br>word_freq_report: 0.0</br>word_freq_addresses: 0.0</br>word_freq_free: 0.0</br>word_freq_business: 0.0</br>... too many variables\"]],\"hovertemplate\":\"%{customdata[0]}<extra></extra>\",\"legendgroup\":\"\",\"marker\":{\"color\":\"#371ea3\",\"size\":10,\"symbol\":\"circle\"},\"mode\":\"markers\",\"name\":\"\",\"opacity\":1,\"orientation\":\"v\",\"showlegend\":false,\"x\":[3.537,3.0],\"xaxis\":\"x2\",\"y\":[0.9523912599255716,0.28840994237299195],\"yaxis\":\"y2\",\"type\":\"scatter\"}],                        {\"template\":{\"data\":{\"scatter\":[{\"type\":\"scatter\"}]}},\"xaxis\":{\"anchor\":\"y\",\"domain\":[0.0,0.475],\"title\":{\"text\":\"\"},\"showticklabels\":true,\"type\":\"linear\",\"gridwidth\":2,\"zeroline\":false,\"automargin\":true,\"ticks\":\"outside\",\"tickcolor\":\"white\",\"ticklen\":3,\"fixedrange\":true},\"yaxis\":{\"anchor\":\"x\",\"domain\":[0.0,1.0],\"title\":{\"text\":\"\"},\"type\":\"linear\",\"gridwidth\":2,\"zeroline\":false,\"automargin\":true,\"ticks\":\"outside\",\"tickcolor\":\"white\",\"ticklen\":3,\"fixedrange\":true,\"range\":[0.10175220907101923,1.0472282638519503]},\"xaxis2\":{\"anchor\":\"y2\",\"domain\":[0.525,1.0],\"title\":{\"text\":\"\"},\"showticklabels\":true,\"type\":\"linear\",\"gridwidth\":2,\"zeroline\":false,\"automargin\":true,\"ticks\":\"outside\",\"tickcolor\":\"white\",\"ticklen\":3,\"fixedrange\":true},\"yaxis2\":{\"anchor\":\"x2\",\"domain\":[0.0,1.0],\"matches\":\"y\",\"showticklabels\":false,\"type\":\"linear\",\"gridwidth\":2,\"zeroline\":false,\"automargin\":true,\"ticks\":\"outside\",\"tickcolor\":\"white\",\"ticklen\":3,\"fixedrange\":true,\"range\":[0.10175220907101923,1.0472282638519503],\"title\":{\"text\":\"\"}},\"annotations\":[{\"font\":{\"size\":13},\"showarrow\":false,\"text\":\"char_freq_%24\",\"x\":0.2375,\"xanchor\":\"center\",\"xref\":\"paper\",\"y\":1.0,\"yanchor\":\"bottom\",\"yref\":\"paper\"},{\"font\":{\"size\":13},\"showarrow\":false,\"text\":\"capital_run_length_average\",\"x\":0.7625,\"xanchor\":\"center\",\"xref\":\"paper\",\"y\":1.0,\"yanchor\":\"bottom\",\"yref\":\"paper\"},{\"font\":{\"size\":13},\"showarrow\":false,\"text\":\"prediction\",\"textangle\":-90,\"x\":-0.07,\"xref\":\"paper\",\"y\":0.5,\"yref\":\"paper\"}],\"legend\":{\"title\":{\"text\":\"label\",\"font\":{\"size\":12}},\"tracegroupgap\":0,\"font\":{\"size\":11},\"orientation\":\"h\",\"yanchor\":\"bottom\",\"y\":1.0613496932515338,\"xanchor\":\"right\",\"x\":1,\"itemsizing\":\"constant\"},\"margin\":{\"t\":78,\"b\":71,\"r\":30},\"font\":{\"color\":\"#371ea3\"},\"title\":{\"font\":{\"size\":16},\"text\":\"Ceteris Paribus Profiles\",\"x\":0.15},\"hovermode\":\"closest\",\"height\":489,\"hoverlabel\":{\"bgcolor\":\"rgba(0,0,0,0.8)\"}},                        {\"displaylogo\": false, \"staticPlot\": false, \"toImageButtonOptions\": {\"height\": null, \"width\": null}, \"modeBarButtonsToRemove\": [\"sendDataToCloud\", \"lasso2d\", \"autoScale2d\", \"select2d\", \"zoom2d\", \"pan2d\", \"zoomIn2d\", \"zoomOut2d\", \"resetScale2d\", \"toggleSpikelines\", \"hoverCompareCartesian\", \"hoverClosestCartesian\"], \"responsive\": true}                    ).then(function(){\n                            \nvar gd = document.getElementById('37e6ff18-9384-42da-b2c3-664e1e93706c');\nvar x = new MutationObserver(function (mutations, observer) {{\n        var display = window.getComputedStyle(gd).display;\n        if (!display || display === 'none') {{\n            console.log([gd, 'removed!']);\n            Plotly.purge(gd);\n            observer.disconnect();\n        }}\n}});\n\n// Listen for the removal of the full notebook cells\nvar notebookContainer = gd.closest('#notebook-container');\nif (notebookContainer) {{\n    x.observe(notebookContainer, {childList: true});\n}}\n\n// Listen for the clearing of the current output cell\nvar outputEl = gd.closest('.output');\nif (outputEl) {{\n    x.observe(outputEl, {childList: true});\n}}\n\n                        })                };                });            </script>        </div>"
     },
     "metadata": {},
     "output_type": "display_data"
    }
   ],
   "source": [
    "cp.plot(variables=[\"char_freq_%24\", \"capital_run_length_average\"])"
   ]
  },
  {
   "cell_type": "code",
   "execution_count": 23,
   "outputs": [
    {
     "name": "stderr",
     "output_type": "stream",
     "text": [
      "Calculating ceteris paribus: 100%|██████████| 55/55 [00:15<00:00,  3.52it/s]\n"
     ]
    }
   ],
   "source": [
    "pdp = RFexplainer.model_profile()"
   ],
   "metadata": {
    "collapsed": false
   }
  },
  {
   "cell_type": "code",
   "execution_count": null,
   "outputs": [],
   "source": [
    "pdp.plot(variables=[\"char_freq_%24\", \"capital_run_length_average\"], geom=\"profiles\", title=\"Partial Dependence Plot with individual profiles\")"
   ],
   "metadata": {
    "collapsed": false,
    "pycharm": {
     "is_executing": true
    }
   }
  },
  {
   "cell_type": "markdown",
   "source": [
    "## XGBOOST"
   ],
   "metadata": {
    "collapsed": false
   }
  },
  {
   "cell_type": "code",
   "execution_count": 36,
   "outputs": [],
   "source": [
    "import xgboost"
   ],
   "metadata": {
    "collapsed": false
   }
  },
  {
   "cell_type": "code",
   "execution_count": 37,
   "outputs": [
    {
     "name": "stderr",
     "output_type": "stream",
     "text": [
      "C:\\Users\\Antek\\anaconda3\\lib\\site-packages\\xgboost\\sklearn.py:1395: UserWarning:\n",
      "\n",
      "`use_label_encoder` is deprecated in 1.7.0.\n",
      "\n"
     ]
    },
    {
     "data": {
      "text/plain": "XGBClassifier(base_score=None, booster=None, callbacks=None,\n              colsample_bylevel=None, colsample_bynode=None,\n              colsample_bytree=None, early_stopping_rounds=None,\n              enable_categorical=True, eval_metric='logloss',\n              feature_types=None, gamma=None, gpu_id=None, grow_policy=None,\n              importance_type=None, interaction_constraints=None,\n              learning_rate=None, max_bin=None, max_cat_threshold=None,\n              max_cat_to_onehot=None, max_delta_step=None, max_depth=2,\n              max_leaves=None, min_child_weight=None, missing=nan,\n              monotone_constraints=None, n_estimators=50, n_jobs=None,\n              num_parallel_tree=None, predictor=None, random_state=None, ...)",
      "text/html": "<style>#sk-container-id-1 {color: black;background-color: white;}#sk-container-id-1 pre{padding: 0;}#sk-container-id-1 div.sk-toggleable {background-color: white;}#sk-container-id-1 label.sk-toggleable__label {cursor: pointer;display: block;width: 100%;margin-bottom: 0;padding: 0.3em;box-sizing: border-box;text-align: center;}#sk-container-id-1 label.sk-toggleable__label-arrow:before {content: \"▸\";float: left;margin-right: 0.25em;color: #696969;}#sk-container-id-1 label.sk-toggleable__label-arrow:hover:before {color: black;}#sk-container-id-1 div.sk-estimator:hover label.sk-toggleable__label-arrow:before {color: black;}#sk-container-id-1 div.sk-toggleable__content {max-height: 0;max-width: 0;overflow: hidden;text-align: left;background-color: #f0f8ff;}#sk-container-id-1 div.sk-toggleable__content pre {margin: 0.2em;color: black;border-radius: 0.25em;background-color: #f0f8ff;}#sk-container-id-1 input.sk-toggleable__control:checked~div.sk-toggleable__content {max-height: 200px;max-width: 100%;overflow: auto;}#sk-container-id-1 input.sk-toggleable__control:checked~label.sk-toggleable__label-arrow:before {content: \"▾\";}#sk-container-id-1 div.sk-estimator input.sk-toggleable__control:checked~label.sk-toggleable__label {background-color: #d4ebff;}#sk-container-id-1 div.sk-label input.sk-toggleable__control:checked~label.sk-toggleable__label {background-color: #d4ebff;}#sk-container-id-1 input.sk-hidden--visually {border: 0;clip: rect(1px 1px 1px 1px);clip: rect(1px, 1px, 1px, 1px);height: 1px;margin: -1px;overflow: hidden;padding: 0;position: absolute;width: 1px;}#sk-container-id-1 div.sk-estimator {font-family: monospace;background-color: #f0f8ff;border: 1px dotted black;border-radius: 0.25em;box-sizing: border-box;margin-bottom: 0.5em;}#sk-container-id-1 div.sk-estimator:hover {background-color: #d4ebff;}#sk-container-id-1 div.sk-parallel-item::after {content: \"\";width: 100%;border-bottom: 1px solid gray;flex-grow: 1;}#sk-container-id-1 div.sk-label:hover label.sk-toggleable__label {background-color: #d4ebff;}#sk-container-id-1 div.sk-serial::before {content: \"\";position: absolute;border-left: 1px solid gray;box-sizing: border-box;top: 0;bottom: 0;left: 50%;z-index: 0;}#sk-container-id-1 div.sk-serial {display: flex;flex-direction: column;align-items: center;background-color: white;padding-right: 0.2em;padding-left: 0.2em;position: relative;}#sk-container-id-1 div.sk-item {position: relative;z-index: 1;}#sk-container-id-1 div.sk-parallel {display: flex;align-items: stretch;justify-content: center;background-color: white;position: relative;}#sk-container-id-1 div.sk-item::before, #sk-container-id-1 div.sk-parallel-item::before {content: \"\";position: absolute;border-left: 1px solid gray;box-sizing: border-box;top: 0;bottom: 0;left: 50%;z-index: -1;}#sk-container-id-1 div.sk-parallel-item {display: flex;flex-direction: column;z-index: 1;position: relative;background-color: white;}#sk-container-id-1 div.sk-parallel-item:first-child::after {align-self: flex-end;width: 50%;}#sk-container-id-1 div.sk-parallel-item:last-child::after {align-self: flex-start;width: 50%;}#sk-container-id-1 div.sk-parallel-item:only-child::after {width: 0;}#sk-container-id-1 div.sk-dashed-wrapped {border: 1px dashed gray;margin: 0 0.4em 0.5em 0.4em;box-sizing: border-box;padding-bottom: 0.4em;background-color: white;}#sk-container-id-1 div.sk-label label {font-family: monospace;font-weight: bold;display: inline-block;line-height: 1.2em;}#sk-container-id-1 div.sk-label-container {text-align: center;}#sk-container-id-1 div.sk-container {/* jupyter's `normalize.less` sets `[hidden] { display: none; }` but bootstrap.min.css set `[hidden] { display: none !important; }` so we also need the `!important` here to be able to override the default hidden behavior on the sphinx rendered scikit-learn.org. See: https://github.com/scikit-learn/scikit-learn/issues/21755 */display: inline-block !important;position: relative;}#sk-container-id-1 div.sk-text-repr-fallback {display: none;}</style><div id=\"sk-container-id-1\" class=\"sk-top-container\"><div class=\"sk-text-repr-fallback\"><pre>XGBClassifier(base_score=None, booster=None, callbacks=None,\n              colsample_bylevel=None, colsample_bynode=None,\n              colsample_bytree=None, early_stopping_rounds=None,\n              enable_categorical=True, eval_metric=&#x27;logloss&#x27;,\n              feature_types=None, gamma=None, gpu_id=None, grow_policy=None,\n              importance_type=None, interaction_constraints=None,\n              learning_rate=None, max_bin=None, max_cat_threshold=None,\n              max_cat_to_onehot=None, max_delta_step=None, max_depth=2,\n              max_leaves=None, min_child_weight=None, missing=nan,\n              monotone_constraints=None, n_estimators=50, n_jobs=None,\n              num_parallel_tree=None, predictor=None, random_state=None, ...)</pre><b>In a Jupyter environment, please rerun this cell to show the HTML representation or trust the notebook. <br />On GitHub, the HTML representation is unable to render, please try loading this page with nbviewer.org.</b></div><div class=\"sk-container\" hidden><div class=\"sk-item\"><div class=\"sk-estimator sk-toggleable\"><input class=\"sk-toggleable__control sk-hidden--visually\" id=\"sk-estimator-id-1\" type=\"checkbox\" checked><label for=\"sk-estimator-id-1\" class=\"sk-toggleable__label sk-toggleable__label-arrow\">XGBClassifier</label><div class=\"sk-toggleable__content\"><pre>XGBClassifier(base_score=None, booster=None, callbacks=None,\n              colsample_bylevel=None, colsample_bynode=None,\n              colsample_bytree=None, early_stopping_rounds=None,\n              enable_categorical=True, eval_metric=&#x27;logloss&#x27;,\n              feature_types=None, gamma=None, gpu_id=None, grow_policy=None,\n              importance_type=None, interaction_constraints=None,\n              learning_rate=None, max_bin=None, max_cat_threshold=None,\n              max_cat_to_onehot=None, max_delta_step=None, max_depth=2,\n              max_leaves=None, min_child_weight=None, missing=nan,\n              monotone_constraints=None, n_estimators=50, n_jobs=None,\n              num_parallel_tree=None, predictor=None, random_state=None, ...)</pre></div></div></div></div></div>"
     },
     "execution_count": 37,
     "metadata": {},
     "output_type": "execute_result"
    }
   ],
   "source": [
    "model = xgboost.XGBClassifier(\n",
    "    n_estimators=50,\n",
    "    max_depth=2,\n",
    "    use_label_encoder=False,\n",
    "    eval_metric=\"logloss\",\n",
    "    enable_categorical=True,\n",
    "    tree_method=\"hist\"\n",
    ")\n",
    "\n",
    "model.fit(X, y)"
   ],
   "metadata": {
    "collapsed": false
   }
  },
  {
   "cell_type": "code",
   "execution_count": 38,
   "outputs": [],
   "source": [
    "def pf_xgboost_classifier_categorical(model, df):\n",
    "    df.loc[:, df.dtypes == 'object'] =\\\n",
    "        df.select_dtypes(['object'])\\\n",
    "        .apply(lambda x: x.astype('category'))\n",
    "    return model.predict_proba(df)[:, 1]"
   ],
   "metadata": {
    "collapsed": false
   }
  },
  {
   "cell_type": "code",
   "execution_count": 39,
   "outputs": [
    {
     "name": "stdout",
     "output_type": "stream",
     "text": [
      "Preparation of a new explainer is initiated\n",
      "\n",
      "  -> data              : 4601 rows 55 cols\n",
      "  -> target variable   : Parameter 'y' was a pandas.DataFrame. Converted to a numpy.ndarray.\n",
      "  -> target variable   : 4601 values\n",
      "  -> model_class       : xgboost.sklearn.XGBClassifier (default)\n",
      "  -> label             : Not specified, model's class short name will be used. (default)\n",
      "  -> predict function  : <function pf_xgboost_classifier_categorical at 0x000001E10484B5E0> will be used\n",
      "  -> predict function  : Accepts only pandas.DataFrame, numpy.ndarray causes problems.\n",
      "  -> predicted values  : min = 2.68e-05, mean = 0.394, max = 1.0\n",
      "  -> model type        : classification will be used (default)\n",
      "  -> residual function : difference between y and yhat (default)\n",
      "  -> residuals         : min = -0.997, mean = -2.73e-05, max = 0.993\n",
      "  -> model_info        : package xgboost\n",
      "\n",
      "A new explainer has been created!\n"
     ]
    }
   ],
   "source": [
    "XGexplainer = dx.Explainer(model, X, y, predict_function=pf_xgboost_classifier_categorical)"
   ],
   "metadata": {
    "collapsed": false
   }
  },
  {
   "cell_type": "code",
   "execution_count": 41,
   "outputs": [
    {
     "data": {
      "text/plain": "                          recall  precision        f1  accuracy       auc\nRandomForestClassifier  0.911748   0.976373  0.942955  0.956531  0.988882\nXGBClassifier           0.926089   0.955606  0.940616  0.953923  0.988560",
      "text/html": "<div>\n<style scoped>\n    .dataframe tbody tr th:only-of-type {\n        vertical-align: middle;\n    }\n\n    .dataframe tbody tr th {\n        vertical-align: top;\n    }\n\n    .dataframe thead th {\n        text-align: right;\n    }\n</style>\n<table border=\"1\" class=\"dataframe\">\n  <thead>\n    <tr style=\"text-align: right;\">\n      <th></th>\n      <th>recall</th>\n      <th>precision</th>\n      <th>f1</th>\n      <th>accuracy</th>\n      <th>auc</th>\n    </tr>\n  </thead>\n  <tbody>\n    <tr>\n      <th>RandomForestClassifier</th>\n      <td>0.911748</td>\n      <td>0.976373</td>\n      <td>0.942955</td>\n      <td>0.956531</td>\n      <td>0.988882</td>\n    </tr>\n    <tr>\n      <th>XGBClassifier</th>\n      <td>0.926089</td>\n      <td>0.955606</td>\n      <td>0.940616</td>\n      <td>0.953923</td>\n      <td>0.988560</td>\n    </tr>\n  </tbody>\n</table>\n</div>"
     },
     "execution_count": 41,
     "metadata": {},
     "output_type": "execute_result"
    }
   ],
   "source": [
    "pd.concat([RFexplainer.model_performance().result, XGexplainer.model_performance().result])"
   ],
   "metadata": {
    "collapsed": false
   }
  },
  {
   "cell_type": "code",
   "execution_count": 42,
   "outputs": [
    {
     "name": "stderr",
     "output_type": "stream",
     "text": [
      "Calculating ceteris paribus: 100%|██████████| 55/55 [00:01<00:00, 39.10it/s]\n"
     ]
    }
   ],
   "source": [
    "pdp_XG = XGexplainer.model_profile()"
   ],
   "metadata": {
    "collapsed": false
   }
  },
  {
   "cell_type": "code",
   "execution_count": 43,
   "outputs": [
    {
     "data": {
      "application/vnd.plotly.v1+json": {
       "data": [
        {
         "customdata": [
          [
           0.38574254512786865,
           "XGBClassifier",
           "char_freq_%24"
          ],
          [
           0.38574254512786865,
           "XGBClassifier",
           "char_freq_%24"
          ],
          [
           0.38574254512786865,
           "XGBClassifier",
           "char_freq_%24"
          ],
          [
           0.38574254512786865,
           "XGBClassifier",
           "char_freq_%24"
          ],
          [
           0.38574254512786865,
           "XGBClassifier",
           "char_freq_%24"
          ],
          [
           0.38574254512786865,
           "XGBClassifier",
           "char_freq_%24"
          ],
          [
           0.38574254512786865,
           "XGBClassifier",
           "char_freq_%24"
          ],
          [
           0.38574254512786865,
           "XGBClassifier",
           "char_freq_%24"
          ],
          [
           0.38574254512786865,
           "XGBClassifier",
           "char_freq_%24"
          ],
          [
           0.38574254512786865,
           "XGBClassifier",
           "char_freq_%24"
          ],
          [
           0.38574254512786865,
           "XGBClassifier",
           "char_freq_%24"
          ],
          [
           0.38574254512786865,
           "XGBClassifier",
           "char_freq_%24"
          ],
          [
           0.38574254512786865,
           "XGBClassifier",
           "char_freq_%24"
          ],
          [
           0.38574254512786865,
           "XGBClassifier",
           "char_freq_%24"
          ],
          [
           0.38574254512786865,
           "XGBClassifier",
           "char_freq_%24"
          ],
          [
           0.38574254512786865,
           "XGBClassifier",
           "char_freq_%24"
          ],
          [
           0.38574254512786865,
           "XGBClassifier",
           "char_freq_%24"
          ],
          [
           0.38574254512786865,
           "XGBClassifier",
           "char_freq_%24"
          ],
          [
           0.38574254512786865,
           "XGBClassifier",
           "char_freq_%24"
          ],
          [
           0.38574254512786865,
           "XGBClassifier",
           "char_freq_%24"
          ],
          [
           0.38574254512786865,
           "XGBClassifier",
           "char_freq_%24"
          ],
          [
           0.38574254512786865,
           "XGBClassifier",
           "char_freq_%24"
          ],
          [
           0.38574254512786865,
           "XGBClassifier",
           "char_freq_%24"
          ],
          [
           0.38574254512786865,
           "XGBClassifier",
           "char_freq_%24"
          ],
          [
           0.38574254512786865,
           "XGBClassifier",
           "char_freq_%24"
          ],
          [
           0.38574254512786865,
           "XGBClassifier",
           "char_freq_%24"
          ],
          [
           0.38574254512786865,
           "XGBClassifier",
           "char_freq_%24"
          ],
          [
           0.38574254512786865,
           "XGBClassifier",
           "char_freq_%24"
          ],
          [
           0.38574254512786865,
           "XGBClassifier",
           "char_freq_%24"
          ],
          [
           0.38574254512786865,
           "XGBClassifier",
           "char_freq_%24"
          ],
          [
           0.38574254512786865,
           "XGBClassifier",
           "char_freq_%24"
          ],
          [
           0.38574254512786865,
           "XGBClassifier",
           "char_freq_%24"
          ],
          [
           0.38574254512786865,
           "XGBClassifier",
           "char_freq_%24"
          ],
          [
           0.38574254512786865,
           "XGBClassifier",
           "char_freq_%24"
          ],
          [
           0.38574254512786865,
           "XGBClassifier",
           "char_freq_%24"
          ],
          [
           0.38574254512786865,
           "XGBClassifier",
           "char_freq_%24"
          ],
          [
           0.38574254512786865,
           "XGBClassifier",
           "char_freq_%24"
          ],
          [
           0.38574254512786865,
           "XGBClassifier",
           "char_freq_%24"
          ],
          [
           0.38574254512786865,
           "XGBClassifier",
           "char_freq_%24"
          ],
          [
           0.38574254512786865,
           "XGBClassifier",
           "char_freq_%24"
          ],
          [
           0.38574254512786865,
           "XGBClassifier",
           "char_freq_%24"
          ],
          [
           0.38574254512786865,
           "XGBClassifier",
           "char_freq_%24"
          ],
          [
           0.38574254512786865,
           "XGBClassifier",
           "char_freq_%24"
          ],
          [
           0.38574254512786865,
           "XGBClassifier",
           "char_freq_%24"
          ],
          [
           0.38574254512786865,
           "XGBClassifier",
           "char_freq_%24"
          ],
          [
           0.38574254512786865,
           "XGBClassifier",
           "char_freq_%24"
          ],
          [
           0.38574254512786865,
           "XGBClassifier",
           "char_freq_%24"
          ],
          [
           0.38574254512786865,
           "XGBClassifier",
           "char_freq_%24"
          ],
          [
           0.38574254512786865,
           "XGBClassifier",
           "char_freq_%24"
          ],
          [
           0.38574254512786865,
           "XGBClassifier",
           "char_freq_%24"
          ],
          [
           0.38574254512786865,
           "XGBClassifier",
           "char_freq_%24"
          ],
          [
           0.38574254512786865,
           "XGBClassifier",
           "char_freq_%24"
          ],
          [
           0.38574254512786865,
           "XGBClassifier",
           "char_freq_%24"
          ],
          [
           0.38574254512786865,
           "XGBClassifier",
           "char_freq_%24"
          ],
          [
           0.38574254512786865,
           "XGBClassifier",
           "char_freq_%24"
          ],
          [
           0.38574254512786865,
           "XGBClassifier",
           "char_freq_%24"
          ],
          [
           0.38574254512786865,
           "XGBClassifier",
           "char_freq_%24"
          ],
          [
           0.38574254512786865,
           "XGBClassifier",
           "char_freq_%24"
          ],
          [
           0.38574254512786865,
           "XGBClassifier",
           "char_freq_%24"
          ],
          [
           0.38574254512786865,
           "XGBClassifier",
           "char_freq_%24"
          ],
          [
           0.38574254512786865,
           "XGBClassifier",
           "char_freq_%24"
          ],
          [
           0.38574254512786865,
           "XGBClassifier",
           "char_freq_%24"
          ],
          [
           0.38574254512786865,
           "XGBClassifier",
           "char_freq_%24"
          ],
          [
           0.38574254512786865,
           "XGBClassifier",
           "char_freq_%24"
          ],
          [
           0.38574254512786865,
           "XGBClassifier",
           "char_freq_%24"
          ],
          [
           0.38574254512786865,
           "XGBClassifier",
           "char_freq_%24"
          ],
          [
           0.38574254512786865,
           "XGBClassifier",
           "char_freq_%24"
          ],
          [
           0.38574254512786865,
           "XGBClassifier",
           "char_freq_%24"
          ],
          [
           0.38574254512786865,
           "XGBClassifier",
           "char_freq_%24"
          ],
          [
           0.38574254512786865,
           "XGBClassifier",
           "char_freq_%24"
          ],
          [
           0.38574254512786865,
           "XGBClassifier",
           "char_freq_%24"
          ],
          [
           0.38574254512786865,
           "XGBClassifier",
           "char_freq_%24"
          ],
          [
           0.38574254512786865,
           "XGBClassifier",
           "char_freq_%24"
          ],
          [
           0.38574254512786865,
           "XGBClassifier",
           "char_freq_%24"
          ],
          [
           0.38574254512786865,
           "XGBClassifier",
           "char_freq_%24"
          ],
          [
           0.38574254512786865,
           "XGBClassifier",
           "char_freq_%24"
          ],
          [
           0.38574254512786865,
           "XGBClassifier",
           "char_freq_%24"
          ],
          [
           0.38574254512786865,
           "XGBClassifier",
           "char_freq_%24"
          ],
          [
           0.38574254512786865,
           "XGBClassifier",
           "char_freq_%24"
          ],
          [
           0.38574254512786865,
           "XGBClassifier",
           "char_freq_%24"
          ],
          [
           0.38574254512786865,
           "XGBClassifier",
           "char_freq_%24"
          ],
          [
           0.38574254512786865,
           "XGBClassifier",
           "char_freq_%24"
          ],
          [
           0.38574254512786865,
           "XGBClassifier",
           "char_freq_%24"
          ],
          [
           0.38574254512786865,
           "XGBClassifier",
           "char_freq_%24"
          ],
          [
           0.38574254512786865,
           "XGBClassifier",
           "char_freq_%24"
          ],
          [
           0.38574254512786865,
           "XGBClassifier",
           "char_freq_%24"
          ],
          [
           0.38574254512786865,
           "XGBClassifier",
           "char_freq_%24"
          ],
          [
           0.38574254512786865,
           "XGBClassifier",
           "char_freq_%24"
          ],
          [
           0.38574254512786865,
           "XGBClassifier",
           "char_freq_%24"
          ],
          [
           0.38574254512786865,
           "XGBClassifier",
           "char_freq_%24"
          ],
          [
           0.38574254512786865,
           "XGBClassifier",
           "char_freq_%24"
          ],
          [
           0.38574254512786865,
           "XGBClassifier",
           "char_freq_%24"
          ],
          [
           0.38574254512786865,
           "XGBClassifier",
           "char_freq_%24"
          ],
          [
           0.38574254512786865,
           "XGBClassifier",
           "char_freq_%24"
          ],
          [
           0.38574254512786865,
           "XGBClassifier",
           "char_freq_%24"
          ],
          [
           0.38574254512786865,
           "XGBClassifier",
           "char_freq_%24"
          ],
          [
           0.38574254512786865,
           "XGBClassifier",
           "char_freq_%24"
          ],
          [
           0.38574254512786865,
           "XGBClassifier",
           "char_freq_%24"
          ],
          [
           0.38574254512786865,
           "XGBClassifier",
           "char_freq_%24"
          ],
          [
           0.38574254512786865,
           "XGBClassifier",
           "char_freq_%24"
          ],
          [
           0.38574254512786865,
           "XGBClassifier",
           "char_freq_%24"
          ]
         ],
         "hovertemplate": "<b>%{hovertext}</b><br><br>prediction=%{y:.3f}<br>mean_prediction=%{customdata[0]:.3f}<extra></extra>",
         "hovertext": [
          "XGBClassifier",
          "XGBClassifier",
          "XGBClassifier",
          "XGBClassifier",
          "XGBClassifier",
          "XGBClassifier",
          "XGBClassifier",
          "XGBClassifier",
          "XGBClassifier",
          "XGBClassifier",
          "XGBClassifier",
          "XGBClassifier",
          "XGBClassifier",
          "XGBClassifier",
          "XGBClassifier",
          "XGBClassifier",
          "XGBClassifier",
          "XGBClassifier",
          "XGBClassifier",
          "XGBClassifier",
          "XGBClassifier",
          "XGBClassifier",
          "XGBClassifier",
          "XGBClassifier",
          "XGBClassifier",
          "XGBClassifier",
          "XGBClassifier",
          "XGBClassifier",
          "XGBClassifier",
          "XGBClassifier",
          "XGBClassifier",
          "XGBClassifier",
          "XGBClassifier",
          "XGBClassifier",
          "XGBClassifier",
          "XGBClassifier",
          "XGBClassifier",
          "XGBClassifier",
          "XGBClassifier",
          "XGBClassifier",
          "XGBClassifier",
          "XGBClassifier",
          "XGBClassifier",
          "XGBClassifier",
          "XGBClassifier",
          "XGBClassifier",
          "XGBClassifier",
          "XGBClassifier",
          "XGBClassifier",
          "XGBClassifier",
          "XGBClassifier",
          "XGBClassifier",
          "XGBClassifier",
          "XGBClassifier",
          "XGBClassifier",
          "XGBClassifier",
          "XGBClassifier",
          "XGBClassifier",
          "XGBClassifier",
          "XGBClassifier",
          "XGBClassifier",
          "XGBClassifier",
          "XGBClassifier",
          "XGBClassifier",
          "XGBClassifier",
          "XGBClassifier",
          "XGBClassifier",
          "XGBClassifier",
          "XGBClassifier",
          "XGBClassifier",
          "XGBClassifier",
          "XGBClassifier",
          "XGBClassifier",
          "XGBClassifier",
          "XGBClassifier",
          "XGBClassifier",
          "XGBClassifier",
          "XGBClassifier",
          "XGBClassifier",
          "XGBClassifier",
          "XGBClassifier",
          "XGBClassifier",
          "XGBClassifier",
          "XGBClassifier",
          "XGBClassifier",
          "XGBClassifier",
          "XGBClassifier",
          "XGBClassifier",
          "XGBClassifier",
          "XGBClassifier",
          "XGBClassifier",
          "XGBClassifier",
          "XGBClassifier",
          "XGBClassifier",
          "XGBClassifier",
          "XGBClassifier",
          "XGBClassifier",
          "XGBClassifier",
          "XGBClassifier",
          "XGBClassifier",
          "XGBClassifier"
         ],
         "legendgroup": "XGBClassifier",
         "line": {
          "color": "#8bdcbe",
          "dash": "solid",
          "width": 2
         },
         "marker": {
          "symbol": "circle"
         },
         "mode": "lines",
         "name": "XGBClassifier",
         "orientation": "v",
         "showlegend": true,
         "x": [
          0.0,
          0.06003,
          0.12006,
          0.18009,
          0.24012,
          0.30015000000000003,
          0.36018,
          0.42021,
          0.48024,
          0.54027,
          0.6003000000000001,
          0.66033,
          0.72036,
          0.78039,
          0.84042,
          0.90045,
          0.96048,
          1.02051,
          1.08054,
          1.14057,
          1.2006000000000001,
          1.26063,
          1.32066,
          1.38069,
          1.44072,
          1.50075,
          1.56078,
          1.62081,
          1.68084,
          1.74087,
          1.8009,
          1.86093,
          1.92096,
          1.98099,
          2.04102,
          2.10105,
          2.16108,
          2.22111,
          2.28114,
          2.34117,
          2.4012000000000002,
          2.46123,
          2.52126,
          2.58129,
          2.64132,
          2.70135,
          2.76138,
          2.82141,
          2.88144,
          2.94147,
          3.0015,
          3.06153,
          3.12156,
          3.18159,
          3.24162,
          3.30165,
          3.36168,
          3.42171,
          3.48174,
          3.54177,
          3.6018,
          3.66183,
          3.72186,
          3.78189,
          3.84192,
          3.90195,
          3.96198,
          4.02201,
          4.08204,
          4.14207,
          4.2021,
          4.26213,
          4.32216,
          4.38219,
          4.44222,
          4.50225,
          4.56228,
          4.62231,
          4.68234,
          4.74237,
          4.8024000000000004,
          4.86243,
          4.92246,
          4.98249,
          5.04252,
          5.10255,
          5.16258,
          5.22261,
          5.28264,
          5.34267,
          5.4027,
          5.46273,
          5.52276,
          5.58279,
          5.64282,
          5.70285,
          5.76288,
          5.82291,
          5.88294,
          5.94297,
          6.003
         ],
         "xaxis": "x",
         "y": [
          0.37631574273109436,
          0.47933751344680786,
          0.4839300215244293,
          0.488280713558197,
          0.488280713558197,
          0.488280713558197,
          0.488280713558197,
          0.488280713558197,
          0.488280713558197,
          0.488280713558197,
          0.488280713558197,
          0.488280713558197,
          0.488280713558197,
          0.488280713558197,
          0.488280713558197,
          0.488280713558197,
          0.488280713558197,
          0.488280713558197,
          0.488280713558197,
          0.488280713558197,
          0.488280713558197,
          0.488280713558197,
          0.488280713558197,
          0.488280713558197,
          0.488280713558197,
          0.488280713558197,
          0.488280713558197,
          0.488280713558197,
          0.488280713558197,
          0.488280713558197,
          0.488280713558197,
          0.488280713558197,
          0.488280713558197,
          0.488280713558197,
          0.488280713558197,
          0.488280713558197,
          0.488280713558197,
          0.488280713558197,
          0.488280713558197,
          0.488280713558197,
          0.488280713558197,
          0.488280713558197,
          0.488280713558197,
          0.488280713558197,
          0.488280713558197,
          0.488280713558197,
          0.488280713558197,
          0.488280713558197,
          0.488280713558197,
          0.488280713558197,
          0.488280713558197,
          0.488280713558197,
          0.488280713558197,
          0.488280713558197,
          0.488280713558197,
          0.488280713558197,
          0.488280713558197,
          0.488280713558197,
          0.488280713558197,
          0.488280713558197,
          0.488280713558197,
          0.488280713558197,
          0.488280713558197,
          0.488280713558197,
          0.488280713558197,
          0.488280713558197,
          0.488280713558197,
          0.488280713558197,
          0.488280713558197,
          0.488280713558197,
          0.488280713558197,
          0.488280713558197,
          0.488280713558197,
          0.488280713558197,
          0.488280713558197,
          0.488280713558197,
          0.488280713558197,
          0.488280713558197,
          0.488280713558197,
          0.488280713558197,
          0.488280713558197,
          0.488280713558197,
          0.488280713558197,
          0.488280713558197,
          0.488280713558197,
          0.488280713558197,
          0.488280713558197,
          0.488280713558197,
          0.488280713558197,
          0.488280713558197,
          0.488280713558197,
          0.488280713558197,
          0.488280713558197,
          0.488280713558197,
          0.488280713558197,
          0.488280713558197,
          0.488280713558197,
          0.488280713558197,
          0.488280713558197,
          0.488280713558197,
          0.488280713558197
         ],
         "yaxis": "y",
         "type": "scatter",
         "opacity": 1
        },
        {
         "customdata": [
          [
           0.38574254512786865,
           "XGBClassifier",
           "capital_run_length_average"
          ],
          [
           0.38574254512786865,
           "XGBClassifier",
           "capital_run_length_average"
          ],
          [
           0.38574254512786865,
           "XGBClassifier",
           "capital_run_length_average"
          ],
          [
           0.38574254512786865,
           "XGBClassifier",
           "capital_run_length_average"
          ],
          [
           0.38574254512786865,
           "XGBClassifier",
           "capital_run_length_average"
          ],
          [
           0.38574254512786865,
           "XGBClassifier",
           "capital_run_length_average"
          ],
          [
           0.38574254512786865,
           "XGBClassifier",
           "capital_run_length_average"
          ],
          [
           0.38574254512786865,
           "XGBClassifier",
           "capital_run_length_average"
          ],
          [
           0.38574254512786865,
           "XGBClassifier",
           "capital_run_length_average"
          ],
          [
           0.38574254512786865,
           "XGBClassifier",
           "capital_run_length_average"
          ],
          [
           0.38574254512786865,
           "XGBClassifier",
           "capital_run_length_average"
          ],
          [
           0.38574254512786865,
           "XGBClassifier",
           "capital_run_length_average"
          ],
          [
           0.38574254512786865,
           "XGBClassifier",
           "capital_run_length_average"
          ],
          [
           0.38574254512786865,
           "XGBClassifier",
           "capital_run_length_average"
          ],
          [
           0.38574254512786865,
           "XGBClassifier",
           "capital_run_length_average"
          ],
          [
           0.38574254512786865,
           "XGBClassifier",
           "capital_run_length_average"
          ],
          [
           0.38574254512786865,
           "XGBClassifier",
           "capital_run_length_average"
          ],
          [
           0.38574254512786865,
           "XGBClassifier",
           "capital_run_length_average"
          ],
          [
           0.38574254512786865,
           "XGBClassifier",
           "capital_run_length_average"
          ],
          [
           0.38574254512786865,
           "XGBClassifier",
           "capital_run_length_average"
          ],
          [
           0.38574254512786865,
           "XGBClassifier",
           "capital_run_length_average"
          ],
          [
           0.38574254512786865,
           "XGBClassifier",
           "capital_run_length_average"
          ],
          [
           0.38574254512786865,
           "XGBClassifier",
           "capital_run_length_average"
          ],
          [
           0.38574254512786865,
           "XGBClassifier",
           "capital_run_length_average"
          ],
          [
           0.38574254512786865,
           "XGBClassifier",
           "capital_run_length_average"
          ],
          [
           0.38574254512786865,
           "XGBClassifier",
           "capital_run_length_average"
          ],
          [
           0.38574254512786865,
           "XGBClassifier",
           "capital_run_length_average"
          ],
          [
           0.38574254512786865,
           "XGBClassifier",
           "capital_run_length_average"
          ],
          [
           0.38574254512786865,
           "XGBClassifier",
           "capital_run_length_average"
          ],
          [
           0.38574254512786865,
           "XGBClassifier",
           "capital_run_length_average"
          ],
          [
           0.38574254512786865,
           "XGBClassifier",
           "capital_run_length_average"
          ],
          [
           0.38574254512786865,
           "XGBClassifier",
           "capital_run_length_average"
          ],
          [
           0.38574254512786865,
           "XGBClassifier",
           "capital_run_length_average"
          ],
          [
           0.38574254512786865,
           "XGBClassifier",
           "capital_run_length_average"
          ],
          [
           0.38574254512786865,
           "XGBClassifier",
           "capital_run_length_average"
          ],
          [
           0.38574254512786865,
           "XGBClassifier",
           "capital_run_length_average"
          ],
          [
           0.38574254512786865,
           "XGBClassifier",
           "capital_run_length_average"
          ],
          [
           0.38574254512786865,
           "XGBClassifier",
           "capital_run_length_average"
          ],
          [
           0.38574254512786865,
           "XGBClassifier",
           "capital_run_length_average"
          ],
          [
           0.38574254512786865,
           "XGBClassifier",
           "capital_run_length_average"
          ],
          [
           0.38574254512786865,
           "XGBClassifier",
           "capital_run_length_average"
          ],
          [
           0.38574254512786865,
           "XGBClassifier",
           "capital_run_length_average"
          ],
          [
           0.38574254512786865,
           "XGBClassifier",
           "capital_run_length_average"
          ],
          [
           0.38574254512786865,
           "XGBClassifier",
           "capital_run_length_average"
          ],
          [
           0.38574254512786865,
           "XGBClassifier",
           "capital_run_length_average"
          ],
          [
           0.38574254512786865,
           "XGBClassifier",
           "capital_run_length_average"
          ],
          [
           0.38574254512786865,
           "XGBClassifier",
           "capital_run_length_average"
          ],
          [
           0.38574254512786865,
           "XGBClassifier",
           "capital_run_length_average"
          ],
          [
           0.38574254512786865,
           "XGBClassifier",
           "capital_run_length_average"
          ],
          [
           0.38574254512786865,
           "XGBClassifier",
           "capital_run_length_average"
          ],
          [
           0.38574254512786865,
           "XGBClassifier",
           "capital_run_length_average"
          ],
          [
           0.38574254512786865,
           "XGBClassifier",
           "capital_run_length_average"
          ],
          [
           0.38574254512786865,
           "XGBClassifier",
           "capital_run_length_average"
          ],
          [
           0.38574254512786865,
           "XGBClassifier",
           "capital_run_length_average"
          ],
          [
           0.38574254512786865,
           "XGBClassifier",
           "capital_run_length_average"
          ],
          [
           0.38574254512786865,
           "XGBClassifier",
           "capital_run_length_average"
          ],
          [
           0.38574254512786865,
           "XGBClassifier",
           "capital_run_length_average"
          ],
          [
           0.38574254512786865,
           "XGBClassifier",
           "capital_run_length_average"
          ],
          [
           0.38574254512786865,
           "XGBClassifier",
           "capital_run_length_average"
          ],
          [
           0.38574254512786865,
           "XGBClassifier",
           "capital_run_length_average"
          ],
          [
           0.38574254512786865,
           "XGBClassifier",
           "capital_run_length_average"
          ],
          [
           0.38574254512786865,
           "XGBClassifier",
           "capital_run_length_average"
          ],
          [
           0.38574254512786865,
           "XGBClassifier",
           "capital_run_length_average"
          ],
          [
           0.38574254512786865,
           "XGBClassifier",
           "capital_run_length_average"
          ],
          [
           0.38574254512786865,
           "XGBClassifier",
           "capital_run_length_average"
          ],
          [
           0.38574254512786865,
           "XGBClassifier",
           "capital_run_length_average"
          ],
          [
           0.38574254512786865,
           "XGBClassifier",
           "capital_run_length_average"
          ],
          [
           0.38574254512786865,
           "XGBClassifier",
           "capital_run_length_average"
          ],
          [
           0.38574254512786865,
           "XGBClassifier",
           "capital_run_length_average"
          ],
          [
           0.38574254512786865,
           "XGBClassifier",
           "capital_run_length_average"
          ],
          [
           0.38574254512786865,
           "XGBClassifier",
           "capital_run_length_average"
          ],
          [
           0.38574254512786865,
           "XGBClassifier",
           "capital_run_length_average"
          ],
          [
           0.38574254512786865,
           "XGBClassifier",
           "capital_run_length_average"
          ],
          [
           0.38574254512786865,
           "XGBClassifier",
           "capital_run_length_average"
          ],
          [
           0.38574254512786865,
           "XGBClassifier",
           "capital_run_length_average"
          ],
          [
           0.38574254512786865,
           "XGBClassifier",
           "capital_run_length_average"
          ],
          [
           0.38574254512786865,
           "XGBClassifier",
           "capital_run_length_average"
          ],
          [
           0.38574254512786865,
           "XGBClassifier",
           "capital_run_length_average"
          ],
          [
           0.38574254512786865,
           "XGBClassifier",
           "capital_run_length_average"
          ],
          [
           0.38574254512786865,
           "XGBClassifier",
           "capital_run_length_average"
          ],
          [
           0.38574254512786865,
           "XGBClassifier",
           "capital_run_length_average"
          ],
          [
           0.38574254512786865,
           "XGBClassifier",
           "capital_run_length_average"
          ],
          [
           0.38574254512786865,
           "XGBClassifier",
           "capital_run_length_average"
          ],
          [
           0.38574254512786865,
           "XGBClassifier",
           "capital_run_length_average"
          ],
          [
           0.38574254512786865,
           "XGBClassifier",
           "capital_run_length_average"
          ],
          [
           0.38574254512786865,
           "XGBClassifier",
           "capital_run_length_average"
          ],
          [
           0.38574254512786865,
           "XGBClassifier",
           "capital_run_length_average"
          ],
          [
           0.38574254512786865,
           "XGBClassifier",
           "capital_run_length_average"
          ],
          [
           0.38574254512786865,
           "XGBClassifier",
           "capital_run_length_average"
          ],
          [
           0.38574254512786865,
           "XGBClassifier",
           "capital_run_length_average"
          ],
          [
           0.38574254512786865,
           "XGBClassifier",
           "capital_run_length_average"
          ],
          [
           0.38574254512786865,
           "XGBClassifier",
           "capital_run_length_average"
          ],
          [
           0.38574254512786865,
           "XGBClassifier",
           "capital_run_length_average"
          ],
          [
           0.38574254512786865,
           "XGBClassifier",
           "capital_run_length_average"
          ],
          [
           0.38574254512786865,
           "XGBClassifier",
           "capital_run_length_average"
          ],
          [
           0.38574254512786865,
           "XGBClassifier",
           "capital_run_length_average"
          ],
          [
           0.38574254512786865,
           "XGBClassifier",
           "capital_run_length_average"
          ],
          [
           0.38574254512786865,
           "XGBClassifier",
           "capital_run_length_average"
          ],
          [
           0.38574254512786865,
           "XGBClassifier",
           "capital_run_length_average"
          ],
          [
           0.38574254512786865,
           "XGBClassifier",
           "capital_run_length_average"
          ],
          [
           0.38574254512786865,
           "XGBClassifier",
           "capital_run_length_average"
          ]
         ],
         "hovertemplate": "<b>%{hovertext}</b><br><br>prediction=%{y:.3f}<br>mean_prediction=%{customdata[0]:.3f}<extra></extra>",
         "hovertext": [
          "XGBClassifier",
          "XGBClassifier",
          "XGBClassifier",
          "XGBClassifier",
          "XGBClassifier",
          "XGBClassifier",
          "XGBClassifier",
          "XGBClassifier",
          "XGBClassifier",
          "XGBClassifier",
          "XGBClassifier",
          "XGBClassifier",
          "XGBClassifier",
          "XGBClassifier",
          "XGBClassifier",
          "XGBClassifier",
          "XGBClassifier",
          "XGBClassifier",
          "XGBClassifier",
          "XGBClassifier",
          "XGBClassifier",
          "XGBClassifier",
          "XGBClassifier",
          "XGBClassifier",
          "XGBClassifier",
          "XGBClassifier",
          "XGBClassifier",
          "XGBClassifier",
          "XGBClassifier",
          "XGBClassifier",
          "XGBClassifier",
          "XGBClassifier",
          "XGBClassifier",
          "XGBClassifier",
          "XGBClassifier",
          "XGBClassifier",
          "XGBClassifier",
          "XGBClassifier",
          "XGBClassifier",
          "XGBClassifier",
          "XGBClassifier",
          "XGBClassifier",
          "XGBClassifier",
          "XGBClassifier",
          "XGBClassifier",
          "XGBClassifier",
          "XGBClassifier",
          "XGBClassifier",
          "XGBClassifier",
          "XGBClassifier",
          "XGBClassifier",
          "XGBClassifier",
          "XGBClassifier",
          "XGBClassifier",
          "XGBClassifier",
          "XGBClassifier",
          "XGBClassifier",
          "XGBClassifier",
          "XGBClassifier",
          "XGBClassifier",
          "XGBClassifier",
          "XGBClassifier",
          "XGBClassifier",
          "XGBClassifier",
          "XGBClassifier",
          "XGBClassifier",
          "XGBClassifier",
          "XGBClassifier",
          "XGBClassifier",
          "XGBClassifier",
          "XGBClassifier",
          "XGBClassifier",
          "XGBClassifier",
          "XGBClassifier",
          "XGBClassifier",
          "XGBClassifier",
          "XGBClassifier",
          "XGBClassifier",
          "XGBClassifier",
          "XGBClassifier",
          "XGBClassifier",
          "XGBClassifier",
          "XGBClassifier",
          "XGBClassifier",
          "XGBClassifier",
          "XGBClassifier",
          "XGBClassifier",
          "XGBClassifier",
          "XGBClassifier",
          "XGBClassifier",
          "XGBClassifier",
          "XGBClassifier",
          "XGBClassifier",
          "XGBClassifier",
          "XGBClassifier",
          "XGBClassifier",
          "XGBClassifier",
          "XGBClassifier",
          "XGBClassifier",
          "XGBClassifier",
          "XGBClassifier"
         ],
         "legendgroup": "XGBClassifier",
         "line": {
          "color": "#8bdcbe",
          "dash": "solid",
          "width": 2
         },
         "marker": {
          "symbol": "circle"
         },
         "mode": "lines",
         "name": "XGBClassifier",
         "orientation": "v",
         "showlegend": false,
         "x": [
          1.0,
          12.015,
          23.03,
          34.045,
          45.06,
          56.075,
          67.09,
          78.105,
          89.12,
          100.135,
          111.15,
          122.165,
          133.18,
          144.195,
          155.21,
          166.22500000000002,
          177.24,
          188.255,
          199.27,
          210.28500000000003,
          221.3,
          232.315,
          243.33,
          254.34500000000003,
          265.36,
          276.375,
          287.39,
          298.40500000000003,
          309.42,
          320.435,
          331.45000000000005,
          342.46500000000003,
          353.48,
          364.495,
          375.51,
          386.52500000000003,
          397.54,
          408.555,
          419.57000000000005,
          430.58500000000004,
          441.6,
          452.615,
          463.63,
          474.64500000000004,
          485.66,
          496.675,
          507.69000000000005,
          518.705,
          529.72,
          540.735,
          551.75,
          562.765,
          573.78,
          584.7950000000001,
          595.8100000000001,
          606.825,
          617.84,
          628.855,
          639.87,
          650.885,
          661.9000000000001,
          672.9150000000001,
          683.9300000000001,
          694.945,
          705.96,
          716.975,
          727.99,
          739.005,
          750.02,
          761.0350000000001,
          772.0500000000001,
          783.065,
          794.08,
          805.095,
          816.11,
          827.125,
          838.1400000000001,
          849.1550000000001,
          860.1700000000001,
          871.1850000000001,
          882.2,
          893.215,
          904.23,
          915.245,
          926.26,
          937.2750000000001,
          948.2900000000001,
          959.3050000000001,
          970.32,
          981.335,
          992.35,
          1003.365,
          1014.3800000000001,
          1025.395,
          1036.41,
          1047.425,
          1058.44,
          1069.4550000000002,
          1080.47,
          1091.4850000000001,
          1102.5
         ],
         "xaxis": "x2",
         "y": [
          0.3431389033794403,
          0.47365468740463257,
          0.47365468740463257,
          0.47365468740463257,
          0.47365468740463257,
          0.47365468740463257,
          0.47365468740463257,
          0.47365468740463257,
          0.47365468740463257,
          0.47365468740463257,
          0.47365468740463257,
          0.47365468740463257,
          0.47365468740463257,
          0.47365468740463257,
          0.47365468740463257,
          0.47365468740463257,
          0.47365468740463257,
          0.47365468740463257,
          0.47365468740463257,
          0.47365468740463257,
          0.47365468740463257,
          0.47365468740463257,
          0.47365468740463257,
          0.47365468740463257,
          0.47365468740463257,
          0.47365468740463257,
          0.47365468740463257,
          0.47365468740463257,
          0.47365468740463257,
          0.47365468740463257,
          0.47365468740463257,
          0.47365468740463257,
          0.47365468740463257,
          0.47365468740463257,
          0.47365468740463257,
          0.47365468740463257,
          0.47365468740463257,
          0.47365468740463257,
          0.47365468740463257,
          0.47365468740463257,
          0.47365468740463257,
          0.47365468740463257,
          0.47365468740463257,
          0.47365468740463257,
          0.47365468740463257,
          0.47365468740463257,
          0.47365468740463257,
          0.47365468740463257,
          0.47365468740463257,
          0.47365468740463257,
          0.47365468740463257,
          0.47365468740463257,
          0.47365468740463257,
          0.47365468740463257,
          0.47365468740463257,
          0.47365468740463257,
          0.47365468740463257,
          0.47365468740463257,
          0.47365468740463257,
          0.47365468740463257,
          0.47365468740463257,
          0.47365468740463257,
          0.47365468740463257,
          0.47365468740463257,
          0.47365468740463257,
          0.47365468740463257,
          0.47365468740463257,
          0.47365468740463257,
          0.47365468740463257,
          0.47365468740463257,
          0.47365468740463257,
          0.47365468740463257,
          0.47365468740463257,
          0.47365468740463257,
          0.47365468740463257,
          0.47365468740463257,
          0.47365468740463257,
          0.47365468740463257,
          0.47365468740463257,
          0.47365468740463257,
          0.47365468740463257,
          0.47365468740463257,
          0.47365468740463257,
          0.47365468740463257,
          0.47365468740463257,
          0.47365468740463257,
          0.47365468740463257,
          0.47365468740463257,
          0.47365468740463257,
          0.47365468740463257,
          0.47365468740463257,
          0.47365468740463257,
          0.47365468740463257,
          0.47365468740463257,
          0.47365468740463257,
          0.47365468740463257,
          0.47365468740463257,
          0.47365468740463257,
          0.47365468740463257,
          0.47365468740463257,
          0.47365468740463257
         ],
         "yaxis": "y2",
         "type": "scatter",
         "opacity": 1
        },
        {
         "customdata": [
          [
           0.44273235621212725,
           "RandomForestClassifier",
           "char_freq_%24"
          ],
          [
           0.44273235621212725,
           "RandomForestClassifier",
           "char_freq_%24"
          ],
          [
           0.44273235621212725,
           "RandomForestClassifier",
           "char_freq_%24"
          ],
          [
           0.44273235621212725,
           "RandomForestClassifier",
           "char_freq_%24"
          ],
          [
           0.44273235621212725,
           "RandomForestClassifier",
           "char_freq_%24"
          ],
          [
           0.44273235621212725,
           "RandomForestClassifier",
           "char_freq_%24"
          ],
          [
           0.44273235621212725,
           "RandomForestClassifier",
           "char_freq_%24"
          ],
          [
           0.44273235621212725,
           "RandomForestClassifier",
           "char_freq_%24"
          ],
          [
           0.44273235621212725,
           "RandomForestClassifier",
           "char_freq_%24"
          ],
          [
           0.44273235621212725,
           "RandomForestClassifier",
           "char_freq_%24"
          ],
          [
           0.44273235621212725,
           "RandomForestClassifier",
           "char_freq_%24"
          ],
          [
           0.44273235621212725,
           "RandomForestClassifier",
           "char_freq_%24"
          ],
          [
           0.44273235621212725,
           "RandomForestClassifier",
           "char_freq_%24"
          ],
          [
           0.44273235621212725,
           "RandomForestClassifier",
           "char_freq_%24"
          ],
          [
           0.44273235621212725,
           "RandomForestClassifier",
           "char_freq_%24"
          ],
          [
           0.44273235621212725,
           "RandomForestClassifier",
           "char_freq_%24"
          ],
          [
           0.44273235621212725,
           "RandomForestClassifier",
           "char_freq_%24"
          ],
          [
           0.44273235621212725,
           "RandomForestClassifier",
           "char_freq_%24"
          ],
          [
           0.44273235621212725,
           "RandomForestClassifier",
           "char_freq_%24"
          ],
          [
           0.44273235621212725,
           "RandomForestClassifier",
           "char_freq_%24"
          ],
          [
           0.44273235621212725,
           "RandomForestClassifier",
           "char_freq_%24"
          ],
          [
           0.44273235621212725,
           "RandomForestClassifier",
           "char_freq_%24"
          ],
          [
           0.44273235621212725,
           "RandomForestClassifier",
           "char_freq_%24"
          ],
          [
           0.44273235621212725,
           "RandomForestClassifier",
           "char_freq_%24"
          ],
          [
           0.44273235621212725,
           "RandomForestClassifier",
           "char_freq_%24"
          ],
          [
           0.44273235621212725,
           "RandomForestClassifier",
           "char_freq_%24"
          ],
          [
           0.44273235621212725,
           "RandomForestClassifier",
           "char_freq_%24"
          ],
          [
           0.44273235621212725,
           "RandomForestClassifier",
           "char_freq_%24"
          ],
          [
           0.44273235621212725,
           "RandomForestClassifier",
           "char_freq_%24"
          ],
          [
           0.44273235621212725,
           "RandomForestClassifier",
           "char_freq_%24"
          ],
          [
           0.44273235621212725,
           "RandomForestClassifier",
           "char_freq_%24"
          ],
          [
           0.44273235621212725,
           "RandomForestClassifier",
           "char_freq_%24"
          ],
          [
           0.44273235621212725,
           "RandomForestClassifier",
           "char_freq_%24"
          ],
          [
           0.44273235621212725,
           "RandomForestClassifier",
           "char_freq_%24"
          ],
          [
           0.44273235621212725,
           "RandomForestClassifier",
           "char_freq_%24"
          ],
          [
           0.44273235621212725,
           "RandomForestClassifier",
           "char_freq_%24"
          ],
          [
           0.44273235621212725,
           "RandomForestClassifier",
           "char_freq_%24"
          ],
          [
           0.44273235621212725,
           "RandomForestClassifier",
           "char_freq_%24"
          ],
          [
           0.44273235621212725,
           "RandomForestClassifier",
           "char_freq_%24"
          ],
          [
           0.44273235621212725,
           "RandomForestClassifier",
           "char_freq_%24"
          ],
          [
           0.44273235621212725,
           "RandomForestClassifier",
           "char_freq_%24"
          ],
          [
           0.44273235621212725,
           "RandomForestClassifier",
           "char_freq_%24"
          ],
          [
           0.44273235621212725,
           "RandomForestClassifier",
           "char_freq_%24"
          ],
          [
           0.44273235621212725,
           "RandomForestClassifier",
           "char_freq_%24"
          ],
          [
           0.44273235621212725,
           "RandomForestClassifier",
           "char_freq_%24"
          ],
          [
           0.44273235621212725,
           "RandomForestClassifier",
           "char_freq_%24"
          ],
          [
           0.44273235621212725,
           "RandomForestClassifier",
           "char_freq_%24"
          ],
          [
           0.44273235621212725,
           "RandomForestClassifier",
           "char_freq_%24"
          ],
          [
           0.44273235621212725,
           "RandomForestClassifier",
           "char_freq_%24"
          ],
          [
           0.44273235621212725,
           "RandomForestClassifier",
           "char_freq_%24"
          ],
          [
           0.44273235621212725,
           "RandomForestClassifier",
           "char_freq_%24"
          ],
          [
           0.44273235621212725,
           "RandomForestClassifier",
           "char_freq_%24"
          ],
          [
           0.44273235621212725,
           "RandomForestClassifier",
           "char_freq_%24"
          ],
          [
           0.44273235621212725,
           "RandomForestClassifier",
           "char_freq_%24"
          ],
          [
           0.44273235621212725,
           "RandomForestClassifier",
           "char_freq_%24"
          ],
          [
           0.44273235621212725,
           "RandomForestClassifier",
           "char_freq_%24"
          ],
          [
           0.44273235621212725,
           "RandomForestClassifier",
           "char_freq_%24"
          ],
          [
           0.44273235621212725,
           "RandomForestClassifier",
           "char_freq_%24"
          ],
          [
           0.44273235621212725,
           "RandomForestClassifier",
           "char_freq_%24"
          ],
          [
           0.44273235621212725,
           "RandomForestClassifier",
           "char_freq_%24"
          ],
          [
           0.44273235621212725,
           "RandomForestClassifier",
           "char_freq_%24"
          ],
          [
           0.44273235621212725,
           "RandomForestClassifier",
           "char_freq_%24"
          ],
          [
           0.44273235621212725,
           "RandomForestClassifier",
           "char_freq_%24"
          ],
          [
           0.44273235621212725,
           "RandomForestClassifier",
           "char_freq_%24"
          ],
          [
           0.44273235621212725,
           "RandomForestClassifier",
           "char_freq_%24"
          ],
          [
           0.44273235621212725,
           "RandomForestClassifier",
           "char_freq_%24"
          ],
          [
           0.44273235621212725,
           "RandomForestClassifier",
           "char_freq_%24"
          ],
          [
           0.44273235621212725,
           "RandomForestClassifier",
           "char_freq_%24"
          ],
          [
           0.44273235621212725,
           "RandomForestClassifier",
           "char_freq_%24"
          ],
          [
           0.44273235621212725,
           "RandomForestClassifier",
           "char_freq_%24"
          ],
          [
           0.44273235621212725,
           "RandomForestClassifier",
           "char_freq_%24"
          ],
          [
           0.44273235621212725,
           "RandomForestClassifier",
           "char_freq_%24"
          ],
          [
           0.44273235621212725,
           "RandomForestClassifier",
           "char_freq_%24"
          ],
          [
           0.44273235621212725,
           "RandomForestClassifier",
           "char_freq_%24"
          ],
          [
           0.44273235621212725,
           "RandomForestClassifier",
           "char_freq_%24"
          ],
          [
           0.44273235621212725,
           "RandomForestClassifier",
           "char_freq_%24"
          ],
          [
           0.44273235621212725,
           "RandomForestClassifier",
           "char_freq_%24"
          ],
          [
           0.44273235621212725,
           "RandomForestClassifier",
           "char_freq_%24"
          ],
          [
           0.44273235621212725,
           "RandomForestClassifier",
           "char_freq_%24"
          ],
          [
           0.44273235621212725,
           "RandomForestClassifier",
           "char_freq_%24"
          ],
          [
           0.44273235621212725,
           "RandomForestClassifier",
           "char_freq_%24"
          ],
          [
           0.44273235621212725,
           "RandomForestClassifier",
           "char_freq_%24"
          ],
          [
           0.44273235621212725,
           "RandomForestClassifier",
           "char_freq_%24"
          ],
          [
           0.44273235621212725,
           "RandomForestClassifier",
           "char_freq_%24"
          ],
          [
           0.44273235621212725,
           "RandomForestClassifier",
           "char_freq_%24"
          ],
          [
           0.44273235621212725,
           "RandomForestClassifier",
           "char_freq_%24"
          ],
          [
           0.44273235621212725,
           "RandomForestClassifier",
           "char_freq_%24"
          ],
          [
           0.44273235621212725,
           "RandomForestClassifier",
           "char_freq_%24"
          ],
          [
           0.44273235621212725,
           "RandomForestClassifier",
           "char_freq_%24"
          ],
          [
           0.44273235621212725,
           "RandomForestClassifier",
           "char_freq_%24"
          ],
          [
           0.44273235621212725,
           "RandomForestClassifier",
           "char_freq_%24"
          ],
          [
           0.44273235621212725,
           "RandomForestClassifier",
           "char_freq_%24"
          ],
          [
           0.44273235621212725,
           "RandomForestClassifier",
           "char_freq_%24"
          ],
          [
           0.44273235621212725,
           "RandomForestClassifier",
           "char_freq_%24"
          ],
          [
           0.44273235621212725,
           "RandomForestClassifier",
           "char_freq_%24"
          ],
          [
           0.44273235621212725,
           "RandomForestClassifier",
           "char_freq_%24"
          ],
          [
           0.44273235621212725,
           "RandomForestClassifier",
           "char_freq_%24"
          ],
          [
           0.44273235621212725,
           "RandomForestClassifier",
           "char_freq_%24"
          ],
          [
           0.44273235621212725,
           "RandomForestClassifier",
           "char_freq_%24"
          ],
          [
           0.44273235621212725,
           "RandomForestClassifier",
           "char_freq_%24"
          ],
          [
           0.44273235621212725,
           "RandomForestClassifier",
           "char_freq_%24"
          ]
         ],
         "hovertemplate": "<b>%{hovertext}</b><br><br>prediction=%{y:.3f}<br>mean_prediction=%{customdata[0]:.3f}<extra></extra>",
         "hovertext": [
          "RandomForestClassifier",
          "RandomForestClassifier",
          "RandomForestClassifier",
          "RandomForestClassifier",
          "RandomForestClassifier",
          "RandomForestClassifier",
          "RandomForestClassifier",
          "RandomForestClassifier",
          "RandomForestClassifier",
          "RandomForestClassifier",
          "RandomForestClassifier",
          "RandomForestClassifier",
          "RandomForestClassifier",
          "RandomForestClassifier",
          "RandomForestClassifier",
          "RandomForestClassifier",
          "RandomForestClassifier",
          "RandomForestClassifier",
          "RandomForestClassifier",
          "RandomForestClassifier",
          "RandomForestClassifier",
          "RandomForestClassifier",
          "RandomForestClassifier",
          "RandomForestClassifier",
          "RandomForestClassifier",
          "RandomForestClassifier",
          "RandomForestClassifier",
          "RandomForestClassifier",
          "RandomForestClassifier",
          "RandomForestClassifier",
          "RandomForestClassifier",
          "RandomForestClassifier",
          "RandomForestClassifier",
          "RandomForestClassifier",
          "RandomForestClassifier",
          "RandomForestClassifier",
          "RandomForestClassifier",
          "RandomForestClassifier",
          "RandomForestClassifier",
          "RandomForestClassifier",
          "RandomForestClassifier",
          "RandomForestClassifier",
          "RandomForestClassifier",
          "RandomForestClassifier",
          "RandomForestClassifier",
          "RandomForestClassifier",
          "RandomForestClassifier",
          "RandomForestClassifier",
          "RandomForestClassifier",
          "RandomForestClassifier",
          "RandomForestClassifier",
          "RandomForestClassifier",
          "RandomForestClassifier",
          "RandomForestClassifier",
          "RandomForestClassifier",
          "RandomForestClassifier",
          "RandomForestClassifier",
          "RandomForestClassifier",
          "RandomForestClassifier",
          "RandomForestClassifier",
          "RandomForestClassifier",
          "RandomForestClassifier",
          "RandomForestClassifier",
          "RandomForestClassifier",
          "RandomForestClassifier",
          "RandomForestClassifier",
          "RandomForestClassifier",
          "RandomForestClassifier",
          "RandomForestClassifier",
          "RandomForestClassifier",
          "RandomForestClassifier",
          "RandomForestClassifier",
          "RandomForestClassifier",
          "RandomForestClassifier",
          "RandomForestClassifier",
          "RandomForestClassifier",
          "RandomForestClassifier",
          "RandomForestClassifier",
          "RandomForestClassifier",
          "RandomForestClassifier",
          "RandomForestClassifier",
          "RandomForestClassifier",
          "RandomForestClassifier",
          "RandomForestClassifier",
          "RandomForestClassifier",
          "RandomForestClassifier",
          "RandomForestClassifier",
          "RandomForestClassifier",
          "RandomForestClassifier",
          "RandomForestClassifier",
          "RandomForestClassifier",
          "RandomForestClassifier",
          "RandomForestClassifier",
          "RandomForestClassifier",
          "RandomForestClassifier",
          "RandomForestClassifier",
          "RandomForestClassifier",
          "RandomForestClassifier",
          "RandomForestClassifier",
          "RandomForestClassifier",
          "RandomForestClassifier"
         ],
         "legendgroup": "RandomForestClassifier",
         "line": {
          "color": "#4378bf",
          "dash": "solid",
          "width": 2
         },
         "marker": {
          "symbol": "circle"
         },
         "mode": "lines",
         "name": "RandomForestClassifier",
         "orientation": "v",
         "showlegend": true,
         "x": [
          0.0,
          0.06003,
          0.12006,
          0.18009,
          0.24012,
          0.30015000000000003,
          0.36018,
          0.42021,
          0.48024,
          0.54027,
          0.6003000000000001,
          0.66033,
          0.72036,
          0.78039,
          0.84042,
          0.90045,
          0.96048,
          1.02051,
          1.08054,
          1.14057,
          1.2006000000000001,
          1.26063,
          1.32066,
          1.38069,
          1.44072,
          1.50075,
          1.56078,
          1.62081,
          1.68084,
          1.74087,
          1.8009,
          1.86093,
          1.92096,
          1.98099,
          2.04102,
          2.10105,
          2.16108,
          2.22111,
          2.28114,
          2.34117,
          2.4012000000000002,
          2.46123,
          2.52126,
          2.58129,
          2.64132,
          2.70135,
          2.76138,
          2.82141,
          2.88144,
          2.94147,
          3.0015,
          3.06153,
          3.12156,
          3.18159,
          3.24162,
          3.30165,
          3.36168,
          3.42171,
          3.48174,
          3.54177,
          3.6018,
          3.66183,
          3.72186,
          3.78189,
          3.84192,
          3.90195,
          3.96198,
          4.02201,
          4.08204,
          4.14207,
          4.2021,
          4.26213,
          4.32216,
          4.38219,
          4.44222,
          4.50225,
          4.56228,
          4.62231,
          4.68234,
          4.74237,
          4.8024000000000004,
          4.86243,
          4.92246,
          4.98249,
          5.04252,
          5.10255,
          5.16258,
          5.22261,
          5.28264,
          5.34267,
          5.4027,
          5.46273,
          5.52276,
          5.58279,
          5.64282,
          5.70285,
          5.76288,
          5.82291,
          5.88294,
          5.94297,
          6.003
         ],
         "xaxis": "x",
         "y": [
          0.3981231397650438,
          0.5231107169467032,
          0.5460381857942819,
          0.5723355008540723,
          0.5744754062516557,
          0.5771853414368409,
          0.5785007968447881,
          0.5780960349400263,
          0.5782460349400261,
          0.5764476583166496,
          0.5756944521253837,
          0.5763623383042454,
          0.5765548548879934,
          0.5766094003425388,
          0.5766094003425388,
          0.578742613879526,
          0.578742613879526,
          0.5795633149067381,
          0.5798158722259621,
          0.5809644537862457,
          0.5809644537862457,
          0.5809644537862457,
          0.5809644537862457,
          0.5809644537862457,
          0.5809644537862457,
          0.5809644537862457,
          0.5809644537862457,
          0.5809644537862457,
          0.5809644537862457,
          0.5809644537862457,
          0.5809644537862457,
          0.5807311204529124,
          0.5807311204529124,
          0.5813811204529125,
          0.5873466371506753,
          0.5873466371506753,
          0.5873466371506753,
          0.5873466371506753,
          0.5873466371506753,
          0.5873466371506753,
          0.5873466371506753,
          0.5873466371506753,
          0.5873466371506753,
          0.5873466371506753,
          0.5873466371506753,
          0.5873466371506753,
          0.5873466371506753,
          0.5873466371506753,
          0.5873466371506753,
          0.5873466371506753,
          0.5873466371506753,
          0.5873466371506753,
          0.5873466371506753,
          0.5873466371506753,
          0.5873466371506753,
          0.5873466371506753,
          0.5873466371506753,
          0.5873466371506753,
          0.5873466371506753,
          0.5873466371506753,
          0.5873466371506753,
          0.5873466371506753,
          0.5873466371506753,
          0.5873466371506753,
          0.5873466371506753,
          0.5873466371506753,
          0.5873466371506753,
          0.5873466371506753,
          0.5873466371506753,
          0.5873466371506753,
          0.5873466371506753,
          0.5873466371506753,
          0.5873466371506753,
          0.5873466371506753,
          0.5873466371506753,
          0.5873466371506753,
          0.5873466371506753,
          0.5873466371506753,
          0.5873466371506753,
          0.5873466371506753,
          0.5873466371506753,
          0.5873466371506753,
          0.5873466371506753,
          0.5873466371506753,
          0.5873466371506753,
          0.5873466371506753,
          0.5873466371506753,
          0.5873466371506753,
          0.5873466371506753,
          0.5873466371506753,
          0.5873466371506753,
          0.5873466371506753,
          0.5873466371506753,
          0.5873466371506753,
          0.5873466371506753,
          0.5873466371506753,
          0.5873466371506753,
          0.5873466371506753,
          0.5873466371506753,
          0.5873466371506753,
          0.5873466371506753
         ],
         "yaxis": "y",
         "type": "scatter",
         "opacity": 1
        },
        {
         "customdata": [
          [
           0.44273235621212725,
           "RandomForestClassifier",
           "capital_run_length_average"
          ],
          [
           0.44273235621212725,
           "RandomForestClassifier",
           "capital_run_length_average"
          ],
          [
           0.44273235621212725,
           "RandomForestClassifier",
           "capital_run_length_average"
          ],
          [
           0.44273235621212725,
           "RandomForestClassifier",
           "capital_run_length_average"
          ],
          [
           0.44273235621212725,
           "RandomForestClassifier",
           "capital_run_length_average"
          ],
          [
           0.44273235621212725,
           "RandomForestClassifier",
           "capital_run_length_average"
          ],
          [
           0.44273235621212725,
           "RandomForestClassifier",
           "capital_run_length_average"
          ],
          [
           0.44273235621212725,
           "RandomForestClassifier",
           "capital_run_length_average"
          ],
          [
           0.44273235621212725,
           "RandomForestClassifier",
           "capital_run_length_average"
          ],
          [
           0.44273235621212725,
           "RandomForestClassifier",
           "capital_run_length_average"
          ],
          [
           0.44273235621212725,
           "RandomForestClassifier",
           "capital_run_length_average"
          ],
          [
           0.44273235621212725,
           "RandomForestClassifier",
           "capital_run_length_average"
          ],
          [
           0.44273235621212725,
           "RandomForestClassifier",
           "capital_run_length_average"
          ],
          [
           0.44273235621212725,
           "RandomForestClassifier",
           "capital_run_length_average"
          ],
          [
           0.44273235621212725,
           "RandomForestClassifier",
           "capital_run_length_average"
          ],
          [
           0.44273235621212725,
           "RandomForestClassifier",
           "capital_run_length_average"
          ],
          [
           0.44273235621212725,
           "RandomForestClassifier",
           "capital_run_length_average"
          ],
          [
           0.44273235621212725,
           "RandomForestClassifier",
           "capital_run_length_average"
          ],
          [
           0.44273235621212725,
           "RandomForestClassifier",
           "capital_run_length_average"
          ],
          [
           0.44273235621212725,
           "RandomForestClassifier",
           "capital_run_length_average"
          ],
          [
           0.44273235621212725,
           "RandomForestClassifier",
           "capital_run_length_average"
          ],
          [
           0.44273235621212725,
           "RandomForestClassifier",
           "capital_run_length_average"
          ],
          [
           0.44273235621212725,
           "RandomForestClassifier",
           "capital_run_length_average"
          ],
          [
           0.44273235621212725,
           "RandomForestClassifier",
           "capital_run_length_average"
          ],
          [
           0.44273235621212725,
           "RandomForestClassifier",
           "capital_run_length_average"
          ],
          [
           0.44273235621212725,
           "RandomForestClassifier",
           "capital_run_length_average"
          ],
          [
           0.44273235621212725,
           "RandomForestClassifier",
           "capital_run_length_average"
          ],
          [
           0.44273235621212725,
           "RandomForestClassifier",
           "capital_run_length_average"
          ],
          [
           0.44273235621212725,
           "RandomForestClassifier",
           "capital_run_length_average"
          ],
          [
           0.44273235621212725,
           "RandomForestClassifier",
           "capital_run_length_average"
          ],
          [
           0.44273235621212725,
           "RandomForestClassifier",
           "capital_run_length_average"
          ],
          [
           0.44273235621212725,
           "RandomForestClassifier",
           "capital_run_length_average"
          ],
          [
           0.44273235621212725,
           "RandomForestClassifier",
           "capital_run_length_average"
          ],
          [
           0.44273235621212725,
           "RandomForestClassifier",
           "capital_run_length_average"
          ],
          [
           0.44273235621212725,
           "RandomForestClassifier",
           "capital_run_length_average"
          ],
          [
           0.44273235621212725,
           "RandomForestClassifier",
           "capital_run_length_average"
          ],
          [
           0.44273235621212725,
           "RandomForestClassifier",
           "capital_run_length_average"
          ],
          [
           0.44273235621212725,
           "RandomForestClassifier",
           "capital_run_length_average"
          ],
          [
           0.44273235621212725,
           "RandomForestClassifier",
           "capital_run_length_average"
          ],
          [
           0.44273235621212725,
           "RandomForestClassifier",
           "capital_run_length_average"
          ],
          [
           0.44273235621212725,
           "RandomForestClassifier",
           "capital_run_length_average"
          ],
          [
           0.44273235621212725,
           "RandomForestClassifier",
           "capital_run_length_average"
          ],
          [
           0.44273235621212725,
           "RandomForestClassifier",
           "capital_run_length_average"
          ],
          [
           0.44273235621212725,
           "RandomForestClassifier",
           "capital_run_length_average"
          ],
          [
           0.44273235621212725,
           "RandomForestClassifier",
           "capital_run_length_average"
          ],
          [
           0.44273235621212725,
           "RandomForestClassifier",
           "capital_run_length_average"
          ],
          [
           0.44273235621212725,
           "RandomForestClassifier",
           "capital_run_length_average"
          ],
          [
           0.44273235621212725,
           "RandomForestClassifier",
           "capital_run_length_average"
          ],
          [
           0.44273235621212725,
           "RandomForestClassifier",
           "capital_run_length_average"
          ],
          [
           0.44273235621212725,
           "RandomForestClassifier",
           "capital_run_length_average"
          ],
          [
           0.44273235621212725,
           "RandomForestClassifier",
           "capital_run_length_average"
          ],
          [
           0.44273235621212725,
           "RandomForestClassifier",
           "capital_run_length_average"
          ],
          [
           0.44273235621212725,
           "RandomForestClassifier",
           "capital_run_length_average"
          ],
          [
           0.44273235621212725,
           "RandomForestClassifier",
           "capital_run_length_average"
          ],
          [
           0.44273235621212725,
           "RandomForestClassifier",
           "capital_run_length_average"
          ],
          [
           0.44273235621212725,
           "RandomForestClassifier",
           "capital_run_length_average"
          ],
          [
           0.44273235621212725,
           "RandomForestClassifier",
           "capital_run_length_average"
          ],
          [
           0.44273235621212725,
           "RandomForestClassifier",
           "capital_run_length_average"
          ],
          [
           0.44273235621212725,
           "RandomForestClassifier",
           "capital_run_length_average"
          ],
          [
           0.44273235621212725,
           "RandomForestClassifier",
           "capital_run_length_average"
          ],
          [
           0.44273235621212725,
           "RandomForestClassifier",
           "capital_run_length_average"
          ],
          [
           0.44273235621212725,
           "RandomForestClassifier",
           "capital_run_length_average"
          ],
          [
           0.44273235621212725,
           "RandomForestClassifier",
           "capital_run_length_average"
          ],
          [
           0.44273235621212725,
           "RandomForestClassifier",
           "capital_run_length_average"
          ],
          [
           0.44273235621212725,
           "RandomForestClassifier",
           "capital_run_length_average"
          ],
          [
           0.44273235621212725,
           "RandomForestClassifier",
           "capital_run_length_average"
          ],
          [
           0.44273235621212725,
           "RandomForestClassifier",
           "capital_run_length_average"
          ],
          [
           0.44273235621212725,
           "RandomForestClassifier",
           "capital_run_length_average"
          ],
          [
           0.44273235621212725,
           "RandomForestClassifier",
           "capital_run_length_average"
          ],
          [
           0.44273235621212725,
           "RandomForestClassifier",
           "capital_run_length_average"
          ],
          [
           0.44273235621212725,
           "RandomForestClassifier",
           "capital_run_length_average"
          ],
          [
           0.44273235621212725,
           "RandomForestClassifier",
           "capital_run_length_average"
          ],
          [
           0.44273235621212725,
           "RandomForestClassifier",
           "capital_run_length_average"
          ],
          [
           0.44273235621212725,
           "RandomForestClassifier",
           "capital_run_length_average"
          ],
          [
           0.44273235621212725,
           "RandomForestClassifier",
           "capital_run_length_average"
          ],
          [
           0.44273235621212725,
           "RandomForestClassifier",
           "capital_run_length_average"
          ],
          [
           0.44273235621212725,
           "RandomForestClassifier",
           "capital_run_length_average"
          ],
          [
           0.44273235621212725,
           "RandomForestClassifier",
           "capital_run_length_average"
          ],
          [
           0.44273235621212725,
           "RandomForestClassifier",
           "capital_run_length_average"
          ],
          [
           0.44273235621212725,
           "RandomForestClassifier",
           "capital_run_length_average"
          ],
          [
           0.44273235621212725,
           "RandomForestClassifier",
           "capital_run_length_average"
          ],
          [
           0.44273235621212725,
           "RandomForestClassifier",
           "capital_run_length_average"
          ],
          [
           0.44273235621212725,
           "RandomForestClassifier",
           "capital_run_length_average"
          ],
          [
           0.44273235621212725,
           "RandomForestClassifier",
           "capital_run_length_average"
          ],
          [
           0.44273235621212725,
           "RandomForestClassifier",
           "capital_run_length_average"
          ],
          [
           0.44273235621212725,
           "RandomForestClassifier",
           "capital_run_length_average"
          ],
          [
           0.44273235621212725,
           "RandomForestClassifier",
           "capital_run_length_average"
          ],
          [
           0.44273235621212725,
           "RandomForestClassifier",
           "capital_run_length_average"
          ],
          [
           0.44273235621212725,
           "RandomForestClassifier",
           "capital_run_length_average"
          ],
          [
           0.44273235621212725,
           "RandomForestClassifier",
           "capital_run_length_average"
          ],
          [
           0.44273235621212725,
           "RandomForestClassifier",
           "capital_run_length_average"
          ],
          [
           0.44273235621212725,
           "RandomForestClassifier",
           "capital_run_length_average"
          ],
          [
           0.44273235621212725,
           "RandomForestClassifier",
           "capital_run_length_average"
          ],
          [
           0.44273235621212725,
           "RandomForestClassifier",
           "capital_run_length_average"
          ],
          [
           0.44273235621212725,
           "RandomForestClassifier",
           "capital_run_length_average"
          ],
          [
           0.44273235621212725,
           "RandomForestClassifier",
           "capital_run_length_average"
          ],
          [
           0.44273235621212725,
           "RandomForestClassifier",
           "capital_run_length_average"
          ],
          [
           0.44273235621212725,
           "RandomForestClassifier",
           "capital_run_length_average"
          ],
          [
           0.44273235621212725,
           "RandomForestClassifier",
           "capital_run_length_average"
          ],
          [
           0.44273235621212725,
           "RandomForestClassifier",
           "capital_run_length_average"
          ],
          [
           0.44273235621212725,
           "RandomForestClassifier",
           "capital_run_length_average"
          ]
         ],
         "hovertemplate": "<b>%{hovertext}</b><br><br>prediction=%{y:.3f}<br>mean_prediction=%{customdata[0]:.3f}<extra></extra>",
         "hovertext": [
          "RandomForestClassifier",
          "RandomForestClassifier",
          "RandomForestClassifier",
          "RandomForestClassifier",
          "RandomForestClassifier",
          "RandomForestClassifier",
          "RandomForestClassifier",
          "RandomForestClassifier",
          "RandomForestClassifier",
          "RandomForestClassifier",
          "RandomForestClassifier",
          "RandomForestClassifier",
          "RandomForestClassifier",
          "RandomForestClassifier",
          "RandomForestClassifier",
          "RandomForestClassifier",
          "RandomForestClassifier",
          "RandomForestClassifier",
          "RandomForestClassifier",
          "RandomForestClassifier",
          "RandomForestClassifier",
          "RandomForestClassifier",
          "RandomForestClassifier",
          "RandomForestClassifier",
          "RandomForestClassifier",
          "RandomForestClassifier",
          "RandomForestClassifier",
          "RandomForestClassifier",
          "RandomForestClassifier",
          "RandomForestClassifier",
          "RandomForestClassifier",
          "RandomForestClassifier",
          "RandomForestClassifier",
          "RandomForestClassifier",
          "RandomForestClassifier",
          "RandomForestClassifier",
          "RandomForestClassifier",
          "RandomForestClassifier",
          "RandomForestClassifier",
          "RandomForestClassifier",
          "RandomForestClassifier",
          "RandomForestClassifier",
          "RandomForestClassifier",
          "RandomForestClassifier",
          "RandomForestClassifier",
          "RandomForestClassifier",
          "RandomForestClassifier",
          "RandomForestClassifier",
          "RandomForestClassifier",
          "RandomForestClassifier",
          "RandomForestClassifier",
          "RandomForestClassifier",
          "RandomForestClassifier",
          "RandomForestClassifier",
          "RandomForestClassifier",
          "RandomForestClassifier",
          "RandomForestClassifier",
          "RandomForestClassifier",
          "RandomForestClassifier",
          "RandomForestClassifier",
          "RandomForestClassifier",
          "RandomForestClassifier",
          "RandomForestClassifier",
          "RandomForestClassifier",
          "RandomForestClassifier",
          "RandomForestClassifier",
          "RandomForestClassifier",
          "RandomForestClassifier",
          "RandomForestClassifier",
          "RandomForestClassifier",
          "RandomForestClassifier",
          "RandomForestClassifier",
          "RandomForestClassifier",
          "RandomForestClassifier",
          "RandomForestClassifier",
          "RandomForestClassifier",
          "RandomForestClassifier",
          "RandomForestClassifier",
          "RandomForestClassifier",
          "RandomForestClassifier",
          "RandomForestClassifier",
          "RandomForestClassifier",
          "RandomForestClassifier",
          "RandomForestClassifier",
          "RandomForestClassifier",
          "RandomForestClassifier",
          "RandomForestClassifier",
          "RandomForestClassifier",
          "RandomForestClassifier",
          "RandomForestClassifier",
          "RandomForestClassifier",
          "RandomForestClassifier",
          "RandomForestClassifier",
          "RandomForestClassifier",
          "RandomForestClassifier",
          "RandomForestClassifier",
          "RandomForestClassifier",
          "RandomForestClassifier",
          "RandomForestClassifier",
          "RandomForestClassifier",
          "RandomForestClassifier"
         ],
         "legendgroup": "RandomForestClassifier",
         "line": {
          "color": "#4378bf",
          "dash": "solid",
          "width": 2
         },
         "marker": {
          "symbol": "circle"
         },
         "mode": "lines",
         "name": "RandomForestClassifier",
         "orientation": "v",
         "showlegend": false,
         "x": [
          1.0,
          12.015,
          23.03,
          34.045,
          45.06,
          56.075,
          67.09,
          78.105,
          89.12,
          100.135,
          111.15,
          122.165,
          133.18,
          144.195,
          155.21,
          166.22500000000002,
          177.24,
          188.255,
          199.27,
          210.28500000000003,
          221.3,
          232.315,
          243.33,
          254.34500000000003,
          265.36,
          276.375,
          287.39,
          298.40500000000003,
          309.42,
          320.435,
          331.45000000000005,
          342.46500000000003,
          353.48,
          364.495,
          375.51,
          386.52500000000003,
          397.54,
          408.555,
          419.57000000000005,
          430.58500000000004,
          441.6,
          452.615,
          463.63,
          474.64500000000004,
          485.66,
          496.675,
          507.69000000000005,
          518.705,
          529.72,
          540.735,
          551.75,
          562.765,
          573.78,
          584.7950000000001,
          595.8100000000001,
          606.825,
          617.84,
          628.855,
          639.87,
          650.885,
          661.9000000000001,
          672.9150000000001,
          683.9300000000001,
          694.945,
          705.96,
          716.975,
          727.99,
          739.005,
          750.02,
          761.0350000000001,
          772.0500000000001,
          783.065,
          794.08,
          805.095,
          816.11,
          827.125,
          838.1400000000001,
          849.1550000000001,
          860.1700000000001,
          871.1850000000001,
          882.2,
          893.215,
          904.23,
          915.245,
          926.26,
          937.2750000000001,
          948.2900000000001,
          959.3050000000001,
          970.32,
          981.335,
          992.35,
          1003.365,
          1014.3800000000001,
          1025.395,
          1036.41,
          1047.425,
          1058.44,
          1069.4550000000002,
          1080.47,
          1091.4850000000001,
          1102.5
         ],
         "xaxis": "x2",
         "y": [
          0.3762558763670972,
          0.529625850359774,
          0.5483844847295412,
          0.5496955616976418,
          0.5476788950309751,
          0.5476788950309751,
          0.5476788950309751,
          0.5476788950309751,
          0.5476788950309751,
          0.5476788950309751,
          0.5476788950309751,
          0.5476788950309751,
          0.5476788950309751,
          0.5476788950309751,
          0.5498292861673982,
          0.5523895700697649,
          0.5523895700697649,
          0.5523895700697649,
          0.5523895700697649,
          0.5523895700697649,
          0.5523895700697649,
          0.5523895700697649,
          0.5523895700697649,
          0.5523895700697649,
          0.5523895700697649,
          0.5523895700697649,
          0.5523895700697649,
          0.5523895700697649,
          0.5523895700697649,
          0.5523895700697649,
          0.5523895700697649,
          0.5523895700697649,
          0.5523895700697649,
          0.5523895700697649,
          0.5523895700697649,
          0.5523895700697649,
          0.5523895700697649,
          0.5523895700697649,
          0.5523895700697649,
          0.5523895700697649,
          0.5523895700697649,
          0.5523895700697649,
          0.5523895700697649,
          0.5523895700697649,
          0.5523895700697649,
          0.5523895700697649,
          0.5523895700697649,
          0.5533156032098284,
          0.5541414960669713,
          0.5541414960669713,
          0.5541414960669713,
          0.5541414960669713,
          0.5541414960669713,
          0.5541414960669713,
          0.5541414960669713,
          0.5541414960669713,
          0.5541414960669713,
          0.5541414960669713,
          0.5541414960669713,
          0.5541414960669713,
          0.5541414960669713,
          0.5541414960669713,
          0.5541414960669713,
          0.5541414960669713,
          0.5541414960669713,
          0.5541414960669713,
          0.5541414960669713,
          0.5541414960669713,
          0.5541414960669713,
          0.5541414960669713,
          0.5541414960669713,
          0.5541414960669713,
          0.5541414960669713,
          0.5541414960669713,
          0.5541414960669713,
          0.5541414960669713,
          0.5541414960669713,
          0.5541414960669713,
          0.5541414960669713,
          0.5541414960669713,
          0.5541414960669713,
          0.5541414960669713,
          0.5541414960669713,
          0.5541414960669713,
          0.5541414960669713,
          0.5541414960669713,
          0.5541414960669713,
          0.5541414960669713,
          0.5541414960669713,
          0.5541414960669713,
          0.5541414960669713,
          0.5541414960669713,
          0.5541414960669713,
          0.5541414960669713,
          0.5541414960669713,
          0.5541414960669713,
          0.5541414960669713,
          0.5541414960669713,
          0.5541414960669713,
          0.5541414960669713,
          0.5541414960669713
         ],
         "yaxis": "y2",
         "type": "scatter",
         "opacity": 1
        }
       ],
       "layout": {
        "template": {
         "data": {
          "scatter": [
           {
            "type": "scatter"
           }
          ]
         }
        },
        "xaxis": {
         "anchor": "y",
         "domain": [
          0.0,
          0.475
         ],
         "title": {
          "text": ""
         },
         "showticklabels": true,
         "type": "linear",
         "gridwidth": 2,
         "zeroline": false,
         "automargin": true,
         "ticks": "outside",
         "tickcolor": "white",
         "ticklen": 3,
         "fixedrange": true
        },
        "yaxis": {
         "anchor": "x",
         "domain": [
          0.0,
          1.0
         ],
         "title": {
          "text": ""
         },
         "range": [
          0.3187181300023168,
          0.6117674105277987
         ],
         "type": "linear",
         "gridwidth": 2,
         "zeroline": false,
         "automargin": true,
         "ticks": "outside",
         "tickcolor": "white",
         "ticklen": 3,
         "fixedrange": true
        },
        "xaxis2": {
         "anchor": "y2",
         "domain": [
          0.525,
          1.0
         ],
         "title": {
          "text": ""
         },
         "showticklabels": true,
         "type": "linear",
         "gridwidth": 2,
         "zeroline": false,
         "automargin": true,
         "ticks": "outside",
         "tickcolor": "white",
         "ticklen": 3,
         "fixedrange": true
        },
        "yaxis2": {
         "anchor": "x2",
         "domain": [
          0.0,
          1.0
         ],
         "matches": "y",
         "showticklabels": false,
         "type": "linear",
         "gridwidth": 2,
         "zeroline": false,
         "automargin": true,
         "ticks": "outside",
         "tickcolor": "white",
         "ticklen": 3,
         "fixedrange": true,
         "title": {
          "text": ""
         }
        },
        "annotations": [
         {
          "font": {
           "size": 13
          },
          "showarrow": false,
          "text": "char_freq_%24",
          "x": 0.2375,
          "xanchor": "center",
          "xref": "paper",
          "y": 1.0,
          "yanchor": "bottom",
          "yref": "paper"
         },
         {
          "font": {
           "size": 13
          },
          "showarrow": false,
          "text": "capital_run_length_average",
          "x": 0.7625,
          "xanchor": "center",
          "xref": "paper",
          "y": 1.0,
          "yanchor": "bottom",
          "yref": "paper"
         },
         {
          "font": {
           "size": 13
          },
          "showarrow": false,
          "text": "prediction",
          "textangle": -90,
          "x": -0.07,
          "xref": "paper",
          "y": 0.5,
          "yref": "paper"
         }
        ],
        "legend": {
         "title": {
          "text": "label",
          "font": {
           "size": 12
          }
         },
         "tracegroupgap": 0,
         "font": {
          "size": 11
         },
         "orientation": "h",
         "yanchor": "bottom",
         "y": 1.0613496932515338,
         "xanchor": "right",
         "x": 1,
         "itemsizing": "constant"
        },
        "margin": {
         "t": 78,
         "b": 71,
         "r": 30
        },
        "font": {
         "color": "#371ea3"
        },
        "title": {
         "font": {
          "size": 16
         },
         "text": "PDP comparison",
         "x": 0.15
        },
        "hovermode": "x unified",
        "height": 489
       },
       "config": {
        "displaylogo": false,
        "staticPlot": false,
        "toImageButtonOptions": {
         "height": null,
         "width": null
        },
        "modeBarButtonsToRemove": [
         "sendDataToCloud",
         "lasso2d",
         "autoScale2d",
         "select2d",
         "zoom2d",
         "pan2d",
         "zoomIn2d",
         "zoomOut2d",
         "resetScale2d",
         "toggleSpikelines",
         "hoverCompareCartesian",
         "hoverClosestCartesian"
        ],
        "plotlyServerURL": "https://plot.ly"
       }
      },
      "text/html": "<div>                            <div id=\"96ef628d-1f17-4fa1-820d-55ce2030dd74\" class=\"plotly-graph-div\" style=\"height:489px; width:100%;\"></div>            <script type=\"text/javascript\">                require([\"plotly\"], function(Plotly) {                    window.PLOTLYENV=window.PLOTLYENV || {};                                    if (document.getElementById(\"96ef628d-1f17-4fa1-820d-55ce2030dd74\")) {                    Plotly.newPlot(                        \"96ef628d-1f17-4fa1-820d-55ce2030dd74\",                        [{\"customdata\":[[0.38574254512786865,\"XGBClassifier\",\"char_freq_%24\"],[0.38574254512786865,\"XGBClassifier\",\"char_freq_%24\"],[0.38574254512786865,\"XGBClassifier\",\"char_freq_%24\"],[0.38574254512786865,\"XGBClassifier\",\"char_freq_%24\"],[0.38574254512786865,\"XGBClassifier\",\"char_freq_%24\"],[0.38574254512786865,\"XGBClassifier\",\"char_freq_%24\"],[0.38574254512786865,\"XGBClassifier\",\"char_freq_%24\"],[0.38574254512786865,\"XGBClassifier\",\"char_freq_%24\"],[0.38574254512786865,\"XGBClassifier\",\"char_freq_%24\"],[0.38574254512786865,\"XGBClassifier\",\"char_freq_%24\"],[0.38574254512786865,\"XGBClassifier\",\"char_freq_%24\"],[0.38574254512786865,\"XGBClassifier\",\"char_freq_%24\"],[0.38574254512786865,\"XGBClassifier\",\"char_freq_%24\"],[0.38574254512786865,\"XGBClassifier\",\"char_freq_%24\"],[0.38574254512786865,\"XGBClassifier\",\"char_freq_%24\"],[0.38574254512786865,\"XGBClassifier\",\"char_freq_%24\"],[0.38574254512786865,\"XGBClassifier\",\"char_freq_%24\"],[0.38574254512786865,\"XGBClassifier\",\"char_freq_%24\"],[0.38574254512786865,\"XGBClassifier\",\"char_freq_%24\"],[0.38574254512786865,\"XGBClassifier\",\"char_freq_%24\"],[0.38574254512786865,\"XGBClassifier\",\"char_freq_%24\"],[0.38574254512786865,\"XGBClassifier\",\"char_freq_%24\"],[0.38574254512786865,\"XGBClassifier\",\"char_freq_%24\"],[0.38574254512786865,\"XGBClassifier\",\"char_freq_%24\"],[0.38574254512786865,\"XGBClassifier\",\"char_freq_%24\"],[0.38574254512786865,\"XGBClassifier\",\"char_freq_%24\"],[0.38574254512786865,\"XGBClassifier\",\"char_freq_%24\"],[0.38574254512786865,\"XGBClassifier\",\"char_freq_%24\"],[0.38574254512786865,\"XGBClassifier\",\"char_freq_%24\"],[0.38574254512786865,\"XGBClassifier\",\"char_freq_%24\"],[0.38574254512786865,\"XGBClassifier\",\"char_freq_%24\"],[0.38574254512786865,\"XGBClassifier\",\"char_freq_%24\"],[0.38574254512786865,\"XGBClassifier\",\"char_freq_%24\"],[0.38574254512786865,\"XGBClassifier\",\"char_freq_%24\"],[0.38574254512786865,\"XGBClassifier\",\"char_freq_%24\"],[0.38574254512786865,\"XGBClassifier\",\"char_freq_%24\"],[0.38574254512786865,\"XGBClassifier\",\"char_freq_%24\"],[0.38574254512786865,\"XGBClassifier\",\"char_freq_%24\"],[0.38574254512786865,\"XGBClassifier\",\"char_freq_%24\"],[0.38574254512786865,\"XGBClassifier\",\"char_freq_%24\"],[0.38574254512786865,\"XGBClassifier\",\"char_freq_%24\"],[0.38574254512786865,\"XGBClassifier\",\"char_freq_%24\"],[0.38574254512786865,\"XGBClassifier\",\"char_freq_%24\"],[0.38574254512786865,\"XGBClassifier\",\"char_freq_%24\"],[0.38574254512786865,\"XGBClassifier\",\"char_freq_%24\"],[0.38574254512786865,\"XGBClassifier\",\"char_freq_%24\"],[0.38574254512786865,\"XGBClassifier\",\"char_freq_%24\"],[0.38574254512786865,\"XGBClassifier\",\"char_freq_%24\"],[0.38574254512786865,\"XGBClassifier\",\"char_freq_%24\"],[0.38574254512786865,\"XGBClassifier\",\"char_freq_%24\"],[0.38574254512786865,\"XGBClassifier\",\"char_freq_%24\"],[0.38574254512786865,\"XGBClassifier\",\"char_freq_%24\"],[0.38574254512786865,\"XGBClassifier\",\"char_freq_%24\"],[0.38574254512786865,\"XGBClassifier\",\"char_freq_%24\"],[0.38574254512786865,\"XGBClassifier\",\"char_freq_%24\"],[0.38574254512786865,\"XGBClassifier\",\"char_freq_%24\"],[0.38574254512786865,\"XGBClassifier\",\"char_freq_%24\"],[0.38574254512786865,\"XGBClassifier\",\"char_freq_%24\"],[0.38574254512786865,\"XGBClassifier\",\"char_freq_%24\"],[0.38574254512786865,\"XGBClassifier\",\"char_freq_%24\"],[0.38574254512786865,\"XGBClassifier\",\"char_freq_%24\"],[0.38574254512786865,\"XGBClassifier\",\"char_freq_%24\"],[0.38574254512786865,\"XGBClassifier\",\"char_freq_%24\"],[0.38574254512786865,\"XGBClassifier\",\"char_freq_%24\"],[0.38574254512786865,\"XGBClassifier\",\"char_freq_%24\"],[0.38574254512786865,\"XGBClassifier\",\"char_freq_%24\"],[0.38574254512786865,\"XGBClassifier\",\"char_freq_%24\"],[0.38574254512786865,\"XGBClassifier\",\"char_freq_%24\"],[0.38574254512786865,\"XGBClassifier\",\"char_freq_%24\"],[0.38574254512786865,\"XGBClassifier\",\"char_freq_%24\"],[0.38574254512786865,\"XGBClassifier\",\"char_freq_%24\"],[0.38574254512786865,\"XGBClassifier\",\"char_freq_%24\"],[0.38574254512786865,\"XGBClassifier\",\"char_freq_%24\"],[0.38574254512786865,\"XGBClassifier\",\"char_freq_%24\"],[0.38574254512786865,\"XGBClassifier\",\"char_freq_%24\"],[0.38574254512786865,\"XGBClassifier\",\"char_freq_%24\"],[0.38574254512786865,\"XGBClassifier\",\"char_freq_%24\"],[0.38574254512786865,\"XGBClassifier\",\"char_freq_%24\"],[0.38574254512786865,\"XGBClassifier\",\"char_freq_%24\"],[0.38574254512786865,\"XGBClassifier\",\"char_freq_%24\"],[0.38574254512786865,\"XGBClassifier\",\"char_freq_%24\"],[0.38574254512786865,\"XGBClassifier\",\"char_freq_%24\"],[0.38574254512786865,\"XGBClassifier\",\"char_freq_%24\"],[0.38574254512786865,\"XGBClassifier\",\"char_freq_%24\"],[0.38574254512786865,\"XGBClassifier\",\"char_freq_%24\"],[0.38574254512786865,\"XGBClassifier\",\"char_freq_%24\"],[0.38574254512786865,\"XGBClassifier\",\"char_freq_%24\"],[0.38574254512786865,\"XGBClassifier\",\"char_freq_%24\"],[0.38574254512786865,\"XGBClassifier\",\"char_freq_%24\"],[0.38574254512786865,\"XGBClassifier\",\"char_freq_%24\"],[0.38574254512786865,\"XGBClassifier\",\"char_freq_%24\"],[0.38574254512786865,\"XGBClassifier\",\"char_freq_%24\"],[0.38574254512786865,\"XGBClassifier\",\"char_freq_%24\"],[0.38574254512786865,\"XGBClassifier\",\"char_freq_%24\"],[0.38574254512786865,\"XGBClassifier\",\"char_freq_%24\"],[0.38574254512786865,\"XGBClassifier\",\"char_freq_%24\"],[0.38574254512786865,\"XGBClassifier\",\"char_freq_%24\"],[0.38574254512786865,\"XGBClassifier\",\"char_freq_%24\"],[0.38574254512786865,\"XGBClassifier\",\"char_freq_%24\"],[0.38574254512786865,\"XGBClassifier\",\"char_freq_%24\"],[0.38574254512786865,\"XGBClassifier\",\"char_freq_%24\"]],\"hovertemplate\":\"<b>%{hovertext}</b><br><br>prediction=%{y:.3f}<br>mean_prediction=%{customdata[0]:.3f}<extra></extra>\",\"hovertext\":[\"XGBClassifier\",\"XGBClassifier\",\"XGBClassifier\",\"XGBClassifier\",\"XGBClassifier\",\"XGBClassifier\",\"XGBClassifier\",\"XGBClassifier\",\"XGBClassifier\",\"XGBClassifier\",\"XGBClassifier\",\"XGBClassifier\",\"XGBClassifier\",\"XGBClassifier\",\"XGBClassifier\",\"XGBClassifier\",\"XGBClassifier\",\"XGBClassifier\",\"XGBClassifier\",\"XGBClassifier\",\"XGBClassifier\",\"XGBClassifier\",\"XGBClassifier\",\"XGBClassifier\",\"XGBClassifier\",\"XGBClassifier\",\"XGBClassifier\",\"XGBClassifier\",\"XGBClassifier\",\"XGBClassifier\",\"XGBClassifier\",\"XGBClassifier\",\"XGBClassifier\",\"XGBClassifier\",\"XGBClassifier\",\"XGBClassifier\",\"XGBClassifier\",\"XGBClassifier\",\"XGBClassifier\",\"XGBClassifier\",\"XGBClassifier\",\"XGBClassifier\",\"XGBClassifier\",\"XGBClassifier\",\"XGBClassifier\",\"XGBClassifier\",\"XGBClassifier\",\"XGBClassifier\",\"XGBClassifier\",\"XGBClassifier\",\"XGBClassifier\",\"XGBClassifier\",\"XGBClassifier\",\"XGBClassifier\",\"XGBClassifier\",\"XGBClassifier\",\"XGBClassifier\",\"XGBClassifier\",\"XGBClassifier\",\"XGBClassifier\",\"XGBClassifier\",\"XGBClassifier\",\"XGBClassifier\",\"XGBClassifier\",\"XGBClassifier\",\"XGBClassifier\",\"XGBClassifier\",\"XGBClassifier\",\"XGBClassifier\",\"XGBClassifier\",\"XGBClassifier\",\"XGBClassifier\",\"XGBClassifier\",\"XGBClassifier\",\"XGBClassifier\",\"XGBClassifier\",\"XGBClassifier\",\"XGBClassifier\",\"XGBClassifier\",\"XGBClassifier\",\"XGBClassifier\",\"XGBClassifier\",\"XGBClassifier\",\"XGBClassifier\",\"XGBClassifier\",\"XGBClassifier\",\"XGBClassifier\",\"XGBClassifier\",\"XGBClassifier\",\"XGBClassifier\",\"XGBClassifier\",\"XGBClassifier\",\"XGBClassifier\",\"XGBClassifier\",\"XGBClassifier\",\"XGBClassifier\",\"XGBClassifier\",\"XGBClassifier\",\"XGBClassifier\",\"XGBClassifier\",\"XGBClassifier\"],\"legendgroup\":\"XGBClassifier\",\"line\":{\"color\":\"#8bdcbe\",\"dash\":\"solid\",\"width\":2},\"marker\":{\"symbol\":\"circle\"},\"mode\":\"lines\",\"name\":\"XGBClassifier\",\"orientation\":\"v\",\"showlegend\":true,\"x\":[0.0,0.06003,0.12006,0.18009,0.24012,0.30015000000000003,0.36018,0.42021,0.48024,0.54027,0.6003000000000001,0.66033,0.72036,0.78039,0.84042,0.90045,0.96048,1.02051,1.08054,1.14057,1.2006000000000001,1.26063,1.32066,1.38069,1.44072,1.50075,1.56078,1.62081,1.68084,1.74087,1.8009,1.86093,1.92096,1.98099,2.04102,2.10105,2.16108,2.22111,2.28114,2.34117,2.4012000000000002,2.46123,2.52126,2.58129,2.64132,2.70135,2.76138,2.82141,2.88144,2.94147,3.0015,3.06153,3.12156,3.18159,3.24162,3.30165,3.36168,3.42171,3.48174,3.54177,3.6018,3.66183,3.72186,3.78189,3.84192,3.90195,3.96198,4.02201,4.08204,4.14207,4.2021,4.26213,4.32216,4.38219,4.44222,4.50225,4.56228,4.62231,4.68234,4.74237,4.8024000000000004,4.86243,4.92246,4.98249,5.04252,5.10255,5.16258,5.22261,5.28264,5.34267,5.4027,5.46273,5.52276,5.58279,5.64282,5.70285,5.76288,5.82291,5.88294,5.94297,6.003],\"xaxis\":\"x\",\"y\":[0.37631574273109436,0.47933751344680786,0.4839300215244293,0.488280713558197,0.488280713558197,0.488280713558197,0.488280713558197,0.488280713558197,0.488280713558197,0.488280713558197,0.488280713558197,0.488280713558197,0.488280713558197,0.488280713558197,0.488280713558197,0.488280713558197,0.488280713558197,0.488280713558197,0.488280713558197,0.488280713558197,0.488280713558197,0.488280713558197,0.488280713558197,0.488280713558197,0.488280713558197,0.488280713558197,0.488280713558197,0.488280713558197,0.488280713558197,0.488280713558197,0.488280713558197,0.488280713558197,0.488280713558197,0.488280713558197,0.488280713558197,0.488280713558197,0.488280713558197,0.488280713558197,0.488280713558197,0.488280713558197,0.488280713558197,0.488280713558197,0.488280713558197,0.488280713558197,0.488280713558197,0.488280713558197,0.488280713558197,0.488280713558197,0.488280713558197,0.488280713558197,0.488280713558197,0.488280713558197,0.488280713558197,0.488280713558197,0.488280713558197,0.488280713558197,0.488280713558197,0.488280713558197,0.488280713558197,0.488280713558197,0.488280713558197,0.488280713558197,0.488280713558197,0.488280713558197,0.488280713558197,0.488280713558197,0.488280713558197,0.488280713558197,0.488280713558197,0.488280713558197,0.488280713558197,0.488280713558197,0.488280713558197,0.488280713558197,0.488280713558197,0.488280713558197,0.488280713558197,0.488280713558197,0.488280713558197,0.488280713558197,0.488280713558197,0.488280713558197,0.488280713558197,0.488280713558197,0.488280713558197,0.488280713558197,0.488280713558197,0.488280713558197,0.488280713558197,0.488280713558197,0.488280713558197,0.488280713558197,0.488280713558197,0.488280713558197,0.488280713558197,0.488280713558197,0.488280713558197,0.488280713558197,0.488280713558197,0.488280713558197,0.488280713558197],\"yaxis\":\"y\",\"type\":\"scatter\",\"opacity\":1},{\"customdata\":[[0.38574254512786865,\"XGBClassifier\",\"capital_run_length_average\"],[0.38574254512786865,\"XGBClassifier\",\"capital_run_length_average\"],[0.38574254512786865,\"XGBClassifier\",\"capital_run_length_average\"],[0.38574254512786865,\"XGBClassifier\",\"capital_run_length_average\"],[0.38574254512786865,\"XGBClassifier\",\"capital_run_length_average\"],[0.38574254512786865,\"XGBClassifier\",\"capital_run_length_average\"],[0.38574254512786865,\"XGBClassifier\",\"capital_run_length_average\"],[0.38574254512786865,\"XGBClassifier\",\"capital_run_length_average\"],[0.38574254512786865,\"XGBClassifier\",\"capital_run_length_average\"],[0.38574254512786865,\"XGBClassifier\",\"capital_run_length_average\"],[0.38574254512786865,\"XGBClassifier\",\"capital_run_length_average\"],[0.38574254512786865,\"XGBClassifier\",\"capital_run_length_average\"],[0.38574254512786865,\"XGBClassifier\",\"capital_run_length_average\"],[0.38574254512786865,\"XGBClassifier\",\"capital_run_length_average\"],[0.38574254512786865,\"XGBClassifier\",\"capital_run_length_average\"],[0.38574254512786865,\"XGBClassifier\",\"capital_run_length_average\"],[0.38574254512786865,\"XGBClassifier\",\"capital_run_length_average\"],[0.38574254512786865,\"XGBClassifier\",\"capital_run_length_average\"],[0.38574254512786865,\"XGBClassifier\",\"capital_run_length_average\"],[0.38574254512786865,\"XGBClassifier\",\"capital_run_length_average\"],[0.38574254512786865,\"XGBClassifier\",\"capital_run_length_average\"],[0.38574254512786865,\"XGBClassifier\",\"capital_run_length_average\"],[0.38574254512786865,\"XGBClassifier\",\"capital_run_length_average\"],[0.38574254512786865,\"XGBClassifier\",\"capital_run_length_average\"],[0.38574254512786865,\"XGBClassifier\",\"capital_run_length_average\"],[0.38574254512786865,\"XGBClassifier\",\"capital_run_length_average\"],[0.38574254512786865,\"XGBClassifier\",\"capital_run_length_average\"],[0.38574254512786865,\"XGBClassifier\",\"capital_run_length_average\"],[0.38574254512786865,\"XGBClassifier\",\"capital_run_length_average\"],[0.38574254512786865,\"XGBClassifier\",\"capital_run_length_average\"],[0.38574254512786865,\"XGBClassifier\",\"capital_run_length_average\"],[0.38574254512786865,\"XGBClassifier\",\"capital_run_length_average\"],[0.38574254512786865,\"XGBClassifier\",\"capital_run_length_average\"],[0.38574254512786865,\"XGBClassifier\",\"capital_run_length_average\"],[0.38574254512786865,\"XGBClassifier\",\"capital_run_length_average\"],[0.38574254512786865,\"XGBClassifier\",\"capital_run_length_average\"],[0.38574254512786865,\"XGBClassifier\",\"capital_run_length_average\"],[0.38574254512786865,\"XGBClassifier\",\"capital_run_length_average\"],[0.38574254512786865,\"XGBClassifier\",\"capital_run_length_average\"],[0.38574254512786865,\"XGBClassifier\",\"capital_run_length_average\"],[0.38574254512786865,\"XGBClassifier\",\"capital_run_length_average\"],[0.38574254512786865,\"XGBClassifier\",\"capital_run_length_average\"],[0.38574254512786865,\"XGBClassifier\",\"capital_run_length_average\"],[0.38574254512786865,\"XGBClassifier\",\"capital_run_length_average\"],[0.38574254512786865,\"XGBClassifier\",\"capital_run_length_average\"],[0.38574254512786865,\"XGBClassifier\",\"capital_run_length_average\"],[0.38574254512786865,\"XGBClassifier\",\"capital_run_length_average\"],[0.38574254512786865,\"XGBClassifier\",\"capital_run_length_average\"],[0.38574254512786865,\"XGBClassifier\",\"capital_run_length_average\"],[0.38574254512786865,\"XGBClassifier\",\"capital_run_length_average\"],[0.38574254512786865,\"XGBClassifier\",\"capital_run_length_average\"],[0.38574254512786865,\"XGBClassifier\",\"capital_run_length_average\"],[0.38574254512786865,\"XGBClassifier\",\"capital_run_length_average\"],[0.38574254512786865,\"XGBClassifier\",\"capital_run_length_average\"],[0.38574254512786865,\"XGBClassifier\",\"capital_run_length_average\"],[0.38574254512786865,\"XGBClassifier\",\"capital_run_length_average\"],[0.38574254512786865,\"XGBClassifier\",\"capital_run_length_average\"],[0.38574254512786865,\"XGBClassifier\",\"capital_run_length_average\"],[0.38574254512786865,\"XGBClassifier\",\"capital_run_length_average\"],[0.38574254512786865,\"XGBClassifier\",\"capital_run_length_average\"],[0.38574254512786865,\"XGBClassifier\",\"capital_run_length_average\"],[0.38574254512786865,\"XGBClassifier\",\"capital_run_length_average\"],[0.38574254512786865,\"XGBClassifier\",\"capital_run_length_average\"],[0.38574254512786865,\"XGBClassifier\",\"capital_run_length_average\"],[0.38574254512786865,\"XGBClassifier\",\"capital_run_length_average\"],[0.38574254512786865,\"XGBClassifier\",\"capital_run_length_average\"],[0.38574254512786865,\"XGBClassifier\",\"capital_run_length_average\"],[0.38574254512786865,\"XGBClassifier\",\"capital_run_length_average\"],[0.38574254512786865,\"XGBClassifier\",\"capital_run_length_average\"],[0.38574254512786865,\"XGBClassifier\",\"capital_run_length_average\"],[0.38574254512786865,\"XGBClassifier\",\"capital_run_length_average\"],[0.38574254512786865,\"XGBClassifier\",\"capital_run_length_average\"],[0.38574254512786865,\"XGBClassifier\",\"capital_run_length_average\"],[0.38574254512786865,\"XGBClassifier\",\"capital_run_length_average\"],[0.38574254512786865,\"XGBClassifier\",\"capital_run_length_average\"],[0.38574254512786865,\"XGBClassifier\",\"capital_run_length_average\"],[0.38574254512786865,\"XGBClassifier\",\"capital_run_length_average\"],[0.38574254512786865,\"XGBClassifier\",\"capital_run_length_average\"],[0.38574254512786865,\"XGBClassifier\",\"capital_run_length_average\"],[0.38574254512786865,\"XGBClassifier\",\"capital_run_length_average\"],[0.38574254512786865,\"XGBClassifier\",\"capital_run_length_average\"],[0.38574254512786865,\"XGBClassifier\",\"capital_run_length_average\"],[0.38574254512786865,\"XGBClassifier\",\"capital_run_length_average\"],[0.38574254512786865,\"XGBClassifier\",\"capital_run_length_average\"],[0.38574254512786865,\"XGBClassifier\",\"capital_run_length_average\"],[0.38574254512786865,\"XGBClassifier\",\"capital_run_length_average\"],[0.38574254512786865,\"XGBClassifier\",\"capital_run_length_average\"],[0.38574254512786865,\"XGBClassifier\",\"capital_run_length_average\"],[0.38574254512786865,\"XGBClassifier\",\"capital_run_length_average\"],[0.38574254512786865,\"XGBClassifier\",\"capital_run_length_average\"],[0.38574254512786865,\"XGBClassifier\",\"capital_run_length_average\"],[0.38574254512786865,\"XGBClassifier\",\"capital_run_length_average\"],[0.38574254512786865,\"XGBClassifier\",\"capital_run_length_average\"],[0.38574254512786865,\"XGBClassifier\",\"capital_run_length_average\"],[0.38574254512786865,\"XGBClassifier\",\"capital_run_length_average\"],[0.38574254512786865,\"XGBClassifier\",\"capital_run_length_average\"],[0.38574254512786865,\"XGBClassifier\",\"capital_run_length_average\"],[0.38574254512786865,\"XGBClassifier\",\"capital_run_length_average\"],[0.38574254512786865,\"XGBClassifier\",\"capital_run_length_average\"],[0.38574254512786865,\"XGBClassifier\",\"capital_run_length_average\"],[0.38574254512786865,\"XGBClassifier\",\"capital_run_length_average\"]],\"hovertemplate\":\"<b>%{hovertext}</b><br><br>prediction=%{y:.3f}<br>mean_prediction=%{customdata[0]:.3f}<extra></extra>\",\"hovertext\":[\"XGBClassifier\",\"XGBClassifier\",\"XGBClassifier\",\"XGBClassifier\",\"XGBClassifier\",\"XGBClassifier\",\"XGBClassifier\",\"XGBClassifier\",\"XGBClassifier\",\"XGBClassifier\",\"XGBClassifier\",\"XGBClassifier\",\"XGBClassifier\",\"XGBClassifier\",\"XGBClassifier\",\"XGBClassifier\",\"XGBClassifier\",\"XGBClassifier\",\"XGBClassifier\",\"XGBClassifier\",\"XGBClassifier\",\"XGBClassifier\",\"XGBClassifier\",\"XGBClassifier\",\"XGBClassifier\",\"XGBClassifier\",\"XGBClassifier\",\"XGBClassifier\",\"XGBClassifier\",\"XGBClassifier\",\"XGBClassifier\",\"XGBClassifier\",\"XGBClassifier\",\"XGBClassifier\",\"XGBClassifier\",\"XGBClassifier\",\"XGBClassifier\",\"XGBClassifier\",\"XGBClassifier\",\"XGBClassifier\",\"XGBClassifier\",\"XGBClassifier\",\"XGBClassifier\",\"XGBClassifier\",\"XGBClassifier\",\"XGBClassifier\",\"XGBClassifier\",\"XGBClassifier\",\"XGBClassifier\",\"XGBClassifier\",\"XGBClassifier\",\"XGBClassifier\",\"XGBClassifier\",\"XGBClassifier\",\"XGBClassifier\",\"XGBClassifier\",\"XGBClassifier\",\"XGBClassifier\",\"XGBClassifier\",\"XGBClassifier\",\"XGBClassifier\",\"XGBClassifier\",\"XGBClassifier\",\"XGBClassifier\",\"XGBClassifier\",\"XGBClassifier\",\"XGBClassifier\",\"XGBClassifier\",\"XGBClassifier\",\"XGBClassifier\",\"XGBClassifier\",\"XGBClassifier\",\"XGBClassifier\",\"XGBClassifier\",\"XGBClassifier\",\"XGBClassifier\",\"XGBClassifier\",\"XGBClassifier\",\"XGBClassifier\",\"XGBClassifier\",\"XGBClassifier\",\"XGBClassifier\",\"XGBClassifier\",\"XGBClassifier\",\"XGBClassifier\",\"XGBClassifier\",\"XGBClassifier\",\"XGBClassifier\",\"XGBClassifier\",\"XGBClassifier\",\"XGBClassifier\",\"XGBClassifier\",\"XGBClassifier\",\"XGBClassifier\",\"XGBClassifier\",\"XGBClassifier\",\"XGBClassifier\",\"XGBClassifier\",\"XGBClassifier\",\"XGBClassifier\",\"XGBClassifier\"],\"legendgroup\":\"XGBClassifier\",\"line\":{\"color\":\"#8bdcbe\",\"dash\":\"solid\",\"width\":2},\"marker\":{\"symbol\":\"circle\"},\"mode\":\"lines\",\"name\":\"XGBClassifier\",\"orientation\":\"v\",\"showlegend\":false,\"x\":[1.0,12.015,23.03,34.045,45.06,56.075,67.09,78.105,89.12,100.135,111.15,122.165,133.18,144.195,155.21,166.22500000000002,177.24,188.255,199.27,210.28500000000003,221.3,232.315,243.33,254.34500000000003,265.36,276.375,287.39,298.40500000000003,309.42,320.435,331.45000000000005,342.46500000000003,353.48,364.495,375.51,386.52500000000003,397.54,408.555,419.57000000000005,430.58500000000004,441.6,452.615,463.63,474.64500000000004,485.66,496.675,507.69000000000005,518.705,529.72,540.735,551.75,562.765,573.78,584.7950000000001,595.8100000000001,606.825,617.84,628.855,639.87,650.885,661.9000000000001,672.9150000000001,683.9300000000001,694.945,705.96,716.975,727.99,739.005,750.02,761.0350000000001,772.0500000000001,783.065,794.08,805.095,816.11,827.125,838.1400000000001,849.1550000000001,860.1700000000001,871.1850000000001,882.2,893.215,904.23,915.245,926.26,937.2750000000001,948.2900000000001,959.3050000000001,970.32,981.335,992.35,1003.365,1014.3800000000001,1025.395,1036.41,1047.425,1058.44,1069.4550000000002,1080.47,1091.4850000000001,1102.5],\"xaxis\":\"x2\",\"y\":[0.3431389033794403,0.47365468740463257,0.47365468740463257,0.47365468740463257,0.47365468740463257,0.47365468740463257,0.47365468740463257,0.47365468740463257,0.47365468740463257,0.47365468740463257,0.47365468740463257,0.47365468740463257,0.47365468740463257,0.47365468740463257,0.47365468740463257,0.47365468740463257,0.47365468740463257,0.47365468740463257,0.47365468740463257,0.47365468740463257,0.47365468740463257,0.47365468740463257,0.47365468740463257,0.47365468740463257,0.47365468740463257,0.47365468740463257,0.47365468740463257,0.47365468740463257,0.47365468740463257,0.47365468740463257,0.47365468740463257,0.47365468740463257,0.47365468740463257,0.47365468740463257,0.47365468740463257,0.47365468740463257,0.47365468740463257,0.47365468740463257,0.47365468740463257,0.47365468740463257,0.47365468740463257,0.47365468740463257,0.47365468740463257,0.47365468740463257,0.47365468740463257,0.47365468740463257,0.47365468740463257,0.47365468740463257,0.47365468740463257,0.47365468740463257,0.47365468740463257,0.47365468740463257,0.47365468740463257,0.47365468740463257,0.47365468740463257,0.47365468740463257,0.47365468740463257,0.47365468740463257,0.47365468740463257,0.47365468740463257,0.47365468740463257,0.47365468740463257,0.47365468740463257,0.47365468740463257,0.47365468740463257,0.47365468740463257,0.47365468740463257,0.47365468740463257,0.47365468740463257,0.47365468740463257,0.47365468740463257,0.47365468740463257,0.47365468740463257,0.47365468740463257,0.47365468740463257,0.47365468740463257,0.47365468740463257,0.47365468740463257,0.47365468740463257,0.47365468740463257,0.47365468740463257,0.47365468740463257,0.47365468740463257,0.47365468740463257,0.47365468740463257,0.47365468740463257,0.47365468740463257,0.47365468740463257,0.47365468740463257,0.47365468740463257,0.47365468740463257,0.47365468740463257,0.47365468740463257,0.47365468740463257,0.47365468740463257,0.47365468740463257,0.47365468740463257,0.47365468740463257,0.47365468740463257,0.47365468740463257,0.47365468740463257],\"yaxis\":\"y2\",\"type\":\"scatter\",\"opacity\":1},{\"customdata\":[[0.44273235621212725,\"RandomForestClassifier\",\"char_freq_%24\"],[0.44273235621212725,\"RandomForestClassifier\",\"char_freq_%24\"],[0.44273235621212725,\"RandomForestClassifier\",\"char_freq_%24\"],[0.44273235621212725,\"RandomForestClassifier\",\"char_freq_%24\"],[0.44273235621212725,\"RandomForestClassifier\",\"char_freq_%24\"],[0.44273235621212725,\"RandomForestClassifier\",\"char_freq_%24\"],[0.44273235621212725,\"RandomForestClassifier\",\"char_freq_%24\"],[0.44273235621212725,\"RandomForestClassifier\",\"char_freq_%24\"],[0.44273235621212725,\"RandomForestClassifier\",\"char_freq_%24\"],[0.44273235621212725,\"RandomForestClassifier\",\"char_freq_%24\"],[0.44273235621212725,\"RandomForestClassifier\",\"char_freq_%24\"],[0.44273235621212725,\"RandomForestClassifier\",\"char_freq_%24\"],[0.44273235621212725,\"RandomForestClassifier\",\"char_freq_%24\"],[0.44273235621212725,\"RandomForestClassifier\",\"char_freq_%24\"],[0.44273235621212725,\"RandomForestClassifier\",\"char_freq_%24\"],[0.44273235621212725,\"RandomForestClassifier\",\"char_freq_%24\"],[0.44273235621212725,\"RandomForestClassifier\",\"char_freq_%24\"],[0.44273235621212725,\"RandomForestClassifier\",\"char_freq_%24\"],[0.44273235621212725,\"RandomForestClassifier\",\"char_freq_%24\"],[0.44273235621212725,\"RandomForestClassifier\",\"char_freq_%24\"],[0.44273235621212725,\"RandomForestClassifier\",\"char_freq_%24\"],[0.44273235621212725,\"RandomForestClassifier\",\"char_freq_%24\"],[0.44273235621212725,\"RandomForestClassifier\",\"char_freq_%24\"],[0.44273235621212725,\"RandomForestClassifier\",\"char_freq_%24\"],[0.44273235621212725,\"RandomForestClassifier\",\"char_freq_%24\"],[0.44273235621212725,\"RandomForestClassifier\",\"char_freq_%24\"],[0.44273235621212725,\"RandomForestClassifier\",\"char_freq_%24\"],[0.44273235621212725,\"RandomForestClassifier\",\"char_freq_%24\"],[0.44273235621212725,\"RandomForestClassifier\",\"char_freq_%24\"],[0.44273235621212725,\"RandomForestClassifier\",\"char_freq_%24\"],[0.44273235621212725,\"RandomForestClassifier\",\"char_freq_%24\"],[0.44273235621212725,\"RandomForestClassifier\",\"char_freq_%24\"],[0.44273235621212725,\"RandomForestClassifier\",\"char_freq_%24\"],[0.44273235621212725,\"RandomForestClassifier\",\"char_freq_%24\"],[0.44273235621212725,\"RandomForestClassifier\",\"char_freq_%24\"],[0.44273235621212725,\"RandomForestClassifier\",\"char_freq_%24\"],[0.44273235621212725,\"RandomForestClassifier\",\"char_freq_%24\"],[0.44273235621212725,\"RandomForestClassifier\",\"char_freq_%24\"],[0.44273235621212725,\"RandomForestClassifier\",\"char_freq_%24\"],[0.44273235621212725,\"RandomForestClassifier\",\"char_freq_%24\"],[0.44273235621212725,\"RandomForestClassifier\",\"char_freq_%24\"],[0.44273235621212725,\"RandomForestClassifier\",\"char_freq_%24\"],[0.44273235621212725,\"RandomForestClassifier\",\"char_freq_%24\"],[0.44273235621212725,\"RandomForestClassifier\",\"char_freq_%24\"],[0.44273235621212725,\"RandomForestClassifier\",\"char_freq_%24\"],[0.44273235621212725,\"RandomForestClassifier\",\"char_freq_%24\"],[0.44273235621212725,\"RandomForestClassifier\",\"char_freq_%24\"],[0.44273235621212725,\"RandomForestClassifier\",\"char_freq_%24\"],[0.44273235621212725,\"RandomForestClassifier\",\"char_freq_%24\"],[0.44273235621212725,\"RandomForestClassifier\",\"char_freq_%24\"],[0.44273235621212725,\"RandomForestClassifier\",\"char_freq_%24\"],[0.44273235621212725,\"RandomForestClassifier\",\"char_freq_%24\"],[0.44273235621212725,\"RandomForestClassifier\",\"char_freq_%24\"],[0.44273235621212725,\"RandomForestClassifier\",\"char_freq_%24\"],[0.44273235621212725,\"RandomForestClassifier\",\"char_freq_%24\"],[0.44273235621212725,\"RandomForestClassifier\",\"char_freq_%24\"],[0.44273235621212725,\"RandomForestClassifier\",\"char_freq_%24\"],[0.44273235621212725,\"RandomForestClassifier\",\"char_freq_%24\"],[0.44273235621212725,\"RandomForestClassifier\",\"char_freq_%24\"],[0.44273235621212725,\"RandomForestClassifier\",\"char_freq_%24\"],[0.44273235621212725,\"RandomForestClassifier\",\"char_freq_%24\"],[0.44273235621212725,\"RandomForestClassifier\",\"char_freq_%24\"],[0.44273235621212725,\"RandomForestClassifier\",\"char_freq_%24\"],[0.44273235621212725,\"RandomForestClassifier\",\"char_freq_%24\"],[0.44273235621212725,\"RandomForestClassifier\",\"char_freq_%24\"],[0.44273235621212725,\"RandomForestClassifier\",\"char_freq_%24\"],[0.44273235621212725,\"RandomForestClassifier\",\"char_freq_%24\"],[0.44273235621212725,\"RandomForestClassifier\",\"char_freq_%24\"],[0.44273235621212725,\"RandomForestClassifier\",\"char_freq_%24\"],[0.44273235621212725,\"RandomForestClassifier\",\"char_freq_%24\"],[0.44273235621212725,\"RandomForestClassifier\",\"char_freq_%24\"],[0.44273235621212725,\"RandomForestClassifier\",\"char_freq_%24\"],[0.44273235621212725,\"RandomForestClassifier\",\"char_freq_%24\"],[0.44273235621212725,\"RandomForestClassifier\",\"char_freq_%24\"],[0.44273235621212725,\"RandomForestClassifier\",\"char_freq_%24\"],[0.44273235621212725,\"RandomForestClassifier\",\"char_freq_%24\"],[0.44273235621212725,\"RandomForestClassifier\",\"char_freq_%24\"],[0.44273235621212725,\"RandomForestClassifier\",\"char_freq_%24\"],[0.44273235621212725,\"RandomForestClassifier\",\"char_freq_%24\"],[0.44273235621212725,\"RandomForestClassifier\",\"char_freq_%24\"],[0.44273235621212725,\"RandomForestClassifier\",\"char_freq_%24\"],[0.44273235621212725,\"RandomForestClassifier\",\"char_freq_%24\"],[0.44273235621212725,\"RandomForestClassifier\",\"char_freq_%24\"],[0.44273235621212725,\"RandomForestClassifier\",\"char_freq_%24\"],[0.44273235621212725,\"RandomForestClassifier\",\"char_freq_%24\"],[0.44273235621212725,\"RandomForestClassifier\",\"char_freq_%24\"],[0.44273235621212725,\"RandomForestClassifier\",\"char_freq_%24\"],[0.44273235621212725,\"RandomForestClassifier\",\"char_freq_%24\"],[0.44273235621212725,\"RandomForestClassifier\",\"char_freq_%24\"],[0.44273235621212725,\"RandomForestClassifier\",\"char_freq_%24\"],[0.44273235621212725,\"RandomForestClassifier\",\"char_freq_%24\"],[0.44273235621212725,\"RandomForestClassifier\",\"char_freq_%24\"],[0.44273235621212725,\"RandomForestClassifier\",\"char_freq_%24\"],[0.44273235621212725,\"RandomForestClassifier\",\"char_freq_%24\"],[0.44273235621212725,\"RandomForestClassifier\",\"char_freq_%24\"],[0.44273235621212725,\"RandomForestClassifier\",\"char_freq_%24\"],[0.44273235621212725,\"RandomForestClassifier\",\"char_freq_%24\"],[0.44273235621212725,\"RandomForestClassifier\",\"char_freq_%24\"],[0.44273235621212725,\"RandomForestClassifier\",\"char_freq_%24\"],[0.44273235621212725,\"RandomForestClassifier\",\"char_freq_%24\"],[0.44273235621212725,\"RandomForestClassifier\",\"char_freq_%24\"]],\"hovertemplate\":\"<b>%{hovertext}</b><br><br>prediction=%{y:.3f}<br>mean_prediction=%{customdata[0]:.3f}<extra></extra>\",\"hovertext\":[\"RandomForestClassifier\",\"RandomForestClassifier\",\"RandomForestClassifier\",\"RandomForestClassifier\",\"RandomForestClassifier\",\"RandomForestClassifier\",\"RandomForestClassifier\",\"RandomForestClassifier\",\"RandomForestClassifier\",\"RandomForestClassifier\",\"RandomForestClassifier\",\"RandomForestClassifier\",\"RandomForestClassifier\",\"RandomForestClassifier\",\"RandomForestClassifier\",\"RandomForestClassifier\",\"RandomForestClassifier\",\"RandomForestClassifier\",\"RandomForestClassifier\",\"RandomForestClassifier\",\"RandomForestClassifier\",\"RandomForestClassifier\",\"RandomForestClassifier\",\"RandomForestClassifier\",\"RandomForestClassifier\",\"RandomForestClassifier\",\"RandomForestClassifier\",\"RandomForestClassifier\",\"RandomForestClassifier\",\"RandomForestClassifier\",\"RandomForestClassifier\",\"RandomForestClassifier\",\"RandomForestClassifier\",\"RandomForestClassifier\",\"RandomForestClassifier\",\"RandomForestClassifier\",\"RandomForestClassifier\",\"RandomForestClassifier\",\"RandomForestClassifier\",\"RandomForestClassifier\",\"RandomForestClassifier\",\"RandomForestClassifier\",\"RandomForestClassifier\",\"RandomForestClassifier\",\"RandomForestClassifier\",\"RandomForestClassifier\",\"RandomForestClassifier\",\"RandomForestClassifier\",\"RandomForestClassifier\",\"RandomForestClassifier\",\"RandomForestClassifier\",\"RandomForestClassifier\",\"RandomForestClassifier\",\"RandomForestClassifier\",\"RandomForestClassifier\",\"RandomForestClassifier\",\"RandomForestClassifier\",\"RandomForestClassifier\",\"RandomForestClassifier\",\"RandomForestClassifier\",\"RandomForestClassifier\",\"RandomForestClassifier\",\"RandomForestClassifier\",\"RandomForestClassifier\",\"RandomForestClassifier\",\"RandomForestClassifier\",\"RandomForestClassifier\",\"RandomForestClassifier\",\"RandomForestClassifier\",\"RandomForestClassifier\",\"RandomForestClassifier\",\"RandomForestClassifier\",\"RandomForestClassifier\",\"RandomForestClassifier\",\"RandomForestClassifier\",\"RandomForestClassifier\",\"RandomForestClassifier\",\"RandomForestClassifier\",\"RandomForestClassifier\",\"RandomForestClassifier\",\"RandomForestClassifier\",\"RandomForestClassifier\",\"RandomForestClassifier\",\"RandomForestClassifier\",\"RandomForestClassifier\",\"RandomForestClassifier\",\"RandomForestClassifier\",\"RandomForestClassifier\",\"RandomForestClassifier\",\"RandomForestClassifier\",\"RandomForestClassifier\",\"RandomForestClassifier\",\"RandomForestClassifier\",\"RandomForestClassifier\",\"RandomForestClassifier\",\"RandomForestClassifier\",\"RandomForestClassifier\",\"RandomForestClassifier\",\"RandomForestClassifier\",\"RandomForestClassifier\",\"RandomForestClassifier\"],\"legendgroup\":\"RandomForestClassifier\",\"line\":{\"color\":\"#4378bf\",\"dash\":\"solid\",\"width\":2},\"marker\":{\"symbol\":\"circle\"},\"mode\":\"lines\",\"name\":\"RandomForestClassifier\",\"orientation\":\"v\",\"showlegend\":true,\"x\":[0.0,0.06003,0.12006,0.18009,0.24012,0.30015000000000003,0.36018,0.42021,0.48024,0.54027,0.6003000000000001,0.66033,0.72036,0.78039,0.84042,0.90045,0.96048,1.02051,1.08054,1.14057,1.2006000000000001,1.26063,1.32066,1.38069,1.44072,1.50075,1.56078,1.62081,1.68084,1.74087,1.8009,1.86093,1.92096,1.98099,2.04102,2.10105,2.16108,2.22111,2.28114,2.34117,2.4012000000000002,2.46123,2.52126,2.58129,2.64132,2.70135,2.76138,2.82141,2.88144,2.94147,3.0015,3.06153,3.12156,3.18159,3.24162,3.30165,3.36168,3.42171,3.48174,3.54177,3.6018,3.66183,3.72186,3.78189,3.84192,3.90195,3.96198,4.02201,4.08204,4.14207,4.2021,4.26213,4.32216,4.38219,4.44222,4.50225,4.56228,4.62231,4.68234,4.74237,4.8024000000000004,4.86243,4.92246,4.98249,5.04252,5.10255,5.16258,5.22261,5.28264,5.34267,5.4027,5.46273,5.52276,5.58279,5.64282,5.70285,5.76288,5.82291,5.88294,5.94297,6.003],\"xaxis\":\"x\",\"y\":[0.3981231397650438,0.5231107169467032,0.5460381857942819,0.5723355008540723,0.5744754062516557,0.5771853414368409,0.5785007968447881,0.5780960349400263,0.5782460349400261,0.5764476583166496,0.5756944521253837,0.5763623383042454,0.5765548548879934,0.5766094003425388,0.5766094003425388,0.578742613879526,0.578742613879526,0.5795633149067381,0.5798158722259621,0.5809644537862457,0.5809644537862457,0.5809644537862457,0.5809644537862457,0.5809644537862457,0.5809644537862457,0.5809644537862457,0.5809644537862457,0.5809644537862457,0.5809644537862457,0.5809644537862457,0.5809644537862457,0.5807311204529124,0.5807311204529124,0.5813811204529125,0.5873466371506753,0.5873466371506753,0.5873466371506753,0.5873466371506753,0.5873466371506753,0.5873466371506753,0.5873466371506753,0.5873466371506753,0.5873466371506753,0.5873466371506753,0.5873466371506753,0.5873466371506753,0.5873466371506753,0.5873466371506753,0.5873466371506753,0.5873466371506753,0.5873466371506753,0.5873466371506753,0.5873466371506753,0.5873466371506753,0.5873466371506753,0.5873466371506753,0.5873466371506753,0.5873466371506753,0.5873466371506753,0.5873466371506753,0.5873466371506753,0.5873466371506753,0.5873466371506753,0.5873466371506753,0.5873466371506753,0.5873466371506753,0.5873466371506753,0.5873466371506753,0.5873466371506753,0.5873466371506753,0.5873466371506753,0.5873466371506753,0.5873466371506753,0.5873466371506753,0.5873466371506753,0.5873466371506753,0.5873466371506753,0.5873466371506753,0.5873466371506753,0.5873466371506753,0.5873466371506753,0.5873466371506753,0.5873466371506753,0.5873466371506753,0.5873466371506753,0.5873466371506753,0.5873466371506753,0.5873466371506753,0.5873466371506753,0.5873466371506753,0.5873466371506753,0.5873466371506753,0.5873466371506753,0.5873466371506753,0.5873466371506753,0.5873466371506753,0.5873466371506753,0.5873466371506753,0.5873466371506753,0.5873466371506753,0.5873466371506753],\"yaxis\":\"y\",\"type\":\"scatter\",\"opacity\":1},{\"customdata\":[[0.44273235621212725,\"RandomForestClassifier\",\"capital_run_length_average\"],[0.44273235621212725,\"RandomForestClassifier\",\"capital_run_length_average\"],[0.44273235621212725,\"RandomForestClassifier\",\"capital_run_length_average\"],[0.44273235621212725,\"RandomForestClassifier\",\"capital_run_length_average\"],[0.44273235621212725,\"RandomForestClassifier\",\"capital_run_length_average\"],[0.44273235621212725,\"RandomForestClassifier\",\"capital_run_length_average\"],[0.44273235621212725,\"RandomForestClassifier\",\"capital_run_length_average\"],[0.44273235621212725,\"RandomForestClassifier\",\"capital_run_length_average\"],[0.44273235621212725,\"RandomForestClassifier\",\"capital_run_length_average\"],[0.44273235621212725,\"RandomForestClassifier\",\"capital_run_length_average\"],[0.44273235621212725,\"RandomForestClassifier\",\"capital_run_length_average\"],[0.44273235621212725,\"RandomForestClassifier\",\"capital_run_length_average\"],[0.44273235621212725,\"RandomForestClassifier\",\"capital_run_length_average\"],[0.44273235621212725,\"RandomForestClassifier\",\"capital_run_length_average\"],[0.44273235621212725,\"RandomForestClassifier\",\"capital_run_length_average\"],[0.44273235621212725,\"RandomForestClassifier\",\"capital_run_length_average\"],[0.44273235621212725,\"RandomForestClassifier\",\"capital_run_length_average\"],[0.44273235621212725,\"RandomForestClassifier\",\"capital_run_length_average\"],[0.44273235621212725,\"RandomForestClassifier\",\"capital_run_length_average\"],[0.44273235621212725,\"RandomForestClassifier\",\"capital_run_length_average\"],[0.44273235621212725,\"RandomForestClassifier\",\"capital_run_length_average\"],[0.44273235621212725,\"RandomForestClassifier\",\"capital_run_length_average\"],[0.44273235621212725,\"RandomForestClassifier\",\"capital_run_length_average\"],[0.44273235621212725,\"RandomForestClassifier\",\"capital_run_length_average\"],[0.44273235621212725,\"RandomForestClassifier\",\"capital_run_length_average\"],[0.44273235621212725,\"RandomForestClassifier\",\"capital_run_length_average\"],[0.44273235621212725,\"RandomForestClassifier\",\"capital_run_length_average\"],[0.44273235621212725,\"RandomForestClassifier\",\"capital_run_length_average\"],[0.44273235621212725,\"RandomForestClassifier\",\"capital_run_length_average\"],[0.44273235621212725,\"RandomForestClassifier\",\"capital_run_length_average\"],[0.44273235621212725,\"RandomForestClassifier\",\"capital_run_length_average\"],[0.44273235621212725,\"RandomForestClassifier\",\"capital_run_length_average\"],[0.44273235621212725,\"RandomForestClassifier\",\"capital_run_length_average\"],[0.44273235621212725,\"RandomForestClassifier\",\"capital_run_length_average\"],[0.44273235621212725,\"RandomForestClassifier\",\"capital_run_length_average\"],[0.44273235621212725,\"RandomForestClassifier\",\"capital_run_length_average\"],[0.44273235621212725,\"RandomForestClassifier\",\"capital_run_length_average\"],[0.44273235621212725,\"RandomForestClassifier\",\"capital_run_length_average\"],[0.44273235621212725,\"RandomForestClassifier\",\"capital_run_length_average\"],[0.44273235621212725,\"RandomForestClassifier\",\"capital_run_length_average\"],[0.44273235621212725,\"RandomForestClassifier\",\"capital_run_length_average\"],[0.44273235621212725,\"RandomForestClassifier\",\"capital_run_length_average\"],[0.44273235621212725,\"RandomForestClassifier\",\"capital_run_length_average\"],[0.44273235621212725,\"RandomForestClassifier\",\"capital_run_length_average\"],[0.44273235621212725,\"RandomForestClassifier\",\"capital_run_length_average\"],[0.44273235621212725,\"RandomForestClassifier\",\"capital_run_length_average\"],[0.44273235621212725,\"RandomForestClassifier\",\"capital_run_length_average\"],[0.44273235621212725,\"RandomForestClassifier\",\"capital_run_length_average\"],[0.44273235621212725,\"RandomForestClassifier\",\"capital_run_length_average\"],[0.44273235621212725,\"RandomForestClassifier\",\"capital_run_length_average\"],[0.44273235621212725,\"RandomForestClassifier\",\"capital_run_length_average\"],[0.44273235621212725,\"RandomForestClassifier\",\"capital_run_length_average\"],[0.44273235621212725,\"RandomForestClassifier\",\"capital_run_length_average\"],[0.44273235621212725,\"RandomForestClassifier\",\"capital_run_length_average\"],[0.44273235621212725,\"RandomForestClassifier\",\"capital_run_length_average\"],[0.44273235621212725,\"RandomForestClassifier\",\"capital_run_length_average\"],[0.44273235621212725,\"RandomForestClassifier\",\"capital_run_length_average\"],[0.44273235621212725,\"RandomForestClassifier\",\"capital_run_length_average\"],[0.44273235621212725,\"RandomForestClassifier\",\"capital_run_length_average\"],[0.44273235621212725,\"RandomForestClassifier\",\"capital_run_length_average\"],[0.44273235621212725,\"RandomForestClassifier\",\"capital_run_length_average\"],[0.44273235621212725,\"RandomForestClassifier\",\"capital_run_length_average\"],[0.44273235621212725,\"RandomForestClassifier\",\"capital_run_length_average\"],[0.44273235621212725,\"RandomForestClassifier\",\"capital_run_length_average\"],[0.44273235621212725,\"RandomForestClassifier\",\"capital_run_length_average\"],[0.44273235621212725,\"RandomForestClassifier\",\"capital_run_length_average\"],[0.44273235621212725,\"RandomForestClassifier\",\"capital_run_length_average\"],[0.44273235621212725,\"RandomForestClassifier\",\"capital_run_length_average\"],[0.44273235621212725,\"RandomForestClassifier\",\"capital_run_length_average\"],[0.44273235621212725,\"RandomForestClassifier\",\"capital_run_length_average\"],[0.44273235621212725,\"RandomForestClassifier\",\"capital_run_length_average\"],[0.44273235621212725,\"RandomForestClassifier\",\"capital_run_length_average\"],[0.44273235621212725,\"RandomForestClassifier\",\"capital_run_length_average\"],[0.44273235621212725,\"RandomForestClassifier\",\"capital_run_length_average\"],[0.44273235621212725,\"RandomForestClassifier\",\"capital_run_length_average\"],[0.44273235621212725,\"RandomForestClassifier\",\"capital_run_length_average\"],[0.44273235621212725,\"RandomForestClassifier\",\"capital_run_length_average\"],[0.44273235621212725,\"RandomForestClassifier\",\"capital_run_length_average\"],[0.44273235621212725,\"RandomForestClassifier\",\"capital_run_length_average\"],[0.44273235621212725,\"RandomForestClassifier\",\"capital_run_length_average\"],[0.44273235621212725,\"RandomForestClassifier\",\"capital_run_length_average\"],[0.44273235621212725,\"RandomForestClassifier\",\"capital_run_length_average\"],[0.44273235621212725,\"RandomForestClassifier\",\"capital_run_length_average\"],[0.44273235621212725,\"RandomForestClassifier\",\"capital_run_length_average\"],[0.44273235621212725,\"RandomForestClassifier\",\"capital_run_length_average\"],[0.44273235621212725,\"RandomForestClassifier\",\"capital_run_length_average\"],[0.44273235621212725,\"RandomForestClassifier\",\"capital_run_length_average\"],[0.44273235621212725,\"RandomForestClassifier\",\"capital_run_length_average\"],[0.44273235621212725,\"RandomForestClassifier\",\"capital_run_length_average\"],[0.44273235621212725,\"RandomForestClassifier\",\"capital_run_length_average\"],[0.44273235621212725,\"RandomForestClassifier\",\"capital_run_length_average\"],[0.44273235621212725,\"RandomForestClassifier\",\"capital_run_length_average\"],[0.44273235621212725,\"RandomForestClassifier\",\"capital_run_length_average\"],[0.44273235621212725,\"RandomForestClassifier\",\"capital_run_length_average\"],[0.44273235621212725,\"RandomForestClassifier\",\"capital_run_length_average\"],[0.44273235621212725,\"RandomForestClassifier\",\"capital_run_length_average\"],[0.44273235621212725,\"RandomForestClassifier\",\"capital_run_length_average\"],[0.44273235621212725,\"RandomForestClassifier\",\"capital_run_length_average\"],[0.44273235621212725,\"RandomForestClassifier\",\"capital_run_length_average\"],[0.44273235621212725,\"RandomForestClassifier\",\"capital_run_length_average\"],[0.44273235621212725,\"RandomForestClassifier\",\"capital_run_length_average\"]],\"hovertemplate\":\"<b>%{hovertext}</b><br><br>prediction=%{y:.3f}<br>mean_prediction=%{customdata[0]:.3f}<extra></extra>\",\"hovertext\":[\"RandomForestClassifier\",\"RandomForestClassifier\",\"RandomForestClassifier\",\"RandomForestClassifier\",\"RandomForestClassifier\",\"RandomForestClassifier\",\"RandomForestClassifier\",\"RandomForestClassifier\",\"RandomForestClassifier\",\"RandomForestClassifier\",\"RandomForestClassifier\",\"RandomForestClassifier\",\"RandomForestClassifier\",\"RandomForestClassifier\",\"RandomForestClassifier\",\"RandomForestClassifier\",\"RandomForestClassifier\",\"RandomForestClassifier\",\"RandomForestClassifier\",\"RandomForestClassifier\",\"RandomForestClassifier\",\"RandomForestClassifier\",\"RandomForestClassifier\",\"RandomForestClassifier\",\"RandomForestClassifier\",\"RandomForestClassifier\",\"RandomForestClassifier\",\"RandomForestClassifier\",\"RandomForestClassifier\",\"RandomForestClassifier\",\"RandomForestClassifier\",\"RandomForestClassifier\",\"RandomForestClassifier\",\"RandomForestClassifier\",\"RandomForestClassifier\",\"RandomForestClassifier\",\"RandomForestClassifier\",\"RandomForestClassifier\",\"RandomForestClassifier\",\"RandomForestClassifier\",\"RandomForestClassifier\",\"RandomForestClassifier\",\"RandomForestClassifier\",\"RandomForestClassifier\",\"RandomForestClassifier\",\"RandomForestClassifier\",\"RandomForestClassifier\",\"RandomForestClassifier\",\"RandomForestClassifier\",\"RandomForestClassifier\",\"RandomForestClassifier\",\"RandomForestClassifier\",\"RandomForestClassifier\",\"RandomForestClassifier\",\"RandomForestClassifier\",\"RandomForestClassifier\",\"RandomForestClassifier\",\"RandomForestClassifier\",\"RandomForestClassifier\",\"RandomForestClassifier\",\"RandomForestClassifier\",\"RandomForestClassifier\",\"RandomForestClassifier\",\"RandomForestClassifier\",\"RandomForestClassifier\",\"RandomForestClassifier\",\"RandomForestClassifier\",\"RandomForestClassifier\",\"RandomForestClassifier\",\"RandomForestClassifier\",\"RandomForestClassifier\",\"RandomForestClassifier\",\"RandomForestClassifier\",\"RandomForestClassifier\",\"RandomForestClassifier\",\"RandomForestClassifier\",\"RandomForestClassifier\",\"RandomForestClassifier\",\"RandomForestClassifier\",\"RandomForestClassifier\",\"RandomForestClassifier\",\"RandomForestClassifier\",\"RandomForestClassifier\",\"RandomForestClassifier\",\"RandomForestClassifier\",\"RandomForestClassifier\",\"RandomForestClassifier\",\"RandomForestClassifier\",\"RandomForestClassifier\",\"RandomForestClassifier\",\"RandomForestClassifier\",\"RandomForestClassifier\",\"RandomForestClassifier\",\"RandomForestClassifier\",\"RandomForestClassifier\",\"RandomForestClassifier\",\"RandomForestClassifier\",\"RandomForestClassifier\",\"RandomForestClassifier\",\"RandomForestClassifier\",\"RandomForestClassifier\"],\"legendgroup\":\"RandomForestClassifier\",\"line\":{\"color\":\"#4378bf\",\"dash\":\"solid\",\"width\":2},\"marker\":{\"symbol\":\"circle\"},\"mode\":\"lines\",\"name\":\"RandomForestClassifier\",\"orientation\":\"v\",\"showlegend\":false,\"x\":[1.0,12.015,23.03,34.045,45.06,56.075,67.09,78.105,89.12,100.135,111.15,122.165,133.18,144.195,155.21,166.22500000000002,177.24,188.255,199.27,210.28500000000003,221.3,232.315,243.33,254.34500000000003,265.36,276.375,287.39,298.40500000000003,309.42,320.435,331.45000000000005,342.46500000000003,353.48,364.495,375.51,386.52500000000003,397.54,408.555,419.57000000000005,430.58500000000004,441.6,452.615,463.63,474.64500000000004,485.66,496.675,507.69000000000005,518.705,529.72,540.735,551.75,562.765,573.78,584.7950000000001,595.8100000000001,606.825,617.84,628.855,639.87,650.885,661.9000000000001,672.9150000000001,683.9300000000001,694.945,705.96,716.975,727.99,739.005,750.02,761.0350000000001,772.0500000000001,783.065,794.08,805.095,816.11,827.125,838.1400000000001,849.1550000000001,860.1700000000001,871.1850000000001,882.2,893.215,904.23,915.245,926.26,937.2750000000001,948.2900000000001,959.3050000000001,970.32,981.335,992.35,1003.365,1014.3800000000001,1025.395,1036.41,1047.425,1058.44,1069.4550000000002,1080.47,1091.4850000000001,1102.5],\"xaxis\":\"x2\",\"y\":[0.3762558763670972,0.529625850359774,0.5483844847295412,0.5496955616976418,0.5476788950309751,0.5476788950309751,0.5476788950309751,0.5476788950309751,0.5476788950309751,0.5476788950309751,0.5476788950309751,0.5476788950309751,0.5476788950309751,0.5476788950309751,0.5498292861673982,0.5523895700697649,0.5523895700697649,0.5523895700697649,0.5523895700697649,0.5523895700697649,0.5523895700697649,0.5523895700697649,0.5523895700697649,0.5523895700697649,0.5523895700697649,0.5523895700697649,0.5523895700697649,0.5523895700697649,0.5523895700697649,0.5523895700697649,0.5523895700697649,0.5523895700697649,0.5523895700697649,0.5523895700697649,0.5523895700697649,0.5523895700697649,0.5523895700697649,0.5523895700697649,0.5523895700697649,0.5523895700697649,0.5523895700697649,0.5523895700697649,0.5523895700697649,0.5523895700697649,0.5523895700697649,0.5523895700697649,0.5523895700697649,0.5533156032098284,0.5541414960669713,0.5541414960669713,0.5541414960669713,0.5541414960669713,0.5541414960669713,0.5541414960669713,0.5541414960669713,0.5541414960669713,0.5541414960669713,0.5541414960669713,0.5541414960669713,0.5541414960669713,0.5541414960669713,0.5541414960669713,0.5541414960669713,0.5541414960669713,0.5541414960669713,0.5541414960669713,0.5541414960669713,0.5541414960669713,0.5541414960669713,0.5541414960669713,0.5541414960669713,0.5541414960669713,0.5541414960669713,0.5541414960669713,0.5541414960669713,0.5541414960669713,0.5541414960669713,0.5541414960669713,0.5541414960669713,0.5541414960669713,0.5541414960669713,0.5541414960669713,0.5541414960669713,0.5541414960669713,0.5541414960669713,0.5541414960669713,0.5541414960669713,0.5541414960669713,0.5541414960669713,0.5541414960669713,0.5541414960669713,0.5541414960669713,0.5541414960669713,0.5541414960669713,0.5541414960669713,0.5541414960669713,0.5541414960669713,0.5541414960669713,0.5541414960669713,0.5541414960669713,0.5541414960669713],\"yaxis\":\"y2\",\"type\":\"scatter\",\"opacity\":1}],                        {\"template\":{\"data\":{\"scatter\":[{\"type\":\"scatter\"}]}},\"xaxis\":{\"anchor\":\"y\",\"domain\":[0.0,0.475],\"title\":{\"text\":\"\"},\"showticklabels\":true,\"type\":\"linear\",\"gridwidth\":2,\"zeroline\":false,\"automargin\":true,\"ticks\":\"outside\",\"tickcolor\":\"white\",\"ticklen\":3,\"fixedrange\":true},\"yaxis\":{\"anchor\":\"x\",\"domain\":[0.0,1.0],\"title\":{\"text\":\"\"},\"range\":[0.3187181300023168,0.6117674105277987],\"type\":\"linear\",\"gridwidth\":2,\"zeroline\":false,\"automargin\":true,\"ticks\":\"outside\",\"tickcolor\":\"white\",\"ticklen\":3,\"fixedrange\":true},\"xaxis2\":{\"anchor\":\"y2\",\"domain\":[0.525,1.0],\"title\":{\"text\":\"\"},\"showticklabels\":true,\"type\":\"linear\",\"gridwidth\":2,\"zeroline\":false,\"automargin\":true,\"ticks\":\"outside\",\"tickcolor\":\"white\",\"ticklen\":3,\"fixedrange\":true},\"yaxis2\":{\"anchor\":\"x2\",\"domain\":[0.0,1.0],\"matches\":\"y\",\"showticklabels\":false,\"type\":\"linear\",\"gridwidth\":2,\"zeroline\":false,\"automargin\":true,\"ticks\":\"outside\",\"tickcolor\":\"white\",\"ticklen\":3,\"fixedrange\":true,\"title\":{\"text\":\"\"}},\"annotations\":[{\"font\":{\"size\":13},\"showarrow\":false,\"text\":\"char_freq_%24\",\"x\":0.2375,\"xanchor\":\"center\",\"xref\":\"paper\",\"y\":1.0,\"yanchor\":\"bottom\",\"yref\":\"paper\"},{\"font\":{\"size\":13},\"showarrow\":false,\"text\":\"capital_run_length_average\",\"x\":0.7625,\"xanchor\":\"center\",\"xref\":\"paper\",\"y\":1.0,\"yanchor\":\"bottom\",\"yref\":\"paper\"},{\"font\":{\"size\":13},\"showarrow\":false,\"text\":\"prediction\",\"textangle\":-90,\"x\":-0.07,\"xref\":\"paper\",\"y\":0.5,\"yref\":\"paper\"}],\"legend\":{\"title\":{\"text\":\"label\",\"font\":{\"size\":12}},\"tracegroupgap\":0,\"font\":{\"size\":11},\"orientation\":\"h\",\"yanchor\":\"bottom\",\"y\":1.0613496932515338,\"xanchor\":\"right\",\"x\":1,\"itemsizing\":\"constant\"},\"margin\":{\"t\":78,\"b\":71,\"r\":30},\"font\":{\"color\":\"#371ea3\"},\"title\":{\"font\":{\"size\":16},\"text\":\"PDP comparison\",\"x\":0.15},\"hovermode\":\"x unified\",\"height\":489},                        {\"displaylogo\": false, \"staticPlot\": false, \"toImageButtonOptions\": {\"height\": null, \"width\": null}, \"modeBarButtonsToRemove\": [\"sendDataToCloud\", \"lasso2d\", \"autoScale2d\", \"select2d\", \"zoom2d\", \"pan2d\", \"zoomIn2d\", \"zoomOut2d\", \"resetScale2d\", \"toggleSpikelines\", \"hoverCompareCartesian\", \"hoverClosestCartesian\"], \"responsive\": true}                    ).then(function(){\n                            \nvar gd = document.getElementById('96ef628d-1f17-4fa1-820d-55ce2030dd74');\nvar x = new MutationObserver(function (mutations, observer) {{\n        var display = window.getComputedStyle(gd).display;\n        if (!display || display === 'none') {{\n            console.log([gd, 'removed!']);\n            Plotly.purge(gd);\n            observer.disconnect();\n        }}\n}});\n\n// Listen for the removal of the full notebook cells\nvar notebookContainer = gd.closest('#notebook-container');\nif (notebookContainer) {{\n    x.observe(notebookContainer, {childList: true});\n}}\n\n// Listen for the clearing of the current output cell\nvar outputEl = gd.closest('.output');\nif (outputEl) {{\n    x.observe(outputEl, {childList: true});\n}}\n\n                        })                };                });            </script>        </div>"
     },
     "metadata": {},
     "output_type": "display_data"
    }
   ],
   "source": [
    "pdp_XG.plot(pdp, variables=[\"char_freq_%24\", \"capital_run_length_average\"], title = \"PDP comparison\")"
   ],
   "metadata": {
    "collapsed": false
   }
  },
  {
   "cell_type": "code",
   "execution_count": 44,
   "outputs": [
    {
     "name": "stdout",
     "output_type": "stream",
     "text": [
      "[0.98615324 0.6348719 ]\n"
     ]
    }
   ],
   "source": [
    "print(XGexplainer.predict(observations))"
   ],
   "metadata": {
    "collapsed": false
   }
  }
 ],
 "metadata": {
  "kernelspec": {
   "display_name": "Python 3 (ipykernel)",
   "language": "python",
   "name": "python3"
  },
  "language_info": {
   "codemirror_mode": {
    "name": "ipython",
    "version": 3
   },
   "file_extension": ".py",
   "mimetype": "text/x-python",
   "name": "python",
   "nbconvert_exporter": "python",
   "pygments_lexer": "ipython3",
   "version": "3.8.8"
  }
 },
 "nbformat": 4,
 "nbformat_minor": 1
}
