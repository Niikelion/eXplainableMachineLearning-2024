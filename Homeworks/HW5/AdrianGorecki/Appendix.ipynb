{
 "cells": [
  {
   "cell_type": "code",
   "execution_count": 57,
   "metadata": {},
   "outputs": [
    {
     "name": "stdout",
     "output_type": "stream",
     "text": [
      "Python 3.11.5\n"
     ]
    },
    {
     "data": {
      "text/plain": [
       "{'dalex': '1.6.0',\n",
       " 'xgboost': '2.0.1',\n",
       " 'sklearn': '1.3.2',\n",
       " 'pandas': '2.1.2',\n",
       " 'numpy': '1.26.1'}"
      ]
     },
     "execution_count": 57,
     "metadata": {},
     "output_type": "execute_result"
    }
   ],
   "source": [
    "import dalex as dx\n",
    "import xgboost\n",
    "\n",
    "import sklearn\n",
    "\n",
    "import pandas as pd\n",
    "import numpy as np\n",
    "\n",
    "import warnings\n",
    "warnings.filterwarnings(\"ignore\")\n",
    "\n",
    "import platform\n",
    "print(f'Python {platform.python_version()}')\n",
    "\n",
    "{package.__name__: package.__version__ for package in [dx, xgboost, sklearn, pd, np]}"
   ]
  },
  {
   "cell_type": "markdown",
   "metadata": {},
   "source": [
    "## Task A"
   ]
  },
  {
   "cell_type": "markdown",
   "metadata": {},
   "source": [
    "PDP:\n",
    "\n",
    "$g^1_{PD}(z) = E_{X_2} (z + x_2)^2 = \\int_{-1}^1 (z + y)^2 / 2 \\, dy = \\int_{-1}^1 (z^2 + y^2 + zy) / 2 \\, dy = z^2 + 1/3$\n",
    "\n",
    "ME:\n",
    "\n",
    "$g_1^{MP}(z) = E_{X_2|x_1 = z} (z + x_2)^2 = 4z^2$"
   ]
  },
  {
   "cell_type": "markdown",
   "metadata": {},
   "source": [
    "## Task B"
   ]
  },
  {
   "cell_type": "markdown",
   "metadata": {},
   "source": [
    "### 0. For the selected data set, train at least one tree-based ensemble model, e.g. random forest, gbdt, xgboost."
   ]
  },
  {
   "cell_type": "code",
   "execution_count": 58,
   "metadata": {},
   "outputs": [
    {
     "name": "stdout",
     "output_type": "stream",
     "text": [
      "File ‘churn.csv’ already there; not retrieving.\n",
      "\n"
     ]
    }
   ],
   "source": [
    "!wget -nc https://raw.githubusercontent.com/adrianstando/imbalanced-benchmarking-set/main/datasets/churn.csv"
   ]
  },
  {
   "cell_type": "code",
   "execution_count": 59,
   "metadata": {},
   "outputs": [
    {
     "data": {
      "text/html": [
       "<div>\n",
       "<style scoped>\n",
       "    .dataframe tbody tr th:only-of-type {\n",
       "        vertical-align: middle;\n",
       "    }\n",
       "\n",
       "    .dataframe tbody tr th {\n",
       "        vertical-align: top;\n",
       "    }\n",
       "\n",
       "    .dataframe thead th {\n",
       "        text-align: right;\n",
       "    }\n",
       "</style>\n",
       "<table border=\"1\" class=\"dataframe\">\n",
       "  <thead>\n",
       "    <tr style=\"text-align: right;\">\n",
       "      <th></th>\n",
       "      <th>total_day_minutes</th>\n",
       "      <th>total_day_charge</th>\n",
       "      <th>total_eve_minutes</th>\n",
       "      <th>total_eve_charge</th>\n",
       "      <th>total_night_minutes</th>\n",
       "      <th>total_night_charge</th>\n",
       "      <th>total_intl_minutes</th>\n",
       "      <th>total_intl_charge</th>\n",
       "      <th>TARGET</th>\n",
       "    </tr>\n",
       "  </thead>\n",
       "  <tbody>\n",
       "    <tr>\n",
       "      <th>0</th>\n",
       "      <td>265.1</td>\n",
       "      <td>45.07</td>\n",
       "      <td>197.4</td>\n",
       "      <td>16.78</td>\n",
       "      <td>244.7</td>\n",
       "      <td>11.01</td>\n",
       "      <td>10.0</td>\n",
       "      <td>2.70</td>\n",
       "      <td>0</td>\n",
       "    </tr>\n",
       "    <tr>\n",
       "      <th>1</th>\n",
       "      <td>161.6</td>\n",
       "      <td>27.47</td>\n",
       "      <td>195.5</td>\n",
       "      <td>16.62</td>\n",
       "      <td>254.4</td>\n",
       "      <td>11.45</td>\n",
       "      <td>13.7</td>\n",
       "      <td>3.70</td>\n",
       "      <td>0</td>\n",
       "    </tr>\n",
       "    <tr>\n",
       "      <th>2</th>\n",
       "      <td>243.4</td>\n",
       "      <td>41.38</td>\n",
       "      <td>121.2</td>\n",
       "      <td>10.30</td>\n",
       "      <td>162.6</td>\n",
       "      <td>7.32</td>\n",
       "      <td>12.2</td>\n",
       "      <td>3.29</td>\n",
       "      <td>0</td>\n",
       "    </tr>\n",
       "    <tr>\n",
       "      <th>3</th>\n",
       "      <td>299.4</td>\n",
       "      <td>50.90</td>\n",
       "      <td>61.9</td>\n",
       "      <td>5.26</td>\n",
       "      <td>196.9</td>\n",
       "      <td>8.86</td>\n",
       "      <td>6.6</td>\n",
       "      <td>1.78</td>\n",
       "      <td>0</td>\n",
       "    </tr>\n",
       "    <tr>\n",
       "      <th>4</th>\n",
       "      <td>166.7</td>\n",
       "      <td>28.34</td>\n",
       "      <td>148.3</td>\n",
       "      <td>12.61</td>\n",
       "      <td>186.9</td>\n",
       "      <td>8.41</td>\n",
       "      <td>10.1</td>\n",
       "      <td>2.73</td>\n",
       "      <td>0</td>\n",
       "    </tr>\n",
       "  </tbody>\n",
       "</table>\n",
       "</div>"
      ],
      "text/plain": [
       "   total_day_minutes  total_day_charge  total_eve_minutes  total_eve_charge  \\\n",
       "0              265.1             45.07              197.4             16.78   \n",
       "1              161.6             27.47              195.5             16.62   \n",
       "2              243.4             41.38              121.2             10.30   \n",
       "3              299.4             50.90               61.9              5.26   \n",
       "4              166.7             28.34              148.3             12.61   \n",
       "\n",
       "   total_night_minutes  total_night_charge  total_intl_minutes  \\\n",
       "0                244.7               11.01                10.0   \n",
       "1                254.4               11.45                13.7   \n",
       "2                162.6                7.32                12.2   \n",
       "3                196.9                8.86                 6.6   \n",
       "4                186.9                8.41                10.1   \n",
       "\n",
       "   total_intl_charge  TARGET  \n",
       "0               2.70       0  \n",
       "1               3.70       0  \n",
       "2               3.29       0  \n",
       "3               1.78       0  \n",
       "4               2.73       0  "
      ]
     },
     "execution_count": 59,
     "metadata": {},
     "output_type": "execute_result"
    }
   ],
   "source": [
    "dataset = pd.read_csv('churn.csv', index_col=0)\n",
    "dataset.head()"
   ]
  },
  {
   "cell_type": "code",
   "execution_count": 60,
   "metadata": {},
   "outputs": [],
   "source": [
    "X = dataset.drop(columns='TARGET')\n",
    "y = dataset.TARGET"
   ]
  },
  {
   "cell_type": "code",
   "execution_count": 61,
   "metadata": {},
   "outputs": [
    {
     "data": {
      "text/html": [
       "<style>#sk-container-id-4 {color: black;}#sk-container-id-4 pre{padding: 0;}#sk-container-id-4 div.sk-toggleable {background-color: white;}#sk-container-id-4 label.sk-toggleable__label {cursor: pointer;display: block;width: 100%;margin-bottom: 0;padding: 0.3em;box-sizing: border-box;text-align: center;}#sk-container-id-4 label.sk-toggleable__label-arrow:before {content: \"▸\";float: left;margin-right: 0.25em;color: #696969;}#sk-container-id-4 label.sk-toggleable__label-arrow:hover:before {color: black;}#sk-container-id-4 div.sk-estimator:hover label.sk-toggleable__label-arrow:before {color: black;}#sk-container-id-4 div.sk-toggleable__content {max-height: 0;max-width: 0;overflow: hidden;text-align: left;background-color: #f0f8ff;}#sk-container-id-4 div.sk-toggleable__content pre {margin: 0.2em;color: black;border-radius: 0.25em;background-color: #f0f8ff;}#sk-container-id-4 input.sk-toggleable__control:checked~div.sk-toggleable__content {max-height: 200px;max-width: 100%;overflow: auto;}#sk-container-id-4 input.sk-toggleable__control:checked~label.sk-toggleable__label-arrow:before {content: \"▾\";}#sk-container-id-4 div.sk-estimator input.sk-toggleable__control:checked~label.sk-toggleable__label {background-color: #d4ebff;}#sk-container-id-4 div.sk-label input.sk-toggleable__control:checked~label.sk-toggleable__label {background-color: #d4ebff;}#sk-container-id-4 input.sk-hidden--visually {border: 0;clip: rect(1px 1px 1px 1px);clip: rect(1px, 1px, 1px, 1px);height: 1px;margin: -1px;overflow: hidden;padding: 0;position: absolute;width: 1px;}#sk-container-id-4 div.sk-estimator {font-family: monospace;background-color: #f0f8ff;border: 1px dotted black;border-radius: 0.25em;box-sizing: border-box;margin-bottom: 0.5em;}#sk-container-id-4 div.sk-estimator:hover {background-color: #d4ebff;}#sk-container-id-4 div.sk-parallel-item::after {content: \"\";width: 100%;border-bottom: 1px solid gray;flex-grow: 1;}#sk-container-id-4 div.sk-label:hover label.sk-toggleable__label {background-color: #d4ebff;}#sk-container-id-4 div.sk-serial::before {content: \"\";position: absolute;border-left: 1px solid gray;box-sizing: border-box;top: 0;bottom: 0;left: 50%;z-index: 0;}#sk-container-id-4 div.sk-serial {display: flex;flex-direction: column;align-items: center;background-color: white;padding-right: 0.2em;padding-left: 0.2em;position: relative;}#sk-container-id-4 div.sk-item {position: relative;z-index: 1;}#sk-container-id-4 div.sk-parallel {display: flex;align-items: stretch;justify-content: center;background-color: white;position: relative;}#sk-container-id-4 div.sk-item::before, #sk-container-id-4 div.sk-parallel-item::before {content: \"\";position: absolute;border-left: 1px solid gray;box-sizing: border-box;top: 0;bottom: 0;left: 50%;z-index: -1;}#sk-container-id-4 div.sk-parallel-item {display: flex;flex-direction: column;z-index: 1;position: relative;background-color: white;}#sk-container-id-4 div.sk-parallel-item:first-child::after {align-self: flex-end;width: 50%;}#sk-container-id-4 div.sk-parallel-item:last-child::after {align-self: flex-start;width: 50%;}#sk-container-id-4 div.sk-parallel-item:only-child::after {width: 0;}#sk-container-id-4 div.sk-dashed-wrapped {border: 1px dashed gray;margin: 0 0.4em 0.5em 0.4em;box-sizing: border-box;padding-bottom: 0.4em;background-color: white;}#sk-container-id-4 div.sk-label label {font-family: monospace;font-weight: bold;display: inline-block;line-height: 1.2em;}#sk-container-id-4 div.sk-label-container {text-align: center;}#sk-container-id-4 div.sk-container {/* jupyter's `normalize.less` sets `[hidden] { display: none; }` but bootstrap.min.css set `[hidden] { display: none !important; }` so we also need the `!important` here to be able to override the default hidden behavior on the sphinx rendered scikit-learn.org. See: https://github.com/scikit-learn/scikit-learn/issues/21755 */display: inline-block !important;position: relative;}#sk-container-id-4 div.sk-text-repr-fallback {display: none;}</style><div id=\"sk-container-id-4\" class=\"sk-top-container\"><div class=\"sk-text-repr-fallback\"><pre>XGBClassifier(base_score=None, booster=None, callbacks=None,\n",
       "              colsample_bylevel=None, colsample_bynode=None,\n",
       "              colsample_bytree=None, device=None, early_stopping_rounds=None,\n",
       "              enable_categorical=False, eval_metric=None, feature_types=None,\n",
       "              gamma=None, grow_policy=None, importance_type=None,\n",
       "              interaction_constraints=None, learning_rate=None, max_bin=None,\n",
       "              max_cat_threshold=None, max_cat_to_onehot=None,\n",
       "              max_delta_step=None, max_depth=None, max_leaves=None,\n",
       "              min_child_weight=None, missing=nan, monotone_constraints=None,\n",
       "              multi_strategy=None, n_estimators=None, n_jobs=None,\n",
       "              num_parallel_tree=None, random_state=None, ...)</pre><b>In a Jupyter environment, please rerun this cell to show the HTML representation or trust the notebook. <br />On GitHub, the HTML representation is unable to render, please try loading this page with nbviewer.org.</b></div><div class=\"sk-container\" hidden><div class=\"sk-item\"><div class=\"sk-estimator sk-toggleable\"><input class=\"sk-toggleable__control sk-hidden--visually\" id=\"sk-estimator-id-4\" type=\"checkbox\" checked><label for=\"sk-estimator-id-4\" class=\"sk-toggleable__label sk-toggleable__label-arrow\">XGBClassifier</label><div class=\"sk-toggleable__content\"><pre>XGBClassifier(base_score=None, booster=None, callbacks=None,\n",
       "              colsample_bylevel=None, colsample_bynode=None,\n",
       "              colsample_bytree=None, device=None, early_stopping_rounds=None,\n",
       "              enable_categorical=False, eval_metric=None, feature_types=None,\n",
       "              gamma=None, grow_policy=None, importance_type=None,\n",
       "              interaction_constraints=None, learning_rate=None, max_bin=None,\n",
       "              max_cat_threshold=None, max_cat_to_onehot=None,\n",
       "              max_delta_step=None, max_depth=None, max_leaves=None,\n",
       "              min_child_weight=None, missing=nan, monotone_constraints=None,\n",
       "              multi_strategy=None, n_estimators=None, n_jobs=None,\n",
       "              num_parallel_tree=None, random_state=None, ...)</pre></div></div></div></div></div>"
      ],
      "text/plain": [
       "XGBClassifier(base_score=None, booster=None, callbacks=None,\n",
       "              colsample_bylevel=None, colsample_bynode=None,\n",
       "              colsample_bytree=None, device=None, early_stopping_rounds=None,\n",
       "              enable_categorical=False, eval_metric=None, feature_types=None,\n",
       "              gamma=None, grow_policy=None, importance_type=None,\n",
       "              interaction_constraints=None, learning_rate=None, max_bin=None,\n",
       "              max_cat_threshold=None, max_cat_to_onehot=None,\n",
       "              max_delta_step=None, max_depth=None, max_leaves=None,\n",
       "              min_child_weight=None, missing=nan, monotone_constraints=None,\n",
       "              multi_strategy=None, n_estimators=None, n_jobs=None,\n",
       "              num_parallel_tree=None, random_state=None, ...)"
      ]
     },
     "execution_count": 61,
     "metadata": {},
     "output_type": "execute_result"
    }
   ],
   "source": [
    "model = xgboost.XGBClassifier()\n",
    "model.fit(X, y)"
   ]
  },
  {
   "cell_type": "markdown",
   "metadata": {},
   "source": [
    "### 1. Calculate the predictions for some selected observations."
   ]
  },
  {
   "cell_type": "code",
   "execution_count": 62,
   "metadata": {},
   "outputs": [],
   "source": [
    "observation1Index = 0\n",
    "observation2Index = 1\n",
    "observation3Index = 5"
   ]
  },
  {
   "cell_type": "code",
   "execution_count": 63,
   "metadata": {},
   "outputs": [
    {
     "data": {
      "text/plain": [
       "total_day_minutes      265.10\n",
       "total_day_charge        45.07\n",
       "total_eve_minutes      197.40\n",
       "total_eve_charge        16.78\n",
       "total_night_minutes    244.70\n",
       "total_night_charge      11.01\n",
       "total_intl_minutes      10.00\n",
       "total_intl_charge        2.70\n",
       "Name: 0, dtype: float64"
      ]
     },
     "execution_count": 63,
     "metadata": {},
     "output_type": "execute_result"
    }
   ],
   "source": [
    "observation1 = X.iloc[observation1Index]\n",
    "observation1"
   ]
  },
  {
   "cell_type": "code",
   "execution_count": 64,
   "metadata": {},
   "outputs": [
    {
     "data": {
      "text/plain": [
       "total_day_minutes      161.60\n",
       "total_day_charge        27.47\n",
       "total_eve_minutes      195.50\n",
       "total_eve_charge        16.62\n",
       "total_night_minutes    254.40\n",
       "total_night_charge      11.45\n",
       "total_intl_minutes      13.70\n",
       "total_intl_charge        3.70\n",
       "Name: 1, dtype: float64"
      ]
     },
     "execution_count": 64,
     "metadata": {},
     "output_type": "execute_result"
    }
   ],
   "source": [
    "observation2 = X.iloc[observation2Index]\n",
    "observation2"
   ]
  },
  {
   "cell_type": "code",
   "execution_count": 65,
   "metadata": {},
   "outputs": [
    {
     "data": {
      "text/plain": [
       "total_day_minutes      223.40\n",
       "total_day_charge        37.98\n",
       "total_eve_minutes      220.60\n",
       "total_eve_charge        18.75\n",
       "total_night_minutes    203.90\n",
       "total_night_charge       9.18\n",
       "total_intl_minutes       6.30\n",
       "total_intl_charge        1.70\n",
       "Name: 5, dtype: float64"
      ]
     },
     "execution_count": 65,
     "metadata": {},
     "output_type": "execute_result"
    }
   ],
   "source": [
    "observation3 = X.iloc[observation3Index]\n",
    "observation3"
   ]
  },
  {
   "cell_type": "code",
   "execution_count": 66,
   "metadata": {},
   "outputs": [
    {
     "name": "stdout",
     "output_type": "stream",
     "text": [
      "The probability of 0 in the first observation is 0.837304949760437\n",
      "The probability of 0 in the second observation is 0.866310715675354\n",
      "The probability of 0 in the third observation is 0.8529270887374878\n"
     ]
    }
   ],
   "source": [
    "probabilities = model.predict_proba([observation1, observation2, observation3])\n",
    "\n",
    "print(f'The probability of 0 in the first observation is {probabilities[0][0]}')\n",
    "print(f'The probability of 0 in the second observation is {probabilities[1][0]}')\n",
    "print(f'The probability of 0 in the third observation is {probabilities[2][0]}')"
   ]
  },
  {
   "cell_type": "markdown",
   "metadata": {},
   "source": [
    "### 2. Then, calculate the what-if explanations of these predictions using Ceteris Paribus profiles (also called What-if plots), e.g. in Python: AIX360, Alibi dalex, PDPbox; in R: pdp, DALEX, ALEplot."
   ]
  },
  {
   "cell_type": "code",
   "execution_count": 67,
   "metadata": {},
   "outputs": [
    {
     "name": "stdout",
     "output_type": "stream",
     "text": [
      "Preparation of a new explainer is initiated\n",
      "\n",
      "  -> data              : 5000 rows 8 cols\n",
      "  -> target variable   : Parameter 'y' was a pandas.Series. Converted to a numpy.ndarray.\n",
      "  -> target variable   : 5000 values\n",
      "  -> model_class       : xgboost.sklearn.XGBClassifier (default)\n",
      "  -> label             : Not specified, model's class short name will be used. (default)\n",
      "  -> predict function  : <function pf_xgboost_classifier_categorical at 0x7f31f4d179c0> will be used\n",
      "  -> predict function  : Accepts only pandas.DataFrame, numpy.ndarray causes problems.\n",
      "  -> predicted values  : min = 0.000151, mean = 0.142, max = 0.998\n",
      "  -> model type        : classification will be used (default)\n",
      "  -> residual function : difference between y and yhat (default)\n",
      "  -> residuals         : min = -0.712, mean = -0.000114, max = 0.932\n",
      "  -> model_info        : package xgboost\n",
      "\n",
      "A new explainer has been created!\n"
     ]
    }
   ],
   "source": [
    "def pf_xgboost_classifier_categorical(model, df):\n",
    "    df.loc[:, df.dtypes == 'object'] =\\\n",
    "        df.select_dtypes(['object'])\\\n",
    "        .apply(lambda x: x.astype('category'))\n",
    "    return model.predict_proba(df)[:, 1]\n",
    "\n",
    "explainer = dx.Explainer(model, X, y, predict_function=pf_xgboost_classifier_categorical)"
   ]
  },
  {
   "cell_type": "code",
   "execution_count": 68,
   "metadata": {},
   "outputs": [
    {
     "name": "stderr",
     "output_type": "stream",
     "text": [
      "Calculating ceteris paribus: 100%|██████████| 8/8 [00:00<00:00, 215.27it/s]\n"
     ]
    },
    {
     "data": {
      "application/vnd.plotly.v1+json": {
       "config": {
        "displaylogo": false,
        "modeBarButtonsToRemove": [
         "sendDataToCloud",
         "lasso2d",
         "autoScale2d",
         "select2d",
         "zoom2d",
         "pan2d",
         "zoomIn2d",
         "zoomOut2d",
         "resetScale2d",
         "toggleSpikelines",
         "hoverCompareCartesian",
         "hoverClosestCartesian"
        ],
        "plotlyServerURL": "https://plot.ly",
        "staticPlot": false,
        "toImageButtonOptions": {
         "height": null,
         "width": null
        }
       },
       "data": [
        {
         "customdata": [
          [
           "</br>id: 0</br>prediction: 0.269</br>total_intl_minutes: 0.0</br></br>total_day_minutes: 265.1</br>total_day_charge: 45.07</br>total_eve_minutes: 197.4</br>total_eve_charge: 16.78</br>total_night_minutes: 244.7</br>total_night_charge: 11.01</br>total_intl_charge: 2.7</br>_original_yhat_: 0.1626950353384018</br>"
          ],
          [
           "</br>id: 0</br>prediction: 0.269</br>total_intl_minutes: 0.2</br></br>total_day_minutes: 265.1</br>total_day_charge: 45.07</br>total_eve_minutes: 197.4</br>total_eve_charge: 16.78</br>total_night_minutes: 244.7</br>total_night_charge: 11.01</br>total_intl_charge: 2.7</br>_original_yhat_: 0.1626950353384018</br>"
          ],
          [
           "</br>id: 0</br>prediction: 0.269</br>total_intl_minutes: 0.4</br></br>total_day_minutes: 265.1</br>total_day_charge: 45.07</br>total_eve_minutes: 197.4</br>total_eve_charge: 16.78</br>total_night_minutes: 244.7</br>total_night_charge: 11.01</br>total_intl_charge: 2.7</br>_original_yhat_: 0.1626950353384018</br>"
          ],
          [
           "</br>id: 0</br>prediction: 0.269</br>total_intl_minutes: 0.6000000000000001</br></br>total_day_minutes: 265.1</br>total_day_charge: 45.07</br>total_eve_minutes: 197.4</br>total_eve_charge: 16.78</br>total_night_minutes: 244.7</br>total_night_charge: 11.01</br>total_intl_charge: 2.7</br>_original_yhat_: 0.1626950353384018</br>"
          ],
          [
           "</br>id: 0</br>prediction: 0.269</br>total_intl_minutes: 0.8</br></br>total_day_minutes: 265.1</br>total_day_charge: 45.07</br>total_eve_minutes: 197.4</br>total_eve_charge: 16.78</br>total_night_minutes: 244.7</br>total_night_charge: 11.01</br>total_intl_charge: 2.7</br>_original_yhat_: 0.1626950353384018</br>"
          ],
          [
           "</br>id: 0</br>prediction: 0.269</br>total_intl_minutes: 1.0</br></br>total_day_minutes: 265.1</br>total_day_charge: 45.07</br>total_eve_minutes: 197.4</br>total_eve_charge: 16.78</br>total_night_minutes: 244.7</br>total_night_charge: 11.01</br>total_intl_charge: 2.7</br>_original_yhat_: 0.1626950353384018</br>"
          ],
          [
           "</br>id: 0</br>prediction: 0.269</br>total_intl_minutes: 1.2000000000000002</br></br>total_day_minutes: 265.1</br>total_day_charge: 45.07</br>total_eve_minutes: 197.4</br>total_eve_charge: 16.78</br>total_night_minutes: 244.7</br>total_night_charge: 11.01</br>total_intl_charge: 2.7</br>_original_yhat_: 0.1626950353384018</br>"
          ],
          [
           "</br>id: 0</br>prediction: 0.269</br>total_intl_minutes: 1.4000000000000001</br></br>total_day_minutes: 265.1</br>total_day_charge: 45.07</br>total_eve_minutes: 197.4</br>total_eve_charge: 16.78</br>total_night_minutes: 244.7</br>total_night_charge: 11.01</br>total_intl_charge: 2.7</br>_original_yhat_: 0.1626950353384018</br>"
          ],
          [
           "</br>id: 0</br>prediction: 0.269</br>total_intl_minutes: 1.6</br></br>total_day_minutes: 265.1</br>total_day_charge: 45.07</br>total_eve_minutes: 197.4</br>total_eve_charge: 16.78</br>total_night_minutes: 244.7</br>total_night_charge: 11.01</br>total_intl_charge: 2.7</br>_original_yhat_: 0.1626950353384018</br>"
          ],
          [
           "</br>id: 0</br>prediction: 0.269</br>total_intl_minutes: 1.8</br></br>total_day_minutes: 265.1</br>total_day_charge: 45.07</br>total_eve_minutes: 197.4</br>total_eve_charge: 16.78</br>total_night_minutes: 244.7</br>total_night_charge: 11.01</br>total_intl_charge: 2.7</br>_original_yhat_: 0.1626950353384018</br>"
          ],
          [
           "</br>id: 0</br>prediction: 0.269</br>total_intl_minutes: 2.0</br></br>total_day_minutes: 265.1</br>total_day_charge: 45.07</br>total_eve_minutes: 197.4</br>total_eve_charge: 16.78</br>total_night_minutes: 244.7</br>total_night_charge: 11.01</br>total_intl_charge: 2.7</br>_original_yhat_: 0.1626950353384018</br>"
          ],
          [
           "</br>id: 0</br>prediction: 0.269</br>total_intl_minutes: 2.2</br></br>total_day_minutes: 265.1</br>total_day_charge: 45.07</br>total_eve_minutes: 197.4</br>total_eve_charge: 16.78</br>total_night_minutes: 244.7</br>total_night_charge: 11.01</br>total_intl_charge: 2.7</br>_original_yhat_: 0.1626950353384018</br>"
          ],
          [
           "</br>id: 0</br>prediction: 0.269</br>total_intl_minutes: 2.4000000000000004</br></br>total_day_minutes: 265.1</br>total_day_charge: 45.07</br>total_eve_minutes: 197.4</br>total_eve_charge: 16.78</br>total_night_minutes: 244.7</br>total_night_charge: 11.01</br>total_intl_charge: 2.7</br>_original_yhat_: 0.1626950353384018</br>"
          ],
          [
           "</br>id: 0</br>prediction: 0.269</br>total_intl_minutes: 2.6</br></br>total_day_minutes: 265.1</br>total_day_charge: 45.07</br>total_eve_minutes: 197.4</br>total_eve_charge: 16.78</br>total_night_minutes: 244.7</br>total_night_charge: 11.01</br>total_intl_charge: 2.7</br>_original_yhat_: 0.1626950353384018</br>"
          ],
          [
           "</br>id: 0</br>prediction: 0.269</br>total_intl_minutes: 2.8000000000000003</br></br>total_day_minutes: 265.1</br>total_day_charge: 45.07</br>total_eve_minutes: 197.4</br>total_eve_charge: 16.78</br>total_night_minutes: 244.7</br>total_night_charge: 11.01</br>total_intl_charge: 2.7</br>_original_yhat_: 0.1626950353384018</br>"
          ],
          [
           "</br>id: 0</br>prediction: 0.269</br>total_intl_minutes: 3.0</br></br>total_day_minutes: 265.1</br>total_day_charge: 45.07</br>total_eve_minutes: 197.4</br>total_eve_charge: 16.78</br>total_night_minutes: 244.7</br>total_night_charge: 11.01</br>total_intl_charge: 2.7</br>_original_yhat_: 0.1626950353384018</br>"
          ],
          [
           "</br>id: 0</br>prediction: 0.269</br>total_intl_minutes: 3.2</br></br>total_day_minutes: 265.1</br>total_day_charge: 45.07</br>total_eve_minutes: 197.4</br>total_eve_charge: 16.78</br>total_night_minutes: 244.7</br>total_night_charge: 11.01</br>total_intl_charge: 2.7</br>_original_yhat_: 0.1626950353384018</br>"
          ],
          [
           "</br>id: 0</br>prediction: 0.269</br>total_intl_minutes: 3.4000000000000004</br></br>total_day_minutes: 265.1</br>total_day_charge: 45.07</br>total_eve_minutes: 197.4</br>total_eve_charge: 16.78</br>total_night_minutes: 244.7</br>total_night_charge: 11.01</br>total_intl_charge: 2.7</br>_original_yhat_: 0.1626950353384018</br>"
          ],
          [
           "</br>id: 0</br>prediction: 0.269</br>total_intl_minutes: 3.6</br></br>total_day_minutes: 265.1</br>total_day_charge: 45.07</br>total_eve_minutes: 197.4</br>total_eve_charge: 16.78</br>total_night_minutes: 244.7</br>total_night_charge: 11.01</br>total_intl_charge: 2.7</br>_original_yhat_: 0.1626950353384018</br>"
          ],
          [
           "</br>id: 0</br>prediction: 0.269</br>total_intl_minutes: 3.8000000000000003</br></br>total_day_minutes: 265.1</br>total_day_charge: 45.07</br>total_eve_minutes: 197.4</br>total_eve_charge: 16.78</br>total_night_minutes: 244.7</br>total_night_charge: 11.01</br>total_intl_charge: 2.7</br>_original_yhat_: 0.1626950353384018</br>"
          ],
          [
           "</br>id: 0</br>prediction: 0.381</br>total_intl_minutes: 4.0</br></br>total_day_minutes: 265.1</br>total_day_charge: 45.07</br>total_eve_minutes: 197.4</br>total_eve_charge: 16.78</br>total_night_minutes: 244.7</br>total_night_charge: 11.01</br>total_intl_charge: 2.7</br>_original_yhat_: 0.1626950353384018</br>"
          ],
          [
           "</br>id: 0</br>prediction: 0.665</br>total_intl_minutes: 4.2</br></br>total_day_minutes: 265.1</br>total_day_charge: 45.07</br>total_eve_minutes: 197.4</br>total_eve_charge: 16.78</br>total_night_minutes: 244.7</br>total_night_charge: 11.01</br>total_intl_charge: 2.7</br>_original_yhat_: 0.1626950353384018</br>"
          ],
          [
           "</br>id: 0</br>prediction: 0.592</br>total_intl_minutes: 4.4</br></br>total_day_minutes: 265.1</br>total_day_charge: 45.07</br>total_eve_minutes: 197.4</br>total_eve_charge: 16.78</br>total_night_minutes: 244.7</br>total_night_charge: 11.01</br>total_intl_charge: 2.7</br>_original_yhat_: 0.1626950353384018</br>"
          ],
          [
           "</br>id: 0</br>prediction: 0.43</br>total_intl_minutes: 4.6000000000000005</br></br>total_day_minutes: 265.1</br>total_day_charge: 45.07</br>total_eve_minutes: 197.4</br>total_eve_charge: 16.78</br>total_night_minutes: 244.7</br>total_night_charge: 11.01</br>total_intl_charge: 2.7</br>_original_yhat_: 0.1626950353384018</br>"
          ],
          [
           "</br>id: 0</br>prediction: 0.43</br>total_intl_minutes: 4.800000000000001</br></br>total_day_minutes: 265.1</br>total_day_charge: 45.07</br>total_eve_minutes: 197.4</br>total_eve_charge: 16.78</br>total_night_minutes: 244.7</br>total_night_charge: 11.01</br>total_intl_charge: 2.7</br>_original_yhat_: 0.1626950353384018</br>"
          ],
          [
           "</br>id: 0</br>prediction: 0.43</br>total_intl_minutes: 5.0</br></br>total_day_minutes: 265.1</br>total_day_charge: 45.07</br>total_eve_minutes: 197.4</br>total_eve_charge: 16.78</br>total_night_minutes: 244.7</br>total_night_charge: 11.01</br>total_intl_charge: 2.7</br>_original_yhat_: 0.1626950353384018</br>"
          ],
          [
           "</br>id: 0</br>prediction: 0.43</br>total_intl_minutes: 5.2</br></br>total_day_minutes: 265.1</br>total_day_charge: 45.07</br>total_eve_minutes: 197.4</br>total_eve_charge: 16.78</br>total_night_minutes: 244.7</br>total_night_charge: 11.01</br>total_intl_charge: 2.7</br>_original_yhat_: 0.1626950353384018</br>"
          ],
          [
           "</br>id: 0</br>prediction: 0.474</br>total_intl_minutes: 5.4</br></br>total_day_minutes: 265.1</br>total_day_charge: 45.07</br>total_eve_minutes: 197.4</br>total_eve_charge: 16.78</br>total_night_minutes: 244.7</br>total_night_charge: 11.01</br>total_intl_charge: 2.7</br>_original_yhat_: 0.1626950353384018</br>"
          ],
          [
           "</br>id: 0</br>prediction: 0.474</br>total_intl_minutes: 5.6000000000000005</br></br>total_day_minutes: 265.1</br>total_day_charge: 45.07</br>total_eve_minutes: 197.4</br>total_eve_charge: 16.78</br>total_night_minutes: 244.7</br>total_night_charge: 11.01</br>total_intl_charge: 2.7</br>_original_yhat_: 0.1626950353384018</br>"
          ],
          [
           "</br>id: 0</br>prediction: 0.475</br>total_intl_minutes: 5.800000000000001</br></br>total_day_minutes: 265.1</br>total_day_charge: 45.07</br>total_eve_minutes: 197.4</br>total_eve_charge: 16.78</br>total_night_minutes: 244.7</br>total_night_charge: 11.01</br>total_intl_charge: 2.7</br>_original_yhat_: 0.1626950353384018</br>"
          ],
          [
           "</br>id: 0</br>prediction: 0.475</br>total_intl_minutes: 6.0</br></br>total_day_minutes: 265.1</br>total_day_charge: 45.07</br>total_eve_minutes: 197.4</br>total_eve_charge: 16.78</br>total_night_minutes: 244.7</br>total_night_charge: 11.01</br>total_intl_charge: 2.7</br>_original_yhat_: 0.1626950353384018</br>"
          ],
          [
           "</br>id: 0</br>prediction: 0.479</br>total_intl_minutes: 6.2</br></br>total_day_minutes: 265.1</br>total_day_charge: 45.07</br>total_eve_minutes: 197.4</br>total_eve_charge: 16.78</br>total_night_minutes: 244.7</br>total_night_charge: 11.01</br>total_intl_charge: 2.7</br>_original_yhat_: 0.1626950353384018</br>"
          ],
          [
           "</br>id: 0</br>prediction: 0.492</br>total_intl_minutes: 6.4</br></br>total_day_minutes: 265.1</br>total_day_charge: 45.07</br>total_eve_minutes: 197.4</br>total_eve_charge: 16.78</br>total_night_minutes: 244.7</br>total_night_charge: 11.01</br>total_intl_charge: 2.7</br>_original_yhat_: 0.1626950353384018</br>"
          ],
          [
           "</br>id: 0</br>prediction: 0.445</br>total_intl_minutes: 6.6000000000000005</br></br>total_day_minutes: 265.1</br>total_day_charge: 45.07</br>total_eve_minutes: 197.4</br>total_eve_charge: 16.78</br>total_night_minutes: 244.7</br>total_night_charge: 11.01</br>total_intl_charge: 2.7</br>_original_yhat_: 0.1626950353384018</br>"
          ],
          [
           "</br>id: 0</br>prediction: 0.415</br>total_intl_minutes: 6.800000000000001</br></br>total_day_minutes: 265.1</br>total_day_charge: 45.07</br>total_eve_minutes: 197.4</br>total_eve_charge: 16.78</br>total_night_minutes: 244.7</br>total_night_charge: 11.01</br>total_intl_charge: 2.7</br>_original_yhat_: 0.1626950353384018</br>"
          ],
          [
           "</br>id: 0</br>prediction: 0.415</br>total_intl_minutes: 7.0</br></br>total_day_minutes: 265.1</br>total_day_charge: 45.07</br>total_eve_minutes: 197.4</br>total_eve_charge: 16.78</br>total_night_minutes: 244.7</br>total_night_charge: 11.01</br>total_intl_charge: 2.7</br>_original_yhat_: 0.1626950353384018</br>"
          ],
          [
           "</br>id: 0</br>prediction: 0.431</br>total_intl_minutes: 7.2</br></br>total_day_minutes: 265.1</br>total_day_charge: 45.07</br>total_eve_minutes: 197.4</br>total_eve_charge: 16.78</br>total_night_minutes: 244.7</br>total_night_charge: 11.01</br>total_intl_charge: 2.7</br>_original_yhat_: 0.1626950353384018</br>"
          ],
          [
           "</br>id: 0</br>prediction: 0.359</br>total_intl_minutes: 7.4</br></br>total_day_minutes: 265.1</br>total_day_charge: 45.07</br>total_eve_minutes: 197.4</br>total_eve_charge: 16.78</br>total_night_minutes: 244.7</br>total_night_charge: 11.01</br>total_intl_charge: 2.7</br>_original_yhat_: 0.1626950353384018</br>"
          ],
          [
           "</br>id: 0</br>prediction: 0.31</br>total_intl_minutes: 7.6000000000000005</br></br>total_day_minutes: 265.1</br>total_day_charge: 45.07</br>total_eve_minutes: 197.4</br>total_eve_charge: 16.78</br>total_night_minutes: 244.7</br>total_night_charge: 11.01</br>total_intl_charge: 2.7</br>_original_yhat_: 0.1626950353384018</br>"
          ],
          [
           "</br>id: 0</br>prediction: 0.31</br>total_intl_minutes: 7.800000000000001</br></br>total_day_minutes: 265.1</br>total_day_charge: 45.07</br>total_eve_minutes: 197.4</br>total_eve_charge: 16.78</br>total_night_minutes: 244.7</br>total_night_charge: 11.01</br>total_intl_charge: 2.7</br>_original_yhat_: 0.1626950353384018</br>"
          ],
          [
           "</br>id: 0</br>prediction: 0.31</br>total_intl_minutes: 8.0</br></br>total_day_minutes: 265.1</br>total_day_charge: 45.07</br>total_eve_minutes: 197.4</br>total_eve_charge: 16.78</br>total_night_minutes: 244.7</br>total_night_charge: 11.01</br>total_intl_charge: 2.7</br>_original_yhat_: 0.1626950353384018</br>"
          ],
          [
           "</br>id: 0</br>prediction: 0.353</br>total_intl_minutes: 8.200000000000001</br></br>total_day_minutes: 265.1</br>total_day_charge: 45.07</br>total_eve_minutes: 197.4</br>total_eve_charge: 16.78</br>total_night_minutes: 244.7</br>total_night_charge: 11.01</br>total_intl_charge: 2.7</br>_original_yhat_: 0.1626950353384018</br>"
          ],
          [
           "</br>id: 0</br>prediction: 0.248</br>total_intl_minutes: 8.4</br></br>total_day_minutes: 265.1</br>total_day_charge: 45.07</br>total_eve_minutes: 197.4</br>total_eve_charge: 16.78</br>total_night_minutes: 244.7</br>total_night_charge: 11.01</br>total_intl_charge: 2.7</br>_original_yhat_: 0.1626950353384018</br>"
          ],
          [
           "</br>id: 0</br>prediction: 0.248</br>total_intl_minutes: 8.6</br></br>total_day_minutes: 265.1</br>total_day_charge: 45.07</br>total_eve_minutes: 197.4</br>total_eve_charge: 16.78</br>total_night_minutes: 244.7</br>total_night_charge: 11.01</br>total_intl_charge: 2.7</br>_original_yhat_: 0.1626950353384018</br>"
          ],
          [
           "</br>id: 0</br>prediction: 0.455</br>total_intl_minutes: 8.8</br></br>total_day_minutes: 265.1</br>total_day_charge: 45.07</br>total_eve_minutes: 197.4</br>total_eve_charge: 16.78</br>total_night_minutes: 244.7</br>total_night_charge: 11.01</br>total_intl_charge: 2.7</br>_original_yhat_: 0.1626950353384018</br>"
          ],
          [
           "</br>id: 0</br>prediction: 0.355</br>total_intl_minutes: 9.0</br></br>total_day_minutes: 265.1</br>total_day_charge: 45.07</br>total_eve_minutes: 197.4</br>total_eve_charge: 16.78</br>total_night_minutes: 244.7</br>total_night_charge: 11.01</br>total_intl_charge: 2.7</br>_original_yhat_: 0.1626950353384018</br>"
          ],
          [
           "</br>id: 0</br>prediction: 0.417</br>total_intl_minutes: 9.200000000000001</br></br>total_day_minutes: 265.1</br>total_day_charge: 45.07</br>total_eve_minutes: 197.4</br>total_eve_charge: 16.78</br>total_night_minutes: 244.7</br>total_night_charge: 11.01</br>total_intl_charge: 2.7</br>_original_yhat_: 0.1626950353384018</br>"
          ],
          [
           "</br>id: 0</br>prediction: 0.417</br>total_intl_minutes: 9.4</br></br>total_day_minutes: 265.1</br>total_day_charge: 45.07</br>total_eve_minutes: 197.4</br>total_eve_charge: 16.78</br>total_night_minutes: 244.7</br>total_night_charge: 11.01</br>total_intl_charge: 2.7</br>_original_yhat_: 0.1626950353384018</br>"
          ],
          [
           "</br>id: 0</br>prediction: 0.417</br>total_intl_minutes: 9.600000000000001</br></br>total_day_minutes: 265.1</br>total_day_charge: 45.07</br>total_eve_minutes: 197.4</br>total_eve_charge: 16.78</br>total_night_minutes: 244.7</br>total_night_charge: 11.01</br>total_intl_charge: 2.7</br>_original_yhat_: 0.1626950353384018</br>"
          ],
          [
           "</br>id: 0</br>prediction: 0.149</br>total_intl_minutes: 9.8</br></br>total_day_minutes: 265.1</br>total_day_charge: 45.07</br>total_eve_minutes: 197.4</br>total_eve_charge: 16.78</br>total_night_minutes: 244.7</br>total_night_charge: 11.01</br>total_intl_charge: 2.7</br>_original_yhat_: 0.1626950353384018</br>"
          ],
          [
           "</br>id: 0</br>prediction: 0.163</br>total_intl_minutes: 10.0</br></br>total_day_minutes: 265.1</br>total_day_charge: 45.07</br>total_eve_minutes: 197.4</br>total_eve_charge: 16.78</br>total_night_minutes: 244.7</br>total_night_charge: 11.01</br>total_intl_charge: 2.7</br>_original_yhat_: 0.1626950353384018</br>"
          ],
          [
           "</br>id: 0</br>prediction: 0.34</br>total_intl_minutes: 10.200000000000001</br></br>total_day_minutes: 265.1</br>total_day_charge: 45.07</br>total_eve_minutes: 197.4</br>total_eve_charge: 16.78</br>total_night_minutes: 244.7</br>total_night_charge: 11.01</br>total_intl_charge: 2.7</br>_original_yhat_: 0.1626950353384018</br>"
          ],
          [
           "</br>id: 0</br>prediction: 0.427</br>total_intl_minutes: 10.4</br></br>total_day_minutes: 265.1</br>total_day_charge: 45.07</br>total_eve_minutes: 197.4</br>total_eve_charge: 16.78</br>total_night_minutes: 244.7</br>total_night_charge: 11.01</br>total_intl_charge: 2.7</br>_original_yhat_: 0.1626950353384018</br>"
          ],
          [
           "</br>id: 0</br>prediction: 0.603</br>total_intl_minutes: 10.600000000000001</br></br>total_day_minutes: 265.1</br>total_day_charge: 45.07</br>total_eve_minutes: 197.4</br>total_eve_charge: 16.78</br>total_night_minutes: 244.7</br>total_night_charge: 11.01</br>total_intl_charge: 2.7</br>_original_yhat_: 0.1626950353384018</br>"
          ],
          [
           "</br>id: 0</br>prediction: 0.494</br>total_intl_minutes: 10.8</br></br>total_day_minutes: 265.1</br>total_day_charge: 45.07</br>total_eve_minutes: 197.4</br>total_eve_charge: 16.78</br>total_night_minutes: 244.7</br>total_night_charge: 11.01</br>total_intl_charge: 2.7</br>_original_yhat_: 0.1626950353384018</br>"
          ],
          [
           "</br>id: 0</br>prediction: 0.745</br>total_intl_minutes: 11.0</br></br>total_day_minutes: 265.1</br>total_day_charge: 45.07</br>total_eve_minutes: 197.4</br>total_eve_charge: 16.78</br>total_night_minutes: 244.7</br>total_night_charge: 11.01</br>total_intl_charge: 2.7</br>_original_yhat_: 0.1626950353384018</br>"
          ],
          [
           "</br>id: 0</br>prediction: 0.518</br>total_intl_minutes: 11.200000000000001</br></br>total_day_minutes: 265.1</br>total_day_charge: 45.07</br>total_eve_minutes: 197.4</br>total_eve_charge: 16.78</br>total_night_minutes: 244.7</br>total_night_charge: 11.01</br>total_intl_charge: 2.7</br>_original_yhat_: 0.1626950353384018</br>"
          ],
          [
           "</br>id: 0</br>prediction: 0.567</br>total_intl_minutes: 11.4</br></br>total_day_minutes: 265.1</br>total_day_charge: 45.07</br>total_eve_minutes: 197.4</br>total_eve_charge: 16.78</br>total_night_minutes: 244.7</br>total_night_charge: 11.01</br>total_intl_charge: 2.7</br>_original_yhat_: 0.1626950353384018</br>"
          ],
          [
           "</br>id: 0</br>prediction: 0.495</br>total_intl_minutes: 11.600000000000001</br></br>total_day_minutes: 265.1</br>total_day_charge: 45.07</br>total_eve_minutes: 197.4</br>total_eve_charge: 16.78</br>total_night_minutes: 244.7</br>total_night_charge: 11.01</br>total_intl_charge: 2.7</br>_original_yhat_: 0.1626950353384018</br>"
          ],
          [
           "</br>id: 0</br>prediction: 0.423</br>total_intl_minutes: 11.8</br></br>total_day_minutes: 265.1</br>total_day_charge: 45.07</br>total_eve_minutes: 197.4</br>total_eve_charge: 16.78</br>total_night_minutes: 244.7</br>total_night_charge: 11.01</br>total_intl_charge: 2.7</br>_original_yhat_: 0.1626950353384018</br>"
          ],
          [
           "</br>id: 0</br>prediction: 0.611</br>total_intl_minutes: 12.0</br></br>total_day_minutes: 265.1</br>total_day_charge: 45.07</br>total_eve_minutes: 197.4</br>total_eve_charge: 16.78</br>total_night_minutes: 244.7</br>total_night_charge: 11.01</br>total_intl_charge: 2.7</br>_original_yhat_: 0.1626950353384018</br>"
          ],
          [
           "</br>id: 0</br>prediction: 0.611</br>total_intl_minutes: 12.200000000000001</br></br>total_day_minutes: 265.1</br>total_day_charge: 45.07</br>total_eve_minutes: 197.4</br>total_eve_charge: 16.78</br>total_night_minutes: 244.7</br>total_night_charge: 11.01</br>total_intl_charge: 2.7</br>_original_yhat_: 0.1626950353384018</br>"
          ],
          [
           "</br>id: 0</br>prediction: 0.659</br>total_intl_minutes: 12.4</br></br>total_day_minutes: 265.1</br>total_day_charge: 45.07</br>total_eve_minutes: 197.4</br>total_eve_charge: 16.78</br>total_night_minutes: 244.7</br>total_night_charge: 11.01</br>total_intl_charge: 2.7</br>_original_yhat_: 0.1626950353384018</br>"
          ],
          [
           "</br>id: 0</br>prediction: 0.524</br>total_intl_minutes: 12.600000000000001</br></br>total_day_minutes: 265.1</br>total_day_charge: 45.07</br>total_eve_minutes: 197.4</br>total_eve_charge: 16.78</br>total_night_minutes: 244.7</br>total_night_charge: 11.01</br>total_intl_charge: 2.7</br>_original_yhat_: 0.1626950353384018</br>"
          ],
          [
           "</br>id: 0</br>prediction: 0.524</br>total_intl_minutes: 12.8</br></br>total_day_minutes: 265.1</br>total_day_charge: 45.07</br>total_eve_minutes: 197.4</br>total_eve_charge: 16.78</br>total_night_minutes: 244.7</br>total_night_charge: 11.01</br>total_intl_charge: 2.7</br>_original_yhat_: 0.1626950353384018</br>"
          ],
          [
           "</br>id: 0</br>prediction: 0.538</br>total_intl_minutes: 13.0</br></br>total_day_minutes: 265.1</br>total_day_charge: 45.07</br>total_eve_minutes: 197.4</br>total_eve_charge: 16.78</br>total_night_minutes: 244.7</br>total_night_charge: 11.01</br>total_intl_charge: 2.7</br>_original_yhat_: 0.1626950353384018</br>"
          ],
          [
           "</br>id: 0</br>prediction: 0.646</br>total_intl_minutes: 13.200000000000001</br></br>total_day_minutes: 265.1</br>total_day_charge: 45.07</br>total_eve_minutes: 197.4</br>total_eve_charge: 16.78</br>total_night_minutes: 244.7</br>total_night_charge: 11.01</br>total_intl_charge: 2.7</br>_original_yhat_: 0.1626950353384018</br>"
          ],
          [
           "</br>id: 0</br>prediction: 0.545</br>total_intl_minutes: 13.4</br></br>total_day_minutes: 265.1</br>total_day_charge: 45.07</br>total_eve_minutes: 197.4</br>total_eve_charge: 16.78</br>total_night_minutes: 244.7</br>total_night_charge: 11.01</br>total_intl_charge: 2.7</br>_original_yhat_: 0.1626950353384018</br>"
          ],
          [
           "</br>id: 0</br>prediction: 0.652</br>total_intl_minutes: 13.600000000000001</br></br>total_day_minutes: 265.1</br>total_day_charge: 45.07</br>total_eve_minutes: 197.4</br>total_eve_charge: 16.78</br>total_night_minutes: 244.7</br>total_night_charge: 11.01</br>total_intl_charge: 2.7</br>_original_yhat_: 0.1626950353384018</br>"
          ],
          [
           "</br>id: 0</br>prediction: 0.626</br>total_intl_minutes: 13.8</br></br>total_day_minutes: 265.1</br>total_day_charge: 45.07</br>total_eve_minutes: 197.4</br>total_eve_charge: 16.78</br>total_night_minutes: 244.7</br>total_night_charge: 11.01</br>total_intl_charge: 2.7</br>_original_yhat_: 0.1626950353384018</br>"
          ],
          [
           "</br>id: 0</br>prediction: 0.61</br>total_intl_minutes: 14.0</br></br>total_day_minutes: 265.1</br>total_day_charge: 45.07</br>total_eve_minutes: 197.4</br>total_eve_charge: 16.78</br>total_night_minutes: 244.7</br>total_night_charge: 11.01</br>total_intl_charge: 2.7</br>_original_yhat_: 0.1626950353384018</br>"
          ],
          [
           "</br>id: 0</br>prediction: 0.61</br>total_intl_minutes: 14.200000000000001</br></br>total_day_minutes: 265.1</br>total_day_charge: 45.07</br>total_eve_minutes: 197.4</br>total_eve_charge: 16.78</br>total_night_minutes: 244.7</br>total_night_charge: 11.01</br>total_intl_charge: 2.7</br>_original_yhat_: 0.1626950353384018</br>"
          ],
          [
           "</br>id: 0</br>prediction: 0.616</br>total_intl_minutes: 14.4</br></br>total_day_minutes: 265.1</br>total_day_charge: 45.07</br>total_eve_minutes: 197.4</br>total_eve_charge: 16.78</br>total_night_minutes: 244.7</br>total_night_charge: 11.01</br>total_intl_charge: 2.7</br>_original_yhat_: 0.1626950353384018</br>"
          ],
          [
           "</br>id: 0</br>prediction: 0.493</br>total_intl_minutes: 14.600000000000001</br></br>total_day_minutes: 265.1</br>total_day_charge: 45.07</br>total_eve_minutes: 197.4</br>total_eve_charge: 16.78</br>total_night_minutes: 244.7</br>total_night_charge: 11.01</br>total_intl_charge: 2.7</br>_original_yhat_: 0.1626950353384018</br>"
          ],
          [
           "</br>id: 0</br>prediction: 0.748</br>total_intl_minutes: 14.8</br></br>total_day_minutes: 265.1</br>total_day_charge: 45.07</br>total_eve_minutes: 197.4</br>total_eve_charge: 16.78</br>total_night_minutes: 244.7</br>total_night_charge: 11.01</br>total_intl_charge: 2.7</br>_original_yhat_: 0.1626950353384018</br>"
          ],
          [
           "</br>id: 0</br>prediction: 0.563</br>total_intl_minutes: 15.0</br></br>total_day_minutes: 265.1</br>total_day_charge: 45.07</br>total_eve_minutes: 197.4</br>total_eve_charge: 16.78</br>total_night_minutes: 244.7</br>total_night_charge: 11.01</br>total_intl_charge: 2.7</br>_original_yhat_: 0.1626950353384018</br>"
          ],
          [
           "</br>id: 0</br>prediction: 0.563</br>total_intl_minutes: 15.200000000000001</br></br>total_day_minutes: 265.1</br>total_day_charge: 45.07</br>total_eve_minutes: 197.4</br>total_eve_charge: 16.78</br>total_night_minutes: 244.7</br>total_night_charge: 11.01</br>total_intl_charge: 2.7</br>_original_yhat_: 0.1626950353384018</br>"
          ],
          [
           "</br>id: 0</br>prediction: 0.704</br>total_intl_minutes: 15.4</br></br>total_day_minutes: 265.1</br>total_day_charge: 45.07</br>total_eve_minutes: 197.4</br>total_eve_charge: 16.78</br>total_night_minutes: 244.7</br>total_night_charge: 11.01</br>total_intl_charge: 2.7</br>_original_yhat_: 0.1626950353384018</br>"
          ],
          [
           "</br>id: 0</br>prediction: 0.662</br>total_intl_minutes: 15.600000000000001</br></br>total_day_minutes: 265.1</br>total_day_charge: 45.07</br>total_eve_minutes: 197.4</br>total_eve_charge: 16.78</br>total_night_minutes: 244.7</br>total_night_charge: 11.01</br>total_intl_charge: 2.7</br>_original_yhat_: 0.1626950353384018</br>"
          ],
          [
           "</br>id: 0</br>prediction: 0.554</br>total_intl_minutes: 15.8</br></br>total_day_minutes: 265.1</br>total_day_charge: 45.07</br>total_eve_minutes: 197.4</br>total_eve_charge: 16.78</br>total_night_minutes: 244.7</br>total_night_charge: 11.01</br>total_intl_charge: 2.7</br>_original_yhat_: 0.1626950353384018</br>"
          ],
          [
           "</br>id: 0</br>prediction: 0.347</br>total_intl_minutes: 16.0</br></br>total_day_minutes: 265.1</br>total_day_charge: 45.07</br>total_eve_minutes: 197.4</br>total_eve_charge: 16.78</br>total_night_minutes: 244.7</br>total_night_charge: 11.01</br>total_intl_charge: 2.7</br>_original_yhat_: 0.1626950353384018</br>"
          ],
          [
           "</br>id: 0</br>prediction: 0.347</br>total_intl_minutes: 16.2</br></br>total_day_minutes: 265.1</br>total_day_charge: 45.07</br>total_eve_minutes: 197.4</br>total_eve_charge: 16.78</br>total_night_minutes: 244.7</br>total_night_charge: 11.01</br>total_intl_charge: 2.7</br>_original_yhat_: 0.1626950353384018</br>"
          ],
          [
           "</br>id: 0</br>prediction: 0.307</br>total_intl_minutes: 16.400000000000002</br></br>total_day_minutes: 265.1</br>total_day_charge: 45.07</br>total_eve_minutes: 197.4</br>total_eve_charge: 16.78</br>total_night_minutes: 244.7</br>total_night_charge: 11.01</br>total_intl_charge: 2.7</br>_original_yhat_: 0.1626950353384018</br>"
          ],
          [
           "</br>id: 0</br>prediction: 0.815</br>total_intl_minutes: 16.6</br></br>total_day_minutes: 265.1</br>total_day_charge: 45.07</br>total_eve_minutes: 197.4</br>total_eve_charge: 16.78</br>total_night_minutes: 244.7</br>total_night_charge: 11.01</br>total_intl_charge: 2.7</br>_original_yhat_: 0.1626950353384018</br>"
          ],
          [
           "</br>id: 0</br>prediction: 0.914</br>total_intl_minutes: 16.8</br></br>total_day_minutes: 265.1</br>total_day_charge: 45.07</br>total_eve_minutes: 197.4</br>total_eve_charge: 16.78</br>total_night_minutes: 244.7</br>total_night_charge: 11.01</br>total_intl_charge: 2.7</br>_original_yhat_: 0.1626950353384018</br>"
          ],
          [
           "</br>id: 0</br>prediction: 0.914</br>total_intl_minutes: 17.0</br></br>total_day_minutes: 265.1</br>total_day_charge: 45.07</br>total_eve_minutes: 197.4</br>total_eve_charge: 16.78</br>total_night_minutes: 244.7</br>total_night_charge: 11.01</br>total_intl_charge: 2.7</br>_original_yhat_: 0.1626950353384018</br>"
          ],
          [
           "</br>id: 0</br>prediction: 0.914</br>total_intl_minutes: 17.2</br></br>total_day_minutes: 265.1</br>total_day_charge: 45.07</br>total_eve_minutes: 197.4</br>total_eve_charge: 16.78</br>total_night_minutes: 244.7</br>total_night_charge: 11.01</br>total_intl_charge: 2.7</br>_original_yhat_: 0.1626950353384018</br>"
          ],
          [
           "</br>id: 0</br>prediction: 0.914</br>total_intl_minutes: 17.400000000000002</br></br>total_day_minutes: 265.1</br>total_day_charge: 45.07</br>total_eve_minutes: 197.4</br>total_eve_charge: 16.78</br>total_night_minutes: 244.7</br>total_night_charge: 11.01</br>total_intl_charge: 2.7</br>_original_yhat_: 0.1626950353384018</br>"
          ],
          [
           "</br>id: 0</br>prediction: 0.897</br>total_intl_minutes: 17.6</br></br>total_day_minutes: 265.1</br>total_day_charge: 45.07</br>total_eve_minutes: 197.4</br>total_eve_charge: 16.78</br>total_night_minutes: 244.7</br>total_night_charge: 11.01</br>total_intl_charge: 2.7</br>_original_yhat_: 0.1626950353384018</br>"
          ],
          [
           "</br>id: 0</br>prediction: 0.897</br>total_intl_minutes: 17.8</br></br>total_day_minutes: 265.1</br>total_day_charge: 45.07</br>total_eve_minutes: 197.4</br>total_eve_charge: 16.78</br>total_night_minutes: 244.7</br>total_night_charge: 11.01</br>total_intl_charge: 2.7</br>_original_yhat_: 0.1626950353384018</br>"
          ],
          [
           "</br>id: 0</br>prediction: 0.897</br>total_intl_minutes: 18.0</br></br>total_day_minutes: 265.1</br>total_day_charge: 45.07</br>total_eve_minutes: 197.4</br>total_eve_charge: 16.78</br>total_night_minutes: 244.7</br>total_night_charge: 11.01</br>total_intl_charge: 2.7</br>_original_yhat_: 0.1626950353384018</br>"
          ],
          [
           "</br>id: 0</br>prediction: 0.897</br>total_intl_minutes: 18.2</br></br>total_day_minutes: 265.1</br>total_day_charge: 45.07</br>total_eve_minutes: 197.4</br>total_eve_charge: 16.78</br>total_night_minutes: 244.7</br>total_night_charge: 11.01</br>total_intl_charge: 2.7</br>_original_yhat_: 0.1626950353384018</br>"
          ],
          [
           "</br>id: 0</br>prediction: 0.91</br>total_intl_minutes: 18.400000000000002</br></br>total_day_minutes: 265.1</br>total_day_charge: 45.07</br>total_eve_minutes: 197.4</br>total_eve_charge: 16.78</br>total_night_minutes: 244.7</br>total_night_charge: 11.01</br>total_intl_charge: 2.7</br>_original_yhat_: 0.1626950353384018</br>"
          ],
          [
           "</br>id: 0</br>prediction: 0.91</br>total_intl_minutes: 18.6</br></br>total_day_minutes: 265.1</br>total_day_charge: 45.07</br>total_eve_minutes: 197.4</br>total_eve_charge: 16.78</br>total_night_minutes: 244.7</br>total_night_charge: 11.01</br>total_intl_charge: 2.7</br>_original_yhat_: 0.1626950353384018</br>"
          ],
          [
           "</br>id: 0</br>prediction: 0.91</br>total_intl_minutes: 18.8</br></br>total_day_minutes: 265.1</br>total_day_charge: 45.07</br>total_eve_minutes: 197.4</br>total_eve_charge: 16.78</br>total_night_minutes: 244.7</br>total_night_charge: 11.01</br>total_intl_charge: 2.7</br>_original_yhat_: 0.1626950353384018</br>"
          ],
          [
           "</br>id: 0</br>prediction: 0.91</br>total_intl_minutes: 19.0</br></br>total_day_minutes: 265.1</br>total_day_charge: 45.07</br>total_eve_minutes: 197.4</br>total_eve_charge: 16.78</br>total_night_minutes: 244.7</br>total_night_charge: 11.01</br>total_intl_charge: 2.7</br>_original_yhat_: 0.1626950353384018</br>"
          ],
          [
           "</br>id: 0</br>prediction: 0.91</br>total_intl_minutes: 19.200000000000003</br></br>total_day_minutes: 265.1</br>total_day_charge: 45.07</br>total_eve_minutes: 197.4</br>total_eve_charge: 16.78</br>total_night_minutes: 244.7</br>total_night_charge: 11.01</br>total_intl_charge: 2.7</br>_original_yhat_: 0.1626950353384018</br>"
          ],
          [
           "</br>id: 0</br>prediction: 0.91</br>total_intl_minutes: 19.400000000000002</br></br>total_day_minutes: 265.1</br>total_day_charge: 45.07</br>total_eve_minutes: 197.4</br>total_eve_charge: 16.78</br>total_night_minutes: 244.7</br>total_night_charge: 11.01</br>total_intl_charge: 2.7</br>_original_yhat_: 0.1626950353384018</br>"
          ],
          [
           "</br>id: 0</br>prediction: 0.91</br>total_intl_minutes: 19.6</br></br>total_day_minutes: 265.1</br>total_day_charge: 45.07</br>total_eve_minutes: 197.4</br>total_eve_charge: 16.78</br>total_night_minutes: 244.7</br>total_night_charge: 11.01</br>total_intl_charge: 2.7</br>_original_yhat_: 0.1626950353384018</br>"
          ],
          [
           "</br>id: 0</br>prediction: 0.91</br>total_intl_minutes: 19.8</br></br>total_day_minutes: 265.1</br>total_day_charge: 45.07</br>total_eve_minutes: 197.4</br>total_eve_charge: 16.78</br>total_night_minutes: 244.7</br>total_night_charge: 11.01</br>total_intl_charge: 2.7</br>_original_yhat_: 0.1626950353384018</br>"
          ],
          [
           "</br>id: 0</br>prediction: 0.91</br>total_intl_minutes: 20.0</br></br>total_day_minutes: 265.1</br>total_day_charge: 45.07</br>total_eve_minutes: 197.4</br>total_eve_charge: 16.78</br>total_night_minutes: 244.7</br>total_night_charge: 11.01</br>total_intl_charge: 2.7</br>_original_yhat_: 0.1626950353384018</br>"
          ]
         ],
         "hovertemplate": "%{customdata[0]}<extra></extra>",
         "legendgroup": "XGBClassifier",
         "line": {
          "color": "#46bac2",
          "dash": "solid",
          "width": 2
         },
         "marker": {
          "symbol": "circle"
         },
         "mode": "lines",
         "name": "XGBClassifier",
         "opacity": 1,
         "orientation": "v",
         "showlegend": true,
         "type": "scatter",
         "x": [
          0,
          0.2,
          0.4,
          0.6000000000000001,
          0.8,
          1,
          1.2000000000000002,
          1.4000000000000001,
          1.6,
          1.8,
          2,
          2.2,
          2.4000000000000004,
          2.6,
          2.8000000000000003,
          3,
          3.2,
          3.4000000000000004,
          3.6,
          3.8000000000000003,
          4,
          4.2,
          4.4,
          4.6000000000000005,
          4.800000000000001,
          5,
          5.2,
          5.4,
          5.6000000000000005,
          5.800000000000001,
          6,
          6.2,
          6.4,
          6.6000000000000005,
          6.800000000000001,
          7,
          7.2,
          7.4,
          7.6000000000000005,
          7.800000000000001,
          8,
          8.200000000000001,
          8.4,
          8.6,
          8.8,
          9,
          9.200000000000001,
          9.4,
          9.600000000000001,
          9.8,
          10,
          10.200000000000001,
          10.4,
          10.600000000000001,
          10.8,
          11,
          11.200000000000001,
          11.4,
          11.600000000000001,
          11.8,
          12,
          12.200000000000001,
          12.4,
          12.600000000000001,
          12.8,
          13,
          13.200000000000001,
          13.4,
          13.600000000000001,
          13.8,
          14,
          14.200000000000001,
          14.4,
          14.600000000000001,
          14.8,
          15,
          15.200000000000001,
          15.4,
          15.600000000000001,
          15.8,
          16,
          16.2,
          16.400000000000002,
          16.6,
          16.8,
          17,
          17.2,
          17.400000000000002,
          17.6,
          17.8,
          18,
          18.2,
          18.400000000000002,
          18.6,
          18.8,
          19,
          19.200000000000003,
          19.400000000000002,
          19.6,
          19.8,
          20
         ],
         "xaxis": "x",
         "y": [
          0.2693029046058655,
          0.2693029046058655,
          0.2693029046058655,
          0.2693029046058655,
          0.2693029046058655,
          0.2693029046058655,
          0.2693029046058655,
          0.2693029046058655,
          0.2693029046058655,
          0.2693029046058655,
          0.2693029046058655,
          0.2693029046058655,
          0.2693029046058655,
          0.2693029046058655,
          0.2693029046058655,
          0.2693029046058655,
          0.2693029046058655,
          0.2693029046058655,
          0.2693029046058655,
          0.2693029046058655,
          0.3807682693004608,
          0.6651234030723572,
          0.5916553735733032,
          0.4301743507385254,
          0.4301743507385254,
          0.4301743507385254,
          0.4301743507385254,
          0.4741877019405365,
          0.4741877019405365,
          0.4747767448425293,
          0.4747767448425293,
          0.4790342450141907,
          0.4919644594192505,
          0.4449146091938019,
          0.41519907116889954,
          0.41519907116889954,
          0.430986613035202,
          0.359137624502182,
          0.3104567229747772,
          0.3104567229747772,
          0.3104567229747772,
          0.35310375690460205,
          0.24823032319545746,
          0.24823032319545746,
          0.45463812351226807,
          0.3548140823841095,
          0.41665422916412354,
          0.41665422916412354,
          0.41665422916412354,
          0.1492215245962143,
          0.1626950353384018,
          0.3399096727371216,
          0.42722198367118835,
          0.6028892993927002,
          0.49389198422431946,
          0.7452976107597351,
          0.5183848738670349,
          0.5665568113327026,
          0.4945904314517975,
          0.4225934147834778,
          0.6112579107284546,
          0.6112579107284546,
          0.6590803861618042,
          0.5239377617835999,
          0.5239377617835999,
          0.5381507277488708,
          0.6463773846626282,
          0.5452429056167603,
          0.6520077586174011,
          0.6255102753639221,
          0.610085129737854,
          0.610085129737854,
          0.6164492964744568,
          0.49309077858924866,
          0.7479696869850159,
          0.5633656978607178,
          0.5633656978607178,
          0.7041043043136597,
          0.6616004705429077,
          0.5539571046829224,
          0.34697380661964417,
          0.34697380661964417,
          0.30723097920417786,
          0.8149420022964478,
          0.9144107103347778,
          0.9144107103347778,
          0.9144107103347778,
          0.9144107103347778,
          0.8972129225730896,
          0.8972129225730896,
          0.8972129225730896,
          0.8972129225730896,
          0.9101981520652771,
          0.9101981520652771,
          0.9101981520652771,
          0.9101981520652771,
          0.9101981520652771,
          0.9101981520652771,
          0.9101981520652771,
          0.9101981520652771,
          0.9101981520652771
         ],
         "yaxis": "y"
        },
        {
         "customdata": [
          [
           "</br>id: 0</br>prediction: 0.596</br>total_night_charge: 0.0</br></br>total_day_minutes: 265.1</br>total_day_charge: 45.07</br>total_eve_minutes: 197.4</br>total_eve_charge: 16.78</br>total_night_minutes: 244.7</br>total_intl_minutes: 10.0</br>total_intl_charge: 2.7</br>_original_yhat_: 0.1626950353384018</br>"
          ],
          [
           "</br>id: 0</br>prediction: 0.596</br>total_night_charge: 0.1777</br></br>total_day_minutes: 265.1</br>total_day_charge: 45.07</br>total_eve_minutes: 197.4</br>total_eve_charge: 16.78</br>total_night_minutes: 244.7</br>total_intl_minutes: 10.0</br>total_intl_charge: 2.7</br>_original_yhat_: 0.1626950353384018</br>"
          ],
          [
           "</br>id: 0</br>prediction: 0.596</br>total_night_charge: 0.3554</br></br>total_day_minutes: 265.1</br>total_day_charge: 45.07</br>total_eve_minutes: 197.4</br>total_eve_charge: 16.78</br>total_night_minutes: 244.7</br>total_intl_minutes: 10.0</br>total_intl_charge: 2.7</br>_original_yhat_: 0.1626950353384018</br>"
          ],
          [
           "</br>id: 0</br>prediction: 0.596</br>total_night_charge: 0.5331</br></br>total_day_minutes: 265.1</br>total_day_charge: 45.07</br>total_eve_minutes: 197.4</br>total_eve_charge: 16.78</br>total_night_minutes: 244.7</br>total_intl_minutes: 10.0</br>total_intl_charge: 2.7</br>_original_yhat_: 0.1626950353384018</br>"
          ],
          [
           "</br>id: 0</br>prediction: 0.596</br>total_night_charge: 0.7108</br></br>total_day_minutes: 265.1</br>total_day_charge: 45.07</br>total_eve_minutes: 197.4</br>total_eve_charge: 16.78</br>total_night_minutes: 244.7</br>total_intl_minutes: 10.0</br>total_intl_charge: 2.7</br>_original_yhat_: 0.1626950353384018</br>"
          ],
          [
           "</br>id: 0</br>prediction: 0.596</br>total_night_charge: 0.8885</br></br>total_day_minutes: 265.1</br>total_day_charge: 45.07</br>total_eve_minutes: 197.4</br>total_eve_charge: 16.78</br>total_night_minutes: 244.7</br>total_intl_minutes: 10.0</br>total_intl_charge: 2.7</br>_original_yhat_: 0.1626950353384018</br>"
          ],
          [
           "</br>id: 0</br>prediction: 0.596</br>total_night_charge: 1.0662</br></br>total_day_minutes: 265.1</br>total_day_charge: 45.07</br>total_eve_minutes: 197.4</br>total_eve_charge: 16.78</br>total_night_minutes: 244.7</br>total_intl_minutes: 10.0</br>total_intl_charge: 2.7</br>_original_yhat_: 0.1626950353384018</br>"
          ],
          [
           "</br>id: 0</br>prediction: 0.596</br>total_night_charge: 1.2439</br></br>total_day_minutes: 265.1</br>total_day_charge: 45.07</br>total_eve_minutes: 197.4</br>total_eve_charge: 16.78</br>total_night_minutes: 244.7</br>total_intl_minutes: 10.0</br>total_intl_charge: 2.7</br>_original_yhat_: 0.1626950353384018</br>"
          ],
          [
           "</br>id: 0</br>prediction: 0.596</br>total_night_charge: 1.4216</br></br>total_day_minutes: 265.1</br>total_day_charge: 45.07</br>total_eve_minutes: 197.4</br>total_eve_charge: 16.78</br>total_night_minutes: 244.7</br>total_intl_minutes: 10.0</br>total_intl_charge: 2.7</br>_original_yhat_: 0.1626950353384018</br>"
          ],
          [
           "</br>id: 0</br>prediction: 0.596</br>total_night_charge: 1.5993</br></br>total_day_minutes: 265.1</br>total_day_charge: 45.07</br>total_eve_minutes: 197.4</br>total_eve_charge: 16.78</br>total_night_minutes: 244.7</br>total_intl_minutes: 10.0</br>total_intl_charge: 2.7</br>_original_yhat_: 0.1626950353384018</br>"
          ],
          [
           "</br>id: 0</br>prediction: 0.596</br>total_night_charge: 1.777</br></br>total_day_minutes: 265.1</br>total_day_charge: 45.07</br>total_eve_minutes: 197.4</br>total_eve_charge: 16.78</br>total_night_minutes: 244.7</br>total_intl_minutes: 10.0</br>total_intl_charge: 2.7</br>_original_yhat_: 0.1626950353384018</br>"
          ],
          [
           "</br>id: 0</br>prediction: 0.596</br>total_night_charge: 1.9546999999999999</br></br>total_day_minutes: 265.1</br>total_day_charge: 45.07</br>total_eve_minutes: 197.4</br>total_eve_charge: 16.78</br>total_night_minutes: 244.7</br>total_intl_minutes: 10.0</br>total_intl_charge: 2.7</br>_original_yhat_: 0.1626950353384018</br>"
          ],
          [
           "</br>id: 0</br>prediction: 0.596</br>total_night_charge: 2.1324</br></br>total_day_minutes: 265.1</br>total_day_charge: 45.07</br>total_eve_minutes: 197.4</br>total_eve_charge: 16.78</br>total_night_minutes: 244.7</br>total_intl_minutes: 10.0</br>total_intl_charge: 2.7</br>_original_yhat_: 0.1626950353384018</br>"
          ],
          [
           "</br>id: 0</br>prediction: 0.596</br>total_night_charge: 2.3101</br></br>total_day_minutes: 265.1</br>total_day_charge: 45.07</br>total_eve_minutes: 197.4</br>total_eve_charge: 16.78</br>total_night_minutes: 244.7</br>total_intl_minutes: 10.0</br>total_intl_charge: 2.7</br>_original_yhat_: 0.1626950353384018</br>"
          ],
          [
           "</br>id: 0</br>prediction: 0.596</br>total_night_charge: 2.4878</br></br>total_day_minutes: 265.1</br>total_day_charge: 45.07</br>total_eve_minutes: 197.4</br>total_eve_charge: 16.78</br>total_night_minutes: 244.7</br>total_intl_minutes: 10.0</br>total_intl_charge: 2.7</br>_original_yhat_: 0.1626950353384018</br>"
          ],
          [
           "</br>id: 0</br>prediction: 0.596</br>total_night_charge: 2.6654999999999998</br></br>total_day_minutes: 265.1</br>total_day_charge: 45.07</br>total_eve_minutes: 197.4</br>total_eve_charge: 16.78</br>total_night_minutes: 244.7</br>total_intl_minutes: 10.0</br>total_intl_charge: 2.7</br>_original_yhat_: 0.1626950353384018</br>"
          ],
          [
           "</br>id: 0</br>prediction: 0.596</br>total_night_charge: 2.8432</br></br>total_day_minutes: 265.1</br>total_day_charge: 45.07</br>total_eve_minutes: 197.4</br>total_eve_charge: 16.78</br>total_night_minutes: 244.7</br>total_intl_minutes: 10.0</br>total_intl_charge: 2.7</br>_original_yhat_: 0.1626950353384018</br>"
          ],
          [
           "</br>id: 0</br>prediction: 0.596</br>total_night_charge: 3.0209</br></br>total_day_minutes: 265.1</br>total_day_charge: 45.07</br>total_eve_minutes: 197.4</br>total_eve_charge: 16.78</br>total_night_minutes: 244.7</br>total_intl_minutes: 10.0</br>total_intl_charge: 2.7</br>_original_yhat_: 0.1626950353384018</br>"
          ],
          [
           "</br>id: 0</br>prediction: 0.596</br>total_night_charge: 3.1986</br></br>total_day_minutes: 265.1</br>total_day_charge: 45.07</br>total_eve_minutes: 197.4</br>total_eve_charge: 16.78</br>total_night_minutes: 244.7</br>total_intl_minutes: 10.0</br>total_intl_charge: 2.7</br>_original_yhat_: 0.1626950353384018</br>"
          ],
          [
           "</br>id: 0</br>prediction: 0.596</br>total_night_charge: 3.3763</br></br>total_day_minutes: 265.1</br>total_day_charge: 45.07</br>total_eve_minutes: 197.4</br>total_eve_charge: 16.78</br>total_night_minutes: 244.7</br>total_intl_minutes: 10.0</br>total_intl_charge: 2.7</br>_original_yhat_: 0.1626950353384018</br>"
          ],
          [
           "</br>id: 0</br>prediction: 0.517</br>total_night_charge: 3.554</br></br>total_day_minutes: 265.1</br>total_day_charge: 45.07</br>total_eve_minutes: 197.4</br>total_eve_charge: 16.78</br>total_night_minutes: 244.7</br>total_intl_minutes: 10.0</br>total_intl_charge: 2.7</br>_original_yhat_: 0.1626950353384018</br>"
          ],
          [
           "</br>id: 0</br>prediction: 0.517</br>total_night_charge: 3.7317</br></br>total_day_minutes: 265.1</br>total_day_charge: 45.07</br>total_eve_minutes: 197.4</br>total_eve_charge: 16.78</br>total_night_minutes: 244.7</br>total_intl_minutes: 10.0</br>total_intl_charge: 2.7</br>_original_yhat_: 0.1626950353384018</br>"
          ],
          [
           "</br>id: 0</br>prediction: 0.517</br>total_night_charge: 3.9093999999999998</br></br>total_day_minutes: 265.1</br>total_day_charge: 45.07</br>total_eve_minutes: 197.4</br>total_eve_charge: 16.78</br>total_night_minutes: 244.7</br>total_intl_minutes: 10.0</br>total_intl_charge: 2.7</br>_original_yhat_: 0.1626950353384018</br>"
          ],
          [
           "</br>id: 0</br>prediction: 0.517</br>total_night_charge: 4.0870999999999995</br></br>total_day_minutes: 265.1</br>total_day_charge: 45.07</br>total_eve_minutes: 197.4</br>total_eve_charge: 16.78</br>total_night_minutes: 244.7</br>total_intl_minutes: 10.0</br>total_intl_charge: 2.7</br>_original_yhat_: 0.1626950353384018</br>"
          ],
          [
           "</br>id: 0</br>prediction: 0.517</br>total_night_charge: 4.2648</br></br>total_day_minutes: 265.1</br>total_day_charge: 45.07</br>total_eve_minutes: 197.4</br>total_eve_charge: 16.78</br>total_night_minutes: 244.7</br>total_intl_minutes: 10.0</br>total_intl_charge: 2.7</br>_original_yhat_: 0.1626950353384018</br>"
          ],
          [
           "</br>id: 0</br>prediction: 0.517</br>total_night_charge: 4.4425</br></br>total_day_minutes: 265.1</br>total_day_charge: 45.07</br>total_eve_minutes: 197.4</br>total_eve_charge: 16.78</br>total_night_minutes: 244.7</br>total_intl_minutes: 10.0</br>total_intl_charge: 2.7</br>_original_yhat_: 0.1626950353384018</br>"
          ],
          [
           "</br>id: 0</br>prediction: 0.517</br>total_night_charge: 4.6202</br></br>total_day_minutes: 265.1</br>total_day_charge: 45.07</br>total_eve_minutes: 197.4</br>total_eve_charge: 16.78</br>total_night_minutes: 244.7</br>total_intl_minutes: 10.0</br>total_intl_charge: 2.7</br>_original_yhat_: 0.1626950353384018</br>"
          ],
          [
           "</br>id: 0</br>prediction: 0.517</br>total_night_charge: 4.7979</br></br>total_day_minutes: 265.1</br>total_day_charge: 45.07</br>total_eve_minutes: 197.4</br>total_eve_charge: 16.78</br>total_night_minutes: 244.7</br>total_intl_minutes: 10.0</br>total_intl_charge: 2.7</br>_original_yhat_: 0.1626950353384018</br>"
          ],
          [
           "</br>id: 0</br>prediction: 0.517</br>total_night_charge: 4.9756</br></br>total_day_minutes: 265.1</br>total_day_charge: 45.07</br>total_eve_minutes: 197.4</br>total_eve_charge: 16.78</br>total_night_minutes: 244.7</br>total_intl_minutes: 10.0</br>total_intl_charge: 2.7</br>_original_yhat_: 0.1626950353384018</br>"
          ],
          [
           "</br>id: 0</br>prediction: 0.517</br>total_night_charge: 5.1533</br></br>total_day_minutes: 265.1</br>total_day_charge: 45.07</br>total_eve_minutes: 197.4</br>total_eve_charge: 16.78</br>total_night_minutes: 244.7</br>total_intl_minutes: 10.0</br>total_intl_charge: 2.7</br>_original_yhat_: 0.1626950353384018</br>"
          ],
          [
           "</br>id: 0</br>prediction: 0.517</br>total_night_charge: 5.3309999999999995</br></br>total_day_minutes: 265.1</br>total_day_charge: 45.07</br>total_eve_minutes: 197.4</br>total_eve_charge: 16.78</br>total_night_minutes: 244.7</br>total_intl_minutes: 10.0</br>total_intl_charge: 2.7</br>_original_yhat_: 0.1626950353384018</br>"
          ],
          [
           "</br>id: 0</br>prediction: 0.517</br>total_night_charge: 5.5087</br></br>total_day_minutes: 265.1</br>total_day_charge: 45.07</br>total_eve_minutes: 197.4</br>total_eve_charge: 16.78</br>total_night_minutes: 244.7</br>total_intl_minutes: 10.0</br>total_intl_charge: 2.7</br>_original_yhat_: 0.1626950353384018</br>"
          ],
          [
           "</br>id: 0</br>prediction: 0.222</br>total_night_charge: 5.6864</br></br>total_day_minutes: 265.1</br>total_day_charge: 45.07</br>total_eve_minutes: 197.4</br>total_eve_charge: 16.78</br>total_night_minutes: 244.7</br>total_intl_minutes: 10.0</br>total_intl_charge: 2.7</br>_original_yhat_: 0.1626950353384018</br>"
          ],
          [
           "</br>id: 0</br>prediction: 0.222</br>total_night_charge: 5.8641</br></br>total_day_minutes: 265.1</br>total_day_charge: 45.07</br>total_eve_minutes: 197.4</br>total_eve_charge: 16.78</br>total_night_minutes: 244.7</br>total_intl_minutes: 10.0</br>total_intl_charge: 2.7</br>_original_yhat_: 0.1626950353384018</br>"
          ],
          [
           "</br>id: 0</br>prediction: 0.222</br>total_night_charge: 6.0418</br></br>total_day_minutes: 265.1</br>total_day_charge: 45.07</br>total_eve_minutes: 197.4</br>total_eve_charge: 16.78</br>total_night_minutes: 244.7</br>total_intl_minutes: 10.0</br>total_intl_charge: 2.7</br>_original_yhat_: 0.1626950353384018</br>"
          ],
          [
           "</br>id: 0</br>prediction: 0.222</br>total_night_charge: 6.2195</br></br>total_day_minutes: 265.1</br>total_day_charge: 45.07</br>total_eve_minutes: 197.4</br>total_eve_charge: 16.78</br>total_night_minutes: 244.7</br>total_intl_minutes: 10.0</br>total_intl_charge: 2.7</br>_original_yhat_: 0.1626950353384018</br>"
          ],
          [
           "</br>id: 0</br>prediction: 0.222</br>total_night_charge: 6.3972</br></br>total_day_minutes: 265.1</br>total_day_charge: 45.07</br>total_eve_minutes: 197.4</br>total_eve_charge: 16.78</br>total_night_minutes: 244.7</br>total_intl_minutes: 10.0</br>total_intl_charge: 2.7</br>_original_yhat_: 0.1626950353384018</br>"
          ],
          [
           "</br>id: 0</br>prediction: 0.222</br>total_night_charge: 6.5748999999999995</br></br>total_day_minutes: 265.1</br>total_day_charge: 45.07</br>total_eve_minutes: 197.4</br>total_eve_charge: 16.78</br>total_night_minutes: 244.7</br>total_intl_minutes: 10.0</br>total_intl_charge: 2.7</br>_original_yhat_: 0.1626950353384018</br>"
          ],
          [
           "</br>id: 0</br>prediction: 0.212</br>total_night_charge: 6.7526</br></br>total_day_minutes: 265.1</br>total_day_charge: 45.07</br>total_eve_minutes: 197.4</br>total_eve_charge: 16.78</br>total_night_minutes: 244.7</br>total_intl_minutes: 10.0</br>total_intl_charge: 2.7</br>_original_yhat_: 0.1626950353384018</br>"
          ],
          [
           "</br>id: 0</br>prediction: 0.175</br>total_night_charge: 6.9303</br></br>total_day_minutes: 265.1</br>total_day_charge: 45.07</br>total_eve_minutes: 197.4</br>total_eve_charge: 16.78</br>total_night_minutes: 244.7</br>total_intl_minutes: 10.0</br>total_intl_charge: 2.7</br>_original_yhat_: 0.1626950353384018</br>"
          ],
          [
           "</br>id: 0</br>prediction: 0.175</br>total_night_charge: 7.108</br></br>total_day_minutes: 265.1</br>total_day_charge: 45.07</br>total_eve_minutes: 197.4</br>total_eve_charge: 16.78</br>total_night_minutes: 244.7</br>total_intl_minutes: 10.0</br>total_intl_charge: 2.7</br>_original_yhat_: 0.1626950353384018</br>"
          ],
          [
           "</br>id: 0</br>prediction: 0.169</br>total_night_charge: 7.2857</br></br>total_day_minutes: 265.1</br>total_day_charge: 45.07</br>total_eve_minutes: 197.4</br>total_eve_charge: 16.78</br>total_night_minutes: 244.7</br>total_intl_minutes: 10.0</br>total_intl_charge: 2.7</br>_original_yhat_: 0.1626950353384018</br>"
          ],
          [
           "</br>id: 0</br>prediction: 0.146</br>total_night_charge: 7.4634</br></br>total_day_minutes: 265.1</br>total_day_charge: 45.07</br>total_eve_minutes: 197.4</br>total_eve_charge: 16.78</br>total_night_minutes: 244.7</br>total_intl_minutes: 10.0</br>total_intl_charge: 2.7</br>_original_yhat_: 0.1626950353384018</br>"
          ],
          [
           "</br>id: 0</br>prediction: 0.195</br>total_night_charge: 7.6411</br></br>total_day_minutes: 265.1</br>total_day_charge: 45.07</br>total_eve_minutes: 197.4</br>total_eve_charge: 16.78</br>total_night_minutes: 244.7</br>total_intl_minutes: 10.0</br>total_intl_charge: 2.7</br>_original_yhat_: 0.1626950353384018</br>"
          ],
          [
           "</br>id: 0</br>prediction: 0.195</br>total_night_charge: 7.8187999999999995</br></br>total_day_minutes: 265.1</br>total_day_charge: 45.07</br>total_eve_minutes: 197.4</br>total_eve_charge: 16.78</br>total_night_minutes: 244.7</br>total_intl_minutes: 10.0</br>total_intl_charge: 2.7</br>_original_yhat_: 0.1626950353384018</br>"
          ],
          [
           "</br>id: 0</br>prediction: 0.197</br>total_night_charge: 7.9965</br></br>total_day_minutes: 265.1</br>total_day_charge: 45.07</br>total_eve_minutes: 197.4</br>total_eve_charge: 16.78</br>total_night_minutes: 244.7</br>total_intl_minutes: 10.0</br>total_intl_charge: 2.7</br>_original_yhat_: 0.1626950353384018</br>"
          ],
          [
           "</br>id: 0</br>prediction: 0.149</br>total_night_charge: 8.174199999999999</br></br>total_day_minutes: 265.1</br>total_day_charge: 45.07</br>total_eve_minutes: 197.4</br>total_eve_charge: 16.78</br>total_night_minutes: 244.7</br>total_intl_minutes: 10.0</br>total_intl_charge: 2.7</br>_original_yhat_: 0.1626950353384018</br>"
          ],
          [
           "</br>id: 0</br>prediction: 0.207</br>total_night_charge: 8.3519</br></br>total_day_minutes: 265.1</br>total_day_charge: 45.07</br>total_eve_minutes: 197.4</br>total_eve_charge: 16.78</br>total_night_minutes: 244.7</br>total_intl_minutes: 10.0</br>total_intl_charge: 2.7</br>_original_yhat_: 0.1626950353384018</br>"
          ],
          [
           "</br>id: 0</br>prediction: 0.207</br>total_night_charge: 8.5296</br></br>total_day_minutes: 265.1</br>total_day_charge: 45.07</br>total_eve_minutes: 197.4</br>total_eve_charge: 16.78</br>total_night_minutes: 244.7</br>total_intl_minutes: 10.0</br>total_intl_charge: 2.7</br>_original_yhat_: 0.1626950353384018</br>"
          ],
          [
           "</br>id: 0</br>prediction: 0.207</br>total_night_charge: 8.7073</br></br>total_day_minutes: 265.1</br>total_day_charge: 45.07</br>total_eve_minutes: 197.4</br>total_eve_charge: 16.78</br>total_night_minutes: 244.7</br>total_intl_minutes: 10.0</br>total_intl_charge: 2.7</br>_original_yhat_: 0.1626950353384018</br>"
          ],
          [
           "</br>id: 0</br>prediction: 0.207</br>total_night_charge: 8.885</br></br>total_day_minutes: 265.1</br>total_day_charge: 45.07</br>total_eve_minutes: 197.4</br>total_eve_charge: 16.78</br>total_night_minutes: 244.7</br>total_intl_minutes: 10.0</br>total_intl_charge: 2.7</br>_original_yhat_: 0.1626950353384018</br>"
          ],
          [
           "</br>id: 0</br>prediction: 0.246</br>total_night_charge: 9.0627</br></br>total_day_minutes: 265.1</br>total_day_charge: 45.07</br>total_eve_minutes: 197.4</br>total_eve_charge: 16.78</br>total_night_minutes: 244.7</br>total_intl_minutes: 10.0</br>total_intl_charge: 2.7</br>_original_yhat_: 0.1626950353384018</br>"
          ],
          [
           "</br>id: 0</br>prediction: 0.287</br>total_night_charge: 9.2404</br></br>total_day_minutes: 265.1</br>total_day_charge: 45.07</br>total_eve_minutes: 197.4</br>total_eve_charge: 16.78</br>total_night_minutes: 244.7</br>total_intl_minutes: 10.0</br>total_intl_charge: 2.7</br>_original_yhat_: 0.1626950353384018</br>"
          ],
          [
           "</br>id: 0</br>prediction: 0.332</br>total_night_charge: 9.418099999999999</br></br>total_day_minutes: 265.1</br>total_day_charge: 45.07</br>total_eve_minutes: 197.4</br>total_eve_charge: 16.78</br>total_night_minutes: 244.7</br>total_intl_minutes: 10.0</br>total_intl_charge: 2.7</br>_original_yhat_: 0.1626950353384018</br>"
          ],
          [
           "</br>id: 0</br>prediction: 0.332</br>total_night_charge: 9.5958</br></br>total_day_minutes: 265.1</br>total_day_charge: 45.07</br>total_eve_minutes: 197.4</br>total_eve_charge: 16.78</br>total_night_minutes: 244.7</br>total_intl_minutes: 10.0</br>total_intl_charge: 2.7</br>_original_yhat_: 0.1626950353384018</br>"
          ],
          [
           "</br>id: 0</br>prediction: 0.331</br>total_night_charge: 9.7735</br></br>total_day_minutes: 265.1</br>total_day_charge: 45.07</br>total_eve_minutes: 197.4</br>total_eve_charge: 16.78</br>total_night_minutes: 244.7</br>total_intl_minutes: 10.0</br>total_intl_charge: 2.7</br>_original_yhat_: 0.1626950353384018</br>"
          ],
          [
           "</br>id: 0</br>prediction: 0.331</br>total_night_charge: 9.9512</br></br>total_day_minutes: 265.1</br>total_day_charge: 45.07</br>total_eve_minutes: 197.4</br>total_eve_charge: 16.78</br>total_night_minutes: 244.7</br>total_intl_minutes: 10.0</br>total_intl_charge: 2.7</br>_original_yhat_: 0.1626950353384018</br>"
          ],
          [
           "</br>id: 0</br>prediction: 0.331</br>total_night_charge: 10.1289</br></br>total_day_minutes: 265.1</br>total_day_charge: 45.07</br>total_eve_minutes: 197.4</br>total_eve_charge: 16.78</br>total_night_minutes: 244.7</br>total_intl_minutes: 10.0</br>total_intl_charge: 2.7</br>_original_yhat_: 0.1626950353384018</br>"
          ],
          [
           "</br>id: 0</br>prediction: 0.285</br>total_night_charge: 10.3066</br></br>total_day_minutes: 265.1</br>total_day_charge: 45.07</br>total_eve_minutes: 197.4</br>total_eve_charge: 16.78</br>total_night_minutes: 244.7</br>total_intl_minutes: 10.0</br>total_intl_charge: 2.7</br>_original_yhat_: 0.1626950353384018</br>"
          ],
          [
           "</br>id: 0</br>prediction: 0.29</br>total_night_charge: 10.4843</br></br>total_day_minutes: 265.1</br>total_day_charge: 45.07</br>total_eve_minutes: 197.4</br>total_eve_charge: 16.78</br>total_night_minutes: 244.7</br>total_intl_minutes: 10.0</br>total_intl_charge: 2.7</br>_original_yhat_: 0.1626950353384018</br>"
          ],
          [
           "</br>id: 0</br>prediction: 0.29</br>total_night_charge: 10.661999999999999</br></br>total_day_minutes: 265.1</br>total_day_charge: 45.07</br>total_eve_minutes: 197.4</br>total_eve_charge: 16.78</br>total_night_minutes: 244.7</br>total_intl_minutes: 10.0</br>total_intl_charge: 2.7</br>_original_yhat_: 0.1626950353384018</br>"
          ],
          [
           "</br>id: 0</br>prediction: 0.217</br>total_night_charge: 10.8397</br></br>total_day_minutes: 265.1</br>total_day_charge: 45.07</br>total_eve_minutes: 197.4</br>total_eve_charge: 16.78</br>total_night_minutes: 244.7</br>total_intl_minutes: 10.0</br>total_intl_charge: 2.7</br>_original_yhat_: 0.1626950353384018</br>"
          ],
          [
           "</br>id: 0</br>prediction: 0.163</br>total_night_charge: 11.01</br></br>total_day_minutes: 265.1</br>total_day_charge: 45.07</br>total_eve_minutes: 197.4</br>total_eve_charge: 16.78</br>total_night_minutes: 244.7</br>total_intl_minutes: 10.0</br>total_intl_charge: 2.7</br>_original_yhat_: 0.1626950353384018</br>"
          ],
          [
           "</br>id: 0</br>prediction: 0.163</br>total_night_charge: 11.0174</br></br>total_day_minutes: 265.1</br>total_day_charge: 45.07</br>total_eve_minutes: 197.4</br>total_eve_charge: 16.78</br>total_night_minutes: 244.7</br>total_intl_minutes: 10.0</br>total_intl_charge: 2.7</br>_original_yhat_: 0.1626950353384018</br>"
          ],
          [
           "</br>id: 0</br>prediction: 0.163</br>total_night_charge: 11.1951</br></br>total_day_minutes: 265.1</br>total_day_charge: 45.07</br>total_eve_minutes: 197.4</br>total_eve_charge: 16.78</br>total_night_minutes: 244.7</br>total_intl_minutes: 10.0</br>total_intl_charge: 2.7</br>_original_yhat_: 0.1626950353384018</br>"
          ],
          [
           "</br>id: 0</br>prediction: 0.163</br>total_night_charge: 11.3728</br></br>total_day_minutes: 265.1</br>total_day_charge: 45.07</br>total_eve_minutes: 197.4</br>total_eve_charge: 16.78</br>total_night_minutes: 244.7</br>total_intl_minutes: 10.0</br>total_intl_charge: 2.7</br>_original_yhat_: 0.1626950353384018</br>"
          ],
          [
           "</br>id: 0</br>prediction: 0.163</br>total_night_charge: 11.5505</br></br>total_day_minutes: 265.1</br>total_day_charge: 45.07</br>total_eve_minutes: 197.4</br>total_eve_charge: 16.78</br>total_night_minutes: 244.7</br>total_intl_minutes: 10.0</br>total_intl_charge: 2.7</br>_original_yhat_: 0.1626950353384018</br>"
          ],
          [
           "</br>id: 0</br>prediction: 0.163</br>total_night_charge: 11.7282</br></br>total_day_minutes: 265.1</br>total_day_charge: 45.07</br>total_eve_minutes: 197.4</br>total_eve_charge: 16.78</br>total_night_minutes: 244.7</br>total_intl_minutes: 10.0</br>total_intl_charge: 2.7</br>_original_yhat_: 0.1626950353384018</br>"
          ],
          [
           "</br>id: 0</br>prediction: 0.163</br>total_night_charge: 11.905899999999999</br></br>total_day_minutes: 265.1</br>total_day_charge: 45.07</br>total_eve_minutes: 197.4</br>total_eve_charge: 16.78</br>total_night_minutes: 244.7</br>total_intl_minutes: 10.0</br>total_intl_charge: 2.7</br>_original_yhat_: 0.1626950353384018</br>"
          ],
          [
           "</br>id: 0</br>prediction: 0.163</br>total_night_charge: 12.0836</br></br>total_day_minutes: 265.1</br>total_day_charge: 45.07</br>total_eve_minutes: 197.4</br>total_eve_charge: 16.78</br>total_night_minutes: 244.7</br>total_intl_minutes: 10.0</br>total_intl_charge: 2.7</br>_original_yhat_: 0.1626950353384018</br>"
          ],
          [
           "</br>id: 0</br>prediction: 0.163</br>total_night_charge: 12.2613</br></br>total_day_minutes: 265.1</br>total_day_charge: 45.07</br>total_eve_minutes: 197.4</br>total_eve_charge: 16.78</br>total_night_minutes: 244.7</br>total_intl_minutes: 10.0</br>total_intl_charge: 2.7</br>_original_yhat_: 0.1626950353384018</br>"
          ],
          [
           "</br>id: 0</br>prediction: 0.218</br>total_night_charge: 12.439</br></br>total_day_minutes: 265.1</br>total_day_charge: 45.07</br>total_eve_minutes: 197.4</br>total_eve_charge: 16.78</br>total_night_minutes: 244.7</br>total_intl_minutes: 10.0</br>total_intl_charge: 2.7</br>_original_yhat_: 0.1626950353384018</br>"
          ],
          [
           "</br>id: 0</br>prediction: 0.218</br>total_night_charge: 12.6167</br></br>total_day_minutes: 265.1</br>total_day_charge: 45.07</br>total_eve_minutes: 197.4</br>total_eve_charge: 16.78</br>total_night_minutes: 244.7</br>total_intl_minutes: 10.0</br>total_intl_charge: 2.7</br>_original_yhat_: 0.1626950353384018</br>"
          ],
          [
           "</br>id: 0</br>prediction: 0.218</br>total_night_charge: 12.7944</br></br>total_day_minutes: 265.1</br>total_day_charge: 45.07</br>total_eve_minutes: 197.4</br>total_eve_charge: 16.78</br>total_night_minutes: 244.7</br>total_intl_minutes: 10.0</br>total_intl_charge: 2.7</br>_original_yhat_: 0.1626950353384018</br>"
          ],
          [
           "</br>id: 0</br>prediction: 0.218</br>total_night_charge: 12.9721</br></br>total_day_minutes: 265.1</br>total_day_charge: 45.07</br>total_eve_minutes: 197.4</br>total_eve_charge: 16.78</br>total_night_minutes: 244.7</br>total_intl_minutes: 10.0</br>total_intl_charge: 2.7</br>_original_yhat_: 0.1626950353384018</br>"
          ],
          [
           "</br>id: 0</br>prediction: 0.109</br>total_night_charge: 13.149799999999999</br></br>total_day_minutes: 265.1</br>total_day_charge: 45.07</br>total_eve_minutes: 197.4</br>total_eve_charge: 16.78</br>total_night_minutes: 244.7</br>total_intl_minutes: 10.0</br>total_intl_charge: 2.7</br>_original_yhat_: 0.1626950353384018</br>"
          ],
          [
           "</br>id: 0</br>prediction: 0.109</br>total_night_charge: 13.3275</br></br>total_day_minutes: 265.1</br>total_day_charge: 45.07</br>total_eve_minutes: 197.4</br>total_eve_charge: 16.78</br>total_night_minutes: 244.7</br>total_intl_minutes: 10.0</br>total_intl_charge: 2.7</br>_original_yhat_: 0.1626950353384018</br>"
          ],
          [
           "</br>id: 0</br>prediction: 0.109</br>total_night_charge: 13.5052</br></br>total_day_minutes: 265.1</br>total_day_charge: 45.07</br>total_eve_minutes: 197.4</br>total_eve_charge: 16.78</br>total_night_minutes: 244.7</br>total_intl_minutes: 10.0</br>total_intl_charge: 2.7</br>_original_yhat_: 0.1626950353384018</br>"
          ],
          [
           "</br>id: 0</br>prediction: 0.109</br>total_night_charge: 13.6829</br></br>total_day_minutes: 265.1</br>total_day_charge: 45.07</br>total_eve_minutes: 197.4</br>total_eve_charge: 16.78</br>total_night_minutes: 244.7</br>total_intl_minutes: 10.0</br>total_intl_charge: 2.7</br>_original_yhat_: 0.1626950353384018</br>"
          ],
          [
           "</br>id: 0</br>prediction: 0.109</br>total_night_charge: 13.8606</br></br>total_day_minutes: 265.1</br>total_day_charge: 45.07</br>total_eve_minutes: 197.4</br>total_eve_charge: 16.78</br>total_night_minutes: 244.7</br>total_intl_minutes: 10.0</br>total_intl_charge: 2.7</br>_original_yhat_: 0.1626950353384018</br>"
          ],
          [
           "</br>id: 0</br>prediction: 0.109</br>total_night_charge: 14.0383</br></br>total_day_minutes: 265.1</br>total_day_charge: 45.07</br>total_eve_minutes: 197.4</br>total_eve_charge: 16.78</br>total_night_minutes: 244.7</br>total_intl_minutes: 10.0</br>total_intl_charge: 2.7</br>_original_yhat_: 0.1626950353384018</br>"
          ],
          [
           "</br>id: 0</br>prediction: 0.109</br>total_night_charge: 14.216</br></br>total_day_minutes: 265.1</br>total_day_charge: 45.07</br>total_eve_minutes: 197.4</br>total_eve_charge: 16.78</br>total_night_minutes: 244.7</br>total_intl_minutes: 10.0</br>total_intl_charge: 2.7</br>_original_yhat_: 0.1626950353384018</br>"
          ],
          [
           "</br>id: 0</br>prediction: 0.109</br>total_night_charge: 14.393699999999999</br></br>total_day_minutes: 265.1</br>total_day_charge: 45.07</br>total_eve_minutes: 197.4</br>total_eve_charge: 16.78</br>total_night_minutes: 244.7</br>total_intl_minutes: 10.0</br>total_intl_charge: 2.7</br>_original_yhat_: 0.1626950353384018</br>"
          ],
          [
           "</br>id: 0</br>prediction: 0.088</br>total_night_charge: 14.5714</br></br>total_day_minutes: 265.1</br>total_day_charge: 45.07</br>total_eve_minutes: 197.4</br>total_eve_charge: 16.78</br>total_night_minutes: 244.7</br>total_intl_minutes: 10.0</br>total_intl_charge: 2.7</br>_original_yhat_: 0.1626950353384018</br>"
          ],
          [
           "</br>id: 0</br>prediction: 0.088</br>total_night_charge: 14.7491</br></br>total_day_minutes: 265.1</br>total_day_charge: 45.07</br>total_eve_minutes: 197.4</br>total_eve_charge: 16.78</br>total_night_minutes: 244.7</br>total_intl_minutes: 10.0</br>total_intl_charge: 2.7</br>_original_yhat_: 0.1626950353384018</br>"
          ],
          [
           "</br>id: 0</br>prediction: 0.088</br>total_night_charge: 14.9268</br></br>total_day_minutes: 265.1</br>total_day_charge: 45.07</br>total_eve_minutes: 197.4</br>total_eve_charge: 16.78</br>total_night_minutes: 244.7</br>total_intl_minutes: 10.0</br>total_intl_charge: 2.7</br>_original_yhat_: 0.1626950353384018</br>"
          ],
          [
           "</br>id: 0</br>prediction: 0.088</br>total_night_charge: 15.1045</br></br>total_day_minutes: 265.1</br>total_day_charge: 45.07</br>total_eve_minutes: 197.4</br>total_eve_charge: 16.78</br>total_night_minutes: 244.7</br>total_intl_minutes: 10.0</br>total_intl_charge: 2.7</br>_original_yhat_: 0.1626950353384018</br>"
          ],
          [
           "</br>id: 0</br>prediction: 0.088</br>total_night_charge: 15.2822</br></br>total_day_minutes: 265.1</br>total_day_charge: 45.07</br>total_eve_minutes: 197.4</br>total_eve_charge: 16.78</br>total_night_minutes: 244.7</br>total_intl_minutes: 10.0</br>total_intl_charge: 2.7</br>_original_yhat_: 0.1626950353384018</br>"
          ],
          [
           "</br>id: 0</br>prediction: 0.088</br>total_night_charge: 15.4599</br></br>total_day_minutes: 265.1</br>total_day_charge: 45.07</br>total_eve_minutes: 197.4</br>total_eve_charge: 16.78</br>total_night_minutes: 244.7</br>total_intl_minutes: 10.0</br>total_intl_charge: 2.7</br>_original_yhat_: 0.1626950353384018</br>"
          ],
          [
           "</br>id: 0</br>prediction: 0.088</br>total_night_charge: 15.637599999999999</br></br>total_day_minutes: 265.1</br>total_day_charge: 45.07</br>total_eve_minutes: 197.4</br>total_eve_charge: 16.78</br>total_night_minutes: 244.7</br>total_intl_minutes: 10.0</br>total_intl_charge: 2.7</br>_original_yhat_: 0.1626950353384018</br>"
          ],
          [
           "</br>id: 0</br>prediction: 0.088</br>total_night_charge: 15.8153</br></br>total_day_minutes: 265.1</br>total_day_charge: 45.07</br>total_eve_minutes: 197.4</br>total_eve_charge: 16.78</br>total_night_minutes: 244.7</br>total_intl_minutes: 10.0</br>total_intl_charge: 2.7</br>_original_yhat_: 0.1626950353384018</br>"
          ],
          [
           "</br>id: 0</br>prediction: 0.088</br>total_night_charge: 15.993</br></br>total_day_minutes: 265.1</br>total_day_charge: 45.07</br>total_eve_minutes: 197.4</br>total_eve_charge: 16.78</br>total_night_minutes: 244.7</br>total_intl_minutes: 10.0</br>total_intl_charge: 2.7</br>_original_yhat_: 0.1626950353384018</br>"
          ],
          [
           "</br>id: 0</br>prediction: 0.088</br>total_night_charge: 16.1707</br></br>total_day_minutes: 265.1</br>total_day_charge: 45.07</br>total_eve_minutes: 197.4</br>total_eve_charge: 16.78</br>total_night_minutes: 244.7</br>total_intl_minutes: 10.0</br>total_intl_charge: 2.7</br>_original_yhat_: 0.1626950353384018</br>"
          ],
          [
           "</br>id: 0</br>prediction: 0.088</br>total_night_charge: 16.348399999999998</br></br>total_day_minutes: 265.1</br>total_day_charge: 45.07</br>total_eve_minutes: 197.4</br>total_eve_charge: 16.78</br>total_night_minutes: 244.7</br>total_intl_minutes: 10.0</br>total_intl_charge: 2.7</br>_original_yhat_: 0.1626950353384018</br>"
          ],
          [
           "</br>id: 0</br>prediction: 0.088</br>total_night_charge: 16.5261</br></br>total_day_minutes: 265.1</br>total_day_charge: 45.07</br>total_eve_minutes: 197.4</br>total_eve_charge: 16.78</br>total_night_minutes: 244.7</br>total_intl_minutes: 10.0</br>total_intl_charge: 2.7</br>_original_yhat_: 0.1626950353384018</br>"
          ],
          [
           "</br>id: 0</br>prediction: 0.088</br>total_night_charge: 16.7038</br></br>total_day_minutes: 265.1</br>total_day_charge: 45.07</br>total_eve_minutes: 197.4</br>total_eve_charge: 16.78</br>total_night_minutes: 244.7</br>total_intl_minutes: 10.0</br>total_intl_charge: 2.7</br>_original_yhat_: 0.1626950353384018</br>"
          ],
          [
           "</br>id: 0</br>prediction: 0.088</br>total_night_charge: 16.8815</br></br>total_day_minutes: 265.1</br>total_day_charge: 45.07</br>total_eve_minutes: 197.4</br>total_eve_charge: 16.78</br>total_night_minutes: 244.7</br>total_intl_minutes: 10.0</br>total_intl_charge: 2.7</br>_original_yhat_: 0.1626950353384018</br>"
          ],
          [
           "</br>id: 0</br>prediction: 0.088</br>total_night_charge: 17.0592</br></br>total_day_minutes: 265.1</br>total_day_charge: 45.07</br>total_eve_minutes: 197.4</br>total_eve_charge: 16.78</br>total_night_minutes: 244.7</br>total_intl_minutes: 10.0</br>total_intl_charge: 2.7</br>_original_yhat_: 0.1626950353384018</br>"
          ],
          [
           "</br>id: 0</br>prediction: 0.088</br>total_night_charge: 17.2369</br></br>total_day_minutes: 265.1</br>total_day_charge: 45.07</br>total_eve_minutes: 197.4</br>total_eve_charge: 16.78</br>total_night_minutes: 244.7</br>total_intl_minutes: 10.0</br>total_intl_charge: 2.7</br>_original_yhat_: 0.1626950353384018</br>"
          ],
          [
           "</br>id: 0</br>prediction: 0.088</br>total_night_charge: 17.4146</br></br>total_day_minutes: 265.1</br>total_day_charge: 45.07</br>total_eve_minutes: 197.4</br>total_eve_charge: 16.78</br>total_night_minutes: 244.7</br>total_intl_minutes: 10.0</br>total_intl_charge: 2.7</br>_original_yhat_: 0.1626950353384018</br>"
          ],
          [
           "</br>id: 0</br>prediction: 0.088</br>total_night_charge: 17.592299999999998</br></br>total_day_minutes: 265.1</br>total_day_charge: 45.07</br>total_eve_minutes: 197.4</br>total_eve_charge: 16.78</br>total_night_minutes: 244.7</br>total_intl_minutes: 10.0</br>total_intl_charge: 2.7</br>_original_yhat_: 0.1626950353384018</br>"
          ],
          [
           "</br>id: 0</br>prediction: 0.088</br>total_night_charge: 17.77</br></br>total_day_minutes: 265.1</br>total_day_charge: 45.07</br>total_eve_minutes: 197.4</br>total_eve_charge: 16.78</br>total_night_minutes: 244.7</br>total_intl_minutes: 10.0</br>total_intl_charge: 2.7</br>_original_yhat_: 0.1626950353384018</br>"
          ]
         ],
         "hovertemplate": "%{customdata[0]}<extra></extra>",
         "legendgroup": "XGBClassifier",
         "line": {
          "color": "#46bac2",
          "dash": "solid",
          "width": 2
         },
         "marker": {
          "symbol": "circle"
         },
         "mode": "lines",
         "name": "XGBClassifier",
         "opacity": 1,
         "orientation": "v",
         "showlegend": false,
         "type": "scatter",
         "x": [
          0,
          0.1777,
          0.3554,
          0.5331,
          0.7108,
          0.8885,
          1.0662,
          1.2439,
          1.4216,
          1.5993,
          1.777,
          1.9546999999999999,
          2.1324,
          2.3101,
          2.4878,
          2.6654999999999998,
          2.8432,
          3.0209,
          3.1986,
          3.3763,
          3.554,
          3.7317,
          3.9093999999999998,
          4.0870999999999995,
          4.2648,
          4.4425,
          4.6202,
          4.7979,
          4.9756,
          5.1533,
          5.3309999999999995,
          5.5087,
          5.6864,
          5.8641,
          6.0418,
          6.2195,
          6.3972,
          6.5748999999999995,
          6.7526,
          6.9303,
          7.108,
          7.2857,
          7.4634,
          7.6411,
          7.8187999999999995,
          7.9965,
          8.174199999999999,
          8.3519,
          8.5296,
          8.7073,
          8.885,
          9.0627,
          9.2404,
          9.418099999999999,
          9.5958,
          9.7735,
          9.9512,
          10.1289,
          10.3066,
          10.4843,
          10.661999999999999,
          10.8397,
          11.01,
          11.0174,
          11.1951,
          11.3728,
          11.5505,
          11.7282,
          11.905899999999999,
          12.0836,
          12.2613,
          12.439,
          12.6167,
          12.7944,
          12.9721,
          13.149799999999999,
          13.3275,
          13.5052,
          13.6829,
          13.8606,
          14.0383,
          14.216,
          14.393699999999999,
          14.5714,
          14.7491,
          14.9268,
          15.1045,
          15.2822,
          15.4599,
          15.637599999999999,
          15.8153,
          15.993,
          16.1707,
          16.348399999999998,
          16.5261,
          16.7038,
          16.8815,
          17.0592,
          17.2369,
          17.4146,
          17.592299999999998,
          17.77
         ],
         "xaxis": "x2",
         "y": [
          0.5963307023048401,
          0.5963307023048401,
          0.5963307023048401,
          0.5963307023048401,
          0.5963307023048401,
          0.5963307023048401,
          0.5963307023048401,
          0.5963307023048401,
          0.5963307023048401,
          0.5963307023048401,
          0.5963307023048401,
          0.5963307023048401,
          0.5963307023048401,
          0.5963307023048401,
          0.5963307023048401,
          0.5963307023048401,
          0.5963307023048401,
          0.5963307023048401,
          0.5963307023048401,
          0.5963307023048401,
          0.5174928903579712,
          0.5174928903579712,
          0.5174928903579712,
          0.5174928903579712,
          0.5174928903579712,
          0.5174928903579712,
          0.5174928903579712,
          0.5174928903579712,
          0.5174928903579712,
          0.5174928903579712,
          0.5174928903579712,
          0.5174928903579712,
          0.22206145524978638,
          0.22206145524978638,
          0.22206145524978638,
          0.22206145524978638,
          0.22206145524978638,
          0.22206145524978638,
          0.2122126817703247,
          0.1754658967256546,
          0.1754658967256546,
          0.1685890406370163,
          0.14567930996418,
          0.19545191526412964,
          0.19545191526412964,
          0.19702202081680298,
          0.1492551565170288,
          0.2070208638906479,
          0.2070208638906479,
          0.2070208638906479,
          0.2070208638906479,
          0.24635842442512512,
          0.28732049465179443,
          0.3318091928958893,
          0.3318091928958893,
          0.3314327895641327,
          0.3314327895641327,
          0.3314327895641327,
          0.28538569808006287,
          0.28982359170913696,
          0.28982359170913696,
          0.21671634912490845,
          0.1626950353384018,
          0.1626950353384018,
          0.1626950353384018,
          0.1626950353384018,
          0.1626950353384018,
          0.1626950353384018,
          0.1626950353384018,
          0.1626950353384018,
          0.1626950353384018,
          0.21772895753383636,
          0.21772895753383636,
          0.21772895753383636,
          0.21772895753383636,
          0.10851320624351501,
          0.10851320624351501,
          0.10851320624351501,
          0.10851320624351501,
          0.10851320624351501,
          0.10851320624351501,
          0.10851320624351501,
          0.10851320624351501,
          0.08761650323867798,
          0.08761650323867798,
          0.08761650323867798,
          0.08761650323867798,
          0.08761650323867798,
          0.08761650323867798,
          0.08761650323867798,
          0.08761650323867798,
          0.08761650323867798,
          0.08761650323867798,
          0.08761650323867798,
          0.08761650323867798,
          0.08761650323867798,
          0.08761650323867798,
          0.08761650323867798,
          0.08761650323867798,
          0.08761650323867798,
          0.08761650323867798,
          0.08761650323867798
         ],
         "yaxis": "y2"
        },
        {
         "customdata": [
          [
           "</br>id: 0</br>prediction: 0.163</br>total_intl_minutes: 10.0</br></br>total_day_minutes: 265.1</br>total_day_charge: 45.07</br>total_eve_minutes: 197.4</br>total_eve_charge: 16.78</br>total_night_minutes: 244.7</br>total_night_charge: 11.01</br>total_intl_charge: 2.7</br>_original_yhat_: 0.1626950353384018</br>"
          ]
         ],
         "hovertemplate": "%{customdata[0]}<extra></extra>",
         "legendgroup": "",
         "marker": {
          "color": "#371ea3",
          "size": 10,
          "symbol": "circle"
         },
         "mode": "markers",
         "name": "",
         "opacity": 1,
         "orientation": "v",
         "showlegend": false,
         "type": "scatter",
         "x": [
          10
         ],
         "xaxis": "x",
         "y": [
          0.1626950353384018
         ],
         "yaxis": "y"
        },
        {
         "customdata": [
          [
           "</br>id: 0</br>prediction: 0.163</br>total_night_charge: 11.01</br></br>total_day_minutes: 265.1</br>total_day_charge: 45.07</br>total_eve_minutes: 197.4</br>total_eve_charge: 16.78</br>total_night_minutes: 244.7</br>total_intl_minutes: 10.0</br>total_intl_charge: 2.7</br>_original_yhat_: 0.1626950353384018</br>"
          ]
         ],
         "hovertemplate": "%{customdata[0]}<extra></extra>",
         "legendgroup": "",
         "marker": {
          "color": "#371ea3",
          "size": 10,
          "symbol": "circle"
         },
         "mode": "markers",
         "name": "",
         "opacity": 1,
         "orientation": "v",
         "showlegend": false,
         "type": "scatter",
         "x": [
          11.01
         ],
         "xaxis": "x2",
         "y": [
          0.1626950353384018
         ],
         "yaxis": "y2"
        }
       ],
       "layout": {
        "annotations": [
         {
          "font": {
           "size": 13
          },
          "showarrow": false,
          "text": "total_intl_minutes",
          "x": 0.2375,
          "xanchor": "center",
          "xref": "paper",
          "y": 1,
          "yanchor": "bottom",
          "yref": "paper"
         },
         {
          "font": {
           "size": 13
          },
          "showarrow": false,
          "text": "total_night_charge",
          "x": 0.7625,
          "xanchor": "center",
          "xref": "paper",
          "y": 1,
          "yanchor": "bottom",
          "yref": "paper"
         },
         {
          "font": {
           "size": 13
          },
          "showarrow": false,
          "text": "prediction",
          "textangle": -90,
          "x": -0.07,
          "xref": "paper",
          "y": 0.5,
          "yref": "paper"
         }
        ],
        "font": {
         "color": "#371ea3"
        },
        "height": 489,
        "hoverlabel": {
         "bgcolor": "rgba(0,0,0,0.8)"
        },
        "hovermode": "closest",
        "legend": {
         "font": {
          "size": 11
         },
         "itemsizing": "constant",
         "orientation": "h",
         "title": {
          "font": {
           "size": 12
          },
          "text": "label"
         },
         "tracegroupgap": 0,
         "x": 1,
         "xanchor": "right",
         "y": 1.0613496932515338,
         "yanchor": "bottom"
        },
        "margin": {
         "b": 71,
         "r": 30,
         "t": 78
        },
        "template": {
         "data": {
          "scatter": [
           {
            "type": "scatter"
           }
          ]
         }
        },
        "title": {
         "font": {
          "size": 16
         },
         "text": "Ceteris Paribus Profiles",
         "x": 0.15
        },
        "xaxis": {
         "anchor": "y",
         "automargin": true,
         "domain": [
          0,
          0.475
         ],
         "fixedrange": true,
         "gridwidth": 2,
         "showticklabels": true,
         "tickcolor": "white",
         "ticklen": 3,
         "ticks": "outside",
         "title": {
          "text": ""
         },
         "type": "linear",
         "zeroline": false
        },
        "xaxis2": {
         "anchor": "y2",
         "automargin": true,
         "domain": [
          0.525,
          1
         ],
         "fixedrange": true,
         "gridwidth": 2,
         "showticklabels": true,
         "tickcolor": "white",
         "ticklen": 3,
         "ticks": "outside",
         "title": {
          "text": ""
         },
         "type": "linear",
         "zeroline": false
        },
        "yaxis": {
         "anchor": "x",
         "automargin": true,
         "domain": [
          0,
          1
         ],
         "fixedrange": true,
         "gridwidth": 2,
         "range": [
          0.004937082529067993,
          0.9970901310443878
         ],
         "tickcolor": "white",
         "ticklen": 3,
         "ticks": "outside",
         "title": {
          "text": ""
         },
         "type": "linear",
         "zeroline": false
        },
        "yaxis2": {
         "anchor": "x2",
         "automargin": true,
         "domain": [
          0,
          1
         ],
         "fixedrange": true,
         "gridwidth": 2,
         "matches": "y",
         "range": [
          0.004937082529067993,
          0.9970901310443878
         ],
         "showticklabels": false,
         "tickcolor": "white",
         "ticklen": 3,
         "ticks": "outside",
         "title": {
          "text": ""
         },
         "type": "linear",
         "zeroline": false
        }
       }
      }
     },
     "metadata": {},
     "output_type": "display_data"
    }
   ],
   "source": [
    "cp1 = explainer.predict_profile(new_observation=observation1)\n",
    "cp1.plot(variables=['total_intl_minutes', 'total_night_charge'])"
   ]
  },
  {
   "cell_type": "markdown",
   "metadata": {},
   "source": [
    "I selected two variables with significant effects: \"total international minutes\" and \"total night charge\" We can see that in this observation, a change (especially an increase) in total international minutes would increase the chances of a positive prediction, while total night charge seems to be mostly detrimental to a positive prediction."
   ]
  },
  {
   "cell_type": "code",
   "execution_count": 69,
   "metadata": {},
   "outputs": [
    {
     "name": "stderr",
     "output_type": "stream",
     "text": [
      "Calculating ceteris paribus: 100%|██████████| 8/8 [00:00<00:00, 308.91it/s]\n"
     ]
    },
    {
     "data": {
      "application/vnd.plotly.v1+json": {
       "config": {
        "displaylogo": false,
        "modeBarButtonsToRemove": [
         "sendDataToCloud",
         "lasso2d",
         "autoScale2d",
         "select2d",
         "zoom2d",
         "pan2d",
         "zoomIn2d",
         "zoomOut2d",
         "resetScale2d",
         "toggleSpikelines",
         "hoverCompareCartesian",
         "hoverClosestCartesian"
        ],
        "plotlyServerURL": "https://plot.ly",
        "staticPlot": false,
        "toImageButtonOptions": {
         "height": null,
         "width": null
        }
       },
       "data": [
        {
         "customdata": [
          [
           "</br>id: 1</br>prediction: 0.001</br>total_intl_minutes: 0.0</br></br>total_day_minutes: 161.6</br>total_day_charge: 27.47</br>total_eve_minutes: 195.5</br>total_eve_charge: 16.62</br>total_night_minutes: 254.4</br>total_night_charge: 11.45</br>total_intl_charge: 3.7</br>_original_yhat_: 0.1336892694234848</br>"
          ],
          [
           "</br>id: 1</br>prediction: 0.001</br>total_intl_minutes: 0.2</br></br>total_day_minutes: 161.6</br>total_day_charge: 27.47</br>total_eve_minutes: 195.5</br>total_eve_charge: 16.62</br>total_night_minutes: 254.4</br>total_night_charge: 11.45</br>total_intl_charge: 3.7</br>_original_yhat_: 0.1336892694234848</br>"
          ],
          [
           "</br>id: 1</br>prediction: 0.001</br>total_intl_minutes: 0.4</br></br>total_day_minutes: 161.6</br>total_day_charge: 27.47</br>total_eve_minutes: 195.5</br>total_eve_charge: 16.62</br>total_night_minutes: 254.4</br>total_night_charge: 11.45</br>total_intl_charge: 3.7</br>_original_yhat_: 0.1336892694234848</br>"
          ],
          [
           "</br>id: 1</br>prediction: 0.001</br>total_intl_minutes: 0.6000000000000001</br></br>total_day_minutes: 161.6</br>total_day_charge: 27.47</br>total_eve_minutes: 195.5</br>total_eve_charge: 16.62</br>total_night_minutes: 254.4</br>total_night_charge: 11.45</br>total_intl_charge: 3.7</br>_original_yhat_: 0.1336892694234848</br>"
          ],
          [
           "</br>id: 1</br>prediction: 0.001</br>total_intl_minutes: 0.8</br></br>total_day_minutes: 161.6</br>total_day_charge: 27.47</br>total_eve_minutes: 195.5</br>total_eve_charge: 16.62</br>total_night_minutes: 254.4</br>total_night_charge: 11.45</br>total_intl_charge: 3.7</br>_original_yhat_: 0.1336892694234848</br>"
          ],
          [
           "</br>id: 1</br>prediction: 0.001</br>total_intl_minutes: 1.0</br></br>total_day_minutes: 161.6</br>total_day_charge: 27.47</br>total_eve_minutes: 195.5</br>total_eve_charge: 16.62</br>total_night_minutes: 254.4</br>total_night_charge: 11.45</br>total_intl_charge: 3.7</br>_original_yhat_: 0.1336892694234848</br>"
          ],
          [
           "</br>id: 1</br>prediction: 0.001</br>total_intl_minutes: 1.2000000000000002</br></br>total_day_minutes: 161.6</br>total_day_charge: 27.47</br>total_eve_minutes: 195.5</br>total_eve_charge: 16.62</br>total_night_minutes: 254.4</br>total_night_charge: 11.45</br>total_intl_charge: 3.7</br>_original_yhat_: 0.1336892694234848</br>"
          ],
          [
           "</br>id: 1</br>prediction: 0.001</br>total_intl_minutes: 1.4000000000000001</br></br>total_day_minutes: 161.6</br>total_day_charge: 27.47</br>total_eve_minutes: 195.5</br>total_eve_charge: 16.62</br>total_night_minutes: 254.4</br>total_night_charge: 11.45</br>total_intl_charge: 3.7</br>_original_yhat_: 0.1336892694234848</br>"
          ],
          [
           "</br>id: 1</br>prediction: 0.001</br>total_intl_minutes: 1.6</br></br>total_day_minutes: 161.6</br>total_day_charge: 27.47</br>total_eve_minutes: 195.5</br>total_eve_charge: 16.62</br>total_night_minutes: 254.4</br>total_night_charge: 11.45</br>total_intl_charge: 3.7</br>_original_yhat_: 0.1336892694234848</br>"
          ],
          [
           "</br>id: 1</br>prediction: 0.001</br>total_intl_minutes: 1.8</br></br>total_day_minutes: 161.6</br>total_day_charge: 27.47</br>total_eve_minutes: 195.5</br>total_eve_charge: 16.62</br>total_night_minutes: 254.4</br>total_night_charge: 11.45</br>total_intl_charge: 3.7</br>_original_yhat_: 0.1336892694234848</br>"
          ],
          [
           "</br>id: 1</br>prediction: 0.001</br>total_intl_minutes: 2.0</br></br>total_day_minutes: 161.6</br>total_day_charge: 27.47</br>total_eve_minutes: 195.5</br>total_eve_charge: 16.62</br>total_night_minutes: 254.4</br>total_night_charge: 11.45</br>total_intl_charge: 3.7</br>_original_yhat_: 0.1336892694234848</br>"
          ],
          [
           "</br>id: 1</br>prediction: 0.001</br>total_intl_minutes: 2.2</br></br>total_day_minutes: 161.6</br>total_day_charge: 27.47</br>total_eve_minutes: 195.5</br>total_eve_charge: 16.62</br>total_night_minutes: 254.4</br>total_night_charge: 11.45</br>total_intl_charge: 3.7</br>_original_yhat_: 0.1336892694234848</br>"
          ],
          [
           "</br>id: 1</br>prediction: 0.001</br>total_intl_minutes: 2.4000000000000004</br></br>total_day_minutes: 161.6</br>total_day_charge: 27.47</br>total_eve_minutes: 195.5</br>total_eve_charge: 16.62</br>total_night_minutes: 254.4</br>total_night_charge: 11.45</br>total_intl_charge: 3.7</br>_original_yhat_: 0.1336892694234848</br>"
          ],
          [
           "</br>id: 1</br>prediction: 0.001</br>total_intl_minutes: 2.6</br></br>total_day_minutes: 161.6</br>total_day_charge: 27.47</br>total_eve_minutes: 195.5</br>total_eve_charge: 16.62</br>total_night_minutes: 254.4</br>total_night_charge: 11.45</br>total_intl_charge: 3.7</br>_original_yhat_: 0.1336892694234848</br>"
          ],
          [
           "</br>id: 1</br>prediction: 0.001</br>total_intl_minutes: 2.8000000000000003</br></br>total_day_minutes: 161.6</br>total_day_charge: 27.47</br>total_eve_minutes: 195.5</br>total_eve_charge: 16.62</br>total_night_minutes: 254.4</br>total_night_charge: 11.45</br>total_intl_charge: 3.7</br>_original_yhat_: 0.1336892694234848</br>"
          ],
          [
           "</br>id: 1</br>prediction: 0.001</br>total_intl_minutes: 3.0</br></br>total_day_minutes: 161.6</br>total_day_charge: 27.47</br>total_eve_minutes: 195.5</br>total_eve_charge: 16.62</br>total_night_minutes: 254.4</br>total_night_charge: 11.45</br>total_intl_charge: 3.7</br>_original_yhat_: 0.1336892694234848</br>"
          ],
          [
           "</br>id: 1</br>prediction: 0.001</br>total_intl_minutes: 3.2</br></br>total_day_minutes: 161.6</br>total_day_charge: 27.47</br>total_eve_minutes: 195.5</br>total_eve_charge: 16.62</br>total_night_minutes: 254.4</br>total_night_charge: 11.45</br>total_intl_charge: 3.7</br>_original_yhat_: 0.1336892694234848</br>"
          ],
          [
           "</br>id: 1</br>prediction: 0.001</br>total_intl_minutes: 3.4000000000000004</br></br>total_day_minutes: 161.6</br>total_day_charge: 27.47</br>total_eve_minutes: 195.5</br>total_eve_charge: 16.62</br>total_night_minutes: 254.4</br>total_night_charge: 11.45</br>total_intl_charge: 3.7</br>_original_yhat_: 0.1336892694234848</br>"
          ],
          [
           "</br>id: 1</br>prediction: 0.001</br>total_intl_minutes: 3.6</br></br>total_day_minutes: 161.6</br>total_day_charge: 27.47</br>total_eve_minutes: 195.5</br>total_eve_charge: 16.62</br>total_night_minutes: 254.4</br>total_night_charge: 11.45</br>total_intl_charge: 3.7</br>_original_yhat_: 0.1336892694234848</br>"
          ],
          [
           "</br>id: 1</br>prediction: 0.001</br>total_intl_minutes: 3.8000000000000003</br></br>total_day_minutes: 161.6</br>total_day_charge: 27.47</br>total_eve_minutes: 195.5</br>total_eve_charge: 16.62</br>total_night_minutes: 254.4</br>total_night_charge: 11.45</br>total_intl_charge: 3.7</br>_original_yhat_: 0.1336892694234848</br>"
          ],
          [
           "</br>id: 1</br>prediction: 0.009</br>total_intl_minutes: 4.0</br></br>total_day_minutes: 161.6</br>total_day_charge: 27.47</br>total_eve_minutes: 195.5</br>total_eve_charge: 16.62</br>total_night_minutes: 254.4</br>total_night_charge: 11.45</br>total_intl_charge: 3.7</br>_original_yhat_: 0.1336892694234848</br>"
          ],
          [
           "</br>id: 1</br>prediction: 0.025</br>total_intl_minutes: 4.2</br></br>total_day_minutes: 161.6</br>total_day_charge: 27.47</br>total_eve_minutes: 195.5</br>total_eve_charge: 16.62</br>total_night_minutes: 254.4</br>total_night_charge: 11.45</br>total_intl_charge: 3.7</br>_original_yhat_: 0.1336892694234848</br>"
          ],
          [
           "</br>id: 1</br>prediction: 0.012</br>total_intl_minutes: 4.4</br></br>total_day_minutes: 161.6</br>total_day_charge: 27.47</br>total_eve_minutes: 195.5</br>total_eve_charge: 16.62</br>total_night_minutes: 254.4</br>total_night_charge: 11.45</br>total_intl_charge: 3.7</br>_original_yhat_: 0.1336892694234848</br>"
          ],
          [
           "</br>id: 1</br>prediction: 0.008</br>total_intl_minutes: 4.6000000000000005</br></br>total_day_minutes: 161.6</br>total_day_charge: 27.47</br>total_eve_minutes: 195.5</br>total_eve_charge: 16.62</br>total_night_minutes: 254.4</br>total_night_charge: 11.45</br>total_intl_charge: 3.7</br>_original_yhat_: 0.1336892694234848</br>"
          ],
          [
           "</br>id: 1</br>prediction: 0.008</br>total_intl_minutes: 4.800000000000001</br></br>total_day_minutes: 161.6</br>total_day_charge: 27.47</br>total_eve_minutes: 195.5</br>total_eve_charge: 16.62</br>total_night_minutes: 254.4</br>total_night_charge: 11.45</br>total_intl_charge: 3.7</br>_original_yhat_: 0.1336892694234848</br>"
          ],
          [
           "</br>id: 1</br>prediction: 0.008</br>total_intl_minutes: 5.0</br></br>total_day_minutes: 161.6</br>total_day_charge: 27.47</br>total_eve_minutes: 195.5</br>total_eve_charge: 16.62</br>total_night_minutes: 254.4</br>total_night_charge: 11.45</br>total_intl_charge: 3.7</br>_original_yhat_: 0.1336892694234848</br>"
          ],
          [
           "</br>id: 1</br>prediction: 0.008</br>total_intl_minutes: 5.2</br></br>total_day_minutes: 161.6</br>total_day_charge: 27.47</br>total_eve_minutes: 195.5</br>total_eve_charge: 16.62</br>total_night_minutes: 254.4</br>total_night_charge: 11.45</br>total_intl_charge: 3.7</br>_original_yhat_: 0.1336892694234848</br>"
          ],
          [
           "</br>id: 1</br>prediction: 0.016</br>total_intl_minutes: 5.4</br></br>total_day_minutes: 161.6</br>total_day_charge: 27.47</br>total_eve_minutes: 195.5</br>total_eve_charge: 16.62</br>total_night_minutes: 254.4</br>total_night_charge: 11.45</br>total_intl_charge: 3.7</br>_original_yhat_: 0.1336892694234848</br>"
          ],
          [
           "</br>id: 1</br>prediction: 0.026</br>total_intl_minutes: 5.6000000000000005</br></br>total_day_minutes: 161.6</br>total_day_charge: 27.47</br>total_eve_minutes: 195.5</br>total_eve_charge: 16.62</br>total_night_minutes: 254.4</br>total_night_charge: 11.45</br>total_intl_charge: 3.7</br>_original_yhat_: 0.1336892694234848</br>"
          ],
          [
           "</br>id: 1</br>prediction: 0.033</br>total_intl_minutes: 5.800000000000001</br></br>total_day_minutes: 161.6</br>total_day_charge: 27.47</br>total_eve_minutes: 195.5</br>total_eve_charge: 16.62</br>total_night_minutes: 254.4</br>total_night_charge: 11.45</br>total_intl_charge: 3.7</br>_original_yhat_: 0.1336892694234848</br>"
          ],
          [
           "</br>id: 1</br>prediction: 0.033</br>total_intl_minutes: 6.0</br></br>total_day_minutes: 161.6</br>total_day_charge: 27.47</br>total_eve_minutes: 195.5</br>total_eve_charge: 16.62</br>total_night_minutes: 254.4</br>total_night_charge: 11.45</br>total_intl_charge: 3.7</br>_original_yhat_: 0.1336892694234848</br>"
          ],
          [
           "</br>id: 1</br>prediction: 0.04</br>total_intl_minutes: 6.2</br></br>total_day_minutes: 161.6</br>total_day_charge: 27.47</br>total_eve_minutes: 195.5</br>total_eve_charge: 16.62</br>total_night_minutes: 254.4</br>total_night_charge: 11.45</br>total_intl_charge: 3.7</br>_original_yhat_: 0.1336892694234848</br>"
          ],
          [
           "</br>id: 1</br>prediction: 0.042</br>total_intl_minutes: 6.4</br></br>total_day_minutes: 161.6</br>total_day_charge: 27.47</br>total_eve_minutes: 195.5</br>total_eve_charge: 16.62</br>total_night_minutes: 254.4</br>total_night_charge: 11.45</br>total_intl_charge: 3.7</br>_original_yhat_: 0.1336892694234848</br>"
          ],
          [
           "</br>id: 1</br>prediction: 0.035</br>total_intl_minutes: 6.6000000000000005</br></br>total_day_minutes: 161.6</br>total_day_charge: 27.47</br>total_eve_minutes: 195.5</br>total_eve_charge: 16.62</br>total_night_minutes: 254.4</br>total_night_charge: 11.45</br>total_intl_charge: 3.7</br>_original_yhat_: 0.1336892694234848</br>"
          ],
          [
           "</br>id: 1</br>prediction: 0.035</br>total_intl_minutes: 6.800000000000001</br></br>total_day_minutes: 161.6</br>total_day_charge: 27.47</br>total_eve_minutes: 195.5</br>total_eve_charge: 16.62</br>total_night_minutes: 254.4</br>total_night_charge: 11.45</br>total_intl_charge: 3.7</br>_original_yhat_: 0.1336892694234848</br>"
          ],
          [
           "</br>id: 1</br>prediction: 0.035</br>total_intl_minutes: 7.0</br></br>total_day_minutes: 161.6</br>total_day_charge: 27.47</br>total_eve_minutes: 195.5</br>total_eve_charge: 16.62</br>total_night_minutes: 254.4</br>total_night_charge: 11.45</br>total_intl_charge: 3.7</br>_original_yhat_: 0.1336892694234848</br>"
          ],
          [
           "</br>id: 1</br>prediction: 0.035</br>total_intl_minutes: 7.2</br></br>total_day_minutes: 161.6</br>total_day_charge: 27.47</br>total_eve_minutes: 195.5</br>total_eve_charge: 16.62</br>total_night_minutes: 254.4</br>total_night_charge: 11.45</br>total_intl_charge: 3.7</br>_original_yhat_: 0.1336892694234848</br>"
          ],
          [
           "</br>id: 1</br>prediction: 0.031</br>total_intl_minutes: 7.4</br></br>total_day_minutes: 161.6</br>total_day_charge: 27.47</br>total_eve_minutes: 195.5</br>total_eve_charge: 16.62</br>total_night_minutes: 254.4</br>total_night_charge: 11.45</br>total_intl_charge: 3.7</br>_original_yhat_: 0.1336892694234848</br>"
          ],
          [
           "</br>id: 1</br>prediction: 0.031</br>total_intl_minutes: 7.6000000000000005</br></br>total_day_minutes: 161.6</br>total_day_charge: 27.47</br>total_eve_minutes: 195.5</br>total_eve_charge: 16.62</br>total_night_minutes: 254.4</br>total_night_charge: 11.45</br>total_intl_charge: 3.7</br>_original_yhat_: 0.1336892694234848</br>"
          ],
          [
           "</br>id: 1</br>prediction: 0.031</br>total_intl_minutes: 7.800000000000001</br></br>total_day_minutes: 161.6</br>total_day_charge: 27.47</br>total_eve_minutes: 195.5</br>total_eve_charge: 16.62</br>total_night_minutes: 254.4</br>total_night_charge: 11.45</br>total_intl_charge: 3.7</br>_original_yhat_: 0.1336892694234848</br>"
          ],
          [
           "</br>id: 1</br>prediction: 0.035</br>total_intl_minutes: 8.0</br></br>total_day_minutes: 161.6</br>total_day_charge: 27.47</br>total_eve_minutes: 195.5</br>total_eve_charge: 16.62</br>total_night_minutes: 254.4</br>total_night_charge: 11.45</br>total_intl_charge: 3.7</br>_original_yhat_: 0.1336892694234848</br>"
          ],
          [
           "</br>id: 1</br>prediction: 0.042</br>total_intl_minutes: 8.200000000000001</br></br>total_day_minutes: 161.6</br>total_day_charge: 27.47</br>total_eve_minutes: 195.5</br>total_eve_charge: 16.62</br>total_night_minutes: 254.4</br>total_night_charge: 11.45</br>total_intl_charge: 3.7</br>_original_yhat_: 0.1336892694234848</br>"
          ],
          [
           "</br>id: 1</br>prediction: 0.033</br>total_intl_minutes: 8.4</br></br>total_day_minutes: 161.6</br>total_day_charge: 27.47</br>total_eve_minutes: 195.5</br>total_eve_charge: 16.62</br>total_night_minutes: 254.4</br>total_night_charge: 11.45</br>total_intl_charge: 3.7</br>_original_yhat_: 0.1336892694234848</br>"
          ],
          [
           "</br>id: 1</br>prediction: 0.033</br>total_intl_minutes: 8.6</br></br>total_day_minutes: 161.6</br>total_day_charge: 27.47</br>total_eve_minutes: 195.5</br>total_eve_charge: 16.62</br>total_night_minutes: 254.4</br>total_night_charge: 11.45</br>total_intl_charge: 3.7</br>_original_yhat_: 0.1336892694234848</br>"
          ],
          [
           "</br>id: 1</br>prediction: 0.129</br>total_intl_minutes: 8.8</br></br>total_day_minutes: 161.6</br>total_day_charge: 27.47</br>total_eve_minutes: 195.5</br>total_eve_charge: 16.62</br>total_night_minutes: 254.4</br>total_night_charge: 11.45</br>total_intl_charge: 3.7</br>_original_yhat_: 0.1336892694234848</br>"
          ],
          [
           "</br>id: 1</br>prediction: 0.089</br>total_intl_minutes: 9.0</br></br>total_day_minutes: 161.6</br>total_day_charge: 27.47</br>total_eve_minutes: 195.5</br>total_eve_charge: 16.62</br>total_night_minutes: 254.4</br>total_night_charge: 11.45</br>total_intl_charge: 3.7</br>_original_yhat_: 0.1336892694234848</br>"
          ],
          [
           "</br>id: 1</br>prediction: 0.076</br>total_intl_minutes: 9.200000000000001</br></br>total_day_minutes: 161.6</br>total_day_charge: 27.47</br>total_eve_minutes: 195.5</br>total_eve_charge: 16.62</br>total_night_minutes: 254.4</br>total_night_charge: 11.45</br>total_intl_charge: 3.7</br>_original_yhat_: 0.1336892694234848</br>"
          ],
          [
           "</br>id: 1</br>prediction: 0.076</br>total_intl_minutes: 9.4</br></br>total_day_minutes: 161.6</br>total_day_charge: 27.47</br>total_eve_minutes: 195.5</br>total_eve_charge: 16.62</br>total_night_minutes: 254.4</br>total_night_charge: 11.45</br>total_intl_charge: 3.7</br>_original_yhat_: 0.1336892694234848</br>"
          ],
          [
           "</br>id: 1</br>prediction: 0.047</br>total_intl_minutes: 9.600000000000001</br></br>total_day_minutes: 161.6</br>total_day_charge: 27.47</br>total_eve_minutes: 195.5</br>total_eve_charge: 16.62</br>total_night_minutes: 254.4</br>total_night_charge: 11.45</br>total_intl_charge: 3.7</br>_original_yhat_: 0.1336892694234848</br>"
          ],
          [
           "</br>id: 1</br>prediction: 0.024</br>total_intl_minutes: 9.8</br></br>total_day_minutes: 161.6</br>total_day_charge: 27.47</br>total_eve_minutes: 195.5</br>total_eve_charge: 16.62</br>total_night_minutes: 254.4</br>total_night_charge: 11.45</br>total_intl_charge: 3.7</br>_original_yhat_: 0.1336892694234848</br>"
          ],
          [
           "</br>id: 1</br>prediction: 0.026</br>total_intl_minutes: 10.0</br></br>total_day_minutes: 161.6</br>total_day_charge: 27.47</br>total_eve_minutes: 195.5</br>total_eve_charge: 16.62</br>total_night_minutes: 254.4</br>total_night_charge: 11.45</br>total_intl_charge: 3.7</br>_original_yhat_: 0.1336892694234848</br>"
          ],
          [
           "</br>id: 1</br>prediction: 0.027</br>total_intl_minutes: 10.200000000000001</br></br>total_day_minutes: 161.6</br>total_day_charge: 27.47</br>total_eve_minutes: 195.5</br>total_eve_charge: 16.62</br>total_night_minutes: 254.4</br>total_night_charge: 11.45</br>total_intl_charge: 3.7</br>_original_yhat_: 0.1336892694234848</br>"
          ],
          [
           "</br>id: 1</br>prediction: 0.027</br>total_intl_minutes: 10.4</br></br>total_day_minutes: 161.6</br>total_day_charge: 27.47</br>total_eve_minutes: 195.5</br>total_eve_charge: 16.62</br>total_night_minutes: 254.4</br>total_night_charge: 11.45</br>total_intl_charge: 3.7</br>_original_yhat_: 0.1336892694234848</br>"
          ],
          [
           "</br>id: 1</br>prediction: 0.022</br>total_intl_minutes: 10.600000000000001</br></br>total_day_minutes: 161.6</br>total_day_charge: 27.47</br>total_eve_minutes: 195.5</br>total_eve_charge: 16.62</br>total_night_minutes: 254.4</br>total_night_charge: 11.45</br>total_intl_charge: 3.7</br>_original_yhat_: 0.1336892694234848</br>"
          ],
          [
           "</br>id: 1</br>prediction: 0.024</br>total_intl_minutes: 10.8</br></br>total_day_minutes: 161.6</br>total_day_charge: 27.47</br>total_eve_minutes: 195.5</br>total_eve_charge: 16.62</br>total_night_minutes: 254.4</br>total_night_charge: 11.45</br>total_intl_charge: 3.7</br>_original_yhat_: 0.1336892694234848</br>"
          ],
          [
           "</br>id: 1</br>prediction: 0.045</br>total_intl_minutes: 11.0</br></br>total_day_minutes: 161.6</br>total_day_charge: 27.47</br>total_eve_minutes: 195.5</br>total_eve_charge: 16.62</br>total_night_minutes: 254.4</br>total_night_charge: 11.45</br>total_intl_charge: 3.7</br>_original_yhat_: 0.1336892694234848</br>"
          ],
          [
           "</br>id: 1</br>prediction: 0.033</br>total_intl_minutes: 11.200000000000001</br></br>total_day_minutes: 161.6</br>total_day_charge: 27.47</br>total_eve_minutes: 195.5</br>total_eve_charge: 16.62</br>total_night_minutes: 254.4</br>total_night_charge: 11.45</br>total_intl_charge: 3.7</br>_original_yhat_: 0.1336892694234848</br>"
          ],
          [
           "</br>id: 1</br>prediction: 0.026</br>total_intl_minutes: 11.4</br></br>total_day_minutes: 161.6</br>total_day_charge: 27.47</br>total_eve_minutes: 195.5</br>total_eve_charge: 16.62</br>total_night_minutes: 254.4</br>total_night_charge: 11.45</br>total_intl_charge: 3.7</br>_original_yhat_: 0.1336892694234848</br>"
          ],
          [
           "</br>id: 1</br>prediction: 0.019</br>total_intl_minutes: 11.600000000000001</br></br>total_day_minutes: 161.6</br>total_day_charge: 27.47</br>total_eve_minutes: 195.5</br>total_eve_charge: 16.62</br>total_night_minutes: 254.4</br>total_night_charge: 11.45</br>total_intl_charge: 3.7</br>_original_yhat_: 0.1336892694234848</br>"
          ],
          [
           "</br>id: 1</br>prediction: 0.015</br>total_intl_minutes: 11.8</br></br>total_day_minutes: 161.6</br>total_day_charge: 27.47</br>total_eve_minutes: 195.5</br>total_eve_charge: 16.62</br>total_night_minutes: 254.4</br>total_night_charge: 11.45</br>total_intl_charge: 3.7</br>_original_yhat_: 0.1336892694234848</br>"
          ],
          [
           "</br>id: 1</br>prediction: 0.02</br>total_intl_minutes: 12.0</br></br>total_day_minutes: 161.6</br>total_day_charge: 27.47</br>total_eve_minutes: 195.5</br>total_eve_charge: 16.62</br>total_night_minutes: 254.4</br>total_night_charge: 11.45</br>total_intl_charge: 3.7</br>_original_yhat_: 0.1336892694234848</br>"
          ],
          [
           "</br>id: 1</br>prediction: 0.02</br>total_intl_minutes: 12.200000000000001</br></br>total_day_minutes: 161.6</br>total_day_charge: 27.47</br>total_eve_minutes: 195.5</br>total_eve_charge: 16.62</br>total_night_minutes: 254.4</br>total_night_charge: 11.45</br>total_intl_charge: 3.7</br>_original_yhat_: 0.1336892694234848</br>"
          ],
          [
           "</br>id: 1</br>prediction: 0.026</br>total_intl_minutes: 12.4</br></br>total_day_minutes: 161.6</br>total_day_charge: 27.47</br>total_eve_minutes: 195.5</br>total_eve_charge: 16.62</br>total_night_minutes: 254.4</br>total_night_charge: 11.45</br>total_intl_charge: 3.7</br>_original_yhat_: 0.1336892694234848</br>"
          ],
          [
           "</br>id: 1</br>prediction: 0.015</br>total_intl_minutes: 12.600000000000001</br></br>total_day_minutes: 161.6</br>total_day_charge: 27.47</br>total_eve_minutes: 195.5</br>total_eve_charge: 16.62</br>total_night_minutes: 254.4</br>total_night_charge: 11.45</br>total_intl_charge: 3.7</br>_original_yhat_: 0.1336892694234848</br>"
          ],
          [
           "</br>id: 1</br>prediction: 0.015</br>total_intl_minutes: 12.8</br></br>total_day_minutes: 161.6</br>total_day_charge: 27.47</br>total_eve_minutes: 195.5</br>total_eve_charge: 16.62</br>total_night_minutes: 254.4</br>total_night_charge: 11.45</br>total_intl_charge: 3.7</br>_original_yhat_: 0.1336892694234848</br>"
          ],
          [
           "</br>id: 1</br>prediction: 0.011</br>total_intl_minutes: 13.0</br></br>total_day_minutes: 161.6</br>total_day_charge: 27.47</br>total_eve_minutes: 195.5</br>total_eve_charge: 16.62</br>total_night_minutes: 254.4</br>total_night_charge: 11.45</br>total_intl_charge: 3.7</br>_original_yhat_: 0.1336892694234848</br>"
          ],
          [
           "</br>id: 1</br>prediction: 0.033</br>total_intl_minutes: 13.200000000000001</br></br>total_day_minutes: 161.6</br>total_day_charge: 27.47</br>total_eve_minutes: 195.5</br>total_eve_charge: 16.62</br>total_night_minutes: 254.4</br>total_night_charge: 11.45</br>total_intl_charge: 3.7</br>_original_yhat_: 0.1336892694234848</br>"
          ],
          [
           "</br>id: 1</br>prediction: 0.052</br>total_intl_minutes: 13.4</br></br>total_day_minutes: 161.6</br>total_day_charge: 27.47</br>total_eve_minutes: 195.5</br>total_eve_charge: 16.62</br>total_night_minutes: 254.4</br>total_night_charge: 11.45</br>total_intl_charge: 3.7</br>_original_yhat_: 0.1336892694234848</br>"
          ],
          [
           "</br>id: 1</br>prediction: 0.148</br>total_intl_minutes: 13.600000000000001</br></br>total_day_minutes: 161.6</br>total_day_charge: 27.47</br>total_eve_minutes: 195.5</br>total_eve_charge: 16.62</br>total_night_minutes: 254.4</br>total_night_charge: 11.45</br>total_intl_charge: 3.7</br>_original_yhat_: 0.1336892694234848</br>"
          ],
          [
           "</br>id: 1</br>prediction: 0.134</br>total_intl_minutes: 13.7</br></br>total_day_minutes: 161.6</br>total_day_charge: 27.47</br>total_eve_minutes: 195.5</br>total_eve_charge: 16.62</br>total_night_minutes: 254.4</br>total_night_charge: 11.45</br>total_intl_charge: 3.7</br>_original_yhat_: 0.1336892694234848</br>"
          ],
          [
           "</br>id: 1</br>prediction: 0.207</br>total_intl_minutes: 13.8</br></br>total_day_minutes: 161.6</br>total_day_charge: 27.47</br>total_eve_minutes: 195.5</br>total_eve_charge: 16.62</br>total_night_minutes: 254.4</br>total_night_charge: 11.45</br>total_intl_charge: 3.7</br>_original_yhat_: 0.1336892694234848</br>"
          ],
          [
           "</br>id: 1</br>prediction: 0.141</br>total_intl_minutes: 14.0</br></br>total_day_minutes: 161.6</br>total_day_charge: 27.47</br>total_eve_minutes: 195.5</br>total_eve_charge: 16.62</br>total_night_minutes: 254.4</br>total_night_charge: 11.45</br>total_intl_charge: 3.7</br>_original_yhat_: 0.1336892694234848</br>"
          ],
          [
           "</br>id: 1</br>prediction: 0.116</br>total_intl_minutes: 14.200000000000001</br></br>total_day_minutes: 161.6</br>total_day_charge: 27.47</br>total_eve_minutes: 195.5</br>total_eve_charge: 16.62</br>total_night_minutes: 254.4</br>total_night_charge: 11.45</br>total_intl_charge: 3.7</br>_original_yhat_: 0.1336892694234848</br>"
          ],
          [
           "</br>id: 1</br>prediction: 0.119</br>total_intl_minutes: 14.4</br></br>total_day_minutes: 161.6</br>total_day_charge: 27.47</br>total_eve_minutes: 195.5</br>total_eve_charge: 16.62</br>total_night_minutes: 254.4</br>total_night_charge: 11.45</br>total_intl_charge: 3.7</br>_original_yhat_: 0.1336892694234848</br>"
          ],
          [
           "</br>id: 1</br>prediction: 0.073</br>total_intl_minutes: 14.600000000000001</br></br>total_day_minutes: 161.6</br>total_day_charge: 27.47</br>total_eve_minutes: 195.5</br>total_eve_charge: 16.62</br>total_night_minutes: 254.4</br>total_night_charge: 11.45</br>total_intl_charge: 3.7</br>_original_yhat_: 0.1336892694234848</br>"
          ],
          [
           "</br>id: 1</br>prediction: 0.113</br>total_intl_minutes: 14.8</br></br>total_day_minutes: 161.6</br>total_day_charge: 27.47</br>total_eve_minutes: 195.5</br>total_eve_charge: 16.62</br>total_night_minutes: 254.4</br>total_night_charge: 11.45</br>total_intl_charge: 3.7</br>_original_yhat_: 0.1336892694234848</br>"
          ],
          [
           "</br>id: 1</br>prediction: 0.059</br>total_intl_minutes: 15.0</br></br>total_day_minutes: 161.6</br>total_day_charge: 27.47</br>total_eve_minutes: 195.5</br>total_eve_charge: 16.62</br>total_night_minutes: 254.4</br>total_night_charge: 11.45</br>total_intl_charge: 3.7</br>_original_yhat_: 0.1336892694234848</br>"
          ],
          [
           "</br>id: 1</br>prediction: 0.059</br>total_intl_minutes: 15.200000000000001</br></br>total_day_minutes: 161.6</br>total_day_charge: 27.47</br>total_eve_minutes: 195.5</br>total_eve_charge: 16.62</br>total_night_minutes: 254.4</br>total_night_charge: 11.45</br>total_intl_charge: 3.7</br>_original_yhat_: 0.1336892694234848</br>"
          ],
          [
           "</br>id: 1</br>prediction: 0.116</br>total_intl_minutes: 15.4</br></br>total_day_minutes: 161.6</br>total_day_charge: 27.47</br>total_eve_minutes: 195.5</br>total_eve_charge: 16.62</br>total_night_minutes: 254.4</br>total_night_charge: 11.45</br>total_intl_charge: 3.7</br>_original_yhat_: 0.1336892694234848</br>"
          ],
          [
           "</br>id: 1</br>prediction: 0.098</br>total_intl_minutes: 15.600000000000001</br></br>total_day_minutes: 161.6</br>total_day_charge: 27.47</br>total_eve_minutes: 195.5</br>total_eve_charge: 16.62</br>total_night_minutes: 254.4</br>total_night_charge: 11.45</br>total_intl_charge: 3.7</br>_original_yhat_: 0.1336892694234848</br>"
          ],
          [
           "</br>id: 1</br>prediction: 0.064</br>total_intl_minutes: 15.8</br></br>total_day_minutes: 161.6</br>total_day_charge: 27.47</br>total_eve_minutes: 195.5</br>total_eve_charge: 16.62</br>total_night_minutes: 254.4</br>total_night_charge: 11.45</br>total_intl_charge: 3.7</br>_original_yhat_: 0.1336892694234848</br>"
          ],
          [
           "</br>id: 1</br>prediction: 0.016</br>total_intl_minutes: 16.0</br></br>total_day_minutes: 161.6</br>total_day_charge: 27.47</br>total_eve_minutes: 195.5</br>total_eve_charge: 16.62</br>total_night_minutes: 254.4</br>total_night_charge: 11.45</br>total_intl_charge: 3.7</br>_original_yhat_: 0.1336892694234848</br>"
          ],
          [
           "</br>id: 1</br>prediction: 0.016</br>total_intl_minutes: 16.2</br></br>total_day_minutes: 161.6</br>total_day_charge: 27.47</br>total_eve_minutes: 195.5</br>total_eve_charge: 16.62</br>total_night_minutes: 254.4</br>total_night_charge: 11.45</br>total_intl_charge: 3.7</br>_original_yhat_: 0.1336892694234848</br>"
          ],
          [
           "</br>id: 1</br>prediction: 0.01</br>total_intl_minutes: 16.400000000000002</br></br>total_day_minutes: 161.6</br>total_day_charge: 27.47</br>total_eve_minutes: 195.5</br>total_eve_charge: 16.62</br>total_night_minutes: 254.4</br>total_night_charge: 11.45</br>total_intl_charge: 3.7</br>_original_yhat_: 0.1336892694234848</br>"
          ],
          [
           "</br>id: 1</br>prediction: 0.089</br>total_intl_minutes: 16.6</br></br>total_day_minutes: 161.6</br>total_day_charge: 27.47</br>total_eve_minutes: 195.5</br>total_eve_charge: 16.62</br>total_night_minutes: 254.4</br>total_night_charge: 11.45</br>total_intl_charge: 3.7</br>_original_yhat_: 0.1336892694234848</br>"
          ],
          [
           "</br>id: 1</br>prediction: 0.089</br>total_intl_minutes: 16.8</br></br>total_day_minutes: 161.6</br>total_day_charge: 27.47</br>total_eve_minutes: 195.5</br>total_eve_charge: 16.62</br>total_night_minutes: 254.4</br>total_night_charge: 11.45</br>total_intl_charge: 3.7</br>_original_yhat_: 0.1336892694234848</br>"
          ],
          [
           "</br>id: 1</br>prediction: 0.089</br>total_intl_minutes: 17.0</br></br>total_day_minutes: 161.6</br>total_day_charge: 27.47</br>total_eve_minutes: 195.5</br>total_eve_charge: 16.62</br>total_night_minutes: 254.4</br>total_night_charge: 11.45</br>total_intl_charge: 3.7</br>_original_yhat_: 0.1336892694234848</br>"
          ],
          [
           "</br>id: 1</br>prediction: 0.072</br>total_intl_minutes: 17.2</br></br>total_day_minutes: 161.6</br>total_day_charge: 27.47</br>total_eve_minutes: 195.5</br>total_eve_charge: 16.62</br>total_night_minutes: 254.4</br>total_night_charge: 11.45</br>total_intl_charge: 3.7</br>_original_yhat_: 0.1336892694234848</br>"
          ],
          [
           "</br>id: 1</br>prediction: 0.072</br>total_intl_minutes: 17.400000000000002</br></br>total_day_minutes: 161.6</br>total_day_charge: 27.47</br>total_eve_minutes: 195.5</br>total_eve_charge: 16.62</br>total_night_minutes: 254.4</br>total_night_charge: 11.45</br>total_intl_charge: 3.7</br>_original_yhat_: 0.1336892694234848</br>"
          ],
          [
           "</br>id: 1</br>prediction: 0.06</br>total_intl_minutes: 17.6</br></br>total_day_minutes: 161.6</br>total_day_charge: 27.47</br>total_eve_minutes: 195.5</br>total_eve_charge: 16.62</br>total_night_minutes: 254.4</br>total_night_charge: 11.45</br>total_intl_charge: 3.7</br>_original_yhat_: 0.1336892694234848</br>"
          ],
          [
           "</br>id: 1</br>prediction: 0.06</br>total_intl_minutes: 17.8</br></br>total_day_minutes: 161.6</br>total_day_charge: 27.47</br>total_eve_minutes: 195.5</br>total_eve_charge: 16.62</br>total_night_minutes: 254.4</br>total_night_charge: 11.45</br>total_intl_charge: 3.7</br>_original_yhat_: 0.1336892694234848</br>"
          ],
          [
           "</br>id: 1</br>prediction: 0.06</br>total_intl_minutes: 18.0</br></br>total_day_minutes: 161.6</br>total_day_charge: 27.47</br>total_eve_minutes: 195.5</br>total_eve_charge: 16.62</br>total_night_minutes: 254.4</br>total_night_charge: 11.45</br>total_intl_charge: 3.7</br>_original_yhat_: 0.1336892694234848</br>"
          ],
          [
           "</br>id: 1</br>prediction: 0.06</br>total_intl_minutes: 18.2</br></br>total_day_minutes: 161.6</br>total_day_charge: 27.47</br>total_eve_minutes: 195.5</br>total_eve_charge: 16.62</br>total_night_minutes: 254.4</br>total_night_charge: 11.45</br>total_intl_charge: 3.7</br>_original_yhat_: 0.1336892694234848</br>"
          ],
          [
           "</br>id: 1</br>prediction: 0.076</br>total_intl_minutes: 18.400000000000002</br></br>total_day_minutes: 161.6</br>total_day_charge: 27.47</br>total_eve_minutes: 195.5</br>total_eve_charge: 16.62</br>total_night_minutes: 254.4</br>total_night_charge: 11.45</br>total_intl_charge: 3.7</br>_original_yhat_: 0.1336892694234848</br>"
          ],
          [
           "</br>id: 1</br>prediction: 0.076</br>total_intl_minutes: 18.6</br></br>total_day_minutes: 161.6</br>total_day_charge: 27.47</br>total_eve_minutes: 195.5</br>total_eve_charge: 16.62</br>total_night_minutes: 254.4</br>total_night_charge: 11.45</br>total_intl_charge: 3.7</br>_original_yhat_: 0.1336892694234848</br>"
          ],
          [
           "</br>id: 1</br>prediction: 0.076</br>total_intl_minutes: 18.8</br></br>total_day_minutes: 161.6</br>total_day_charge: 27.47</br>total_eve_minutes: 195.5</br>total_eve_charge: 16.62</br>total_night_minutes: 254.4</br>total_night_charge: 11.45</br>total_intl_charge: 3.7</br>_original_yhat_: 0.1336892694234848</br>"
          ],
          [
           "</br>id: 1</br>prediction: 0.076</br>total_intl_minutes: 19.0</br></br>total_day_minutes: 161.6</br>total_day_charge: 27.47</br>total_eve_minutes: 195.5</br>total_eve_charge: 16.62</br>total_night_minutes: 254.4</br>total_night_charge: 11.45</br>total_intl_charge: 3.7</br>_original_yhat_: 0.1336892694234848</br>"
          ],
          [
           "</br>id: 1</br>prediction: 0.076</br>total_intl_minutes: 19.200000000000003</br></br>total_day_minutes: 161.6</br>total_day_charge: 27.47</br>total_eve_minutes: 195.5</br>total_eve_charge: 16.62</br>total_night_minutes: 254.4</br>total_night_charge: 11.45</br>total_intl_charge: 3.7</br>_original_yhat_: 0.1336892694234848</br>"
          ],
          [
           "</br>id: 1</br>prediction: 0.076</br>total_intl_minutes: 19.400000000000002</br></br>total_day_minutes: 161.6</br>total_day_charge: 27.47</br>total_eve_minutes: 195.5</br>total_eve_charge: 16.62</br>total_night_minutes: 254.4</br>total_night_charge: 11.45</br>total_intl_charge: 3.7</br>_original_yhat_: 0.1336892694234848</br>"
          ],
          [
           "</br>id: 1</br>prediction: 0.076</br>total_intl_minutes: 19.6</br></br>total_day_minutes: 161.6</br>total_day_charge: 27.47</br>total_eve_minutes: 195.5</br>total_eve_charge: 16.62</br>total_night_minutes: 254.4</br>total_night_charge: 11.45</br>total_intl_charge: 3.7</br>_original_yhat_: 0.1336892694234848</br>"
          ],
          [
           "</br>id: 1</br>prediction: 0.076</br>total_intl_minutes: 19.8</br></br>total_day_minutes: 161.6</br>total_day_charge: 27.47</br>total_eve_minutes: 195.5</br>total_eve_charge: 16.62</br>total_night_minutes: 254.4</br>total_night_charge: 11.45</br>total_intl_charge: 3.7</br>_original_yhat_: 0.1336892694234848</br>"
          ],
          [
           "</br>id: 1</br>prediction: 0.076</br>total_intl_minutes: 20.0</br></br>total_day_minutes: 161.6</br>total_day_charge: 27.47</br>total_eve_minutes: 195.5</br>total_eve_charge: 16.62</br>total_night_minutes: 254.4</br>total_night_charge: 11.45</br>total_intl_charge: 3.7</br>_original_yhat_: 0.1336892694234848</br>"
          ]
         ],
         "hovertemplate": "%{customdata[0]}<extra></extra>",
         "legendgroup": "XGBClassifier",
         "line": {
          "color": "#46bac2",
          "dash": "solid",
          "width": 2
         },
         "marker": {
          "symbol": "circle"
         },
         "mode": "lines",
         "name": "XGBClassifier",
         "opacity": 1,
         "orientation": "v",
         "showlegend": true,
         "type": "scatter",
         "x": [
          0,
          0.2,
          0.4,
          0.6000000000000001,
          0.8,
          1,
          1.2000000000000002,
          1.4000000000000001,
          1.6,
          1.8,
          2,
          2.2,
          2.4000000000000004,
          2.6,
          2.8000000000000003,
          3,
          3.2,
          3.4000000000000004,
          3.6,
          3.8000000000000003,
          4,
          4.2,
          4.4,
          4.6000000000000005,
          4.800000000000001,
          5,
          5.2,
          5.4,
          5.6000000000000005,
          5.800000000000001,
          6,
          6.2,
          6.4,
          6.6000000000000005,
          6.800000000000001,
          7,
          7.2,
          7.4,
          7.6000000000000005,
          7.800000000000001,
          8,
          8.200000000000001,
          8.4,
          8.6,
          8.8,
          9,
          9.200000000000001,
          9.4,
          9.600000000000001,
          9.8,
          10,
          10.200000000000001,
          10.4,
          10.600000000000001,
          10.8,
          11,
          11.200000000000001,
          11.4,
          11.600000000000001,
          11.8,
          12,
          12.200000000000001,
          12.4,
          12.600000000000001,
          12.8,
          13,
          13.200000000000001,
          13.4,
          13.600000000000001,
          13.7,
          13.8,
          14,
          14.200000000000001,
          14.4,
          14.600000000000001,
          14.8,
          15,
          15.200000000000001,
          15.4,
          15.600000000000001,
          15.8,
          16,
          16.2,
          16.400000000000002,
          16.6,
          16.8,
          17,
          17.2,
          17.400000000000002,
          17.6,
          17.8,
          18,
          18.2,
          18.400000000000002,
          18.6,
          18.8,
          19,
          19.200000000000003,
          19.400000000000002,
          19.6,
          19.8,
          20
         ],
         "xaxis": "x",
         "y": [
          0.0009913599351420999,
          0.0009913599351420999,
          0.0009913599351420999,
          0.0009913599351420999,
          0.0009913599351420999,
          0.0009913599351420999,
          0.0009913599351420999,
          0.0009913599351420999,
          0.0009913599351420999,
          0.0009913599351420999,
          0.0009913599351420999,
          0.0009913599351420999,
          0.0009913599351420999,
          0.0009913599351420999,
          0.0009913599351420999,
          0.0009913599351420999,
          0.0009913599351420999,
          0.0009913599351420999,
          0.0009913599351420999,
          0.0009913599351420999,
          0.009204311296343803,
          0.024874486029148102,
          0.011872806586325169,
          0.0075610363855957985,
          0.0075610363855957985,
          0.0075610363855957985,
          0.0075610363855957985,
          0.01623012125492096,
          0.025593262165784836,
          0.032867029309272766,
          0.032867029309272766,
          0.03983999788761139,
          0.041868094354867935,
          0.03490636497735977,
          0.03490636497735977,
          0.03490636497735977,
          0.03490636497735977,
          0.030752958729863167,
          0.030752958729863167,
          0.030752958729863167,
          0.03487684205174446,
          0.04197210073471069,
          0.03312893956899643,
          0.03312893956899643,
          0.12897004187107086,
          0.0889848843216896,
          0.07592477649450302,
          0.07592477649450302,
          0.046633344143629074,
          0.023560654371976852,
          0.02603520266711712,
          0.02719729393720627,
          0.02719729393720627,
          0.022391706705093384,
          0.023884866386651993,
          0.04450168460607529,
          0.032772209495306015,
          0.02649175189435482,
          0.018796637654304504,
          0.014761969447135925,
          0.02016068622469902,
          0.02016068622469902,
          0.02636587806046009,
          0.015182117000222206,
          0.015182117000222206,
          0.011025039479136467,
          0.033099573105573654,
          0.05229787901043892,
          0.1475619524717331,
          0.1336892694234848,
          0.20686864852905273,
          0.14068862795829773,
          0.11635002493858337,
          0.11913745105266571,
          0.07286053150892258,
          0.11330455541610718,
          0.059004589915275574,
          0.059004589915275574,
          0.1155088022351265,
          0.09759533405303955,
          0.06428434699773788,
          0.016363797709345818,
          0.016363797709345818,
          0.009939308278262615,
          0.08852168172597885,
          0.08852168172597885,
          0.08852168172597885,
          0.07219792157411575,
          0.07219792157411575,
          0.059777192771434784,
          0.059777192771434784,
          0.059777192771434784,
          0.059777192771434784,
          0.0757843554019928,
          0.0757843554019928,
          0.0757843554019928,
          0.0757843554019928,
          0.0757843554019928,
          0.0757843554019928,
          0.0757843554019928,
          0.0757843554019928,
          0.0757843554019928
         ],
         "yaxis": "y"
        },
        {
         "customdata": [
          [
           "</br>id: 1</br>prediction: 0.717</br>total_night_charge: 0.0</br></br>total_day_minutes: 161.6</br>total_day_charge: 27.47</br>total_eve_minutes: 195.5</br>total_eve_charge: 16.62</br>total_night_minutes: 254.4</br>total_intl_minutes: 13.7</br>total_intl_charge: 3.7</br>_original_yhat_: 0.1336892694234848</br>"
          ],
          [
           "</br>id: 1</br>prediction: 0.717</br>total_night_charge: 0.1777</br></br>total_day_minutes: 161.6</br>total_day_charge: 27.47</br>total_eve_minutes: 195.5</br>total_eve_charge: 16.62</br>total_night_minutes: 254.4</br>total_intl_minutes: 13.7</br>total_intl_charge: 3.7</br>_original_yhat_: 0.1336892694234848</br>"
          ],
          [
           "</br>id: 1</br>prediction: 0.717</br>total_night_charge: 0.3554</br></br>total_day_minutes: 161.6</br>total_day_charge: 27.47</br>total_eve_minutes: 195.5</br>total_eve_charge: 16.62</br>total_night_minutes: 254.4</br>total_intl_minutes: 13.7</br>total_intl_charge: 3.7</br>_original_yhat_: 0.1336892694234848</br>"
          ],
          [
           "</br>id: 1</br>prediction: 0.717</br>total_night_charge: 0.5331</br></br>total_day_minutes: 161.6</br>total_day_charge: 27.47</br>total_eve_minutes: 195.5</br>total_eve_charge: 16.62</br>total_night_minutes: 254.4</br>total_intl_minutes: 13.7</br>total_intl_charge: 3.7</br>_original_yhat_: 0.1336892694234848</br>"
          ],
          [
           "</br>id: 1</br>prediction: 0.717</br>total_night_charge: 0.7108</br></br>total_day_minutes: 161.6</br>total_day_charge: 27.47</br>total_eve_minutes: 195.5</br>total_eve_charge: 16.62</br>total_night_minutes: 254.4</br>total_intl_minutes: 13.7</br>total_intl_charge: 3.7</br>_original_yhat_: 0.1336892694234848</br>"
          ],
          [
           "</br>id: 1</br>prediction: 0.717</br>total_night_charge: 0.8885</br></br>total_day_minutes: 161.6</br>total_day_charge: 27.47</br>total_eve_minutes: 195.5</br>total_eve_charge: 16.62</br>total_night_minutes: 254.4</br>total_intl_minutes: 13.7</br>total_intl_charge: 3.7</br>_original_yhat_: 0.1336892694234848</br>"
          ],
          [
           "</br>id: 1</br>prediction: 0.717</br>total_night_charge: 1.0662</br></br>total_day_minutes: 161.6</br>total_day_charge: 27.47</br>total_eve_minutes: 195.5</br>total_eve_charge: 16.62</br>total_night_minutes: 254.4</br>total_intl_minutes: 13.7</br>total_intl_charge: 3.7</br>_original_yhat_: 0.1336892694234848</br>"
          ],
          [
           "</br>id: 1</br>prediction: 0.717</br>total_night_charge: 1.2439</br></br>total_day_minutes: 161.6</br>total_day_charge: 27.47</br>total_eve_minutes: 195.5</br>total_eve_charge: 16.62</br>total_night_minutes: 254.4</br>total_intl_minutes: 13.7</br>total_intl_charge: 3.7</br>_original_yhat_: 0.1336892694234848</br>"
          ],
          [
           "</br>id: 1</br>prediction: 0.717</br>total_night_charge: 1.4216</br></br>total_day_minutes: 161.6</br>total_day_charge: 27.47</br>total_eve_minutes: 195.5</br>total_eve_charge: 16.62</br>total_night_minutes: 254.4</br>total_intl_minutes: 13.7</br>total_intl_charge: 3.7</br>_original_yhat_: 0.1336892694234848</br>"
          ],
          [
           "</br>id: 1</br>prediction: 0.717</br>total_night_charge: 1.5993</br></br>total_day_minutes: 161.6</br>total_day_charge: 27.47</br>total_eve_minutes: 195.5</br>total_eve_charge: 16.62</br>total_night_minutes: 254.4</br>total_intl_minutes: 13.7</br>total_intl_charge: 3.7</br>_original_yhat_: 0.1336892694234848</br>"
          ],
          [
           "</br>id: 1</br>prediction: 0.717</br>total_night_charge: 1.777</br></br>total_day_minutes: 161.6</br>total_day_charge: 27.47</br>total_eve_minutes: 195.5</br>total_eve_charge: 16.62</br>total_night_minutes: 254.4</br>total_intl_minutes: 13.7</br>total_intl_charge: 3.7</br>_original_yhat_: 0.1336892694234848</br>"
          ],
          [
           "</br>id: 1</br>prediction: 0.717</br>total_night_charge: 1.9546999999999999</br></br>total_day_minutes: 161.6</br>total_day_charge: 27.47</br>total_eve_minutes: 195.5</br>total_eve_charge: 16.62</br>total_night_minutes: 254.4</br>total_intl_minutes: 13.7</br>total_intl_charge: 3.7</br>_original_yhat_: 0.1336892694234848</br>"
          ],
          [
           "</br>id: 1</br>prediction: 0.717</br>total_night_charge: 2.1324</br></br>total_day_minutes: 161.6</br>total_day_charge: 27.47</br>total_eve_minutes: 195.5</br>total_eve_charge: 16.62</br>total_night_minutes: 254.4</br>total_intl_minutes: 13.7</br>total_intl_charge: 3.7</br>_original_yhat_: 0.1336892694234848</br>"
          ],
          [
           "</br>id: 1</br>prediction: 0.717</br>total_night_charge: 2.3101</br></br>total_day_minutes: 161.6</br>total_day_charge: 27.47</br>total_eve_minutes: 195.5</br>total_eve_charge: 16.62</br>total_night_minutes: 254.4</br>total_intl_minutes: 13.7</br>total_intl_charge: 3.7</br>_original_yhat_: 0.1336892694234848</br>"
          ],
          [
           "</br>id: 1</br>prediction: 0.717</br>total_night_charge: 2.4878</br></br>total_day_minutes: 161.6</br>total_day_charge: 27.47</br>total_eve_minutes: 195.5</br>total_eve_charge: 16.62</br>total_night_minutes: 254.4</br>total_intl_minutes: 13.7</br>total_intl_charge: 3.7</br>_original_yhat_: 0.1336892694234848</br>"
          ],
          [
           "</br>id: 1</br>prediction: 0.717</br>total_night_charge: 2.6654999999999998</br></br>total_day_minutes: 161.6</br>total_day_charge: 27.47</br>total_eve_minutes: 195.5</br>total_eve_charge: 16.62</br>total_night_minutes: 254.4</br>total_intl_minutes: 13.7</br>total_intl_charge: 3.7</br>_original_yhat_: 0.1336892694234848</br>"
          ],
          [
           "</br>id: 1</br>prediction: 0.717</br>total_night_charge: 2.8432</br></br>total_day_minutes: 161.6</br>total_day_charge: 27.47</br>total_eve_minutes: 195.5</br>total_eve_charge: 16.62</br>total_night_minutes: 254.4</br>total_intl_minutes: 13.7</br>total_intl_charge: 3.7</br>_original_yhat_: 0.1336892694234848</br>"
          ],
          [
           "</br>id: 1</br>prediction: 0.717</br>total_night_charge: 3.0209</br></br>total_day_minutes: 161.6</br>total_day_charge: 27.47</br>total_eve_minutes: 195.5</br>total_eve_charge: 16.62</br>total_night_minutes: 254.4</br>total_intl_minutes: 13.7</br>total_intl_charge: 3.7</br>_original_yhat_: 0.1336892694234848</br>"
          ],
          [
           "</br>id: 1</br>prediction: 0.717</br>total_night_charge: 3.1986</br></br>total_day_minutes: 161.6</br>total_day_charge: 27.47</br>total_eve_minutes: 195.5</br>total_eve_charge: 16.62</br>total_night_minutes: 254.4</br>total_intl_minutes: 13.7</br>total_intl_charge: 3.7</br>_original_yhat_: 0.1336892694234848</br>"
          ],
          [
           "</br>id: 1</br>prediction: 0.717</br>total_night_charge: 3.3763</br></br>total_day_minutes: 161.6</br>total_day_charge: 27.47</br>total_eve_minutes: 195.5</br>total_eve_charge: 16.62</br>total_night_minutes: 254.4</br>total_intl_minutes: 13.7</br>total_intl_charge: 3.7</br>_original_yhat_: 0.1336892694234848</br>"
          ],
          [
           "</br>id: 1</br>prediction: 0.665</br>total_night_charge: 3.554</br></br>total_day_minutes: 161.6</br>total_day_charge: 27.47</br>total_eve_minutes: 195.5</br>total_eve_charge: 16.62</br>total_night_minutes: 254.4</br>total_intl_minutes: 13.7</br>total_intl_charge: 3.7</br>_original_yhat_: 0.1336892694234848</br>"
          ],
          [
           "</br>id: 1</br>prediction: 0.665</br>total_night_charge: 3.7317</br></br>total_day_minutes: 161.6</br>total_day_charge: 27.47</br>total_eve_minutes: 195.5</br>total_eve_charge: 16.62</br>total_night_minutes: 254.4</br>total_intl_minutes: 13.7</br>total_intl_charge: 3.7</br>_original_yhat_: 0.1336892694234848</br>"
          ],
          [
           "</br>id: 1</br>prediction: 0.665</br>total_night_charge: 3.9093999999999998</br></br>total_day_minutes: 161.6</br>total_day_charge: 27.47</br>total_eve_minutes: 195.5</br>total_eve_charge: 16.62</br>total_night_minutes: 254.4</br>total_intl_minutes: 13.7</br>total_intl_charge: 3.7</br>_original_yhat_: 0.1336892694234848</br>"
          ],
          [
           "</br>id: 1</br>prediction: 0.665</br>total_night_charge: 4.0870999999999995</br></br>total_day_minutes: 161.6</br>total_day_charge: 27.47</br>total_eve_minutes: 195.5</br>total_eve_charge: 16.62</br>total_night_minutes: 254.4</br>total_intl_minutes: 13.7</br>total_intl_charge: 3.7</br>_original_yhat_: 0.1336892694234848</br>"
          ],
          [
           "</br>id: 1</br>prediction: 0.665</br>total_night_charge: 4.2648</br></br>total_day_minutes: 161.6</br>total_day_charge: 27.47</br>total_eve_minutes: 195.5</br>total_eve_charge: 16.62</br>total_night_minutes: 254.4</br>total_intl_minutes: 13.7</br>total_intl_charge: 3.7</br>_original_yhat_: 0.1336892694234848</br>"
          ],
          [
           "</br>id: 1</br>prediction: 0.665</br>total_night_charge: 4.4425</br></br>total_day_minutes: 161.6</br>total_day_charge: 27.47</br>total_eve_minutes: 195.5</br>total_eve_charge: 16.62</br>total_night_minutes: 254.4</br>total_intl_minutes: 13.7</br>total_intl_charge: 3.7</br>_original_yhat_: 0.1336892694234848</br>"
          ],
          [
           "</br>id: 1</br>prediction: 0.665</br>total_night_charge: 4.6202</br></br>total_day_minutes: 161.6</br>total_day_charge: 27.47</br>total_eve_minutes: 195.5</br>total_eve_charge: 16.62</br>total_night_minutes: 254.4</br>total_intl_minutes: 13.7</br>total_intl_charge: 3.7</br>_original_yhat_: 0.1336892694234848</br>"
          ],
          [
           "</br>id: 1</br>prediction: 0.665</br>total_night_charge: 4.7979</br></br>total_day_minutes: 161.6</br>total_day_charge: 27.47</br>total_eve_minutes: 195.5</br>total_eve_charge: 16.62</br>total_night_minutes: 254.4</br>total_intl_minutes: 13.7</br>total_intl_charge: 3.7</br>_original_yhat_: 0.1336892694234848</br>"
          ],
          [
           "</br>id: 1</br>prediction: 0.665</br>total_night_charge: 4.9756</br></br>total_day_minutes: 161.6</br>total_day_charge: 27.47</br>total_eve_minutes: 195.5</br>total_eve_charge: 16.62</br>total_night_minutes: 254.4</br>total_intl_minutes: 13.7</br>total_intl_charge: 3.7</br>_original_yhat_: 0.1336892694234848</br>"
          ],
          [
           "</br>id: 1</br>prediction: 0.665</br>total_night_charge: 5.1533</br></br>total_day_minutes: 161.6</br>total_day_charge: 27.47</br>total_eve_minutes: 195.5</br>total_eve_charge: 16.62</br>total_night_minutes: 254.4</br>total_intl_minutes: 13.7</br>total_intl_charge: 3.7</br>_original_yhat_: 0.1336892694234848</br>"
          ],
          [
           "</br>id: 1</br>prediction: 0.665</br>total_night_charge: 5.3309999999999995</br></br>total_day_minutes: 161.6</br>total_day_charge: 27.47</br>total_eve_minutes: 195.5</br>total_eve_charge: 16.62</br>total_night_minutes: 254.4</br>total_intl_minutes: 13.7</br>total_intl_charge: 3.7</br>_original_yhat_: 0.1336892694234848</br>"
          ],
          [
           "</br>id: 1</br>prediction: 0.665</br>total_night_charge: 5.5087</br></br>total_day_minutes: 161.6</br>total_day_charge: 27.47</br>total_eve_minutes: 195.5</br>total_eve_charge: 16.62</br>total_night_minutes: 254.4</br>total_intl_minutes: 13.7</br>total_intl_charge: 3.7</br>_original_yhat_: 0.1336892694234848</br>"
          ],
          [
           "</br>id: 1</br>prediction: 0.491</br>total_night_charge: 5.6864</br></br>total_day_minutes: 161.6</br>total_day_charge: 27.47</br>total_eve_minutes: 195.5</br>total_eve_charge: 16.62</br>total_night_minutes: 254.4</br>total_intl_minutes: 13.7</br>total_intl_charge: 3.7</br>_original_yhat_: 0.1336892694234848</br>"
          ],
          [
           "</br>id: 1</br>prediction: 0.491</br>total_night_charge: 5.8641</br></br>total_day_minutes: 161.6</br>total_day_charge: 27.47</br>total_eve_minutes: 195.5</br>total_eve_charge: 16.62</br>total_night_minutes: 254.4</br>total_intl_minutes: 13.7</br>total_intl_charge: 3.7</br>_original_yhat_: 0.1336892694234848</br>"
          ],
          [
           "</br>id: 1</br>prediction: 0.491</br>total_night_charge: 6.0418</br></br>total_day_minutes: 161.6</br>total_day_charge: 27.47</br>total_eve_minutes: 195.5</br>total_eve_charge: 16.62</br>total_night_minutes: 254.4</br>total_intl_minutes: 13.7</br>total_intl_charge: 3.7</br>_original_yhat_: 0.1336892694234848</br>"
          ],
          [
           "</br>id: 1</br>prediction: 0.491</br>total_night_charge: 6.2195</br></br>total_day_minutes: 161.6</br>total_day_charge: 27.47</br>total_eve_minutes: 195.5</br>total_eve_charge: 16.62</br>total_night_minutes: 254.4</br>total_intl_minutes: 13.7</br>total_intl_charge: 3.7</br>_original_yhat_: 0.1336892694234848</br>"
          ],
          [
           "</br>id: 1</br>prediction: 0.491</br>total_night_charge: 6.3972</br></br>total_day_minutes: 161.6</br>total_day_charge: 27.47</br>total_eve_minutes: 195.5</br>total_eve_charge: 16.62</br>total_night_minutes: 254.4</br>total_intl_minutes: 13.7</br>total_intl_charge: 3.7</br>_original_yhat_: 0.1336892694234848</br>"
          ],
          [
           "</br>id: 1</br>prediction: 0.491</br>total_night_charge: 6.5748999999999995</br></br>total_day_minutes: 161.6</br>total_day_charge: 27.47</br>total_eve_minutes: 195.5</br>total_eve_charge: 16.62</br>total_night_minutes: 254.4</br>total_intl_minutes: 13.7</br>total_intl_charge: 3.7</br>_original_yhat_: 0.1336892694234848</br>"
          ],
          [
           "</br>id: 1</br>prediction: 0.476</br>total_night_charge: 6.7526</br></br>total_day_minutes: 161.6</br>total_day_charge: 27.47</br>total_eve_minutes: 195.5</br>total_eve_charge: 16.62</br>total_night_minutes: 254.4</br>total_intl_minutes: 13.7</br>total_intl_charge: 3.7</br>_original_yhat_: 0.1336892694234848</br>"
          ],
          [
           "</br>id: 1</br>prediction: 0.418</br>total_night_charge: 6.9303</br></br>total_day_minutes: 161.6</br>total_day_charge: 27.47</br>total_eve_minutes: 195.5</br>total_eve_charge: 16.62</br>total_night_minutes: 254.4</br>total_intl_minutes: 13.7</br>total_intl_charge: 3.7</br>_original_yhat_: 0.1336892694234848</br>"
          ],
          [
           "</br>id: 1</br>prediction: 0.418</br>total_night_charge: 7.108</br></br>total_day_minutes: 161.6</br>total_day_charge: 27.47</br>total_eve_minutes: 195.5</br>total_eve_charge: 16.62</br>total_night_minutes: 254.4</br>total_intl_minutes: 13.7</br>total_intl_charge: 3.7</br>_original_yhat_: 0.1336892694234848</br>"
          ],
          [
           "</br>id: 1</br>prediction: 0.494</br>total_night_charge: 7.2857</br></br>total_day_minutes: 161.6</br>total_day_charge: 27.47</br>total_eve_minutes: 195.5</br>total_eve_charge: 16.62</br>total_night_minutes: 254.4</br>total_intl_minutes: 13.7</br>total_intl_charge: 3.7</br>_original_yhat_: 0.1336892694234848</br>"
          ],
          [
           "</br>id: 1</br>prediction: 0.365</br>total_night_charge: 7.4634</br></br>total_day_minutes: 161.6</br>total_day_charge: 27.47</br>total_eve_minutes: 195.5</br>total_eve_charge: 16.62</br>total_night_minutes: 254.4</br>total_intl_minutes: 13.7</br>total_intl_charge: 3.7</br>_original_yhat_: 0.1336892694234848</br>"
          ],
          [
           "</br>id: 1</br>prediction: 0.389</br>total_night_charge: 7.6411</br></br>total_day_minutes: 161.6</br>total_day_charge: 27.47</br>total_eve_minutes: 195.5</br>total_eve_charge: 16.62</br>total_night_minutes: 254.4</br>total_intl_minutes: 13.7</br>total_intl_charge: 3.7</br>_original_yhat_: 0.1336892694234848</br>"
          ],
          [
           "</br>id: 1</br>prediction: 0.389</br>total_night_charge: 7.8187999999999995</br></br>total_day_minutes: 161.6</br>total_day_charge: 27.47</br>total_eve_minutes: 195.5</br>total_eve_charge: 16.62</br>total_night_minutes: 254.4</br>total_intl_minutes: 13.7</br>total_intl_charge: 3.7</br>_original_yhat_: 0.1336892694234848</br>"
          ],
          [
           "</br>id: 1</br>prediction: 0.392</br>total_night_charge: 7.9965</br></br>total_day_minutes: 161.6</br>total_day_charge: 27.47</br>total_eve_minutes: 195.5</br>total_eve_charge: 16.62</br>total_night_minutes: 254.4</br>total_intl_minutes: 13.7</br>total_intl_charge: 3.7</br>_original_yhat_: 0.1336892694234848</br>"
          ],
          [
           "</br>id: 1</br>prediction: 0.249</br>total_night_charge: 8.174199999999999</br></br>total_day_minutes: 161.6</br>total_day_charge: 27.47</br>total_eve_minutes: 195.5</br>total_eve_charge: 16.62</br>total_night_minutes: 254.4</br>total_intl_minutes: 13.7</br>total_intl_charge: 3.7</br>_original_yhat_: 0.1336892694234848</br>"
          ],
          [
           "</br>id: 1</br>prediction: 0.326</br>total_night_charge: 8.3519</br></br>total_day_minutes: 161.6</br>total_day_charge: 27.47</br>total_eve_minutes: 195.5</br>total_eve_charge: 16.62</br>total_night_minutes: 254.4</br>total_intl_minutes: 13.7</br>total_intl_charge: 3.7</br>_original_yhat_: 0.1336892694234848</br>"
          ],
          [
           "</br>id: 1</br>prediction: 0.326</br>total_night_charge: 8.5296</br></br>total_day_minutes: 161.6</br>total_day_charge: 27.47</br>total_eve_minutes: 195.5</br>total_eve_charge: 16.62</br>total_night_minutes: 254.4</br>total_intl_minutes: 13.7</br>total_intl_charge: 3.7</br>_original_yhat_: 0.1336892694234848</br>"
          ],
          [
           "</br>id: 1</br>prediction: 0.394</br>total_night_charge: 8.7073</br></br>total_day_minutes: 161.6</br>total_day_charge: 27.47</br>total_eve_minutes: 195.5</br>total_eve_charge: 16.62</br>total_night_minutes: 254.4</br>total_intl_minutes: 13.7</br>total_intl_charge: 3.7</br>_original_yhat_: 0.1336892694234848</br>"
          ],
          [
           "</br>id: 1</br>prediction: 0.394</br>total_night_charge: 8.885</br></br>total_day_minutes: 161.6</br>total_day_charge: 27.47</br>total_eve_minutes: 195.5</br>total_eve_charge: 16.62</br>total_night_minutes: 254.4</br>total_intl_minutes: 13.7</br>total_intl_charge: 3.7</br>_original_yhat_: 0.1336892694234848</br>"
          ],
          [
           "</br>id: 1</br>prediction: 0.434</br>total_night_charge: 9.0627</br></br>total_day_minutes: 161.6</br>total_day_charge: 27.47</br>total_eve_minutes: 195.5</br>total_eve_charge: 16.62</br>total_night_minutes: 254.4</br>total_intl_minutes: 13.7</br>total_intl_charge: 3.7</br>_original_yhat_: 0.1336892694234848</br>"
          ],
          [
           "</br>id: 1</br>prediction: 0.35</br>total_night_charge: 9.2404</br></br>total_day_minutes: 161.6</br>total_day_charge: 27.47</br>total_eve_minutes: 195.5</br>total_eve_charge: 16.62</br>total_night_minutes: 254.4</br>total_intl_minutes: 13.7</br>total_intl_charge: 3.7</br>_original_yhat_: 0.1336892694234848</br>"
          ],
          [
           "</br>id: 1</br>prediction: 0.375</br>total_night_charge: 9.418099999999999</br></br>total_day_minutes: 161.6</br>total_day_charge: 27.47</br>total_eve_minutes: 195.5</br>total_eve_charge: 16.62</br>total_night_minutes: 254.4</br>total_intl_minutes: 13.7</br>total_intl_charge: 3.7</br>_original_yhat_: 0.1336892694234848</br>"
          ],
          [
           "</br>id: 1</br>prediction: 0.375</br>total_night_charge: 9.5958</br></br>total_day_minutes: 161.6</br>total_day_charge: 27.47</br>total_eve_minutes: 195.5</br>total_eve_charge: 16.62</br>total_night_minutes: 254.4</br>total_intl_minutes: 13.7</br>total_intl_charge: 3.7</br>_original_yhat_: 0.1336892694234848</br>"
          ],
          [
           "</br>id: 1</br>prediction: 0.186</br>total_night_charge: 9.7735</br></br>total_day_minutes: 161.6</br>total_day_charge: 27.47</br>total_eve_minutes: 195.5</br>total_eve_charge: 16.62</br>total_night_minutes: 254.4</br>total_intl_minutes: 13.7</br>total_intl_charge: 3.7</br>_original_yhat_: 0.1336892694234848</br>"
          ],
          [
           "</br>id: 1</br>prediction: 0.186</br>total_night_charge: 9.9512</br></br>total_day_minutes: 161.6</br>total_day_charge: 27.47</br>total_eve_minutes: 195.5</br>total_eve_charge: 16.62</br>total_night_minutes: 254.4</br>total_intl_minutes: 13.7</br>total_intl_charge: 3.7</br>_original_yhat_: 0.1336892694234848</br>"
          ],
          [
           "</br>id: 1</br>prediction: 0.186</br>total_night_charge: 10.1289</br></br>total_day_minutes: 161.6</br>total_day_charge: 27.47</br>total_eve_minutes: 195.5</br>total_eve_charge: 16.62</br>total_night_minutes: 254.4</br>total_intl_minutes: 13.7</br>total_intl_charge: 3.7</br>_original_yhat_: 0.1336892694234848</br>"
          ],
          [
           "</br>id: 1</br>prediction: 0.122</br>total_night_charge: 10.3066</br></br>total_day_minutes: 161.6</br>total_day_charge: 27.47</br>total_eve_minutes: 195.5</br>total_eve_charge: 16.62</br>total_night_minutes: 254.4</br>total_intl_minutes: 13.7</br>total_intl_charge: 3.7</br>_original_yhat_: 0.1336892694234848</br>"
          ],
          [
           "</br>id: 1</br>prediction: 0.155</br>total_night_charge: 10.4843</br></br>total_day_minutes: 161.6</br>total_day_charge: 27.47</br>total_eve_minutes: 195.5</br>total_eve_charge: 16.62</br>total_night_minutes: 254.4</br>total_intl_minutes: 13.7</br>total_intl_charge: 3.7</br>_original_yhat_: 0.1336892694234848</br>"
          ],
          [
           "</br>id: 1</br>prediction: 0.155</br>total_night_charge: 10.661999999999999</br></br>total_day_minutes: 161.6</br>total_day_charge: 27.47</br>total_eve_minutes: 195.5</br>total_eve_charge: 16.62</br>total_night_minutes: 254.4</br>total_intl_minutes: 13.7</br>total_intl_charge: 3.7</br>_original_yhat_: 0.1336892694234848</br>"
          ],
          [
           "</br>id: 1</br>prediction: 0.134</br>total_night_charge: 10.8397</br></br>total_day_minutes: 161.6</br>total_day_charge: 27.47</br>total_eve_minutes: 195.5</br>total_eve_charge: 16.62</br>total_night_minutes: 254.4</br>total_intl_minutes: 13.7</br>total_intl_charge: 3.7</br>_original_yhat_: 0.1336892694234848</br>"
          ],
          [
           "</br>id: 1</br>prediction: 0.134</br>total_night_charge: 11.0174</br></br>total_day_minutes: 161.6</br>total_day_charge: 27.47</br>total_eve_minutes: 195.5</br>total_eve_charge: 16.62</br>total_night_minutes: 254.4</br>total_intl_minutes: 13.7</br>total_intl_charge: 3.7</br>_original_yhat_: 0.1336892694234848</br>"
          ],
          [
           "</br>id: 1</br>prediction: 0.134</br>total_night_charge: 11.1951</br></br>total_day_minutes: 161.6</br>total_day_charge: 27.47</br>total_eve_minutes: 195.5</br>total_eve_charge: 16.62</br>total_night_minutes: 254.4</br>total_intl_minutes: 13.7</br>total_intl_charge: 3.7</br>_original_yhat_: 0.1336892694234848</br>"
          ],
          [
           "</br>id: 1</br>prediction: 0.134</br>total_night_charge: 11.3728</br></br>total_day_minutes: 161.6</br>total_day_charge: 27.47</br>total_eve_minutes: 195.5</br>total_eve_charge: 16.62</br>total_night_minutes: 254.4</br>total_intl_minutes: 13.7</br>total_intl_charge: 3.7</br>_original_yhat_: 0.1336892694234848</br>"
          ],
          [
           "</br>id: 1</br>prediction: 0.134</br>total_night_charge: 11.45</br></br>total_day_minutes: 161.6</br>total_day_charge: 27.47</br>total_eve_minutes: 195.5</br>total_eve_charge: 16.62</br>total_night_minutes: 254.4</br>total_intl_minutes: 13.7</br>total_intl_charge: 3.7</br>_original_yhat_: 0.1336892694234848</br>"
          ],
          [
           "</br>id: 1</br>prediction: 0.134</br>total_night_charge: 11.5505</br></br>total_day_minutes: 161.6</br>total_day_charge: 27.47</br>total_eve_minutes: 195.5</br>total_eve_charge: 16.62</br>total_night_minutes: 254.4</br>total_intl_minutes: 13.7</br>total_intl_charge: 3.7</br>_original_yhat_: 0.1336892694234848</br>"
          ],
          [
           "</br>id: 1</br>prediction: 0.134</br>total_night_charge: 11.7282</br></br>total_day_minutes: 161.6</br>total_day_charge: 27.47</br>total_eve_minutes: 195.5</br>total_eve_charge: 16.62</br>total_night_minutes: 254.4</br>total_intl_minutes: 13.7</br>total_intl_charge: 3.7</br>_original_yhat_: 0.1336892694234848</br>"
          ],
          [
           "</br>id: 1</br>prediction: 0.134</br>total_night_charge: 11.905899999999999</br></br>total_day_minutes: 161.6</br>total_day_charge: 27.47</br>total_eve_minutes: 195.5</br>total_eve_charge: 16.62</br>total_night_minutes: 254.4</br>total_intl_minutes: 13.7</br>total_intl_charge: 3.7</br>_original_yhat_: 0.1336892694234848</br>"
          ],
          [
           "</br>id: 1</br>prediction: 0.134</br>total_night_charge: 12.0836</br></br>total_day_minutes: 161.6</br>total_day_charge: 27.47</br>total_eve_minutes: 195.5</br>total_eve_charge: 16.62</br>total_night_minutes: 254.4</br>total_intl_minutes: 13.7</br>total_intl_charge: 3.7</br>_original_yhat_: 0.1336892694234848</br>"
          ],
          [
           "</br>id: 1</br>prediction: 0.134</br>total_night_charge: 12.2613</br></br>total_day_minutes: 161.6</br>total_day_charge: 27.47</br>total_eve_minutes: 195.5</br>total_eve_charge: 16.62</br>total_night_minutes: 254.4</br>total_intl_minutes: 13.7</br>total_intl_charge: 3.7</br>_original_yhat_: 0.1336892694234848</br>"
          ],
          [
           "</br>id: 1</br>prediction: 0.141</br>total_night_charge: 12.439</br></br>total_day_minutes: 161.6</br>total_day_charge: 27.47</br>total_eve_minutes: 195.5</br>total_eve_charge: 16.62</br>total_night_minutes: 254.4</br>total_intl_minutes: 13.7</br>total_intl_charge: 3.7</br>_original_yhat_: 0.1336892694234848</br>"
          ],
          [
           "</br>id: 1</br>prediction: 0.141</br>total_night_charge: 12.6167</br></br>total_day_minutes: 161.6</br>total_day_charge: 27.47</br>total_eve_minutes: 195.5</br>total_eve_charge: 16.62</br>total_night_minutes: 254.4</br>total_intl_minutes: 13.7</br>total_intl_charge: 3.7</br>_original_yhat_: 0.1336892694234848</br>"
          ],
          [
           "</br>id: 1</br>prediction: 0.141</br>total_night_charge: 12.7944</br></br>total_day_minutes: 161.6</br>total_day_charge: 27.47</br>total_eve_minutes: 195.5</br>total_eve_charge: 16.62</br>total_night_minutes: 254.4</br>total_intl_minutes: 13.7</br>total_intl_charge: 3.7</br>_original_yhat_: 0.1336892694234848</br>"
          ],
          [
           "</br>id: 1</br>prediction: 0.141</br>total_night_charge: 12.9721</br></br>total_day_minutes: 161.6</br>total_day_charge: 27.47</br>total_eve_minutes: 195.5</br>total_eve_charge: 16.62</br>total_night_minutes: 254.4</br>total_intl_minutes: 13.7</br>total_intl_charge: 3.7</br>_original_yhat_: 0.1336892694234848</br>"
          ],
          [
           "</br>id: 1</br>prediction: 0.09</br>total_night_charge: 13.149799999999999</br></br>total_day_minutes: 161.6</br>total_day_charge: 27.47</br>total_eve_minutes: 195.5</br>total_eve_charge: 16.62</br>total_night_minutes: 254.4</br>total_intl_minutes: 13.7</br>total_intl_charge: 3.7</br>_original_yhat_: 0.1336892694234848</br>"
          ],
          [
           "</br>id: 1</br>prediction: 0.09</br>total_night_charge: 13.3275</br></br>total_day_minutes: 161.6</br>total_day_charge: 27.47</br>total_eve_minutes: 195.5</br>total_eve_charge: 16.62</br>total_night_minutes: 254.4</br>total_intl_minutes: 13.7</br>total_intl_charge: 3.7</br>_original_yhat_: 0.1336892694234848</br>"
          ],
          [
           "</br>id: 1</br>prediction: 0.09</br>total_night_charge: 13.5052</br></br>total_day_minutes: 161.6</br>total_day_charge: 27.47</br>total_eve_minutes: 195.5</br>total_eve_charge: 16.62</br>total_night_minutes: 254.4</br>total_intl_minutes: 13.7</br>total_intl_charge: 3.7</br>_original_yhat_: 0.1336892694234848</br>"
          ],
          [
           "</br>id: 1</br>prediction: 0.09</br>total_night_charge: 13.6829</br></br>total_day_minutes: 161.6</br>total_day_charge: 27.47</br>total_eve_minutes: 195.5</br>total_eve_charge: 16.62</br>total_night_minutes: 254.4</br>total_intl_minutes: 13.7</br>total_intl_charge: 3.7</br>_original_yhat_: 0.1336892694234848</br>"
          ],
          [
           "</br>id: 1</br>prediction: 0.09</br>total_night_charge: 13.8606</br></br>total_day_minutes: 161.6</br>total_day_charge: 27.47</br>total_eve_minutes: 195.5</br>total_eve_charge: 16.62</br>total_night_minutes: 254.4</br>total_intl_minutes: 13.7</br>total_intl_charge: 3.7</br>_original_yhat_: 0.1336892694234848</br>"
          ],
          [
           "</br>id: 1</br>prediction: 0.09</br>total_night_charge: 14.0383</br></br>total_day_minutes: 161.6</br>total_day_charge: 27.47</br>total_eve_minutes: 195.5</br>total_eve_charge: 16.62</br>total_night_minutes: 254.4</br>total_intl_minutes: 13.7</br>total_intl_charge: 3.7</br>_original_yhat_: 0.1336892694234848</br>"
          ],
          [
           "</br>id: 1</br>prediction: 0.09</br>total_night_charge: 14.216</br></br>total_day_minutes: 161.6</br>total_day_charge: 27.47</br>total_eve_minutes: 195.5</br>total_eve_charge: 16.62</br>total_night_minutes: 254.4</br>total_intl_minutes: 13.7</br>total_intl_charge: 3.7</br>_original_yhat_: 0.1336892694234848</br>"
          ],
          [
           "</br>id: 1</br>prediction: 0.09</br>total_night_charge: 14.393699999999999</br></br>total_day_minutes: 161.6</br>total_day_charge: 27.47</br>total_eve_minutes: 195.5</br>total_eve_charge: 16.62</br>total_night_minutes: 254.4</br>total_intl_minutes: 13.7</br>total_intl_charge: 3.7</br>_original_yhat_: 0.1336892694234848</br>"
          ],
          [
           "</br>id: 1</br>prediction: 0.066</br>total_night_charge: 14.5714</br></br>total_day_minutes: 161.6</br>total_day_charge: 27.47</br>total_eve_minutes: 195.5</br>total_eve_charge: 16.62</br>total_night_minutes: 254.4</br>total_intl_minutes: 13.7</br>total_intl_charge: 3.7</br>_original_yhat_: 0.1336892694234848</br>"
          ],
          [
           "</br>id: 1</br>prediction: 0.066</br>total_night_charge: 14.7491</br></br>total_day_minutes: 161.6</br>total_day_charge: 27.47</br>total_eve_minutes: 195.5</br>total_eve_charge: 16.62</br>total_night_minutes: 254.4</br>total_intl_minutes: 13.7</br>total_intl_charge: 3.7</br>_original_yhat_: 0.1336892694234848</br>"
          ],
          [
           "</br>id: 1</br>prediction: 0.066</br>total_night_charge: 14.9268</br></br>total_day_minutes: 161.6</br>total_day_charge: 27.47</br>total_eve_minutes: 195.5</br>total_eve_charge: 16.62</br>total_night_minutes: 254.4</br>total_intl_minutes: 13.7</br>total_intl_charge: 3.7</br>_original_yhat_: 0.1336892694234848</br>"
          ],
          [
           "</br>id: 1</br>prediction: 0.066</br>total_night_charge: 15.1045</br></br>total_day_minutes: 161.6</br>total_day_charge: 27.47</br>total_eve_minutes: 195.5</br>total_eve_charge: 16.62</br>total_night_minutes: 254.4</br>total_intl_minutes: 13.7</br>total_intl_charge: 3.7</br>_original_yhat_: 0.1336892694234848</br>"
          ],
          [
           "</br>id: 1</br>prediction: 0.066</br>total_night_charge: 15.2822</br></br>total_day_minutes: 161.6</br>total_day_charge: 27.47</br>total_eve_minutes: 195.5</br>total_eve_charge: 16.62</br>total_night_minutes: 254.4</br>total_intl_minutes: 13.7</br>total_intl_charge: 3.7</br>_original_yhat_: 0.1336892694234848</br>"
          ],
          [
           "</br>id: 1</br>prediction: 0.066</br>total_night_charge: 15.4599</br></br>total_day_minutes: 161.6</br>total_day_charge: 27.47</br>total_eve_minutes: 195.5</br>total_eve_charge: 16.62</br>total_night_minutes: 254.4</br>total_intl_minutes: 13.7</br>total_intl_charge: 3.7</br>_original_yhat_: 0.1336892694234848</br>"
          ],
          [
           "</br>id: 1</br>prediction: 0.066</br>total_night_charge: 15.637599999999999</br></br>total_day_minutes: 161.6</br>total_day_charge: 27.47</br>total_eve_minutes: 195.5</br>total_eve_charge: 16.62</br>total_night_minutes: 254.4</br>total_intl_minutes: 13.7</br>total_intl_charge: 3.7</br>_original_yhat_: 0.1336892694234848</br>"
          ],
          [
           "</br>id: 1</br>prediction: 0.066</br>total_night_charge: 15.8153</br></br>total_day_minutes: 161.6</br>total_day_charge: 27.47</br>total_eve_minutes: 195.5</br>total_eve_charge: 16.62</br>total_night_minutes: 254.4</br>total_intl_minutes: 13.7</br>total_intl_charge: 3.7</br>_original_yhat_: 0.1336892694234848</br>"
          ],
          [
           "</br>id: 1</br>prediction: 0.066</br>total_night_charge: 15.993</br></br>total_day_minutes: 161.6</br>total_day_charge: 27.47</br>total_eve_minutes: 195.5</br>total_eve_charge: 16.62</br>total_night_minutes: 254.4</br>total_intl_minutes: 13.7</br>total_intl_charge: 3.7</br>_original_yhat_: 0.1336892694234848</br>"
          ],
          [
           "</br>id: 1</br>prediction: 0.066</br>total_night_charge: 16.1707</br></br>total_day_minutes: 161.6</br>total_day_charge: 27.47</br>total_eve_minutes: 195.5</br>total_eve_charge: 16.62</br>total_night_minutes: 254.4</br>total_intl_minutes: 13.7</br>total_intl_charge: 3.7</br>_original_yhat_: 0.1336892694234848</br>"
          ],
          [
           "</br>id: 1</br>prediction: 0.066</br>total_night_charge: 16.348399999999998</br></br>total_day_minutes: 161.6</br>total_day_charge: 27.47</br>total_eve_minutes: 195.5</br>total_eve_charge: 16.62</br>total_night_minutes: 254.4</br>total_intl_minutes: 13.7</br>total_intl_charge: 3.7</br>_original_yhat_: 0.1336892694234848</br>"
          ],
          [
           "</br>id: 1</br>prediction: 0.066</br>total_night_charge: 16.5261</br></br>total_day_minutes: 161.6</br>total_day_charge: 27.47</br>total_eve_minutes: 195.5</br>total_eve_charge: 16.62</br>total_night_minutes: 254.4</br>total_intl_minutes: 13.7</br>total_intl_charge: 3.7</br>_original_yhat_: 0.1336892694234848</br>"
          ],
          [
           "</br>id: 1</br>prediction: 0.066</br>total_night_charge: 16.7038</br></br>total_day_minutes: 161.6</br>total_day_charge: 27.47</br>total_eve_minutes: 195.5</br>total_eve_charge: 16.62</br>total_night_minutes: 254.4</br>total_intl_minutes: 13.7</br>total_intl_charge: 3.7</br>_original_yhat_: 0.1336892694234848</br>"
          ],
          [
           "</br>id: 1</br>prediction: 0.066</br>total_night_charge: 16.8815</br></br>total_day_minutes: 161.6</br>total_day_charge: 27.47</br>total_eve_minutes: 195.5</br>total_eve_charge: 16.62</br>total_night_minutes: 254.4</br>total_intl_minutes: 13.7</br>total_intl_charge: 3.7</br>_original_yhat_: 0.1336892694234848</br>"
          ],
          [
           "</br>id: 1</br>prediction: 0.066</br>total_night_charge: 17.0592</br></br>total_day_minutes: 161.6</br>total_day_charge: 27.47</br>total_eve_minutes: 195.5</br>total_eve_charge: 16.62</br>total_night_minutes: 254.4</br>total_intl_minutes: 13.7</br>total_intl_charge: 3.7</br>_original_yhat_: 0.1336892694234848</br>"
          ],
          [
           "</br>id: 1</br>prediction: 0.066</br>total_night_charge: 17.2369</br></br>total_day_minutes: 161.6</br>total_day_charge: 27.47</br>total_eve_minutes: 195.5</br>total_eve_charge: 16.62</br>total_night_minutes: 254.4</br>total_intl_minutes: 13.7</br>total_intl_charge: 3.7</br>_original_yhat_: 0.1336892694234848</br>"
          ],
          [
           "</br>id: 1</br>prediction: 0.066</br>total_night_charge: 17.4146</br></br>total_day_minutes: 161.6</br>total_day_charge: 27.47</br>total_eve_minutes: 195.5</br>total_eve_charge: 16.62</br>total_night_minutes: 254.4</br>total_intl_minutes: 13.7</br>total_intl_charge: 3.7</br>_original_yhat_: 0.1336892694234848</br>"
          ],
          [
           "</br>id: 1</br>prediction: 0.066</br>total_night_charge: 17.592299999999998</br></br>total_day_minutes: 161.6</br>total_day_charge: 27.47</br>total_eve_minutes: 195.5</br>total_eve_charge: 16.62</br>total_night_minutes: 254.4</br>total_intl_minutes: 13.7</br>total_intl_charge: 3.7</br>_original_yhat_: 0.1336892694234848</br>"
          ],
          [
           "</br>id: 1</br>prediction: 0.066</br>total_night_charge: 17.77</br></br>total_day_minutes: 161.6</br>total_day_charge: 27.47</br>total_eve_minutes: 195.5</br>total_eve_charge: 16.62</br>total_night_minutes: 254.4</br>total_intl_minutes: 13.7</br>total_intl_charge: 3.7</br>_original_yhat_: 0.1336892694234848</br>"
          ]
         ],
         "hovertemplate": "%{customdata[0]}<extra></extra>",
         "legendgroup": "XGBClassifier",
         "line": {
          "color": "#46bac2",
          "dash": "solid",
          "width": 2
         },
         "marker": {
          "symbol": "circle"
         },
         "mode": "lines",
         "name": "XGBClassifier",
         "opacity": 1,
         "orientation": "v",
         "showlegend": false,
         "type": "scatter",
         "x": [
          0,
          0.1777,
          0.3554,
          0.5331,
          0.7108,
          0.8885,
          1.0662,
          1.2439,
          1.4216,
          1.5993,
          1.777,
          1.9546999999999999,
          2.1324,
          2.3101,
          2.4878,
          2.6654999999999998,
          2.8432,
          3.0209,
          3.1986,
          3.3763,
          3.554,
          3.7317,
          3.9093999999999998,
          4.0870999999999995,
          4.2648,
          4.4425,
          4.6202,
          4.7979,
          4.9756,
          5.1533,
          5.3309999999999995,
          5.5087,
          5.6864,
          5.8641,
          6.0418,
          6.2195,
          6.3972,
          6.5748999999999995,
          6.7526,
          6.9303,
          7.108,
          7.2857,
          7.4634,
          7.6411,
          7.8187999999999995,
          7.9965,
          8.174199999999999,
          8.3519,
          8.5296,
          8.7073,
          8.885,
          9.0627,
          9.2404,
          9.418099999999999,
          9.5958,
          9.7735,
          9.9512,
          10.1289,
          10.3066,
          10.4843,
          10.661999999999999,
          10.8397,
          11.0174,
          11.1951,
          11.3728,
          11.45,
          11.5505,
          11.7282,
          11.905899999999999,
          12.0836,
          12.2613,
          12.439,
          12.6167,
          12.7944,
          12.9721,
          13.149799999999999,
          13.3275,
          13.5052,
          13.6829,
          13.8606,
          14.0383,
          14.216,
          14.393699999999999,
          14.5714,
          14.7491,
          14.9268,
          15.1045,
          15.2822,
          15.4599,
          15.637599999999999,
          15.8153,
          15.993,
          16.1707,
          16.348399999999998,
          16.5261,
          16.7038,
          16.8815,
          17.0592,
          17.2369,
          17.4146,
          17.592299999999998,
          17.77
         ],
         "xaxis": "x2",
         "y": [
          0.7165399789810181,
          0.7165399789810181,
          0.7165399789810181,
          0.7165399789810181,
          0.7165399789810181,
          0.7165399789810181,
          0.7165399789810181,
          0.7165399789810181,
          0.7165399789810181,
          0.7165399789810181,
          0.7165399789810181,
          0.7165399789810181,
          0.7165399789810181,
          0.7165399789810181,
          0.7165399789810181,
          0.7165399789810181,
          0.7165399789810181,
          0.7165399789810181,
          0.7165399789810181,
          0.7165399789810181,
          0.6652367115020752,
          0.6652367115020752,
          0.6652367115020752,
          0.6652367115020752,
          0.6652367115020752,
          0.6652367115020752,
          0.6652367115020752,
          0.6652367115020752,
          0.6652367115020752,
          0.6652367115020752,
          0.6652367115020752,
          0.6652367115020752,
          0.49058797955513,
          0.49058797955513,
          0.49058797955513,
          0.49058797955513,
          0.49058797955513,
          0.49058797955513,
          0.4761185944080353,
          0.41791629791259766,
          0.41791629791259766,
          0.4943472445011139,
          0.36520156264305115,
          0.38916265964508057,
          0.38916265964508057,
          0.39153149724006653,
          0.2492692470550537,
          0.3263445794582367,
          0.3263445794582367,
          0.39412370324134827,
          0.39412370324134827,
          0.43361982703208923,
          0.34984126687049866,
          0.37481993436813354,
          0.37481993436813354,
          0.18578089773654938,
          0.18578089773654938,
          0.18578089773654938,
          0.12204782664775848,
          0.15532271564006805,
          0.15532271564006805,
          0.1336892694234848,
          0.1336892694234848,
          0.1336892694234848,
          0.1336892694234848,
          0.1336892694234848,
          0.1336892694234848,
          0.1336892694234848,
          0.1336892694234848,
          0.1336892694234848,
          0.1336892694234848,
          0.14098671078681946,
          0.14098671078681946,
          0.14098671078681946,
          0.14098671078681946,
          0.09003258496522903,
          0.09003258496522903,
          0.09003258496522903,
          0.09003258496522903,
          0.09003258496522903,
          0.09003258496522903,
          0.09003258496522903,
          0.09003258496522903,
          0.06617365032434464,
          0.06617365032434464,
          0.06617365032434464,
          0.06617365032434464,
          0.06617365032434464,
          0.06617365032434464,
          0.06617365032434464,
          0.06617365032434464,
          0.06617365032434464,
          0.06617365032434464,
          0.06617365032434464,
          0.06617365032434464,
          0.06617365032434464,
          0.06617365032434464,
          0.06617365032434464,
          0.06617365032434464,
          0.06617365032434464,
          0.06617365032434464,
          0.06617365032434464
         ],
         "yaxis": "y2"
        },
        {
         "customdata": [
          [
           "</br>id: 1</br>prediction: 0.134</br>total_intl_minutes: 13.7</br></br>total_day_minutes: 161.6</br>total_day_charge: 27.47</br>total_eve_minutes: 195.5</br>total_eve_charge: 16.62</br>total_night_minutes: 254.4</br>total_night_charge: 11.45</br>total_intl_charge: 3.7</br>_original_yhat_: 0.1336892694234848</br>"
          ]
         ],
         "hovertemplate": "%{customdata[0]}<extra></extra>",
         "legendgroup": "",
         "marker": {
          "color": "#371ea3",
          "size": 10,
          "symbol": "circle"
         },
         "mode": "markers",
         "name": "",
         "opacity": 1,
         "orientation": "v",
         "showlegend": false,
         "type": "scatter",
         "x": [
          13.7
         ],
         "xaxis": "x",
         "y": [
          0.1336892694234848
         ],
         "yaxis": "y"
        },
        {
         "customdata": [
          [
           "</br>id: 1</br>prediction: 0.134</br>total_night_charge: 11.45</br></br>total_day_minutes: 161.6</br>total_day_charge: 27.47</br>total_eve_minutes: 195.5</br>total_eve_charge: 16.62</br>total_night_minutes: 254.4</br>total_intl_minutes: 13.7</br>total_intl_charge: 3.7</br>_original_yhat_: 0.1336892694234848</br>"
          ]
         ],
         "hovertemplate": "%{customdata[0]}<extra></extra>",
         "legendgroup": "",
         "marker": {
          "color": "#371ea3",
          "size": 10,
          "symbol": "circle"
         },
         "mode": "markers",
         "name": "",
         "opacity": 1,
         "orientation": "v",
         "showlegend": false,
         "type": "scatter",
         "x": [
          11.45
         ],
         "xaxis": "x2",
         "y": [
          0.1336892694234848
         ],
         "yaxis": "y2"
        }
       ],
       "layout": {
        "annotations": [
         {
          "font": {
           "size": 13
          },
          "showarrow": false,
          "text": "total_intl_minutes",
          "x": 0.2375,
          "xanchor": "center",
          "xref": "paper",
          "y": 1,
          "yanchor": "bottom",
          "yref": "paper"
         },
         {
          "font": {
           "size": 13
          },
          "showarrow": false,
          "text": "total_night_charge",
          "x": 0.7625,
          "xanchor": "center",
          "xref": "paper",
          "y": 1,
          "yanchor": "bottom",
          "yref": "paper"
         },
         {
          "font": {
           "size": 13
          },
          "showarrow": false,
          "text": "prediction",
          "textangle": -90,
          "x": -0.07,
          "xref": "paper",
          "y": 0.5,
          "yref": "paper"
         }
        ],
        "font": {
         "color": "#371ea3"
        },
        "height": 489,
        "hoverlabel": {
         "bgcolor": "rgba(0,0,0,0.8)"
        },
        "hovermode": "closest",
        "legend": {
         "font": {
          "size": 11
         },
         "itemsizing": "constant",
         "orientation": "h",
         "title": {
          "font": {
           "size": 12
          },
          "text": "label"
         },
         "tracegroupgap": 0,
         "x": 1,
         "xanchor": "right",
         "y": 1.0613496932515338,
         "yanchor": "bottom"
        },
        "margin": {
         "b": 71,
         "r": 30,
         "t": 78
        },
        "template": {
         "data": {
          "scatter": [
           {
            "type": "scatter"
           }
          ]
         }
        },
        "title": {
         "font": {
          "size": 16
         },
         "text": "Ceteris Paribus Profiles",
         "x": 0.15
        },
        "xaxis": {
         "anchor": "y",
         "automargin": true,
         "domain": [
          0,
          0.475
         ],
         "fixedrange": true,
         "gridwidth": 2,
         "showticklabels": true,
         "tickcolor": "white",
         "ticklen": 3,
         "ticks": "outside",
         "title": {
          "text": ""
         },
         "type": "linear",
         "zeroline": false
        },
        "xaxis2": {
         "anchor": "y2",
         "automargin": true,
         "domain": [
          0.525,
          1
         ],
         "fixedrange": true,
         "gridwidth": 2,
         "showticklabels": true,
         "tickcolor": "white",
         "ticklen": 3,
         "ticks": "outside",
         "title": {
          "text": ""
         },
         "type": "linear",
         "zeroline": false
        },
        "yaxis": {
         "anchor": "x",
         "automargin": true,
         "domain": [
          0,
          1
         ],
         "fixedrange": true,
         "gridwidth": 2,
         "range": [
          -0.07056350351776929,
          0.7880948424339295
         ],
         "tickcolor": "white",
         "ticklen": 3,
         "ticks": "outside",
         "title": {
          "text": ""
         },
         "type": "linear",
         "zeroline": false
        },
        "yaxis2": {
         "anchor": "x2",
         "automargin": true,
         "domain": [
          0,
          1
         ],
         "fixedrange": true,
         "gridwidth": 2,
         "matches": "y",
         "range": [
          -0.07056350351776929,
          0.7880948424339295
         ],
         "showticklabels": false,
         "tickcolor": "white",
         "ticklen": 3,
         "ticks": "outside",
         "title": {
          "text": ""
         },
         "type": "linear",
         "zeroline": false
        }
       }
      }
     },
     "metadata": {},
     "output_type": "display_data"
    }
   ],
   "source": [
    "cp2 = explainer.predict_profile(new_observation=observation2)\n",
    "cp2.plot(variables=['total_intl_minutes', 'total_night_charge'])"
   ]
  },
  {
   "cell_type": "markdown",
   "metadata": {},
   "source": [
    "In this observation total international minutes seem to barely matter, while a decrease in total night charge would largely increase chances of positive prediction."
   ]
  },
  {
   "cell_type": "code",
   "execution_count": 70,
   "metadata": {},
   "outputs": [
    {
     "name": "stderr",
     "output_type": "stream",
     "text": [
      "Calculating ceteris paribus: 100%|██████████| 8/8 [00:00<00:00, 408.26it/s]\n"
     ]
    },
    {
     "data": {
      "application/vnd.plotly.v1+json": {
       "config": {
        "displaylogo": false,
        "modeBarButtonsToRemove": [
         "sendDataToCloud",
         "lasso2d",
         "autoScale2d",
         "select2d",
         "zoom2d",
         "pan2d",
         "zoomIn2d",
         "zoomOut2d",
         "resetScale2d",
         "toggleSpikelines",
         "hoverCompareCartesian",
         "hoverClosestCartesian"
        ],
        "plotlyServerURL": "https://plot.ly",
        "staticPlot": false,
        "toImageButtonOptions": {
         "height": null,
         "width": null
        }
       },
       "data": [
        {
         "customdata": [
          [
           "</br>id: 5</br>prediction: 0.066</br>total_intl_minutes: 0.0</br></br>total_day_minutes: 223.4</br>total_day_charge: 37.98</br>total_eve_minutes: 220.6</br>total_eve_charge: 18.75</br>total_night_minutes: 203.9</br>total_night_charge: 9.18</br>total_intl_charge: 1.7</br>_original_yhat_: 0.147072896361351</br>"
          ],
          [
           "</br>id: 5</br>prediction: 0.066</br>total_intl_minutes: 0.2</br></br>total_day_minutes: 223.4</br>total_day_charge: 37.98</br>total_eve_minutes: 220.6</br>total_eve_charge: 18.75</br>total_night_minutes: 203.9</br>total_night_charge: 9.18</br>total_intl_charge: 1.7</br>_original_yhat_: 0.147072896361351</br>"
          ],
          [
           "</br>id: 5</br>prediction: 0.066</br>total_intl_minutes: 0.4</br></br>total_day_minutes: 223.4</br>total_day_charge: 37.98</br>total_eve_minutes: 220.6</br>total_eve_charge: 18.75</br>total_night_minutes: 203.9</br>total_night_charge: 9.18</br>total_intl_charge: 1.7</br>_original_yhat_: 0.147072896361351</br>"
          ],
          [
           "</br>id: 5</br>prediction: 0.066</br>total_intl_minutes: 0.6000000000000001</br></br>total_day_minutes: 223.4</br>total_day_charge: 37.98</br>total_eve_minutes: 220.6</br>total_eve_charge: 18.75</br>total_night_minutes: 203.9</br>total_night_charge: 9.18</br>total_intl_charge: 1.7</br>_original_yhat_: 0.147072896361351</br>"
          ],
          [
           "</br>id: 5</br>prediction: 0.066</br>total_intl_minutes: 0.8</br></br>total_day_minutes: 223.4</br>total_day_charge: 37.98</br>total_eve_minutes: 220.6</br>total_eve_charge: 18.75</br>total_night_minutes: 203.9</br>total_night_charge: 9.18</br>total_intl_charge: 1.7</br>_original_yhat_: 0.147072896361351</br>"
          ],
          [
           "</br>id: 5</br>prediction: 0.066</br>total_intl_minutes: 1.0</br></br>total_day_minutes: 223.4</br>total_day_charge: 37.98</br>total_eve_minutes: 220.6</br>total_eve_charge: 18.75</br>total_night_minutes: 203.9</br>total_night_charge: 9.18</br>total_intl_charge: 1.7</br>_original_yhat_: 0.147072896361351</br>"
          ],
          [
           "</br>id: 5</br>prediction: 0.066</br>total_intl_minutes: 1.2000000000000002</br></br>total_day_minutes: 223.4</br>total_day_charge: 37.98</br>total_eve_minutes: 220.6</br>total_eve_charge: 18.75</br>total_night_minutes: 203.9</br>total_night_charge: 9.18</br>total_intl_charge: 1.7</br>_original_yhat_: 0.147072896361351</br>"
          ],
          [
           "</br>id: 5</br>prediction: 0.066</br>total_intl_minutes: 1.4000000000000001</br></br>total_day_minutes: 223.4</br>total_day_charge: 37.98</br>total_eve_minutes: 220.6</br>total_eve_charge: 18.75</br>total_night_minutes: 203.9</br>total_night_charge: 9.18</br>total_intl_charge: 1.7</br>_original_yhat_: 0.147072896361351</br>"
          ],
          [
           "</br>id: 5</br>prediction: 0.066</br>total_intl_minutes: 1.6</br></br>total_day_minutes: 223.4</br>total_day_charge: 37.98</br>total_eve_minutes: 220.6</br>total_eve_charge: 18.75</br>total_night_minutes: 203.9</br>total_night_charge: 9.18</br>total_intl_charge: 1.7</br>_original_yhat_: 0.147072896361351</br>"
          ],
          [
           "</br>id: 5</br>prediction: 0.066</br>total_intl_minutes: 1.8</br></br>total_day_minutes: 223.4</br>total_day_charge: 37.98</br>total_eve_minutes: 220.6</br>total_eve_charge: 18.75</br>total_night_minutes: 203.9</br>total_night_charge: 9.18</br>total_intl_charge: 1.7</br>_original_yhat_: 0.147072896361351</br>"
          ],
          [
           "</br>id: 5</br>prediction: 0.066</br>total_intl_minutes: 2.0</br></br>total_day_minutes: 223.4</br>total_day_charge: 37.98</br>total_eve_minutes: 220.6</br>total_eve_charge: 18.75</br>total_night_minutes: 203.9</br>total_night_charge: 9.18</br>total_intl_charge: 1.7</br>_original_yhat_: 0.147072896361351</br>"
          ],
          [
           "</br>id: 5</br>prediction: 0.066</br>total_intl_minutes: 2.2</br></br>total_day_minutes: 223.4</br>total_day_charge: 37.98</br>total_eve_minutes: 220.6</br>total_eve_charge: 18.75</br>total_night_minutes: 203.9</br>total_night_charge: 9.18</br>total_intl_charge: 1.7</br>_original_yhat_: 0.147072896361351</br>"
          ],
          [
           "</br>id: 5</br>prediction: 0.066</br>total_intl_minutes: 2.4000000000000004</br></br>total_day_minutes: 223.4</br>total_day_charge: 37.98</br>total_eve_minutes: 220.6</br>total_eve_charge: 18.75</br>total_night_minutes: 203.9</br>total_night_charge: 9.18</br>total_intl_charge: 1.7</br>_original_yhat_: 0.147072896361351</br>"
          ],
          [
           "</br>id: 5</br>prediction: 0.066</br>total_intl_minutes: 2.6</br></br>total_day_minutes: 223.4</br>total_day_charge: 37.98</br>total_eve_minutes: 220.6</br>total_eve_charge: 18.75</br>total_night_minutes: 203.9</br>total_night_charge: 9.18</br>total_intl_charge: 1.7</br>_original_yhat_: 0.147072896361351</br>"
          ],
          [
           "</br>id: 5</br>prediction: 0.066</br>total_intl_minutes: 2.8000000000000003</br></br>total_day_minutes: 223.4</br>total_day_charge: 37.98</br>total_eve_minutes: 220.6</br>total_eve_charge: 18.75</br>total_night_minutes: 203.9</br>total_night_charge: 9.18</br>total_intl_charge: 1.7</br>_original_yhat_: 0.147072896361351</br>"
          ],
          [
           "</br>id: 5</br>prediction: 0.066</br>total_intl_minutes: 3.0</br></br>total_day_minutes: 223.4</br>total_day_charge: 37.98</br>total_eve_minutes: 220.6</br>total_eve_charge: 18.75</br>total_night_minutes: 203.9</br>total_night_charge: 9.18</br>total_intl_charge: 1.7</br>_original_yhat_: 0.147072896361351</br>"
          ],
          [
           "</br>id: 5</br>prediction: 0.066</br>total_intl_minutes: 3.2</br></br>total_day_minutes: 223.4</br>total_day_charge: 37.98</br>total_eve_minutes: 220.6</br>total_eve_charge: 18.75</br>total_night_minutes: 203.9</br>total_night_charge: 9.18</br>total_intl_charge: 1.7</br>_original_yhat_: 0.147072896361351</br>"
          ],
          [
           "</br>id: 5</br>prediction: 0.066</br>total_intl_minutes: 3.4000000000000004</br></br>total_day_minutes: 223.4</br>total_day_charge: 37.98</br>total_eve_minutes: 220.6</br>total_eve_charge: 18.75</br>total_night_minutes: 203.9</br>total_night_charge: 9.18</br>total_intl_charge: 1.7</br>_original_yhat_: 0.147072896361351</br>"
          ],
          [
           "</br>id: 5</br>prediction: 0.066</br>total_intl_minutes: 3.6</br></br>total_day_minutes: 223.4</br>total_day_charge: 37.98</br>total_eve_minutes: 220.6</br>total_eve_charge: 18.75</br>total_night_minutes: 203.9</br>total_night_charge: 9.18</br>total_intl_charge: 1.7</br>_original_yhat_: 0.147072896361351</br>"
          ],
          [
           "</br>id: 5</br>prediction: 0.066</br>total_intl_minutes: 3.8000000000000003</br></br>total_day_minutes: 223.4</br>total_day_charge: 37.98</br>total_eve_minutes: 220.6</br>total_eve_charge: 18.75</br>total_night_minutes: 203.9</br>total_night_charge: 9.18</br>total_intl_charge: 1.7</br>_original_yhat_: 0.147072896361351</br>"
          ],
          [
           "</br>id: 5</br>prediction: 0.386</br>total_intl_minutes: 4.0</br></br>total_day_minutes: 223.4</br>total_day_charge: 37.98</br>total_eve_minutes: 220.6</br>total_eve_charge: 18.75</br>total_night_minutes: 203.9</br>total_night_charge: 9.18</br>total_intl_charge: 1.7</br>_original_yhat_: 0.147072896361351</br>"
          ],
          [
           "</br>id: 5</br>prediction: 0.647</br>total_intl_minutes: 4.2</br></br>total_day_minutes: 223.4</br>total_day_charge: 37.98</br>total_eve_minutes: 220.6</br>total_eve_charge: 18.75</br>total_night_minutes: 203.9</br>total_night_charge: 9.18</br>total_intl_charge: 1.7</br>_original_yhat_: 0.147072896361351</br>"
          ],
          [
           "</br>id: 5</br>prediction: 0.508</br>total_intl_minutes: 4.4</br></br>total_day_minutes: 223.4</br>total_day_charge: 37.98</br>total_eve_minutes: 220.6</br>total_eve_charge: 18.75</br>total_night_minutes: 203.9</br>total_night_charge: 9.18</br>total_intl_charge: 1.7</br>_original_yhat_: 0.147072896361351</br>"
          ],
          [
           "</br>id: 5</br>prediction: 0.318</br>total_intl_minutes: 4.6000000000000005</br></br>total_day_minutes: 223.4</br>total_day_charge: 37.98</br>total_eve_minutes: 220.6</br>total_eve_charge: 18.75</br>total_night_minutes: 203.9</br>total_night_charge: 9.18</br>total_intl_charge: 1.7</br>_original_yhat_: 0.147072896361351</br>"
          ],
          [
           "</br>id: 5</br>prediction: 0.318</br>total_intl_minutes: 4.800000000000001</br></br>total_day_minutes: 223.4</br>total_day_charge: 37.98</br>total_eve_minutes: 220.6</br>total_eve_charge: 18.75</br>total_night_minutes: 203.9</br>total_night_charge: 9.18</br>total_intl_charge: 1.7</br>_original_yhat_: 0.147072896361351</br>"
          ],
          [
           "</br>id: 5</br>prediction: 0.318</br>total_intl_minutes: 5.0</br></br>total_day_minutes: 223.4</br>total_day_charge: 37.98</br>total_eve_minutes: 220.6</br>total_eve_charge: 18.75</br>total_night_minutes: 203.9</br>total_night_charge: 9.18</br>total_intl_charge: 1.7</br>_original_yhat_: 0.147072896361351</br>"
          ],
          [
           "</br>id: 5</br>prediction: 0.318</br>total_intl_minutes: 5.2</br></br>total_day_minutes: 223.4</br>total_day_charge: 37.98</br>total_eve_minutes: 220.6</br>total_eve_charge: 18.75</br>total_night_minutes: 203.9</br>total_night_charge: 9.18</br>total_intl_charge: 1.7</br>_original_yhat_: 0.147072896361351</br>"
          ],
          [
           "</br>id: 5</br>prediction: 0.325</br>total_intl_minutes: 5.4</br></br>total_day_minutes: 223.4</br>total_day_charge: 37.98</br>total_eve_minutes: 220.6</br>total_eve_charge: 18.75</br>total_night_minutes: 203.9</br>total_night_charge: 9.18</br>total_intl_charge: 1.7</br>_original_yhat_: 0.147072896361351</br>"
          ],
          [
           "</br>id: 5</br>prediction: 0.325</br>total_intl_minutes: 5.6000000000000005</br></br>total_day_minutes: 223.4</br>total_day_charge: 37.98</br>total_eve_minutes: 220.6</br>total_eve_charge: 18.75</br>total_night_minutes: 203.9</br>total_night_charge: 9.18</br>total_intl_charge: 1.7</br>_original_yhat_: 0.147072896361351</br>"
          ],
          [
           "</br>id: 5</br>prediction: 0.28</br>total_intl_minutes: 5.800000000000001</br></br>total_day_minutes: 223.4</br>total_day_charge: 37.98</br>total_eve_minutes: 220.6</br>total_eve_charge: 18.75</br>total_night_minutes: 203.9</br>total_night_charge: 9.18</br>total_intl_charge: 1.7</br>_original_yhat_: 0.147072896361351</br>"
          ],
          [
           "</br>id: 5</br>prediction: 0.28</br>total_intl_minutes: 6.0</br></br>total_day_minutes: 223.4</br>total_day_charge: 37.98</br>total_eve_minutes: 220.6</br>total_eve_charge: 18.75</br>total_night_minutes: 203.9</br>total_night_charge: 9.18</br>total_intl_charge: 1.7</br>_original_yhat_: 0.147072896361351</br>"
          ],
          [
           "</br>id: 5</br>prediction: 0.147</br>total_intl_minutes: 6.2</br></br>total_day_minutes: 223.4</br>total_day_charge: 37.98</br>total_eve_minutes: 220.6</br>total_eve_charge: 18.75</br>total_night_minutes: 203.9</br>total_night_charge: 9.18</br>total_intl_charge: 1.7</br>_original_yhat_: 0.147072896361351</br>"
          ],
          [
           "</br>id: 5</br>prediction: 0.147</br>total_intl_minutes: 6.3</br></br>total_day_minutes: 223.4</br>total_day_charge: 37.98</br>total_eve_minutes: 220.6</br>total_eve_charge: 18.75</br>total_night_minutes: 203.9</br>total_night_charge: 9.18</br>total_intl_charge: 1.7</br>_original_yhat_: 0.147072896361351</br>"
          ],
          [
           "</br>id: 5</br>prediction: 0.226</br>total_intl_minutes: 6.4</br></br>total_day_minutes: 223.4</br>total_day_charge: 37.98</br>total_eve_minutes: 220.6</br>total_eve_charge: 18.75</br>total_night_minutes: 203.9</br>total_night_charge: 9.18</br>total_intl_charge: 1.7</br>_original_yhat_: 0.147072896361351</br>"
          ],
          [
           "</br>id: 5</br>prediction: 0.195</br>total_intl_minutes: 6.6000000000000005</br></br>total_day_minutes: 223.4</br>total_day_charge: 37.98</br>total_eve_minutes: 220.6</br>total_eve_charge: 18.75</br>total_night_minutes: 203.9</br>total_night_charge: 9.18</br>total_intl_charge: 1.7</br>_original_yhat_: 0.147072896361351</br>"
          ],
          [
           "</br>id: 5</br>prediction: 0.103</br>total_intl_minutes: 6.800000000000001</br></br>total_day_minutes: 223.4</br>total_day_charge: 37.98</br>total_eve_minutes: 220.6</br>total_eve_charge: 18.75</br>total_night_minutes: 203.9</br>total_night_charge: 9.18</br>total_intl_charge: 1.7</br>_original_yhat_: 0.147072896361351</br>"
          ],
          [
           "</br>id: 5</br>prediction: 0.103</br>total_intl_minutes: 7.0</br></br>total_day_minutes: 223.4</br>total_day_charge: 37.98</br>total_eve_minutes: 220.6</br>total_eve_charge: 18.75</br>total_night_minutes: 203.9</br>total_night_charge: 9.18</br>total_intl_charge: 1.7</br>_original_yhat_: 0.147072896361351</br>"
          ],
          [
           "</br>id: 5</br>prediction: 0.114</br>total_intl_minutes: 7.2</br></br>total_day_minutes: 223.4</br>total_day_charge: 37.98</br>total_eve_minutes: 220.6</br>total_eve_charge: 18.75</br>total_night_minutes: 203.9</br>total_night_charge: 9.18</br>total_intl_charge: 1.7</br>_original_yhat_: 0.147072896361351</br>"
          ],
          [
           "</br>id: 5</br>prediction: 0.132</br>total_intl_minutes: 7.4</br></br>total_day_minutes: 223.4</br>total_day_charge: 37.98</br>total_eve_minutes: 220.6</br>total_eve_charge: 18.75</br>total_night_minutes: 203.9</br>total_night_charge: 9.18</br>total_intl_charge: 1.7</br>_original_yhat_: 0.147072896361351</br>"
          ],
          [
           "</br>id: 5</br>prediction: 0.132</br>total_intl_minutes: 7.6000000000000005</br></br>total_day_minutes: 223.4</br>total_day_charge: 37.98</br>total_eve_minutes: 220.6</br>total_eve_charge: 18.75</br>total_night_minutes: 203.9</br>total_night_charge: 9.18</br>total_intl_charge: 1.7</br>_original_yhat_: 0.147072896361351</br>"
          ],
          [
           "</br>id: 5</br>prediction: 0.132</br>total_intl_minutes: 7.800000000000001</br></br>total_day_minutes: 223.4</br>total_day_charge: 37.98</br>total_eve_minutes: 220.6</br>total_eve_charge: 18.75</br>total_night_minutes: 203.9</br>total_night_charge: 9.18</br>total_intl_charge: 1.7</br>_original_yhat_: 0.147072896361351</br>"
          ],
          [
           "</br>id: 5</br>prediction: 0.148</br>total_intl_minutes: 8.0</br></br>total_day_minutes: 223.4</br>total_day_charge: 37.98</br>total_eve_minutes: 220.6</br>total_eve_charge: 18.75</br>total_night_minutes: 203.9</br>total_night_charge: 9.18</br>total_intl_charge: 1.7</br>_original_yhat_: 0.147072896361351</br>"
          ],
          [
           "</br>id: 5</br>prediction: 0.156</br>total_intl_minutes: 8.200000000000001</br></br>total_day_minutes: 223.4</br>total_day_charge: 37.98</br>total_eve_minutes: 220.6</br>total_eve_charge: 18.75</br>total_night_minutes: 203.9</br>total_night_charge: 9.18</br>total_intl_charge: 1.7</br>_original_yhat_: 0.147072896361351</br>"
          ],
          [
           "</br>id: 5</br>prediction: 0.11</br>total_intl_minutes: 8.4</br></br>total_day_minutes: 223.4</br>total_day_charge: 37.98</br>total_eve_minutes: 220.6</br>total_eve_charge: 18.75</br>total_night_minutes: 203.9</br>total_night_charge: 9.18</br>total_intl_charge: 1.7</br>_original_yhat_: 0.147072896361351</br>"
          ],
          [
           "</br>id: 5</br>prediction: 0.11</br>total_intl_minutes: 8.6</br></br>total_day_minutes: 223.4</br>total_day_charge: 37.98</br>total_eve_minutes: 220.6</br>total_eve_charge: 18.75</br>total_night_minutes: 203.9</br>total_night_charge: 9.18</br>total_intl_charge: 1.7</br>_original_yhat_: 0.147072896361351</br>"
          ],
          [
           "</br>id: 5</br>prediction: 0.136</br>total_intl_minutes: 8.8</br></br>total_day_minutes: 223.4</br>total_day_charge: 37.98</br>total_eve_minutes: 220.6</br>total_eve_charge: 18.75</br>total_night_minutes: 203.9</br>total_night_charge: 9.18</br>total_intl_charge: 1.7</br>_original_yhat_: 0.147072896361351</br>"
          ],
          [
           "</br>id: 5</br>prediction: 0.099</br>total_intl_minutes: 9.0</br></br>total_day_minutes: 223.4</br>total_day_charge: 37.98</br>total_eve_minutes: 220.6</br>total_eve_charge: 18.75</br>total_night_minutes: 203.9</br>total_night_charge: 9.18</br>total_intl_charge: 1.7</br>_original_yhat_: 0.147072896361351</br>"
          ],
          [
           "</br>id: 5</br>prediction: 0.125</br>total_intl_minutes: 9.200000000000001</br></br>total_day_minutes: 223.4</br>total_day_charge: 37.98</br>total_eve_minutes: 220.6</br>total_eve_charge: 18.75</br>total_night_minutes: 203.9</br>total_night_charge: 9.18</br>total_intl_charge: 1.7</br>_original_yhat_: 0.147072896361351</br>"
          ],
          [
           "</br>id: 5</br>prediction: 0.125</br>total_intl_minutes: 9.4</br></br>total_day_minutes: 223.4</br>total_day_charge: 37.98</br>total_eve_minutes: 220.6</br>total_eve_charge: 18.75</br>total_night_minutes: 203.9</br>total_night_charge: 9.18</br>total_intl_charge: 1.7</br>_original_yhat_: 0.147072896361351</br>"
          ],
          [
           "</br>id: 5</br>prediction: 0.126</br>total_intl_minutes: 9.600000000000001</br></br>total_day_minutes: 223.4</br>total_day_charge: 37.98</br>total_eve_minutes: 220.6</br>total_eve_charge: 18.75</br>total_night_minutes: 203.9</br>total_night_charge: 9.18</br>total_intl_charge: 1.7</br>_original_yhat_: 0.147072896361351</br>"
          ],
          [
           "</br>id: 5</br>prediction: 0.058</br>total_intl_minutes: 9.8</br></br>total_day_minutes: 223.4</br>total_day_charge: 37.98</br>total_eve_minutes: 220.6</br>total_eve_charge: 18.75</br>total_night_minutes: 203.9</br>total_night_charge: 9.18</br>total_intl_charge: 1.7</br>_original_yhat_: 0.147072896361351</br>"
          ],
          [
           "</br>id: 5</br>prediction: 0.069</br>total_intl_minutes: 10.0</br></br>total_day_minutes: 223.4</br>total_day_charge: 37.98</br>total_eve_minutes: 220.6</br>total_eve_charge: 18.75</br>total_night_minutes: 203.9</br>total_night_charge: 9.18</br>total_intl_charge: 1.7</br>_original_yhat_: 0.147072896361351</br>"
          ],
          [
           "</br>id: 5</br>prediction: 0.114</br>total_intl_minutes: 10.200000000000001</br></br>total_day_minutes: 223.4</br>total_day_charge: 37.98</br>total_eve_minutes: 220.6</br>total_eve_charge: 18.75</br>total_night_minutes: 203.9</br>total_night_charge: 9.18</br>total_intl_charge: 1.7</br>_original_yhat_: 0.147072896361351</br>"
          ],
          [
           "</br>id: 5</br>prediction: 0.114</br>total_intl_minutes: 10.4</br></br>total_day_minutes: 223.4</br>total_day_charge: 37.98</br>total_eve_minutes: 220.6</br>total_eve_charge: 18.75</br>total_night_minutes: 203.9</br>total_night_charge: 9.18</br>total_intl_charge: 1.7</br>_original_yhat_: 0.147072896361351</br>"
          ],
          [
           "</br>id: 5</br>prediction: 0.14</br>total_intl_minutes: 10.600000000000001</br></br>total_day_minutes: 223.4</br>total_day_charge: 37.98</br>total_eve_minutes: 220.6</br>total_eve_charge: 18.75</br>total_night_minutes: 203.9</br>total_night_charge: 9.18</br>total_intl_charge: 1.7</br>_original_yhat_: 0.147072896361351</br>"
          ],
          [
           "</br>id: 5</br>prediction: 0.113</br>total_intl_minutes: 10.8</br></br>total_day_minutes: 223.4</br>total_day_charge: 37.98</br>total_eve_minutes: 220.6</br>total_eve_charge: 18.75</br>total_night_minutes: 203.9</br>total_night_charge: 9.18</br>total_intl_charge: 1.7</br>_original_yhat_: 0.147072896361351</br>"
          ],
          [
           "</br>id: 5</br>prediction: 0.115</br>total_intl_minutes: 11.0</br></br>total_day_minutes: 223.4</br>total_day_charge: 37.98</br>total_eve_minutes: 220.6</br>total_eve_charge: 18.75</br>total_night_minutes: 203.9</br>total_night_charge: 9.18</br>total_intl_charge: 1.7</br>_original_yhat_: 0.147072896361351</br>"
          ],
          [
           "</br>id: 5</br>prediction: 0.081</br>total_intl_minutes: 11.200000000000001</br></br>total_day_minutes: 223.4</br>total_day_charge: 37.98</br>total_eve_minutes: 220.6</br>total_eve_charge: 18.75</br>total_night_minutes: 203.9</br>total_night_charge: 9.18</br>total_intl_charge: 1.7</br>_original_yhat_: 0.147072896361351</br>"
          ],
          [
           "</br>id: 5</br>prediction: 0.086</br>total_intl_minutes: 11.4</br></br>total_day_minutes: 223.4</br>total_day_charge: 37.98</br>total_eve_minutes: 220.6</br>total_eve_charge: 18.75</br>total_night_minutes: 203.9</br>total_night_charge: 9.18</br>total_intl_charge: 1.7</br>_original_yhat_: 0.147072896361351</br>"
          ],
          [
           "</br>id: 5</br>prediction: 0.09</br>total_intl_minutes: 11.600000000000001</br></br>total_day_minutes: 223.4</br>total_day_charge: 37.98</br>total_eve_minutes: 220.6</br>total_eve_charge: 18.75</br>total_night_minutes: 203.9</br>total_night_charge: 9.18</br>total_intl_charge: 1.7</br>_original_yhat_: 0.147072896361351</br>"
          ],
          [
           "</br>id: 5</br>prediction: 0.069</br>total_intl_minutes: 11.8</br></br>total_day_minutes: 223.4</br>total_day_charge: 37.98</br>total_eve_minutes: 220.6</br>total_eve_charge: 18.75</br>total_night_minutes: 203.9</br>total_night_charge: 9.18</br>total_intl_charge: 1.7</br>_original_yhat_: 0.147072896361351</br>"
          ],
          [
           "</br>id: 5</br>prediction: 0.092</br>total_intl_minutes: 12.0</br></br>total_day_minutes: 223.4</br>total_day_charge: 37.98</br>total_eve_minutes: 220.6</br>total_eve_charge: 18.75</br>total_night_minutes: 203.9</br>total_night_charge: 9.18</br>total_intl_charge: 1.7</br>_original_yhat_: 0.147072896361351</br>"
          ],
          [
           "</br>id: 5</br>prediction: 0.106</br>total_intl_minutes: 12.200000000000001</br></br>total_day_minutes: 223.4</br>total_day_charge: 37.98</br>total_eve_minutes: 220.6</br>total_eve_charge: 18.75</br>total_night_minutes: 203.9</br>total_night_charge: 9.18</br>total_intl_charge: 1.7</br>_original_yhat_: 0.147072896361351</br>"
          ],
          [
           "</br>id: 5</br>prediction: 0.134</br>total_intl_minutes: 12.4</br></br>total_day_minutes: 223.4</br>total_day_charge: 37.98</br>total_eve_minutes: 220.6</br>total_eve_charge: 18.75</br>total_night_minutes: 203.9</br>total_night_charge: 9.18</br>total_intl_charge: 1.7</br>_original_yhat_: 0.147072896361351</br>"
          ],
          [
           "</br>id: 5</br>prediction: 0.081</br>total_intl_minutes: 12.600000000000001</br></br>total_day_minutes: 223.4</br>total_day_charge: 37.98</br>total_eve_minutes: 220.6</br>total_eve_charge: 18.75</br>total_night_minutes: 203.9</br>total_night_charge: 9.18</br>total_intl_charge: 1.7</br>_original_yhat_: 0.147072896361351</br>"
          ],
          [
           "</br>id: 5</br>prediction: 0.081</br>total_intl_minutes: 12.8</br></br>total_day_minutes: 223.4</br>total_day_charge: 37.98</br>total_eve_minutes: 220.6</br>total_eve_charge: 18.75</br>total_night_minutes: 203.9</br>total_night_charge: 9.18</br>total_intl_charge: 1.7</br>_original_yhat_: 0.147072896361351</br>"
          ],
          [
           "</br>id: 5</br>prediction: 0.044</br>total_intl_minutes: 13.0</br></br>total_day_minutes: 223.4</br>total_day_charge: 37.98</br>total_eve_minutes: 220.6</br>total_eve_charge: 18.75</br>total_night_minutes: 203.9</br>total_night_charge: 9.18</br>total_intl_charge: 1.7</br>_original_yhat_: 0.147072896361351</br>"
          ],
          [
           "</br>id: 5</br>prediction: 0.566</br>total_intl_minutes: 13.200000000000001</br></br>total_day_minutes: 223.4</br>total_day_charge: 37.98</br>total_eve_minutes: 220.6</br>total_eve_charge: 18.75</br>total_night_minutes: 203.9</br>total_night_charge: 9.18</br>total_intl_charge: 1.7</br>_original_yhat_: 0.147072896361351</br>"
          ],
          [
           "</br>id: 5</br>prediction: 0.662</br>total_intl_minutes: 13.4</br></br>total_day_minutes: 223.4</br>total_day_charge: 37.98</br>total_eve_minutes: 220.6</br>total_eve_charge: 18.75</br>total_night_minutes: 203.9</br>total_night_charge: 9.18</br>total_intl_charge: 1.7</br>_original_yhat_: 0.147072896361351</br>"
          ],
          [
           "</br>id: 5</br>prediction: 0.517</br>total_intl_minutes: 13.600000000000001</br></br>total_day_minutes: 223.4</br>total_day_charge: 37.98</br>total_eve_minutes: 220.6</br>total_eve_charge: 18.75</br>total_night_minutes: 203.9</br>total_night_charge: 9.18</br>total_intl_charge: 1.7</br>_original_yhat_: 0.147072896361351</br>"
          ],
          [
           "</br>id: 5</br>prediction: 0.44</br>total_intl_minutes: 13.8</br></br>total_day_minutes: 223.4</br>total_day_charge: 37.98</br>total_eve_minutes: 220.6</br>total_eve_charge: 18.75</br>total_night_minutes: 203.9</br>total_night_charge: 9.18</br>total_intl_charge: 1.7</br>_original_yhat_: 0.147072896361351</br>"
          ],
          [
           "</br>id: 5</br>prediction: 0.614</br>total_intl_minutes: 14.0</br></br>total_day_minutes: 223.4</br>total_day_charge: 37.98</br>total_eve_minutes: 220.6</br>total_eve_charge: 18.75</br>total_night_minutes: 203.9</br>total_night_charge: 9.18</br>total_intl_charge: 1.7</br>_original_yhat_: 0.147072896361351</br>"
          ],
          [
           "</br>id: 5</br>prediction: 0.614</br>total_intl_minutes: 14.200000000000001</br></br>total_day_minutes: 223.4</br>total_day_charge: 37.98</br>total_eve_minutes: 220.6</br>total_eve_charge: 18.75</br>total_night_minutes: 203.9</br>total_night_charge: 9.18</br>total_intl_charge: 1.7</br>_original_yhat_: 0.147072896361351</br>"
          ],
          [
           "</br>id: 5</br>prediction: 0.557</br>total_intl_minutes: 14.4</br></br>total_day_minutes: 223.4</br>total_day_charge: 37.98</br>total_eve_minutes: 220.6</br>total_eve_charge: 18.75</br>total_night_minutes: 203.9</br>total_night_charge: 9.18</br>total_intl_charge: 1.7</br>_original_yhat_: 0.147072896361351</br>"
          ],
          [
           "</br>id: 5</br>prediction: 0.491</br>total_intl_minutes: 14.600000000000001</br></br>total_day_minutes: 223.4</br>total_day_charge: 37.98</br>total_eve_minutes: 220.6</br>total_eve_charge: 18.75</br>total_night_minutes: 203.9</br>total_night_charge: 9.18</br>total_intl_charge: 1.7</br>_original_yhat_: 0.147072896361351</br>"
          ],
          [
           "</br>id: 5</br>prediction: 0.604</br>total_intl_minutes: 14.8</br></br>total_day_minutes: 223.4</br>total_day_charge: 37.98</br>total_eve_minutes: 220.6</br>total_eve_charge: 18.75</br>total_night_minutes: 203.9</br>total_night_charge: 9.18</br>total_intl_charge: 1.7</br>_original_yhat_: 0.147072896361351</br>"
          ],
          [
           "</br>id: 5</br>prediction: 0.651</br>total_intl_minutes: 15.0</br></br>total_day_minutes: 223.4</br>total_day_charge: 37.98</br>total_eve_minutes: 220.6</br>total_eve_charge: 18.75</br>total_night_minutes: 203.9</br>total_night_charge: 9.18</br>total_intl_charge: 1.7</br>_original_yhat_: 0.147072896361351</br>"
          ],
          [
           "</br>id: 5</br>prediction: 0.651</br>total_intl_minutes: 15.200000000000001</br></br>total_day_minutes: 223.4</br>total_day_charge: 37.98</br>total_eve_minutes: 220.6</br>total_eve_charge: 18.75</br>total_night_minutes: 203.9</br>total_night_charge: 9.18</br>total_intl_charge: 1.7</br>_original_yhat_: 0.147072896361351</br>"
          ],
          [
           "</br>id: 5</br>prediction: 0.515</br>total_intl_minutes: 15.4</br></br>total_day_minutes: 223.4</br>total_day_charge: 37.98</br>total_eve_minutes: 220.6</br>total_eve_charge: 18.75</br>total_night_minutes: 203.9</br>total_night_charge: 9.18</br>total_intl_charge: 1.7</br>_original_yhat_: 0.147072896361351</br>"
          ],
          [
           "</br>id: 5</br>prediction: 0.524</br>total_intl_minutes: 15.600000000000001</br></br>total_day_minutes: 223.4</br>total_day_charge: 37.98</br>total_eve_minutes: 220.6</br>total_eve_charge: 18.75</br>total_night_minutes: 203.9</br>total_night_charge: 9.18</br>total_intl_charge: 1.7</br>_original_yhat_: 0.147072896361351</br>"
          ],
          [
           "</br>id: 5</br>prediction: 0.353</br>total_intl_minutes: 15.8</br></br>total_day_minutes: 223.4</br>total_day_charge: 37.98</br>total_eve_minutes: 220.6</br>total_eve_charge: 18.75</br>total_night_minutes: 203.9</br>total_night_charge: 9.18</br>total_intl_charge: 1.7</br>_original_yhat_: 0.147072896361351</br>"
          ],
          [
           "</br>id: 5</br>prediction: 0.352</br>total_intl_minutes: 16.0</br></br>total_day_minutes: 223.4</br>total_day_charge: 37.98</br>total_eve_minutes: 220.6</br>total_eve_charge: 18.75</br>total_night_minutes: 203.9</br>total_night_charge: 9.18</br>total_intl_charge: 1.7</br>_original_yhat_: 0.147072896361351</br>"
          ],
          [
           "</br>id: 5</br>prediction: 0.352</br>total_intl_minutes: 16.2</br></br>total_day_minutes: 223.4</br>total_day_charge: 37.98</br>total_eve_minutes: 220.6</br>total_eve_charge: 18.75</br>total_night_minutes: 203.9</br>total_night_charge: 9.18</br>total_intl_charge: 1.7</br>_original_yhat_: 0.147072896361351</br>"
          ],
          [
           "</br>id: 5</br>prediction: 0.489</br>total_intl_minutes: 16.400000000000002</br></br>total_day_minutes: 223.4</br>total_day_charge: 37.98</br>total_eve_minutes: 220.6</br>total_eve_charge: 18.75</br>total_night_minutes: 203.9</br>total_night_charge: 9.18</br>total_intl_charge: 1.7</br>_original_yhat_: 0.147072896361351</br>"
          ],
          [
           "</br>id: 5</br>prediction: 0.89</br>total_intl_minutes: 16.6</br></br>total_day_minutes: 223.4</br>total_day_charge: 37.98</br>total_eve_minutes: 220.6</br>total_eve_charge: 18.75</br>total_night_minutes: 203.9</br>total_night_charge: 9.18</br>total_intl_charge: 1.7</br>_original_yhat_: 0.147072896361351</br>"
          ],
          [
           "</br>id: 5</br>prediction: 0.975</br>total_intl_minutes: 16.8</br></br>total_day_minutes: 223.4</br>total_day_charge: 37.98</br>total_eve_minutes: 220.6</br>total_eve_charge: 18.75</br>total_night_minutes: 203.9</br>total_night_charge: 9.18</br>total_intl_charge: 1.7</br>_original_yhat_: 0.147072896361351</br>"
          ],
          [
           "</br>id: 5</br>prediction: 0.975</br>total_intl_minutes: 17.0</br></br>total_day_minutes: 223.4</br>total_day_charge: 37.98</br>total_eve_minutes: 220.6</br>total_eve_charge: 18.75</br>total_night_minutes: 203.9</br>total_night_charge: 9.18</br>total_intl_charge: 1.7</br>_original_yhat_: 0.147072896361351</br>"
          ],
          [
           "</br>id: 5</br>prediction: 0.975</br>total_intl_minutes: 17.2</br></br>total_day_minutes: 223.4</br>total_day_charge: 37.98</br>total_eve_minutes: 220.6</br>total_eve_charge: 18.75</br>total_night_minutes: 203.9</br>total_night_charge: 9.18</br>total_intl_charge: 1.7</br>_original_yhat_: 0.147072896361351</br>"
          ],
          [
           "</br>id: 5</br>prediction: 0.975</br>total_intl_minutes: 17.400000000000002</br></br>total_day_minutes: 223.4</br>total_day_charge: 37.98</br>total_eve_minutes: 220.6</br>total_eve_charge: 18.75</br>total_night_minutes: 203.9</br>total_night_charge: 9.18</br>total_intl_charge: 1.7</br>_original_yhat_: 0.147072896361351</br>"
          ],
          [
           "</br>id: 5</br>prediction: 0.969</br>total_intl_minutes: 17.6</br></br>total_day_minutes: 223.4</br>total_day_charge: 37.98</br>total_eve_minutes: 220.6</br>total_eve_charge: 18.75</br>total_night_minutes: 203.9</br>total_night_charge: 9.18</br>total_intl_charge: 1.7</br>_original_yhat_: 0.147072896361351</br>"
          ],
          [
           "</br>id: 5</br>prediction: 0.969</br>total_intl_minutes: 17.8</br></br>total_day_minutes: 223.4</br>total_day_charge: 37.98</br>total_eve_minutes: 220.6</br>total_eve_charge: 18.75</br>total_night_minutes: 203.9</br>total_night_charge: 9.18</br>total_intl_charge: 1.7</br>_original_yhat_: 0.147072896361351</br>"
          ],
          [
           "</br>id: 5</br>prediction: 0.969</br>total_intl_minutes: 18.0</br></br>total_day_minutes: 223.4</br>total_day_charge: 37.98</br>total_eve_minutes: 220.6</br>total_eve_charge: 18.75</br>total_night_minutes: 203.9</br>total_night_charge: 9.18</br>total_intl_charge: 1.7</br>_original_yhat_: 0.147072896361351</br>"
          ],
          [
           "</br>id: 5</br>prediction: 0.969</br>total_intl_minutes: 18.2</br></br>total_day_minutes: 223.4</br>total_day_charge: 37.98</br>total_eve_minutes: 220.6</br>total_eve_charge: 18.75</br>total_night_minutes: 203.9</br>total_night_charge: 9.18</br>total_intl_charge: 1.7</br>_original_yhat_: 0.147072896361351</br>"
          ],
          [
           "</br>id: 5</br>prediction: 0.968</br>total_intl_minutes: 18.400000000000002</br></br>total_day_minutes: 223.4</br>total_day_charge: 37.98</br>total_eve_minutes: 220.6</br>total_eve_charge: 18.75</br>total_night_minutes: 203.9</br>total_night_charge: 9.18</br>total_intl_charge: 1.7</br>_original_yhat_: 0.147072896361351</br>"
          ],
          [
           "</br>id: 5</br>prediction: 0.968</br>total_intl_minutes: 18.6</br></br>total_day_minutes: 223.4</br>total_day_charge: 37.98</br>total_eve_minutes: 220.6</br>total_eve_charge: 18.75</br>total_night_minutes: 203.9</br>total_night_charge: 9.18</br>total_intl_charge: 1.7</br>_original_yhat_: 0.147072896361351</br>"
          ],
          [
           "</br>id: 5</br>prediction: 0.968</br>total_intl_minutes: 18.8</br></br>total_day_minutes: 223.4</br>total_day_charge: 37.98</br>total_eve_minutes: 220.6</br>total_eve_charge: 18.75</br>total_night_minutes: 203.9</br>total_night_charge: 9.18</br>total_intl_charge: 1.7</br>_original_yhat_: 0.147072896361351</br>"
          ],
          [
           "</br>id: 5</br>prediction: 0.968</br>total_intl_minutes: 19.0</br></br>total_day_minutes: 223.4</br>total_day_charge: 37.98</br>total_eve_minutes: 220.6</br>total_eve_charge: 18.75</br>total_night_minutes: 203.9</br>total_night_charge: 9.18</br>total_intl_charge: 1.7</br>_original_yhat_: 0.147072896361351</br>"
          ],
          [
           "</br>id: 5</br>prediction: 0.968</br>total_intl_minutes: 19.200000000000003</br></br>total_day_minutes: 223.4</br>total_day_charge: 37.98</br>total_eve_minutes: 220.6</br>total_eve_charge: 18.75</br>total_night_minutes: 203.9</br>total_night_charge: 9.18</br>total_intl_charge: 1.7</br>_original_yhat_: 0.147072896361351</br>"
          ],
          [
           "</br>id: 5</br>prediction: 0.968</br>total_intl_minutes: 19.400000000000002</br></br>total_day_minutes: 223.4</br>total_day_charge: 37.98</br>total_eve_minutes: 220.6</br>total_eve_charge: 18.75</br>total_night_minutes: 203.9</br>total_night_charge: 9.18</br>total_intl_charge: 1.7</br>_original_yhat_: 0.147072896361351</br>"
          ],
          [
           "</br>id: 5</br>prediction: 0.968</br>total_intl_minutes: 19.6</br></br>total_day_minutes: 223.4</br>total_day_charge: 37.98</br>total_eve_minutes: 220.6</br>total_eve_charge: 18.75</br>total_night_minutes: 203.9</br>total_night_charge: 9.18</br>total_intl_charge: 1.7</br>_original_yhat_: 0.147072896361351</br>"
          ],
          [
           "</br>id: 5</br>prediction: 0.968</br>total_intl_minutes: 19.8</br></br>total_day_minutes: 223.4</br>total_day_charge: 37.98</br>total_eve_minutes: 220.6</br>total_eve_charge: 18.75</br>total_night_minutes: 203.9</br>total_night_charge: 9.18</br>total_intl_charge: 1.7</br>_original_yhat_: 0.147072896361351</br>"
          ],
          [
           "</br>id: 5</br>prediction: 0.968</br>total_intl_minutes: 20.0</br></br>total_day_minutes: 223.4</br>total_day_charge: 37.98</br>total_eve_minutes: 220.6</br>total_eve_charge: 18.75</br>total_night_minutes: 203.9</br>total_night_charge: 9.18</br>total_intl_charge: 1.7</br>_original_yhat_: 0.147072896361351</br>"
          ]
         ],
         "hovertemplate": "%{customdata[0]}<extra></extra>",
         "legendgroup": "XGBClassifier",
         "line": {
          "color": "#46bac2",
          "dash": "solid",
          "width": 2
         },
         "marker": {
          "symbol": "circle"
         },
         "mode": "lines",
         "name": "XGBClassifier",
         "opacity": 1,
         "orientation": "v",
         "showlegend": true,
         "type": "scatter",
         "x": [
          0,
          0.2,
          0.4,
          0.6000000000000001,
          0.8,
          1,
          1.2000000000000002,
          1.4000000000000001,
          1.6,
          1.8,
          2,
          2.2,
          2.4000000000000004,
          2.6,
          2.8000000000000003,
          3,
          3.2,
          3.4000000000000004,
          3.6,
          3.8000000000000003,
          4,
          4.2,
          4.4,
          4.6000000000000005,
          4.800000000000001,
          5,
          5.2,
          5.4,
          5.6000000000000005,
          5.800000000000001,
          6,
          6.2,
          6.3,
          6.4,
          6.6000000000000005,
          6.800000000000001,
          7,
          7.2,
          7.4,
          7.6000000000000005,
          7.800000000000001,
          8,
          8.200000000000001,
          8.4,
          8.6,
          8.8,
          9,
          9.200000000000001,
          9.4,
          9.600000000000001,
          9.8,
          10,
          10.200000000000001,
          10.4,
          10.600000000000001,
          10.8,
          11,
          11.200000000000001,
          11.4,
          11.600000000000001,
          11.8,
          12,
          12.200000000000001,
          12.4,
          12.600000000000001,
          12.8,
          13,
          13.200000000000001,
          13.4,
          13.600000000000001,
          13.8,
          14,
          14.200000000000001,
          14.4,
          14.600000000000001,
          14.8,
          15,
          15.200000000000001,
          15.4,
          15.600000000000001,
          15.8,
          16,
          16.2,
          16.400000000000002,
          16.6,
          16.8,
          17,
          17.2,
          17.400000000000002,
          17.6,
          17.8,
          18,
          18.2,
          18.400000000000002,
          18.6,
          18.8,
          19,
          19.200000000000003,
          19.400000000000002,
          19.6,
          19.8,
          20
         ],
         "xaxis": "x",
         "y": [
          0.06555580347776413,
          0.06555580347776413,
          0.06555580347776413,
          0.06555580347776413,
          0.06555580347776413,
          0.06555580347776413,
          0.06555580347776413,
          0.06555580347776413,
          0.06555580347776413,
          0.06555580347776413,
          0.06555580347776413,
          0.06555580347776413,
          0.06555580347776413,
          0.06555580347776413,
          0.06555580347776413,
          0.06555580347776413,
          0.06555580347776413,
          0.06555580347776413,
          0.06555580347776413,
          0.06555580347776413,
          0.3861140012741089,
          0.6467540860176086,
          0.5075598359107971,
          0.31772077083587646,
          0.31772077083587646,
          0.31772077083587646,
          0.31772077083587646,
          0.32519960403442383,
          0.32519960403442383,
          0.2799838185310364,
          0.2799838185310364,
          0.147072896361351,
          0.147072896361351,
          0.22646567225456238,
          0.19505830109119415,
          0.1030518114566803,
          0.1030518114566803,
          0.11422561854124069,
          0.13246235251426697,
          0.13246235251426697,
          0.13246235251426697,
          0.1481405645608902,
          0.15645857155323029,
          0.11036604642868042,
          0.11036604642868042,
          0.135545551776886,
          0.09908348321914673,
          0.12491787225008011,
          0.12491787225008011,
          0.12605416774749756,
          0.05835763365030289,
          0.06851566582918167,
          0.11445789039134979,
          0.11445789039134979,
          0.140338733792305,
          0.11322563141584396,
          0.11462216824293137,
          0.0809469074010849,
          0.08568635582923889,
          0.08981426805257797,
          0.0687275379896164,
          0.09201917797327042,
          0.10557809472084045,
          0.13446573913097382,
          0.08125530928373337,
          0.08125530928373337,
          0.04371834546327591,
          0.5657147765159607,
          0.6621019840240479,
          0.5169390439987183,
          0.4404967129230499,
          0.6144083142280579,
          0.6144083142280579,
          0.557179868221283,
          0.49118173122406006,
          0.6035007834434509,
          0.6507850885391235,
          0.6507850885391235,
          0.5152232646942139,
          0.5241799354553223,
          0.3527596890926361,
          0.35224780440330505,
          0.35224780440330505,
          0.4891211688518524,
          0.8901945948600769,
          0.9747664332389832,
          0.9747664332389832,
          0.9747664332389832,
          0.9747664332389832,
          0.9692888855934143,
          0.9692888855934143,
          0.9692888855934143,
          0.9692888855934143,
          0.9680407047271729,
          0.9680407047271729,
          0.9680407047271729,
          0.9680407047271729,
          0.9680407047271729,
          0.9680407047271729,
          0.9680407047271729,
          0.9680407047271729,
          0.9680407047271729
         ],
         "yaxis": "y"
        },
        {
         "customdata": [
          [
           "</br>id: 5</br>prediction: 0.142</br>total_night_charge: 0.0</br></br>total_day_minutes: 223.4</br>total_day_charge: 37.98</br>total_eve_minutes: 220.6</br>total_eve_charge: 18.75</br>total_night_minutes: 203.9</br>total_intl_minutes: 6.3</br>total_intl_charge: 1.7</br>_original_yhat_: 0.147072896361351</br>"
          ],
          [
           "</br>id: 5</br>prediction: 0.142</br>total_night_charge: 0.1777</br></br>total_day_minutes: 223.4</br>total_day_charge: 37.98</br>total_eve_minutes: 220.6</br>total_eve_charge: 18.75</br>total_night_minutes: 203.9</br>total_intl_minutes: 6.3</br>total_intl_charge: 1.7</br>_original_yhat_: 0.147072896361351</br>"
          ],
          [
           "</br>id: 5</br>prediction: 0.142</br>total_night_charge: 0.3554</br></br>total_day_minutes: 223.4</br>total_day_charge: 37.98</br>total_eve_minutes: 220.6</br>total_eve_charge: 18.75</br>total_night_minutes: 203.9</br>total_intl_minutes: 6.3</br>total_intl_charge: 1.7</br>_original_yhat_: 0.147072896361351</br>"
          ],
          [
           "</br>id: 5</br>prediction: 0.142</br>total_night_charge: 0.5331</br></br>total_day_minutes: 223.4</br>total_day_charge: 37.98</br>total_eve_minutes: 220.6</br>total_eve_charge: 18.75</br>total_night_minutes: 203.9</br>total_intl_minutes: 6.3</br>total_intl_charge: 1.7</br>_original_yhat_: 0.147072896361351</br>"
          ],
          [
           "</br>id: 5</br>prediction: 0.142</br>total_night_charge: 0.7108</br></br>total_day_minutes: 223.4</br>total_day_charge: 37.98</br>total_eve_minutes: 220.6</br>total_eve_charge: 18.75</br>total_night_minutes: 203.9</br>total_intl_minutes: 6.3</br>total_intl_charge: 1.7</br>_original_yhat_: 0.147072896361351</br>"
          ],
          [
           "</br>id: 5</br>prediction: 0.142</br>total_night_charge: 0.8885</br></br>total_day_minutes: 223.4</br>total_day_charge: 37.98</br>total_eve_minutes: 220.6</br>total_eve_charge: 18.75</br>total_night_minutes: 203.9</br>total_intl_minutes: 6.3</br>total_intl_charge: 1.7</br>_original_yhat_: 0.147072896361351</br>"
          ],
          [
           "</br>id: 5</br>prediction: 0.142</br>total_night_charge: 1.0662</br></br>total_day_minutes: 223.4</br>total_day_charge: 37.98</br>total_eve_minutes: 220.6</br>total_eve_charge: 18.75</br>total_night_minutes: 203.9</br>total_intl_minutes: 6.3</br>total_intl_charge: 1.7</br>_original_yhat_: 0.147072896361351</br>"
          ],
          [
           "</br>id: 5</br>prediction: 0.142</br>total_night_charge: 1.2439</br></br>total_day_minutes: 223.4</br>total_day_charge: 37.98</br>total_eve_minutes: 220.6</br>total_eve_charge: 18.75</br>total_night_minutes: 203.9</br>total_intl_minutes: 6.3</br>total_intl_charge: 1.7</br>_original_yhat_: 0.147072896361351</br>"
          ],
          [
           "</br>id: 5</br>prediction: 0.142</br>total_night_charge: 1.4216</br></br>total_day_minutes: 223.4</br>total_day_charge: 37.98</br>total_eve_minutes: 220.6</br>total_eve_charge: 18.75</br>total_night_minutes: 203.9</br>total_intl_minutes: 6.3</br>total_intl_charge: 1.7</br>_original_yhat_: 0.147072896361351</br>"
          ],
          [
           "</br>id: 5</br>prediction: 0.142</br>total_night_charge: 1.5993</br></br>total_day_minutes: 223.4</br>total_day_charge: 37.98</br>total_eve_minutes: 220.6</br>total_eve_charge: 18.75</br>total_night_minutes: 203.9</br>total_intl_minutes: 6.3</br>total_intl_charge: 1.7</br>_original_yhat_: 0.147072896361351</br>"
          ],
          [
           "</br>id: 5</br>prediction: 0.142</br>total_night_charge: 1.777</br></br>total_day_minutes: 223.4</br>total_day_charge: 37.98</br>total_eve_minutes: 220.6</br>total_eve_charge: 18.75</br>total_night_minutes: 203.9</br>total_intl_minutes: 6.3</br>total_intl_charge: 1.7</br>_original_yhat_: 0.147072896361351</br>"
          ],
          [
           "</br>id: 5</br>prediction: 0.142</br>total_night_charge: 1.9546999999999999</br></br>total_day_minutes: 223.4</br>total_day_charge: 37.98</br>total_eve_minutes: 220.6</br>total_eve_charge: 18.75</br>total_night_minutes: 203.9</br>total_intl_minutes: 6.3</br>total_intl_charge: 1.7</br>_original_yhat_: 0.147072896361351</br>"
          ],
          [
           "</br>id: 5</br>prediction: 0.142</br>total_night_charge: 2.1324</br></br>total_day_minutes: 223.4</br>total_day_charge: 37.98</br>total_eve_minutes: 220.6</br>total_eve_charge: 18.75</br>total_night_minutes: 203.9</br>total_intl_minutes: 6.3</br>total_intl_charge: 1.7</br>_original_yhat_: 0.147072896361351</br>"
          ],
          [
           "</br>id: 5</br>prediction: 0.142</br>total_night_charge: 2.3101</br></br>total_day_minutes: 223.4</br>total_day_charge: 37.98</br>total_eve_minutes: 220.6</br>total_eve_charge: 18.75</br>total_night_minutes: 203.9</br>total_intl_minutes: 6.3</br>total_intl_charge: 1.7</br>_original_yhat_: 0.147072896361351</br>"
          ],
          [
           "</br>id: 5</br>prediction: 0.142</br>total_night_charge: 2.4878</br></br>total_day_minutes: 223.4</br>total_day_charge: 37.98</br>total_eve_minutes: 220.6</br>total_eve_charge: 18.75</br>total_night_minutes: 203.9</br>total_intl_minutes: 6.3</br>total_intl_charge: 1.7</br>_original_yhat_: 0.147072896361351</br>"
          ],
          [
           "</br>id: 5</br>prediction: 0.142</br>total_night_charge: 2.6654999999999998</br></br>total_day_minutes: 223.4</br>total_day_charge: 37.98</br>total_eve_minutes: 220.6</br>total_eve_charge: 18.75</br>total_night_minutes: 203.9</br>total_intl_minutes: 6.3</br>total_intl_charge: 1.7</br>_original_yhat_: 0.147072896361351</br>"
          ],
          [
           "</br>id: 5</br>prediction: 0.142</br>total_night_charge: 2.8432</br></br>total_day_minutes: 223.4</br>total_day_charge: 37.98</br>total_eve_minutes: 220.6</br>total_eve_charge: 18.75</br>total_night_minutes: 203.9</br>total_intl_minutes: 6.3</br>total_intl_charge: 1.7</br>_original_yhat_: 0.147072896361351</br>"
          ],
          [
           "</br>id: 5</br>prediction: 0.142</br>total_night_charge: 3.0209</br></br>total_day_minutes: 223.4</br>total_day_charge: 37.98</br>total_eve_minutes: 220.6</br>total_eve_charge: 18.75</br>total_night_minutes: 203.9</br>total_intl_minutes: 6.3</br>total_intl_charge: 1.7</br>_original_yhat_: 0.147072896361351</br>"
          ],
          [
           "</br>id: 5</br>prediction: 0.142</br>total_night_charge: 3.1986</br></br>total_day_minutes: 223.4</br>total_day_charge: 37.98</br>total_eve_minutes: 220.6</br>total_eve_charge: 18.75</br>total_night_minutes: 203.9</br>total_intl_minutes: 6.3</br>total_intl_charge: 1.7</br>_original_yhat_: 0.147072896361351</br>"
          ],
          [
           "</br>id: 5</br>prediction: 0.142</br>total_night_charge: 3.3763</br></br>total_day_minutes: 223.4</br>total_day_charge: 37.98</br>total_eve_minutes: 220.6</br>total_eve_charge: 18.75</br>total_night_minutes: 203.9</br>total_intl_minutes: 6.3</br>total_intl_charge: 1.7</br>_original_yhat_: 0.147072896361351</br>"
          ],
          [
           "</br>id: 5</br>prediction: 0.127</br>total_night_charge: 3.554</br></br>total_day_minutes: 223.4</br>total_day_charge: 37.98</br>total_eve_minutes: 220.6</br>total_eve_charge: 18.75</br>total_night_minutes: 203.9</br>total_intl_minutes: 6.3</br>total_intl_charge: 1.7</br>_original_yhat_: 0.147072896361351</br>"
          ],
          [
           "</br>id: 5</br>prediction: 0.127</br>total_night_charge: 3.7317</br></br>total_day_minutes: 223.4</br>total_day_charge: 37.98</br>total_eve_minutes: 220.6</br>total_eve_charge: 18.75</br>total_night_minutes: 203.9</br>total_intl_minutes: 6.3</br>total_intl_charge: 1.7</br>_original_yhat_: 0.147072896361351</br>"
          ],
          [
           "</br>id: 5</br>prediction: 0.127</br>total_night_charge: 3.9093999999999998</br></br>total_day_minutes: 223.4</br>total_day_charge: 37.98</br>total_eve_minutes: 220.6</br>total_eve_charge: 18.75</br>total_night_minutes: 203.9</br>total_intl_minutes: 6.3</br>total_intl_charge: 1.7</br>_original_yhat_: 0.147072896361351</br>"
          ],
          [
           "</br>id: 5</br>prediction: 0.127</br>total_night_charge: 4.0870999999999995</br></br>total_day_minutes: 223.4</br>total_day_charge: 37.98</br>total_eve_minutes: 220.6</br>total_eve_charge: 18.75</br>total_night_minutes: 203.9</br>total_intl_minutes: 6.3</br>total_intl_charge: 1.7</br>_original_yhat_: 0.147072896361351</br>"
          ],
          [
           "</br>id: 5</br>prediction: 0.127</br>total_night_charge: 4.2648</br></br>total_day_minutes: 223.4</br>total_day_charge: 37.98</br>total_eve_minutes: 220.6</br>total_eve_charge: 18.75</br>total_night_minutes: 203.9</br>total_intl_minutes: 6.3</br>total_intl_charge: 1.7</br>_original_yhat_: 0.147072896361351</br>"
          ],
          [
           "</br>id: 5</br>prediction: 0.127</br>total_night_charge: 4.4425</br></br>total_day_minutes: 223.4</br>total_day_charge: 37.98</br>total_eve_minutes: 220.6</br>total_eve_charge: 18.75</br>total_night_minutes: 203.9</br>total_intl_minutes: 6.3</br>total_intl_charge: 1.7</br>_original_yhat_: 0.147072896361351</br>"
          ],
          [
           "</br>id: 5</br>prediction: 0.127</br>total_night_charge: 4.6202</br></br>total_day_minutes: 223.4</br>total_day_charge: 37.98</br>total_eve_minutes: 220.6</br>total_eve_charge: 18.75</br>total_night_minutes: 203.9</br>total_intl_minutes: 6.3</br>total_intl_charge: 1.7</br>_original_yhat_: 0.147072896361351</br>"
          ],
          [
           "</br>id: 5</br>prediction: 0.127</br>total_night_charge: 4.7979</br></br>total_day_minutes: 223.4</br>total_day_charge: 37.98</br>total_eve_minutes: 220.6</br>total_eve_charge: 18.75</br>total_night_minutes: 203.9</br>total_intl_minutes: 6.3</br>total_intl_charge: 1.7</br>_original_yhat_: 0.147072896361351</br>"
          ],
          [
           "</br>id: 5</br>prediction: 0.127</br>total_night_charge: 4.9756</br></br>total_day_minutes: 223.4</br>total_day_charge: 37.98</br>total_eve_minutes: 220.6</br>total_eve_charge: 18.75</br>total_night_minutes: 203.9</br>total_intl_minutes: 6.3</br>total_intl_charge: 1.7</br>_original_yhat_: 0.147072896361351</br>"
          ],
          [
           "</br>id: 5</br>prediction: 0.127</br>total_night_charge: 5.1533</br></br>total_day_minutes: 223.4</br>total_day_charge: 37.98</br>total_eve_minutes: 220.6</br>total_eve_charge: 18.75</br>total_night_minutes: 203.9</br>total_intl_minutes: 6.3</br>total_intl_charge: 1.7</br>_original_yhat_: 0.147072896361351</br>"
          ],
          [
           "</br>id: 5</br>prediction: 0.127</br>total_night_charge: 5.3309999999999995</br></br>total_day_minutes: 223.4</br>total_day_charge: 37.98</br>total_eve_minutes: 220.6</br>total_eve_charge: 18.75</br>total_night_minutes: 203.9</br>total_intl_minutes: 6.3</br>total_intl_charge: 1.7</br>_original_yhat_: 0.147072896361351</br>"
          ],
          [
           "</br>id: 5</br>prediction: 0.127</br>total_night_charge: 5.5087</br></br>total_day_minutes: 223.4</br>total_day_charge: 37.98</br>total_eve_minutes: 220.6</br>total_eve_charge: 18.75</br>total_night_minutes: 203.9</br>total_intl_minutes: 6.3</br>total_intl_charge: 1.7</br>_original_yhat_: 0.147072896361351</br>"
          ],
          [
           "</br>id: 5</br>prediction: 0.098</br>total_night_charge: 5.6864</br></br>total_day_minutes: 223.4</br>total_day_charge: 37.98</br>total_eve_minutes: 220.6</br>total_eve_charge: 18.75</br>total_night_minutes: 203.9</br>total_intl_minutes: 6.3</br>total_intl_charge: 1.7</br>_original_yhat_: 0.147072896361351</br>"
          ],
          [
           "</br>id: 5</br>prediction: 0.098</br>total_night_charge: 5.8641</br></br>total_day_minutes: 223.4</br>total_day_charge: 37.98</br>total_eve_minutes: 220.6</br>total_eve_charge: 18.75</br>total_night_minutes: 203.9</br>total_intl_minutes: 6.3</br>total_intl_charge: 1.7</br>_original_yhat_: 0.147072896361351</br>"
          ],
          [
           "</br>id: 5</br>prediction: 0.098</br>total_night_charge: 6.0418</br></br>total_day_minutes: 223.4</br>total_day_charge: 37.98</br>total_eve_minutes: 220.6</br>total_eve_charge: 18.75</br>total_night_minutes: 203.9</br>total_intl_minutes: 6.3</br>total_intl_charge: 1.7</br>_original_yhat_: 0.147072896361351</br>"
          ],
          [
           "</br>id: 5</br>prediction: 0.098</br>total_night_charge: 6.2195</br></br>total_day_minutes: 223.4</br>total_day_charge: 37.98</br>total_eve_minutes: 220.6</br>total_eve_charge: 18.75</br>total_night_minutes: 203.9</br>total_intl_minutes: 6.3</br>total_intl_charge: 1.7</br>_original_yhat_: 0.147072896361351</br>"
          ],
          [
           "</br>id: 5</br>prediction: 0.098</br>total_night_charge: 6.3972</br></br>total_day_minutes: 223.4</br>total_day_charge: 37.98</br>total_eve_minutes: 220.6</br>total_eve_charge: 18.75</br>total_night_minutes: 203.9</br>total_intl_minutes: 6.3</br>total_intl_charge: 1.7</br>_original_yhat_: 0.147072896361351</br>"
          ],
          [
           "</br>id: 5</br>prediction: 0.098</br>total_night_charge: 6.5748999999999995</br></br>total_day_minutes: 223.4</br>total_day_charge: 37.98</br>total_eve_minutes: 220.6</br>total_eve_charge: 18.75</br>total_night_minutes: 203.9</br>total_intl_minutes: 6.3</br>total_intl_charge: 1.7</br>_original_yhat_: 0.147072896361351</br>"
          ],
          [
           "</br>id: 5</br>prediction: 0.093</br>total_night_charge: 6.7526</br></br>total_day_minutes: 223.4</br>total_day_charge: 37.98</br>total_eve_minutes: 220.6</br>total_eve_charge: 18.75</br>total_night_minutes: 203.9</br>total_intl_minutes: 6.3</br>total_intl_charge: 1.7</br>_original_yhat_: 0.147072896361351</br>"
          ],
          [
           "</br>id: 5</br>prediction: 0.068</br>total_night_charge: 6.9303</br></br>total_day_minutes: 223.4</br>total_day_charge: 37.98</br>total_eve_minutes: 220.6</br>total_eve_charge: 18.75</br>total_night_minutes: 203.9</br>total_intl_minutes: 6.3</br>total_intl_charge: 1.7</br>_original_yhat_: 0.147072896361351</br>"
          ],
          [
           "</br>id: 5</br>prediction: 0.068</br>total_night_charge: 7.108</br></br>total_day_minutes: 223.4</br>total_day_charge: 37.98</br>total_eve_minutes: 220.6</br>total_eve_charge: 18.75</br>total_night_minutes: 203.9</br>total_intl_minutes: 6.3</br>total_intl_charge: 1.7</br>_original_yhat_: 0.147072896361351</br>"
          ],
          [
           "</br>id: 5</br>prediction: 0.07</br>total_night_charge: 7.2857</br></br>total_day_minutes: 223.4</br>total_day_charge: 37.98</br>total_eve_minutes: 220.6</br>total_eve_charge: 18.75</br>total_night_minutes: 203.9</br>total_intl_minutes: 6.3</br>total_intl_charge: 1.7</br>_original_yhat_: 0.147072896361351</br>"
          ],
          [
           "</br>id: 5</br>prediction: 0.059</br>total_night_charge: 7.4634</br></br>total_day_minutes: 223.4</br>total_day_charge: 37.98</br>total_eve_minutes: 220.6</br>total_eve_charge: 18.75</br>total_night_minutes: 203.9</br>total_intl_minutes: 6.3</br>total_intl_charge: 1.7</br>_original_yhat_: 0.147072896361351</br>"
          ],
          [
           "</br>id: 5</br>prediction: 0.107</br>total_night_charge: 7.6411</br></br>total_day_minutes: 223.4</br>total_day_charge: 37.98</br>total_eve_minutes: 220.6</br>total_eve_charge: 18.75</br>total_night_minutes: 203.9</br>total_intl_minutes: 6.3</br>total_intl_charge: 1.7</br>_original_yhat_: 0.147072896361351</br>"
          ],
          [
           "</br>id: 5</br>prediction: 0.107</br>total_night_charge: 7.8187999999999995</br></br>total_day_minutes: 223.4</br>total_day_charge: 37.98</br>total_eve_minutes: 220.6</br>total_eve_charge: 18.75</br>total_night_minutes: 203.9</br>total_intl_minutes: 6.3</br>total_intl_charge: 1.7</br>_original_yhat_: 0.147072896361351</br>"
          ],
          [
           "</br>id: 5</br>prediction: 0.091</br>total_night_charge: 7.9965</br></br>total_day_minutes: 223.4</br>total_day_charge: 37.98</br>total_eve_minutes: 220.6</br>total_eve_charge: 18.75</br>total_night_minutes: 203.9</br>total_intl_minutes: 6.3</br>total_intl_charge: 1.7</br>_original_yhat_: 0.147072896361351</br>"
          ],
          [
           "</br>id: 5</br>prediction: 0.055</br>total_night_charge: 8.174199999999999</br></br>total_day_minutes: 223.4</br>total_day_charge: 37.98</br>total_eve_minutes: 220.6</br>total_eve_charge: 18.75</br>total_night_minutes: 203.9</br>total_intl_minutes: 6.3</br>total_intl_charge: 1.7</br>_original_yhat_: 0.147072896361351</br>"
          ],
          [
           "</br>id: 5</br>prediction: 0.079</br>total_night_charge: 8.3519</br></br>total_day_minutes: 223.4</br>total_day_charge: 37.98</br>total_eve_minutes: 220.6</br>total_eve_charge: 18.75</br>total_night_minutes: 203.9</br>total_intl_minutes: 6.3</br>total_intl_charge: 1.7</br>_original_yhat_: 0.147072896361351</br>"
          ],
          [
           "</br>id: 5</br>prediction: 0.079</br>total_night_charge: 8.5296</br></br>total_day_minutes: 223.4</br>total_day_charge: 37.98</br>total_eve_minutes: 220.6</br>total_eve_charge: 18.75</br>total_night_minutes: 203.9</br>total_intl_minutes: 6.3</br>total_intl_charge: 1.7</br>_original_yhat_: 0.147072896361351</br>"
          ],
          [
           "</br>id: 5</br>prediction: 0.079</br>total_night_charge: 8.7073</br></br>total_day_minutes: 223.4</br>total_day_charge: 37.98</br>total_eve_minutes: 220.6</br>total_eve_charge: 18.75</br>total_night_minutes: 203.9</br>total_intl_minutes: 6.3</br>total_intl_charge: 1.7</br>_original_yhat_: 0.147072896361351</br>"
          ],
          [
           "</br>id: 5</br>prediction: 0.079</br>total_night_charge: 8.885</br></br>total_day_minutes: 223.4</br>total_day_charge: 37.98</br>total_eve_minutes: 220.6</br>total_eve_charge: 18.75</br>total_night_minutes: 203.9</br>total_intl_minutes: 6.3</br>total_intl_charge: 1.7</br>_original_yhat_: 0.147072896361351</br>"
          ],
          [
           "</br>id: 5</br>prediction: 0.097</br>total_night_charge: 9.0627</br></br>total_day_minutes: 223.4</br>total_day_charge: 37.98</br>total_eve_minutes: 220.6</br>total_eve_charge: 18.75</br>total_night_minutes: 203.9</br>total_intl_minutes: 6.3</br>total_intl_charge: 1.7</br>_original_yhat_: 0.147072896361351</br>"
          ],
          [
           "</br>id: 5</br>prediction: 0.147</br>total_night_charge: 9.18</br></br>total_day_minutes: 223.4</br>total_day_charge: 37.98</br>total_eve_minutes: 220.6</br>total_eve_charge: 18.75</br>total_night_minutes: 203.9</br>total_intl_minutes: 6.3</br>total_intl_charge: 1.7</br>_original_yhat_: 0.147072896361351</br>"
          ],
          [
           "</br>id: 5</br>prediction: 0.054</br>total_night_charge: 9.2404</br></br>total_day_minutes: 223.4</br>total_day_charge: 37.98</br>total_eve_minutes: 220.6</br>total_eve_charge: 18.75</br>total_night_minutes: 203.9</br>total_intl_minutes: 6.3</br>total_intl_charge: 1.7</br>_original_yhat_: 0.147072896361351</br>"
          ],
          [
           "</br>id: 5</br>prediction: 0.083</br>total_night_charge: 9.418099999999999</br></br>total_day_minutes: 223.4</br>total_day_charge: 37.98</br>total_eve_minutes: 220.6</br>total_eve_charge: 18.75</br>total_night_minutes: 203.9</br>total_intl_minutes: 6.3</br>total_intl_charge: 1.7</br>_original_yhat_: 0.147072896361351</br>"
          ],
          [
           "</br>id: 5</br>prediction: 0.083</br>total_night_charge: 9.5958</br></br>total_day_minutes: 223.4</br>total_day_charge: 37.98</br>total_eve_minutes: 220.6</br>total_eve_charge: 18.75</br>total_night_minutes: 203.9</br>total_intl_minutes: 6.3</br>total_intl_charge: 1.7</br>_original_yhat_: 0.147072896361351</br>"
          ],
          [
           "</br>id: 5</br>prediction: 0.074</br>total_night_charge: 9.7735</br></br>total_day_minutes: 223.4</br>total_day_charge: 37.98</br>total_eve_minutes: 220.6</br>total_eve_charge: 18.75</br>total_night_minutes: 203.9</br>total_intl_minutes: 6.3</br>total_intl_charge: 1.7</br>_original_yhat_: 0.147072896361351</br>"
          ],
          [
           "</br>id: 5</br>prediction: 0.074</br>total_night_charge: 9.9512</br></br>total_day_minutes: 223.4</br>total_day_charge: 37.98</br>total_eve_minutes: 220.6</br>total_eve_charge: 18.75</br>total_night_minutes: 203.9</br>total_intl_minutes: 6.3</br>total_intl_charge: 1.7</br>_original_yhat_: 0.147072896361351</br>"
          ],
          [
           "</br>id: 5</br>prediction: 0.074</br>total_night_charge: 10.1289</br></br>total_day_minutes: 223.4</br>total_day_charge: 37.98</br>total_eve_minutes: 220.6</br>total_eve_charge: 18.75</br>total_night_minutes: 203.9</br>total_intl_minutes: 6.3</br>total_intl_charge: 1.7</br>_original_yhat_: 0.147072896361351</br>"
          ],
          [
           "</br>id: 5</br>prediction: 0.044</br>total_night_charge: 10.3066</br></br>total_day_minutes: 223.4</br>total_day_charge: 37.98</br>total_eve_minutes: 220.6</br>total_eve_charge: 18.75</br>total_night_minutes: 203.9</br>total_intl_minutes: 6.3</br>total_intl_charge: 1.7</br>_original_yhat_: 0.147072896361351</br>"
          ],
          [
           "</br>id: 5</br>prediction: 0.043</br>total_night_charge: 10.4843</br></br>total_day_minutes: 223.4</br>total_day_charge: 37.98</br>total_eve_minutes: 220.6</br>total_eve_charge: 18.75</br>total_night_minutes: 203.9</br>total_intl_minutes: 6.3</br>total_intl_charge: 1.7</br>_original_yhat_: 0.147072896361351</br>"
          ],
          [
           "</br>id: 5</br>prediction: 0.043</br>total_night_charge: 10.661999999999999</br></br>total_day_minutes: 223.4</br>total_day_charge: 37.98</br>total_eve_minutes: 220.6</br>total_eve_charge: 18.75</br>total_night_minutes: 203.9</br>total_intl_minutes: 6.3</br>total_intl_charge: 1.7</br>_original_yhat_: 0.147072896361351</br>"
          ],
          [
           "</br>id: 5</br>prediction: 0.043</br>total_night_charge: 10.8397</br></br>total_day_minutes: 223.4</br>total_day_charge: 37.98</br>total_eve_minutes: 220.6</br>total_eve_charge: 18.75</br>total_night_minutes: 203.9</br>total_intl_minutes: 6.3</br>total_intl_charge: 1.7</br>_original_yhat_: 0.147072896361351</br>"
          ],
          [
           "</br>id: 5</br>prediction: 0.04</br>total_night_charge: 11.0174</br></br>total_day_minutes: 223.4</br>total_day_charge: 37.98</br>total_eve_minutes: 220.6</br>total_eve_charge: 18.75</br>total_night_minutes: 203.9</br>total_intl_minutes: 6.3</br>total_intl_charge: 1.7</br>_original_yhat_: 0.147072896361351</br>"
          ],
          [
           "</br>id: 5</br>prediction: 0.04</br>total_night_charge: 11.1951</br></br>total_day_minutes: 223.4</br>total_day_charge: 37.98</br>total_eve_minutes: 220.6</br>total_eve_charge: 18.75</br>total_night_minutes: 203.9</br>total_intl_minutes: 6.3</br>total_intl_charge: 1.7</br>_original_yhat_: 0.147072896361351</br>"
          ],
          [
           "</br>id: 5</br>prediction: 0.04</br>total_night_charge: 11.3728</br></br>total_day_minutes: 223.4</br>total_day_charge: 37.98</br>total_eve_minutes: 220.6</br>total_eve_charge: 18.75</br>total_night_minutes: 203.9</br>total_intl_minutes: 6.3</br>total_intl_charge: 1.7</br>_original_yhat_: 0.147072896361351</br>"
          ],
          [
           "</br>id: 5</br>prediction: 0.04</br>total_night_charge: 11.5505</br></br>total_day_minutes: 223.4</br>total_day_charge: 37.98</br>total_eve_minutes: 220.6</br>total_eve_charge: 18.75</br>total_night_minutes: 203.9</br>total_intl_minutes: 6.3</br>total_intl_charge: 1.7</br>_original_yhat_: 0.147072896361351</br>"
          ],
          [
           "</br>id: 5</br>prediction: 0.04</br>total_night_charge: 11.7282</br></br>total_day_minutes: 223.4</br>total_day_charge: 37.98</br>total_eve_minutes: 220.6</br>total_eve_charge: 18.75</br>total_night_minutes: 203.9</br>total_intl_minutes: 6.3</br>total_intl_charge: 1.7</br>_original_yhat_: 0.147072896361351</br>"
          ],
          [
           "</br>id: 5</br>prediction: 0.04</br>total_night_charge: 11.905899999999999</br></br>total_day_minutes: 223.4</br>total_day_charge: 37.98</br>total_eve_minutes: 220.6</br>total_eve_charge: 18.75</br>total_night_minutes: 203.9</br>total_intl_minutes: 6.3</br>total_intl_charge: 1.7</br>_original_yhat_: 0.147072896361351</br>"
          ],
          [
           "</br>id: 5</br>prediction: 0.04</br>total_night_charge: 12.0836</br></br>total_day_minutes: 223.4</br>total_day_charge: 37.98</br>total_eve_minutes: 220.6</br>total_eve_charge: 18.75</br>total_night_minutes: 203.9</br>total_intl_minutes: 6.3</br>total_intl_charge: 1.7</br>_original_yhat_: 0.147072896361351</br>"
          ],
          [
           "</br>id: 5</br>prediction: 0.04</br>total_night_charge: 12.2613</br></br>total_day_minutes: 223.4</br>total_day_charge: 37.98</br>total_eve_minutes: 220.6</br>total_eve_charge: 18.75</br>total_night_minutes: 203.9</br>total_intl_minutes: 6.3</br>total_intl_charge: 1.7</br>_original_yhat_: 0.147072896361351</br>"
          ],
          [
           "</br>id: 5</br>prediction: 0.056</br>total_night_charge: 12.439</br></br>total_day_minutes: 223.4</br>total_day_charge: 37.98</br>total_eve_minutes: 220.6</br>total_eve_charge: 18.75</br>total_night_minutes: 203.9</br>total_intl_minutes: 6.3</br>total_intl_charge: 1.7</br>_original_yhat_: 0.147072896361351</br>"
          ],
          [
           "</br>id: 5</br>prediction: 0.056</br>total_night_charge: 12.6167</br></br>total_day_minutes: 223.4</br>total_day_charge: 37.98</br>total_eve_minutes: 220.6</br>total_eve_charge: 18.75</br>total_night_minutes: 203.9</br>total_intl_minutes: 6.3</br>total_intl_charge: 1.7</br>_original_yhat_: 0.147072896361351</br>"
          ],
          [
           "</br>id: 5</br>prediction: 0.056</br>total_night_charge: 12.7944</br></br>total_day_minutes: 223.4</br>total_day_charge: 37.98</br>total_eve_minutes: 220.6</br>total_eve_charge: 18.75</br>total_night_minutes: 203.9</br>total_intl_minutes: 6.3</br>total_intl_charge: 1.7</br>_original_yhat_: 0.147072896361351</br>"
          ],
          [
           "</br>id: 5</br>prediction: 0.056</br>total_night_charge: 12.9721</br></br>total_day_minutes: 223.4</br>total_day_charge: 37.98</br>total_eve_minutes: 220.6</br>total_eve_charge: 18.75</br>total_night_minutes: 203.9</br>total_intl_minutes: 6.3</br>total_intl_charge: 1.7</br>_original_yhat_: 0.147072896361351</br>"
          ],
          [
           "</br>id: 5</br>prediction: 0.025</br>total_night_charge: 13.149799999999999</br></br>total_day_minutes: 223.4</br>total_day_charge: 37.98</br>total_eve_minutes: 220.6</br>total_eve_charge: 18.75</br>total_night_minutes: 203.9</br>total_intl_minutes: 6.3</br>total_intl_charge: 1.7</br>_original_yhat_: 0.147072896361351</br>"
          ],
          [
           "</br>id: 5</br>prediction: 0.025</br>total_night_charge: 13.3275</br></br>total_day_minutes: 223.4</br>total_day_charge: 37.98</br>total_eve_minutes: 220.6</br>total_eve_charge: 18.75</br>total_night_minutes: 203.9</br>total_intl_minutes: 6.3</br>total_intl_charge: 1.7</br>_original_yhat_: 0.147072896361351</br>"
          ],
          [
           "</br>id: 5</br>prediction: 0.025</br>total_night_charge: 13.5052</br></br>total_day_minutes: 223.4</br>total_day_charge: 37.98</br>total_eve_minutes: 220.6</br>total_eve_charge: 18.75</br>total_night_minutes: 203.9</br>total_intl_minutes: 6.3</br>total_intl_charge: 1.7</br>_original_yhat_: 0.147072896361351</br>"
          ],
          [
           "</br>id: 5</br>prediction: 0.025</br>total_night_charge: 13.6829</br></br>total_day_minutes: 223.4</br>total_day_charge: 37.98</br>total_eve_minutes: 220.6</br>total_eve_charge: 18.75</br>total_night_minutes: 203.9</br>total_intl_minutes: 6.3</br>total_intl_charge: 1.7</br>_original_yhat_: 0.147072896361351</br>"
          ],
          [
           "</br>id: 5</br>prediction: 0.025</br>total_night_charge: 13.8606</br></br>total_day_minutes: 223.4</br>total_day_charge: 37.98</br>total_eve_minutes: 220.6</br>total_eve_charge: 18.75</br>total_night_minutes: 203.9</br>total_intl_minutes: 6.3</br>total_intl_charge: 1.7</br>_original_yhat_: 0.147072896361351</br>"
          ],
          [
           "</br>id: 5</br>prediction: 0.025</br>total_night_charge: 14.0383</br></br>total_day_minutes: 223.4</br>total_day_charge: 37.98</br>total_eve_minutes: 220.6</br>total_eve_charge: 18.75</br>total_night_minutes: 203.9</br>total_intl_minutes: 6.3</br>total_intl_charge: 1.7</br>_original_yhat_: 0.147072896361351</br>"
          ],
          [
           "</br>id: 5</br>prediction: 0.025</br>total_night_charge: 14.216</br></br>total_day_minutes: 223.4</br>total_day_charge: 37.98</br>total_eve_minutes: 220.6</br>total_eve_charge: 18.75</br>total_night_minutes: 203.9</br>total_intl_minutes: 6.3</br>total_intl_charge: 1.7</br>_original_yhat_: 0.147072896361351</br>"
          ],
          [
           "</br>id: 5</br>prediction: 0.025</br>total_night_charge: 14.393699999999999</br></br>total_day_minutes: 223.4</br>total_day_charge: 37.98</br>total_eve_minutes: 220.6</br>total_eve_charge: 18.75</br>total_night_minutes: 203.9</br>total_intl_minutes: 6.3</br>total_intl_charge: 1.7</br>_original_yhat_: 0.147072896361351</br>"
          ],
          [
           "</br>id: 5</br>prediction: 0.028</br>total_night_charge: 14.5714</br></br>total_day_minutes: 223.4</br>total_day_charge: 37.98</br>total_eve_minutes: 220.6</br>total_eve_charge: 18.75</br>total_night_minutes: 203.9</br>total_intl_minutes: 6.3</br>total_intl_charge: 1.7</br>_original_yhat_: 0.147072896361351</br>"
          ],
          [
           "</br>id: 5</br>prediction: 0.028</br>total_night_charge: 14.7491</br></br>total_day_minutes: 223.4</br>total_day_charge: 37.98</br>total_eve_minutes: 220.6</br>total_eve_charge: 18.75</br>total_night_minutes: 203.9</br>total_intl_minutes: 6.3</br>total_intl_charge: 1.7</br>_original_yhat_: 0.147072896361351</br>"
          ],
          [
           "</br>id: 5</br>prediction: 0.028</br>total_night_charge: 14.9268</br></br>total_day_minutes: 223.4</br>total_day_charge: 37.98</br>total_eve_minutes: 220.6</br>total_eve_charge: 18.75</br>total_night_minutes: 203.9</br>total_intl_minutes: 6.3</br>total_intl_charge: 1.7</br>_original_yhat_: 0.147072896361351</br>"
          ],
          [
           "</br>id: 5</br>prediction: 0.028</br>total_night_charge: 15.1045</br></br>total_day_minutes: 223.4</br>total_day_charge: 37.98</br>total_eve_minutes: 220.6</br>total_eve_charge: 18.75</br>total_night_minutes: 203.9</br>total_intl_minutes: 6.3</br>total_intl_charge: 1.7</br>_original_yhat_: 0.147072896361351</br>"
          ],
          [
           "</br>id: 5</br>prediction: 0.028</br>total_night_charge: 15.2822</br></br>total_day_minutes: 223.4</br>total_day_charge: 37.98</br>total_eve_minutes: 220.6</br>total_eve_charge: 18.75</br>total_night_minutes: 203.9</br>total_intl_minutes: 6.3</br>total_intl_charge: 1.7</br>_original_yhat_: 0.147072896361351</br>"
          ],
          [
           "</br>id: 5</br>prediction: 0.028</br>total_night_charge: 15.4599</br></br>total_day_minutes: 223.4</br>total_day_charge: 37.98</br>total_eve_minutes: 220.6</br>total_eve_charge: 18.75</br>total_night_minutes: 203.9</br>total_intl_minutes: 6.3</br>total_intl_charge: 1.7</br>_original_yhat_: 0.147072896361351</br>"
          ],
          [
           "</br>id: 5</br>prediction: 0.028</br>total_night_charge: 15.637599999999999</br></br>total_day_minutes: 223.4</br>total_day_charge: 37.98</br>total_eve_minutes: 220.6</br>total_eve_charge: 18.75</br>total_night_minutes: 203.9</br>total_intl_minutes: 6.3</br>total_intl_charge: 1.7</br>_original_yhat_: 0.147072896361351</br>"
          ],
          [
           "</br>id: 5</br>prediction: 0.028</br>total_night_charge: 15.8153</br></br>total_day_minutes: 223.4</br>total_day_charge: 37.98</br>total_eve_minutes: 220.6</br>total_eve_charge: 18.75</br>total_night_minutes: 203.9</br>total_intl_minutes: 6.3</br>total_intl_charge: 1.7</br>_original_yhat_: 0.147072896361351</br>"
          ],
          [
           "</br>id: 5</br>prediction: 0.028</br>total_night_charge: 15.993</br></br>total_day_minutes: 223.4</br>total_day_charge: 37.98</br>total_eve_minutes: 220.6</br>total_eve_charge: 18.75</br>total_night_minutes: 203.9</br>total_intl_minutes: 6.3</br>total_intl_charge: 1.7</br>_original_yhat_: 0.147072896361351</br>"
          ],
          [
           "</br>id: 5</br>prediction: 0.028</br>total_night_charge: 16.1707</br></br>total_day_minutes: 223.4</br>total_day_charge: 37.98</br>total_eve_minutes: 220.6</br>total_eve_charge: 18.75</br>total_night_minutes: 203.9</br>total_intl_minutes: 6.3</br>total_intl_charge: 1.7</br>_original_yhat_: 0.147072896361351</br>"
          ],
          [
           "</br>id: 5</br>prediction: 0.028</br>total_night_charge: 16.348399999999998</br></br>total_day_minutes: 223.4</br>total_day_charge: 37.98</br>total_eve_minutes: 220.6</br>total_eve_charge: 18.75</br>total_night_minutes: 203.9</br>total_intl_minutes: 6.3</br>total_intl_charge: 1.7</br>_original_yhat_: 0.147072896361351</br>"
          ],
          [
           "</br>id: 5</br>prediction: 0.028</br>total_night_charge: 16.5261</br></br>total_day_minutes: 223.4</br>total_day_charge: 37.98</br>total_eve_minutes: 220.6</br>total_eve_charge: 18.75</br>total_night_minutes: 203.9</br>total_intl_minutes: 6.3</br>total_intl_charge: 1.7</br>_original_yhat_: 0.147072896361351</br>"
          ],
          [
           "</br>id: 5</br>prediction: 0.028</br>total_night_charge: 16.7038</br></br>total_day_minutes: 223.4</br>total_day_charge: 37.98</br>total_eve_minutes: 220.6</br>total_eve_charge: 18.75</br>total_night_minutes: 203.9</br>total_intl_minutes: 6.3</br>total_intl_charge: 1.7</br>_original_yhat_: 0.147072896361351</br>"
          ],
          [
           "</br>id: 5</br>prediction: 0.028</br>total_night_charge: 16.8815</br></br>total_day_minutes: 223.4</br>total_day_charge: 37.98</br>total_eve_minutes: 220.6</br>total_eve_charge: 18.75</br>total_night_minutes: 203.9</br>total_intl_minutes: 6.3</br>total_intl_charge: 1.7</br>_original_yhat_: 0.147072896361351</br>"
          ],
          [
           "</br>id: 5</br>prediction: 0.028</br>total_night_charge: 17.0592</br></br>total_day_minutes: 223.4</br>total_day_charge: 37.98</br>total_eve_minutes: 220.6</br>total_eve_charge: 18.75</br>total_night_minutes: 203.9</br>total_intl_minutes: 6.3</br>total_intl_charge: 1.7</br>_original_yhat_: 0.147072896361351</br>"
          ],
          [
           "</br>id: 5</br>prediction: 0.028</br>total_night_charge: 17.2369</br></br>total_day_minutes: 223.4</br>total_day_charge: 37.98</br>total_eve_minutes: 220.6</br>total_eve_charge: 18.75</br>total_night_minutes: 203.9</br>total_intl_minutes: 6.3</br>total_intl_charge: 1.7</br>_original_yhat_: 0.147072896361351</br>"
          ],
          [
           "</br>id: 5</br>prediction: 0.028</br>total_night_charge: 17.4146</br></br>total_day_minutes: 223.4</br>total_day_charge: 37.98</br>total_eve_minutes: 220.6</br>total_eve_charge: 18.75</br>total_night_minutes: 203.9</br>total_intl_minutes: 6.3</br>total_intl_charge: 1.7</br>_original_yhat_: 0.147072896361351</br>"
          ],
          [
           "</br>id: 5</br>prediction: 0.028</br>total_night_charge: 17.592299999999998</br></br>total_day_minutes: 223.4</br>total_day_charge: 37.98</br>total_eve_minutes: 220.6</br>total_eve_charge: 18.75</br>total_night_minutes: 203.9</br>total_intl_minutes: 6.3</br>total_intl_charge: 1.7</br>_original_yhat_: 0.147072896361351</br>"
          ],
          [
           "</br>id: 5</br>prediction: 0.028</br>total_night_charge: 17.77</br></br>total_day_minutes: 223.4</br>total_day_charge: 37.98</br>total_eve_minutes: 220.6</br>total_eve_charge: 18.75</br>total_night_minutes: 203.9</br>total_intl_minutes: 6.3</br>total_intl_charge: 1.7</br>_original_yhat_: 0.147072896361351</br>"
          ]
         ],
         "hovertemplate": "%{customdata[0]}<extra></extra>",
         "legendgroup": "XGBClassifier",
         "line": {
          "color": "#46bac2",
          "dash": "solid",
          "width": 2
         },
         "marker": {
          "symbol": "circle"
         },
         "mode": "lines",
         "name": "XGBClassifier",
         "opacity": 1,
         "orientation": "v",
         "showlegend": false,
         "type": "scatter",
         "x": [
          0,
          0.1777,
          0.3554,
          0.5331,
          0.7108,
          0.8885,
          1.0662,
          1.2439,
          1.4216,
          1.5993,
          1.777,
          1.9546999999999999,
          2.1324,
          2.3101,
          2.4878,
          2.6654999999999998,
          2.8432,
          3.0209,
          3.1986,
          3.3763,
          3.554,
          3.7317,
          3.9093999999999998,
          4.0870999999999995,
          4.2648,
          4.4425,
          4.6202,
          4.7979,
          4.9756,
          5.1533,
          5.3309999999999995,
          5.5087,
          5.6864,
          5.8641,
          6.0418,
          6.2195,
          6.3972,
          6.5748999999999995,
          6.7526,
          6.9303,
          7.108,
          7.2857,
          7.4634,
          7.6411,
          7.8187999999999995,
          7.9965,
          8.174199999999999,
          8.3519,
          8.5296,
          8.7073,
          8.885,
          9.0627,
          9.18,
          9.2404,
          9.418099999999999,
          9.5958,
          9.7735,
          9.9512,
          10.1289,
          10.3066,
          10.4843,
          10.661999999999999,
          10.8397,
          11.0174,
          11.1951,
          11.3728,
          11.5505,
          11.7282,
          11.905899999999999,
          12.0836,
          12.2613,
          12.439,
          12.6167,
          12.7944,
          12.9721,
          13.149799999999999,
          13.3275,
          13.5052,
          13.6829,
          13.8606,
          14.0383,
          14.216,
          14.393699999999999,
          14.5714,
          14.7491,
          14.9268,
          15.1045,
          15.2822,
          15.4599,
          15.637599999999999,
          15.8153,
          15.993,
          16.1707,
          16.348399999999998,
          16.5261,
          16.7038,
          16.8815,
          17.0592,
          17.2369,
          17.4146,
          17.592299999999998,
          17.77
         ],
         "xaxis": "x2",
         "y": [
          0.1424376666545868,
          0.1424376666545868,
          0.1424376666545868,
          0.1424376666545868,
          0.1424376666545868,
          0.1424376666545868,
          0.1424376666545868,
          0.1424376666545868,
          0.1424376666545868,
          0.1424376666545868,
          0.1424376666545868,
          0.1424376666545868,
          0.1424376666545868,
          0.1424376666545868,
          0.1424376666545868,
          0.1424376666545868,
          0.1424376666545868,
          0.1424376666545868,
          0.1424376666545868,
          0.1424376666545868,
          0.1265314668416977,
          0.1265314668416977,
          0.1265314668416977,
          0.1265314668416977,
          0.1265314668416977,
          0.1265314668416977,
          0.1265314668416977,
          0.1265314668416977,
          0.1265314668416977,
          0.1265314668416977,
          0.1265314668416977,
          0.1265314668416977,
          0.09828273952007294,
          0.09828273952007294,
          0.09828273952007294,
          0.09828273952007294,
          0.09828273952007294,
          0.09828273952007294,
          0.09326554834842682,
          0.06764167547225952,
          0.06764167547225952,
          0.06992447376251221,
          0.05946344509720802,
          0.10709410160779953,
          0.10709410160779953,
          0.09135815501213074,
          0.05524873360991478,
          0.07861413806676865,
          0.07861413806676865,
          0.07861413806676865,
          0.07861413806676865,
          0.09652211517095566,
          0.147072896361351,
          0.05446118861436844,
          0.08344128727912903,
          0.08344128727912903,
          0.07419634610414505,
          0.07419634610414505,
          0.07419634610414505,
          0.04364490136504173,
          0.04272971302270889,
          0.04272971302270889,
          0.04272971302270889,
          0.03975442051887512,
          0.03975442051887512,
          0.03975442051887512,
          0.03975442051887512,
          0.03975442051887512,
          0.03975442051887512,
          0.03975442051887512,
          0.03975442051887512,
          0.055982381105422974,
          0.055982381105422974,
          0.055982381105422974,
          0.055982381105422974,
          0.025279028341174126,
          0.025279028341174126,
          0.025279028341174126,
          0.025279028341174126,
          0.025279028341174126,
          0.025279028341174126,
          0.025279028341174126,
          0.025279028341174126,
          0.027876749634742737,
          0.027876749634742737,
          0.027876749634742737,
          0.027876749634742737,
          0.027876749634742737,
          0.027876749634742737,
          0.027876749634742737,
          0.027876749634742737,
          0.027876749634742737,
          0.027876749634742737,
          0.027876749634742737,
          0.027876749634742737,
          0.027876749634742737,
          0.027876749634742737,
          0.027876749634742737,
          0.027876749634742737,
          0.027876749634742737,
          0.027876749634742737,
          0.027876749634742737
         ],
         "yaxis": "y2"
        },
        {
         "customdata": [
          [
           "</br>id: 5</br>prediction: 0.147</br>total_intl_minutes: 6.3</br></br>total_day_minutes: 223.4</br>total_day_charge: 37.98</br>total_eve_minutes: 220.6</br>total_eve_charge: 18.75</br>total_night_minutes: 203.9</br>total_night_charge: 9.18</br>total_intl_charge: 1.7</br>_original_yhat_: 0.147072896361351</br>"
          ]
         ],
         "hovertemplate": "%{customdata[0]}<extra></extra>",
         "legendgroup": "",
         "marker": {
          "color": "#371ea3",
          "size": 10,
          "symbol": "circle"
         },
         "mode": "markers",
         "name": "",
         "opacity": 1,
         "orientation": "v",
         "showlegend": false,
         "type": "scatter",
         "x": [
          6.3
         ],
         "xaxis": "x",
         "y": [
          0.147072896361351
         ],
         "yaxis": "y"
        },
        {
         "customdata": [
          [
           "</br>id: 5</br>prediction: 0.147</br>total_night_charge: 9.18</br></br>total_day_minutes: 223.4</br>total_day_charge: 37.98</br>total_eve_minutes: 220.6</br>total_eve_charge: 18.75</br>total_night_minutes: 203.9</br>total_intl_minutes: 6.3</br>total_intl_charge: 1.7</br>_original_yhat_: 0.147072896361351</br>"
          ]
         ],
         "hovertemplate": "%{customdata[0]}<extra></extra>",
         "legendgroup": "",
         "marker": {
          "color": "#371ea3",
          "size": 10,
          "symbol": "circle"
         },
         "mode": "markers",
         "name": "",
         "opacity": 1,
         "orientation": "v",
         "showlegend": false,
         "type": "scatter",
         "x": [
          9.18
         ],
         "xaxis": "x2",
         "y": [
          0.147072896361351
         ],
         "yaxis": "y2"
        }
       ],
       "layout": {
        "annotations": [
         {
          "font": {
           "size": 13
          },
          "showarrow": false,
          "text": "total_intl_minutes",
          "x": 0.2375,
          "xanchor": "center",
          "xref": "paper",
          "y": 1,
          "yanchor": "bottom",
          "yref": "paper"
         },
         {
          "font": {
           "size": 13
          },
          "showarrow": false,
          "text": "total_night_charge",
          "x": 0.7625,
          "xanchor": "center",
          "xref": "paper",
          "y": 1,
          "yanchor": "bottom",
          "yref": "paper"
         },
         {
          "font": {
           "size": 13
          },
          "showarrow": false,
          "text": "prediction",
          "textangle": -90,
          "x": -0.07,
          "xref": "paper",
          "y": 0.5,
          "yref": "paper"
         }
        ],
        "font": {
         "color": "#371ea3"
        },
        "height": 489,
        "hoverlabel": {
         "bgcolor": "rgba(0,0,0,0.8)"
        },
        "hovermode": "closest",
        "legend": {
         "font": {
          "size": 11
         },
         "itemsizing": "constant",
         "orientation": "h",
         "title": {
          "font": {
           "size": 12
          },
          "text": "label"
         },
         "tracegroupgap": 0,
         "x": 1,
         "xanchor": "right",
         "y": 1.0613496932515338,
         "yanchor": "bottom"
        },
        "margin": {
         "b": 71,
         "r": 30,
         "t": 78
        },
        "template": {
         "data": {
          "scatter": [
           {
            "type": "scatter"
           }
          ]
         }
        },
        "title": {
         "font": {
          "size": 16
         },
         "text": "Ceteris Paribus Profiles",
         "x": 0.15
        },
        "xaxis": {
         "anchor": "y",
         "automargin": true,
         "domain": [
          0,
          0.475
         ],
         "fixedrange": true,
         "gridwidth": 2,
         "showticklabels": true,
         "tickcolor": "white",
         "ticklen": 3,
         "ticks": "outside",
         "title": {
          "text": ""
         },
         "type": "linear",
         "zeroline": false
        },
        "xaxis2": {
         "anchor": "y2",
         "automargin": true,
         "domain": [
          0.525,
          1
         ],
         "fixedrange": true,
         "gridwidth": 2,
         "showticklabels": true,
         "tickcolor": "white",
         "ticklen": 3,
         "ticks": "outside",
         "title": {
          "text": ""
         },
         "type": "linear",
         "zeroline": false
        },
        "yaxis": {
         "anchor": "x",
         "automargin": true,
         "domain": [
          0,
          1
         ],
         "fixedrange": true,
         "gridwidth": 2,
         "range": [
          -0.06966971047222614,
          1.0697151720523834
         ],
         "tickcolor": "white",
         "ticklen": 3,
         "ticks": "outside",
         "title": {
          "text": ""
         },
         "type": "linear",
         "zeroline": false
        },
        "yaxis2": {
         "anchor": "x2",
         "automargin": true,
         "domain": [
          0,
          1
         ],
         "fixedrange": true,
         "gridwidth": 2,
         "matches": "y",
         "range": [
          -0.06966971047222614,
          1.0697151720523834
         ],
         "showticklabels": false,
         "tickcolor": "white",
         "ticklen": 3,
         "ticks": "outside",
         "title": {
          "text": ""
         },
         "type": "linear",
         "zeroline": false
        }
       }
      }
     },
     "metadata": {},
     "output_type": "display_data"
    }
   ],
   "source": [
    "cp3 = explainer.predict_profile(new_observation=observation3)\n",
    "cp3.plot(variables=['total_intl_minutes', 'total_night_charge'])"
   ]
  },
  {
   "cell_type": "markdown",
   "metadata": {},
   "source": [
    "In this observation the chances of positive prediction increase with slight reduction or big increase to total international minutes, but total night charge has barely any effect."
   ]
  },
  {
   "cell_type": "markdown",
   "metadata": {},
   "source": [
    "### 3. Find two observations in the data set, such that they have different CP profiles. For example, model predictions are increasing with age for one observation and decreasing with age for another one."
   ]
  },
  {
   "cell_type": "markdown",
   "metadata": {},
   "source": [
    "In the second and third observation above, model predictions are increasing with increases to total night charge in the second observation, but increasing with decreases (though slightly) in the third observation. In the same pair of observations we can also see that CP profiles for total international minutes also heavily differ."
   ]
  },
  {
   "cell_type": "markdown",
   "metadata": {},
   "source": [
    "### 4. Compare CP, which is a local explanation, with PDP, which is a global explanation."
   ]
  },
  {
   "cell_type": "code",
   "execution_count": 72,
   "metadata": {},
   "outputs": [
    {
     "data": {
      "application/vnd.plotly.v1+json": {
       "config": {
        "displaylogo": false,
        "modeBarButtonsToRemove": [
         "sendDataToCloud",
         "lasso2d",
         "autoScale2d",
         "select2d",
         "zoom2d",
         "pan2d",
         "zoomIn2d",
         "zoomOut2d",
         "resetScale2d",
         "toggleSpikelines",
         "hoverCompareCartesian",
         "hoverClosestCartesian"
        ],
        "plotlyServerURL": "https://plot.ly",
        "staticPlot": false,
        "toImageButtonOptions": {
         "height": null,
         "width": null
        }
       },
       "data": [
        {
         "customdata": [
          [
           0.13757450878620148,
           "XGBClassifier",
           "total_intl_minutes"
          ],
          [
           0.13757450878620148,
           "XGBClassifier",
           "total_intl_minutes"
          ],
          [
           0.13757450878620148,
           "XGBClassifier",
           "total_intl_minutes"
          ],
          [
           0.13757450878620148,
           "XGBClassifier",
           "total_intl_minutes"
          ],
          [
           0.13757450878620148,
           "XGBClassifier",
           "total_intl_minutes"
          ],
          [
           0.13757450878620148,
           "XGBClassifier",
           "total_intl_minutes"
          ],
          [
           0.13757450878620148,
           "XGBClassifier",
           "total_intl_minutes"
          ],
          [
           0.13757450878620148,
           "XGBClassifier",
           "total_intl_minutes"
          ],
          [
           0.13757450878620148,
           "XGBClassifier",
           "total_intl_minutes"
          ],
          [
           0.13757450878620148,
           "XGBClassifier",
           "total_intl_minutes"
          ],
          [
           0.13757450878620148,
           "XGBClassifier",
           "total_intl_minutes"
          ],
          [
           0.13757450878620148,
           "XGBClassifier",
           "total_intl_minutes"
          ],
          [
           0.13757450878620148,
           "XGBClassifier",
           "total_intl_minutes"
          ],
          [
           0.13757450878620148,
           "XGBClassifier",
           "total_intl_minutes"
          ],
          [
           0.13757450878620148,
           "XGBClassifier",
           "total_intl_minutes"
          ],
          [
           0.13757450878620148,
           "XGBClassifier",
           "total_intl_minutes"
          ],
          [
           0.13757450878620148,
           "XGBClassifier",
           "total_intl_minutes"
          ],
          [
           0.13757450878620148,
           "XGBClassifier",
           "total_intl_minutes"
          ],
          [
           0.13757450878620148,
           "XGBClassifier",
           "total_intl_minutes"
          ],
          [
           0.13757450878620148,
           "XGBClassifier",
           "total_intl_minutes"
          ],
          [
           0.13757450878620148,
           "XGBClassifier",
           "total_intl_minutes"
          ],
          [
           0.13757450878620148,
           "XGBClassifier",
           "total_intl_minutes"
          ],
          [
           0.13757450878620148,
           "XGBClassifier",
           "total_intl_minutes"
          ],
          [
           0.13757450878620148,
           "XGBClassifier",
           "total_intl_minutes"
          ],
          [
           0.13757450878620148,
           "XGBClassifier",
           "total_intl_minutes"
          ],
          [
           0.13757450878620148,
           "XGBClassifier",
           "total_intl_minutes"
          ],
          [
           0.13757450878620148,
           "XGBClassifier",
           "total_intl_minutes"
          ],
          [
           0.13757450878620148,
           "XGBClassifier",
           "total_intl_minutes"
          ],
          [
           0.13757450878620148,
           "XGBClassifier",
           "total_intl_minutes"
          ],
          [
           0.13757450878620148,
           "XGBClassifier",
           "total_intl_minutes"
          ],
          [
           0.13757450878620148,
           "XGBClassifier",
           "total_intl_minutes"
          ],
          [
           0.13757450878620148,
           "XGBClassifier",
           "total_intl_minutes"
          ],
          [
           0.13757450878620148,
           "XGBClassifier",
           "total_intl_minutes"
          ],
          [
           0.13757450878620148,
           "XGBClassifier",
           "total_intl_minutes"
          ],
          [
           0.13757450878620148,
           "XGBClassifier",
           "total_intl_minutes"
          ],
          [
           0.13757450878620148,
           "XGBClassifier",
           "total_intl_minutes"
          ],
          [
           0.13757450878620148,
           "XGBClassifier",
           "total_intl_minutes"
          ],
          [
           0.13757450878620148,
           "XGBClassifier",
           "total_intl_minutes"
          ],
          [
           0.13757450878620148,
           "XGBClassifier",
           "total_intl_minutes"
          ],
          [
           0.13757450878620148,
           "XGBClassifier",
           "total_intl_minutes"
          ],
          [
           0.13757450878620148,
           "XGBClassifier",
           "total_intl_minutes"
          ],
          [
           0.13757450878620148,
           "XGBClassifier",
           "total_intl_minutes"
          ],
          [
           0.13757450878620148,
           "XGBClassifier",
           "total_intl_minutes"
          ],
          [
           0.13757450878620148,
           "XGBClassifier",
           "total_intl_minutes"
          ],
          [
           0.13757450878620148,
           "XGBClassifier",
           "total_intl_minutes"
          ],
          [
           0.13757450878620148,
           "XGBClassifier",
           "total_intl_minutes"
          ],
          [
           0.13757450878620148,
           "XGBClassifier",
           "total_intl_minutes"
          ],
          [
           0.13757450878620148,
           "XGBClassifier",
           "total_intl_minutes"
          ],
          [
           0.13757450878620148,
           "XGBClassifier",
           "total_intl_minutes"
          ],
          [
           0.13757450878620148,
           "XGBClassifier",
           "total_intl_minutes"
          ],
          [
           0.13757450878620148,
           "XGBClassifier",
           "total_intl_minutes"
          ],
          [
           0.13757450878620148,
           "XGBClassifier",
           "total_intl_minutes"
          ],
          [
           0.13757450878620148,
           "XGBClassifier",
           "total_intl_minutes"
          ],
          [
           0.13757450878620148,
           "XGBClassifier",
           "total_intl_minutes"
          ],
          [
           0.13757450878620148,
           "XGBClassifier",
           "total_intl_minutes"
          ],
          [
           0.13757450878620148,
           "XGBClassifier",
           "total_intl_minutes"
          ],
          [
           0.13757450878620148,
           "XGBClassifier",
           "total_intl_minutes"
          ],
          [
           0.13757450878620148,
           "XGBClassifier",
           "total_intl_minutes"
          ],
          [
           0.13757450878620148,
           "XGBClassifier",
           "total_intl_minutes"
          ],
          [
           0.13757450878620148,
           "XGBClassifier",
           "total_intl_minutes"
          ],
          [
           0.13757450878620148,
           "XGBClassifier",
           "total_intl_minutes"
          ],
          [
           0.13757450878620148,
           "XGBClassifier",
           "total_intl_minutes"
          ],
          [
           0.13757450878620148,
           "XGBClassifier",
           "total_intl_minutes"
          ],
          [
           0.13757450878620148,
           "XGBClassifier",
           "total_intl_minutes"
          ],
          [
           0.13757450878620148,
           "XGBClassifier",
           "total_intl_minutes"
          ],
          [
           0.13757450878620148,
           "XGBClassifier",
           "total_intl_minutes"
          ],
          [
           0.13757450878620148,
           "XGBClassifier",
           "total_intl_minutes"
          ],
          [
           0.13757450878620148,
           "XGBClassifier",
           "total_intl_minutes"
          ],
          [
           0.13757450878620148,
           "XGBClassifier",
           "total_intl_minutes"
          ],
          [
           0.13757450878620148,
           "XGBClassifier",
           "total_intl_minutes"
          ],
          [
           0.13757450878620148,
           "XGBClassifier",
           "total_intl_minutes"
          ],
          [
           0.13757450878620148,
           "XGBClassifier",
           "total_intl_minutes"
          ],
          [
           0.13757450878620148,
           "XGBClassifier",
           "total_intl_minutes"
          ],
          [
           0.13757450878620148,
           "XGBClassifier",
           "total_intl_minutes"
          ],
          [
           0.13757450878620148,
           "XGBClassifier",
           "total_intl_minutes"
          ],
          [
           0.13757450878620148,
           "XGBClassifier",
           "total_intl_minutes"
          ],
          [
           0.13757450878620148,
           "XGBClassifier",
           "total_intl_minutes"
          ],
          [
           0.13757450878620148,
           "XGBClassifier",
           "total_intl_minutes"
          ],
          [
           0.13757450878620148,
           "XGBClassifier",
           "total_intl_minutes"
          ],
          [
           0.13757450878620148,
           "XGBClassifier",
           "total_intl_minutes"
          ],
          [
           0.13757450878620148,
           "XGBClassifier",
           "total_intl_minutes"
          ],
          [
           0.13757450878620148,
           "XGBClassifier",
           "total_intl_minutes"
          ],
          [
           0.13757450878620148,
           "XGBClassifier",
           "total_intl_minutes"
          ],
          [
           0.13757450878620148,
           "XGBClassifier",
           "total_intl_minutes"
          ],
          [
           0.13757450878620148,
           "XGBClassifier",
           "total_intl_minutes"
          ],
          [
           0.13757450878620148,
           "XGBClassifier",
           "total_intl_minutes"
          ],
          [
           0.13757450878620148,
           "XGBClassifier",
           "total_intl_minutes"
          ],
          [
           0.13757450878620148,
           "XGBClassifier",
           "total_intl_minutes"
          ],
          [
           0.13757450878620148,
           "XGBClassifier",
           "total_intl_minutes"
          ],
          [
           0.13757450878620148,
           "XGBClassifier",
           "total_intl_minutes"
          ],
          [
           0.13757450878620148,
           "XGBClassifier",
           "total_intl_minutes"
          ],
          [
           0.13757450878620148,
           "XGBClassifier",
           "total_intl_minutes"
          ],
          [
           0.13757450878620148,
           "XGBClassifier",
           "total_intl_minutes"
          ],
          [
           0.13757450878620148,
           "XGBClassifier",
           "total_intl_minutes"
          ],
          [
           0.13757450878620148,
           "XGBClassifier",
           "total_intl_minutes"
          ],
          [
           0.13757450878620148,
           "XGBClassifier",
           "total_intl_minutes"
          ],
          [
           0.13757450878620148,
           "XGBClassifier",
           "total_intl_minutes"
          ],
          [
           0.13757450878620148,
           "XGBClassifier",
           "total_intl_minutes"
          ],
          [
           0.13757450878620148,
           "XGBClassifier",
           "total_intl_minutes"
          ],
          [
           0.13757450878620148,
           "XGBClassifier",
           "total_intl_minutes"
          ],
          [
           0.13757450878620148,
           "XGBClassifier",
           "total_intl_minutes"
          ]
         ],
         "hovertemplate": "<b>%{hovertext}</b><br><br>prediction=%{y:.3f}<br>mean_prediction=%{customdata[0]:.3f}<extra></extra>",
         "hovertext": [
          "XGBClassifier",
          "XGBClassifier",
          "XGBClassifier",
          "XGBClassifier",
          "XGBClassifier",
          "XGBClassifier",
          "XGBClassifier",
          "XGBClassifier",
          "XGBClassifier",
          "XGBClassifier",
          "XGBClassifier",
          "XGBClassifier",
          "XGBClassifier",
          "XGBClassifier",
          "XGBClassifier",
          "XGBClassifier",
          "XGBClassifier",
          "XGBClassifier",
          "XGBClassifier",
          "XGBClassifier",
          "XGBClassifier",
          "XGBClassifier",
          "XGBClassifier",
          "XGBClassifier",
          "XGBClassifier",
          "XGBClassifier",
          "XGBClassifier",
          "XGBClassifier",
          "XGBClassifier",
          "XGBClassifier",
          "XGBClassifier",
          "XGBClassifier",
          "XGBClassifier",
          "XGBClassifier",
          "XGBClassifier",
          "XGBClassifier",
          "XGBClassifier",
          "XGBClassifier",
          "XGBClassifier",
          "XGBClassifier",
          "XGBClassifier",
          "XGBClassifier",
          "XGBClassifier",
          "XGBClassifier",
          "XGBClassifier",
          "XGBClassifier",
          "XGBClassifier",
          "XGBClassifier",
          "XGBClassifier",
          "XGBClassifier",
          "XGBClassifier",
          "XGBClassifier",
          "XGBClassifier",
          "XGBClassifier",
          "XGBClassifier",
          "XGBClassifier",
          "XGBClassifier",
          "XGBClassifier",
          "XGBClassifier",
          "XGBClassifier",
          "XGBClassifier",
          "XGBClassifier",
          "XGBClassifier",
          "XGBClassifier",
          "XGBClassifier",
          "XGBClassifier",
          "XGBClassifier",
          "XGBClassifier",
          "XGBClassifier",
          "XGBClassifier",
          "XGBClassifier",
          "XGBClassifier",
          "XGBClassifier",
          "XGBClassifier",
          "XGBClassifier",
          "XGBClassifier",
          "XGBClassifier",
          "XGBClassifier",
          "XGBClassifier",
          "XGBClassifier",
          "XGBClassifier",
          "XGBClassifier",
          "XGBClassifier",
          "XGBClassifier",
          "XGBClassifier",
          "XGBClassifier",
          "XGBClassifier",
          "XGBClassifier",
          "XGBClassifier",
          "XGBClassifier",
          "XGBClassifier",
          "XGBClassifier",
          "XGBClassifier",
          "XGBClassifier",
          "XGBClassifier",
          "XGBClassifier",
          "XGBClassifier",
          "XGBClassifier",
          "XGBClassifier",
          "XGBClassifier",
          "XGBClassifier"
         ],
         "legendgroup": "XGBClassifier",
         "line": {
          "color": "#46bac2",
          "dash": "solid",
          "width": 2
         },
         "marker": {
          "symbol": "circle"
         },
         "mode": "lines",
         "name": "XGBClassifier",
         "opacity": 1,
         "orientation": "v",
         "showlegend": true,
         "type": "scatter",
         "x": [
          0,
          0.2,
          0.4,
          0.6000000000000001,
          0.8,
          1,
          1.2000000000000002,
          1.4000000000000001,
          1.6,
          1.8,
          2,
          2.2,
          2.4000000000000004,
          2.6,
          2.8000000000000003,
          3,
          3.2,
          3.4000000000000004,
          3.6,
          3.8000000000000003,
          4,
          4.2,
          4.4,
          4.6000000000000005,
          4.800000000000001,
          5,
          5.2,
          5.4,
          5.6000000000000005,
          5.800000000000001,
          6,
          6.2,
          6.4,
          6.6000000000000005,
          6.800000000000001,
          7,
          7.2,
          7.4,
          7.6000000000000005,
          7.800000000000001,
          8,
          8.200000000000001,
          8.4,
          8.6,
          8.8,
          9,
          9.200000000000001,
          9.4,
          9.600000000000001,
          9.8,
          10,
          10.200000000000001,
          10.4,
          10.600000000000001,
          10.8,
          11,
          11.200000000000001,
          11.4,
          11.600000000000001,
          11.8,
          12,
          12.200000000000001,
          12.4,
          12.600000000000001,
          12.8,
          13,
          13.200000000000001,
          13.4,
          13.600000000000001,
          13.8,
          14,
          14.200000000000001,
          14.4,
          14.600000000000001,
          14.8,
          15,
          15.200000000000001,
          15.4,
          15.600000000000001,
          15.8,
          16,
          16.2,
          16.400000000000002,
          16.6,
          16.8,
          17,
          17.2,
          17.400000000000002,
          17.6,
          17.8,
          18,
          18.2,
          18.400000000000002,
          18.6,
          18.8,
          19,
          19.200000000000003,
          19.400000000000002,
          19.6,
          19.8,
          20
         ],
         "xaxis": "x",
         "y": [
          0.04687654972076416,
          0.04687654972076416,
          0.04687654972076416,
          0.04687654972076416,
          0.04687654972076416,
          0.04687654972076416,
          0.04687654972076416,
          0.04687654972076416,
          0.04687654972076416,
          0.04687654972076416,
          0.04687654972076416,
          0.04687654972076416,
          0.04687654972076416,
          0.04687654972076416,
          0.04687654972076416,
          0.04687654972076416,
          0.04687654972076416,
          0.04687654972076416,
          0.04687654972076416,
          0.04687654972076416,
          0.0844096913933754,
          0.11907787621021271,
          0.09755279868841171,
          0.08208242058753967,
          0.08208242058753967,
          0.08208242058753967,
          0.08208242058753967,
          0.11043726652860641,
          0.11931606382131577,
          0.11910238862037659,
          0.11830811947584152,
          0.12224508821964264,
          0.13272233307361603,
          0.11866810917854309,
          0.10041072964668274,
          0.10197821259498596,
          0.10364968329668045,
          0.1091858446598053,
          0.1068200021982193,
          0.10894355922937393,
          0.10930351167917252,
          0.11885632574558258,
          0.10590919852256775,
          0.10799935460090637,
          0.1523330807685852,
          0.1394243985414505,
          0.14583933353424072,
          0.13788853585720062,
          0.1254168003797531,
          0.10059072822332382,
          0.10877882689237595,
          0.13879650831222534,
          0.13938473165035248,
          0.13855654001235962,
          0.11519040167331696,
          0.13903723657131195,
          0.11743569374084473,
          0.1258826106786728,
          0.12101010978221893,
          0.1106855496764183,
          0.123073510825634,
          0.12399500608444214,
          0.1362999528646469,
          0.11247409880161285,
          0.11454128473997116,
          0.07099197059869766,
          0.1726997047662735,
          0.22136500477790833,
          0.266791433095932,
          0.25325119495391846,
          0.18653500080108643,
          0.17948713898658752,
          0.1890319287776947,
          0.14149098098278046,
          0.18559899926185608,
          0.12096534669399261,
          0.12096534669399261,
          0.16668173670768738,
          0.1611071676015854,
          0.12726064026355743,
          0.0696338340640068,
          0.0696338340640068,
          0.07254187017679214,
          0.2095826268196106,
          0.2659464180469513,
          0.2659464180469513,
          0.25523343682289124,
          0.25523343682289124,
          0.24387486279010773,
          0.24387486279010773,
          0.24387486279010773,
          0.24387486279010773,
          0.25559940934181213,
          0.25559940934181213,
          0.25559940934181213,
          0.25559940934181213,
          0.25559940934181213,
          0.25559940934181213,
          0.25559940934181213,
          0.25559940934181213,
          0.25559940934181213
         ],
         "yaxis": "y"
        },
        {
         "customdata": [
          [
           0.13757450878620148,
           "XGBClassifier",
           "total_night_charge"
          ],
          [
           0.13757450878620148,
           "XGBClassifier",
           "total_night_charge"
          ],
          [
           0.13757450878620148,
           "XGBClassifier",
           "total_night_charge"
          ],
          [
           0.13757450878620148,
           "XGBClassifier",
           "total_night_charge"
          ],
          [
           0.13757450878620148,
           "XGBClassifier",
           "total_night_charge"
          ],
          [
           0.13757450878620148,
           "XGBClassifier",
           "total_night_charge"
          ],
          [
           0.13757450878620148,
           "XGBClassifier",
           "total_night_charge"
          ],
          [
           0.13757450878620148,
           "XGBClassifier",
           "total_night_charge"
          ],
          [
           0.13757450878620148,
           "XGBClassifier",
           "total_night_charge"
          ],
          [
           0.13757450878620148,
           "XGBClassifier",
           "total_night_charge"
          ],
          [
           0.13757450878620148,
           "XGBClassifier",
           "total_night_charge"
          ],
          [
           0.13757450878620148,
           "XGBClassifier",
           "total_night_charge"
          ],
          [
           0.13757450878620148,
           "XGBClassifier",
           "total_night_charge"
          ],
          [
           0.13757450878620148,
           "XGBClassifier",
           "total_night_charge"
          ],
          [
           0.13757450878620148,
           "XGBClassifier",
           "total_night_charge"
          ],
          [
           0.13757450878620148,
           "XGBClassifier",
           "total_night_charge"
          ],
          [
           0.13757450878620148,
           "XGBClassifier",
           "total_night_charge"
          ],
          [
           0.13757450878620148,
           "XGBClassifier",
           "total_night_charge"
          ],
          [
           0.13757450878620148,
           "XGBClassifier",
           "total_night_charge"
          ],
          [
           0.13757450878620148,
           "XGBClassifier",
           "total_night_charge"
          ],
          [
           0.13757450878620148,
           "XGBClassifier",
           "total_night_charge"
          ],
          [
           0.13757450878620148,
           "XGBClassifier",
           "total_night_charge"
          ],
          [
           0.13757450878620148,
           "XGBClassifier",
           "total_night_charge"
          ],
          [
           0.13757450878620148,
           "XGBClassifier",
           "total_night_charge"
          ],
          [
           0.13757450878620148,
           "XGBClassifier",
           "total_night_charge"
          ],
          [
           0.13757450878620148,
           "XGBClassifier",
           "total_night_charge"
          ],
          [
           0.13757450878620148,
           "XGBClassifier",
           "total_night_charge"
          ],
          [
           0.13757450878620148,
           "XGBClassifier",
           "total_night_charge"
          ],
          [
           0.13757450878620148,
           "XGBClassifier",
           "total_night_charge"
          ],
          [
           0.13757450878620148,
           "XGBClassifier",
           "total_night_charge"
          ],
          [
           0.13757450878620148,
           "XGBClassifier",
           "total_night_charge"
          ],
          [
           0.13757450878620148,
           "XGBClassifier",
           "total_night_charge"
          ],
          [
           0.13757450878620148,
           "XGBClassifier",
           "total_night_charge"
          ],
          [
           0.13757450878620148,
           "XGBClassifier",
           "total_night_charge"
          ],
          [
           0.13757450878620148,
           "XGBClassifier",
           "total_night_charge"
          ],
          [
           0.13757450878620148,
           "XGBClassifier",
           "total_night_charge"
          ],
          [
           0.13757450878620148,
           "XGBClassifier",
           "total_night_charge"
          ],
          [
           0.13757450878620148,
           "XGBClassifier",
           "total_night_charge"
          ],
          [
           0.13757450878620148,
           "XGBClassifier",
           "total_night_charge"
          ],
          [
           0.13757450878620148,
           "XGBClassifier",
           "total_night_charge"
          ],
          [
           0.13757450878620148,
           "XGBClassifier",
           "total_night_charge"
          ],
          [
           0.13757450878620148,
           "XGBClassifier",
           "total_night_charge"
          ],
          [
           0.13757450878620148,
           "XGBClassifier",
           "total_night_charge"
          ],
          [
           0.13757450878620148,
           "XGBClassifier",
           "total_night_charge"
          ],
          [
           0.13757450878620148,
           "XGBClassifier",
           "total_night_charge"
          ],
          [
           0.13757450878620148,
           "XGBClassifier",
           "total_night_charge"
          ],
          [
           0.13757450878620148,
           "XGBClassifier",
           "total_night_charge"
          ],
          [
           0.13757450878620148,
           "XGBClassifier",
           "total_night_charge"
          ],
          [
           0.13757450878620148,
           "XGBClassifier",
           "total_night_charge"
          ],
          [
           0.13757450878620148,
           "XGBClassifier",
           "total_night_charge"
          ],
          [
           0.13757450878620148,
           "XGBClassifier",
           "total_night_charge"
          ],
          [
           0.13757450878620148,
           "XGBClassifier",
           "total_night_charge"
          ],
          [
           0.13757450878620148,
           "XGBClassifier",
           "total_night_charge"
          ],
          [
           0.13757450878620148,
           "XGBClassifier",
           "total_night_charge"
          ],
          [
           0.13757450878620148,
           "XGBClassifier",
           "total_night_charge"
          ],
          [
           0.13757450878620148,
           "XGBClassifier",
           "total_night_charge"
          ],
          [
           0.13757450878620148,
           "XGBClassifier",
           "total_night_charge"
          ],
          [
           0.13757450878620148,
           "XGBClassifier",
           "total_night_charge"
          ],
          [
           0.13757450878620148,
           "XGBClassifier",
           "total_night_charge"
          ],
          [
           0.13757450878620148,
           "XGBClassifier",
           "total_night_charge"
          ],
          [
           0.13757450878620148,
           "XGBClassifier",
           "total_night_charge"
          ],
          [
           0.13757450878620148,
           "XGBClassifier",
           "total_night_charge"
          ],
          [
           0.13757450878620148,
           "XGBClassifier",
           "total_night_charge"
          ],
          [
           0.13757450878620148,
           "XGBClassifier",
           "total_night_charge"
          ],
          [
           0.13757450878620148,
           "XGBClassifier",
           "total_night_charge"
          ],
          [
           0.13757450878620148,
           "XGBClassifier",
           "total_night_charge"
          ],
          [
           0.13757450878620148,
           "XGBClassifier",
           "total_night_charge"
          ],
          [
           0.13757450878620148,
           "XGBClassifier",
           "total_night_charge"
          ],
          [
           0.13757450878620148,
           "XGBClassifier",
           "total_night_charge"
          ],
          [
           0.13757450878620148,
           "XGBClassifier",
           "total_night_charge"
          ],
          [
           0.13757450878620148,
           "XGBClassifier",
           "total_night_charge"
          ],
          [
           0.13757450878620148,
           "XGBClassifier",
           "total_night_charge"
          ],
          [
           0.13757450878620148,
           "XGBClassifier",
           "total_night_charge"
          ],
          [
           0.13757450878620148,
           "XGBClassifier",
           "total_night_charge"
          ],
          [
           0.13757450878620148,
           "XGBClassifier",
           "total_night_charge"
          ],
          [
           0.13757450878620148,
           "XGBClassifier",
           "total_night_charge"
          ],
          [
           0.13757450878620148,
           "XGBClassifier",
           "total_night_charge"
          ],
          [
           0.13757450878620148,
           "XGBClassifier",
           "total_night_charge"
          ],
          [
           0.13757450878620148,
           "XGBClassifier",
           "total_night_charge"
          ],
          [
           0.13757450878620148,
           "XGBClassifier",
           "total_night_charge"
          ],
          [
           0.13757450878620148,
           "XGBClassifier",
           "total_night_charge"
          ],
          [
           0.13757450878620148,
           "XGBClassifier",
           "total_night_charge"
          ],
          [
           0.13757450878620148,
           "XGBClassifier",
           "total_night_charge"
          ],
          [
           0.13757450878620148,
           "XGBClassifier",
           "total_night_charge"
          ],
          [
           0.13757450878620148,
           "XGBClassifier",
           "total_night_charge"
          ],
          [
           0.13757450878620148,
           "XGBClassifier",
           "total_night_charge"
          ],
          [
           0.13757450878620148,
           "XGBClassifier",
           "total_night_charge"
          ],
          [
           0.13757450878620148,
           "XGBClassifier",
           "total_night_charge"
          ],
          [
           0.13757450878620148,
           "XGBClassifier",
           "total_night_charge"
          ],
          [
           0.13757450878620148,
           "XGBClassifier",
           "total_night_charge"
          ],
          [
           0.13757450878620148,
           "XGBClassifier",
           "total_night_charge"
          ],
          [
           0.13757450878620148,
           "XGBClassifier",
           "total_night_charge"
          ],
          [
           0.13757450878620148,
           "XGBClassifier",
           "total_night_charge"
          ],
          [
           0.13757450878620148,
           "XGBClassifier",
           "total_night_charge"
          ],
          [
           0.13757450878620148,
           "XGBClassifier",
           "total_night_charge"
          ],
          [
           0.13757450878620148,
           "XGBClassifier",
           "total_night_charge"
          ],
          [
           0.13757450878620148,
           "XGBClassifier",
           "total_night_charge"
          ],
          [
           0.13757450878620148,
           "XGBClassifier",
           "total_night_charge"
          ],
          [
           0.13757450878620148,
           "XGBClassifier",
           "total_night_charge"
          ],
          [
           0.13757450878620148,
           "XGBClassifier",
           "total_night_charge"
          ],
          [
           0.13757450878620148,
           "XGBClassifier",
           "total_night_charge"
          ]
         ],
         "hovertemplate": "<b>%{hovertext}</b><br><br>prediction=%{y:.3f}<br>mean_prediction=%{customdata[0]:.3f}<extra></extra>",
         "hovertext": [
          "XGBClassifier",
          "XGBClassifier",
          "XGBClassifier",
          "XGBClassifier",
          "XGBClassifier",
          "XGBClassifier",
          "XGBClassifier",
          "XGBClassifier",
          "XGBClassifier",
          "XGBClassifier",
          "XGBClassifier",
          "XGBClassifier",
          "XGBClassifier",
          "XGBClassifier",
          "XGBClassifier",
          "XGBClassifier",
          "XGBClassifier",
          "XGBClassifier",
          "XGBClassifier",
          "XGBClassifier",
          "XGBClassifier",
          "XGBClassifier",
          "XGBClassifier",
          "XGBClassifier",
          "XGBClassifier",
          "XGBClassifier",
          "XGBClassifier",
          "XGBClassifier",
          "XGBClassifier",
          "XGBClassifier",
          "XGBClassifier",
          "XGBClassifier",
          "XGBClassifier",
          "XGBClassifier",
          "XGBClassifier",
          "XGBClassifier",
          "XGBClassifier",
          "XGBClassifier",
          "XGBClassifier",
          "XGBClassifier",
          "XGBClassifier",
          "XGBClassifier",
          "XGBClassifier",
          "XGBClassifier",
          "XGBClassifier",
          "XGBClassifier",
          "XGBClassifier",
          "XGBClassifier",
          "XGBClassifier",
          "XGBClassifier",
          "XGBClassifier",
          "XGBClassifier",
          "XGBClassifier",
          "XGBClassifier",
          "XGBClassifier",
          "XGBClassifier",
          "XGBClassifier",
          "XGBClassifier",
          "XGBClassifier",
          "XGBClassifier",
          "XGBClassifier",
          "XGBClassifier",
          "XGBClassifier",
          "XGBClassifier",
          "XGBClassifier",
          "XGBClassifier",
          "XGBClassifier",
          "XGBClassifier",
          "XGBClassifier",
          "XGBClassifier",
          "XGBClassifier",
          "XGBClassifier",
          "XGBClassifier",
          "XGBClassifier",
          "XGBClassifier",
          "XGBClassifier",
          "XGBClassifier",
          "XGBClassifier",
          "XGBClassifier",
          "XGBClassifier",
          "XGBClassifier",
          "XGBClassifier",
          "XGBClassifier",
          "XGBClassifier",
          "XGBClassifier",
          "XGBClassifier",
          "XGBClassifier",
          "XGBClassifier",
          "XGBClassifier",
          "XGBClassifier",
          "XGBClassifier",
          "XGBClassifier",
          "XGBClassifier",
          "XGBClassifier",
          "XGBClassifier",
          "XGBClassifier",
          "XGBClassifier",
          "XGBClassifier",
          "XGBClassifier",
          "XGBClassifier",
          "XGBClassifier"
         ],
         "legendgroup": "XGBClassifier",
         "line": {
          "color": "#46bac2",
          "dash": "solid",
          "width": 2
         },
         "marker": {
          "symbol": "circle"
         },
         "mode": "lines",
         "name": "XGBClassifier",
         "opacity": 1,
         "orientation": "v",
         "showlegend": false,
         "type": "scatter",
         "x": [
          0,
          0.1777,
          0.3554,
          0.5331,
          0.7108,
          0.8885,
          1.0662,
          1.2439,
          1.4216,
          1.5993,
          1.777,
          1.9546999999999999,
          2.1324,
          2.3101,
          2.4878,
          2.6654999999999998,
          2.8432,
          3.0209,
          3.1986,
          3.3763,
          3.554,
          3.7317,
          3.9093999999999998,
          4.0870999999999995,
          4.2648,
          4.4425,
          4.6202,
          4.7979,
          4.9756,
          5.1533,
          5.3309999999999995,
          5.5087,
          5.6864,
          5.8641,
          6.0418,
          6.2195,
          6.3972,
          6.5748999999999995,
          6.7526,
          6.9303,
          7.108,
          7.2857,
          7.4634,
          7.6411,
          7.8187999999999995,
          7.9965,
          8.174199999999999,
          8.3519,
          8.5296,
          8.7073,
          8.885,
          9.0627,
          9.2404,
          9.418099999999999,
          9.5958,
          9.7735,
          9.9512,
          10.1289,
          10.3066,
          10.4843,
          10.661999999999999,
          10.8397,
          11.0174,
          11.1951,
          11.3728,
          11.5505,
          11.7282,
          11.905899999999999,
          12.0836,
          12.2613,
          12.439,
          12.6167,
          12.7944,
          12.9721,
          13.149799999999999,
          13.3275,
          13.5052,
          13.6829,
          13.8606,
          14.0383,
          14.216,
          14.393699999999999,
          14.5714,
          14.7491,
          14.9268,
          15.1045,
          15.2822,
          15.4599,
          15.637599999999999,
          15.8153,
          15.993,
          16.1707,
          16.348399999999998,
          16.5261,
          16.7038,
          16.8815,
          17.0592,
          17.2369,
          17.4146,
          17.592299999999998,
          17.77
         ],
         "xaxis": "x2",
         "y": [
          0.22813931107521057,
          0.22813931107521057,
          0.22813931107521057,
          0.22813931107521057,
          0.22813931107521057,
          0.22813931107521057,
          0.22813931107521057,
          0.22813931107521057,
          0.22813931107521057,
          0.22813931107521057,
          0.22813931107521057,
          0.22813931107521057,
          0.22813931107521057,
          0.22813931107521057,
          0.22813931107521057,
          0.22813931107521057,
          0.22813931107521057,
          0.22813931107521057,
          0.22813931107521057,
          0.22813931107521057,
          0.19236023724079132,
          0.19236023724079132,
          0.19236023724079132,
          0.19236023724079132,
          0.19236023724079132,
          0.19236023724079132,
          0.19236023724079132,
          0.19236023724079132,
          0.19236023724079132,
          0.19236023724079132,
          0.19236023724079132,
          0.19236023724079132,
          0.1671404093503952,
          0.1671404093503952,
          0.1671404093503952,
          0.1671404093503952,
          0.16704602539539337,
          0.16704602539539337,
          0.16363400220870972,
          0.14674562215805054,
          0.14674562215805054,
          0.15209294855594635,
          0.1391916424036026,
          0.1557595133781433,
          0.15858228504657745,
          0.14928840100765228,
          0.12583626806735992,
          0.14240919053554535,
          0.1454651951789856,
          0.1493818312883377,
          0.1493818312883377,
          0.16549614071846008,
          0.1574159413576126,
          0.1702839434146881,
          0.1702839434146881,
          0.14639994502067566,
          0.14639994502067566,
          0.14639994502067566,
          0.1149853989481926,
          0.12856395542621613,
          0.1286146342754364,
          0.1232236698269844,
          0.11743192374706268,
          0.1169339269399643,
          0.1169339269399643,
          0.11275514960289001,
          0.11403215676546097,
          0.11403215676546097,
          0.11403215676546097,
          0.11411551386117935,
          0.11562995612621307,
          0.11562995612621307,
          0.11562995612621307,
          0.11562995612621307,
          0.09241458773612976,
          0.09241458773612976,
          0.09241458773612976,
          0.09241458773612976,
          0.09241458773612976,
          0.09241458773612976,
          0.09241458773612976,
          0.09241458773612976,
          0.08780223876237869,
          0.08780223876237869,
          0.08780223876237869,
          0.08780223876237869,
          0.08780223876237869,
          0.08780223876237869,
          0.08780223876237869,
          0.08780223876237869,
          0.08780223876237869,
          0.08780223876237869,
          0.08780223876237869,
          0.08780223876237869,
          0.08780223876237869,
          0.08780223876237869,
          0.08780223876237869,
          0.08780223876237869,
          0.08780223876237869,
          0.08780223876237869,
          0.08780223876237869
         ],
         "yaxis": "y2"
        }
       ],
       "layout": {
        "annotations": [
         {
          "font": {
           "size": 13
          },
          "showarrow": false,
          "text": "total_intl_minutes",
          "x": 0.2375,
          "xanchor": "center",
          "xref": "paper",
          "y": 1,
          "yanchor": "bottom",
          "yref": "paper"
         },
         {
          "font": {
           "size": 13
          },
          "showarrow": false,
          "text": "total_night_charge",
          "x": 0.7625,
          "xanchor": "center",
          "xref": "paper",
          "y": 1,
          "yanchor": "bottom",
          "yref": "paper"
         },
         {
          "font": {
           "size": 13
          },
          "showarrow": false,
          "text": "prediction",
          "textangle": -90,
          "x": -0.07,
          "xref": "paper",
          "y": 0.5,
          "yref": "paper"
         }
        ],
        "font": {
         "color": "#371ea3"
        },
        "height": 489,
        "hovermode": "x unified",
        "legend": {
         "font": {
          "size": 11
         },
         "itemsizing": "constant",
         "orientation": "h",
         "title": {
          "font": {
           "size": 12
          },
          "text": "label"
         },
         "tracegroupgap": 0,
         "x": 1,
         "xanchor": "right",
         "y": 1.0613496932515338,
         "yanchor": "bottom"
        },
        "margin": {
         "b": 71,
         "r": 30,
         "t": 78
        },
        "template": {
         "data": {
          "scatter": [
           {
            "type": "scatter"
           }
          ]
         }
        },
        "title": {
         "font": {
          "size": 16
         },
         "text": "Aggregated Profiles",
         "x": 0.15
        },
        "xaxis": {
         "anchor": "y",
         "automargin": true,
         "domain": [
          0,
          0.475
         ],
         "fixedrange": true,
         "gridwidth": 2,
         "showticklabels": true,
         "tickcolor": "white",
         "ticklen": 3,
         "ticks": "outside",
         "title": {
          "text": ""
         },
         "type": "linear",
         "zeroline": false
        },
        "xaxis2": {
         "anchor": "y2",
         "automargin": true,
         "domain": [
          0.525,
          1
         ],
         "fixedrange": true,
         "gridwidth": 2,
         "showticklabels": true,
         "tickcolor": "white",
         "ticklen": 3,
         "ticks": "outside",
         "title": {
          "text": ""
         },
         "type": "linear",
         "zeroline": false
        },
        "yaxis": {
         "anchor": "x",
         "automargin": true,
         "domain": [
          0,
          1
         ],
         "fixedrange": true,
         "gridwidth": 2,
         "range": [
          0.024885061383247375,
          0.2887829214334488
         ],
         "tickcolor": "white",
         "ticklen": 3,
         "ticks": "outside",
         "title": {
          "text": ""
         },
         "type": "linear",
         "zeroline": false
        },
        "yaxis2": {
         "anchor": "x2",
         "automargin": true,
         "domain": [
          0,
          1
         ],
         "fixedrange": true,
         "gridwidth": 2,
         "matches": "y",
         "showticklabels": false,
         "tickcolor": "white",
         "ticklen": 3,
         "ticks": "outside",
         "title": {
          "text": ""
         },
         "type": "linear",
         "zeroline": false
        }
       }
      }
     },
     "metadata": {},
     "output_type": "display_data"
    }
   ],
   "source": [
    "pdp = explainer.model_profile()\n",
    "pdp.plot(variables=['total_intl_minutes', 'total_night_charge'])"
   ]
  },
  {
   "cell_type": "markdown",
   "metadata": {},
   "source": [
    "We can see similar profiles to what we saw in the above observations, that is model predictions increase with increases to total international minutes and decreases to total night charge."
   ]
  },
  {
   "cell_type": "markdown",
   "metadata": {},
   "source": [
    "## 5. Compare PDP between between at least two different models."
   ]
  },
  {
   "cell_type": "code",
   "execution_count": 74,
   "metadata": {},
   "outputs": [
    {
     "name": "stdout",
     "output_type": "stream",
     "text": [
      "Preparation of a new explainer is initiated\n",
      "\n",
      "  -> data              : 5000 rows 8 cols\n",
      "  -> target variable   : Parameter 'y' was a pandas.Series. Converted to a numpy.ndarray.\n",
      "  -> target variable   : 5000 values\n",
      "  -> model_class       : sklearn.ensemble._forest.RandomForestClassifier (default)\n",
      "  -> label             : Not specified, model's class short name will be used. (default)\n",
      "  -> predict function  : <function pf_xgboost_classifier_categorical at 0x7f31f4d179c0> will be used\n",
      "  -> predict function  : Accepts only pandas.DataFrame, numpy.ndarray causes problems.\n",
      "  -> predicted values  : min = 0.0, mean = 0.144, max = 0.99\n",
      "  -> model type        : classification will be used (default)\n",
      "  -> residual function : difference between y and yhat (default)\n",
      "  -> residuals         : min = -0.41, mean = -0.00257, max = 0.49\n",
      "  -> model_info        : package sklearn\n",
      "\n",
      "A new explainer has been created!\n"
     ]
    }
   ],
   "source": [
    "import sklearn\n",
    "\n",
    "randomForest = sklearn.ensemble.RandomForestClassifier() # type: ignore\n",
    "randomForest.fit(X, y)\n",
    "rfExplainer = dx.Explainer(randomForest, X, y, predict_function=pf_xgboost_classifier_categorical)"
   ]
  },
  {
   "cell_type": "code",
   "execution_count": 75,
   "metadata": {},
   "outputs": [
    {
     "name": "stderr",
     "output_type": "stream",
     "text": [
      "Calculating ceteris paribus: 100%|██████████| 8/8 [00:00<00:00,  9.59it/s]\n"
     ]
    },
    {
     "data": {
      "application/vnd.plotly.v1+json": {
       "config": {
        "displaylogo": false,
        "modeBarButtonsToRemove": [
         "sendDataToCloud",
         "lasso2d",
         "autoScale2d",
         "select2d",
         "zoom2d",
         "pan2d",
         "zoomIn2d",
         "zoomOut2d",
         "resetScale2d",
         "toggleSpikelines",
         "hoverCompareCartesian",
         "hoverClosestCartesian"
        ],
        "plotlyServerURL": "https://plot.ly",
        "staticPlot": false,
        "toImageButtonOptions": {
         "height": null,
         "width": null
        }
       },
       "data": [
        {
         "customdata": [
          [
           0.15973333333333334,
           "RandomForestClassifier",
           "total_intl_minutes"
          ],
          [
           0.15973333333333334,
           "RandomForestClassifier",
           "total_intl_minutes"
          ],
          [
           0.15973333333333334,
           "RandomForestClassifier",
           "total_intl_minutes"
          ],
          [
           0.15973333333333334,
           "RandomForestClassifier",
           "total_intl_minutes"
          ],
          [
           0.15973333333333334,
           "RandomForestClassifier",
           "total_intl_minutes"
          ],
          [
           0.15973333333333334,
           "RandomForestClassifier",
           "total_intl_minutes"
          ],
          [
           0.15973333333333334,
           "RandomForestClassifier",
           "total_intl_minutes"
          ],
          [
           0.15973333333333334,
           "RandomForestClassifier",
           "total_intl_minutes"
          ],
          [
           0.15973333333333334,
           "RandomForestClassifier",
           "total_intl_minutes"
          ],
          [
           0.15973333333333334,
           "RandomForestClassifier",
           "total_intl_minutes"
          ],
          [
           0.15973333333333334,
           "RandomForestClassifier",
           "total_intl_minutes"
          ],
          [
           0.15973333333333334,
           "RandomForestClassifier",
           "total_intl_minutes"
          ],
          [
           0.15973333333333334,
           "RandomForestClassifier",
           "total_intl_minutes"
          ],
          [
           0.15973333333333334,
           "RandomForestClassifier",
           "total_intl_minutes"
          ],
          [
           0.15973333333333334,
           "RandomForestClassifier",
           "total_intl_minutes"
          ],
          [
           0.15973333333333334,
           "RandomForestClassifier",
           "total_intl_minutes"
          ],
          [
           0.15973333333333334,
           "RandomForestClassifier",
           "total_intl_minutes"
          ],
          [
           0.15973333333333334,
           "RandomForestClassifier",
           "total_intl_minutes"
          ],
          [
           0.15973333333333334,
           "RandomForestClassifier",
           "total_intl_minutes"
          ],
          [
           0.15973333333333334,
           "RandomForestClassifier",
           "total_intl_minutes"
          ],
          [
           0.15973333333333334,
           "RandomForestClassifier",
           "total_intl_minutes"
          ],
          [
           0.15973333333333334,
           "RandomForestClassifier",
           "total_intl_minutes"
          ],
          [
           0.15973333333333334,
           "RandomForestClassifier",
           "total_intl_minutes"
          ],
          [
           0.15973333333333334,
           "RandomForestClassifier",
           "total_intl_minutes"
          ],
          [
           0.15973333333333334,
           "RandomForestClassifier",
           "total_intl_minutes"
          ],
          [
           0.15973333333333334,
           "RandomForestClassifier",
           "total_intl_minutes"
          ],
          [
           0.15973333333333334,
           "RandomForestClassifier",
           "total_intl_minutes"
          ],
          [
           0.15973333333333334,
           "RandomForestClassifier",
           "total_intl_minutes"
          ],
          [
           0.15973333333333334,
           "RandomForestClassifier",
           "total_intl_minutes"
          ],
          [
           0.15973333333333334,
           "RandomForestClassifier",
           "total_intl_minutes"
          ],
          [
           0.15973333333333334,
           "RandomForestClassifier",
           "total_intl_minutes"
          ],
          [
           0.15973333333333334,
           "RandomForestClassifier",
           "total_intl_minutes"
          ],
          [
           0.15973333333333334,
           "RandomForestClassifier",
           "total_intl_minutes"
          ],
          [
           0.15973333333333334,
           "RandomForestClassifier",
           "total_intl_minutes"
          ],
          [
           0.15973333333333334,
           "RandomForestClassifier",
           "total_intl_minutes"
          ],
          [
           0.15973333333333334,
           "RandomForestClassifier",
           "total_intl_minutes"
          ],
          [
           0.15973333333333334,
           "RandomForestClassifier",
           "total_intl_minutes"
          ],
          [
           0.15973333333333334,
           "RandomForestClassifier",
           "total_intl_minutes"
          ],
          [
           0.15973333333333334,
           "RandomForestClassifier",
           "total_intl_minutes"
          ],
          [
           0.15973333333333334,
           "RandomForestClassifier",
           "total_intl_minutes"
          ],
          [
           0.15973333333333334,
           "RandomForestClassifier",
           "total_intl_minutes"
          ],
          [
           0.15973333333333334,
           "RandomForestClassifier",
           "total_intl_minutes"
          ],
          [
           0.15973333333333334,
           "RandomForestClassifier",
           "total_intl_minutes"
          ],
          [
           0.15973333333333334,
           "RandomForestClassifier",
           "total_intl_minutes"
          ],
          [
           0.15973333333333334,
           "RandomForestClassifier",
           "total_intl_minutes"
          ],
          [
           0.15973333333333334,
           "RandomForestClassifier",
           "total_intl_minutes"
          ],
          [
           0.15973333333333334,
           "RandomForestClassifier",
           "total_intl_minutes"
          ],
          [
           0.15973333333333334,
           "RandomForestClassifier",
           "total_intl_minutes"
          ],
          [
           0.15973333333333334,
           "RandomForestClassifier",
           "total_intl_minutes"
          ],
          [
           0.15973333333333334,
           "RandomForestClassifier",
           "total_intl_minutes"
          ],
          [
           0.15973333333333334,
           "RandomForestClassifier",
           "total_intl_minutes"
          ],
          [
           0.15973333333333334,
           "RandomForestClassifier",
           "total_intl_minutes"
          ],
          [
           0.15973333333333334,
           "RandomForestClassifier",
           "total_intl_minutes"
          ],
          [
           0.15973333333333334,
           "RandomForestClassifier",
           "total_intl_minutes"
          ],
          [
           0.15973333333333334,
           "RandomForestClassifier",
           "total_intl_minutes"
          ],
          [
           0.15973333333333334,
           "RandomForestClassifier",
           "total_intl_minutes"
          ],
          [
           0.15973333333333334,
           "RandomForestClassifier",
           "total_intl_minutes"
          ],
          [
           0.15973333333333334,
           "RandomForestClassifier",
           "total_intl_minutes"
          ],
          [
           0.15973333333333334,
           "RandomForestClassifier",
           "total_intl_minutes"
          ],
          [
           0.15973333333333334,
           "RandomForestClassifier",
           "total_intl_minutes"
          ],
          [
           0.15973333333333334,
           "RandomForestClassifier",
           "total_intl_minutes"
          ],
          [
           0.15973333333333334,
           "RandomForestClassifier",
           "total_intl_minutes"
          ],
          [
           0.15973333333333334,
           "RandomForestClassifier",
           "total_intl_minutes"
          ],
          [
           0.15973333333333334,
           "RandomForestClassifier",
           "total_intl_minutes"
          ],
          [
           0.15973333333333334,
           "RandomForestClassifier",
           "total_intl_minutes"
          ],
          [
           0.15973333333333334,
           "RandomForestClassifier",
           "total_intl_minutes"
          ],
          [
           0.15973333333333334,
           "RandomForestClassifier",
           "total_intl_minutes"
          ],
          [
           0.15973333333333334,
           "RandomForestClassifier",
           "total_intl_minutes"
          ],
          [
           0.15973333333333334,
           "RandomForestClassifier",
           "total_intl_minutes"
          ],
          [
           0.15973333333333334,
           "RandomForestClassifier",
           "total_intl_minutes"
          ],
          [
           0.15973333333333334,
           "RandomForestClassifier",
           "total_intl_minutes"
          ],
          [
           0.15973333333333334,
           "RandomForestClassifier",
           "total_intl_minutes"
          ],
          [
           0.15973333333333334,
           "RandomForestClassifier",
           "total_intl_minutes"
          ],
          [
           0.15973333333333334,
           "RandomForestClassifier",
           "total_intl_minutes"
          ],
          [
           0.15973333333333334,
           "RandomForestClassifier",
           "total_intl_minutes"
          ],
          [
           0.15973333333333334,
           "RandomForestClassifier",
           "total_intl_minutes"
          ],
          [
           0.15973333333333334,
           "RandomForestClassifier",
           "total_intl_minutes"
          ],
          [
           0.15973333333333334,
           "RandomForestClassifier",
           "total_intl_minutes"
          ],
          [
           0.15973333333333334,
           "RandomForestClassifier",
           "total_intl_minutes"
          ],
          [
           0.15973333333333334,
           "RandomForestClassifier",
           "total_intl_minutes"
          ],
          [
           0.15973333333333334,
           "RandomForestClassifier",
           "total_intl_minutes"
          ],
          [
           0.15973333333333334,
           "RandomForestClassifier",
           "total_intl_minutes"
          ],
          [
           0.15973333333333334,
           "RandomForestClassifier",
           "total_intl_minutes"
          ],
          [
           0.15973333333333334,
           "RandomForestClassifier",
           "total_intl_minutes"
          ],
          [
           0.15973333333333334,
           "RandomForestClassifier",
           "total_intl_minutes"
          ],
          [
           0.15973333333333334,
           "RandomForestClassifier",
           "total_intl_minutes"
          ],
          [
           0.15973333333333334,
           "RandomForestClassifier",
           "total_intl_minutes"
          ],
          [
           0.15973333333333334,
           "RandomForestClassifier",
           "total_intl_minutes"
          ],
          [
           0.15973333333333334,
           "RandomForestClassifier",
           "total_intl_minutes"
          ],
          [
           0.15973333333333334,
           "RandomForestClassifier",
           "total_intl_minutes"
          ],
          [
           0.15973333333333334,
           "RandomForestClassifier",
           "total_intl_minutes"
          ],
          [
           0.15973333333333334,
           "RandomForestClassifier",
           "total_intl_minutes"
          ],
          [
           0.15973333333333334,
           "RandomForestClassifier",
           "total_intl_minutes"
          ],
          [
           0.15973333333333334,
           "RandomForestClassifier",
           "total_intl_minutes"
          ],
          [
           0.15973333333333334,
           "RandomForestClassifier",
           "total_intl_minutes"
          ],
          [
           0.15973333333333334,
           "RandomForestClassifier",
           "total_intl_minutes"
          ],
          [
           0.15973333333333334,
           "RandomForestClassifier",
           "total_intl_minutes"
          ],
          [
           0.15973333333333334,
           "RandomForestClassifier",
           "total_intl_minutes"
          ],
          [
           0.15973333333333334,
           "RandomForestClassifier",
           "total_intl_minutes"
          ],
          [
           0.15973333333333334,
           "RandomForestClassifier",
           "total_intl_minutes"
          ],
          [
           0.15973333333333334,
           "RandomForestClassifier",
           "total_intl_minutes"
          ]
         ],
         "hovertemplate": "<b>%{hovertext}</b><br><br>prediction=%{y:.3f}<br>mean_prediction=%{customdata[0]:.3f}<extra></extra>",
         "hovertext": [
          "RandomForestClassifier",
          "RandomForestClassifier",
          "RandomForestClassifier",
          "RandomForestClassifier",
          "RandomForestClassifier",
          "RandomForestClassifier",
          "RandomForestClassifier",
          "RandomForestClassifier",
          "RandomForestClassifier",
          "RandomForestClassifier",
          "RandomForestClassifier",
          "RandomForestClassifier",
          "RandomForestClassifier",
          "RandomForestClassifier",
          "RandomForestClassifier",
          "RandomForestClassifier",
          "RandomForestClassifier",
          "RandomForestClassifier",
          "RandomForestClassifier",
          "RandomForestClassifier",
          "RandomForestClassifier",
          "RandomForestClassifier",
          "RandomForestClassifier",
          "RandomForestClassifier",
          "RandomForestClassifier",
          "RandomForestClassifier",
          "RandomForestClassifier",
          "RandomForestClassifier",
          "RandomForestClassifier",
          "RandomForestClassifier",
          "RandomForestClassifier",
          "RandomForestClassifier",
          "RandomForestClassifier",
          "RandomForestClassifier",
          "RandomForestClassifier",
          "RandomForestClassifier",
          "RandomForestClassifier",
          "RandomForestClassifier",
          "RandomForestClassifier",
          "RandomForestClassifier",
          "RandomForestClassifier",
          "RandomForestClassifier",
          "RandomForestClassifier",
          "RandomForestClassifier",
          "RandomForestClassifier",
          "RandomForestClassifier",
          "RandomForestClassifier",
          "RandomForestClassifier",
          "RandomForestClassifier",
          "RandomForestClassifier",
          "RandomForestClassifier",
          "RandomForestClassifier",
          "RandomForestClassifier",
          "RandomForestClassifier",
          "RandomForestClassifier",
          "RandomForestClassifier",
          "RandomForestClassifier",
          "RandomForestClassifier",
          "RandomForestClassifier",
          "RandomForestClassifier",
          "RandomForestClassifier",
          "RandomForestClassifier",
          "RandomForestClassifier",
          "RandomForestClassifier",
          "RandomForestClassifier",
          "RandomForestClassifier",
          "RandomForestClassifier",
          "RandomForestClassifier",
          "RandomForestClassifier",
          "RandomForestClassifier",
          "RandomForestClassifier",
          "RandomForestClassifier",
          "RandomForestClassifier",
          "RandomForestClassifier",
          "RandomForestClassifier",
          "RandomForestClassifier",
          "RandomForestClassifier",
          "RandomForestClassifier",
          "RandomForestClassifier",
          "RandomForestClassifier",
          "RandomForestClassifier",
          "RandomForestClassifier",
          "RandomForestClassifier",
          "RandomForestClassifier",
          "RandomForestClassifier",
          "RandomForestClassifier",
          "RandomForestClassifier",
          "RandomForestClassifier",
          "RandomForestClassifier",
          "RandomForestClassifier",
          "RandomForestClassifier",
          "RandomForestClassifier",
          "RandomForestClassifier",
          "RandomForestClassifier",
          "RandomForestClassifier",
          "RandomForestClassifier",
          "RandomForestClassifier",
          "RandomForestClassifier",
          "RandomForestClassifier",
          "RandomForestClassifier",
          "RandomForestClassifier"
         ],
         "legendgroup": "RandomForestClassifier",
         "line": {
          "color": "#46bac2",
          "dash": "solid",
          "width": 2
         },
         "marker": {
          "symbol": "circle"
         },
         "mode": "lines",
         "name": "RandomForestClassifier",
         "opacity": 1,
         "orientation": "v",
         "showlegend": true,
         "type": "scatter",
         "x": [
          0,
          0.2,
          0.4,
          0.6000000000000001,
          0.8,
          1,
          1.2000000000000002,
          1.4000000000000001,
          1.6,
          1.8,
          2,
          2.2,
          2.4000000000000004,
          2.6,
          2.8000000000000003,
          3,
          3.2,
          3.4000000000000004,
          3.6,
          3.8000000000000003,
          4,
          4.2,
          4.4,
          4.6000000000000005,
          4.800000000000001,
          5,
          5.2,
          5.4,
          5.6000000000000005,
          5.800000000000001,
          6,
          6.2,
          6.4,
          6.6000000000000005,
          6.800000000000001,
          7,
          7.2,
          7.4,
          7.6000000000000005,
          7.800000000000001,
          8,
          8.200000000000001,
          8.4,
          8.6,
          8.8,
          9,
          9.200000000000001,
          9.4,
          9.600000000000001,
          9.8,
          10,
          10.200000000000001,
          10.4,
          10.600000000000001,
          10.8,
          11,
          11.200000000000001,
          11.4,
          11.600000000000001,
          11.8,
          12,
          12.200000000000001,
          12.4,
          12.600000000000001,
          12.8,
          13,
          13.200000000000001,
          13.4,
          13.600000000000001,
          13.8,
          14,
          14.200000000000001,
          14.4,
          14.600000000000001,
          14.8,
          15,
          15.200000000000001,
          15.4,
          15.600000000000001,
          15.8,
          16,
          16.2,
          16.400000000000002,
          16.6,
          16.8,
          17,
          17.2,
          17.400000000000002,
          17.6,
          17.8,
          18,
          18.2,
          18.400000000000002,
          18.6,
          18.8,
          19,
          19.200000000000003,
          19.400000000000002,
          19.6,
          19.8,
          20
         ],
         "xaxis": "x",
         "y": [
          0.17729999999999999,
          0.17729999999999999,
          0.17663333333333334,
          0.17663333333333334,
          0.17663333333333334,
          0.17663333333333334,
          0.17603333333333335,
          0.17603333333333335,
          0.17603333333333335,
          0.17470000000000002,
          0.1744666666666667,
          0.1749,
          0.1749,
          0.1749,
          0.175,
          0.1751,
          0.17543333333333333,
          0.17566666666666667,
          0.17566666666666667,
          0.17566666666666667,
          0.17909999999999998,
          0.178,
          0.1753,
          0.175,
          0.1735,
          0.17473333333333335,
          0.1749,
          0.1771,
          0.17636666666666664,
          0.17306666666666667,
          0.1716,
          0.17136666666666667,
          0.16923333333333335,
          0.1676,
          0.1638666666666667,
          0.16366666666666668,
          0.1625,
          0.1654,
          0.16556666666666667,
          0.16643333333333332,
          0.1651,
          0.16633333333333333,
          0.16586666666666666,
          0.16783333333333333,
          0.17016666666666666,
          0.17276666666666665,
          0.1744666666666667,
          0.17083333333333334,
          0.1696,
          0.1647,
          0.16513333333333333,
          0.16743333333333332,
          0.16943333333333332,
          0.17056666666666667,
          0.16693333333333332,
          0.16726666666666667,
          0.1663,
          0.16596666666666665,
          0.1688,
          0.16946666666666668,
          0.17286666666666667,
          0.17270000000000002,
          0.17186666666666667,
          0.1701,
          0.16953333333333334,
          0.17196666666666668,
          0.19563333333333333,
          0.21406666666666666,
          0.22680000000000003,
          0.22763333333333335,
          0.2182666666666667,
          0.22106666666666663,
          0.22466666666666668,
          0.21690000000000004,
          0.2086,
          0.20886666666666664,
          0.21106666666666668,
          0.21773333333333336,
          0.21699999999999997,
          0.21456666666666668,
          0.21353333333333335,
          0.21363333333333334,
          0.21416666666666667,
          0.22483333333333333,
          0.2364,
          0.23670000000000002,
          0.23826666666666668,
          0.23876666666666665,
          0.24166666666666667,
          0.2401,
          0.24053333333333332,
          0.24053333333333332,
          0.2409666666666667,
          0.2409666666666667,
          0.24116666666666664,
          0.24396666666666667,
          0.2642333333333333,
          0.2577,
          0.25916666666666666,
          0.25916666666666666,
          0.27253333333333335
         ],
         "yaxis": "y"
        },
        {
         "customdata": [
          [
           0.15973333333333334,
           "RandomForestClassifier",
           "total_night_charge"
          ],
          [
           0.15973333333333334,
           "RandomForestClassifier",
           "total_night_charge"
          ],
          [
           0.15973333333333334,
           "RandomForestClassifier",
           "total_night_charge"
          ],
          [
           0.15973333333333334,
           "RandomForestClassifier",
           "total_night_charge"
          ],
          [
           0.15973333333333334,
           "RandomForestClassifier",
           "total_night_charge"
          ],
          [
           0.15973333333333334,
           "RandomForestClassifier",
           "total_night_charge"
          ],
          [
           0.15973333333333334,
           "RandomForestClassifier",
           "total_night_charge"
          ],
          [
           0.15973333333333334,
           "RandomForestClassifier",
           "total_night_charge"
          ],
          [
           0.15973333333333334,
           "RandomForestClassifier",
           "total_night_charge"
          ],
          [
           0.15973333333333334,
           "RandomForestClassifier",
           "total_night_charge"
          ],
          [
           0.15973333333333334,
           "RandomForestClassifier",
           "total_night_charge"
          ],
          [
           0.15973333333333334,
           "RandomForestClassifier",
           "total_night_charge"
          ],
          [
           0.15973333333333334,
           "RandomForestClassifier",
           "total_night_charge"
          ],
          [
           0.15973333333333334,
           "RandomForestClassifier",
           "total_night_charge"
          ],
          [
           0.15973333333333334,
           "RandomForestClassifier",
           "total_night_charge"
          ],
          [
           0.15973333333333334,
           "RandomForestClassifier",
           "total_night_charge"
          ],
          [
           0.15973333333333334,
           "RandomForestClassifier",
           "total_night_charge"
          ],
          [
           0.15973333333333334,
           "RandomForestClassifier",
           "total_night_charge"
          ],
          [
           0.15973333333333334,
           "RandomForestClassifier",
           "total_night_charge"
          ],
          [
           0.15973333333333334,
           "RandomForestClassifier",
           "total_night_charge"
          ],
          [
           0.15973333333333334,
           "RandomForestClassifier",
           "total_night_charge"
          ],
          [
           0.15973333333333334,
           "RandomForestClassifier",
           "total_night_charge"
          ],
          [
           0.15973333333333334,
           "RandomForestClassifier",
           "total_night_charge"
          ],
          [
           0.15973333333333334,
           "RandomForestClassifier",
           "total_night_charge"
          ],
          [
           0.15973333333333334,
           "RandomForestClassifier",
           "total_night_charge"
          ],
          [
           0.15973333333333334,
           "RandomForestClassifier",
           "total_night_charge"
          ],
          [
           0.15973333333333334,
           "RandomForestClassifier",
           "total_night_charge"
          ],
          [
           0.15973333333333334,
           "RandomForestClassifier",
           "total_night_charge"
          ],
          [
           0.15973333333333334,
           "RandomForestClassifier",
           "total_night_charge"
          ],
          [
           0.15973333333333334,
           "RandomForestClassifier",
           "total_night_charge"
          ],
          [
           0.15973333333333334,
           "RandomForestClassifier",
           "total_night_charge"
          ],
          [
           0.15973333333333334,
           "RandomForestClassifier",
           "total_night_charge"
          ],
          [
           0.15973333333333334,
           "RandomForestClassifier",
           "total_night_charge"
          ],
          [
           0.15973333333333334,
           "RandomForestClassifier",
           "total_night_charge"
          ],
          [
           0.15973333333333334,
           "RandomForestClassifier",
           "total_night_charge"
          ],
          [
           0.15973333333333334,
           "RandomForestClassifier",
           "total_night_charge"
          ],
          [
           0.15973333333333334,
           "RandomForestClassifier",
           "total_night_charge"
          ],
          [
           0.15973333333333334,
           "RandomForestClassifier",
           "total_night_charge"
          ],
          [
           0.15973333333333334,
           "RandomForestClassifier",
           "total_night_charge"
          ],
          [
           0.15973333333333334,
           "RandomForestClassifier",
           "total_night_charge"
          ],
          [
           0.15973333333333334,
           "RandomForestClassifier",
           "total_night_charge"
          ],
          [
           0.15973333333333334,
           "RandomForestClassifier",
           "total_night_charge"
          ],
          [
           0.15973333333333334,
           "RandomForestClassifier",
           "total_night_charge"
          ],
          [
           0.15973333333333334,
           "RandomForestClassifier",
           "total_night_charge"
          ],
          [
           0.15973333333333334,
           "RandomForestClassifier",
           "total_night_charge"
          ],
          [
           0.15973333333333334,
           "RandomForestClassifier",
           "total_night_charge"
          ],
          [
           0.15973333333333334,
           "RandomForestClassifier",
           "total_night_charge"
          ],
          [
           0.15973333333333334,
           "RandomForestClassifier",
           "total_night_charge"
          ],
          [
           0.15973333333333334,
           "RandomForestClassifier",
           "total_night_charge"
          ],
          [
           0.15973333333333334,
           "RandomForestClassifier",
           "total_night_charge"
          ],
          [
           0.15973333333333334,
           "RandomForestClassifier",
           "total_night_charge"
          ],
          [
           0.15973333333333334,
           "RandomForestClassifier",
           "total_night_charge"
          ],
          [
           0.15973333333333334,
           "RandomForestClassifier",
           "total_night_charge"
          ],
          [
           0.15973333333333334,
           "RandomForestClassifier",
           "total_night_charge"
          ],
          [
           0.15973333333333334,
           "RandomForestClassifier",
           "total_night_charge"
          ],
          [
           0.15973333333333334,
           "RandomForestClassifier",
           "total_night_charge"
          ],
          [
           0.15973333333333334,
           "RandomForestClassifier",
           "total_night_charge"
          ],
          [
           0.15973333333333334,
           "RandomForestClassifier",
           "total_night_charge"
          ],
          [
           0.15973333333333334,
           "RandomForestClassifier",
           "total_night_charge"
          ],
          [
           0.15973333333333334,
           "RandomForestClassifier",
           "total_night_charge"
          ],
          [
           0.15973333333333334,
           "RandomForestClassifier",
           "total_night_charge"
          ],
          [
           0.15973333333333334,
           "RandomForestClassifier",
           "total_night_charge"
          ],
          [
           0.15973333333333334,
           "RandomForestClassifier",
           "total_night_charge"
          ],
          [
           0.15973333333333334,
           "RandomForestClassifier",
           "total_night_charge"
          ],
          [
           0.15973333333333334,
           "RandomForestClassifier",
           "total_night_charge"
          ],
          [
           0.15973333333333334,
           "RandomForestClassifier",
           "total_night_charge"
          ],
          [
           0.15973333333333334,
           "RandomForestClassifier",
           "total_night_charge"
          ],
          [
           0.15973333333333334,
           "RandomForestClassifier",
           "total_night_charge"
          ],
          [
           0.15973333333333334,
           "RandomForestClassifier",
           "total_night_charge"
          ],
          [
           0.15973333333333334,
           "RandomForestClassifier",
           "total_night_charge"
          ],
          [
           0.15973333333333334,
           "RandomForestClassifier",
           "total_night_charge"
          ],
          [
           0.15973333333333334,
           "RandomForestClassifier",
           "total_night_charge"
          ],
          [
           0.15973333333333334,
           "RandomForestClassifier",
           "total_night_charge"
          ],
          [
           0.15973333333333334,
           "RandomForestClassifier",
           "total_night_charge"
          ],
          [
           0.15973333333333334,
           "RandomForestClassifier",
           "total_night_charge"
          ],
          [
           0.15973333333333334,
           "RandomForestClassifier",
           "total_night_charge"
          ],
          [
           0.15973333333333334,
           "RandomForestClassifier",
           "total_night_charge"
          ],
          [
           0.15973333333333334,
           "RandomForestClassifier",
           "total_night_charge"
          ],
          [
           0.15973333333333334,
           "RandomForestClassifier",
           "total_night_charge"
          ],
          [
           0.15973333333333334,
           "RandomForestClassifier",
           "total_night_charge"
          ],
          [
           0.15973333333333334,
           "RandomForestClassifier",
           "total_night_charge"
          ],
          [
           0.15973333333333334,
           "RandomForestClassifier",
           "total_night_charge"
          ],
          [
           0.15973333333333334,
           "RandomForestClassifier",
           "total_night_charge"
          ],
          [
           0.15973333333333334,
           "RandomForestClassifier",
           "total_night_charge"
          ],
          [
           0.15973333333333334,
           "RandomForestClassifier",
           "total_night_charge"
          ],
          [
           0.15973333333333334,
           "RandomForestClassifier",
           "total_night_charge"
          ],
          [
           0.15973333333333334,
           "RandomForestClassifier",
           "total_night_charge"
          ],
          [
           0.15973333333333334,
           "RandomForestClassifier",
           "total_night_charge"
          ],
          [
           0.15973333333333334,
           "RandomForestClassifier",
           "total_night_charge"
          ],
          [
           0.15973333333333334,
           "RandomForestClassifier",
           "total_night_charge"
          ],
          [
           0.15973333333333334,
           "RandomForestClassifier",
           "total_night_charge"
          ],
          [
           0.15973333333333334,
           "RandomForestClassifier",
           "total_night_charge"
          ],
          [
           0.15973333333333334,
           "RandomForestClassifier",
           "total_night_charge"
          ],
          [
           0.15973333333333334,
           "RandomForestClassifier",
           "total_night_charge"
          ],
          [
           0.15973333333333334,
           "RandomForestClassifier",
           "total_night_charge"
          ],
          [
           0.15973333333333334,
           "RandomForestClassifier",
           "total_night_charge"
          ],
          [
           0.15973333333333334,
           "RandomForestClassifier",
           "total_night_charge"
          ],
          [
           0.15973333333333334,
           "RandomForestClassifier",
           "total_night_charge"
          ],
          [
           0.15973333333333334,
           "RandomForestClassifier",
           "total_night_charge"
          ],
          [
           0.15973333333333334,
           "RandomForestClassifier",
           "total_night_charge"
          ],
          [
           0.15973333333333334,
           "RandomForestClassifier",
           "total_night_charge"
          ]
         ],
         "hovertemplate": "<b>%{hovertext}</b><br><br>prediction=%{y:.3f}<br>mean_prediction=%{customdata[0]:.3f}<extra></extra>",
         "hovertext": [
          "RandomForestClassifier",
          "RandomForestClassifier",
          "RandomForestClassifier",
          "RandomForestClassifier",
          "RandomForestClassifier",
          "RandomForestClassifier",
          "RandomForestClassifier",
          "RandomForestClassifier",
          "RandomForestClassifier",
          "RandomForestClassifier",
          "RandomForestClassifier",
          "RandomForestClassifier",
          "RandomForestClassifier",
          "RandomForestClassifier",
          "RandomForestClassifier",
          "RandomForestClassifier",
          "RandomForestClassifier",
          "RandomForestClassifier",
          "RandomForestClassifier",
          "RandomForestClassifier",
          "RandomForestClassifier",
          "RandomForestClassifier",
          "RandomForestClassifier",
          "RandomForestClassifier",
          "RandomForestClassifier",
          "RandomForestClassifier",
          "RandomForestClassifier",
          "RandomForestClassifier",
          "RandomForestClassifier",
          "RandomForestClassifier",
          "RandomForestClassifier",
          "RandomForestClassifier",
          "RandomForestClassifier",
          "RandomForestClassifier",
          "RandomForestClassifier",
          "RandomForestClassifier",
          "RandomForestClassifier",
          "RandomForestClassifier",
          "RandomForestClassifier",
          "RandomForestClassifier",
          "RandomForestClassifier",
          "RandomForestClassifier",
          "RandomForestClassifier",
          "RandomForestClassifier",
          "RandomForestClassifier",
          "RandomForestClassifier",
          "RandomForestClassifier",
          "RandomForestClassifier",
          "RandomForestClassifier",
          "RandomForestClassifier",
          "RandomForestClassifier",
          "RandomForestClassifier",
          "RandomForestClassifier",
          "RandomForestClassifier",
          "RandomForestClassifier",
          "RandomForestClassifier",
          "RandomForestClassifier",
          "RandomForestClassifier",
          "RandomForestClassifier",
          "RandomForestClassifier",
          "RandomForestClassifier",
          "RandomForestClassifier",
          "RandomForestClassifier",
          "RandomForestClassifier",
          "RandomForestClassifier",
          "RandomForestClassifier",
          "RandomForestClassifier",
          "RandomForestClassifier",
          "RandomForestClassifier",
          "RandomForestClassifier",
          "RandomForestClassifier",
          "RandomForestClassifier",
          "RandomForestClassifier",
          "RandomForestClassifier",
          "RandomForestClassifier",
          "RandomForestClassifier",
          "RandomForestClassifier",
          "RandomForestClassifier",
          "RandomForestClassifier",
          "RandomForestClassifier",
          "RandomForestClassifier",
          "RandomForestClassifier",
          "RandomForestClassifier",
          "RandomForestClassifier",
          "RandomForestClassifier",
          "RandomForestClassifier",
          "RandomForestClassifier",
          "RandomForestClassifier",
          "RandomForestClassifier",
          "RandomForestClassifier",
          "RandomForestClassifier",
          "RandomForestClassifier",
          "RandomForestClassifier",
          "RandomForestClassifier",
          "RandomForestClassifier",
          "RandomForestClassifier",
          "RandomForestClassifier",
          "RandomForestClassifier",
          "RandomForestClassifier",
          "RandomForestClassifier",
          "RandomForestClassifier"
         ],
         "legendgroup": "RandomForestClassifier",
         "line": {
          "color": "#46bac2",
          "dash": "solid",
          "width": 2
         },
         "marker": {
          "symbol": "circle"
         },
         "mode": "lines",
         "name": "RandomForestClassifier",
         "opacity": 1,
         "orientation": "v",
         "showlegend": false,
         "type": "scatter",
         "x": [
          0,
          0.1777,
          0.3554,
          0.5331,
          0.7108,
          0.8885,
          1.0662,
          1.2439,
          1.4216,
          1.5993,
          1.777,
          1.9546999999999999,
          2.1324,
          2.3101,
          2.4878,
          2.6654999999999998,
          2.8432,
          3.0209,
          3.1986,
          3.3763,
          3.554,
          3.7317,
          3.9093999999999998,
          4.0870999999999995,
          4.2648,
          4.4425,
          4.6202,
          4.7979,
          4.9756,
          5.1533,
          5.3309999999999995,
          5.5087,
          5.6864,
          5.8641,
          6.0418,
          6.2195,
          6.3972,
          6.5748999999999995,
          6.7526,
          6.9303,
          7.108,
          7.2857,
          7.4634,
          7.6411,
          7.8187999999999995,
          7.9965,
          8.174199999999999,
          8.3519,
          8.5296,
          8.7073,
          8.885,
          9.0627,
          9.2404,
          9.418099999999999,
          9.5958,
          9.7735,
          9.9512,
          10.1289,
          10.3066,
          10.4843,
          10.661999999999999,
          10.8397,
          11.0174,
          11.1951,
          11.3728,
          11.5505,
          11.7282,
          11.905899999999999,
          12.0836,
          12.2613,
          12.439,
          12.6167,
          12.7944,
          12.9721,
          13.149799999999999,
          13.3275,
          13.5052,
          13.6829,
          13.8606,
          14.0383,
          14.216,
          14.393699999999999,
          14.5714,
          14.7491,
          14.9268,
          15.1045,
          15.2822,
          15.4599,
          15.637599999999999,
          15.8153,
          15.993,
          16.1707,
          16.348399999999998,
          16.5261,
          16.7038,
          16.8815,
          17.0592,
          17.2369,
          17.4146,
          17.592299999999998,
          17.77
         ],
         "xaxis": "x2",
         "y": [
          0.27070000000000005,
          0.27070000000000005,
          0.27070000000000005,
          0.27070000000000005,
          0.27070000000000005,
          0.27070000000000005,
          0.27680000000000005,
          0.27680000000000005,
          0.27680000000000005,
          0.27680000000000005,
          0.2780333333333333,
          0.2780333333333333,
          0.2798333333333333,
          0.2588,
          0.2495666666666667,
          0.2511,
          0.23186666666666667,
          0.22926666666666667,
          0.23060000000000003,
          0.21699999999999997,
          0.21256666666666668,
          0.20866666666666667,
          0.20613333333333334,
          0.20576666666666668,
          0.2042,
          0.20423333333333335,
          0.20253333333333332,
          0.20143333333333333,
          0.19986666666666666,
          0.20053333333333334,
          0.20636666666666667,
          0.21103333333333335,
          0.20793333333333333,
          0.2109,
          0.208,
          0.20786666666666667,
          0.20096666666666665,
          0.19669999999999999,
          0.1965,
          0.19526666666666667,
          0.19393333333333332,
          0.1957,
          0.19556666666666667,
          0.1968,
          0.19683333333333333,
          0.1900666666666667,
          0.19169999999999998,
          0.19003333333333333,
          0.18993333333333334,
          0.18846666666666667,
          0.19026666666666667,
          0.19496666666666668,
          0.19713333333333333,
          0.19799999999999998,
          0.19683333333333333,
          0.19126666666666667,
          0.193,
          0.19306666666666666,
          0.18896666666666667,
          0.1971,
          0.19419999999999998,
          0.19813333333333333,
          0.20043333333333335,
          0.20266666666666666,
          0.2055,
          0.20693333333333333,
          0.2135,
          0.2156,
          0.21496666666666664,
          0.2173,
          0.22579999999999997,
          0.22466666666666668,
          0.22516666666666665,
          0.22506666666666666,
          0.22246666666666665,
          0.23396666666666666,
          0.22863333333333336,
          0.23163333333333333,
          0.23329999999999998,
          0.23329999999999998,
          0.23416666666666666,
          0.24810000000000001,
          0.2593666666666667,
          0.2510666666666667,
          0.25926666666666665,
          0.26266666666666666,
          0.26253333333333334,
          0.26266666666666666,
          0.2627,
          0.2622666666666667,
          0.26306666666666667,
          0.26306666666666667,
          0.26199999999999996,
          0.26199999999999996,
          0.2619666666666667,
          0.2695666666666667,
          0.2695666666666667,
          0.2758,
          0.2758,
          0.2758,
          0.2758
         ],
         "yaxis": "y2"
        }
       ],
       "layout": {
        "annotations": [
         {
          "font": {
           "size": 13
          },
          "showarrow": false,
          "text": "total_intl_minutes",
          "x": 0.2375,
          "xanchor": "center",
          "xref": "paper",
          "y": 1,
          "yanchor": "bottom",
          "yref": "paper"
         },
         {
          "font": {
           "size": 13
          },
          "showarrow": false,
          "text": "total_night_charge",
          "x": 0.7625,
          "xanchor": "center",
          "xref": "paper",
          "y": 1,
          "yanchor": "bottom",
          "yref": "paper"
         },
         {
          "font": {
           "size": 13
          },
          "showarrow": false,
          "text": "prediction",
          "textangle": -90,
          "x": -0.07,
          "xref": "paper",
          "y": 0.5,
          "yref": "paper"
         }
        ],
        "font": {
         "color": "#371ea3"
        },
        "height": 489,
        "hovermode": "x unified",
        "legend": {
         "font": {
          "size": 11
         },
         "itemsizing": "constant",
         "orientation": "h",
         "title": {
          "font": {
           "size": 12
          },
          "text": "label"
         },
         "tracegroupgap": 0,
         "x": 1,
         "xanchor": "right",
         "y": 1.0613496932515338,
         "yanchor": "bottom"
        },
        "margin": {
         "b": 71,
         "r": 30,
         "t": 78
        },
        "template": {
         "data": {
          "scatter": [
           {
            "type": "scatter"
           }
          ]
         }
        },
        "title": {
         "font": {
          "size": 16
         },
         "text": "Aggregated Profiles",
         "x": 0.15
        },
        "xaxis": {
         "anchor": "y",
         "automargin": true,
         "domain": [
          0,
          0.475
         ],
         "fixedrange": true,
         "gridwidth": 2,
         "showticklabels": true,
         "tickcolor": "white",
         "ticklen": 3,
         "ticks": "outside",
         "title": {
          "text": ""
         },
         "type": "linear",
         "zeroline": false
        },
        "xaxis2": {
         "anchor": "y2",
         "automargin": true,
         "domain": [
          0.525,
          1
         ],
         "fixedrange": true,
         "gridwidth": 2,
         "showticklabels": true,
         "tickcolor": "white",
         "ticklen": 3,
         "ticks": "outside",
         "title": {
          "text": ""
         },
         "type": "linear",
         "zeroline": false
        },
        "yaxis": {
         "anchor": "x",
         "automargin": true,
         "domain": [
          0,
          1
         ],
         "fixedrange": true,
         "gridwidth": 2,
         "range": [
          0.15076666666666666,
          0.29156666666666664
         ],
         "tickcolor": "white",
         "ticklen": 3,
         "ticks": "outside",
         "title": {
          "text": ""
         },
         "type": "linear",
         "zeroline": false
        },
        "yaxis2": {
         "anchor": "x2",
         "automargin": true,
         "domain": [
          0,
          1
         ],
         "fixedrange": true,
         "gridwidth": 2,
         "matches": "y",
         "showticklabels": false,
         "tickcolor": "white",
         "ticklen": 3,
         "ticks": "outside",
         "title": {
          "text": ""
         },
         "type": "linear",
         "zeroline": false
        }
       }
      }
     },
     "metadata": {},
     "output_type": "display_data"
    }
   ],
   "source": [
    "rfpdp = rfExplainer.model_profile()\n",
    "rfpdp.plot(variables=['total_intl_minutes', 'total_night_charge'])"
   ]
  },
  {
   "cell_type": "markdown",
   "metadata": {},
   "source": [
    "In Random Forest Classifier, the PDP is similar in the international minutes variable, but very different with night charge - instead of decreasing slope, we have an \"U\" shaped plot."
   ]
  }
 ],
 "metadata": {
  "kernelspec": {
   "display_name": ".venv",
   "language": "python",
   "name": "python3"
  },
  "language_info": {
   "codemirror_mode": {
    "name": "ipython",
    "version": 3
   },
   "file_extension": ".py",
   "mimetype": "text/x-python",
   "name": "python",
   "nbconvert_exporter": "python",
   "pygments_lexer": "ipython3",
   "version": "3.11.5"
  }
 },
 "nbformat": 4,
 "nbformat_minor": 2
}
